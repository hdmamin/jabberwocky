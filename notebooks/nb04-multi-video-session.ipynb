{
 "cells": [
  {
   "cell_type": "markdown",
   "metadata": {},
   "source": [
    "# Summary\n",
    "\n",
    "Start chaining together punctuation and another task."
   ]
  },
  {
   "cell_type": "code",
   "execution_count": 1,
   "metadata": {
    "ExecuteTime": {
     "end_time": "2021-05-13T02:58:27.749803Z",
     "start_time": "2021-05-13T02:58:27.735448Z"
    }
   },
   "outputs": [
    {
     "name": "stdout",
     "output_type": "stream",
     "text": [
      "The autoreload extension is already loaded. To reload it, use:\n",
      "  %reload_ext autoreload\n"
     ]
    }
   ],
   "source": [
    "%load_ext autoreload\n",
    "%autoreload 2"
   ]
  },
  {
   "cell_type": "code",
   "execution_count": 46,
   "metadata": {
    "ExecuteTime": {
     "end_time": "2021-05-13T03:19:16.942706Z",
     "start_time": "2021-05-13T03:19:16.883175Z"
    }
   },
   "outputs": [],
   "source": [
    "import matplotlib.pyplot as plt\n",
    "import numpy as np\n",
    "import os\n",
    "import pandas as pd\n",
    "from pathlib import Path\n",
    "\n",
    "from jabberwocky.config import C\n",
    "from jabberwocky.core import Transcript\n",
    "from jabberwocky.openai_utils import PromptManager, print_response\n",
    "from htools import *"
   ]
  },
  {
   "cell_type": "code",
   "execution_count": 4,
   "metadata": {
    "ExecuteTime": {
     "end_time": "2021-05-13T02:59:56.820886Z",
     "start_time": "2021-05-13T02:59:56.792953Z"
    }
   },
   "outputs": [
    {
     "name": "stdout",
     "output_type": "stream",
     "text": [
      "Current directory: /Users/hmamin/jabberwocky\n"
     ]
    }
   ],
   "source": [
    "cd_root()"
   ]
  },
  {
   "cell_type": "code",
   "execution_count": 24,
   "metadata": {
    "ExecuteTime": {
     "end_time": "2021-05-13T03:07:57.240175Z",
     "start_time": "2021-05-13T03:07:57.172696Z"
    }
   },
   "outputs": [],
   "source": [
    "manager = PromptManager(verbose=False)"
   ]
  },
  {
   "cell_type": "code",
   "execution_count": 31,
   "metadata": {
    "ExecuteTime": {
     "end_time": "2021-05-13T03:13:41.176825Z",
     "start_time": "2021-05-13T03:13:38.246328Z"
    }
   },
   "outputs": [
    {
     "name": "stderr",
     "output_type": "stream",
     "text": [
      "/Users/hmamin/jabberwocky/lib/jabberwocky/core.py:410: UserWarning: No manual transcript found.\n",
      "  if verbose:\n"
     ]
    }
   ],
   "source": [
    "url = 'https://www.youtube.com/watch?v=WFxDmCyPViI'\n",
    "luke_url = 'https://www.youtube.com/watch?v=AtTsn1Ia4JY&ab_channel=LukeThomas'\n",
    "trans = Transcript(url)\n",
    "luke_trans = Transcript(luke_url)"
   ]
  },
  {
   "cell_type": "code",
   "execution_count": 34,
   "metadata": {
    "ExecuteTime": {
     "end_time": "2021-05-13T03:14:11.727759Z",
     "start_time": "2021-05-13T03:14:11.681848Z"
    }
   },
   "outputs": [
    {
     "data": {
      "text/plain": [
       "\"those this need for slaves from Africa was no longer true of the upper South South Carolina and Georgia was still importing slaves the fact that the deep south and the rest of the new world Latin America and the Caribbean needed slave importation x' to maintain the institution diluted many americans into believing that slavery in america was also dependent on the international slave trade and that ending the slave trade would eventually end slavery itself those who held out that hope were\""
      ]
     },
     "execution_count": 34,
     "metadata": {},
     "output_type": "execute_result"
    }
   ],
   "source": [
    "text = trans.time_range_str(1800, 1830, punctuate=False, full_sentences=False,\n",
    "                            engine_i=1)\n",
    "text"
   ]
  },
  {
   "cell_type": "code",
   "execution_count": 38,
   "metadata": {
    "ExecuteTime": {
     "end_time": "2021-05-13T03:15:03.868658Z",
     "start_time": "2021-05-13T03:15:03.821838Z"
    }
   },
   "outputs": [
    {
     "data": {
      "text/plain": [
       "{'engine_i': 1,\n",
       " 'logprobs': None,\n",
       " 'max_tokens': 50,\n",
       " 'mock': False,\n",
       " 'mock_func': None,\n",
       " 'return_full': False,\n",
       " 'stop': ['Passage: ', 'Passage with punctuation: '],\n",
       " 'stream': False,\n",
       " 'strip_output': True,\n",
       " 'temperature': 0.1}"
      ]
     },
     "execution_count": 38,
     "metadata": {},
     "output_type": "execute_result"
    }
   ],
   "source": [
    "trans._transcript.manager.kwargs('punctuate')"
   ]
  },
  {
   "cell_type": "code",
   "execution_count": 42,
   "metadata": {
    "ExecuteTime": {
     "end_time": "2021-05-13T03:18:11.167666Z",
     "start_time": "2021-05-13T03:18:11.114120Z"
    }
   },
   "outputs": [
    {
     "data": {
      "text/plain": [
       "{'engine_i': 3,\n",
       " 'logprobs': None,\n",
       " 'max_tokens': 50,\n",
       " 'mock': False,\n",
       " 'mock_func': None,\n",
       " 'return_full': False,\n",
       " 'stop': ['Passage: ', 'Passage with punctuation: '],\n",
       " 'stream': False,\n",
       " 'strip_output': True,\n",
       " 'temperature': 0.1}"
      ]
     },
     "execution_count": 42,
     "metadata": {},
     "output_type": "execute_result"
    }
   ],
   "source": [
    "trans._transcript.manager.kwargs('punctuate', engine_i=3)"
   ]
  },
  {
   "cell_type": "code",
   "execution_count": 39,
   "metadata": {
    "ExecuteTime": {
     "end_time": "2021-05-13T03:15:14.556301Z",
     "start_time": "2021-05-13T03:15:12.589882Z"
    }
   },
   "outputs": [
    {
     "name": "stderr",
     "output_type": "stream",
     "text": [
      "/Users/hmamin/jabberwocky/lib/jabberwocky/core.py:72: UserWarning: Max score < 80. Your rows may have gotten misaligned at row 660: different North American slavery was was\n",
      "  'Max score < 80. Your rows may have gotten misaligned '\n"
     ]
    },
    {
     "data": {
      "text/plain": [
       "'those this need for slaves from Africa was no longer true of the upper South South Carolina and Georgia was still importing slaves. The fact that the deep south and the rest of the new world Latin America and the Caribbean needed slave importation to maintain the institution diluted many Americans into believing that slavery in America was also dependent on the international slave trade and that ending the slave trade would eventually end slavery itself. Those who held out that hope were utterly wrong. Of course they simply did not appreciate how demographically different North American slavery was from that in South America and in the Caribbean. They were blind to the fact that in most states of the North America the slaves were approximating the growth of whites nearly doubling in number every 20 to 25 years which of course was twice as fast as as the Europeans were.'"
      ]
     },
     "execution_count": 39,
     "metadata": {},
     "output_type": "execute_result"
    }
   ],
   "source": [
    "text = trans.time_range_str(1800, 1860, punctuate=True, full_sentences=False,\n",
    "                            engine_i=1)\n",
    "text"
   ]
  },
  {
   "cell_type": "code",
   "execution_count": 43,
   "metadata": {
    "ExecuteTime": {
     "end_time": "2021-05-13T03:18:35.397959Z",
     "start_time": "2021-05-13T03:18:35.358814Z"
    }
   },
   "outputs": [
    {
     "name": "stdout",
     "output_type": "stream",
     "text": [
      "prompt:\n",
      "those this need for slaves from Africa was no longer true of the upper South South Carolina and Georgia was still importing slaves. The fact that the deep south and the rest of the new world Latin America and the Caribbean needed slave importation to maintain the institution diluted many Americans into believing that slavery in America was also dependent on the international slave trade and that ending the slave trade would eventually end slavery itself. Those who held out that hope were utterly wrong. Of course they simply did not appreciate how demographically different North American slavery was from that in South America and in the Caribbean. They were blind to the fact that in most states of the North America the slaves were approximating the growth of whites nearly doubling in number every 20 to 25 years which of course was twice as fast as as the Europeans were.\n",
      "\n",
      "tl;dr:\n",
      "\n",
      "-------------------------------------------------------------------------------\n",
      "\n",
      "kwargs:\n",
      " {'engine_i': 2, 'temperature': 0.3, 'max_tokens': 64}\n",
      "\n",
      "-------------------------------------------------------------------------------\n",
      "\n",
      "fully resolved kwargs:\n",
      " {'engine_i': 2, 'temperature': 0.3, 'max_tokens': 64, 'logprobs': None, 'stream': False, 'mock': False, 'return_full': False, 'strip_output': True, 'mock_func': None}\n"
     ]
    }
   ],
   "source": [
    "manager.query('tldr', text, debug=True)"
   ]
  },
  {
   "cell_type": "code",
   "execution_count": 47,
   "metadata": {
    "ExecuteTime": {
     "end_time": "2021-05-13T03:19:21.337739Z",
     "start_time": "2021-05-13T03:19:21.308001Z"
    }
   },
   "outputs": [
    {
     "name": "stdout",
     "output_type": "stream",
     "text": [
      "\u001b[1mthose this need for slaves from Africa was no longer true of the upper South South Carolina and Georgia was still importing slaves. The fact that the deep south and the rest of the new world Latin America and the Caribbean needed slave importation to maintain the institution diluted many Americans into believing that slavery in America was also dependent on the international slave trade and that ending the slave trade would eventually end slavery itself. Those who held out that hope were utterly wrong. Of course they simply did not appreciate how demographically different North American slavery was from that in South America and in the Caribbean. They were blind to the fact that in most states of the North America the slaves were approximating the growth of whites nearly doubling in number every 20 to 25 years which of course was twice as fast as as the Europeans were.\n",
      "\n",
      "tl;dr:\u001b[0mThe abolitionists were wrong.\n",
      "\n",
      "Advertisements\n"
     ]
    }
   ],
   "source": [
    "prompt, resp = manager.query('tldr', text, debug=False)\n",
    "print_response(prompt, resp)"
   ]
  },
  {
   "cell_type": "code",
   "execution_count": 48,
   "metadata": {
    "ExecuteTime": {
     "end_time": "2021-05-13T03:20:40.180296Z",
     "start_time": "2021-05-13T03:20:35.853973Z"
    }
   },
   "outputs": [
    {
     "name": "stdout",
     "output_type": "stream",
     "text": [
      "\u001b[1mthose this need for slaves from Africa was no longer true of the upper South South Carolina and Georgia was still importing slaves. The fact that the deep south and the rest of the new world Latin America and the Caribbean needed slave importation to maintain the institution diluted many Americans into believing that slavery in America was also dependent on the international slave trade and that ending the slave trade would eventually end slavery itself. Those who held out that hope were utterly wrong. Of course they simply did not appreciate how demographically different North American slavery was from that in South America and in the Caribbean. They were blind to the fact that in most states of the North America the slaves were approximating the growth of whites nearly doubling in number every 20 to 25 years which of course was twice as fast as as the Europeans were.\n",
      "\n",
      "tl;dr:\u001b[0mThe slave trade was ended in 1808, and slavery continued to expand in the United States.\n",
      "\n",
      "The slave trade was ended in 1808, and slavery continued to expand in the United States.\n",
      "\n",
      "The slave trade was ended in 1808, and slavery continued to expand in the United States.\n",
      "\n",
      "The\n"
     ]
    }
   ],
   "source": [
    "prompt, resp = manager.query('tldr', text, debug=False, engine_i=3)\n",
    "print_response(prompt, resp)"
   ]
  },
  {
   "cell_type": "code",
   "execution_count": 70,
   "metadata": {
    "ExecuteTime": {
     "end_time": "2021-05-13T03:46:11.354693Z",
     "start_time": "2021-05-13T03:46:11.295893Z"
    }
   },
   "outputs": [
    {
     "data": {
      "text/html": [
       "<div>\n",
       "<style scoped>\n",
       "    .dataframe tbody tr th:only-of-type {\n",
       "        vertical-align: middle;\n",
       "    }\n",
       "\n",
       "    .dataframe tbody tr th {\n",
       "        vertical-align: top;\n",
       "    }\n",
       "\n",
       "    .dataframe thead th {\n",
       "        text-align: right;\n",
       "    }\n",
       "</style>\n",
       "<table border=\"1\" class=\"dataframe\">\n",
       "  <thead>\n",
       "    <tr style=\"text-align: right;\">\n",
       "      <th></th>\n",
       "      <th>text</th>\n",
       "      <th>start</th>\n",
       "      <th>duration</th>\n",
       "    </tr>\n",
       "  </thead>\n",
       "  <tbody>\n",
       "    <tr>\n",
       "      <th>863</th>\n",
       "      <td>industrious north and the lethargic lazy</td>\n",
       "      <td>2399.729</td>\n",
       "      <td>4.121</td>\n",
       "    </tr>\n",
       "    <tr>\n",
       "      <th>864</th>\n",
       "      <td>south</td>\n",
       "      <td>2402.729</td>\n",
       "      <td>3.041</td>\n",
       "    </tr>\n",
       "    <tr>\n",
       "      <th>865</th>\n",
       "      <td>where there is Negro slavery one</td>\n",
       "      <td>2403.850</td>\n",
       "      <td>4.320</td>\n",
       "    </tr>\n",
       "    <tr>\n",
       "      <th>866</th>\n",
       "      <td>concerned Virginian told James Madison</td>\n",
       "      <td>2405.770</td>\n",
       "      <td>5.100</td>\n",
       "    </tr>\n",
       "    <tr>\n",
       "      <th>867</th>\n",
       "      <td>there will be laziness carelessness and</td>\n",
       "      <td>2408.170</td>\n",
       "      <td>5.130</td>\n",
       "    </tr>\n",
       "    <tr>\n",
       "      <th>868</th>\n",
       "      <td>wastefulness not so much among the neat</td>\n",
       "      <td>2410.870</td>\n",
       "      <td>4.500</td>\n",
       "    </tr>\n",
       "    <tr>\n",
       "      <th>869</th>\n",
       "      <td>slaves he said as among the white</td>\n",
       "      <td>2413.300</td>\n",
       "      <td>5.610</td>\n",
       "    </tr>\n",
       "    <tr>\n",
       "      <th>870</th>\n",
       "      <td>masters the south grew in population and</td>\n",
       "      <td>2415.370</td>\n",
       "      <td>5.730</td>\n",
       "    </tr>\n",
       "    <tr>\n",
       "      <th>871</th>\n",
       "      <td>prospered but its culture and a society</td>\n",
       "      <td>2418.910</td>\n",
       "      <td>5.550</td>\n",
       "    </tr>\n",
       "    <tr>\n",
       "      <th>872</th>\n",
       "      <td>remain traditional in many ways during</td>\n",
       "      <td>2421.100</td>\n",
       "      <td>5.010</td>\n",
       "    </tr>\n",
       "    <tr>\n",
       "      <th>873</th>\n",
       "      <td>the antebellum decades when the North</td>\n",
       "      <td>2424.460</td>\n",
       "      <td>3.510</td>\n",
       "    </tr>\n",
       "    <tr>\n",
       "      <th>874</th>\n",
       "      <td>was commercially exploding the South</td>\n",
       "      <td>2426.110</td>\n",
       "      <td>3.840</td>\n",
       "    </tr>\n",
       "    <tr>\n",
       "      <th>875</th>\n",
       "      <td>remained essentially what it had been in</td>\n",
       "      <td>2427.970</td>\n",
       "      <td>4.800</td>\n",
       "    </tr>\n",
       "    <tr>\n",
       "      <th>876</th>\n",
       "      <td>the 18th century a staple producing</td>\n",
       "      <td>2429.950</td>\n",
       "      <td>5.370</td>\n",
       "    </tr>\n",
       "    <tr>\n",
       "      <th>877</th>\n",
       "      <td>slaveholding society cotton produced</td>\n",
       "      <td>2432.770</td>\n",
       "      <td>6.210</td>\n",
       "    </tr>\n",
       "    <tr>\n",
       "      <th>878</th>\n",
       "      <td>replaced tobacco and rice as the</td>\n",
       "      <td>2435.320</td>\n",
       "      <td>6.600</td>\n",
       "    </tr>\n",
       "    <tr>\n",
       "      <th>879</th>\n",
       "      <td>principal staple but the society the</td>\n",
       "      <td>2438.980</td>\n",
       "      <td>5.150</td>\n",
       "    </tr>\n",
       "    <tr>\n",
       "      <th>880</th>\n",
       "      <td>economy and much of the politics remains</td>\n",
       "      <td>2441.920</td>\n",
       "      <td>5.940</td>\n",
       "    </tr>\n",
       "    <tr>\n",
       "      <th>881</th>\n",
       "      <td>roughly what it had been during the 18th</td>\n",
       "      <td>2444.130</td>\n",
       "      <td>5.740</td>\n",
       "    </tr>\n",
       "    <tr>\n",
       "      <th>882</th>\n",
       "      <td>century slavery determined the</td>\n",
       "      <td>2447.860</td>\n",
       "      <td>5.850</td>\n",
       "    </tr>\n",
       "    <tr>\n",
       "      <th>883</th>\n",
       "      <td>organization of the society the wealthy</td>\n",
       "      <td>2449.870</td>\n",
       "      <td>5.670</td>\n",
       "    </tr>\n",
       "    <tr>\n",
       "      <th>884</th>\n",
       "      <td>slave holding plan has dominated their</td>\n",
       "      <td>2453.710</td>\n",
       "      <td>4.350</td>\n",
       "    </tr>\n",
       "    <tr>\n",
       "      <th>885</th>\n",
       "      <td>society to a degree no group in the</td>\n",
       "      <td>2455.540</td>\n",
       "      <td>5.360</td>\n",
       "    </tr>\n",
       "    <tr>\n",
       "      <th>886</th>\n",
       "      <td>North could match they managed the</td>\n",
       "      <td>2458.060</td>\n",
       "      <td>5.820</td>\n",
       "    </tr>\n",
       "    <tr>\n",
       "      <th>887</th>\n",
       "      <td>overseas marketing of the staple crop up</td>\n",
       "      <td>2460.900</td>\n",
       "      <td>5.680</td>\n",
       "    </tr>\n",
       "  </tbody>\n",
       "</table>\n",
       "</div>"
      ],
      "text/plain": [
       "                                         text     start  duration\n",
       "863  industrious north and the lethargic lazy  2399.729     4.121\n",
       "864                                     south  2402.729     3.041\n",
       "865          where there is Negro slavery one  2403.850     4.320\n",
       "866    concerned Virginian told James Madison  2405.770     5.100\n",
       "867   there will be laziness carelessness and  2408.170     5.130\n",
       "868   wastefulness not so much among the neat  2410.870     4.500\n",
       "869         slaves he said as among the white  2413.300     5.610\n",
       "870  masters the south grew in population and  2415.370     5.730\n",
       "871   prospered but its culture and a society  2418.910     5.550\n",
       "872    remain traditional in many ways during  2421.100     5.010\n",
       "873     the antebellum decades when the North  2424.460     3.510\n",
       "874      was commercially exploding the South  2426.110     3.840\n",
       "875  remained essentially what it had been in  2427.970     4.800\n",
       "876       the 18th century a staple producing  2429.950     5.370\n",
       "877      slaveholding society cotton produced  2432.770     6.210\n",
       "878          replaced tobacco and rice as the  2435.320     6.600\n",
       "879      principal staple but the society the  2438.980     5.150\n",
       "880  economy and much of the politics remains  2441.920     5.940\n",
       "881  roughly what it had been during the 18th  2444.130     5.740\n",
       "882            century slavery determined the  2447.860     5.850\n",
       "883   organization of the society the wealthy  2449.870     5.670\n",
       "884    slave holding plan has dominated their  2453.710     4.350\n",
       "885       society to a degree no group in the  2455.540     5.360\n",
       "886        North could match they managed the  2458.060     5.820\n",
       "887  overseas marketing of the staple crop up  2460.900     5.680"
      ]
     },
     "execution_count": 70,
     "metadata": {},
     "output_type": "execute_result"
    }
   ],
   "source": [
    "trans.time_range(2400, 2460, punctuate=False)"
   ]
  },
  {
   "cell_type": "code",
   "execution_count": 87,
   "metadata": {
    "ExecuteTime": {
     "end_time": "2021-05-13T03:57:07.785154Z",
     "start_time": "2021-05-13T03:57:07.723027Z"
    }
   },
   "outputs": [],
   "source": [
    "class Session:\n",
    "    \n",
    "    def __init__(self, *tasks, **video_urls):\n",
    "        self.transcripts = {name: Transcript(url) \n",
    "                            for name, url in video_urls.items()}\n",
    "        self.manager = PromptManager(*tasks, verbose=False)\n",
    "        \n",
    "    @add_docstring(Transcript.time_range_str)\n",
    "    def query(self, video, task, start_time, end_time, punctuate=True,\n",
    "              punct_extra_kwargs=None, punct_query_kwargs=None, \n",
    "              task_extra_kwargs=None, **task_kwargs):\n",
    "        text = self[video].time_range_str(\n",
    "            start_time, end_time, \n",
    "            punctuate=punctuate,\n",
    "            extra_kwargs=punct_query_kwargs or {},\n",
    "            **ifnone(punct_query_kwargs, {})\n",
    "        )\n",
    "        prompt, resp = self.manager.query(task, text,\n",
    "                                          extra_kwargs=task_extra_kwargs, \n",
    "                                          **task_kwargs)\n",
    "        return prompt, resp\n",
    "    \n",
    "    def __getitem__(self, key):\n",
    "        return self.transcripts[key]\n",
    "    \n",
    "    def __iter__(self):\n",
    "        return iter(self.transcripts)\n",
    "    \n",
    "    def __repr__(self):\n",
    "        name = type(self).__name__\n",
    "        sep = ',\\n' + ' '*(len(name) + 1)\n",
    "        kwarg_strs = sep.join(f'{name}={trans.url!r}' for name, trans\n",
    "                              in self.transcripts.items())\n",
    "        arg_strs = sep.join(repr(p) for p in self.manager.prompts)\n",
    "        return f'{name}({arg_strs}{sep}{kwarg_strs})'"
   ]
  },
  {
   "cell_type": "code",
   "execution_count": 88,
   "metadata": {
    "ExecuteTime": {
     "end_time": "2021-05-13T03:57:12.440457Z",
     "start_time": "2021-05-13T03:57:08.880827Z"
    }
   },
   "outputs": [
    {
     "name": "stderr",
     "output_type": "stream",
     "text": [
      "/Users/hmamin/jabberwocky/lib/jabberwocky/core.py:417: UserWarning: No manual transcript found.\n",
      "  )\n"
     ]
    },
    {
     "data": {
      "text/plain": [
       "Session('simplify_ml',\n",
       "        'shortest',\n",
       "        'how_to',\n",
       "        'punctuate',\n",
       "        'tldr',\n",
       "        'eli',\n",
       "        'short_dates',\n",
       "        civil_war='https://www.youtube.com/watch?v=WFxDmCyPViI',\n",
       "        luke='https://www.youtube.com/watch?v=AtTsn1Ia4JY&ab_channel=LukeThomas')"
      ]
     },
     "execution_count": 88,
     "metadata": {},
     "output_type": "execute_result"
    }
   ],
   "source": [
    "sess = Session(civil_war=url, luke=luke_url)\n",
    "sess"
   ]
  },
  {
   "cell_type": "code",
   "execution_count": 79,
   "metadata": {
    "ExecuteTime": {
     "end_time": "2021-05-13T03:47:56.304285Z",
     "start_time": "2021-05-13T03:47:54.925780Z"
    }
   },
   "outputs": [
    {
     "name": "stdout",
     "output_type": "stream",
     "text": [
      "\u001b[1minfluence that some southerners began to worry about the discrepancy between the industrious north and the lethargic lazy south where there is Negro slavery one concerned Virginian told James Madison there will be laziness carelessness and wastefulness not so much among the neat slaves he said as among the white masters the south grew in population and prospered but its culture and a society remain traditional in many ways during the antebellum decades when the North was commercially exploding the South remained essentially what it had been in the 18th century a staple producing slaveholding society cotton produced replaced tobacco and rice as the principal staple but the society the economy and much of the politics remains roughly what it had been during the 18th century slavery determined the organization of the society the wealthy slave holding plan has dominated their society to a degree no group in the North could match they managed the overseas marketing of the staple crop up for the small planets which reinforced\n",
      "\n",
      "tl;dr:\u001b[0mThe South was a slave-holding society, and the North was not.\n"
     ]
    }
   ],
   "source": [
    "prompt, resp = sess.query('civil_war', 'tldr', 2400, 2460)\n",
    "print_response(prompt, resp)"
   ]
  },
  {
   "cell_type": "code",
   "execution_count": 83,
   "metadata": {
    "ExecuteTime": {
     "end_time": "2021-05-13T03:49:36.575366Z",
     "start_time": "2021-05-13T03:49:36.523643Z"
    }
   },
   "outputs": [],
   "source": [
    "sess['civil_war'].clear_punctuations()"
   ]
  },
  {
   "cell_type": "code",
   "execution_count": 84,
   "metadata": {
    "ExecuteTime": {
     "end_time": "2021-05-13T03:50:13.967552Z",
     "start_time": "2021-05-13T03:50:09.880154Z"
    }
   },
   "outputs": [
    {
     "name": "stdout",
     "output_type": "stream",
     "text": [
      "\u001b[1minfluence that some southerners began to worry about the discrepancy between the industrious north and the lethargic lazy south where there is Negro slavery one concerned Virginian told James Madison there will be laziness carelessness and wastefulness not so much among the neat slaves he said as among the white masters the south grew in population and prospered but its culture and a society remain traditional in many ways during the antebellum decades when the North was commercially exploding the South remained essentially what it had been in the 18th century a staple producing slaveholding society cotton produced replaced tobacco and rice as the principal staple but the society the economy and much of the politics remains roughly what it had been during the 18th century slavery determined the organization of the society the wealthy slave holding plan has dominated their society to a degree no group in the North could match they managed the overseas marketing of the staple crop up for the small planets which reinforced\n",
      "\n",
      "tl;dr:\u001b[0mThe South was a slave society. The North was not.\n",
      "\n",
      "The South was a slave society. The North was not.\n",
      "\n",
      "The South was a slave society. The North was not.\n",
      "\n",
      "The South was a slave society. The North was not.\n",
      "\n",
      "The South was a slave society. The\n"
     ]
    }
   ],
   "source": [
    "prompt, resp = sess.query('civil_war', 'tldr', 2400, 2460, \n",
    "                          punct_query_kwargs={'engine_i': 3},\n",
    "                          engine_i=3)\n",
    "print_response(prompt, resp)"
   ]
  },
  {
   "cell_type": "code",
   "execution_count": 89,
   "metadata": {
    "ExecuteTime": {
     "end_time": "2021-05-13T03:57:16.672770Z",
     "start_time": "2021-05-13T03:57:16.627536Z"
    }
   },
   "outputs": [
    {
     "data": {
      "text/plain": [
       "['civil_war', 'luke']"
      ]
     },
     "execution_count": 89,
     "metadata": {},
     "output_type": "execute_result"
    }
   ],
   "source": [
    "list(sess)"
   ]
  },
  {
   "cell_type": "code",
   "execution_count": null,
   "metadata": {},
   "outputs": [],
   "source": []
  }
 ],
 "metadata": {
  "kernelspec": {
   "display_name": "Python 3",
   "language": "python",
   "name": "python3"
  },
  "language_info": {
   "codemirror_mode": {
    "name": "ipython",
    "version": 3
   },
   "file_extension": ".py",
   "mimetype": "text/x-python",
   "name": "python",
   "nbconvert_exporter": "python",
   "pygments_lexer": "ipython3",
   "version": "3.7.3"
  }
 },
 "nbformat": 4,
 "nbformat_minor": 2
}
