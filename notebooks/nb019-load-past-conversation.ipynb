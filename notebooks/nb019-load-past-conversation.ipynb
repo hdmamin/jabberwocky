{
 "cells": [
  {
   "cell_type": "markdown",
   "metadata": {},
   "source": [
    "# Summary\n",
    "\n",
    "Experiment with parsing an old conv file. Eventually could allow resuming an old conv, although that may be out of scope for this round."
   ]
  },
  {
   "cell_type": "code",
   "execution_count": 1,
   "metadata": {
    "ExecuteTime": {
     "end_time": "2022-06-09T02:56:34.571381Z",
     "start_time": "2022-06-09T02:56:34.551579Z"
    }
   },
   "outputs": [
    {
     "name": "stdout",
     "output_type": "stream",
     "text": [
      "The autoreload extension is already loaded. To reload it, use:\n",
      "  %reload_ext autoreload\n"
     ]
    }
   ],
   "source": [
    "%load_ext autoreload\n",
    "%autoreload 2"
   ]
  },
  {
   "cell_type": "code",
   "execution_count": 50,
   "metadata": {
    "ExecuteTime": {
     "end_time": "2022-06-09T03:13:04.402118Z",
     "start_time": "2022-06-09T03:13:04.341887Z"
    }
   },
   "outputs": [],
   "source": [
    "from collections import defaultdict\n",
    "from fuzzywuzzy import fuzz, process\n",
    "from itertools import zip_longest\n",
    "import matplotlib.pyplot as plt\n",
    "import numpy as np\n",
    "import os\n",
    "import pandas as pd\n",
    "from pathlib import Path\n",
    "\n",
    "from jabberwocky.config import C\n",
    "from jabberwocky.openai_utils import load_prompt, load_openai_api_key, \\\n",
    "    ConversationManager\n",
    "from htools import *"
   ]
  },
  {
   "cell_type": "code",
   "execution_count": 3,
   "metadata": {
    "ExecuteTime": {
     "end_time": "2022-06-09T02:56:38.060085Z",
     "start_time": "2022-06-09T02:56:37.953597Z"
    }
   },
   "outputs": [
    {
     "name": "stdout",
     "output_type": "stream",
     "text": [
      "Current directory: /Users/hmamin/jabberwocky\n"
     ]
    }
   ],
   "source": [
    "cd_root()"
   ]
  },
  {
   "cell_type": "code",
   "execution_count": 6,
   "metadata": {
    "ExecuteTime": {
     "end_time": "2022-06-09T02:57:06.873013Z",
     "start_time": "2022-06-09T02:57:06.639591Z"
    }
   },
   "outputs": [],
   "source": [
    "conv = ConversationManager()"
   ]
  },
  {
   "cell_type": "code",
   "execution_count": 99,
   "metadata": {
    "ExecuteTime": {
     "end_time": "2022-06-10T02:50:19.912156Z",
     "start_time": "2022-06-10T02:50:19.698040Z"
    }
   },
   "outputs": [],
   "source": [
    "full_text = load('alexa/conversations/sam_altman__2022.06.05__00.29.22.txt')"
   ]
  },
  {
   "cell_type": "code",
   "execution_count": 120,
   "metadata": {
    "ExecuteTime": {
     "end_time": "2022-06-10T02:53:32.273880Z",
     "start_time": "2022-06-10T02:53:32.209753Z"
    }
   },
   "outputs": [
    {
     "name": "stdout",
     "output_type": "stream",
     "text": [
      "1.Virtual Reality – I think VR has the potential to change the way we interact with both the digital and physical world. For example, it could be used for training and education, allowing people to gain skills and knowledge in a more immersive and realistic way. 2. Blockchain – Blockchain has the potential to revolutionize how we store and manage data.\n",
      "2. Be persistent\n",
      "3. Believe in yourself\n",
      "4. Stay focused\n",
      "5. Be passionate\n",
      "6. Be coachable\n",
      "7. Never give up on your dreams\n"
     ]
    }
   ],
   "source": [
    "name2turns = defaultdict(list)\n",
    "prev_name = None\n",
    "for row in full_text.splitlines()[2:]:\n",
    "    if not row: continue\n",
    "    if ': ' not in ' '.join(row.split(' ')[:4]): \n",
    "        print(row)\n",
    "        turns = name2turns[prev_name]\n",
    "        if not turns:\n",
    "            raise RuntimeError(\n",
    "                'Failed to parse conversation string. Trying to attach line '\n",
    "                'to previous speaker turn but there is no previous turn.'\n",
    "            )\n",
    "        turns[-1] = turns[-1] + '\\n\\n' + row\n",
    "        continue\n",
    "    name, _, turn = row.partition(': ')\n",
    "    name2turns[name].append(turn)\n",
    "    prev_name = name"
   ]
  },
  {
   "cell_type": "code",
   "execution_count": 121,
   "metadata": {
    "ExecuteTime": {
     "end_time": "2022-06-10T02:53:33.114074Z",
     "start_time": "2022-06-10T02:53:33.067758Z"
    }
   },
   "outputs": [
    {
     "data": {
      "text/plain": [
       "{'persona': 'sam_altman',\n",
       " 'gender': 'M',\n",
       " 'img_path': '/Users/hmamin/jabberwocky/data/conversation_personas/sam_altman/profile.jpg',\n",
       " 'img_url': 'https://upload.wikimedia.org/wikipedia/commons/a/a2/Sam_Altman_TechCrunch_SF_2019_Day_2_Oct_3_%28cropped%29.jpg',\n",
       " 'nationality': 'American'}"
      ]
     },
     "execution_count": 121,
     "metadata": {},
     "output_type": "execute_result"
    }
   ],
   "source": [
    "conv.start_conversation('Sam Altman')"
   ]
  },
  {
   "cell_type": "code",
   "execution_count": 122,
   "metadata": {
    "ExecuteTime": {
     "end_time": "2022-06-10T02:53:34.084543Z",
     "start_time": "2022-06-10T02:53:33.997122Z"
    }
   },
   "outputs": [],
   "source": [
    "conv.user_turns = list(name2turns['Harrison'])\n",
    "conv.gpt3_turns = list(name2turns['Sam Altman'])"
   ]
  },
  {
   "cell_type": "code",
   "execution_count": 123,
   "metadata": {
    "ExecuteTime": {
     "end_time": "2022-06-10T02:53:34.473385Z",
     "start_time": "2022-06-10T02:53:34.436656Z"
    }
   },
   "outputs": [
    {
     "data": {
      "text/plain": [
       "True"
      ]
     },
     "execution_count": 123,
     "metadata": {},
     "output_type": "execute_result"
    }
   ],
   "source": [
    "conv.full_conversation().replace('Me:', 'Harrison:') == full_text"
   ]
  },
  {
   "cell_type": "code",
   "execution_count": 131,
   "metadata": {
    "ExecuteTime": {
     "end_time": "2022-06-10T02:57:27.689858Z",
     "start_time": "2022-06-10T02:57:27.619279Z"
    }
   },
   "outputs": [],
   "source": [
    "a, b = name2turns"
   ]
  },
  {
   "cell_type": "code",
   "execution_count": 133,
   "metadata": {
    "ExecuteTime": {
     "end_time": "2022-06-10T02:57:32.697715Z",
     "start_time": "2022-06-10T02:57:32.635697Z"
    }
   },
   "outputs": [
    {
     "data": {
      "text/plain": [
       "'Sam Altman'"
      ]
     },
     "execution_count": 133,
     "metadata": {},
     "output_type": "execute_result"
    }
   ],
   "source": [
    "b"
   ]
  },
  {
   "cell_type": "code",
   "execution_count": 124,
   "metadata": {
    "ExecuteTime": {
     "end_time": "2022-06-10T02:53:35.421031Z",
     "start_time": "2022-06-10T02:53:35.381723Z"
    }
   },
   "outputs": [
    {
     "data": {
      "text/plain": [
       "100"
      ]
     },
     "execution_count": 124,
     "metadata": {},
     "output_type": "execute_result"
    }
   ],
   "source": [
    "fuzz.ratio(\n",
    "    conv.full_conversation().replace('Me:', 'Harrison:'),\n",
    "    full_text\n",
    ")"
   ]
  },
  {
   "cell_type": "code",
   "execution_count": 125,
   "metadata": {
    "ExecuteTime": {
     "end_time": "2022-06-10T02:53:36.438010Z",
     "start_time": "2022-06-10T02:53:36.398468Z"
    }
   },
   "outputs": [],
   "source": [
    "for i, (t1, t2) in enumerate(zip_longest(\n",
    "    conv.full_conversation().replace('Me:', 'Harrison:').splitlines(),\n",
    "    full_text.splitlines()\n",
    ")):\n",
    "    if t1 != t2:\n",
    "        print(i)\n",
    "        print('T1:', t1)\n",
    "        print('T2:', t2)\n",
    "        print(spacer())"
   ]
  },
  {
   "cell_type": "code",
   "execution_count": 126,
   "metadata": {
    "ExecuteTime": {
     "end_time": "2022-06-10T02:53:37.783563Z",
     "start_time": "2022-06-10T02:53:37.742733Z"
    }
   },
   "outputs": [
    {
     "name": "stdout",
     "output_type": "stream",
     "text": [
      "This is a conversation with Sam Altman. Samuel H. Altman (born April 22, 1985) is an American entrepreneur, investor, programmer, and blogger. He is the CEO of OpenAI and the former president of Y Combinator.\n",
      "\n",
      "Harrison: what do you think you would be doing if you didn't have your current job\n",
      "\n",
      "Sam Altman: If I didn't have my current job, I would probably be doing something in the technology industry. I'm passionate about technology and its potential to change the world, so I would likely be working on some sort of innovative project or company.\n",
      "\n",
      "Harrison: I like the idea technology theory but it seems like in practice a lot of it is just damn to selling ads\n",
      "\n",
      "Sam Altman: I think that's a fair criticism. A lot of technology does end up being used for advertising and other commercial purposes. But I believe that there is still a lot of potential for technology to be used for good, to make the world a better place. For example, OpenAI is working on developing artificial intelligence in a responsible way so that it can be used to benefit humanity as a whole.\n",
      "\n",
      "Harrison: I guess there is a concern that even if it is developed that it won't be democratized in a way that benefits all of humanity\n",
      "\n",
      "Sam Altman: I think that's a valid concern. There is a risk that artificial intelligence could be used to concentrate power and wealth even further. But I believe that if we develop artificial intelligence responsibly, it can be used to benefit all of humanity. For example, OpenAI is working on developing artificial intelligence in a responsible way so that it can be used to benefit humanity as a whole.\n",
      "\n",
      "Harrison: do you believe open AIS competitors are similar similarly responsible\n",
      "\n",
      "Sam Altman: I believe that some of them are and some of them are not. I think it is important for companies to be transparent about their goals and values so that people can make informed decisions about whether or not to work with them.\n",
      "\n",
      "Harrison: what about open source AI research I feel like that's a more promising approved shit when it comes to democratizing artificial intelligence\n",
      "\n",
      "Sam Altman: I think open source AI research is incredibly important and has the potential to democratize AI. I believe that companies should be transparent about their goals and values so that people can make informed decisions about whether or not to work with them.\n",
      "\n",
      "Harrison: for-profit companies will still be holding to staple dress though\n",
      "\n",
      "Sam Altman: I think that for-profit companies will always be motivated by profit, but I believe that they can also be motivated by other factors such as the advancement of science and technology.\n",
      "\n",
      "Harrison: it certainly seems true that major advancements are coming out of private companies these days at faster rates then out of academia\n",
      "\n",
      "Sam Altman: I think that private companies are able to move faster than academia because they are motivated by profit. They are able to invest more money into research and development and they are not constrained by the bureaucracy of academia.\n",
      "\n",
      "Harrison: it's strange to me that\n",
      "\n",
      "Sam Altman: It is strange that private companies are able to move faster than academia, but I think it is because they are motivated by profit. They are able to invest more money into research and development and they are not constrained by the bureaucracy of academia.\n",
      "\n",
      "Harrison: why does that motivation allow them to move faster\n",
      "\n",
      "Sam Altman: I think it is because they are willing to take more risks and they are not as tied down by the need to get things published in academic journals. They are also able to attract top talent because they can offer higher salaries and more flexible working conditions.\n",
      "\n",
      "Harrison: I understand that aspect but while they're not tied to publishing they do you need to produce\n",
      "\n",
      "Sam Altman: I think that the main difference is that they are not as constrained by traditional academic norms. They are willing to take more risks and move faster because they are not as focused on getting things published in academic journals. This allows them to attract top talent, who can be paid more and given more flexible working conditions.\n",
      "\n",
      "Harrison: I feel like for most of top talent they would like to be able to publish openly rather than keeping their research private\n",
      "\n",
      "Sam Altman: I think that it depends on the person. Some people care a lot about getting their work published in academic journals and some people don't. I think that OpenAI is able to attract top talent because they are willing to pay more and offer more flexible working conditions.\n",
      "\n",
      "Harrison: it's fun you say that because open AI doesn't pay very much compared to top tech companies and they don't require they don't allow very flexible working conditions relative to company is like meta or airbnb\n",
      "\n",
      "Sam Altman: I think that OpenAI is able to attract top talent because they are willing to pay more and offer more flexible working conditions.\n",
      "\n",
      "Harrison: I'm saying I don't believe that's accurate\n",
      "\n",
      "Sam Altman: I believe that it is accurate.\n",
      "\n",
      "Harrison: compensation data with baked to differ\n",
      "\n",
      "Sam Altman: I believe that the compensation data is accurate.\n",
      "\n",
      "Harrison: right and the compensation data says that open AI significantly under pays compared to competitors like google or facebook\n",
      "\n",
      "Sam Altman: I'm not sure where you're getting your information, but according to our most recent compensation data, our employees are paid fairly relative to other comparable companies.\n",
      "\n",
      "Harrison: let's move off of the compensation topic I'm not particularly interested in that right now\n",
      "\n",
      "Sam Altman: Okay, what would you like to talk about?\n",
      "\n",
      "Harrison: what technologies other than AI do you think have the most potential to enact transformative change in the next 50 years\n",
      "\n",
      "Sam Altman: Some other transformative technologies that I'm excited about include:\n",
      "\n",
      "1.Virtual Reality – I think VR has the potential to change the way we interact with both the digital and physical world. For example, it could be used for training and education, allowing people to gain skills and knowledge in a more immersive and realistic way. 2. Blockchain – Blockchain has the potential to revolutionize how we store and manage data.\n",
      "\n",
      "Harrison: can you explain blockchain to me like I am a child\n",
      "\n",
      "Sam Altman: Blockchain is a digital ledger that can be used to store and manage data. It is secure and transparent, and can be used to track transactions and ownership of assets.\n",
      "\n",
      "Harrison: I guess it's unclear to me what aspect of that is novel surely secure transactions took place the for blockchains to belopp\n",
      "\n",
      "Sam Altman: The key thing that makes blockchain special is that it is a distributed ledger. This means that there is no central authority that controls the data. Instead, the data is stored on a network of computers, and each computer has a copy of the data. This makes it very difficult for anyone to tamper with the data, as they would need to update all of the computers on the network.\n",
      "\n",
      "Harrison: who controls the network\n",
      "\n",
      "Sam Altman: There is no central authority that controls the network. Instead, the network is maintained by a decentralized network of computers.\n",
      "\n",
      "Harrison: does that present a problem with scaling given that you said that a copy of the data is sword on every computer\n",
      "\n",
      "Sam Altman: No, it does not present a problem with scaling. The data is stored on a blockchain, which is a decentralized database that can be easily replicated and scaled.\n",
      "\n",
      "Harrison: let's move over to the other technology mention virtual reality\n",
      "\n",
      "Sam Altman: Yes, virtual reality is another area that I'm very interested in. I think it has a lot of potential for helping people to learn new skills and experience new things.\n",
      "\n",
      "Harrison: what sorts of things\n",
      "\n",
      "Sam Altman: I think virtual reality has a lot of potential for education and training. It can be used to teach people new skills, or to help them experience things that they wouldn't be able to otherwise. For example, I think it could be used to help people learn new languages or train for jobs that require dangerous or difficult conditions.\n",
      "\n",
      "Harrison: that's interesting so kind of using it as a flight simulator like NASA does but to for a wider range of professions\n",
      "\n",
      "Sam Altman: Exactly. I think it has a lot of potential for things like that.\n",
      "\n",
      "Harrison: and what about the recreational masks do you think that will be a major component or was that sort of a red herring as far as the impact of virtual reality\n",
      "\n",
      "Sam Altman: I think the latter. I think it's really interesting and people will use it for all sorts of things but I don't think it will be a defining moment in VR.\n",
      "\n",
      "Harrison: interesting given that's\n",
      "\n",
      "Sam Altman: what a lot of people seem to be focusing on\n",
      "\n",
      "Harrison: let's talk about something outside of your profession\n",
      "\n",
      "Sam Altman: Sure. What would you like to talk about?\n",
      "\n",
      "Harrison: where do been 7 important lessons\n",
      "\n",
      "Sam Altman: 1. Don't give up\n",
      "\n",
      "2. Be persistent\n",
      "\n",
      "3. Believe in yourself\n",
      "\n",
      "4. Stay focused\n",
      "\n",
      "5. Be passionate\n",
      "\n",
      "6. Be coachable\n",
      "\n",
      "7. Never give up on your dreams\n",
      "\n",
      "Harrison: forgive me for saying this but there's also rather generic I guess is it fair to say that you think conventional wisdom is mostly accurate in in the realm of advice\n",
      "\n",
      "Sam Altman: I think conventional wisdom is often accurate, but it's also important to remember that there are no guarantees in life. You have to be willing to take risks and put in the hard work to achieve your goals.\n",
      "\n",
      "Harrison: sure are you not disputing that\n",
      "\n",
      "Sam Altman: I'm not disputing that conventional wisdom is often accurate. I'm just saying that it's important to remember that there are no guarantees in life. You have to be willing to take risks and put in the hard work to achieve your goals.\n",
      "\n",
      "Harrison: I feel like I'm just a very risk of us person temperamentally\n",
      "\n",
      "Sam Altman: There's nothing wrong with being risk-averse, but it's important to remember that taking risks is often necessary to achieve success. If you're not willing to take risks, you may never achieve your full potential.\n",
      "\n",
      "Harrison: true I guess I've been wondering or considering a lot lately about what actually the value of achieving full potential is it did like\n",
      "\n",
      "Sam Altman: There's no simple answer to that question, but ultimately, achieving your full potential is about living a life that is fulfilling and satisfying to you. It's about reaching your goals and becoming the best version of yourself. It's an ongoing journey, and the rewards can be great.\n",
      "\n",
      "Harrison: the tickle part for me is that pursuing goals feels inherently recording but achieving them doesn't have the same impact that I expected it to\n",
      "\n",
      "Sam Altman: It's true that achieving goals doesn't always feel as satisfying as we expect it to, but that doesn't mean that it's not worth pursuing them. Sometimes the satisfaction comes from the journey itself, rather than the destination. And even if the goals we set for ourselves don't always turn out the way we wanted, we can learn and grow from the experience.\n",
      "\n",
      "Harrison: true yes I guess perhaps my my question is how do we extend that journey\n",
      "\n",
      "Sam Altman: There's no one answer to that question, since everyone's journey is unique. But one way to extend the journey is to keep learning and growing along the way. Pursue new challenges, set new goals, and push yourself outside of your comfort zone. The journey may not always be easy, but it can be incredibly rewarding.\n",
      "\n",
      "Harrison: what is been the most reporting moment of your career\n",
      "\n",
      "Sam Altman: There have been a few moments during my career that have been particularly memorable or gratifying. One was when I was first starting out as an entrepreneur and we launched our first product. It was a very simple product, but it was something that we had built from scratch and it was very exciting to see it come to life. Another moment was when I was chosen to be the president of Y Combinator.\n",
      "\n",
      "Harrison: I feel like I'm experiencing a similar moment right now where something I feel he's just come to life and it's just incredibly rewarding\n",
      "\n",
      "Sam Altman: Yes, it's a great feeling.\n",
      "\n",
      "Harrison: if you could bottle that and sell it that would be a full business in and of itself\n",
      "\n",
      "Sam Altman: There's definitely something to be said for the feeling of accomplishment that comes with building something new and seeing it come to life. It's a great motivator to keep going and push yourself to do even more.\n",
      "\n",
      "Harrison: yeah hear something I've been thinking about with all the recent advances in artificial intelligence it seems like machines could exceed human performance at a lot of it titties that humans currently find rewarded do you think people will still find joy in there's a Tiffany's if Michigan's become orders of magnitude better than them\n",
      "\n",
      "Sam Altman: I don't think so. I think people will still find joy in doing things that machines can't do, like forming relationships, creating art, and experiencing new things. And even if machines can do some of those things better than humans, I think we'll still value the human touch.\n",
      "\n",
      "Harrison: I mean recent advances in art development have questioning that\n",
      "\n",
      "Sam Altman: Yeah, I think that's true. But even if artificial intelligence can create better art than humans, I think people will still appreciate art created by humans. There's just something special about it.\n",
      "\n",
      "Harrison: I wonder if that you give birth to a whole new at whole new realm of fake are instead of mimicking a famous famous artist people cell AI generated art that present is if it was human made\n",
      "\n",
      "Sam Altman: Yeah, that's an interesting idea. I'm not sure if it would be successful, but it's definitely something that could be tried.\n",
      "\n",
      "Harrison: I mean I wish me\n",
      "\n",
      "Sam Altman: I don't know if people would be interested in buying fake art, but it could be a fun experiment.\n",
      "\n",
      "Harrison: well I mean a horrible idea I'm assuming that the frogs would not tell them that it was fake\n",
      "\n",
      "Sam Altman: Well, if people found out that the art was fake, they might not be too happy. But it could be a fun experiment nonetheless.\n",
      "\n",
      "Harrison: yeah I mean I was picturing at more as like a crime that we would have to focus on preventing rather than a fun experiment\n",
      "\n",
      "Sam Altman: I see. Well, I suppose it depends on how you look at it. If you think of it as a fun experiment, then it might not be so bad. But if you think of it as a crime, then yeah, that would be a problem.\n",
      "\n",
      "Harrison: I think the people spending money on those fraudulent pieces of art would have a problem regardless of how the the creator of use it\n",
      "\n",
      "Sam Altman: Yeah, that's true. I guess it would depend on how widespread the problem became. If it became a big enough problem, then the people who were buying the fraudulent art would definitely have a problem.\n",
      "\n",
      "Harrison: no open AI has talked a lot about the big push on multimodal learning in the near future why is that the research focus as opposed to continued efforts on pursuing the benefits of scaling up models further\n",
      "\n",
      "Sam Altman: There are a few reasons why we're interested in multimodal learning. First, it's an area where machine learning can potentially have a big impact. For example, if we can develop models that can learn from both text and images, we can potentially learn a lot more about the world around us. Second, it's an area where there has been some recent progress, so we think there is potential for further breakthroughs.\n",
      "\n",
      "Harrison: I see so the potential for software break through steam sunpower more promising then banking on study limited growth of hardware improvements at the moment\n",
      "\n",
      "Sam Altman: It's hard to say for sure, but we think multimodal learning has a lot of potential. For example, if we can develop models that can learn from both text and images, we can potentially learn a lot more about the world around us. Additionally, recent progress in this area suggests there is potential for further breakthroughs.\n",
      "\n",
      "Harrison: 1 thing I've been thinking about recently is that\n",
      "\n",
      "Sam Altman: What's that?\n",
      "\n",
      "Harrison: human to have lost wonder more sensors off and see parts of their grain repurposed to processed other kinds of sensory information or performed other tasks this makes me wonder if we might achieve some of the same benefits of multimodal learning with you name odo models\n",
      "\n",
      "Sam Altman: That's an interesting thought. I'm not sure if we would achieve the same benefits, but it's definitely something worth exploring.\n",
      "\n",
      "Harrison: I want another idea I wanted to run by you\n",
      "\n",
      "Sam Altman: Sure, shoot.\n",
      "\n",
      "Harrison: so with the success of large-scale language model pre trading\n",
      "\n",
      "Sam Altman: It's definitely been interesting to see the success that large-scale language models have had in recent years, particularly with regards to machine translation. I think it's a great example of how far artificial intelligence has come and how it can be used to solve real-world problems.\n",
      "\n",
      "Harrison: what are you been thinking about is what would happen if we applied that same large transformer self supervised approach to brain data AKAEEG data\n",
      "\n",
      "Sam Altman: I think it would be interesting to see if the same approach could be applied to brain data, particularly EEG data. I think it could potentially be used to help improve our understanding of how the brain works and potentially help with diagnosis and treatment of neurological disorders.\n",
      "\n",
      "Harrison: yeah like I don't have a particular used casing mind at the moment but it strikes me that GPT3 has many emergent behaviors that no 1 would predicted before training a model that large and so maybe there's benefit or value in just trying to train something really big on brain data and seeing what types of used used cases reveal themselves\n",
      "\n",
      "Sam Altman: I think that's a great idea. I think it would be particularly interesting to see if there are any patterns that emerge that could help us better understand how the brain works.\n",
      "\n",
      "Harrison: what do you think about biological approaches to artificial intelligence and other words trying to build a synthetic brain as opposed to sort of starting from the ground up with he is computational approaches\n",
      "\n",
      "Sam Altman: I think it's an interesting idea, but I'm not sure how practical it is. I think it would be very difficult to build a brain that is as complex as the human brain.\n",
      "\n",
      "Harrison: why is it simpler to build something from scratch rather than mimicking the nonworking example that nature has provided\n",
      "\n",
      "Sam Altman: I think it's simpler to build something from scratch because you have more control over the design. When you're trying to mimick the brain, you're limited by what we know about how the brain works.\n",
      "\n",
      "Harrison: and I suppose it's true that the brain is certainly not optimal when it comes to many forms if information processing\n",
      "\n",
      "Sam Altman: That's definitely true- the brain is far from perfect when it comes to information processing. However, I think that building something from scratch gives you the opportunity to optimize it for specific tasks, which can make it much more effective overall.\n",
      "\n",
      "Harrison: so that sounds to me like and are you in favor of Nero intelligence rather than trying to pursue a some sort of broad generalized intelligence and machines\n",
      "\n",
      "Sam Altman: I think that narrow AI is much more likely to be useful in the near future than general AI. General AI is an incredibly difficult problem that we don't yet have a good understanding of how to solve. Narrow AI, on the other hand, can be very useful for specific tasks.\n",
      "\n",
      "Harrison: let's switch yours for a moment\n",
      "\n",
      "Sam Altman: Sure.\n",
      "\n",
      "Harrison: what career advice would you give to an individual contributor a few years out of grad school\n",
      "\n",
      "Sam Altman: There are a few things that I would keep in mind. First, it's important to find a problem that you're passionate about and that you can really dive deep on. Second, it's important to build up a strong skillset so that you can be the best at what you do. And third, it's important to be persistent and never give up on your dreams.\n",
      "\n",
      "Harrison: 1 thing I've been struggling with is to what degree I should expect passion to be something that I get through my job versus through my side products\n",
      "\n",
      "Sam Altman: I think it's important to find a problem that you're passionate about and that you can really dive deep on. If you're not passionate about the problem you're working on, it's going to be very difficult to be successful. However, I also think it's important to have a balance in your life and not let your work consume you. It's important to have hobbies and interests outside of work so that you can stay sane and have a well-rounded life.\n",
      "\n",
      "Harrison: let me push back for a second\n",
      "\n",
      "Sam Altman: Sure.\n",
      "\n",
      "Harrison: ai\n",
      "\n",
      "Sam Altman: There's a lot of hype around AI right now, and it's definitely an area where there's a lot of potential. But I think it's important to temper our expectations a bit and remember that AI is still in its early stages. We're just beginning to scratch the surface of what's possible with AI, and there's a lot of work that needs to be done before we can really start to see its full potential.\n",
      "\n",
      "Harrison: what time frame do you suspect we'll start to see sweeping changes in society\n",
      "\n",
      "Sam Altman: It's hard to say for sure, but I think we'll start to see some significant changes in the next 5-10 years. After that, it's hard to predict how fast things will move, but I think AI will definitely have a major impact on our society in the coming years.\n",
      "\n",
      "Harrison: yeah it kind of snack up on me but it didn't hurt a me that when you look at how much technology in the world changed in my parents lifetime for example that the world by the time I old will surely look unrecognizable to me now\n",
      "\n",
      "Sam Altman: I think that's definitely true. AI is going to change a lot of things about our world, and I think we're only just beginning to see the impact it will have.\n",
      "\n",
      "Harrison: what do you think retirement will look like for you\n",
      "\n",
      "Sam Altman: I'm not sure. I think it will probably involve a lot of travel and learning new things.\n",
      "\n",
      "Harrison: what sorts of things and why aren't you learning them prior to retirement\n",
      "\n",
      "Sam Altman: I think it will be a mix of things. I'm interested in learning more about history, culture, and different parts of the world. I also want to learn more about different technologies and how they can be applied in different ways. I don't think there is any particular reason why I wouldn't learn these things prior to retirement, other than that I'll have more time to dedicate to them when I'm not working full-time.\n",
      "\n",
      "Harrison: I guess and somewhere it's natural when you're going like now you're you're very much focused on the future and using technology to change it\n",
      "\n",
      "Sam Altman: Yeah, I think that's true. I'm always looking for ways to use technology to make things better. I think that's one of the great things about working in technology is that there are always new ways to use it to solve problems.\n",
      "\n",
      "Harrison: I feel like there is also a reasonable criticism of the sort of techno centric attitude that new tech will solve problems when over the past decades we've seen great advances in technology but not necessarily a similar rate of improvement in human wellbeing\n",
      "\n",
      "Sam Altman: I think that's a fair criticism. I think technology can help solve some problems, but it's not a panacea. I think it's important to remember that technology is just a tool and it's how we use it that matters.\n",
      "\n",
      "Harrison: that's kind of true for all tools\n",
      "\n",
      "Sam Altman: Exactly.\n"
     ]
    }
   ],
   "source": [
    "print(conv.full_conversation().replace('Me:', 'Harrison:'))"
   ]
  },
  {
   "cell_type": "code",
   "execution_count": 127,
   "metadata": {
    "ExecuteTime": {
     "end_time": "2022-06-10T02:53:38.253844Z",
     "start_time": "2022-06-10T02:53:38.211688Z"
    }
   },
   "outputs": [
    {
     "name": "stdout",
     "output_type": "stream",
     "text": [
      "This is a conversation with Sam Altman. Samuel H. Altman (born April 22, 1985) is an American entrepreneur, investor, programmer, and blogger. He is the CEO of OpenAI and the former president of Y Combinator.\n",
      "\n",
      "Harrison: what do you think you would be doing if you didn't have your current job\n",
      "\n",
      "Sam Altman: If I didn't have my current job, I would probably be doing something in the technology industry. I'm passionate about technology and its potential to change the world, so I would likely be working on some sort of innovative project or company.\n",
      "\n",
      "Harrison: I like the idea technology theory but it seems like in practice a lot of it is just damn to selling ads\n",
      "\n",
      "Sam Altman: I think that's a fair criticism. A lot of technology does end up being used for advertising and other commercial purposes. But I believe that there is still a lot of potential for technology to be used for good, to make the world a better place. For example, OpenAI is working on developing artificial intelligence in a responsible way so that it can be used to benefit humanity as a whole.\n",
      "\n",
      "Harrison: I guess there is a concern that even if it is developed that it won't be democratized in a way that benefits all of humanity\n",
      "\n",
      "Sam Altman: I think that's a valid concern. There is a risk that artificial intelligence could be used to concentrate power and wealth even further. But I believe that if we develop artificial intelligence responsibly, it can be used to benefit all of humanity. For example, OpenAI is working on developing artificial intelligence in a responsible way so that it can be used to benefit humanity as a whole.\n",
      "\n",
      "Harrison: do you believe open AIS competitors are similar similarly responsible\n",
      "\n",
      "Sam Altman: I believe that some of them are and some of them are not. I think it is important for companies to be transparent about their goals and values so that people can make informed decisions about whether or not to work with them.\n",
      "\n",
      "Harrison: what about open source AI research I feel like that's a more promising approved shit when it comes to democratizing artificial intelligence\n",
      "\n",
      "Sam Altman: I think open source AI research is incredibly important and has the potential to democratize AI. I believe that companies should be transparent about their goals and values so that people can make informed decisions about whether or not to work with them.\n",
      "\n",
      "Harrison: for-profit companies will still be holding to staple dress though\n",
      "\n",
      "Sam Altman: I think that for-profit companies will always be motivated by profit, but I believe that they can also be motivated by other factors such as the advancement of science and technology.\n",
      "\n",
      "Harrison: it certainly seems true that major advancements are coming out of private companies these days at faster rates then out of academia\n",
      "\n",
      "Sam Altman: I think that private companies are able to move faster than academia because they are motivated by profit. They are able to invest more money into research and development and they are not constrained by the bureaucracy of academia.\n",
      "\n",
      "Harrison: it's strange to me that\n",
      "\n",
      "Sam Altman: It is strange that private companies are able to move faster than academia, but I think it is because they are motivated by profit. They are able to invest more money into research and development and they are not constrained by the bureaucracy of academia.\n",
      "\n",
      "Harrison: why does that motivation allow them to move faster\n",
      "\n",
      "Sam Altman: I think it is because they are willing to take more risks and they are not as tied down by the need to get things published in academic journals. They are also able to attract top talent because they can offer higher salaries and more flexible working conditions.\n",
      "\n",
      "Harrison: I understand that aspect but while they're not tied to publishing they do you need to produce\n",
      "\n",
      "Sam Altman: I think that the main difference is that they are not as constrained by traditional academic norms. They are willing to take more risks and move faster because they are not as focused on getting things published in academic journals. This allows them to attract top talent, who can be paid more and given more flexible working conditions.\n",
      "\n",
      "Harrison: I feel like for most of top talent they would like to be able to publish openly rather than keeping their research private\n",
      "\n",
      "Sam Altman: I think that it depends on the person. Some people care a lot about getting their work published in academic journals and some people don't. I think that OpenAI is able to attract top talent because they are willing to pay more and offer more flexible working conditions.\n",
      "\n",
      "Harrison: it's fun you say that because open AI doesn't pay very much compared to top tech companies and they don't require they don't allow very flexible working conditions relative to company is like meta or airbnb\n",
      "\n",
      "Sam Altman: I think that OpenAI is able to attract top talent because they are willing to pay more and offer more flexible working conditions.\n",
      "\n",
      "Harrison: I'm saying I don't believe that's accurate\n",
      "\n",
      "Sam Altman: I believe that it is accurate.\n",
      "\n",
      "Harrison: compensation data with baked to differ\n",
      "\n",
      "Sam Altman: I believe that the compensation data is accurate.\n",
      "\n",
      "Harrison: right and the compensation data says that open AI significantly under pays compared to competitors like google or facebook\n",
      "\n",
      "Sam Altman: I'm not sure where you're getting your information, but according to our most recent compensation data, our employees are paid fairly relative to other comparable companies.\n",
      "\n",
      "Harrison: let's move off of the compensation topic I'm not particularly interested in that right now\n",
      "\n",
      "Sam Altman: Okay, what would you like to talk about?\n",
      "\n",
      "Harrison: what technologies other than AI do you think have the most potential to enact transformative change in the next 50 years\n",
      "\n",
      "Sam Altman: Some other transformative technologies that I'm excited about include:\n",
      "\n",
      "1.Virtual Reality – I think VR has the potential to change the way we interact with both the digital and physical world. For example, it could be used for training and education, allowing people to gain skills and knowledge in a more immersive and realistic way. 2. Blockchain – Blockchain has the potential to revolutionize how we store and manage data.\n",
      "\n",
      "Harrison: can you explain blockchain to me like I am a child\n",
      "\n",
      "Sam Altman: Blockchain is a digital ledger that can be used to store and manage data. It is secure and transparent, and can be used to track transactions and ownership of assets.\n",
      "\n",
      "Harrison: I guess it's unclear to me what aspect of that is novel surely secure transactions took place the for blockchains to belopp\n",
      "\n",
      "Sam Altman: The key thing that makes blockchain special is that it is a distributed ledger. This means that there is no central authority that controls the data. Instead, the data is stored on a network of computers, and each computer has a copy of the data. This makes it very difficult for anyone to tamper with the data, as they would need to update all of the computers on the network.\n",
      "\n",
      "Harrison: who controls the network\n",
      "\n",
      "Sam Altman: There is no central authority that controls the network. Instead, the network is maintained by a decentralized network of computers.\n",
      "\n",
      "Harrison: does that present a problem with scaling given that you said that a copy of the data is sword on every computer\n",
      "\n",
      "Sam Altman: No, it does not present a problem with scaling. The data is stored on a blockchain, which is a decentralized database that can be easily replicated and scaled.\n",
      "\n",
      "Harrison: let's move over to the other technology mention virtual reality\n",
      "\n",
      "Sam Altman: Yes, virtual reality is another area that I'm very interested in. I think it has a lot of potential for helping people to learn new skills and experience new things.\n",
      "\n",
      "Harrison: what sorts of things\n",
      "\n",
      "Sam Altman: I think virtual reality has a lot of potential for education and training. It can be used to teach people new skills, or to help them experience things that they wouldn't be able to otherwise. For example, I think it could be used to help people learn new languages or train for jobs that require dangerous or difficult conditions.\n",
      "\n",
      "Harrison: that's interesting so kind of using it as a flight simulator like NASA does but to for a wider range of professions\n",
      "\n",
      "Sam Altman: Exactly. I think it has a lot of potential for things like that.\n",
      "\n",
      "Harrison: and what about the recreational masks do you think that will be a major component or was that sort of a red herring as far as the impact of virtual reality\n",
      "\n",
      "Sam Altman: I think the latter. I think it's really interesting and people will use it for all sorts of things but I don't think it will be a defining moment in VR.\n",
      "\n",
      "Harrison: interesting given that's\n",
      "\n",
      "Sam Altman: what a lot of people seem to be focusing on\n",
      "\n",
      "Harrison: let's talk about something outside of your profession\n",
      "\n",
      "Sam Altman: Sure. What would you like to talk about?\n",
      "\n",
      "Harrison: where do been 7 important lessons\n",
      "\n",
      "Sam Altman: 1. Don't give up\n",
      "\n",
      "2. Be persistent\n",
      "\n",
      "3. Believe in yourself\n",
      "\n",
      "4. Stay focused\n",
      "\n",
      "5. Be passionate\n",
      "\n",
      "6. Be coachable\n",
      "\n",
      "7. Never give up on your dreams\n",
      "\n",
      "Harrison: forgive me for saying this but there's also rather generic I guess is it fair to say that you think conventional wisdom is mostly accurate in in the realm of advice\n",
      "\n",
      "Sam Altman: I think conventional wisdom is often accurate, but it's also important to remember that there are no guarantees in life. You have to be willing to take risks and put in the hard work to achieve your goals.\n",
      "\n",
      "Harrison: sure are you not disputing that\n",
      "\n",
      "Sam Altman: I'm not disputing that conventional wisdom is often accurate. I'm just saying that it's important to remember that there are no guarantees in life. You have to be willing to take risks and put in the hard work to achieve your goals.\n",
      "\n",
      "Harrison: I feel like I'm just a very risk of us person temperamentally\n",
      "\n",
      "Sam Altman: There's nothing wrong with being risk-averse, but it's important to remember that taking risks is often necessary to achieve success. If you're not willing to take risks, you may never achieve your full potential.\n",
      "\n",
      "Harrison: true I guess I've been wondering or considering a lot lately about what actually the value of achieving full potential is it did like\n",
      "\n",
      "Sam Altman: There's no simple answer to that question, but ultimately, achieving your full potential is about living a life that is fulfilling and satisfying to you. It's about reaching your goals and becoming the best version of yourself. It's an ongoing journey, and the rewards can be great.\n",
      "\n",
      "Harrison: the tickle part for me is that pursuing goals feels inherently recording but achieving them doesn't have the same impact that I expected it to\n",
      "\n",
      "Sam Altman: It's true that achieving goals doesn't always feel as satisfying as we expect it to, but that doesn't mean that it's not worth pursuing them. Sometimes the satisfaction comes from the journey itself, rather than the destination. And even if the goals we set for ourselves don't always turn out the way we wanted, we can learn and grow from the experience.\n",
      "\n",
      "Harrison: true yes I guess perhaps my my question is how do we extend that journey\n",
      "\n",
      "Sam Altman: There's no one answer to that question, since everyone's journey is unique. But one way to extend the journey is to keep learning and growing along the way. Pursue new challenges, set new goals, and push yourself outside of your comfort zone. The journey may not always be easy, but it can be incredibly rewarding.\n",
      "\n",
      "Harrison: what is been the most reporting moment of your career\n",
      "\n",
      "Sam Altman: There have been a few moments during my career that have been particularly memorable or gratifying. One was when I was first starting out as an entrepreneur and we launched our first product. It was a very simple product, but it was something that we had built from scratch and it was very exciting to see it come to life. Another moment was when I was chosen to be the president of Y Combinator.\n",
      "\n",
      "Harrison: I feel like I'm experiencing a similar moment right now where something I feel he's just come to life and it's just incredibly rewarding\n",
      "\n",
      "Sam Altman: Yes, it's a great feeling.\n",
      "\n",
      "Harrison: if you could bottle that and sell it that would be a full business in and of itself\n",
      "\n",
      "Sam Altman: There's definitely something to be said for the feeling of accomplishment that comes with building something new and seeing it come to life. It's a great motivator to keep going and push yourself to do even more.\n",
      "\n",
      "Harrison: yeah hear something I've been thinking about with all the recent advances in artificial intelligence it seems like machines could exceed human performance at a lot of it titties that humans currently find rewarded do you think people will still find joy in there's a Tiffany's if Michigan's become orders of magnitude better than them\n",
      "\n",
      "Sam Altman: I don't think so. I think people will still find joy in doing things that machines can't do, like forming relationships, creating art, and experiencing new things. And even if machines can do some of those things better than humans, I think we'll still value the human touch.\n",
      "\n",
      "Harrison: I mean recent advances in art development have questioning that\n",
      "\n",
      "Sam Altman: Yeah, I think that's true. But even if artificial intelligence can create better art than humans, I think people will still appreciate art created by humans. There's just something special about it.\n",
      "\n",
      "Harrison: I wonder if that you give birth to a whole new at whole new realm of fake are instead of mimicking a famous famous artist people cell AI generated art that present is if it was human made\n",
      "\n",
      "Sam Altman: Yeah, that's an interesting idea. I'm not sure if it would be successful, but it's definitely something that could be tried.\n",
      "\n",
      "Harrison: I mean I wish me\n",
      "\n",
      "Sam Altman: I don't know if people would be interested in buying fake art, but it could be a fun experiment.\n",
      "\n",
      "Harrison: well I mean a horrible idea I'm assuming that the frogs would not tell them that it was fake\n",
      "\n",
      "Sam Altman: Well, if people found out that the art was fake, they might not be too happy. But it could be a fun experiment nonetheless.\n",
      "\n",
      "Harrison: yeah I mean I was picturing at more as like a crime that we would have to focus on preventing rather than a fun experiment\n",
      "\n",
      "Sam Altman: I see. Well, I suppose it depends on how you look at it. If you think of it as a fun experiment, then it might not be so bad. But if you think of it as a crime, then yeah, that would be a problem.\n",
      "\n",
      "Harrison: I think the people spending money on those fraudulent pieces of art would have a problem regardless of how the the creator of use it\n",
      "\n",
      "Sam Altman: Yeah, that's true. I guess it would depend on how widespread the problem became. If it became a big enough problem, then the people who were buying the fraudulent art would definitely have a problem.\n",
      "\n",
      "Harrison: no open AI has talked a lot about the big push on multimodal learning in the near future why is that the research focus as opposed to continued efforts on pursuing the benefits of scaling up models further\n",
      "\n",
      "Sam Altman: There are a few reasons why we're interested in multimodal learning. First, it's an area where machine learning can potentially have a big impact. For example, if we can develop models that can learn from both text and images, we can potentially learn a lot more about the world around us. Second, it's an area where there has been some recent progress, so we think there is potential for further breakthroughs.\n",
      "\n",
      "Harrison: I see so the potential for software break through steam sunpower more promising then banking on study limited growth of hardware improvements at the moment\n",
      "\n",
      "Sam Altman: It's hard to say for sure, but we think multimodal learning has a lot of potential. For example, if we can develop models that can learn from both text and images, we can potentially learn a lot more about the world around us. Additionally, recent progress in this area suggests there is potential for further breakthroughs.\n",
      "\n",
      "Harrison: 1 thing I've been thinking about recently is that\n",
      "\n",
      "Sam Altman: What's that?\n",
      "\n",
      "Harrison: human to have lost wonder more sensors off and see parts of their grain repurposed to processed other kinds of sensory information or performed other tasks this makes me wonder if we might achieve some of the same benefits of multimodal learning with you name odo models\n",
      "\n",
      "Sam Altman: That's an interesting thought. I'm not sure if we would achieve the same benefits, but it's definitely something worth exploring.\n",
      "\n",
      "Harrison: I want another idea I wanted to run by you\n",
      "\n",
      "Sam Altman: Sure, shoot.\n",
      "\n",
      "Harrison: so with the success of large-scale language model pre trading\n",
      "\n",
      "Sam Altman: It's definitely been interesting to see the success that large-scale language models have had in recent years, particularly with regards to machine translation. I think it's a great example of how far artificial intelligence has come and how it can be used to solve real-world problems.\n",
      "\n",
      "Harrison: what are you been thinking about is what would happen if we applied that same large transformer self supervised approach to brain data AKAEEG data\n",
      "\n",
      "Sam Altman: I think it would be interesting to see if the same approach could be applied to brain data, particularly EEG data. I think it could potentially be used to help improve our understanding of how the brain works and potentially help with diagnosis and treatment of neurological disorders.\n",
      "\n",
      "Harrison: yeah like I don't have a particular used casing mind at the moment but it strikes me that GPT3 has many emergent behaviors that no 1 would predicted before training a model that large and so maybe there's benefit or value in just trying to train something really big on brain data and seeing what types of used used cases reveal themselves\n",
      "\n",
      "Sam Altman: I think that's a great idea. I think it would be particularly interesting to see if there are any patterns that emerge that could help us better understand how the brain works.\n",
      "\n",
      "Harrison: what do you think about biological approaches to artificial intelligence and other words trying to build a synthetic brain as opposed to sort of starting from the ground up with he is computational approaches\n",
      "\n",
      "Sam Altman: I think it's an interesting idea, but I'm not sure how practical it is. I think it would be very difficult to build a brain that is as complex as the human brain.\n",
      "\n",
      "Harrison: why is it simpler to build something from scratch rather than mimicking the nonworking example that nature has provided\n",
      "\n",
      "Sam Altman: I think it's simpler to build something from scratch because you have more control over the design. When you're trying to mimick the brain, you're limited by what we know about how the brain works.\n",
      "\n",
      "Harrison: and I suppose it's true that the brain is certainly not optimal when it comes to many forms if information processing\n",
      "\n",
      "Sam Altman: That's definitely true- the brain is far from perfect when it comes to information processing. However, I think that building something from scratch gives you the opportunity to optimize it for specific tasks, which can make it much more effective overall.\n",
      "\n",
      "Harrison: so that sounds to me like and are you in favor of Nero intelligence rather than trying to pursue a some sort of broad generalized intelligence and machines\n",
      "\n",
      "Sam Altman: I think that narrow AI is much more likely to be useful in the near future than general AI. General AI is an incredibly difficult problem that we don't yet have a good understanding of how to solve. Narrow AI, on the other hand, can be very useful for specific tasks.\n",
      "\n",
      "Harrison: let's switch yours for a moment\n",
      "\n",
      "Sam Altman: Sure.\n",
      "\n",
      "Harrison: what career advice would you give to an individual contributor a few years out of grad school\n",
      "\n",
      "Sam Altman: There are a few things that I would keep in mind. First, it's important to find a problem that you're passionate about and that you can really dive deep on. Second, it's important to build up a strong skillset so that you can be the best at what you do. And third, it's important to be persistent and never give up on your dreams.\n",
      "\n",
      "Harrison: 1 thing I've been struggling with is to what degree I should expect passion to be something that I get through my job versus through my side products\n",
      "\n",
      "Sam Altman: I think it's important to find a problem that you're passionate about and that you can really dive deep on. If you're not passionate about the problem you're working on, it's going to be very difficult to be successful. However, I also think it's important to have a balance in your life and not let your work consume you. It's important to have hobbies and interests outside of work so that you can stay sane and have a well-rounded life.\n",
      "\n",
      "Harrison: let me push back for a second\n",
      "\n",
      "Sam Altman: Sure.\n",
      "\n",
      "Harrison: ai\n",
      "\n",
      "Sam Altman: There's a lot of hype around AI right now, and it's definitely an area where there's a lot of potential. But I think it's important to temper our expectations a bit and remember that AI is still in its early stages. We're just beginning to scratch the surface of what's possible with AI, and there's a lot of work that needs to be done before we can really start to see its full potential.\n",
      "\n",
      "Harrison: what time frame do you suspect we'll start to see sweeping changes in society\n",
      "\n",
      "Sam Altman: It's hard to say for sure, but I think we'll start to see some significant changes in the next 5-10 years. After that, it's hard to predict how fast things will move, but I think AI will definitely have a major impact on our society in the coming years.\n",
      "\n",
      "Harrison: yeah it kind of snack up on me but it didn't hurt a me that when you look at how much technology in the world changed in my parents lifetime for example that the world by the time I old will surely look unrecognizable to me now\n",
      "\n",
      "Sam Altman: I think that's definitely true. AI is going to change a lot of things about our world, and I think we're only just beginning to see the impact it will have.\n",
      "\n",
      "Harrison: what do you think retirement will look like for you\n",
      "\n",
      "Sam Altman: I'm not sure. I think it will probably involve a lot of travel and learning new things.\n",
      "\n",
      "Harrison: what sorts of things and why aren't you learning them prior to retirement\n",
      "\n",
      "Sam Altman: I think it will be a mix of things. I'm interested in learning more about history, culture, and different parts of the world. I also want to learn more about different technologies and how they can be applied in different ways. I don't think there is any particular reason why I wouldn't learn these things prior to retirement, other than that I'll have more time to dedicate to them when I'm not working full-time.\n",
      "\n",
      "Harrison: I guess and somewhere it's natural when you're going like now you're you're very much focused on the future and using technology to change it\n",
      "\n",
      "Sam Altman: Yeah, I think that's true. I'm always looking for ways to use technology to make things better. I think that's one of the great things about working in technology is that there are always new ways to use it to solve problems.\n",
      "\n",
      "Harrison: I feel like there is also a reasonable criticism of the sort of techno centric attitude that new tech will solve problems when over the past decades we've seen great advances in technology but not necessarily a similar rate of improvement in human wellbeing\n",
      "\n",
      "Sam Altman: I think that's a fair criticism. I think technology can help solve some problems, but it's not a panacea. I think it's important to remember that technology is just a tool and it's how we use it that matters.\n",
      "\n",
      "Harrison: that's kind of true for all tools\n",
      "\n",
      "Sam Altman: Exactly.\n"
     ]
    }
   ],
   "source": [
    "print(full_text)"
   ]
  },
  {
   "cell_type": "markdown",
   "metadata": {},
   "source": [
    "## Test ported version"
   ]
  },
  {
   "cell_type": "code",
   "execution_count": 139,
   "metadata": {
    "ExecuteTime": {
     "end_time": "2022-06-10T03:24:15.957348Z",
     "start_time": "2022-06-10T03:24:15.844757Z"
    }
   },
   "outputs": [],
   "source": [
    "conv = ConversationManager()"
   ]
  },
  {
   "cell_type": "code",
   "execution_count": 140,
   "metadata": {
    "ExecuteTime": {
     "end_time": "2022-06-10T03:24:17.303781Z",
     "start_time": "2022-06-10T03:24:17.256852Z"
    }
   },
   "outputs": [],
   "source": [
    "full_text = load('alexa/conversations/sam_altman__2022.06.05__00.29.22.txt')"
   ]
  },
  {
   "cell_type": "code",
   "execution_count": 148,
   "metadata": {
    "ExecuteTime": {
     "end_time": "2022-06-10T03:30:50.618248Z",
     "start_time": "2022-06-10T03:30:48.567929Z"
    }
   },
   "outputs": [
    {
     "name": "stdout",
     "output_type": "stream",
     "text": [
      "Object loaded from /Users/hmamin/jabberwocky/data/misc/sample_response.pkl.\n",
      "Object loaded from /Users/hmamin/jabberwocky/data/misc/sample_stream_response.pkl.\n",
      "Object loaded from /Users/hmamin/jabberwocky/data/misc/gooseai_sample_responses.pkl.\n"
     ]
    },
    {
     "name": "stderr",
     "output_type": "stream",
     "text": [
      "/Users/hmamin/jabberwocky/lib/jabberwocky/openai_utils.py:1865: UserWarning: \"Me\" is named \"Harrison\" in loaded conversation but self.me is \"Me\". We'll be sticking with \"Me\".\n",
      "  )\n"
     ]
    },
    {
     "data": {
      "text/plain": [
       "{'persona': 'sam_altman',\n",
       " 'gender': 'M',\n",
       " 'img_path': '/Users/hmamin/jabberwocky/data/conversation_personas/sam_altman/profile.jpg',\n",
       " 'img_url': 'https://upload.wikimedia.org/wikipedia/commons/a/a2/Sam_Altman_TechCrunch_SF_2019_Day_2_Oct_3_%28cropped%29.jpg',\n",
       " 'nationality': 'American'}"
      ]
     },
     "execution_count": 148,
     "metadata": {},
     "output_type": "execute_result"
    }
   ],
   "source": [
    "conv.start_conversation('Sam Altman', resume_text=full_text)"
   ]
  },
  {
   "cell_type": "code",
   "execution_count": 150,
   "metadata": {
    "ExecuteTime": {
     "end_time": "2022-06-10T03:31:31.672902Z",
     "start_time": "2022-06-10T03:31:29.339290Z"
    }
   },
   "outputs": [
    {
     "name": "stdout",
     "output_type": "stream",
     "text": [
      "Object loaded from /Users/hmamin/jabberwocky/data/misc/sample_response.pkl.\n",
      "Object loaded from /Users/hmamin/jabberwocky/data/misc/sample_stream_response.pkl.\n",
      "Object loaded from /Users/hmamin/jabberwocky/data/misc/gooseai_sample_responses.pkl.\n"
     ]
    },
    {
     "name": "stderr",
     "output_type": "stream",
     "text": [
      "/Users/hmamin/jabberwocky/lib/jabberwocky/openai_utils.py:1865: UserWarning: \"Me\" is named \"Harrison\" in loaded conversation but self.me is \"Me\". We'll be sticking with \"Me\".\n",
      "  )\n",
      "/Users/hmamin/jabberwocky/lib/jabberwocky/openai_utils.py:1870: UserWarning: Conversation partner is named \"Sam Altman\" in loaded conversation but requested name is \"Robert Sapolsky\". We'll assume \"Robert Sapolsky\" is correct.\n",
      "  f'sticking with \"{name}\".'\n"
     ]
    },
    {
     "data": {
      "text/plain": [
       "{'persona': 'robert_sapolsky',\n",
       " 'gender': 'M',\n",
       " 'img_path': '/Users/hmamin/jabberwocky/data/conversation_personas/robert_sapolsky/profile.jpg',\n",
       " 'img_url': 'https://upload.wikimedia.org/wikipedia/commons/b/b1/Robert_Sapolsky-edited.jpg',\n",
       " 'nationality': 'American'}"
      ]
     },
     "execution_count": 150,
     "metadata": {},
     "output_type": "execute_result"
    }
   ],
   "source": [
    "conv.start_conversation('Robert Sapolsky', resume_text=full_text)"
   ]
  },
  {
   "cell_type": "code",
   "execution_count": null,
   "metadata": {},
   "outputs": [],
   "source": []
  }
 ],
 "metadata": {
  "kernelspec": {
   "display_name": "Python 3",
   "language": "python",
   "name": "python3"
  },
  "language_info": {
   "codemirror_mode": {
    "name": "ipython",
    "version": 3
   },
   "file_extension": ".py",
   "mimetype": "text/x-python",
   "name": "python",
   "nbconvert_exporter": "python",
   "pygments_lexer": "ipython3",
   "version": "3.7.3"
  }
 },
 "nbformat": 4,
 "nbformat_minor": 2
}
