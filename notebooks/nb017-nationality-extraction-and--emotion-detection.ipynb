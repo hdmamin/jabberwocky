{
 "cells": [
  {
   "cell_type": "markdown",
   "metadata": {},
   "source": [
    "# Summary\n",
    "\n",
    "SMS dataset from here:\n",
    "https://www.kaggle.com/datasets/uciml/sms-spam-collection-dataset\n",
    "It looks ver messy."
   ]
  },
  {
   "cell_type": "code",
   "execution_count": 1,
   "metadata": {
    "ExecuteTime": {
     "end_time": "2022-05-20T03:36:30.344105Z",
     "start_time": "2022-05-20T03:36:30.308377Z"
    }
   },
   "outputs": [
    {
     "name": "stdout",
     "output_type": "stream",
     "text": [
      "The autoreload extension is already loaded. To reload it, use:\n",
      "  %reload_ext autoreload\n"
     ]
    }
   ],
   "source": [
    "%load_ext autoreload\n",
    "%autoreload 2"
   ]
  },
  {
   "cell_type": "code",
   "execution_count": 4,
   "metadata": {
    "ExecuteTime": {
     "end_time": "2022-05-20T03:36:54.484283Z",
     "start_time": "2022-05-20T03:36:48.823078Z"
    }
   },
   "outputs": [],
   "source": [
    "import matplotlib.pyplot as plt\n",
    "import numpy as np\n",
    "import os\n",
    "import pandas as pd\n",
    "from pathlib import Path\n",
    "from transformers import pipeline\n",
    "\n",
    "from jabberwocky.config import C\n",
    "from jabberwocky.openai_utils import load_prompt, load_openai_api_key\n",
    "from htools import *"
   ]
  },
  {
   "cell_type": "code",
   "execution_count": 5,
   "metadata": {
    "ExecuteTime": {
     "end_time": "2022-05-20T03:36:54.609870Z",
     "start_time": "2022-05-20T03:36:54.486916Z"
    }
   },
   "outputs": [
    {
     "name": "stdout",
     "output_type": "stream",
     "text": [
      "Current directory: /Users/hmamin/jabberwocky\n"
     ]
    }
   ],
   "source": [
    "cd_root()"
   ]
  },
  {
   "cell_type": "code",
   "execution_count": 6,
   "metadata": {
    "ExecuteTime": {
     "end_time": "2022-05-20T03:37:19.614776Z",
     "start_time": "2022-05-20T03:37:11.795661Z"
    }
   },
   "outputs": [],
   "source": [
    "pipe = pipeline(\"text-classification\",\n",
    "                model=\"j-hartmann/emotion-english-distilroberta-base\",\n",
    "                return_all_scores=False)"
   ]
  },
  {
   "cell_type": "code",
   "execution_count": 7,
   "metadata": {
    "ExecuteTime": {
     "end_time": "2022-05-20T03:38:15.392247Z",
     "start_time": "2022-05-20T03:38:15.269395Z"
    }
   },
   "outputs": [],
   "source": [
    "df = pd.read_csv('data/tmp/sms.csv', encoding='latin1')\n",
    "sms = df[df.v1 == 'ham'].reset_index(drop=True).v2"
   ]
  },
  {
   "cell_type": "code",
   "execution_count": 11,
   "metadata": {
    "ExecuteTime": {
     "end_time": "2022-05-20T03:42:54.743765Z",
     "start_time": "2022-05-20T03:39:11.293626Z"
    }
   },
   "outputs": [],
   "source": [
    "labels = pipe(sms.tolist())"
   ]
  },
  {
   "cell_type": "code",
   "execution_count": 13,
   "metadata": {
    "ExecuteTime": {
     "end_time": "2022-05-20T03:43:27.346274Z",
     "start_time": "2022-05-20T03:43:27.256514Z"
    }
   },
   "outputs": [
    {
     "data": {
      "text/html": [
       "<div>\n",
       "<style scoped>\n",
       "    .dataframe tbody tr th:only-of-type {\n",
       "        vertical-align: middle;\n",
       "    }\n",
       "\n",
       "    .dataframe tbody tr th {\n",
       "        vertical-align: top;\n",
       "    }\n",
       "\n",
       "    .dataframe thead th {\n",
       "        text-align: right;\n",
       "    }\n",
       "</style>\n",
       "<table border=\"1\" class=\"dataframe\">\n",
       "  <thead>\n",
       "    <tr style=\"text-align: right;\">\n",
       "      <th></th>\n",
       "      <th>label</th>\n",
       "      <th>score</th>\n",
       "      <th>text</th>\n",
       "    </tr>\n",
       "  </thead>\n",
       "  <tbody>\n",
       "    <tr>\n",
       "      <th>0</th>\n",
       "      <td>surprise</td>\n",
       "      <td>0.582727</td>\n",
       "      <td>Go until jurong point, crazy.. Available only ...</td>\n",
       "    </tr>\n",
       "    <tr>\n",
       "      <th>1</th>\n",
       "      <td>joy</td>\n",
       "      <td>0.541641</td>\n",
       "      <td>Ok lar... Joking wif u oni...</td>\n",
       "    </tr>\n",
       "    <tr>\n",
       "      <th>4823</th>\n",
       "      <td>anger</td>\n",
       "      <td>0.492744</td>\n",
       "      <td>The guy did some bitching but I acted like i'd...</td>\n",
       "    </tr>\n",
       "    <tr>\n",
       "      <th>4824</th>\n",
       "      <td>neutral</td>\n",
       "      <td>0.951871</td>\n",
       "      <td>Rofl. Its true to its name</td>\n",
       "    </tr>\n",
       "  </tbody>\n",
       "</table>\n",
       "</div>"
      ],
      "text/plain": [
       "         label     score                                               text\n",
       "0     surprise  0.582727  Go until jurong point, crazy.. Available only ...\n",
       "1          joy  0.541641                      Ok lar... Joking wif u oni...\n",
       "4823     anger  0.492744  The guy did some bitching but I acted like i'd...\n",
       "4824   neutral  0.951871                         Rofl. Its true to its name"
      ]
     },
     "execution_count": 13,
     "metadata": {},
     "output_type": "execute_result"
    }
   ],
   "source": [
    "res = pd.DataFrame(labels).assign(text=sms)\n",
    "res.ends()"
   ]
  },
  {
   "cell_type": "code",
   "execution_count": 14,
   "metadata": {
    "ExecuteTime": {
     "end_time": "2022-05-20T03:43:31.793635Z",
     "start_time": "2022-05-20T03:43:31.711631Z"
    }
   },
   "outputs": [
    {
     "data": {
      "text/html": [
       "<div>\n",
       "<style scoped>\n",
       "    .dataframe tbody tr th:only-of-type {\n",
       "        vertical-align: middle;\n",
       "    }\n",
       "\n",
       "    .dataframe tbody tr th {\n",
       "        vertical-align: top;\n",
       "    }\n",
       "\n",
       "    .dataframe thead th {\n",
       "        text-align: right;\n",
       "    }\n",
       "</style>\n",
       "<table border=\"1\" class=\"dataframe\">\n",
       "  <thead>\n",
       "    <tr style=\"text-align: right;\">\n",
       "      <th></th>\n",
       "      <th>label</th>\n",
       "      <th>label_raw_count</th>\n",
       "      <th>label_normed_count</th>\n",
       "    </tr>\n",
       "  </thead>\n",
       "  <tbody>\n",
       "    <tr>\n",
       "      <th>0</th>\n",
       "      <td>neutral</td>\n",
       "      <td>2254</td>\n",
       "      <td>0.467150</td>\n",
       "    </tr>\n",
       "    <tr>\n",
       "      <th>1</th>\n",
       "      <td>sadness</td>\n",
       "      <td>815</td>\n",
       "      <td>0.168912</td>\n",
       "    </tr>\n",
       "    <tr>\n",
       "      <th>2</th>\n",
       "      <td>joy</td>\n",
       "      <td>680</td>\n",
       "      <td>0.140933</td>\n",
       "    </tr>\n",
       "    <tr>\n",
       "      <th>3</th>\n",
       "      <td>surprise</td>\n",
       "      <td>567</td>\n",
       "      <td>0.117513</td>\n",
       "    </tr>\n",
       "    <tr>\n",
       "      <th>4</th>\n",
       "      <td>anger</td>\n",
       "      <td>221</td>\n",
       "      <td>0.045803</td>\n",
       "    </tr>\n",
       "    <tr>\n",
       "      <th>5</th>\n",
       "      <td>fear</td>\n",
       "      <td>168</td>\n",
       "      <td>0.034819</td>\n",
       "    </tr>\n",
       "    <tr>\n",
       "      <th>6</th>\n",
       "      <td>disgust</td>\n",
       "      <td>120</td>\n",
       "      <td>0.024870</td>\n",
       "    </tr>\n",
       "  </tbody>\n",
       "</table>\n",
       "</div>"
      ],
      "text/plain": [
       "      label  label_raw_count  label_normed_count\n",
       "0   neutral             2254            0.467150\n",
       "1   sadness              815            0.168912\n",
       "2       joy              680            0.140933\n",
       "3  surprise              567            0.117513\n",
       "4     anger              221            0.045803\n",
       "5      fear              168            0.034819\n",
       "6   disgust              120            0.024870"
      ]
     },
     "execution_count": 14,
     "metadata": {},
     "output_type": "execute_result"
    }
   ],
   "source": [
    "res.label.vcounts()"
   ]
  },
  {
   "cell_type": "code",
   "execution_count": 15,
   "metadata": {
    "ExecuteTime": {
     "end_time": "2022-05-20T03:44:06.388175Z",
     "start_time": "2022-05-20T03:44:05.122295Z"
    },
    "scrolled": false
   },
   "outputs": [
    {
     "data": {
      "image/png": "[encoded data removed]",
      "text/plain": [
       "<Figure size 640x480 with 1 Axes>"
      ]
     },
     "metadata": {},
     "output_type": "display_data"
    },
    {
     "data": {
      "image/png": "[encoded data removed]",
      "text/plain": [
       "<Figure size 640x480 with 1 Axes>"
      ]
     },
     "metadata": {},
     "output_type": "display_data"
    },
    {
     "data": {
      "image/png": "[encoded data removed]",
      "text/plain": [
       "<Figure size 640x480 with 1 Axes>"
      ]
     },
     "metadata": {},
     "output_type": "display_data"
    },
    {
     "data": {
      "image/png": "[encoded data removed]",
      "text/plain": [
       "<Figure size 640x480 with 1 Axes>"
      ]
     },
     "metadata": {},
     "output_type": "display_data"
    },
    {
     "data": {
      "image/png": "[encoded data removed]",
      "text/plain": [
       "<Figure size 640x480 with 1 Axes>"
      ]
     },
     "metadata": {},
     "output_type": "display_data"
    },
    {
     "data": {
      "image/png": "[encoded data removed]",
      "text/plain": [
       "<Figure size 640x480 with 1 Axes>"
      ]
     },
     "metadata": {},
     "output_type": "display_data"
    },
    {
     "data": {
      "image/png": "[encoded data removed]",
      "text/plain": [
       "<Figure size 640x480 with 1 Axes>"
      ]
     },
     "metadata": {},
     "output_type": "display_data"
    }
   ],
   "source": [
    "for label in res.label.unique():\n",
    "    res[res.label == label].score.plot.hist()\n",
    "    plt.title(label)\n",
    "    plt.show()"
   ]
  },
  {
   "cell_type": "code",
   "execution_count": 32,
   "metadata": {
    "ExecuteTime": {
     "end_time": "2022-05-20T03:50:21.465904Z",
     "start_time": "2022-05-20T03:50:21.372399Z"
    }
   },
   "outputs": [
    {
     "name": "stdout",
     "output_type": "stream",
     "text": [
      "Sad candidates: 4.560% of ham texts\n"
     ]
    },
    {
     "data": {
      "text/html": [
       "<table border=\"1\" class=\"dataframe\">\n",
       "  <thead>\n",
       "    <tr style=\"text-align: right;\">\n",
       "      <th></th>\n",
       "      <th>label</th>\n",
       "      <th>score</th>\n",
       "      <th>text</th>\n",
       "    </tr>\n",
       "  </thead>\n",
       "  <tbody>\n",
       "    <tr>\n",
       "      <th>1230</th>\n",
       "      <td>sadness</td>\n",
       "      <td>0.991044</td>\n",
       "      <td>I jus hope its true that  missin me cos i'm really missin him! You haven't done anything to feel guilty about, yet.</td>\n",
       "    </tr>\n",
       "    <tr>\n",
       "      <th>1826</th>\n",
       "      <td>sadness</td>\n",
       "      <td>0.988056</td>\n",
       "      <td>Sorry im getting up now, feel really bad- totally rejected that kinda me thing.</td>\n",
       "    </tr>\n",
       "    <tr>\n",
       "      <th>4454</th>\n",
       "      <td>sadness</td>\n",
       "      <td>0.987495</td>\n",
       "      <td>Idk. I'm sitting here in a stop and shop parking lot right now bawling my eyes out because i feel like i'm a failure in everything. Nobody wants me and now i feel like i'm failing you.</td>\n",
       "    </tr>\n",
       "    <tr>\n",
       "      <th>4761</th>\n",
       "      <td>sadness</td>\n",
       "      <td>0.987064</td>\n",
       "      <td>Love has one law; Make happy the person you love. In the same way friendship has one law; Never make ur friend feel alone until you are alive.... Gud night</td>\n",
       "    </tr>\n",
       "    <tr>\n",
       "      <th>3534</th>\n",
       "      <td>sadness</td>\n",
       "      <td>0.986705</td>\n",
       "      <td>Quite ok but a bit ex... U better go eat smth now else i'll feel guilty...</td>\n",
       "    </tr>\n",
       "    <tr>\n",
       "      <th>1565</th>\n",
       "      <td>sadness</td>\n",
       "      <td>0.986074</td>\n",
       "      <td>I couldn't say no as he is a dying man and I feel sad for him so I will go and I just wanted you to know I would probably be gone late into your night</td>\n",
       "    </tr>\n",
       "    <tr>\n",
       "      <th>3004</th>\n",
       "      <td>sadness</td>\n",
       "      <td>0.986064</td>\n",
       "      <td>Heart is empty without love.. Mind is empty without wisdom.. Eyes r empty without dreams &amp;amp; Life is empty without frnds.. So Alwys Be In Touch. Good night &amp;amp; sweet dreams</td>\n",
       "    </tr>\n",
       "    <tr>\n",
       "      <th>3103</th>\n",
       "      <td>sadness</td>\n",
       "      <td>0.986064</td>\n",
       "      <td>Heart is empty without love.. Mind is empty without wisdom.. Eyes r empty without dreams &amp;amp; Life is empty without frnds.. So Alwys Be In Touch. Good night &amp;amp; sweet dreams</td>\n",
       "    </tr>\n",
       "    <tr>\n",
       "      <th>3447</th>\n",
       "      <td>sadness</td>\n",
       "      <td>0.984922</td>\n",
       "      <td>I wish u were here. I feel so alone</td>\n",
       "    </tr>\n",
       "    <tr>\n",
       "      <th>238</th>\n",
       "      <td>sadness</td>\n",
       "      <td>0.984007</td>\n",
       "      <td>\\Wen u miss someone</td>\n",
       "    </tr>\n",
       "    <tr>\n",
       "      <th>1616</th>\n",
       "      <td>sadness</td>\n",
       "      <td>0.905502</td>\n",
       "      <td>Just seeing your missed call my dear brother. Do have a gr8 day.</td>\n",
       "    </tr>\n",
       "    <tr>\n",
       "      <th>2031</th>\n",
       "      <td>sadness</td>\n",
       "      <td>0.904986</td>\n",
       "      <td>Hi. I'm sorry i missed your call. Can you pls call back.</td>\n",
       "    </tr>\n",
       "    <tr>\n",
       "      <th>4042</th>\n",
       "      <td>sadness</td>\n",
       "      <td>0.904070</td>\n",
       "      <td>I'm leaving my house now.</td>\n",
       "    </tr>\n",
       "    <tr>\n",
       "      <th>1068</th>\n",
       "      <td>sadness</td>\n",
       "      <td>0.903576</td>\n",
       "      <td>Am also doing in cbe only. But have to pay.</td>\n",
       "    </tr>\n",
       "    <tr>\n",
       "      <th>3210</th>\n",
       "      <td>sadness</td>\n",
       "      <td>0.903303</td>\n",
       "      <td>How is my boy? No sweet words left for me this morning ... *sighs* ... How goes you day, my love ? Did you start your studying?</td>\n",
       "    </tr>\n",
       "    <tr>\n",
       "      <th>2492</th>\n",
       "      <td>sadness</td>\n",
       "      <td>0.902984</td>\n",
       "      <td>My battery is low babe</td>\n",
       "    </tr>\n",
       "    <tr>\n",
       "      <th>766</th>\n",
       "      <td>sadness</td>\n",
       "      <td>0.902755</td>\n",
       "      <td>My love ! How come it took you so long to leave for Zaher's? I got your words on ym and was happy to see them but was sad you had left. I miss you</td>\n",
       "    </tr>\n",
       "    <tr>\n",
       "      <th>4015</th>\n",
       "      <td>sadness</td>\n",
       "      <td>0.902557</td>\n",
       "      <td>Sorry i din lock my keypad.</td>\n",
       "    </tr>\n",
       "    <tr>\n",
       "      <th>4297</th>\n",
       "      <td>sadness</td>\n",
       "      <td>0.902213</td>\n",
       "      <td>I will cme i want to go to hos 2morow. After that i wil cme. This what i got from her dear what to do. She didnt say any time</td>\n",
       "    </tr>\n",
       "    <tr>\n",
       "      <th>305</th>\n",
       "      <td>sadness</td>\n",
       "      <td>0.901288</td>\n",
       "      <td>I'm an actor. When i work, i work in the evening and sleep late. Since i'm unemployed at the moment, i ALWAYS sleep late. When you're unemployed, every day is saturday.</td>\n",
       "    </tr>\n",
       "  </tbody>\n",
       "</table>"
      ],
      "text/plain": [
       "<IPython.core.display.HTML object>"
      ]
     },
     "metadata": {},
     "output_type": "display_data"
    }
   ],
   "source": [
    "sad = res[(res.label == 'sadness') & (res.score >= .9)]\n",
    "print(f'Sad candidates: {(sad.shape[0] / sms.shape[0]):.3%} of ham texts')\n",
    "sad.sort_values('score', ascending=False).ends(10).pprint(False)"
   ]
  },
  {
   "cell_type": "code",
   "execution_count": 31,
   "metadata": {
    "ExecuteTime": {
     "end_time": "2022-05-20T03:50:18.152923Z",
     "start_time": "2022-05-20T03:50:18.066701Z"
    }
   },
   "outputs": [
    {
     "name": "stdout",
     "output_type": "stream",
     "text": [
      "joy candidates: 2.694% of ham texts\n"
     ]
    },
    {
     "data": {
      "text/html": [
       "<table border=\"1\" class=\"dataframe\">\n",
       "  <thead>\n",
       "    <tr style=\"text-align: right;\">\n",
       "      <th></th>\n",
       "      <th>label</th>\n",
       "      <th>score</th>\n",
       "      <th>text</th>\n",
       "    </tr>\n",
       "  </thead>\n",
       "  <tbody>\n",
       "    <tr>\n",
       "      <th>4217</th>\n",
       "      <td>joy</td>\n",
       "      <td>0.988959</td>\n",
       "      <td>Hi dis is yijue i would be happy to work wif Ì_ all for gek1510...</td>\n",
       "    </tr>\n",
       "    <tr>\n",
       "      <th>4330</th>\n",
       "      <td>joy</td>\n",
       "      <td>0.987592</td>\n",
       "      <td>Guess which pub im in? Im as happy as a pig in clover or whatever the saying is!</td>\n",
       "    </tr>\n",
       "    <tr>\n",
       "      <th>3130</th>\n",
       "      <td>joy</td>\n",
       "      <td>0.987586</td>\n",
       "      <td>I enjoy watching and playing football and basketball. Anything outdoors. And you?</td>\n",
       "    </tr>\n",
       "    <tr>\n",
       "      <th>4494</th>\n",
       "      <td>joy</td>\n",
       "      <td>0.986678</td>\n",
       "      <td>I like cheap! But iÛ÷m happy to splash out on the wine if it makes you feel better..</td>\n",
       "    </tr>\n",
       "    <tr>\n",
       "      <th>1496</th>\n",
       "      <td>joy</td>\n",
       "      <td>0.986389</td>\n",
       "      <td>I love to wine and dine my lady!</td>\n",
       "    </tr>\n",
       "    <tr>\n",
       "      <th>2976</th>\n",
       "      <td>joy</td>\n",
       "      <td>0.985359</td>\n",
       "      <td>Its good to hear from you</td>\n",
       "    </tr>\n",
       "    <tr>\n",
       "      <th>3295</th>\n",
       "      <td>joy</td>\n",
       "      <td>0.985256</td>\n",
       "      <td>No da. I am happy that we sit together na</td>\n",
       "    </tr>\n",
       "    <tr>\n",
       "      <th>1631</th>\n",
       "      <td>joy</td>\n",
       "      <td>0.985004</td>\n",
       "      <td>I love working from home :)</td>\n",
       "    </tr>\n",
       "    <tr>\n",
       "      <th>398</th>\n",
       "      <td>joy</td>\n",
       "      <td>0.984806</td>\n",
       "      <td>great princess! I love giving and receiving oral. Doggy style is my fave position. How about you? I enjoy making love  &amp;lt;#&amp;gt;  times per night :)</td>\n",
       "    </tr>\n",
       "    <tr>\n",
       "      <th>3696</th>\n",
       "      <td>joy</td>\n",
       "      <td>0.984405</td>\n",
       "      <td>I'm glad. You are following your dreams.</td>\n",
       "    </tr>\n",
       "    <tr>\n",
       "      <th>4637</th>\n",
       "      <td>joy</td>\n",
       "      <td>0.907029</td>\n",
       "      <td>Living is very simple.. Loving is also simple.. Laughing is too simple.. Winning is tooo simple.. But, Being 'SIMPLE' is very difficult...;-) :-)</td>\n",
       "    </tr>\n",
       "    <tr>\n",
       "      <th>234</th>\n",
       "      <td>joy</td>\n",
       "      <td>0.904798</td>\n",
       "      <td>Awesome, I'll see you in a bit</td>\n",
       "    </tr>\n",
       "    <tr>\n",
       "      <th>1507</th>\n",
       "      <td>joy</td>\n",
       "      <td>0.904056</td>\n",
       "      <td>Really good:)dhanush rocks once again:)</td>\n",
       "    </tr>\n",
       "    <tr>\n",
       "      <th>291</th>\n",
       "      <td>joy</td>\n",
       "      <td>0.903526</td>\n",
       "      <td>I take it the post has come then! You must have 1000s of texts now! Happy reading. My one from wiv hello caroline at the end is my favourite. Bless him</td>\n",
       "    </tr>\n",
       "    <tr>\n",
       "      <th>4172</th>\n",
       "      <td>joy</td>\n",
       "      <td>0.902863</td>\n",
       "      <td>Im good! I have been thinking about you...</td>\n",
       "    </tr>\n",
       "    <tr>\n",
       "      <th>3064</th>\n",
       "      <td>joy</td>\n",
       "      <td>0.901812</td>\n",
       "      <td>Mmmmm ... It was sooooo good to wake to your words this morning, my Love!! Mmmm fuck ... I love you too, my Lion ... *devouring kiss from across the sea*</td>\n",
       "    </tr>\n",
       "    <tr>\n",
       "      <th>705</th>\n",
       "      <td>joy</td>\n",
       "      <td>0.901496</td>\n",
       "      <td>Thanks for yesterday sir. You have been wonderful. Hope you enjoyed the burial. MojiBiola</td>\n",
       "    </tr>\n",
       "    <tr>\n",
       "      <th>3533</th>\n",
       "      <td>joy</td>\n",
       "      <td>0.901027</td>\n",
       "      <td>Good afternoon, my love. It was good to see your words on YM and get your tm. Very smart move, my slave ... *smiles* ... I drink my coffee and await you.</td>\n",
       "    </tr>\n",
       "    <tr>\n",
       "      <th>4000</th>\n",
       "      <td>joy</td>\n",
       "      <td>0.900874</td>\n",
       "      <td>I'm on the bus. Love you</td>\n",
       "    </tr>\n",
       "    <tr>\n",
       "      <th>4609</th>\n",
       "      <td>joy</td>\n",
       "      <td>0.900234</td>\n",
       "      <td>What makes you most happy?</td>\n",
       "    </tr>\n",
       "  </tbody>\n",
       "</table>"
      ],
      "text/plain": [
       "<IPython.core.display.HTML object>"
      ]
     },
     "metadata": {},
     "output_type": "display_data"
    }
   ],
   "source": [
    "joy = res[(res.label == 'joy') & (res.score >= .9)]\n",
    "print(f'joy candidates: {(joy.shape[0] / sms.shape[0]):.3%} of ham texts')\n",
    "joy.sort_values('score', ascending=False).ends(10).pprint(False)"
   ]
  },
  {
   "cell_type": "code",
   "execution_count": 30,
   "metadata": {
    "ExecuteTime": {
     "end_time": "2022-05-20T03:50:11.091664Z",
     "start_time": "2022-05-20T03:50:10.979289Z"
    }
   },
   "outputs": [
    {
     "data": {
      "text/plain": [
       "[{'label': 'joy', 'score': 0.9242186546325684}]"
      ]
     },
     "execution_count": 30,
     "metadata": {},
     "output_type": "execute_result"
    }
   ],
   "source": [
    "pipe('I\\'m really looking forward to it.')"
   ]
  },
  {
   "cell_type": "code",
   "execution_count": 34,
   "metadata": {
    "ExecuteTime": {
     "end_time": "2022-05-20T03:50:33.055209Z",
     "start_time": "2022-05-20T03:50:32.942945Z"
    }
   },
   "outputs": [
    {
     "data": {
      "text/plain": [
       "[{'label': 'fear', 'score': 0.985512912273407}]"
      ]
     },
     "execution_count": 34,
     "metadata": {},
     "output_type": "execute_result"
    }
   ],
   "source": [
    "pipe('I\\'m dreading it.')"
   ]
  },
  {
   "cell_type": "code",
   "execution_count": 35,
   "metadata": {
    "ExecuteTime": {
     "end_time": "2022-05-20T03:50:50.688919Z",
     "start_time": "2022-05-20T03:50:50.579961Z"
    }
   },
   "outputs": [
    {
     "data": {
      "text/plain": [
       "[{'label': 'joy', 'score': 0.9742332100868225}]"
      ]
     },
     "execution_count": 35,
     "metadata": {},
     "output_type": "execute_result"
    }
   ],
   "source": [
    "pipe('I like math.')"
   ]
  },
  {
   "cell_type": "code",
   "execution_count": 36,
   "metadata": {
    "ExecuteTime": {
     "end_time": "2022-05-20T03:50:58.922972Z",
     "start_time": "2022-05-20T03:50:58.812843Z"
    }
   },
   "outputs": [
    {
     "data": {
      "text/plain": [
       "[{'label': 'neutral', 'score': 0.6232054233551025}]"
      ]
     },
     "execution_count": 36,
     "metadata": {},
     "output_type": "execute_result"
    }
   ],
   "source": [
    "pipe('I sort of like math.')"
   ]
  },
  {
   "cell_type": "code",
   "execution_count": 37,
   "metadata": {
    "ExecuteTime": {
     "end_time": "2022-05-20T03:51:04.775553Z",
     "start_time": "2022-05-20T03:51:04.664714Z"
    }
   },
   "outputs": [
    {
     "data": {
      "text/plain": [
       "[{'label': 'joy', 'score': 0.9775391817092896}]"
      ]
     },
     "execution_count": 37,
     "metadata": {},
     "output_type": "execute_result"
    }
   ],
   "source": [
    "pipe('I really like math.')"
   ]
  },
  {
   "cell_type": "code",
   "execution_count": 38,
   "metadata": {
    "ExecuteTime": {
     "end_time": "2022-05-20T03:51:13.455482Z",
     "start_time": "2022-05-20T03:51:13.350928Z"
    }
   },
   "outputs": [
    {
     "data": {
      "text/plain": [
       "[{'label': 'joy', 'score': 0.963892936706543}]"
      ]
     },
     "execution_count": 38,
     "metadata": {},
     "output_type": "execute_result"
    }
   ],
   "source": [
    "pipe('I adore math.')"
   ]
  },
  {
   "cell_type": "code",
   "execution_count": null,
   "metadata": {},
   "outputs": [],
   "source": []
  },
  {
   "cell_type": "code",
   "execution_count": null,
   "metadata": {},
   "outputs": [],
   "source": []
  },
  {
   "cell_type": "code",
   "execution_count": null,
   "metadata": {},
   "outputs": [],
   "source": []
  },
  {
   "cell_type": "code",
   "execution_count": null,
   "metadata": {},
   "outputs": [],
   "source": []
  },
  {
   "cell_type": "code",
   "execution_count": null,
   "metadata": {},
   "outputs": [],
   "source": []
  },
  {
   "cell_type": "code",
   "execution_count": null,
   "metadata": {},
   "outputs": [],
   "source": []
  },
  {
   "cell_type": "markdown",
   "metadata": {},
   "source": [
    "## Wikipedia nationality extraction"
   ]
  },
  {
   "cell_type": "code",
   "execution_count": 347,
   "metadata": {
    "ExecuteTime": {
     "end_time": "2022-05-21T04:27:36.691128Z",
     "start_time": "2022-05-21T04:27:34.825676Z"
    }
   },
   "outputs": [],
   "source": [
    "from bs4 import BeautifulSoup\n",
    "from fuzzywuzzy import fuzz, process\n",
    "from glob import glob\n",
    "import spacy\n",
    "import wikipedia as wiki\n",
    "\n",
    "from jabberwocky.external_data import wiki_page\n",
    "from jabberwocky.openai_utils import ConversationManager"
   ]
  },
  {
   "cell_type": "code",
   "execution_count": 349,
   "metadata": {
    "ExecuteTime": {
     "end_time": "2022-05-21T04:27:49.725816Z",
     "start_time": "2022-05-21T04:27:48.802117Z"
    }
   },
   "outputs": [],
   "source": [
    "nlp = spacy.load('en_core_web_sm')"
   ]
  },
  {
   "cell_type": "code",
   "execution_count": 104,
   "metadata": {
    "ExecuteTime": {
     "end_time": "2022-05-21T02:44:43.326795Z",
     "start_time": "2022-05-21T02:44:43.230535Z"
    },
    "scrolled": true
   },
   "outputs": [],
   "source": [
    "conv = ConversationManager(verbose=False)"
   ]
  },
  {
   "cell_type": "code",
   "execution_count": 140,
   "metadata": {
    "ExecuteTime": {
     "end_time": "2022-05-21T03:06:49.497115Z",
     "start_time": "2022-05-21T03:06:39.881517Z"
    }
   },
   "outputs": [
    {
     "data": {
      "application/vnd.jupyter.widget-view+json": {
       "model_id": "daa3c41b3e3443b6b30989557fbbcb76",
       "version_major": 2,
       "version_minor": 0
      },
      "text/plain": [
       "  0%|          | 0/27 [00:00<?, ?it/s]"
      ]
     },
     "metadata": {},
     "output_type": "display_data"
    },
    {
     "name": "stdout",
     "output_type": "stream",
     "text": [
      "Couldn't find wikipedia page for Yann Lecun.\n"
     ]
    }
   ],
   "source": [
    "name2page = dict.fromkeys(conv.name2gender)\n",
    "failed = []\n",
    "for name in tqdm(conv.name2gender):\n",
    "    pretty_name = conv.process_name(name, True)\n",
    "    try:\n",
    "        name2page[name] = wiki_page(pretty_name)\n",
    "    except Exception as e:\n",
    "        print(e)\n",
    "        failed.append(name)\n",
    "\n",
    "name2page['yann_lecun'] = wiki_page('Yann Lecun', 'computer science')"
   ]
  },
  {
   "cell_type": "code",
   "execution_count": 71,
   "metadata": {
    "ExecuteTime": {
     "end_time": "2022-05-20T04:07:50.154265Z",
     "start_time": "2022-05-20T04:07:45.677148Z"
    }
   },
   "outputs": [
    {
     "data": {
      "text/plain": [
       "{'categories': 'attribute',\n",
       " 'content': 'attribute',\n",
       " 'html': 'method',\n",
       " 'images': 'attribute',\n",
       " 'links': 'attribute',\n",
       " 'original_title': 'attribute',\n",
       " 'pageid': 'attribute',\n",
       " 'parent_id': 'attribute',\n",
       " 'references': 'attribute',\n",
       " 'revision_id': 'attribute',\n",
       " 'section': 'method',\n",
       " 'sections': 'attribute',\n",
       " 'summary': 'attribute',\n",
       " 'title': 'attribute',\n",
       " 'url': 'attribute'}"
      ]
     },
     "execution_count": 71,
     "metadata": {},
     "output_type": "execute_result"
    }
   ],
   "source": [
    "hdir(page)"
   ]
  },
  {
   "cell_type": "code",
   "execution_count": 142,
   "metadata": {
    "ExecuteTime": {
     "end_time": "2022-05-21T03:09:51.825481Z",
     "start_time": "2022-05-21T03:09:51.727218Z"
    }
   },
   "outputs": [],
   "source": [
    "def extract_birthplace(page):\n",
    "    soup = BeautifulSoup(page.html(), 'lxml')\n",
    "    divs = [row for row in soup.find_all('div', class_='birthplace')]\n",
    "    if not divs:\n",
    "        return ''\n",
    "    if len(divs) > 1:\n",
    "        warnings.warn('Found multiple matching candidates: '\n",
    "                      f'{[row.text for row in divs]}')\n",
    "    return divs[0].text"
   ]
  },
  {
   "cell_type": "code",
   "execution_count": 168,
   "metadata": {
    "ExecuteTime": {
     "end_time": "2022-05-21T03:23:30.139608Z",
     "start_time": "2022-05-21T03:23:30.037276Z"
    }
   },
   "outputs": [],
   "source": [
    "def extract_birthplace_v2(page):\n",
    "    soup = BeautifulSoup(page.html(), 'lxml')\n",
    "    return ''.join(\n",
    "        getattr(row, 'text', row) for row in\n",
    "        list(soup.find_all('td', class_='infobox-data')[0].children)[-2:]\n",
    "    )"
   ]
  },
  {
   "cell_type": "code",
   "execution_count": 243,
   "metadata": {
    "ExecuteTime": {
     "end_time": "2022-05-21T03:46:16.532871Z",
     "start_time": "2022-05-21T03:46:16.446323Z"
    }
   },
   "outputs": [],
   "source": [
    "def extract_birthplace_v3(page):\n",
    "    soup = BeautifulSoup(page.html(), 'lxml')\n",
    "    tds = [row for row in soup.find_all('th', class_='infobox-label') \n",
    "           if row.text == 'Born']\n",
    "    if not tds:\n",
    "        return ''\n",
    "    if len(tds) > 1:\n",
    "        warnings.warn('Found multiple matching candidates: '\n",
    "                      f'{[row.text for row in tds]}')\n",
    "    td = tds[0].findNext('td')\n",
    "    last = list(td.children)[-1]\n",
    "    text = getattr(last, 'text', last)\n",
    "    return re.sub('\\[\\d{1,2}\\]', '', text.split(', ')[-1])"
   ]
  },
  {
   "cell_type": "code",
   "execution_count": 147,
   "metadata": {
    "ExecuteTime": {
     "end_time": "2022-05-21T03:13:24.403020Z",
     "start_time": "2022-05-21T03:11:21.915722Z"
    }
   },
   "outputs": [
    {
     "data": {
      "application/vnd.jupyter.widget-view+json": {
       "model_id": "8a4754f8fe1e49d9a6e51ce96f90dc47",
       "version_major": 2,
       "version_minor": 0
      },
      "text/plain": [
       "  0%|          | 0/27 [00:00<?, ?it/s]"
      ]
     },
     "metadata": {},
     "output_type": "display_data"
    }
   ],
   "source": [
    "name2birthplace = {k: extract_birthplace(v) \n",
    "                   for k, v in tqdm(name2page.items())}"
   ]
  },
  {
   "cell_type": "code",
   "execution_count": 299,
   "metadata": {
    "ExecuteTime": {
     "end_time": "2022-05-21T04:08:08.330434Z",
     "start_time": "2022-05-21T04:08:00.385313Z"
    }
   },
   "outputs": [
    {
     "data": {
      "application/vnd.jupyter.widget-view+json": {
       "model_id": "a596d7860c4b49f8adbca9c9da7cbbb8",
       "version_major": 2,
       "version_minor": 0
      },
      "text/plain": [
       "  0%|          | 0/27 [00:00<?, ?it/s]"
      ]
     },
     "metadata": {},
     "output_type": "display_data"
    }
   ],
   "source": [
    "name2birth2 = {k: extract_birthplace_v2(v) \n",
    "               for k, v in tqdm(name2page.items())}"
   ]
  },
  {
   "cell_type": "code",
   "execution_count": 300,
   "metadata": {
    "ExecuteTime": {
     "end_time": "2022-05-21T04:08:17.162287Z",
     "start_time": "2022-05-21T04:08:10.193153Z"
    }
   },
   "outputs": [
    {
     "data": {
      "application/vnd.jupyter.widget-view+json": {
       "model_id": "5d7371495cd44181aa958e0c840305c5",
       "version_major": 2,
       "version_minor": 0
      },
      "text/plain": [
       "  0%|          | 0/27 [00:00<?, ?it/s]"
      ]
     },
     "metadata": {},
     "output_type": "display_data"
    }
   ],
   "source": [
    "name2birht3 = {k: extract_birthplace_v3(v) \n",
    "               for k, v in tqdm(name2page.items())}"
   ]
  },
  {
   "cell_type": "code",
   "execution_count": 296,
   "metadata": {
    "ExecuteTime": {
     "end_time": "2022-05-21T04:06:42.233016Z",
     "start_time": "2022-05-21T04:06:42.064175Z"
    }
   },
   "outputs": [],
   "source": [
    "df_birthplace = pd.concat([\n",
    "    pd.DataFrame.from_dict(name2birthplace, orient='index')\n",
    "         .rename(columns={0: 'div_'}),\n",
    "     pd.DataFrame.from_dict(name2birth2, orient='index')\n",
    "         .rename(columns={0: 'last_'}),\n",
    "     pd.DataFrame.from_dict(name2birth3, orient='index')\n",
    "        .rename(columns={0: 'td_'})\n",
    "], axis=1)"
   ]
  },
  {
   "cell_type": "code",
   "execution_count": 59,
   "metadata": {
    "ExecuteTime": {
     "end_time": "2022-05-20T04:00:07.156870Z",
     "start_time": "2022-05-20T03:59:59.677966Z"
    }
   },
   "outputs": [
    {
     "name": "stderr",
     "output_type": "stream",
     "text": [
      "No model was supplied, defaulted to distilbert-base-cased-distilled-squad (https://huggingface.co/distilbert-base-cased-distilled-squad)\n"
     ]
    }
   ],
   "source": [
    "qa = pipeline('question-answering')"
   ]
  },
  {
   "cell_type": "code",
   "execution_count": 247,
   "metadata": {
    "ExecuteTime": {
     "end_time": "2022-05-21T03:49:44.595659Z",
     "start_time": "2022-05-21T03:49:39.445077Z"
    }
   },
   "outputs": [
    {
     "data": {
      "application/vnd.jupyter.widget-view+json": {
       "model_id": "",
       "version_major": 2,
       "version_minor": 0
      },
      "text/plain": [
       "  0%|          | 0/27 [00:00<?, ?it/s]"
      ]
     },
     "metadata": {},
     "output_type": "display_data"
    }
   ],
   "source": [
    "answers = {\n",
    "    name: qa(\n",
    "        {'question': f'What country is {conv.process_name(name, True)} from?', \n",
    "         'context': summ}\n",
    "    )\n",
    "   for name, summ in tqdm(conv.name2base.items())\n",
    "}\n",
    "answers = pd.DataFrame(\n",
    "    [{'name': name, 'answer': answer['answer'], 'score': answer['score']}\n",
    "     for name, answer in answers.items()]\n",
    ")"
   ]
  },
  {
   "cell_type": "code",
   "execution_count": 250,
   "metadata": {
    "ExecuteTime": {
     "end_time": "2022-05-21T03:50:50.524582Z",
     "start_time": "2022-05-21T03:50:22.980778Z"
    }
   },
   "outputs": [
    {
     "data": {
      "application/vnd.jupyter.widget-view+json": {
       "model_id": "494f7ebb94aa4ebda9d5e451d35c72bb",
       "version_major": 2,
       "version_minor": 0
      },
      "text/plain": [
       "  0%|          | 0/27 [00:00<?, ?it/s]"
      ]
     },
     "metadata": {},
     "output_type": "display_data"
    },
    {
     "name": "stderr",
     "output_type": "stream",
     "text": [
      "/Users/hmamin/anaconda3/lib/python3.7/site-packages/transformers/tokenization_utils_base.py:707: VisibleDeprecationWarning: Creating an ndarray from ragged nested sequences (which is a list-or-tuple of lists-or-tuples-or ndarrays with different lengths or shapes) is deprecated. If you meant to do this, you must specify 'dtype=object' when creating the ndarray.\n",
      "  tensor = as_tensor(value)\n",
      "/Users/hmamin/anaconda3/lib/python3.7/site-packages/transformers/pipelines/question_answering.py:300: VisibleDeprecationWarning: Creating an ndarray from ragged nested sequences (which is a list-or-tuple of lists-or-tuples-or ndarrays with different lengths or shapes) is deprecated. If you meant to do this, you must specify 'dtype=object' when creating the ndarray.\n",
      "  for span_id in range(num_spans)\n"
     ]
    }
   ],
   "source": [
    "answers2 = {\n",
    "    name: qa(\n",
    "        {'question': f'What country is {conv.process_name(name, True)} from?', \n",
    "         'context': page.summary}\n",
    "    )\n",
    "   for name, page in tqdm(name2page.items())\n",
    "}\n",
    "\n",
    "answers2 = pd.DataFrame(\n",
    "    [{'name': name, 'answer': answer['answer'], 'score': answer['score']}\n",
    "     for name, answer in answers2.items()]\n",
    ")"
   ]
  },
  {
   "cell_type": "code",
   "execution_count": 301,
   "metadata": {
    "ExecuteTime": {
     "end_time": "2022-05-21T04:08:31.576349Z",
     "start_time": "2022-05-21T04:08:31.477287Z"
    }
   },
   "outputs": [],
   "source": [
    "df_answers = pd.concat([\n",
    "    answers.set_index('name')\n",
    "        .rename(columns={'answer': 'qa', 'score': 'qa_score'}), \n",
    "    answers2.set_index('name')\n",
    "        .rename(columns={'answer': 'long_qa', 'score': 'long_qa_score'})\n",
    "], axis=1)"
   ]
  },
  {
   "cell_type": "code",
   "execution_count": 304,
   "metadata": {
    "ExecuteTime": {
     "end_time": "2022-05-21T04:08:55.066847Z",
     "start_time": "2022-05-21T04:08:54.967784Z"
    },
    "run_control": {
     "marked": false
    }
   },
   "outputs": [],
   "source": [
    "df_answers = pd.merge(\n",
    "    df_answers,\n",
    "    df_birthplace,\n",
    "    how='inner',\n",
    "    left_on='name',\n",
    "    right_index=True\n",
    ")"
   ]
  },
  {
   "cell_type": "code",
   "execution_count": 361,
   "metadata": {
    "ExecuteTime": {
     "end_time": "2022-05-21T04:30:31.894888Z",
     "start_time": "2022-05-21T04:30:31.789775Z"
    }
   },
   "outputs": [
    {
     "data": {
      "text/html": [
       "<div>\n",
       "<style scoped>\n",
       "    .dataframe tbody tr th:only-of-type {\n",
       "        vertical-align: middle;\n",
       "    }\n",
       "\n",
       "    .dataframe tbody tr th {\n",
       "        vertical-align: top;\n",
       "    }\n",
       "\n",
       "    .dataframe thead th {\n",
       "        text-align: right;\n",
       "    }\n",
       "</style>\n",
       "<table border=\"1\" class=\"dataframe\">\n",
       "  <thead>\n",
       "    <tr style=\"text-align: right;\">\n",
       "      <th></th>\n",
       "      <th>qa</th>\n",
       "      <th>qa_score</th>\n",
       "      <th>long_qa</th>\n",
       "      <th>long_qa_score</th>\n",
       "      <th>div_</th>\n",
       "      <th>last_</th>\n",
       "      <th>td_</th>\n",
       "    </tr>\n",
       "    <tr>\n",
       "      <th>name</th>\n",
       "      <th></th>\n",
       "      <th></th>\n",
       "      <th></th>\n",
       "      <th></th>\n",
       "      <th></th>\n",
       "      <th></th>\n",
       "      <th></th>\n",
       "    </tr>\n",
       "  </thead>\n",
       "  <tbody>\n",
       "    <tr>\n",
       "      <th>jk_rowling</th>\n",
       "      <td>British</td>\n",
       "      <td>0.998977</td>\n",
       "      <td>British</td>\n",
       "      <td>0.997887</td>\n",
       "      <td></td>\n",
       "      <td>Gloucestershire, England</td>\n",
       "      <td>England</td>\n",
       "    </tr>\n",
       "    <tr>\n",
       "      <th>archimedes</th>\n",
       "      <td>Greek</td>\n",
       "      <td>0.517055</td>\n",
       "      <td>Sicily</td>\n",
       "      <td>0.285133</td>\n",
       "      <td>Syracuse, Sicily</td>\n",
       "      <td>Syracuse, Sicily</td>\n",
       "      <td>Sicily</td>\n",
       "    </tr>\n",
       "    <tr>\n",
       "      <th>barack_obama</th>\n",
       "      <td>American</td>\n",
       "      <td>0.981602</td>\n",
       "      <td>American</td>\n",
       "      <td>0.934378</td>\n",
       "      <td></td>\n",
       "      <td>Joe Biden</td>\n",
       "      <td>U.S.</td>\n",
       "    </tr>\n",
       "    <tr>\n",
       "      <th>mark_zuckerberg</th>\n",
       "      <td>American</td>\n",
       "      <td>0.994055</td>\n",
       "      <td>American</td>\n",
       "      <td>0.998590</td>\n",
       "      <td>White Plains, New York, U.S.</td>\n",
       "      <td>White Plains, New York, U.S.</td>\n",
       "      <td>U.S.</td>\n",
       "    </tr>\n",
       "    <tr>\n",
       "      <th>ezra_klein</th>\n",
       "      <td>American</td>\n",
       "      <td>0.999155</td>\n",
       "      <td>American</td>\n",
       "      <td>0.986428</td>\n",
       "      <td>Irvine, California, U.S.</td>\n",
       "      <td>Irvine, California, U.S.</td>\n",
       "      <td>U.S.</td>\n",
       "    </tr>\n",
       "    <tr>\n",
       "      <th>michelle_obama</th>\n",
       "      <td>American</td>\n",
       "      <td>0.959505</td>\n",
       "      <td>American</td>\n",
       "      <td>0.958827</td>\n",
       "      <td></td>\n",
       "      <td>Barack Obama</td>\n",
       "      <td>U.S.</td>\n",
       "    </tr>\n",
       "    <tr>\n",
       "      <th>kanye_west</th>\n",
       "      <td>American</td>\n",
       "      <td>0.998115</td>\n",
       "      <td>American</td>\n",
       "      <td>0.992267</td>\n",
       "      <td>Atlanta, Georgia, U.S.</td>\n",
       "      <td>Atlanta, Georgia, U.S.</td>\n",
       "      <td>U.S.</td>\n",
       "    </tr>\n",
       "    <tr>\n",
       "      <th>george_harrison</th>\n",
       "      <td>English</td>\n",
       "      <td>0.992060</td>\n",
       "      <td>English</td>\n",
       "      <td>0.995846</td>\n",
       "      <td>Liverpool, England</td>\n",
       "      <td>Liverpool, England</td>\n",
       "      <td>England</td>\n",
       "    </tr>\n",
       "    <tr>\n",
       "      <th>nicolas_cage</th>\n",
       "      <td>American</td>\n",
       "      <td>0.992129</td>\n",
       "      <td>American</td>\n",
       "      <td>0.998483</td>\n",
       "      <td>Long Beach, California, U.S.</td>\n",
       "      <td>Long Beach, California, U.S.</td>\n",
       "      <td>U.S.</td>\n",
       "    </tr>\n",
       "    <tr>\n",
       "      <th>lex_fridman</th>\n",
       "      <td>Russian-American</td>\n",
       "      <td>0.504747</td>\n",
       "      <td>Russian-American</td>\n",
       "      <td>0.515202</td>\n",
       "      <td>Moscow, Russian SFSR, Soviet Union</td>\n",
       "      <td>/'lɛks 'friːdmæn/</td>\n",
       "      <td>Soviet Union</td>\n",
       "    </tr>\n",
       "    <tr>\n",
       "      <th>donald_glover</th>\n",
       "      <td>American</td>\n",
       "      <td>0.998486</td>\n",
       "      <td>American</td>\n",
       "      <td>0.994986</td>\n",
       "      <td>Edwards Air Force Base, California, U.S.</td>\n",
       "      <td>Edwards Air Force Base, California, U.S.</td>\n",
       "      <td>U.S.</td>\n",
       "    </tr>\n",
       "    <tr>\n",
       "      <th>alex_honnold</th>\n",
       "      <td>American</td>\n",
       "      <td>0.998960</td>\n",
       "      <td>American</td>\n",
       "      <td>0.999087</td>\n",
       "      <td></td>\n",
       "      <td>Sacramento, California, U.S.</td>\n",
       "      <td>U.S.</td>\n",
       "    </tr>\n",
       "    <tr>\n",
       "      <th>maya_angelou</th>\n",
       "      <td>American</td>\n",
       "      <td>0.998676</td>\n",
       "      <td>American</td>\n",
       "      <td>0.996642</td>\n",
       "      <td></td>\n",
       "      <td>St. Louis, Missouri, U.S.</td>\n",
       "      <td>U.S.</td>\n",
       "    </tr>\n",
       "    <tr>\n",
       "      <th>neil_degrasse_tyson</th>\n",
       "      <td>American</td>\n",
       "      <td>0.996496</td>\n",
       "      <td>American</td>\n",
       "      <td>0.685685</td>\n",
       "      <td>New York City, New York, U.S.</td>\n",
       "      <td>New York City, New York, U.S.</td>\n",
       "      <td>U.S.</td>\n",
       "    </tr>\n",
       "    <tr>\n",
       "      <th>elijah_wood</th>\n",
       "      <td>American</td>\n",
       "      <td>0.998584</td>\n",
       "      <td>American</td>\n",
       "      <td>0.997662</td>\n",
       "      <td>Cedar Rapids, Iowa, U.S.</td>\n",
       "      <td>Cedar Rapids, Iowa, U.S.</td>\n",
       "      <td>U.S.</td>\n",
       "    </tr>\n",
       "    <tr>\n",
       "      <th>brandon_sanderson</th>\n",
       "      <td>American</td>\n",
       "      <td>0.999023</td>\n",
       "      <td>American</td>\n",
       "      <td>0.998701</td>\n",
       "      <td></td>\n",
       "      <td>Lincoln, Nebraska, U.S.</td>\n",
       "      <td>U.S.</td>\n",
       "    </tr>\n",
       "    <tr>\n",
       "      <th>douglas_adams</th>\n",
       "      <td>English</td>\n",
       "      <td>0.997561</td>\n",
       "      <td>English</td>\n",
       "      <td>0.995705</td>\n",
       "      <td></td>\n",
       "      <td>Cambridgeshire, England</td>\n",
       "      <td>England</td>\n",
       "    </tr>\n",
       "    <tr>\n",
       "      <th>dr_seuss</th>\n",
       "      <td>American</td>\n",
       "      <td>0.999327</td>\n",
       "      <td>American</td>\n",
       "      <td>0.986089</td>\n",
       "      <td></td>\n",
       "      <td>Springfield, Massachusetts, U.S.</td>\n",
       "      <td>U.S.</td>\n",
       "    </tr>\n",
       "    <tr>\n",
       "      <th>apollo_ohno</th>\n",
       "      <td>American</td>\n",
       "      <td>0.996547</td>\n",
       "      <td>American</td>\n",
       "      <td>0.994241</td>\n",
       "      <td></td>\n",
       "      <td>Seattle, Washington, US[1]</td>\n",
       "      <td>US</td>\n",
       "    </tr>\n",
       "    <tr>\n",
       "      <th>george_orwell</th>\n",
       "      <td>English</td>\n",
       "      <td>0.999010</td>\n",
       "      <td>Scotland</td>\n",
       "      <td>0.837131</td>\n",
       "      <td>Motihari, Bengal Presidency, British India</td>\n",
       "      <td>Motihari, Bengal Presidency, British India</td>\n",
       "      <td>British India</td>\n",
       "    </tr>\n",
       "    <tr>\n",
       "      <th>robert_sapolsky</th>\n",
       "      <td>American</td>\n",
       "      <td>0.998870</td>\n",
       "      <td>American</td>\n",
       "      <td>0.995985</td>\n",
       "      <td>Brooklyn, New York, U.S.</td>\n",
       "      <td>Brooklyn, New York, U.S.</td>\n",
       "      <td>U.S.</td>\n",
       "    </tr>\n",
       "    <tr>\n",
       "      <th>albert_einstein</th>\n",
       "      <td>German</td>\n",
       "      <td>0.997999</td>\n",
       "      <td>German</td>\n",
       "      <td>0.979611</td>\n",
       "      <td>Ulm, Kingdom of Württemberg, German Empire</td>\n",
       "      <td>Ulm, Kingdom of Württemberg, German Empire</td>\n",
       "      <td>German Empire</td>\n",
       "    </tr>\n",
       "    <tr>\n",
       "      <th>beyonce</th>\n",
       "      <td>American</td>\n",
       "      <td>0.347054</td>\n",
       "      <td>American</td>\n",
       "      <td>0.987783</td>\n",
       "      <td>Houston, Texas, U.S.</td>\n",
       "      <td>Houston, Texas, U.S.</td>\n",
       "      <td>U.S.</td>\n",
       "    </tr>\n",
       "    <tr>\n",
       "      <th>shel_silverstein</th>\n",
       "      <td>American</td>\n",
       "      <td>0.506733</td>\n",
       "      <td>Florida</td>\n",
       "      <td>0.591832</td>\n",
       "      <td></td>\n",
       "      <td>Chicago, Illinois, U.S.</td>\n",
       "      <td>U.S.</td>\n",
       "    </tr>\n",
       "    <tr>\n",
       "      <th>yann_lecun</th>\n",
       "      <td>French</td>\n",
       "      <td>0.998738</td>\n",
       "      <td>French</td>\n",
       "      <td>0.890047</td>\n",
       "      <td>Soisy-sous-Montmorency, France</td>\n",
       "      <td>Soisy-sous-Montmorency, France</td>\n",
       "      <td>France</td>\n",
       "    </tr>\n",
       "    <tr>\n",
       "      <th>andrej_karpathy</th>\n",
       "      <td>Slovakia (Czechoslovakia</td>\n",
       "      <td>0.329192</td>\n",
       "      <td>Slovakia (Czechoslovakia</td>\n",
       "      <td>0.302543</td>\n",
       "      <td>Kosice, Slovakia</td>\n",
       "      <td>Kosice, Slovakia</td>\n",
       "      <td>Slovakia</td>\n",
       "    </tr>\n",
       "    <tr>\n",
       "      <th>sylvia_plath</th>\n",
       "      <td>American</td>\n",
       "      <td>0.999050</td>\n",
       "      <td>American</td>\n",
       "      <td>0.994786</td>\n",
       "      <td></td>\n",
       "      <td>Boston, Massachusetts, U.S.</td>\n",
       "      <td>U.S.</td>\n",
       "    </tr>\n",
       "  </tbody>\n",
       "</table>\n",
       "</div>"
      ],
      "text/plain": [
       "                                           qa  qa_score  \\\n",
       "name                                                      \n",
       "jk_rowling                            British  0.998977   \n",
       "archimedes                              Greek  0.517055   \n",
       "barack_obama                         American  0.981602   \n",
       "mark_zuckerberg                      American  0.994055   \n",
       "ezra_klein                           American  0.999155   \n",
       "michelle_obama                       American  0.959505   \n",
       "kanye_west                           American  0.998115   \n",
       "george_harrison                       English  0.992060   \n",
       "nicolas_cage                         American  0.992129   \n",
       "lex_fridman                  Russian-American  0.504747   \n",
       "donald_glover                        American  0.998486   \n",
       "alex_honnold                         American  0.998960   \n",
       "maya_angelou                         American  0.998676   \n",
       "neil_degrasse_tyson                  American  0.996496   \n",
       "elijah_wood                          American  0.998584   \n",
       "brandon_sanderson                    American  0.999023   \n",
       "douglas_adams                         English  0.997561   \n",
       "dr_seuss                             American  0.999327   \n",
       "apollo_ohno                          American  0.996547   \n",
       "george_orwell                         English  0.999010   \n",
       "robert_sapolsky                      American  0.998870   \n",
       "albert_einstein                        German  0.997999   \n",
       "beyonce                              American  0.347054   \n",
       "shel_silverstein                     American  0.506733   \n",
       "yann_lecun                             French  0.998738   \n",
       "andrej_karpathy      Slovakia (Czechoslovakia  0.329192   \n",
       "sylvia_plath                         American  0.999050   \n",
       "\n",
       "                                      long_qa  long_qa_score  \\\n",
       "name                                                           \n",
       "jk_rowling                            British       0.997887   \n",
       "archimedes                             Sicily       0.285133   \n",
       "barack_obama                         American       0.934378   \n",
       "mark_zuckerberg                      American       0.998590   \n",
       "ezra_klein                           American       0.986428   \n",
       "michelle_obama                       American       0.958827   \n",
       "kanye_west                           American       0.992267   \n",
       "george_harrison                       English       0.995846   \n",
       "nicolas_cage                         American       0.998483   \n",
       "lex_fridman                  Russian-American       0.515202   \n",
       "donald_glover                        American       0.994986   \n",
       "alex_honnold                         American       0.999087   \n",
       "maya_angelou                         American       0.996642   \n",
       "neil_degrasse_tyson                  American       0.685685   \n",
       "elijah_wood                          American       0.997662   \n",
       "brandon_sanderson                    American       0.998701   \n",
       "douglas_adams                         English       0.995705   \n",
       "dr_seuss                             American       0.986089   \n",
       "apollo_ohno                          American       0.994241   \n",
       "george_orwell                        Scotland       0.837131   \n",
       "robert_sapolsky                      American       0.995985   \n",
       "albert_einstein                        German       0.979611   \n",
       "beyonce                              American       0.987783   \n",
       "shel_silverstein                      Florida       0.591832   \n",
       "yann_lecun                             French       0.890047   \n",
       "andrej_karpathy      Slovakia (Czechoslovakia       0.302543   \n",
       "sylvia_plath                         American       0.994786   \n",
       "\n",
       "                                                           div_  \\\n",
       "name                                                              \n",
       "jk_rowling                                                        \n",
       "archimedes                                     Syracuse, Sicily   \n",
       "barack_obama                                                      \n",
       "mark_zuckerberg                    White Plains, New York, U.S.   \n",
       "ezra_klein                             Irvine, California, U.S.   \n",
       "michelle_obama                                                    \n",
       "kanye_west                               Atlanta, Georgia, U.S.   \n",
       "george_harrison                              Liverpool, England   \n",
       "nicolas_cage                       Long Beach, California, U.S.   \n",
       "lex_fridman                  Moscow, Russian SFSR, Soviet Union   \n",
       "donald_glover          Edwards Air Force Base, California, U.S.   \n",
       "alex_honnold                                                      \n",
       "maya_angelou                                                      \n",
       "neil_degrasse_tyson               New York City, New York, U.S.   \n",
       "elijah_wood                            Cedar Rapids, Iowa, U.S.   \n",
       "brandon_sanderson                                                 \n",
       "douglas_adams                                                     \n",
       "dr_seuss                                                          \n",
       "apollo_ohno                                                       \n",
       "george_orwell        Motihari, Bengal Presidency, British India   \n",
       "robert_sapolsky                        Brooklyn, New York, U.S.   \n",
       "albert_einstein      Ulm, Kingdom of Württemberg, German Empire   \n",
       "beyonce                                    Houston, Texas, U.S.   \n",
       "shel_silverstein                                                  \n",
       "yann_lecun                       Soisy-sous-Montmorency, France   \n",
       "andrej_karpathy                                Kosice, Slovakia   \n",
       "sylvia_plath                                                      \n",
       "\n",
       "                                                          last_            td_  \n",
       "name                                                                            \n",
       "jk_rowling                             Gloucestershire, England        England  \n",
       "archimedes                                     Syracuse, Sicily         Sicily  \n",
       "barack_obama                                          Joe Biden           U.S.  \n",
       "mark_zuckerberg                    White Plains, New York, U.S.           U.S.  \n",
       "ezra_klein                             Irvine, California, U.S.           U.S.  \n",
       "michelle_obama                                     Barack Obama           U.S.  \n",
       "kanye_west                               Atlanta, Georgia, U.S.           U.S.  \n",
       "george_harrison                              Liverpool, England        England  \n",
       "nicolas_cage                       Long Beach, California, U.S.           U.S.  \n",
       "lex_fridman                                  /'lɛks 'friːdmæn/    Soviet Union  \n",
       "donald_glover          Edwards Air Force Base, California, U.S.           U.S.  \n",
       "alex_honnold                       Sacramento, California, U.S.           U.S.  \n",
       "maya_angelou                          St. Louis, Missouri, U.S.           U.S.  \n",
       "neil_degrasse_tyson               New York City, New York, U.S.           U.S.  \n",
       "elijah_wood                            Cedar Rapids, Iowa, U.S.           U.S.  \n",
       "brandon_sanderson                       Lincoln, Nebraska, U.S.           U.S.  \n",
       "douglas_adams                           Cambridgeshire, England        England  \n",
       "dr_seuss                       Springfield, Massachusetts, U.S.           U.S.  \n",
       "apollo_ohno                          Seattle, Washington, US[1]             US  \n",
       "george_orwell        Motihari, Bengal Presidency, British India  British India  \n",
       "robert_sapolsky                        Brooklyn, New York, U.S.           U.S.  \n",
       "albert_einstein      Ulm, Kingdom of Württemberg, German Empire  German Empire  \n",
       "beyonce                                    Houston, Texas, U.S.           U.S.  \n",
       "shel_silverstein                        Chicago, Illinois, U.S.           U.S.  \n",
       "yann_lecun                       Soisy-sous-Montmorency, France         France  \n",
       "andrej_karpathy                                Kosice, Slovakia       Slovakia  \n",
       "sylvia_plath                        Boston, Massachusetts, U.S.           U.S.  "
      ]
     },
     "execution_count": 361,
     "metadata": {},
     "output_type": "execute_result"
    }
   ],
   "source": [
    "df_answers"
   ]
  },
  {
   "cell_type": "code",
   "execution_count": 389,
   "metadata": {
    "ExecuteTime": {
     "end_time": "2022-05-21T04:37:53.940075Z",
     "start_time": "2022-05-21T04:37:53.829366Z"
    }
   },
   "outputs": [],
   "source": [
    "voices = ['American', 'Australian', 'British']\n",
    "voice2doc = {row: nlp(row) for row in voices}"
   ]
  },
  {
   "cell_type": "code",
   "execution_count": 413,
   "metadata": {
    "ExecuteTime": {
     "end_time": "2022-05-21T04:49:42.646311Z",
     "start_time": "2022-05-21T04:49:42.542681Z"
    }
   },
   "outputs": [],
   "source": [
    "def multi_value_apply(x, func, col_names, *args, **kwargs):\n",
    "    res = x.apply(func, *args, **kwargs)\n",
    "    df = pd.DataFrame(zip(*res)).T.rename(columns=dict(enumerate(col_names)))\n",
    "    return df.assign(**{x.name: lambda _: x.values})"
   ]
  },
  {
   "cell_type": "code",
   "execution_count": 399,
   "metadata": {
    "ExecuteTime": {
     "end_time": "2022-05-21T04:42:31.533005Z",
     "start_time": "2022-05-21T04:42:31.438003Z"
    }
   },
   "outputs": [],
   "source": [
    "def spacy_postprocess_country(country, voice2doc, threshold=.8, \n",
    "                              other='Australian'):\n",
    "    country = country.replace('English', 'British')\n",
    "    voice2score = {voice: nlp(country).similarity(doc)\n",
    "                  for voice, doc in voice2doc.items()}\n",
    "    voice, score = max(voice2score.items(), key=lambda x: x[1])\n",
    "    if score < threshold:\n",
    "        voice = other\n",
    "        score = voice2score[voice]\n",
    "    return voice, score"
   ]
  },
  {
   "cell_type": "code",
   "execution_count": 416,
   "metadata": {
    "ExecuteTime": {
     "end_time": "2022-05-21T04:51:06.111273Z",
     "start_time": "2022-05-21T04:51:05.997621Z"
    }
   },
   "outputs": [],
   "source": [
    "def fuzzy_postprocess_country(country, countries, threshold=.8, \n",
    "                              other='Australian'):\n",
    "    country = country.replace('English', 'British')\n",
    "    score_pairs = [(name, score / 100) \n",
    "                   for name, score in process.extract(country, countries)]\n",
    "    country, score = score_pairs[0]\n",
    "    if score < threshold:\n",
    "        country = other\n",
    "        score = dict(score_pairs)[other]\n",
    "    return country, score"
   ]
  },
  {
   "cell_type": "code",
   "execution_count": 420,
   "metadata": {
    "ExecuteTime": {
     "end_time": "2022-05-21T04:52:03.603049Z",
     "start_time": "2022-05-21T04:52:03.124106Z"
    }
   },
   "outputs": [
    {
     "name": "stderr",
     "output_type": "stream",
     "text": [
      "/Users/hmamin/anaconda3/lib/python3.7/site-packages/ipykernel_launcher.py:5: UserWarning: [W007] The model you're using has no word vectors loaded, so the result of the Doc.similarity method will be based on the tagger, parser and NER, which may not give useful similarity judgements. This may happen if you're using one of the small models, e.g. `en_core_web_sm`, which don't ship with word vectors and only use context-sensitive tensors. You can always add your own word vectors, or use one of the larger models instead if available.\n",
      "  \"\"\"\n"
     ]
    }
   ],
   "source": [
    "df_spacy = multi_value_apply(\n",
    "    df_answers.qa, spacy_postprocess_country, \n",
    "    ['spacy', 'spacy_score'], voice2doc=voice2doc\n",
    ")"
   ]
  },
  {
   "cell_type": "code",
   "execution_count": 419,
   "metadata": {
    "ExecuteTime": {
     "end_time": "2022-05-21T04:51:53.397671Z",
     "start_time": "2022-05-21T04:51:53.271142Z"
    }
   },
   "outputs": [],
   "source": [
    "df_fuzzy = multi_value_apply(\n",
    "    df_answers.qa, fuzzy_postprocess_country, \n",
    "    ['fuzzy', 'fuzzy_score'], countries=voices\n",
    ")"
   ]
  },
  {
   "cell_type": "code",
   "execution_count": 267,
   "metadata": {
    "ExecuteTime": {
     "end_time": "2022-05-21T03:58:30.182197Z",
     "start_time": "2022-05-21T03:58:13.914675Z"
    }
   },
   "outputs": [
    {
     "name": "stderr",
     "output_type": "stream",
     "text": [
      "No model was supplied, defaulted to facebook/bart-large-mnli (https://huggingface.co/facebook/bart-large-mnli)\n"
     ]
    }
   ],
   "source": [
    "zshot = pipeline('zero-shot-classification')"
   ]
  },
  {
   "cell_type": "code",
   "execution_count": 325,
   "metadata": {
    "ExecuteTime": {
     "end_time": "2022-05-21T04:17:33.407800Z",
     "start_time": "2022-05-21T04:17:24.889082Z"
    },
    "run_control": {
     "marked": false
    },
    "scrolled": true
   },
   "outputs": [
    {
     "data": {
      "text/plain": [
       "[{'sequence': 'Greek',\n",
       "  'labels': ['European', 'Asian', 'British', 'American', 'Australian'],\n",
       "  'scores': [0.8984337449073792,\n",
       "   0.033241961151361465,\n",
       "   0.026257945224642754,\n",
       "   0.022002244368195534,\n",
       "   0.020064061507582664]},\n",
       " {'sequence': 'russian',\n",
       "  'labels': ['European', 'British', 'American', 'Australian', 'Asian'],\n",
       "  'scores': [0.3778006136417389,\n",
       "   0.18033693730831146,\n",
       "   0.16126391291618347,\n",
       "   0.1423082947731018,\n",
       "   0.13829028606414795]},\n",
       " {'sequence': 'russian-american',\n",
       "  'labels': ['American', 'European', 'British', 'Asian', 'Australian'],\n",
       "  'scores': [0.45206740498542786,\n",
       "   0.24850644171237946,\n",
       "   0.11101488023996353,\n",
       "   0.09682217985391617,\n",
       "   0.09158914536237717]},\n",
       " {'sequence': 'african',\n",
       "  'labels': ['Asian', 'European', 'American', 'Australian', 'British'],\n",
       "  'scores': [0.27489417791366577,\n",
       "   0.22464798390865326,\n",
       "   0.1878541111946106,\n",
       "   0.16704869270324707,\n",
       "   0.14555498957633972]},\n",
       " {'sequence': 'chinese',\n",
       "  'labels': ['Asian', 'European', 'British', 'American', 'Australian'],\n",
       "  'scores': [0.9962797164916992,\n",
       "   0.0010330486111342907,\n",
       "   0.000950189249124378,\n",
       "   0.0009334919159300625,\n",
       "   0.0008035353384912014]},\n",
       " {'sequence': 'asian',\n",
       "  'labels': ['Asian', 'Australian', 'European', 'American', 'British'],\n",
       "  'scores': [0.7951006889343262,\n",
       "   0.1958359032869339,\n",
       "   0.00360130169428885,\n",
       "   0.002793096238747239,\n",
       "   0.002669000532478094]},\n",
       " {'sequence': 'italian',\n",
       "  'labels': ['European', 'Asian', 'British', 'American', 'Australian'],\n",
       "  'scores': [0.4492878019809723,\n",
       "   0.14663636684417725,\n",
       "   0.14091037213802338,\n",
       "   0.14070329070091248,\n",
       "   0.12246211618185043]}]"
      ]
     },
     "execution_count": 325,
     "metadata": {},
     "output_type": "execute_result"
    }
   ],
   "source": [
    "zshot(['Greek', 'russian', 'russian-american', 'african', 'chinese', 'asian', \n",
    "       'italian'], \n",
    "      ['American', 'British', 'Australian', 'European', 'Asian'], multi_label=False)"
   ]
  },
  {
   "cell_type": "code",
   "execution_count": 306,
   "metadata": {
    "ExecuteTime": {
     "end_time": "2022-05-21T04:09:21.147884Z",
     "start_time": "2022-05-21T04:09:01.558542Z"
    },
    "run_control": {
     "marked": false
    }
   },
   "outputs": [],
   "source": [
    "tmp = zshot(df_answers.qa.tolist(), ['American', 'British', 'Australian'])"
   ]
  },
  {
   "cell_type": "code",
   "execution_count": 423,
   "metadata": {
    "ExecuteTime": {
     "end_time": "2022-05-21T04:52:36.884468Z",
     "start_time": "2022-05-21T04:52:36.786790Z"
    },
    "run_control": {
     "marked": false
    }
   },
   "outputs": [],
   "source": [
    "df_zshot = pd.DataFrame([{'zshot': row['labels'][0], \n",
    "                          'zshot_score': row['scores'][0]} \n",
    "          for row in tmp]).assign(qa=lambda x: df_answers.qa.values)"
   ]
  },
  {
   "cell_type": "code",
   "execution_count": 432,
   "metadata": {
    "ExecuteTime": {
     "end_time": "2022-05-21T04:55:12.988291Z",
     "start_time": "2022-05-21T04:55:12.868795Z"
    }
   },
   "outputs": [
    {
     "data": {
      "text/html": [
       "<div>\n",
       "<style scoped>\n",
       "    .dataframe tbody tr th:only-of-type {\n",
       "        vertical-align: middle;\n",
       "    }\n",
       "\n",
       "    .dataframe tbody tr th {\n",
       "        vertical-align: top;\n",
       "    }\n",
       "\n",
       "    .dataframe thead th {\n",
       "        text-align: right;\n",
       "    }\n",
       "</style>\n",
       "<table border=\"1\" class=\"dataframe\">\n",
       "  <thead>\n",
       "    <tr style=\"text-align: right;\">\n",
       "      <th></th>\n",
       "      <th>fuzzy</th>\n",
       "      <th>fuzzy_score</th>\n",
       "      <th>spacy</th>\n",
       "      <th>spacy_score</th>\n",
       "      <th>zshot</th>\n",
       "      <th>zshot_score</th>\n",
       "      <th>qa</th>\n",
       "    </tr>\n",
       "  </thead>\n",
       "  <tbody>\n",
       "    <tr>\n",
       "      <th>0</th>\n",
       "      <td>British</td>\n",
       "      <td>1.0</td>\n",
       "      <td>British</td>\n",
       "      <td>1.0</td>\n",
       "      <td>British</td>\n",
       "      <td>0.996049</td>\n",
       "      <td>British</td>\n",
       "    </tr>\n",
       "    <tr>\n",
       "      <th>1</th>\n",
       "      <td>Australian</td>\n",
       "      <td>0.18</td>\n",
       "      <td>British</td>\n",
       "      <td>0.825452</td>\n",
       "      <td>British</td>\n",
       "      <td>0.384314</td>\n",
       "      <td>Greek</td>\n",
       "    </tr>\n",
       "    <tr>\n",
       "      <th>2</th>\n",
       "      <td>American</td>\n",
       "      <td>1.0</td>\n",
       "      <td>American</td>\n",
       "      <td>1.0</td>\n",
       "      <td>American</td>\n",
       "      <td>0.996821</td>\n",
       "      <td>American</td>\n",
       "    </tr>\n",
       "    <tr>\n",
       "      <th>3</th>\n",
       "      <td>American</td>\n",
       "      <td>1.0</td>\n",
       "      <td>American</td>\n",
       "      <td>1.0</td>\n",
       "      <td>American</td>\n",
       "      <td>0.996821</td>\n",
       "      <td>American</td>\n",
       "    </tr>\n",
       "    <tr>\n",
       "      <th>4</th>\n",
       "      <td>American</td>\n",
       "      <td>1.0</td>\n",
       "      <td>American</td>\n",
       "      <td>1.0</td>\n",
       "      <td>American</td>\n",
       "      <td>0.996821</td>\n",
       "      <td>American</td>\n",
       "    </tr>\n",
       "    <tr>\n",
       "      <th>5</th>\n",
       "      <td>American</td>\n",
       "      <td>1.0</td>\n",
       "      <td>American</td>\n",
       "      <td>1.0</td>\n",
       "      <td>American</td>\n",
       "      <td>0.996821</td>\n",
       "      <td>American</td>\n",
       "    </tr>\n",
       "    <tr>\n",
       "      <th>6</th>\n",
       "      <td>American</td>\n",
       "      <td>1.0</td>\n",
       "      <td>American</td>\n",
       "      <td>1.0</td>\n",
       "      <td>American</td>\n",
       "      <td>0.996821</td>\n",
       "      <td>American</td>\n",
       "    </tr>\n",
       "    <tr>\n",
       "      <th>7</th>\n",
       "      <td>British</td>\n",
       "      <td>1.0</td>\n",
       "      <td>British</td>\n",
       "      <td>1.0</td>\n",
       "      <td>British</td>\n",
       "      <td>0.741951</td>\n",
       "      <td>English</td>\n",
       "    </tr>\n",
       "    <tr>\n",
       "      <th>8</th>\n",
       "      <td>American</td>\n",
       "      <td>1.0</td>\n",
       "      <td>American</td>\n",
       "      <td>1.0</td>\n",
       "      <td>American</td>\n",
       "      <td>0.996821</td>\n",
       "      <td>American</td>\n",
       "    </tr>\n",
       "    <tr>\n",
       "      <th>9</th>\n",
       "      <td>American</td>\n",
       "      <td>0.9</td>\n",
       "      <td>Australian</td>\n",
       "      <td>0.463909</td>\n",
       "      <td>American</td>\n",
       "      <td>0.892524</td>\n",
       "      <td>Russian-American</td>\n",
       "    </tr>\n",
       "    <tr>\n",
       "      <th>10</th>\n",
       "      <td>American</td>\n",
       "      <td>1.0</td>\n",
       "      <td>American</td>\n",
       "      <td>1.0</td>\n",
       "      <td>American</td>\n",
       "      <td>0.996821</td>\n",
       "      <td>American</td>\n",
       "    </tr>\n",
       "    <tr>\n",
       "      <th>11</th>\n",
       "      <td>American</td>\n",
       "      <td>1.0</td>\n",
       "      <td>American</td>\n",
       "      <td>1.0</td>\n",
       "      <td>American</td>\n",
       "      <td>0.996821</td>\n",
       "      <td>American</td>\n",
       "    </tr>\n",
       "    <tr>\n",
       "      <th>12</th>\n",
       "      <td>American</td>\n",
       "      <td>1.0</td>\n",
       "      <td>American</td>\n",
       "      <td>1.0</td>\n",
       "      <td>American</td>\n",
       "      <td>0.996821</td>\n",
       "      <td>American</td>\n",
       "    </tr>\n",
       "    <tr>\n",
       "      <th>13</th>\n",
       "      <td>American</td>\n",
       "      <td>1.0</td>\n",
       "      <td>American</td>\n",
       "      <td>1.0</td>\n",
       "      <td>American</td>\n",
       "      <td>0.996821</td>\n",
       "      <td>American</td>\n",
       "    </tr>\n",
       "    <tr>\n",
       "      <th>14</th>\n",
       "      <td>American</td>\n",
       "      <td>1.0</td>\n",
       "      <td>American</td>\n",
       "      <td>1.0</td>\n",
       "      <td>American</td>\n",
       "      <td>0.996821</td>\n",
       "      <td>American</td>\n",
       "    </tr>\n",
       "    <tr>\n",
       "      <th>15</th>\n",
       "      <td>American</td>\n",
       "      <td>1.0</td>\n",
       "      <td>American</td>\n",
       "      <td>1.0</td>\n",
       "      <td>American</td>\n",
       "      <td>0.996821</td>\n",
       "      <td>American</td>\n",
       "    </tr>\n",
       "    <tr>\n",
       "      <th>16</th>\n",
       "      <td>British</td>\n",
       "      <td>1.0</td>\n",
       "      <td>British</td>\n",
       "      <td>1.0</td>\n",
       "      <td>British</td>\n",
       "      <td>0.741951</td>\n",
       "      <td>English</td>\n",
       "    </tr>\n",
       "    <tr>\n",
       "      <th>17</th>\n",
       "      <td>American</td>\n",
       "      <td>1.0</td>\n",
       "      <td>American</td>\n",
       "      <td>1.0</td>\n",
       "      <td>American</td>\n",
       "      <td>0.996821</td>\n",
       "      <td>American</td>\n",
       "    </tr>\n",
       "    <tr>\n",
       "      <th>18</th>\n",
       "      <td>American</td>\n",
       "      <td>1.0</td>\n",
       "      <td>American</td>\n",
       "      <td>1.0</td>\n",
       "      <td>American</td>\n",
       "      <td>0.996821</td>\n",
       "      <td>American</td>\n",
       "    </tr>\n",
       "    <tr>\n",
       "      <th>19</th>\n",
       "      <td>British</td>\n",
       "      <td>1.0</td>\n",
       "      <td>British</td>\n",
       "      <td>1.0</td>\n",
       "      <td>British</td>\n",
       "      <td>0.741951</td>\n",
       "      <td>English</td>\n",
       "    </tr>\n",
       "    <tr>\n",
       "      <th>20</th>\n",
       "      <td>American</td>\n",
       "      <td>1.0</td>\n",
       "      <td>American</td>\n",
       "      <td>1.0</td>\n",
       "      <td>American</td>\n",
       "      <td>0.996821</td>\n",
       "      <td>American</td>\n",
       "    </tr>\n",
       "    <tr>\n",
       "      <th>21</th>\n",
       "      <td>Australian</td>\n",
       "      <td>0.45</td>\n",
       "      <td>Australian</td>\n",
       "      <td>0.812804</td>\n",
       "      <td>British</td>\n",
       "      <td>0.352537</td>\n",
       "      <td>German</td>\n",
       "    </tr>\n",
       "    <tr>\n",
       "      <th>22</th>\n",
       "      <td>American</td>\n",
       "      <td>1.0</td>\n",
       "      <td>American</td>\n",
       "      <td>1.0</td>\n",
       "      <td>American</td>\n",
       "      <td>0.996821</td>\n",
       "      <td>American</td>\n",
       "    </tr>\n",
       "    <tr>\n",
       "      <th>23</th>\n",
       "      <td>American</td>\n",
       "      <td>1.0</td>\n",
       "      <td>American</td>\n",
       "      <td>1.0</td>\n",
       "      <td>American</td>\n",
       "      <td>0.996821</td>\n",
       "      <td>American</td>\n",
       "    </tr>\n",
       "    <tr>\n",
       "      <th>24</th>\n",
       "      <td>Australian</td>\n",
       "      <td>0.3</td>\n",
       "      <td>Australian</td>\n",
       "      <td>0.860614</td>\n",
       "      <td>British</td>\n",
       "      <td>0.359751</td>\n",
       "      <td>French</td>\n",
       "    </tr>\n",
       "    <tr>\n",
       "      <th>25</th>\n",
       "      <td>Australian</td>\n",
       "      <td>0.43</td>\n",
       "      <td>Australian</td>\n",
       "      <td>0.168161</td>\n",
       "      <td>British</td>\n",
       "      <td>0.394201</td>\n",
       "      <td>Slovakia (Czechoslovakia</td>\n",
       "    </tr>\n",
       "    <tr>\n",
       "      <th>26</th>\n",
       "      <td>American</td>\n",
       "      <td>1.0</td>\n",
       "      <td>American</td>\n",
       "      <td>1.0</td>\n",
       "      <td>American</td>\n",
       "      <td>0.996821</td>\n",
       "      <td>American</td>\n",
       "    </tr>\n",
       "  </tbody>\n",
       "</table>\n",
       "</div>"
      ],
      "text/plain": [
       "         fuzzy fuzzy_score       spacy spacy_score     zshot  zshot_score  \\\n",
       "0      British         1.0     British         1.0   British     0.996049   \n",
       "1   Australian        0.18     British    0.825452   British     0.384314   \n",
       "2     American         1.0    American         1.0  American     0.996821   \n",
       "3     American         1.0    American         1.0  American     0.996821   \n",
       "4     American         1.0    American         1.0  American     0.996821   \n",
       "5     American         1.0    American         1.0  American     0.996821   \n",
       "6     American         1.0    American         1.0  American     0.996821   \n",
       "7      British         1.0     British         1.0   British     0.741951   \n",
       "8     American         1.0    American         1.0  American     0.996821   \n",
       "9     American         0.9  Australian    0.463909  American     0.892524   \n",
       "10    American         1.0    American         1.0  American     0.996821   \n",
       "11    American         1.0    American         1.0  American     0.996821   \n",
       "12    American         1.0    American         1.0  American     0.996821   \n",
       "13    American         1.0    American         1.0  American     0.996821   \n",
       "14    American         1.0    American         1.0  American     0.996821   \n",
       "15    American         1.0    American         1.0  American     0.996821   \n",
       "16     British         1.0     British         1.0   British     0.741951   \n",
       "17    American         1.0    American         1.0  American     0.996821   \n",
       "18    American         1.0    American         1.0  American     0.996821   \n",
       "19     British         1.0     British         1.0   British     0.741951   \n",
       "20    American         1.0    American         1.0  American     0.996821   \n",
       "21  Australian        0.45  Australian    0.812804   British     0.352537   \n",
       "22    American         1.0    American         1.0  American     0.996821   \n",
       "23    American         1.0    American         1.0  American     0.996821   \n",
       "24  Australian         0.3  Australian    0.860614   British     0.359751   \n",
       "25  Australian        0.43  Australian    0.168161   British     0.394201   \n",
       "26    American         1.0    American         1.0  American     0.996821   \n",
       "\n",
       "                          qa  \n",
       "0                    British  \n",
       "1                      Greek  \n",
       "2                   American  \n",
       "3                   American  \n",
       "4                   American  \n",
       "5                   American  \n",
       "6                   American  \n",
       "7                    English  \n",
       "8                   American  \n",
       "9           Russian-American  \n",
       "10                  American  \n",
       "11                  American  \n",
       "12                  American  \n",
       "13                  American  \n",
       "14                  American  \n",
       "15                  American  \n",
       "16                   English  \n",
       "17                  American  \n",
       "18                  American  \n",
       "19                   English  \n",
       "20                  American  \n",
       "21                    German  \n",
       "22                  American  \n",
       "23                  American  \n",
       "24                    French  \n",
       "25  Slovakia (Czechoslovakia  \n",
       "26                  American  "
      ]
     },
     "execution_count": 432,
     "metadata": {},
     "output_type": "execute_result"
    }
   ],
   "source": [
    "# Note that in these results, zshot method does not have the same hard logic\n",
    "# as the others. Could do this but need to figure out an appropriate \n",
    "# threshold: with multi_label=True, probs are very very small. When it's \n",
    "# False, it's unclear if thresholding is a good idea.\n",
    "pd.concat([df_fuzzy.drop(['qa'], axis=1),\n",
    "           df_spacy.drop(['qa'], axis=1),\n",
    "           df_zshot], \n",
    "          axis=1)"
   ]
  },
  {
   "cell_type": "code",
   "execution_count": 434,
   "metadata": {
    "ExecuteTime": {
     "end_time": "2022-05-21T05:00:07.911456Z",
     "start_time": "2022-05-21T05:00:07.802094Z"
    }
   },
   "outputs": [
    {
     "data": {
      "text/html": [
       "<div>\n",
       "<style scoped>\n",
       "    .dataframe tbody tr th:only-of-type {\n",
       "        vertical-align: middle;\n",
       "    }\n",
       "\n",
       "    .dataframe tbody tr th {\n",
       "        vertical-align: top;\n",
       "    }\n",
       "\n",
       "    .dataframe thead th {\n",
       "        text-align: right;\n",
       "    }\n",
       "</style>\n",
       "<table border=\"1\" class=\"dataframe\">\n",
       "  <thead>\n",
       "    <tr style=\"text-align: right;\">\n",
       "      <th></th>\n",
       "      <th>name</th>\n",
       "      <th>qa</th>\n",
       "      <th>qa_score</th>\n",
       "      <th>long_qa</th>\n",
       "      <th>long_qa_score</th>\n",
       "      <th>div_</th>\n",
       "      <th>last_</th>\n",
       "      <th>td_</th>\n",
       "      <th>fuzzy</th>\n",
       "      <th>fuzzy_score</th>\n",
       "    </tr>\n",
       "  </thead>\n",
       "  <tbody>\n",
       "    <tr>\n",
       "      <th>0</th>\n",
       "      <td>jk_rowling</td>\n",
       "      <td>British</td>\n",
       "      <td>0.998977</td>\n",
       "      <td>British</td>\n",
       "      <td>0.997887</td>\n",
       "      <td></td>\n",
       "      <td>Gloucestershire, England</td>\n",
       "      <td>England</td>\n",
       "      <td>British</td>\n",
       "      <td>1.0</td>\n",
       "    </tr>\n",
       "    <tr>\n",
       "      <th>1</th>\n",
       "      <td>archimedes</td>\n",
       "      <td>Greek</td>\n",
       "      <td>0.517055</td>\n",
       "      <td>Sicily</td>\n",
       "      <td>0.285133</td>\n",
       "      <td>Syracuse, Sicily</td>\n",
       "      <td>Syracuse, Sicily</td>\n",
       "      <td>Sicily</td>\n",
       "      <td>Australian</td>\n",
       "      <td>0.18</td>\n",
       "    </tr>\n",
       "    <tr>\n",
       "      <th>2</th>\n",
       "      <td>barack_obama</td>\n",
       "      <td>American</td>\n",
       "      <td>0.981602</td>\n",
       "      <td>American</td>\n",
       "      <td>0.934378</td>\n",
       "      <td></td>\n",
       "      <td>Joe Biden</td>\n",
       "      <td>U.S.</td>\n",
       "      <td>American</td>\n",
       "      <td>1.0</td>\n",
       "    </tr>\n",
       "    <tr>\n",
       "      <th>3</th>\n",
       "      <td>mark_zuckerberg</td>\n",
       "      <td>American</td>\n",
       "      <td>0.994055</td>\n",
       "      <td>American</td>\n",
       "      <td>0.998590</td>\n",
       "      <td>White Plains, New York, U.S.</td>\n",
       "      <td>White Plains, New York, U.S.</td>\n",
       "      <td>U.S.</td>\n",
       "      <td>American</td>\n",
       "      <td>1.0</td>\n",
       "    </tr>\n",
       "    <tr>\n",
       "      <th>4</th>\n",
       "      <td>ezra_klein</td>\n",
       "      <td>American</td>\n",
       "      <td>0.999155</td>\n",
       "      <td>American</td>\n",
       "      <td>0.986428</td>\n",
       "      <td>Irvine, California, U.S.</td>\n",
       "      <td>Irvine, California, U.S.</td>\n",
       "      <td>U.S.</td>\n",
       "      <td>American</td>\n",
       "      <td>1.0</td>\n",
       "    </tr>\n",
       "    <tr>\n",
       "      <th>5</th>\n",
       "      <td>michelle_obama</td>\n",
       "      <td>American</td>\n",
       "      <td>0.959505</td>\n",
       "      <td>American</td>\n",
       "      <td>0.958827</td>\n",
       "      <td></td>\n",
       "      <td>Barack Obama</td>\n",
       "      <td>U.S.</td>\n",
       "      <td>American</td>\n",
       "      <td>1.0</td>\n",
       "    </tr>\n",
       "    <tr>\n",
       "      <th>6</th>\n",
       "      <td>kanye_west</td>\n",
       "      <td>American</td>\n",
       "      <td>0.998115</td>\n",
       "      <td>American</td>\n",
       "      <td>0.992267</td>\n",
       "      <td>Atlanta, Georgia, U.S.</td>\n",
       "      <td>Atlanta, Georgia, U.S.</td>\n",
       "      <td>U.S.</td>\n",
       "      <td>American</td>\n",
       "      <td>1.0</td>\n",
       "    </tr>\n",
       "    <tr>\n",
       "      <th>7</th>\n",
       "      <td>george_harrison</td>\n",
       "      <td>English</td>\n",
       "      <td>0.992060</td>\n",
       "      <td>English</td>\n",
       "      <td>0.995846</td>\n",
       "      <td>Liverpool, England</td>\n",
       "      <td>Liverpool, England</td>\n",
       "      <td>England</td>\n",
       "      <td>British</td>\n",
       "      <td>1.0</td>\n",
       "    </tr>\n",
       "    <tr>\n",
       "      <th>8</th>\n",
       "      <td>nicolas_cage</td>\n",
       "      <td>American</td>\n",
       "      <td>0.992129</td>\n",
       "      <td>American</td>\n",
       "      <td>0.998483</td>\n",
       "      <td>Long Beach, California, U.S.</td>\n",
       "      <td>Long Beach, California, U.S.</td>\n",
       "      <td>U.S.</td>\n",
       "      <td>American</td>\n",
       "      <td>1.0</td>\n",
       "    </tr>\n",
       "    <tr>\n",
       "      <th>9</th>\n",
       "      <td>lex_fridman</td>\n",
       "      <td>Russian-American</td>\n",
       "      <td>0.504747</td>\n",
       "      <td>Russian-American</td>\n",
       "      <td>0.515202</td>\n",
       "      <td>Moscow, Russian SFSR, Soviet Union</td>\n",
       "      <td>/'lɛks 'friːdmæn/</td>\n",
       "      <td>Soviet Union</td>\n",
       "      <td>American</td>\n",
       "      <td>0.9</td>\n",
       "    </tr>\n",
       "    <tr>\n",
       "      <th>10</th>\n",
       "      <td>donald_glover</td>\n",
       "      <td>American</td>\n",
       "      <td>0.998486</td>\n",
       "      <td>American</td>\n",
       "      <td>0.994986</td>\n",
       "      <td>Edwards Air Force Base, California, U.S.</td>\n",
       "      <td>Edwards Air Force Base, California, U.S.</td>\n",
       "      <td>U.S.</td>\n",
       "      <td>American</td>\n",
       "      <td>1.0</td>\n",
       "    </tr>\n",
       "    <tr>\n",
       "      <th>11</th>\n",
       "      <td>alex_honnold</td>\n",
       "      <td>American</td>\n",
       "      <td>0.998960</td>\n",
       "      <td>American</td>\n",
       "      <td>0.999087</td>\n",
       "      <td></td>\n",
       "      <td>Sacramento, California, U.S.</td>\n",
       "      <td>U.S.</td>\n",
       "      <td>American</td>\n",
       "      <td>1.0</td>\n",
       "    </tr>\n",
       "    <tr>\n",
       "      <th>12</th>\n",
       "      <td>maya_angelou</td>\n",
       "      <td>American</td>\n",
       "      <td>0.998676</td>\n",
       "      <td>American</td>\n",
       "      <td>0.996642</td>\n",
       "      <td></td>\n",
       "      <td>St. Louis, Missouri, U.S.</td>\n",
       "      <td>U.S.</td>\n",
       "      <td>American</td>\n",
       "      <td>1.0</td>\n",
       "    </tr>\n",
       "    <tr>\n",
       "      <th>13</th>\n",
       "      <td>neil_degrasse_tyson</td>\n",
       "      <td>American</td>\n",
       "      <td>0.996496</td>\n",
       "      <td>American</td>\n",
       "      <td>0.685685</td>\n",
       "      <td>New York City, New York, U.S.</td>\n",
       "      <td>New York City, New York, U.S.</td>\n",
       "      <td>U.S.</td>\n",
       "      <td>American</td>\n",
       "      <td>1.0</td>\n",
       "    </tr>\n",
       "    <tr>\n",
       "      <th>14</th>\n",
       "      <td>elijah_wood</td>\n",
       "      <td>American</td>\n",
       "      <td>0.998584</td>\n",
       "      <td>American</td>\n",
       "      <td>0.997662</td>\n",
       "      <td>Cedar Rapids, Iowa, U.S.</td>\n",
       "      <td>Cedar Rapids, Iowa, U.S.</td>\n",
       "      <td>U.S.</td>\n",
       "      <td>American</td>\n",
       "      <td>1.0</td>\n",
       "    </tr>\n",
       "    <tr>\n",
       "      <th>15</th>\n",
       "      <td>brandon_sanderson</td>\n",
       "      <td>American</td>\n",
       "      <td>0.999023</td>\n",
       "      <td>American</td>\n",
       "      <td>0.998701</td>\n",
       "      <td></td>\n",
       "      <td>Lincoln, Nebraska, U.S.</td>\n",
       "      <td>U.S.</td>\n",
       "      <td>American</td>\n",
       "      <td>1.0</td>\n",
       "    </tr>\n",
       "    <tr>\n",
       "      <th>16</th>\n",
       "      <td>douglas_adams</td>\n",
       "      <td>English</td>\n",
       "      <td>0.997561</td>\n",
       "      <td>English</td>\n",
       "      <td>0.995705</td>\n",
       "      <td></td>\n",
       "      <td>Cambridgeshire, England</td>\n",
       "      <td>England</td>\n",
       "      <td>British</td>\n",
       "      <td>1.0</td>\n",
       "    </tr>\n",
       "    <tr>\n",
       "      <th>17</th>\n",
       "      <td>dr_seuss</td>\n",
       "      <td>American</td>\n",
       "      <td>0.999327</td>\n",
       "      <td>American</td>\n",
       "      <td>0.986089</td>\n",
       "      <td></td>\n",
       "      <td>Springfield, Massachusetts, U.S.</td>\n",
       "      <td>U.S.</td>\n",
       "      <td>American</td>\n",
       "      <td>1.0</td>\n",
       "    </tr>\n",
       "    <tr>\n",
       "      <th>18</th>\n",
       "      <td>apollo_ohno</td>\n",
       "      <td>American</td>\n",
       "      <td>0.996547</td>\n",
       "      <td>American</td>\n",
       "      <td>0.994241</td>\n",
       "      <td></td>\n",
       "      <td>Seattle, Washington, US[1]</td>\n",
       "      <td>US</td>\n",
       "      <td>American</td>\n",
       "      <td>1.0</td>\n",
       "    </tr>\n",
       "    <tr>\n",
       "      <th>19</th>\n",
       "      <td>george_orwell</td>\n",
       "      <td>English</td>\n",
       "      <td>0.999010</td>\n",
       "      <td>Scotland</td>\n",
       "      <td>0.837131</td>\n",
       "      <td>Motihari, Bengal Presidency, British India</td>\n",
       "      <td>Motihari, Bengal Presidency, British India</td>\n",
       "      <td>British India</td>\n",
       "      <td>British</td>\n",
       "      <td>1.0</td>\n",
       "    </tr>\n",
       "    <tr>\n",
       "      <th>20</th>\n",
       "      <td>robert_sapolsky</td>\n",
       "      <td>American</td>\n",
       "      <td>0.998870</td>\n",
       "      <td>American</td>\n",
       "      <td>0.995985</td>\n",
       "      <td>Brooklyn, New York, U.S.</td>\n",
       "      <td>Brooklyn, New York, U.S.</td>\n",
       "      <td>U.S.</td>\n",
       "      <td>American</td>\n",
       "      <td>1.0</td>\n",
       "    </tr>\n",
       "    <tr>\n",
       "      <th>21</th>\n",
       "      <td>albert_einstein</td>\n",
       "      <td>German</td>\n",
       "      <td>0.997999</td>\n",
       "      <td>German</td>\n",
       "      <td>0.979611</td>\n",
       "      <td>Ulm, Kingdom of Württemberg, German Empire</td>\n",
       "      <td>Ulm, Kingdom of Württemberg, German Empire</td>\n",
       "      <td>German Empire</td>\n",
       "      <td>Australian</td>\n",
       "      <td>0.45</td>\n",
       "    </tr>\n",
       "    <tr>\n",
       "      <th>22</th>\n",
       "      <td>beyonce</td>\n",
       "      <td>American</td>\n",
       "      <td>0.347054</td>\n",
       "      <td>American</td>\n",
       "      <td>0.987783</td>\n",
       "      <td>Houston, Texas, U.S.</td>\n",
       "      <td>Houston, Texas, U.S.</td>\n",
       "      <td>U.S.</td>\n",
       "      <td>American</td>\n",
       "      <td>1.0</td>\n",
       "    </tr>\n",
       "    <tr>\n",
       "      <th>23</th>\n",
       "      <td>shel_silverstein</td>\n",
       "      <td>American</td>\n",
       "      <td>0.506733</td>\n",
       "      <td>Florida</td>\n",
       "      <td>0.591832</td>\n",
       "      <td></td>\n",
       "      <td>Chicago, Illinois, U.S.</td>\n",
       "      <td>U.S.</td>\n",
       "      <td>American</td>\n",
       "      <td>1.0</td>\n",
       "    </tr>\n",
       "    <tr>\n",
       "      <th>24</th>\n",
       "      <td>yann_lecun</td>\n",
       "      <td>French</td>\n",
       "      <td>0.998738</td>\n",
       "      <td>French</td>\n",
       "      <td>0.890047</td>\n",
       "      <td>Soisy-sous-Montmorency, France</td>\n",
       "      <td>Soisy-sous-Montmorency, France</td>\n",
       "      <td>France</td>\n",
       "      <td>Australian</td>\n",
       "      <td>0.3</td>\n",
       "    </tr>\n",
       "    <tr>\n",
       "      <th>25</th>\n",
       "      <td>andrej_karpathy</td>\n",
       "      <td>Slovakia (Czechoslovakia</td>\n",
       "      <td>0.329192</td>\n",
       "      <td>Slovakia (Czechoslovakia</td>\n",
       "      <td>0.302543</td>\n",
       "      <td>Kosice, Slovakia</td>\n",
       "      <td>Kosice, Slovakia</td>\n",
       "      <td>Slovakia</td>\n",
       "      <td>Australian</td>\n",
       "      <td>0.43</td>\n",
       "    </tr>\n",
       "    <tr>\n",
       "      <th>26</th>\n",
       "      <td>sylvia_plath</td>\n",
       "      <td>American</td>\n",
       "      <td>0.999050</td>\n",
       "      <td>American</td>\n",
       "      <td>0.994786</td>\n",
       "      <td></td>\n",
       "      <td>Boston, Massachusetts, U.S.</td>\n",
       "      <td>U.S.</td>\n",
       "      <td>American</td>\n",
       "      <td>1.0</td>\n",
       "    </tr>\n",
       "  </tbody>\n",
       "</table>\n",
       "</div>"
      ],
      "text/plain": [
       "                   name                        qa  qa_score  \\\n",
       "0            jk_rowling                   British  0.998977   \n",
       "1            archimedes                     Greek  0.517055   \n",
       "2          barack_obama                  American  0.981602   \n",
       "3       mark_zuckerberg                  American  0.994055   \n",
       "4            ezra_klein                  American  0.999155   \n",
       "5        michelle_obama                  American  0.959505   \n",
       "6            kanye_west                  American  0.998115   \n",
       "7       george_harrison                   English  0.992060   \n",
       "8          nicolas_cage                  American  0.992129   \n",
       "9           lex_fridman          Russian-American  0.504747   \n",
       "10        donald_glover                  American  0.998486   \n",
       "11         alex_honnold                  American  0.998960   \n",
       "12         maya_angelou                  American  0.998676   \n",
       "13  neil_degrasse_tyson                  American  0.996496   \n",
       "14          elijah_wood                  American  0.998584   \n",
       "15    brandon_sanderson                  American  0.999023   \n",
       "16        douglas_adams                   English  0.997561   \n",
       "17             dr_seuss                  American  0.999327   \n",
       "18          apollo_ohno                  American  0.996547   \n",
       "19        george_orwell                   English  0.999010   \n",
       "20      robert_sapolsky                  American  0.998870   \n",
       "21      albert_einstein                    German  0.997999   \n",
       "22              beyonce                  American  0.347054   \n",
       "23     shel_silverstein                  American  0.506733   \n",
       "24           yann_lecun                    French  0.998738   \n",
       "25      andrej_karpathy  Slovakia (Czechoslovakia  0.329192   \n",
       "26         sylvia_plath                  American  0.999050   \n",
       "\n",
       "                     long_qa  long_qa_score  \\\n",
       "0                    British       0.997887   \n",
       "1                     Sicily       0.285133   \n",
       "2                   American       0.934378   \n",
       "3                   American       0.998590   \n",
       "4                   American       0.986428   \n",
       "5                   American       0.958827   \n",
       "6                   American       0.992267   \n",
       "7                    English       0.995846   \n",
       "8                   American       0.998483   \n",
       "9           Russian-American       0.515202   \n",
       "10                  American       0.994986   \n",
       "11                  American       0.999087   \n",
       "12                  American       0.996642   \n",
       "13                  American       0.685685   \n",
       "14                  American       0.997662   \n",
       "15                  American       0.998701   \n",
       "16                   English       0.995705   \n",
       "17                  American       0.986089   \n",
       "18                  American       0.994241   \n",
       "19                  Scotland       0.837131   \n",
       "20                  American       0.995985   \n",
       "21                    German       0.979611   \n",
       "22                  American       0.987783   \n",
       "23                   Florida       0.591832   \n",
       "24                    French       0.890047   \n",
       "25  Slovakia (Czechoslovakia       0.302543   \n",
       "26                  American       0.994786   \n",
       "\n",
       "                                          div_  \\\n",
       "0                                                \n",
       "1                             Syracuse, Sicily   \n",
       "2                                                \n",
       "3                 White Plains, New York, U.S.   \n",
       "4                     Irvine, California, U.S.   \n",
       "5                                                \n",
       "6                       Atlanta, Georgia, U.S.   \n",
       "7                           Liverpool, England   \n",
       "8                 Long Beach, California, U.S.   \n",
       "9           Moscow, Russian SFSR, Soviet Union   \n",
       "10    Edwards Air Force Base, California, U.S.   \n",
       "11                                               \n",
       "12                                               \n",
       "13               New York City, New York, U.S.   \n",
       "14                    Cedar Rapids, Iowa, U.S.   \n",
       "15                                               \n",
       "16                                               \n",
       "17                                               \n",
       "18                                               \n",
       "19  Motihari, Bengal Presidency, British India   \n",
       "20                    Brooklyn, New York, U.S.   \n",
       "21  Ulm, Kingdom of Württemberg, German Empire   \n",
       "22                        Houston, Texas, U.S.   \n",
       "23                                               \n",
       "24              Soisy-sous-Montmorency, France   \n",
       "25                            Kosice, Slovakia   \n",
       "26                                               \n",
       "\n",
       "                                         last_            td_       fuzzy  \\\n",
       "0                     Gloucestershire, England        England     British   \n",
       "1                             Syracuse, Sicily         Sicily  Australian   \n",
       "2                                    Joe Biden           U.S.    American   \n",
       "3                 White Plains, New York, U.S.           U.S.    American   \n",
       "4                     Irvine, California, U.S.           U.S.    American   \n",
       "5                                 Barack Obama           U.S.    American   \n",
       "6                       Atlanta, Georgia, U.S.           U.S.    American   \n",
       "7                           Liverpool, England        England     British   \n",
       "8                 Long Beach, California, U.S.           U.S.    American   \n",
       "9                           /'lɛks 'friːdmæn/    Soviet Union    American   \n",
       "10    Edwards Air Force Base, California, U.S.           U.S.    American   \n",
       "11                Sacramento, California, U.S.           U.S.    American   \n",
       "12                   St. Louis, Missouri, U.S.           U.S.    American   \n",
       "13               New York City, New York, U.S.           U.S.    American   \n",
       "14                    Cedar Rapids, Iowa, U.S.           U.S.    American   \n",
       "15                     Lincoln, Nebraska, U.S.           U.S.    American   \n",
       "16                     Cambridgeshire, England        England     British   \n",
       "17            Springfield, Massachusetts, U.S.           U.S.    American   \n",
       "18                  Seattle, Washington, US[1]             US    American   \n",
       "19  Motihari, Bengal Presidency, British India  British India     British   \n",
       "20                    Brooklyn, New York, U.S.           U.S.    American   \n",
       "21  Ulm, Kingdom of Württemberg, German Empire  German Empire  Australian   \n",
       "22                        Houston, Texas, U.S.           U.S.    American   \n",
       "23                     Chicago, Illinois, U.S.           U.S.    American   \n",
       "24              Soisy-sous-Montmorency, France         France  Australian   \n",
       "25                            Kosice, Slovakia       Slovakia  Australian   \n",
       "26                 Boston, Massachusetts, U.S.           U.S.    American   \n",
       "\n",
       "   fuzzy_score  \n",
       "0          1.0  \n",
       "1         0.18  \n",
       "2          1.0  \n",
       "3          1.0  \n",
       "4          1.0  \n",
       "5          1.0  \n",
       "6          1.0  \n",
       "7          1.0  \n",
       "8          1.0  \n",
       "9          0.9  \n",
       "10         1.0  \n",
       "11         1.0  \n",
       "12         1.0  \n",
       "13         1.0  \n",
       "14         1.0  \n",
       "15         1.0  \n",
       "16         1.0  \n",
       "17         1.0  \n",
       "18         1.0  \n",
       "19         1.0  \n",
       "20         1.0  \n",
       "21        0.45  \n",
       "22         1.0  \n",
       "23         1.0  \n",
       "24         0.3  \n",
       "25        0.43  \n",
       "26         1.0  "
      ]
     },
     "execution_count": 434,
     "metadata": {},
     "output_type": "execute_result"
    }
   ],
   "source": [
    "pd.concat([\n",
    "    df_answers.reset_index().rename(columns={'index': 'name'}), \n",
    "    df_fuzzy.drop(['qa'], axis=1)\n",
    "], axis=1)"
   ]
  },
  {
   "cell_type": "code",
   "execution_count": 448,
   "metadata": {
    "ExecuteTime": {
     "end_time": "2022-05-21T05:14:10.769648Z",
     "start_time": "2022-05-21T05:14:10.665670Z"
    },
    "run_control": {
     "marked": false
    }
   },
   "outputs": [],
   "source": [
    "# End to end. Use this on the shortened summary - the full one didn't \n",
    "# particularly help and was noticeably slower.\n",
    "def infer_voice(summary, name, qa_pipe, voices, default_voice='Australian', \n",
    "                fuzz_threshold=.8):\n",
    "    answer = qa_pipe({'question': f'What country is {name} from?', \n",
    "                      'context': summary})\n",
    "    nationality = answer['answer'].replace('English', 'British')\n",
    "    score_pairs = [(name, score / 100) \n",
    "                   for name, score in process.extract(nationality, voices)]\n",
    "    voice, score = score_pairs[0]\n",
    "    if score < fuzz_threshold:\n",
    "        voice = default_voice\n",
    "        score = dict(score_pairs)[voice]\n",
    "    return nationality, answer['score'], voice, score"
   ]
  },
  {
   "cell_type": "code",
   "execution_count": 449,
   "metadata": {
    "ExecuteTime": {
     "end_time": "2022-05-21T05:14:15.027841Z",
     "start_time": "2022-05-21T05:14:11.047721Z"
    }
   },
   "outputs": [
    {
     "data": {
      "application/vnd.jupyter.widget-view+json": {
       "model_id": "4a3505eb9c434136984b90676f744646",
       "version_major": 2,
       "version_minor": 0
      },
      "text/plain": [
       "  0%|          | 0/27 [00:00<?, ?it/s]"
      ]
     },
     "metadata": {},
     "output_type": "display_data"
    }
   ],
   "source": [
    "final_answers = {\n",
    "    k: infer_voice(v, conv.process_name(k, True), qa_pipe=qa, voices=voices) \n",
    "    for k, v in tqdm(conv.name2base.items())\n",
    "}"
   ]
  },
  {
   "cell_type": "code",
   "execution_count": 451,
   "metadata": {
    "ExecuteTime": {
     "end_time": "2022-05-21T05:16:26.349902Z",
     "start_time": "2022-05-21T05:16:26.228575Z"
    }
   },
   "outputs": [
    {
     "data": {
      "text/html": [
       "<div>\n",
       "<style scoped>\n",
       "    .dataframe tbody tr th:only-of-type {\n",
       "        vertical-align: middle;\n",
       "    }\n",
       "\n",
       "    .dataframe tbody tr th {\n",
       "        vertical-align: top;\n",
       "    }\n",
       "\n",
       "    .dataframe thead th {\n",
       "        text-align: right;\n",
       "    }\n",
       "</style>\n",
       "<table border=\"1\" class=\"dataframe\">\n",
       "  <thead>\n",
       "    <tr style=\"text-align: right;\">\n",
       "      <th></th>\n",
       "      <th>nationality</th>\n",
       "      <th>nationality_score</th>\n",
       "      <th>voice</th>\n",
       "      <th>voice_score</th>\n",
       "    </tr>\n",
       "  </thead>\n",
       "  <tbody>\n",
       "    <tr>\n",
       "      <th>jk_rowling</th>\n",
       "      <td>British</td>\n",
       "      <td>0.998977</td>\n",
       "      <td>British</td>\n",
       "      <td>1.0</td>\n",
       "    </tr>\n",
       "    <tr>\n",
       "      <th>archimedes</th>\n",
       "      <td>Greek</td>\n",
       "      <td>0.517055</td>\n",
       "      <td>Australian</td>\n",
       "      <td>0.18</td>\n",
       "    </tr>\n",
       "    <tr>\n",
       "      <th>barack_obama</th>\n",
       "      <td>American</td>\n",
       "      <td>0.981602</td>\n",
       "      <td>American</td>\n",
       "      <td>1.0</td>\n",
       "    </tr>\n",
       "    <tr>\n",
       "      <th>mark_zuckerberg</th>\n",
       "      <td>American</td>\n",
       "      <td>0.994055</td>\n",
       "      <td>American</td>\n",
       "      <td>1.0</td>\n",
       "    </tr>\n",
       "    <tr>\n",
       "      <th>ezra_klein</th>\n",
       "      <td>American</td>\n",
       "      <td>0.999155</td>\n",
       "      <td>American</td>\n",
       "      <td>1.0</td>\n",
       "    </tr>\n",
       "    <tr>\n",
       "      <th>michelle_obama</th>\n",
       "      <td>American</td>\n",
       "      <td>0.959505</td>\n",
       "      <td>American</td>\n",
       "      <td>1.0</td>\n",
       "    </tr>\n",
       "    <tr>\n",
       "      <th>kanye_west</th>\n",
       "      <td>American</td>\n",
       "      <td>0.998115</td>\n",
       "      <td>American</td>\n",
       "      <td>1.0</td>\n",
       "    </tr>\n",
       "    <tr>\n",
       "      <th>george_harrison</th>\n",
       "      <td>British</td>\n",
       "      <td>0.99206</td>\n",
       "      <td>British</td>\n",
       "      <td>1.0</td>\n",
       "    </tr>\n",
       "    <tr>\n",
       "      <th>nicolas_cage</th>\n",
       "      <td>American</td>\n",
       "      <td>0.992129</td>\n",
       "      <td>American</td>\n",
       "      <td>1.0</td>\n",
       "    </tr>\n",
       "    <tr>\n",
       "      <th>lex_fridman</th>\n",
       "      <td>Russian-American</td>\n",
       "      <td>0.504747</td>\n",
       "      <td>American</td>\n",
       "      <td>0.9</td>\n",
       "    </tr>\n",
       "    <tr>\n",
       "      <th>donald_glover</th>\n",
       "      <td>American</td>\n",
       "      <td>0.998486</td>\n",
       "      <td>American</td>\n",
       "      <td>1.0</td>\n",
       "    </tr>\n",
       "    <tr>\n",
       "      <th>alex_honnold</th>\n",
       "      <td>American</td>\n",
       "      <td>0.99896</td>\n",
       "      <td>American</td>\n",
       "      <td>1.0</td>\n",
       "    </tr>\n",
       "    <tr>\n",
       "      <th>maya_angelou</th>\n",
       "      <td>American</td>\n",
       "      <td>0.998676</td>\n",
       "      <td>American</td>\n",
       "      <td>1.0</td>\n",
       "    </tr>\n",
       "    <tr>\n",
       "      <th>neil_degrasse_tyson</th>\n",
       "      <td>American</td>\n",
       "      <td>0.996496</td>\n",
       "      <td>American</td>\n",
       "      <td>1.0</td>\n",
       "    </tr>\n",
       "    <tr>\n",
       "      <th>elijah_wood</th>\n",
       "      <td>American</td>\n",
       "      <td>0.998584</td>\n",
       "      <td>American</td>\n",
       "      <td>1.0</td>\n",
       "    </tr>\n",
       "    <tr>\n",
       "      <th>brandon_sanderson</th>\n",
       "      <td>American</td>\n",
       "      <td>0.999023</td>\n",
       "      <td>American</td>\n",
       "      <td>1.0</td>\n",
       "    </tr>\n",
       "    <tr>\n",
       "      <th>douglas_adams</th>\n",
       "      <td>British</td>\n",
       "      <td>0.997561</td>\n",
       "      <td>British</td>\n",
       "      <td>1.0</td>\n",
       "    </tr>\n",
       "    <tr>\n",
       "      <th>dr_seuss</th>\n",
       "      <td>American</td>\n",
       "      <td>0.999327</td>\n",
       "      <td>American</td>\n",
       "      <td>1.0</td>\n",
       "    </tr>\n",
       "    <tr>\n",
       "      <th>apollo_ohno</th>\n",
       "      <td>American</td>\n",
       "      <td>0.996547</td>\n",
       "      <td>American</td>\n",
       "      <td>1.0</td>\n",
       "    </tr>\n",
       "    <tr>\n",
       "      <th>george_orwell</th>\n",
       "      <td>British</td>\n",
       "      <td>0.99901</td>\n",
       "      <td>British</td>\n",
       "      <td>1.0</td>\n",
       "    </tr>\n",
       "    <tr>\n",
       "      <th>robert_sapolsky</th>\n",
       "      <td>American</td>\n",
       "      <td>0.99887</td>\n",
       "      <td>American</td>\n",
       "      <td>1.0</td>\n",
       "    </tr>\n",
       "    <tr>\n",
       "      <th>albert_einstein</th>\n",
       "      <td>German</td>\n",
       "      <td>0.997999</td>\n",
       "      <td>Australian</td>\n",
       "      <td>0.45</td>\n",
       "    </tr>\n",
       "    <tr>\n",
       "      <th>beyonce</th>\n",
       "      <td>American</td>\n",
       "      <td>0.347054</td>\n",
       "      <td>American</td>\n",
       "      <td>1.0</td>\n",
       "    </tr>\n",
       "    <tr>\n",
       "      <th>shel_silverstein</th>\n",
       "      <td>American</td>\n",
       "      <td>0.506733</td>\n",
       "      <td>American</td>\n",
       "      <td>1.0</td>\n",
       "    </tr>\n",
       "    <tr>\n",
       "      <th>yann_lecun</th>\n",
       "      <td>French</td>\n",
       "      <td>0.998738</td>\n",
       "      <td>Australian</td>\n",
       "      <td>0.3</td>\n",
       "    </tr>\n",
       "    <tr>\n",
       "      <th>andrej_karpathy</th>\n",
       "      <td>Slovakia (Czechoslovakia</td>\n",
       "      <td>0.329192</td>\n",
       "      <td>Australian</td>\n",
       "      <td>0.43</td>\n",
       "    </tr>\n",
       "    <tr>\n",
       "      <th>sylvia_plath</th>\n",
       "      <td>American</td>\n",
       "      <td>0.99905</td>\n",
       "      <td>American</td>\n",
       "      <td>1.0</td>\n",
       "    </tr>\n",
       "  </tbody>\n",
       "</table>\n",
       "</div>"
      ],
      "text/plain": [
       "                                  nationality nationality_score       voice  \\\n",
       "jk_rowling                            British          0.998977     British   \n",
       "archimedes                              Greek          0.517055  Australian   \n",
       "barack_obama                         American          0.981602    American   \n",
       "mark_zuckerberg                      American          0.994055    American   \n",
       "ezra_klein                           American          0.999155    American   \n",
       "michelle_obama                       American          0.959505    American   \n",
       "kanye_west                           American          0.998115    American   \n",
       "george_harrison                       British           0.99206     British   \n",
       "nicolas_cage                         American          0.992129    American   \n",
       "lex_fridman                  Russian-American          0.504747    American   \n",
       "donald_glover                        American          0.998486    American   \n",
       "alex_honnold                         American           0.99896    American   \n",
       "maya_angelou                         American          0.998676    American   \n",
       "neil_degrasse_tyson                  American          0.996496    American   \n",
       "elijah_wood                          American          0.998584    American   \n",
       "brandon_sanderson                    American          0.999023    American   \n",
       "douglas_adams                         British          0.997561     British   \n",
       "dr_seuss                             American          0.999327    American   \n",
       "apollo_ohno                          American          0.996547    American   \n",
       "george_orwell                         British           0.99901     British   \n",
       "robert_sapolsky                      American           0.99887    American   \n",
       "albert_einstein                        German          0.997999  Australian   \n",
       "beyonce                              American          0.347054    American   \n",
       "shel_silverstein                     American          0.506733    American   \n",
       "yann_lecun                             French          0.998738  Australian   \n",
       "andrej_karpathy      Slovakia (Czechoslovakia          0.329192  Australian   \n",
       "sylvia_plath                         American           0.99905    American   \n",
       "\n",
       "                    voice_score  \n",
       "jk_rowling                  1.0  \n",
       "archimedes                 0.18  \n",
       "barack_obama                1.0  \n",
       "mark_zuckerberg             1.0  \n",
       "ezra_klein                  1.0  \n",
       "michelle_obama              1.0  \n",
       "kanye_west                  1.0  \n",
       "george_harrison             1.0  \n",
       "nicolas_cage                1.0  \n",
       "lex_fridman                 0.9  \n",
       "donald_glover               1.0  \n",
       "alex_honnold                1.0  \n",
       "maya_angelou                1.0  \n",
       "neil_degrasse_tyson         1.0  \n",
       "elijah_wood                 1.0  \n",
       "brandon_sanderson           1.0  \n",
       "douglas_adams               1.0  \n",
       "dr_seuss                    1.0  \n",
       "apollo_ohno                 1.0  \n",
       "george_orwell               1.0  \n",
       "robert_sapolsky             1.0  \n",
       "albert_einstein            0.45  \n",
       "beyonce                     1.0  \n",
       "shel_silverstein            1.0  \n",
       "yann_lecun                  0.3  \n",
       "andrej_karpathy            0.43  \n",
       "sylvia_plath                1.0  "
      ]
     },
     "execution_count": 451,
     "metadata": {},
     "output_type": "execute_result"
    }
   ],
   "source": [
    "pd.DataFrame.from_dict(final_answers).T\\\n",
    "    .rename(columns={0: 'nationality', \n",
    "                     1: 'nationality_score',\n",
    "                     2: 'voice',\n",
    "                     3: 'voice_score'})"
   ]
  }
 ],
 "metadata": {
  "kernelspec": {
   "display_name": "Python 3",
   "language": "python",
   "name": "python3"
  },
  "language_info": {
   "codemirror_mode": {
    "name": "ipython",
    "version": 3
   },
   "file_extension": ".py",
   "mimetype": "text/x-python",
   "name": "python",
   "nbconvert_exporter": "python",
   "pygments_lexer": "ipython3",
   "version": "3.7.3"
  }
 },
 "nbformat": 4,
 "nbformat_minor": 2
}
