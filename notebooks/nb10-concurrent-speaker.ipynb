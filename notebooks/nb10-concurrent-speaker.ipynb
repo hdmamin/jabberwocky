{
 "cells": [
  {
   "cell_type": "code",
   "execution_count": 1,
   "metadata": {
    "ExecuteTime": {
     "end_time": "2021-08-19T03:51:59.992662Z",
     "start_time": "2021-08-19T03:51:56.470548Z"
    }
   },
   "outputs": [],
   "source": [
    "from itertools import chain\n",
    "from nltk.tokenize import sent_tokenize\n",
    "from threading import Thread, Lock\n",
    "from queue import Queue\n",
    "import time\n",
    "\n",
    "from htools import *\n",
    "from jabberwocky.core import GuiTextChunker\n",
    "from jabberwocky.speech import Speaker"
   ]
  },
  {
   "cell_type": "code",
   "execution_count": 2,
   "metadata": {
    "ExecuteTime": {
     "end_time": "2021-08-19T03:52:00.111219Z",
     "start_time": "2021-08-19T03:52:00.055257Z"
    }
   },
   "outputs": [],
   "source": [
    "SPEAKER = Speaker()\n",
    "CHUNKER = GuiTextChunker(max_chars=70)"
   ]
  },
  {
   "cell_type": "code",
   "execution_count": 20,
   "metadata": {
    "ExecuteTime": {
     "end_time": "2021-08-19T03:04:40.318909Z",
     "start_time": "2021-08-19T03:04:40.280265Z"
    }
   },
   "outputs": [],
   "source": [
    "text = 'Who are you? I am Mr. Nichols. You can call me John. Or J.T., if you prefer. What is that?'\n",
    "text_simple = 'A dog is sad. He is alone.'"
   ]
  },
  {
   "cell_type": "code",
   "execution_count": 21,
   "metadata": {
    "ExecuteTime": {
     "end_time": "2021-08-19T03:04:40.665759Z",
     "start_time": "2021-08-19T03:04:40.630503Z"
    }
   },
   "outputs": [],
   "source": [
    "def stream(text):\n",
    "    for word in text.split(' '):\n",
    "        yield word + ' '"
   ]
  },
  {
   "cell_type": "code",
   "execution_count": 22,
   "metadata": {
    "ExecuteTime": {
     "end_time": "2021-08-19T03:04:41.401578Z",
     "start_time": "2021-08-19T03:04:41.365786Z"
    }
   },
   "outputs": [],
   "source": [
    "def read_response(response, errors=None, hide_on_exit=True):\n",
    "    print('\\nresponse:', response)\n",
    "    try:\n",
    "        for sent in sent_tokenize(response):\n",
    "            for chunk in sent.split('\\n\\n'):\n",
    "                SPEAKER.speak(chunk)\n",
    "                if errors:\n",
    "                    raise errors[0]\n",
    "    except RuntimeError:\n",
    "        pass"
   ]
  },
  {
   "cell_type": "code",
   "execution_count": 26,
   "metadata": {
    "ExecuteTime": {
     "end_time": "2021-08-19T03:04:43.471559Z",
     "start_time": "2021-08-19T03:04:43.423969Z"
    }
   },
   "outputs": [],
   "source": [
    "def old_concurrent_speaking_typing(streamable, conv_mode=False, pause=.18):\n",
    "    # Stream function provides \"typing\" effect.\n",
    "    threads = []\n",
    "    errors = []\n",
    "    full_text = ''\n",
    "    curr_text = ''\n",
    "    for chunk in stream(streamable):\n",
    "        full_text += chunk\n",
    "        curr_text += chunk\n",
    "        chunked = CHUNKER.add('response', full_text)\n",
    "        print(chunked, end='')\n",
    "        if any(char in chunk for char in ('.', '!', '?', '\\n\\n')):\n",
    "            if not errors:\n",
    "                thread = Thread(target=read_response,\n",
    "                                args=(curr_text, errors, False))\n",
    "                thread.start()\n",
    "                threads.append(thread)\n",
    "            # Make sure this isn't reset until AFTER the speaker thread starts.\n",
    "            curr_text = ''\n",
    "        time.sleep(pause)\n",
    "    if curr_text and not errors:\n",
    "        read_response(curr_text)\n",
    "    for thread in threads: thread.join()"
   ]
  },
  {
   "cell_type": "code",
   "execution_count": 27,
   "metadata": {
    "ExecuteTime": {
     "end_time": "2021-08-19T03:04:53.080406Z",
     "start_time": "2021-08-19T03:04:44.068684Z"
    }
   },
   "outputs": [
    {
     "name": "stdout",
     "output_type": "stream",
     "text": [
      "'response'\n",
      "Who \n",
      "Who are \n",
      "Who are you? \n",
      "response: Who are you? \n",
      "\n",
      "Who are you? I \n",
      "Who are you? I am \n",
      "Who are you? I am Mr. \n",
      "response: I am Mr. \n",
      "\n",
      "Who are you? I am Mr. Nichols. \n",
      "response: Nichols. \n",
      "\n",
      "Who are you? I am Mr. Nichols. You \n",
      "Who are you? I am Mr. Nichols. You can \n",
      "Who are you? I am Mr. Nichols. You can call \n",
      "Who are you? I am Mr. Nichols. You can call me \n",
      "Who are you? I am Mr. Nichols. You can call me John. \n",
      "response: You can call me John. \n",
      "\n",
      "Who are you? I am Mr. Nichols. You can call me John. Or \n",
      "Who are you? I am Mr. Nichols. You can call me John. Or J.T., \n",
      "response: Or J.T., \n",
      "\n",
      "Who are you? I am Mr. Nichols. You can call me John. Or J.T., if \n",
      "Who are you? I am Mr. Nichols. You can call me John. Or J.T., if you \n",
      "Who are you? I am Mr. Nichols. You can call me John. Or J.T., if you\n",
      "prefer. \n",
      "response: if you prefer. \n",
      "\n",
      "Who are you? I am Mr. Nichols. You can call me John. Or J.T., if you\n",
      "prefer. What \n",
      "Who are you? I am Mr. Nichols. You can call me John. Or J.T., if you\n",
      "prefer. What is \n",
      "Who are you? I am Mr. Nichols. You can call me John. Or J.T., if you\n",
      "prefer. What is that? \n",
      "response: What is that? \n"
     ]
    }
   ],
   "source": [
    "old_concurrent_speaking_typing(text)"
   ]
  },
  {
   "cell_type": "code",
   "execution_count": 37,
   "metadata": {
    "ExecuteTime": {
     "end_time": "2021-08-19T03:09:21.635172Z",
     "start_time": "2021-08-19T03:09:21.595463Z"
    }
   },
   "outputs": [],
   "source": [
    "@coroutine\n",
    "def read_response_coro():\n",
    "    # Must send None as an extra last item so that this coroutine knows when \n",
    "    # we're done sending in new tokens so it can check for any unread text.\n",
    "    text = ''\n",
    "    while True:\n",
    "        token = yield\n",
    "        if token is None:\n",
    "            SPEAKER.speak(sents[0])\n",
    "        else:\n",
    "            text += token\n",
    "            sents = sent_tokenize(text)\n",
    "            if len(sents) > 1:\n",
    "                SPEAKER.speak(sents[0])\n",
    "                text = text.replace(sents[0], '', 1)"
   ]
  },
  {
   "cell_type": "code",
   "execution_count": 87,
   "metadata": {
    "ExecuteTime": {
     "end_time": "2021-08-19T03:30:48.356803Z",
     "start_time": "2021-08-19T03:30:48.234113Z"
    }
   },
   "outputs": [],
   "source": [
    "# class CoroutinableThread(Thread):\n",
    "    \n",
    "#     def __init__(self, target, args=(), kwargs=None):\n",
    "#         super().__init__(target=target, args=args, kwargs=kwargs)\n",
    "#         self.target = target(*args, **(kwargs or {}))\n",
    "        \n",
    "#     def send(self, val):\n",
    "#         self.target.send(val)\n",
    "\n",
    "class CoroutinableThread(Thread):\n",
    "    \n",
    "    def __init__(self, target, queue, args=(), kwargs=None):\n",
    "        super().__init__(target=target, args=args, kwargs=kwargs)\n",
    "        self.target = target(*args, **(kwargs or {}))\n",
    "        self.queue = queue\n",
    "        \n",
    "    def run(self):\n",
    "        while True:\n",
    "            val = self.queue.get()\n",
    "            self.target.send(val)\n",
    "            # Must do this after send so our coroutine gets the sentinel.\n",
    "            if val is None: return"
   ]
  },
  {
   "cell_type": "code",
   "execution_count": 88,
   "metadata": {
    "ExecuteTime": {
     "end_time": "2021-08-19T03:31:03.317051Z",
     "start_time": "2021-08-19T03:30:59.769852Z"
    }
   },
   "outputs": [
    {
     "name": "stdout",
     "output_type": "stream",
     "text": [
      "LOOP: A \n",
      "LOOP: dog \n",
      "LOOP: is \n",
      "LOOP: sad. \n",
      "LOOP: He \n",
      "LOOP: is \n",
      "LOOP: alone. \n",
      "LOOP: None\n"
     ]
    }
   ],
   "source": [
    "q = Queue()\n",
    "thread = CoroutinableThread(target=read_response_coro, queue=q, args=())\n",
    "thread.start()\n",
    "\n",
    "for t in chain(stream(text_simple), [None]):\n",
    "    thread.queue.put(t)\n",
    "    print('LOOP:', t)\n",
    "    time.sleep(.2)\n",
    "    \n",
    "thread.join()"
   ]
  },
  {
   "cell_type": "code",
   "execution_count": 41,
   "metadata": {
    "ExecuteTime": {
     "end_time": "2021-08-19T03:12:04.594864Z",
     "start_time": "2021-08-19T03:12:04.541099Z"
    }
   },
   "outputs": [],
   "source": [
    "# thread = CoroutinableThread(target=read_response_coro, args=())\n",
    "# thread.start()\n",
    "\n",
    "# for t in chain(stream(text_simple), [None]):\n",
    "#     thread.send(t)\n",
    "#     print(t)\n",
    "#     time.sleep(.2)\n",
    "\n",
    "# thread.join()"
   ]
  },
  {
   "cell_type": "code",
   "execution_count": 89,
   "metadata": {
    "ExecuteTime": {
     "end_time": "2021-08-19T03:31:49.404791Z",
     "start_time": "2021-08-19T03:31:49.349022Z"
    }
   },
   "outputs": [],
   "source": [
    "# def concurrent_speaking_typing(streamable, conv_mode=False, pause=.18):\n",
    "#     # Stream function provides \"typing\" effect.\n",
    "#     threads = []\n",
    "#     full_text = ''\n",
    "#     thread = CoroutinableThread(target=read_response_coro, args=())\n",
    "#     thread.start()\n",
    "#     for chunk in chain(stream(streamable), [None]):\n",
    "#         if chunk is not None:\n",
    "#             full_text += chunk\n",
    "#             chunked = CHUNKER.add('response', full_text)\n",
    "#             print(chunked)\n",
    "#         thread.send(chunk)\n",
    "#         time.sleep(pause)\n",
    "#     thread.join()\n",
    "\n",
    "def concurrent_speaking_typing(streamable, conv_mode=False, pause=.18):\n",
    "    # Stream function provides \"typing\" effect.\n",
    "    full_text = ''\n",
    "    q = Queue()\n",
    "    thread = CoroutinableThread(target=read_response_coro, queue=q, args=())\n",
    "    thread.start()\n",
    "    for chunk in stream(streamable):\n",
    "        if conv_mode:\n",
    "            chunked = CHUNKER.add(\n",
    "                'conv_transcribed',\n",
    "                CONV_MANAGER.full_conversation(include_summary=False)\n",
    "            )\n",
    "        else:\n",
    "            chunked = CHUNKER.add('response', full_text)\n",
    "            full_text += chunk\n",
    "            print(chunked)\n",
    "        thread.queue.put(chunk)\n",
    "        time.sleep(pause)\n",
    "    thread.queue.put(None)\n",
    "    thread.join()\n",
    "#     hide_item(data['interrupt_id'])\n",
    "#     hide_item(data['query_msg_id'])"
   ]
  },
  {
   "cell_type": "code",
   "execution_count": 90,
   "metadata": {
    "ExecuteTime": {
     "end_time": "2021-08-19T03:31:59.657248Z",
     "start_time": "2021-08-19T03:31:51.181492Z"
    }
   },
   "outputs": [
    {
     "name": "stdout",
     "output_type": "stream",
     "text": [
      "\n",
      "Who \n",
      "\n",
      "Who are \n",
      "\n",
      "Who are you? \n",
      "\n",
      "Who are you? I \n",
      "\n",
      "Who are you? I am \n",
      "\n",
      "Who are you? I am Mr. \n",
      "\n",
      "Who are you? I am Mr. Nichols. \n",
      "\n",
      "Who are you? I am Mr. Nichols. You \n",
      "\n",
      "Who are you? I am Mr. Nichols. You can \n",
      "\n",
      "Who are you? I am Mr. Nichols. You can call \n",
      "\n",
      "Who are you? I am Mr. Nichols. You can call me \n",
      "\n",
      "Who are you? I am Mr. Nichols. You can call me John. \n",
      "\n",
      "Who are you? I am Mr. Nichols. You can call me John. Or \n",
      "\n",
      "Who are you? I am Mr. Nichols. You can call me John. Or J.T., \n",
      "\n",
      "Who are you? I am Mr. Nichols. You can call me John. Or J.T., if \n",
      "\n",
      "Who are you? I am Mr. Nichols. You can call me John. Or J.T., if you \n",
      "\n",
      "Who are you? I am Mr. Nichols. You can call me John. Or J.T., if you\n",
      "prefer. \n",
      "\n",
      "Who are you? I am Mr. Nichols. You can call me John. Or J.T., if you\n",
      "prefer. What \n",
      "\n",
      "Who are you? I am Mr. Nichols. You can call me John. Or J.T., if you\n",
      "prefer. What is \n",
      "\n",
      "Who are you? I am Mr. Nichols. You can call me John. Or J.T., if you\n",
      "prefer. What is that? \n"
     ]
    }
   ],
   "source": [
    "concurrent_speaking_typing(text)"
   ]
  },
  {
   "cell_type": "markdown",
   "metadata": {},
   "source": [
    "## Threading scratch\n",
    "\n",
    "Question: can we start a thread within a thread?"
   ]
  },
  {
   "cell_type": "code",
   "execution_count": 9,
   "metadata": {
    "ExecuteTime": {
     "end_time": "2021-08-19T03:52:31.903204Z",
     "start_time": "2021-08-19T03:52:31.846888Z"
    }
   },
   "outputs": [],
   "source": [
    "from datetime import datetime as dt\n",
    "\n",
    "from htools import *"
   ]
  },
  {
   "cell_type": "code",
   "execution_count": 20,
   "metadata": {
    "ExecuteTime": {
     "end_time": "2021-08-19T03:53:42.255088Z",
     "start_time": "2021-08-19T03:53:42.204865Z"
    },
    "run_control": {
     "marked": true
    }
   },
   "outputs": [],
   "source": [
    "def foo():\n",
    "    start = time.time()\n",
    "    while True:\n",
    "        print(dt.now().strftime('%Y-%m-%d %H:%M:%S'))\n",
    "        time.sleep(1)\n",
    "        if time.time() - start >= 5: break"
   ]
  },
  {
   "cell_type": "code",
   "execution_count": 21,
   "metadata": {
    "ExecuteTime": {
     "end_time": "2021-08-19T03:53:42.755870Z",
     "start_time": "2021-08-19T03:53:42.702348Z"
    }
   },
   "outputs": [],
   "source": [
    "def targ():\n",
    "    thread = Thread(target=foo, args=())\n",
    "    thread.start()\n",
    "    res = [i for i in sleepy_range(10, wait=.5)]\n",
    "    thread.join()\n",
    "    return res"
   ]
  },
  {
   "cell_type": "code",
   "execution_count": 22,
   "metadata": {
    "ExecuteTime": {
     "end_time": "2021-08-19T03:53:48.448092Z",
     "start_time": "2021-08-19T03:53:43.375976Z"
    }
   },
   "outputs": [
    {
     "name": "stdout",
     "output_type": "stream",
     "text": [
      "2021-08-18 20:53:43\n",
      "2021-08-18 20:53:44\n",
      "2021-08-18 20:53:45\n",
      "2021-08-18 20:53:46\n",
      "2021-08-18 20:53:47\n"
     ]
    }
   ],
   "source": [
    "res = targ()"
   ]
  },
  {
   "cell_type": "code",
   "execution_count": 23,
   "metadata": {
    "ExecuteTime": {
     "end_time": "2021-08-19T03:53:50.975173Z",
     "start_time": "2021-08-19T03:53:50.941718Z"
    }
   },
   "outputs": [
    {
     "data": {
      "text/plain": [
       "[0, 1, 2, 3, 4, 5, 6, 7, 8, 9]"
      ]
     },
     "execution_count": 23,
     "metadata": {},
     "output_type": "execute_result"
    }
   ],
   "source": [
    "res"
   ]
  },
  {
   "cell_type": "code",
   "execution_count": 25,
   "metadata": {
    "ExecuteTime": {
     "end_time": "2021-08-19T03:55:17.570770Z",
     "start_time": "2021-08-19T03:55:12.486172Z"
    }
   },
   "outputs": [
    {
     "name": "stdout",
     "output_type": "stream",
     "text": [
      "2021-08-18 20:55:12\n",
      "2021-08-18 20:55:13\n",
      "2021-08-18 20:55:14\n",
      "2021-08-18 20:55:15\n",
      "2021-08-18 20:55:16\n"
     ]
    }
   ],
   "source": [
    "thread = Thread(target=targ, args=())\n",
    "thread.start()\n",
    "main_res = [i for i in sleepy_range(5, wait=.1)]\n",
    "thread.join()"
   ]
  },
  {
   "cell_type": "code",
   "execution_count": 26,
   "metadata": {
    "ExecuteTime": {
     "end_time": "2021-08-19T03:55:18.462682Z",
     "start_time": "2021-08-19T03:55:18.426275Z"
    }
   },
   "outputs": [
    {
     "data": {
      "text/plain": [
       "[0, 1, 2, 3, 4]"
      ]
     },
     "execution_count": 26,
     "metadata": {},
     "output_type": "execute_result"
    }
   ],
   "source": [
    "main_res"
   ]
  },
  {
   "cell_type": "markdown",
   "metadata": {},
   "source": [
    "**Conclusion**\n",
    "\n",
    "Looks like yes."
   ]
  }
 ],
 "metadata": {
  "kernelspec": {
   "display_name": "Python 3",
   "language": "python",
   "name": "python3"
  },
  "language_info": {
   "codemirror_mode": {
    "name": "ipython",
    "version": 3
   },
   "file_extension": ".py",
   "mimetype": "text/x-python",
   "name": "python",
   "nbconvert_exporter": "python",
   "pygments_lexer": "ipython3",
   "version": "3.7.3"
  }
 },
 "nbformat": 4,
 "nbformat_minor": 2
}
