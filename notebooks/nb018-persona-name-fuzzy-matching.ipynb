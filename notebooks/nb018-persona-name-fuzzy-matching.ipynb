{
 "cells": [
  {
   "cell_type": "markdown",
   "metadata": {},
   "source": [
    "# Summary\n",
    "\n",
    "Try fuzzy matching mis-transcribed names. \n",
    "\n",
    "Maybe also try to handle this better for a new contact - e.g. search google/wikipedia to find who I *meant* rather than who Alexa *heard* me say."
   ]
  },
  {
   "cell_type": "code",
   "execution_count": 6,
   "metadata": {
    "ExecuteTime": {
     "end_time": "2022-06-08T02:19:07.899204Z",
     "start_time": "2022-06-08T02:19:07.866095Z"
    }
   },
   "outputs": [
    {
     "name": "stdout",
     "output_type": "stream",
     "text": [
      "The autoreload extension is already loaded. To reload it, use:\n",
      "  %reload_ext autoreload\n"
     ]
    }
   ],
   "source": [
    "%load_ext autoreload\n",
    "%autoreload 2"
   ]
  },
  {
   "cell_type": "code",
   "execution_count": 16,
   "metadata": {
    "ExecuteTime": {
     "end_time": "2022-06-08T02:20:12.265773Z",
     "start_time": "2022-06-08T02:20:12.205810Z"
    }
   },
   "outputs": [],
   "source": [
    "from fuzzywuzzy import fuzz, process\n",
    "import matplotlib.pyplot as plt\n",
    "import numpy as np\n",
    "import os\n",
    "import pandas as pd\n",
    "from pathlib import Path\n",
    "import unidecode\n",
    "import wikipedia as wiki\n",
    "\n",
    "from jabberwocky.config import C\n",
    "from jabberwocky.external_data import wiki_page, wiki_data\n",
    "from jabberwocky.openai_utils import load_prompt, load_openai_api_key, \\\n",
    "    ConversationManager, PromptManager, GPT\n",
    "from htools import *"
   ]
  },
  {
   "cell_type": "code",
   "execution_count": 8,
   "metadata": {
    "ExecuteTime": {
     "end_time": "2022-06-08T02:19:09.475391Z",
     "start_time": "2022-06-08T02:19:09.436166Z"
    }
   },
   "outputs": [
    {
     "name": "stdout",
     "output_type": "stream",
     "text": [
      "Current directory: /Users/hmamin/jabberwocky\n"
     ]
    }
   ],
   "source": [
    "cd_root()"
   ]
  },
  {
   "cell_type": "markdown",
   "metadata": {},
   "source": [
    "# TODO\n",
    "\n",
    "GOAL\n",
    "\n",
    "- avoid saving names with my typos (e.g. Apollo ohno (should have 1 L))\n",
    "- but avoid saving wiki names with parentheses (e.g. (john smith (american wrestler)\")\n",
    "- and avoid saving wiki names with weird spacing (e.g. \"J. K. Rowling\")\n",
    "- and avoid saving incorrect wiki names (e.g. I search for Lex Fridman but get Lex Frieden)"
   ]
  },
  {
   "cell_type": "code",
   "execution_count": 73,
   "metadata": {
    "ExecuteTime": {
     "end_time": "2022-05-28T22:43:41.374095Z",
     "start_time": "2022-05-28T22:43:41.312879Z"
    }
   },
   "outputs": [
    {
     "data": {
      "text/plain": [
       "'J.K. Rowling'"
      ]
     },
     "execution_count": 73,
     "metadata": {},
     "output_type": "execute_result"
    }
   ],
   "source": [
    "name = 'J. K. Rowling'\n",
    "n = name.count('. ')\n",
    "re.sub('. ', '.', name, count=n - 1)"
   ]
  },
  {
   "cell_type": "code",
   "execution_count": 108,
   "metadata": {
    "ExecuteTime": {
     "end_time": "2022-05-28T22:50:07.799091Z",
     "start_time": "2022-05-28T22:50:07.748983Z"
    }
   },
   "outputs": [],
   "source": [
    "def cleanup_wiki_name(name):\n",
    "    \"\"\"\n",
    "    'J. K. Rowling' -> 'J.K. Rowling'\n",
    "    'A. B. C. Lastname' -> 'A.B.C. Lastname'\n",
    "    'Ted P. Chang' -> 'Ted P. Chang'\n",
    "    'John Smith (American Wrestler)' - > 'John Smith'\n",
    "    \"\"\"\n",
    "    n = name.count('. ')\n",
    "    if n > 1:\n",
    "        name = re.sub('. ', '.', name, count=n - 1)\n",
    "    name = name.split('(')[0].strip()\n",
    "    return unidecode.unidecode(name)"
   ]
  },
  {
   "cell_type": "code",
   "execution_count": 98,
   "metadata": {
    "ExecuteTime": {
     "end_time": "2022-05-28T22:47:11.314227Z",
     "start_time": "2022-05-28T22:47:11.265033Z"
    }
   },
   "outputs": [],
   "source": [
    "def namecase(name):\n",
    "    \"\"\"Similar to titlecase but don't force lowercase letters after the first\n",
    "    one in each word:\n",
    "    \n",
    "    name = 'Yann LeCun'\n",
    "    name.title()   # 'Yann Lecun'\n",
    "    namecase(name) # 'Yann LeCun'\n",
    "    \"\"\"\n",
    "    chunks = name.split()\n",
    "    return ' '.join(chunk[0].upper() + chunk[1:] for chunk in chunks)"
   ]
  },
  {
   "cell_type": "code",
   "execution_count": 109,
   "metadata": {
    "ExecuteTime": {
     "end_time": "2022-05-28T22:50:08.746187Z",
     "start_time": "2022-05-28T22:50:08.704180Z"
    }
   },
   "outputs": [
    {
     "data": {
      "text/plain": [
       "'J.K. Rowling'"
      ]
     },
     "execution_count": 109,
     "metadata": {},
     "output_type": "execute_result"
    }
   ],
   "source": [
    "cleanup_wiki_name('J. K. Rowling')"
   ]
  },
  {
   "cell_type": "code",
   "execution_count": 110,
   "metadata": {
    "ExecuteTime": {
     "end_time": "2022-05-28T22:50:08.974340Z",
     "start_time": "2022-05-28T22:50:08.934562Z"
    }
   },
   "outputs": [
    {
     "data": {
      "text/plain": [
       "'A.B.C. Lastname'"
      ]
     },
     "execution_count": 110,
     "metadata": {},
     "output_type": "execute_result"
    }
   ],
   "source": [
    "cleanup_wiki_name('A. B. C. Lastname')"
   ]
  },
  {
   "cell_type": "code",
   "execution_count": 111,
   "metadata": {
    "ExecuteTime": {
     "end_time": "2022-05-28T22:50:09.406961Z",
     "start_time": "2022-05-28T22:50:09.366953Z"
    }
   },
   "outputs": [
    {
     "data": {
      "text/plain": [
       "'Ted P. Chang'"
      ]
     },
     "execution_count": 111,
     "metadata": {},
     "output_type": "execute_result"
    }
   ],
   "source": [
    "cleanup_wiki_name('Ted P. Chang')"
   ]
  },
  {
   "cell_type": "code",
   "execution_count": 112,
   "metadata": {
    "ExecuteTime": {
     "end_time": "2022-05-28T22:50:10.268553Z",
     "start_time": "2022-05-28T22:50:10.234700Z"
    }
   },
   "outputs": [
    {
     "data": {
      "text/plain": [
       "'John Smith'"
      ]
     },
     "execution_count": 112,
     "metadata": {},
     "output_type": "execute_result"
    }
   ],
   "source": [
    "cleanup_wiki_name('John Smith (American Wrestler)')"
   ]
  },
  {
   "cell_type": "code",
   "execution_count": 113,
   "metadata": {
    "ExecuteTime": {
     "end_time": "2022-05-28T22:50:17.540022Z",
     "start_time": "2022-05-28T22:50:17.477888Z"
    }
   },
   "outputs": [
    {
     "data": {
      "text/plain": [
       "'Beyonce'"
      ]
     },
     "execution_count": 113,
     "metadata": {},
     "output_type": "execute_result"
    }
   ],
   "source": [
    "cleanup_wiki_name('Beyoncé')"
   ]
  },
  {
   "cell_type": "code",
   "execution_count": 150,
   "metadata": {
    "ExecuteTime": {
     "end_time": "2022-05-28T23:48:50.449516Z",
     "start_time": "2022-05-28T23:48:50.128166Z"
    }
   },
   "outputs": [
    {
     "name": "stdout",
     "output_type": "stream",
     "text": [
      "Object loaded from /Users/hmamin/jabberwocky/data/misc/sample_response.pkl.\n",
      "Object loaded from /Users/hmamin/jabberwocky/data/misc/sample_stream_response.pkl.\n",
      "Object loaded from /Users/hmamin/jabberwocky/data/misc/gooseai_sample_responses.pkl.\n"
     ]
    }
   ],
   "source": [
    "conv = ConversationManager()"
   ]
  },
  {
   "cell_type": "code",
   "execution_count": 151,
   "metadata": {
    "ExecuteTime": {
     "end_time": "2022-05-28T23:48:51.935082Z",
     "start_time": "2022-05-28T23:48:51.890203Z"
    },
    "scrolled": true
   },
   "outputs": [
    {
     "data": {
      "text/plain": [
       "['Albert Einstein',\n",
       " 'Alex Honnold',\n",
       " 'Andrej Karpathy',\n",
       " 'Apolo Ohno',\n",
       " 'Archimedes',\n",
       " 'Barack Obama',\n",
       " 'Beyonce',\n",
       " 'Brandon Sanderson',\n",
       " 'Donald Glover',\n",
       " 'Douglas Adams',\n",
       " 'Dr Seuss',\n",
       " 'Elijah Wood',\n",
       " 'Ezra Klein',\n",
       " 'George Harrison',\n",
       " 'George Orwell',\n",
       " 'God',\n",
       " 'Grace Hopper',\n",
       " 'Jk Rowling',\n",
       " 'Kanye West',\n",
       " 'Lex Fridman',\n",
       " 'Marie Curie',\n",
       " 'Mark Zuckerberg',\n",
       " 'Maya Angelou',\n",
       " 'Michelle Obama',\n",
       " 'Neil Degrasse Tyson',\n",
       " 'Nicolas Cage',\n",
       " 'Robert Sapolsky',\n",
       " 'Shel Silverstein',\n",
       " 'Simone Biles',\n",
       " 'Sylvia Plath',\n",
       " 'Yann Lecun']"
      ]
     },
     "execution_count": 151,
     "metadata": {},
     "output_type": "execute_result"
    }
   ],
   "source": [
    "conv.personas()"
   ]
  },
  {
   "cell_type": "code",
   "execution_count": null,
   "metadata": {},
   "outputs": [],
   "source": [
    "'Andrej Karpathy'\n",
    "'Yann Lecun'"
   ]
  },
  {
   "cell_type": "code",
   "execution_count": 134,
   "metadata": {
    "ExecuteTime": {
     "end_time": "2022-05-28T23:39:32.331838Z",
     "start_time": "2022-05-28T23:39:32.276967Z"
    }
   },
   "outputs": [],
   "source": [
    "wrong_names = [\n",
    "    # Alexa mis-transcriptions.\n",
    "    \"Andre Carter\",\n",
    "    'Beyoncé',\n",
    "    \"Lex Frieden\",\n",
    "    \"Neil De Grasse Tyson\",\n",
    "    \"jan lechon\",\n",
    "    # Names that are actually different. Want to avoid false positives.\n",
    "    \"Annie Klein\",\n",
    "    \"Ezra Miller\",\n",
    "    \"Brendan Schaub\",\n",
    "    \"JK Simmons\",\n",
    "    \"Simon Blair\",\n",
    "    # Names that are not identical but should still find matches.\n",
    "    \"Nic Cage\",\n",
    "    \"Rob Sapolsky\",\n",
    "    \"Kanye\",\n",
    "    \"Don Glover\"\n",
    "]"
   ]
  },
  {
   "cell_type": "code",
   "execution_count": 156,
   "metadata": {
    "ExecuteTime": {
     "end_time": "2022-05-28T23:53:13.021577Z",
     "start_time": "2022-05-28T23:53:12.913750Z"
    }
   },
   "outputs": [
    {
     "data": {
      "text/plain": [
       "[('Brendan Schaub', ('Brandon Sanderson', 0.52)),\n",
       " ('JK Simmons', ('Simone Biles', 0.55)),\n",
       " ('Andre Carter', ('Andrej Karpathy', 0.67)),\n",
       " ('Annie Klein', ('Ezra Klein', 0.67)),\n",
       " ('Ezra Miller', ('Ezra Klein', 0.67)),\n",
       " ('jan lechon', ('Yann Lecun', 0.7)),\n",
       " ('Simon Blair', ('Simone Biles', 0.7)),\n",
       " ('Lex Frieden', ('Lex Fridman', 0.82)),\n",
       " ('Nic Cage', ('Nicolas Cage', 0.86)),\n",
       " ('Don Glover', ('Donald Glover', 0.87)),\n",
       " ('Rob Sapolsky', ('Robert Sapolsky', 0.89)),\n",
       " ('Kanye', ('Kanye West', 0.9)),\n",
       " ('Neil De Grasse Tyson', ('Neil Degrasse Tyson', 0.97)),\n",
       " ('Beyoncé', ('Beyonce', 1.0))]"
      ]
     },
     "execution_count": 156,
     "metadata": {},
     "output_type": "execute_result"
    }
   ],
   "source": [
    "sorted(\n",
    "    [(name, conv.nearest_persona(name)) for name in wrong_names],\n",
    "    key=lambda x: x[1][1]\n",
    ")"
   ]
  },
  {
   "cell_type": "code",
   "execution_count": 155,
   "metadata": {
    "ExecuteTime": {
     "end_time": "2022-05-28T23:53:11.815309Z",
     "start_time": "2022-05-28T23:53:10.235204Z"
    }
   },
   "outputs": [
    {
     "name": "stdout",
     "output_type": "stream",
     "text": [
      "Object loaded from /Users/hmamin/jabberwocky/data/misc/sample_response.pkl.\n",
      "Object loaded from /Users/hmamin/jabberwocky/data/misc/sample_stream_response.pkl.\n",
      "Object loaded from /Users/hmamin/jabberwocky/data/misc/gooseai_sample_responses.pkl.\n"
     ]
    },
    {
     "data": {
      "text/plain": [
       "[('brendan_schaub', ('brandon_sanderson', 0.52)),\n",
       " ('jk_simmons', ('simone_biles', 0.55)),\n",
       " ('andre_carter', ('andrej_karpathy', 0.67)),\n",
       " ('annie_klein', ('ezra_klein', 0.67)),\n",
       " ('ezra_miller', ('ezra_klein', 0.67)),\n",
       " ('jan_lechon', ('yann_lecun', 0.7)),\n",
       " ('simon_blair', ('simone_biles', 0.7)),\n",
       " ('nic_cage', ('nicolas_cage', 0.8)),\n",
       " ('lex_frieden', ('lex_fridman', 0.82)),\n",
       " ('don_glover', ('donald_glover', 0.87)),\n",
       " ('rob_sapolsky', ('robert_sapolsky', 0.89)),\n",
       " ('kanye', ('Kanye West', 0.9)),\n",
       " ('neil_de_grasse_tyson', ('neil_degrasse_tyson', 0.97)),\n",
       " ('beyoncé', ('Beyonce', 1.0))]"
      ]
     },
     "execution_count": 155,
     "metadata": {},
     "output_type": "execute_result"
    }
   ],
   "source": [
    "sorted(\n",
    "    [(conv.process_name(name), conv.nearest_persona(conv.process_name(name)))\n",
    "     for name in wrong_names],\n",
    "    key=lambda x: x[1][1]\n",
    ")"
   ]
  },
  {
   "cell_type": "code",
   "execution_count": 19,
   "metadata": {
    "ExecuteTime": {
     "end_time": "2022-05-28T22:04:08.597907Z",
     "start_time": "2022-05-28T22:04:07.805940Z"
    }
   },
   "outputs": [
    {
     "data": {
      "text/plain": [
       "<WikipediaPage 'Apolo Ohno'>"
      ]
     },
     "execution_count": 19,
     "metadata": {},
     "output_type": "execute_result"
    }
   ],
   "source": [
    "page = wiki_page('apollo ohno')\n",
    "page"
   ]
  },
  {
   "cell_type": "code",
   "execution_count": 46,
   "metadata": {
    "ExecuteTime": {
     "end_time": "2022-05-28T22:19:58.797804Z",
     "start_time": "2022-05-28T22:19:48.991623Z"
    }
   },
   "outputs": [
    {
     "data": {
      "application/vnd.jupyter.widget-view+json": {
       "model_id": "2ad6b795fc0b4735aa207f6f94a4d2f5",
       "version_major": 2,
       "version_minor": 0
      },
      "text/plain": [
       "  0%|          | 0/31 [00:00<?, ?it/s]"
      ]
     },
     "metadata": {},
     "output_type": "display_data"
    },
    {
     "name": "stderr",
     "output_type": "stream",
     "text": [
      "/Users/hmamin/jabberwocky/lib/jabberwocky/external_data.py:292: UserWarning: Page not found. Trying to auto-select correct match.\n",
      "  if '(disambiguation)' in match: continue\n"
     ]
    }
   ],
   "source": [
    "name2page = {}\n",
    "for name in tqdm(conv.personas()):\n",
    "    args = ['computer science'] if 'lecun' in name.lower() else []\n",
    "    name2page[name] = wiki_page(name, *args)"
   ]
  },
  {
   "cell_type": "code",
   "execution_count": 103,
   "metadata": {
    "ExecuteTime": {
     "end_time": "2022-05-28T22:47:42.210231Z",
     "start_time": "2022-05-28T22:47:42.135248Z"
    }
   },
   "outputs": [
    {
     "data": {
      "text/plain": [
       "{'Albert Einstein': ('Albert Einstein', 'Albert Einstein', True),\n",
       " 'Alex Honnold': ('Alex Honnold', 'Alex Honnold', True),\n",
       " 'Andrej Karpathy': ('Andrej Karpathy', 'Andrej Karpathy', True),\n",
       " 'Apollo Ohno': ('Apolo Ohno', 'Apolo Ohno', False),\n",
       " 'Archimedes': ('Archimedes', 'Archimedes', True),\n",
       " 'Barack Obama': ('Barack Obama', 'Barack Obama', True),\n",
       " 'Beyonce': ('Beyoncé', 'Beyoncé', False),\n",
       " 'Brandon Sanderson': ('Brandon Sanderson', 'Brandon Sanderson', True),\n",
       " 'Donald Glover': ('Donald Glover', 'Donald Glover', True),\n",
       " 'Douglas Adams': ('Douglas Adams', 'Douglas Adams', True),\n",
       " 'Dr Seuss': ('Dr. Seuss', 'Dr. Seuss', False),\n",
       " 'Elijah Wood': ('Elijah Wood', 'Elijah Wood', True),\n",
       " 'Ezra Klein': ('Ezra Klein', 'Ezra Klein', True),\n",
       " 'George Harrison': ('George Harrison', 'George Harrison', True),\n",
       " 'George Orwell': ('George Orwell', 'George Orwell', True),\n",
       " 'God': ('God', 'God', True),\n",
       " 'Grace Hopper': ('Grace Hopper', 'Grace Hopper', True),\n",
       " 'Jk Rowling': ('J. K. Rowling', 'J.K. Rowling', False),\n",
       " 'Kanye West': ('Kanye West', 'Kanye West', True),\n",
       " 'Lex Fridman': ('Lex Fridman', 'Lex Fridman', True),\n",
       " 'Marie Curie': ('Marie Curie', 'Marie Curie', True),\n",
       " 'Mark Zuckerberg': ('Mark Zuckerberg', 'Mark Zuckerberg', True),\n",
       " 'Maya Angelou': ('Maya Angelou', 'Maya Angelou', True),\n",
       " 'Michelle Obama': ('Michelle Obama', 'Michelle Obama', True),\n",
       " 'Neil Degrasse Tyson': ('Neil deGrasse Tyson', 'Neil deGrasse Tyson', False),\n",
       " 'Nicolas Cage': ('Nicolas Cage', 'Nicolas Cage', True),\n",
       " 'Robert Sapolsky': ('Robert Sapolsky', 'Robert Sapolsky', True),\n",
       " 'Shel Silverstein': ('Shel Silverstein', 'Shel Silverstein', True),\n",
       " 'Simone Biles': ('Simone Biles', 'Simone Biles', True),\n",
       " 'Sylvia Plath': ('Sylvia Plath', 'Sylvia Plath', True),\n",
       " 'Yann Lecun': ('Yann LeCun', 'Yann LeCun', False)}"
      ]
     },
     "execution_count": 103,
     "metadata": {},
     "output_type": "execute_result"
    }
   ],
   "source": [
    "{name: (page.title, cleanup_wiki_name(page.title), name == page.title)\n",
    " for name, page in name2page.items()}"
   ]
  },
  {
   "cell_type": "code",
   "execution_count": 65,
   "metadata": {
    "ExecuteTime": {
     "end_time": "2022-05-28T22:32:45.442901Z",
     "start_time": "2022-05-28T22:32:44.704179Z"
    }
   },
   "outputs": [
    {
     "name": "stdout",
     "output_type": "stream",
     "text": [
      "Object loaded from /Users/hmamin/jabberwocky/data/misc/sample_response.pkl.\n",
      "Object loaded from /Users/hmamin/jabberwocky/data/misc/sample_stream_response.pkl.\n",
      "Object loaded from /Users/hmamin/jabberwocky/data/misc/gooseai_sample_responses.pkl.\n"
     ]
    },
    {
     "data": {
      "text/plain": [
       "<WikipediaPage 'J. T. Snow'>"
      ]
     },
     "execution_count": 65,
     "metadata": {},
     "output_type": "execute_result"
    }
   ],
   "source": [
    "wiki_page(\"JT Snow\")"
   ]
  },
  {
   "cell_type": "code",
   "execution_count": 64,
   "metadata": {
    "ExecuteTime": {
     "end_time": "2022-05-28T22:29:10.837351Z",
     "start_time": "2022-05-28T22:29:10.776453Z"
    }
   },
   "outputs": [
    {
     "data": {
      "text/plain": [
       "'j_k_rowling'"
      ]
     },
     "execution_count": 64,
     "metadata": {},
     "output_type": "execute_result"
    }
   ],
   "source": [
    "conv.process_name('J. K. Rowling')"
   ]
  },
  {
   "cell_type": "code",
   "execution_count": 54,
   "metadata": {
    "ExecuteTime": {
     "end_time": "2022-05-28T22:22:17.527920Z",
     "start_time": "2022-05-28T22:22:17.479629Z"
    }
   },
   "outputs": [
    {
     "data": {
      "text/plain": [
       "'Yann Lecun'"
      ]
     },
     "execution_count": 54,
     "metadata": {},
     "output_type": "execute_result"
    }
   ],
   "source": [
    "conv.process_name('yann lecun', True)"
   ]
  },
  {
   "cell_type": "code",
   "execution_count": 55,
   "metadata": {
    "ExecuteTime": {
     "end_time": "2022-05-28T22:23:11.372905Z",
     "start_time": "2022-05-28T22:23:10.183340Z"
    }
   },
   "outputs": [
    {
     "name": "stderr",
     "output_type": "stream",
     "text": [
      "/Users/hmamin/anaconda3/lib/python3.7/site-packages/wikipedia/wikipedia.py:389: UserWarning: No parser was explicitly specified, so I'm using the best available HTML parser for this system (\"lxml\"). This usually isn't a problem, but if you run this code on another system, or in a different virtual environment, it may use a different parser and behave differently.\n",
      "\n",
      "The code that caused this warning is on line 389 of the file /Users/hmamin/anaconda3/lib/python3.7/site-packages/wikipedia/wikipedia.py. To get rid of this warning, pass the additional argument 'features=\"lxml\"' to the BeautifulSoup constructor.\n",
      "\n",
      "  lis = BeautifulSoup(html).find_all('li')\n"
     ]
    },
    {
     "ename": "DisambiguationError",
     "evalue": "\"John Smith\" may refer to: \nJohn Smith (anatomist and chemist)\nJohn Blair Smith\nJohn Smith (Cambridge, 1766)\nJohn Smith (astronomer)\nJohn Smith (lexicographer)\nJohn Augustine Smith\nJohn Smith (botanist)\nJohn Smith (physician)\nJohn Alexander Smith (physician)\nJ. Lawrence Smith\nJohn Smith (dentist)\nJohn Campbell Smith\nJohn Donnell Smith\nJohn McGarvie Smith\nJohn Bernhardt Smith\nJohn Alexander Smith\nJohn Maynard Smith\nJohn Cyril Smith\nJohn Derek Smith\nJohn Smith (sociologist)\nJohn D. Smith\nJohn H. Smith (mathematician)\nJohn E. Sharwood Smith\nJohn Edwin Smith\nJohn Merlin Powis Smith\nJohn Smith (engraver)\nJohn Smith (English poet)\nJohn Christopher Smith\nJohn Warwick Smith\nJohn Stafford Smith\nJohn Raphael Smith\nJohn Thomas Smith (engraver)\nJohn Smith (clockmaker)\nJohn Rubens Smith\nJohn Smith (architect)\nJohn Smith (art historian)\nJohn Orrin Smith\nJohn Frederick Smith\nJohn Rowson Smith\nJohn Kelday Smith\nJohn G. Smith (poet)\nJohn Moyr Smith\nJohn Berryman\nJohn Smith (Canadian poet)\nJohn Smith (actor)\nJohn N. Smith\nJohn Smith (English filmmaker)\nJohn Warner Smith\nJohn F. Smith\nJohn Smith (comics writer)\nJohn Smith (musician)\nJohn F. Smith (musician)\nJohn Smith (comedian)\nJohn K. Smith\nJohn Russell Smith\nJohn J. Smith\nJohn Smith (brewer)\nJohn L. Smith (pharmaceutical executive)\nJohn F. Smith Jr.\nJohn Smith (executive)\nJohn Smith (housebreaker)\nJohn Smith (died 1835)\nJohn Eldon Smith\nJohn Smith (murderer)\nJohn Gordon Smith (surgeon)\nJohn Sidney Smith (legal writer)\nJohn William Smith (legal writer)\nJohn Smalman Smith\nJohn Lewis Smith Jr.\nJohn Smith (police officer)\nJohn Smith (banneret)\nJohn Smith (British Army officer, born 1754)\nJohn Smith (naval officer)\nFrederick Smith (British Army officer, born 1790)\nJohn Smith (sergeant)\nJohn E. Smith\nJohn Smith (private)\nJohn Smith (Medal of Honor, born 1826)\nJohn Smith (Medal of Honor, born 1831)\nJohn Smith (Medal of Honor, born 1854)\nJohn Manners Smith\nJohn Smith (flying ace)\nJohn Smith (Victoria politician)\nJohn Smith (New South Wales politician, born 1811)\nJohn Smith (New South Wales politician, born 1821)\nJohn Samuel Smith\nJohn Gordon Smith (politician)\nJohn Henry Smith (politician)\nJohn David Smith\nMuskoday First Nation\nJohn Shuter Smith\nJohn Smith (Kent MPP)\nJohn Smith (Manitoba politician)\nJohn Smith (Peel MPP)\nJohn Smith (Ontario MP)\nJack Smith (politician)\nJohn James Smith\nJohn Donald Smith\nJohn Roxburgh Smith\nJohn W. Y. Smith\nJohn Smith alias Dyer\nJohn Smith (High Sheriff of Kent)\nJohn Smith (steward of Berkeley)\nJohn Smith of Grothill\nJohn Smith (Cavalier, born 1608)\nJohn Smith (Chancellor of the Exchequer)\nJohn Smith (judge)\nJohn Smith (Bath MP)\nJohn Smith (Deputy Governor of Anguilla)\nJohn Smith (Wendover MP)\nJohn Hilary Smith\nJohn Spencer Smith\nJohn Benjamin Smith\nJohn Abel Smith\nJohn Smith (Conservative politician)\nJohn Smith, Baron Kirkhill\nJohn Smith (Labour Party leader)\nJohn Smith (Welsh politician)\nJohn Smith (explorer)\nJohn Smith (President of Rhode Island)\nJohn Smith (Virginia burgess)\nJohn Smith (Ohio politician, died 1824)\nJohn Smith (Virginia representative)\nJohn Smith (New York politician, born 1752)\nJohn Cotton Smith\nJohn Smith (Vermont politician)\nJohn William Smith (politician)\nJohn Speed Smith\nJohn T. Smith (congressman)\nJohn B. Smith (Wisconsin politician)\nJohn Derby Smith\nJ. Lawrence Smith (New York politician)\nJ. Gregory Smith\nJohn Armstrong Smith\nJohn Hugh Smith\nJ. Hyatt Smith\nJohn Quincy Smith\nJohn Lyman Smith\nJohn Y. T. Smith\nJohn C. Smith (politician)\nJohn Montgomery Smith\nJohn B. Smith (Washington politician)\nJohn Butler Smith\nJohn E. Smith (New York politician)\nJohn Day Smith\nJohn Walter Smith\nJohn Ambler Smith\nJohn Peter Smith\nJohn M. C. Smith\nJ. H. Smith (mayor)\nJohn M. Smith (politician, born 1872)\nJohn W. Smith (Detroit mayor)\nJohn Lee Smith\nJohn R. Smith (agriculture commissioner)\nJ. Joseph Smith\nJ. Clay Smith Jr.\nJohn Arthur Smith\nJohn R. Smith (politician, born 1945)\nJohn Robert Smith\nJohn Smith (Washington politician)\nJohn A. Smith (Mississippi politician)\nJohn P. Smith\nJohn Smith (Maine politician)\nJohn Hope Smith\nJ. Valentine Smith\nJohn Smith (bishop of Llandaff)\nJohn Smith (Platonist)\nJohn Smith (bishop of Killala and Achonry)\nJohn Smith (Unitarian)\nJohn Smith (priest, born 1659)\nJohn Smith (uncle of Joseph Smith)\nJohn Smith (Restoration Movement)\nJohn Smith (missionary)\nJohn Smith (priest, born 1799)\nJohn Smith (nephew of Joseph Smith)\nJohn Henry Smith\nJohn Smith (moderator)\nJohn Taylor Smith\nJohn Smith (archdeacon of Llandaff)\nJohn Smith (archdeacon of Wiltshire)\nJohn M. Smith (bishop)\nJohn H. Smith (bishop)\nJohn Smith (God's Squad)\nJohn \"Clipper\" Smith\nJohn Smith (tackle)\nJohn L. Smith\nJohn Smith (placekicker)\nJohn Smith (running back)\nJ. T. Smith (American football)\nJuJu Smith-Schuster\nJohn Smith (sportsman, born 1855)\nJohn Smith (footballer, born 1865)\nJack Smith (footballer, born 1898)\nJohn Smith (footballer, born 1898)\nJohn Richard Smith (footballer, born 1898)\nJohn Smith (footballer, born 1901)\nJohn Smith (inside-left)\nJohn Smith (1930s footballer)\nTed Smith (footballer, born 1914)\nJohn Smith (football chairman)\nJohn Smith (footballer, born 1921)\nJohn Smith (footballer, born 1927)\nJohn Smith (footballer, born 1939)\nJohn Smith (footballer, born 1944)\nJohn Smith (footballer, born 1970)\nJohn Smith (footballer, born 1971)\nJohn Smith (shortstop)\nJohn Smith (1880s first baseman)\nPhenomenal Smith\nJohn Smith (1930s first baseman)\nJohn G. Smith (coach)\nFord Smith\nJohn Smith (basketball, born 1944)\nJohn Smith (basketball coach)\nJohn Smith (basketball, born 1984)\nJohn Smith (Sheffield cricketer)\nJohn Smith (cricketer, born 1833)\nJohn Smith (cricketer, born 1834)\nJohn Smith (cricketer, born 1835)\nJohn Smith (Derbyshire cricketer)\nJohn Smith (cricketer, born 1843)\nJohn Smith (cricketer, born 1882)\nJohn Smith (cricketer, born 1919)\nJohn Smith (cricketer, born 1924)\nJohn Smith (cricketer, born 1936)\nJohn Smith (New Zealand cricketer)\nJohn Sidney Smith (rugby union)\nJohnny Smith (rugby union)\nJohn Smith (rugby league)\nJ. V. Smith\nJohn Smith (Canadian rower)\nJohn Smith (Australian footballer)\nJohn Smith (Zambian wrestler)\nJohn Smith (sprinter)\nJohn Smith (American wrestler)\nJ.T. Smith (wrestler)\nJohn Smith (South African rower)\nJohn Suttie Smith\nSir John Smith, 1st Baronet\nJohn Kilby Smith\nJohn Smith (Chippewa Indian)\nJohn Chaloner Smith\nJohn Brown Smith\nJohn Baptist Smith\nJ. E. Smith\nJohn Chabot Smith\nJohn Douglas Smith\nJohn Henry Smith (reporter)\nJohn Smith (abolitionist)\nRanger Smith\nJ. Wesley Smith\nJohn Smith (Kyon)\nJohn \"Hannibal\" Smith\nRed Tornado\nI Am Number Four\nLast Man Standing (1996 film)\nMr. & Mrs. Smith\nJohn Smith (Doctor Who)\nJohn Smith (Jericho)\nAgent Smith\nThe Man in the High Castle\nHitman: Agent 47\nJohnny Smith (Dead Zone)\nJoe Bloggs\nJohn Doe\nSir John Smith (disambiguation)\nJohn Smyth (disambiguation)\nJohn Smythe (disambiguation)\nJohnny Smith (disambiguation)\nJack Smith (disambiguation)\nJonathan Smith (disambiguation)\nJan Smit (disambiguation)\nJohn Smit\nJuan Smith\nJohn Smith's Brewery\nJohn Smith & Son\nOde to J. Smith\nJohann Schmidt (disambiguation)\nSmith of Derby Group",
     "output_type": "error",
     "traceback": [
      "\u001b[0;31m---------------------------------------------------------------------------\u001b[0m",
      "\u001b[0;31mDisambiguationError\u001b[0m                       Traceback (most recent call last)",
      "\u001b[0;32m<ipython-input-55-bc13ed0103a1>\u001b[0m in \u001b[0;36m<module>\u001b[0;34m\u001b[0m\n\u001b[0;32m----> 1\u001b[0;31m \u001b[0mwiki_page\u001b[0m\u001b[0;34m(\u001b[0m\u001b[0;34m'john smith'\u001b[0m\u001b[0;34m,\u001b[0m \u001b[0mdebug\u001b[0m\u001b[0;34m=\u001b[0m\u001b[0;32mTrue\u001b[0m\u001b[0;34m)\u001b[0m\u001b[0;34m\u001b[0m\u001b[0;34m\u001b[0m\u001b[0m\n\u001b[0m",
      "\u001b[0;32m~/jabberwocky/lib/jabberwocky/external_data.py\u001b[0m in \u001b[0;36mwiki_page\u001b[0;34m(name, retry, min_similarity, debug, og_name, auto_suggest, *tags)\u001b[0m\n\u001b[1;32m    276\u001b[0m     \"\"\"\n\u001b[1;32m    277\u001b[0m     \u001b[0;32mtry\u001b[0m\u001b[0;34m:\u001b[0m\u001b[0;34m\u001b[0m\u001b[0;34m\u001b[0m\u001b[0m\n\u001b[0;32m--> 278\u001b[0;31m         \u001b[0mpage\u001b[0m \u001b[0;34m=\u001b[0m \u001b[0mwiki\u001b[0m\u001b[0;34m.\u001b[0m\u001b[0mpage\u001b[0m\u001b[0;34m(\u001b[0m\u001b[0mnamecase\u001b[0m\u001b[0;34m(\u001b[0m\u001b[0mname\u001b[0m\u001b[0;34m)\u001b[0m\u001b[0;34m,\u001b[0m \u001b[0mauto_suggest\u001b[0m\u001b[0;34m=\u001b[0m\u001b[0mauto_suggest\u001b[0m\u001b[0;34m)\u001b[0m\u001b[0;34m\u001b[0m\u001b[0;34m\u001b[0m\u001b[0m\n\u001b[0m\u001b[1;32m    279\u001b[0m         score = fuzz.token_set_ratio((og_name or name).lower(),\n\u001b[1;32m    280\u001b[0m                                      page.title.lower())\n",
      "\u001b[0;32m~/anaconda3/lib/python3.7/site-packages/wikipedia/wikipedia.py\u001b[0m in \u001b[0;36mpage\u001b[0;34m(title, pageid, auto_suggest, redirect, preload)\u001b[0m\n\u001b[1;32m    274\u001b[0m         \u001b[0;31m# if there is no suggestion or search results, the page doesn't exist\u001b[0m\u001b[0;34m\u001b[0m\u001b[0;34m\u001b[0m\u001b[0;34m\u001b[0m\u001b[0m\n\u001b[1;32m    275\u001b[0m         \u001b[0;32mraise\u001b[0m \u001b[0mPageError\u001b[0m\u001b[0;34m(\u001b[0m\u001b[0mtitle\u001b[0m\u001b[0;34m)\u001b[0m\u001b[0;34m\u001b[0m\u001b[0;34m\u001b[0m\u001b[0m\n\u001b[0;32m--> 276\u001b[0;31m     \u001b[0;32mreturn\u001b[0m \u001b[0mWikipediaPage\u001b[0m\u001b[0;34m(\u001b[0m\u001b[0mtitle\u001b[0m\u001b[0;34m,\u001b[0m \u001b[0mredirect\u001b[0m\u001b[0;34m=\u001b[0m\u001b[0mredirect\u001b[0m\u001b[0;34m,\u001b[0m \u001b[0mpreload\u001b[0m\u001b[0;34m=\u001b[0m\u001b[0mpreload\u001b[0m\u001b[0;34m)\u001b[0m\u001b[0;34m\u001b[0m\u001b[0;34m\u001b[0m\u001b[0m\n\u001b[0m\u001b[1;32m    277\u001b[0m   \u001b[0;32melif\u001b[0m \u001b[0mpageid\u001b[0m \u001b[0;32mis\u001b[0m \u001b[0;32mnot\u001b[0m \u001b[0;32mNone\u001b[0m\u001b[0;34m:\u001b[0m\u001b[0;34m\u001b[0m\u001b[0;34m\u001b[0m\u001b[0m\n\u001b[1;32m    278\u001b[0m     \u001b[0;32mreturn\u001b[0m \u001b[0mWikipediaPage\u001b[0m\u001b[0;34m(\u001b[0m\u001b[0mpageid\u001b[0m\u001b[0;34m=\u001b[0m\u001b[0mpageid\u001b[0m\u001b[0;34m,\u001b[0m \u001b[0mpreload\u001b[0m\u001b[0;34m=\u001b[0m\u001b[0mpreload\u001b[0m\u001b[0;34m)\u001b[0m\u001b[0;34m\u001b[0m\u001b[0;34m\u001b[0m\u001b[0m\n",
      "\u001b[0;32m~/anaconda3/lib/python3.7/site-packages/wikipedia/wikipedia.py\u001b[0m in \u001b[0;36m__init__\u001b[0;34m(self, title, pageid, redirect, preload, original_title)\u001b[0m\n\u001b[1;32m    297\u001b[0m       \u001b[0;32mraise\u001b[0m \u001b[0mValueError\u001b[0m\u001b[0;34m(\u001b[0m\u001b[0;34m\"Either a title or a pageid must be specified\"\u001b[0m\u001b[0;34m)\u001b[0m\u001b[0;34m\u001b[0m\u001b[0;34m\u001b[0m\u001b[0m\n\u001b[1;32m    298\u001b[0m \u001b[0;34m\u001b[0m\u001b[0m\n\u001b[0;32m--> 299\u001b[0;31m     \u001b[0mself\u001b[0m\u001b[0;34m.\u001b[0m\u001b[0m__load\u001b[0m\u001b[0;34m(\u001b[0m\u001b[0mredirect\u001b[0m\u001b[0;34m=\u001b[0m\u001b[0mredirect\u001b[0m\u001b[0;34m,\u001b[0m \u001b[0mpreload\u001b[0m\u001b[0;34m=\u001b[0m\u001b[0mpreload\u001b[0m\u001b[0;34m)\u001b[0m\u001b[0;34m\u001b[0m\u001b[0;34m\u001b[0m\u001b[0m\n\u001b[0m\u001b[1;32m    300\u001b[0m \u001b[0;34m\u001b[0m\u001b[0m\n\u001b[1;32m    301\u001b[0m     \u001b[0;32mif\u001b[0m \u001b[0mpreload\u001b[0m\u001b[0;34m:\u001b[0m\u001b[0;34m\u001b[0m\u001b[0;34m\u001b[0m\u001b[0m\n",
      "\u001b[0;32m~/anaconda3/lib/python3.7/site-packages/wikipedia/wikipedia.py\u001b[0m in \u001b[0;36m__load\u001b[0;34m(self, redirect, preload)\u001b[0m\n\u001b[1;32m    391\u001b[0m       \u001b[0mmay_refer_to\u001b[0m \u001b[0;34m=\u001b[0m \u001b[0;34m[\u001b[0m\u001b[0mli\u001b[0m\u001b[0;34m.\u001b[0m\u001b[0ma\u001b[0m\u001b[0;34m.\u001b[0m\u001b[0mget_text\u001b[0m\u001b[0;34m(\u001b[0m\u001b[0;34m)\u001b[0m \u001b[0;32mfor\u001b[0m \u001b[0mli\u001b[0m \u001b[0;32min\u001b[0m \u001b[0mfiltered_lis\u001b[0m \u001b[0;32mif\u001b[0m \u001b[0mli\u001b[0m\u001b[0;34m.\u001b[0m\u001b[0ma\u001b[0m\u001b[0;34m]\u001b[0m\u001b[0;34m\u001b[0m\u001b[0;34m\u001b[0m\u001b[0m\n\u001b[1;32m    392\u001b[0m \u001b[0;34m\u001b[0m\u001b[0m\n\u001b[0;32m--> 393\u001b[0;31m       \u001b[0;32mraise\u001b[0m \u001b[0mDisambiguationError\u001b[0m\u001b[0;34m(\u001b[0m\u001b[0mgetattr\u001b[0m\u001b[0;34m(\u001b[0m\u001b[0mself\u001b[0m\u001b[0;34m,\u001b[0m \u001b[0;34m'title'\u001b[0m\u001b[0;34m,\u001b[0m \u001b[0mpage\u001b[0m\u001b[0;34m[\u001b[0m\u001b[0;34m'title'\u001b[0m\u001b[0;34m]\u001b[0m\u001b[0;34m)\u001b[0m\u001b[0;34m,\u001b[0m \u001b[0mmay_refer_to\u001b[0m\u001b[0;34m)\u001b[0m\u001b[0;34m\u001b[0m\u001b[0;34m\u001b[0m\u001b[0m\n\u001b[0m\u001b[1;32m    394\u001b[0m \u001b[0;34m\u001b[0m\u001b[0m\n\u001b[1;32m    395\u001b[0m     \u001b[0;32melse\u001b[0m\u001b[0;34m:\u001b[0m\u001b[0;34m\u001b[0m\u001b[0;34m\u001b[0m\u001b[0m\n",
      "\u001b[0;31mDisambiguationError\u001b[0m: \"John Smith\" may refer to: \nJohn Smith (anatomist and chemist)\nJohn Blair Smith\nJohn Smith (Cambridge, 1766)\nJohn Smith (astronomer)\nJohn Smith (lexicographer)\nJohn Augustine Smith\nJohn Smith (botanist)\nJohn Smith (physician)\nJohn Alexander Smith (physician)\nJ. Lawrence Smith\nJohn Smith (dentist)\nJohn Campbell Smith\nJohn Donnell Smith\nJohn McGarvie Smith\nJohn Bernhardt Smith\nJohn Alexander Smith\nJohn Maynard Smith\nJohn Cyril Smith\nJohn Derek Smith\nJohn Smith (sociologist)\nJohn D. Smith\nJohn H. Smith (mathematician)\nJohn E. Sharwood Smith\nJohn Edwin Smith\nJohn Merlin Powis Smith\nJohn Smith (engraver)\nJohn Smith (English poet)\nJohn Christopher Smith\nJohn Warwick Smith\nJohn Stafford Smith\nJohn Raphael Smith\nJohn Thomas Smith (engraver)\nJohn Smith (clockmaker)\nJohn Rubens Smith\nJohn Smith (architect)\nJohn Smith (art historian)\nJohn Orrin Smith\nJohn Frederick Smith\nJohn Rowson Smith\nJohn Kelday Smith\nJohn G. Smith (poet)\nJohn Moyr Smith\nJohn Berryman\nJohn Smith (Canadian poet)\nJohn Smith (actor)\nJohn N. Smith\nJohn Smith (English filmmaker)\nJohn Warner Smith\nJohn F. Smith\nJohn Smith (comics writer)\nJohn Smith (musician)\nJohn F. Smith (musician)\nJohn Smith (comedian)\nJohn K. Smith\nJohn Russell Smith\nJohn J. Smith\nJohn Smith (brewer)\nJohn L. Smith (pharmaceutical executive)\nJohn F. Smith Jr.\nJohn Smith (executive)\nJohn Smith (housebreaker)\nJohn Smith (died 1835)\nJohn Eldon Smith\nJohn Smith (murderer)\nJohn Gordon Smith (surgeon)\nJohn Sidney Smith (legal writer)\nJohn William Smith (legal writer)\nJohn Smalman Smith\nJohn Lewis Smith Jr.\nJohn Smith (police officer)\nJohn Smith (banneret)\nJohn Smith (British Army officer, born 1754)\nJohn Smith (naval officer)\nFrederick Smith (British Army officer, born 1790)\nJohn Smith (sergeant)\nJohn E. Smith\nJohn Smith (private)\nJohn Smith (Medal of Honor, born 1826)\nJohn Smith (Medal of Honor, born 1831)\nJohn Smith (Medal of Honor, born 1854)\nJohn Manners Smith\nJohn Smith (flying ace)\nJohn Smith (Victoria politician)\nJohn Smith (New South Wales politician, born 1811)\nJohn Smith (New South Wales politician, born 1821)\nJohn Samuel Smith\nJohn Gordon Smith (politician)\nJohn Henry Smith (politician)\nJohn David Smith\nMuskoday First Nation\nJohn Shuter Smith\nJohn Smith (Kent MPP)\nJohn Smith (Manitoba politician)\nJohn Smith (Peel MPP)\nJohn Smith (Ontario MP)\nJack Smith (politician)\nJohn James Smith\nJohn Donald Smith\nJohn Roxburgh Smith\nJohn W. Y. Smith\nJohn Smith alias Dyer\nJohn Smith (High Sheriff of Kent)\nJohn Smith (steward of Berkeley)\nJohn Smith of Grothill\nJohn Smith (Cavalier, born 1608)\nJohn Smith (Chancellor of the Exchequer)\nJohn Smith (judge)\nJohn Smith (Bath MP)\nJohn Smith (Deputy Governor of Anguilla)\nJohn Smith (Wendover MP)\nJohn Hilary Smith\nJohn Spencer Smith\nJohn Benjamin Smith\nJohn Abel Smith\nJohn Smith (Conservative politician)\nJohn Smith, Baron Kirkhill\nJohn Smith (Labour Party leader)\nJohn Smith (Welsh politician)\nJohn Smith (explorer)\nJohn Smith (President of Rhode Island)\nJohn Smith (Virginia burgess)\nJohn Smith (Ohio politician, died 1824)\nJohn Smith (Virginia representative)\nJohn Smith (New York politician, born 1752)\nJohn Cotton Smith\nJohn Smith (Vermont politician)\nJohn William Smith (politician)\nJohn Speed Smith\nJohn T. Smith (congressman)\nJohn B. Smith (Wisconsin politician)\nJohn Derby Smith\nJ. Lawrence Smith (New York politician)\nJ. Gregory Smith\nJohn Armstrong Smith\nJohn Hugh Smith\nJ. Hyatt Smith\nJohn Quincy Smith\nJohn Lyman Smith\nJohn Y. T. Smith\nJohn C. Smith (politician)\nJohn Montgomery Smith\nJohn B. Smith (Washington politician)\nJohn Butler Smith\nJohn E. Smith (New York politician)\nJohn Day Smith\nJohn Walter Smith\nJohn Ambler Smith\nJohn Peter Smith\nJohn M. C. Smith\nJ. H. Smith (mayor)\nJohn M. Smith (politician, born 1872)\nJohn W. Smith (Detroit mayor)\nJohn Lee Smith\nJohn R. Smith (agriculture commissioner)\nJ. Joseph Smith\nJ. Clay Smith Jr.\nJohn Arthur Smith\nJohn R. Smith (politician, born 1945)\nJohn Robert Smith\nJohn Smith (Washington politician)\nJohn A. Smith (Mississippi politician)\nJohn P. Smith\nJohn Smith (Maine politician)\nJohn Hope Smith\nJ. Valentine Smith\nJohn Smith (bishop of Llandaff)\nJohn Smith (Platonist)\nJohn Smith (bishop of Killala and Achonry)\nJohn Smith (Unitarian)\nJohn Smith (priest, born 1659)\nJohn Smith (uncle of Joseph Smith)\nJohn Smith (Restoration Movement)\nJohn Smith (missionary)\nJohn Smith (priest, born 1799)\nJohn Smith (nephew of Joseph Smith)\nJohn Henry Smith\nJohn Smith (moderator)\nJohn Taylor Smith\nJohn Smith (archdeacon of Llandaff)\nJohn Smith (archdeacon of Wiltshire)\nJohn M. Smith (bishop)\nJohn H. Smith (bishop)\nJohn Smith (God's Squad)\nJohn \"Clipper\" Smith\nJohn Smith (tackle)\nJohn L. Smith\nJohn Smith (placekicker)\nJohn Smith (running back)\nJ. T. Smith (American football)\nJuJu Smith-Schuster\nJohn Smith (sportsman, born 1855)\nJohn Smith (footballer, born 1865)\nJack Smith (footballer, born 1898)\nJohn Smith (footballer, born 1898)\nJohn Richard Smith (footballer, born 1898)\nJohn Smith (footballer, born 1901)\nJohn Smith (inside-left)\nJohn Smith (1930s footballer)\nTed Smith (footballer, born 1914)\nJohn Smith (football chairman)\nJohn Smith (footballer, born 1921)\nJohn Smith (footballer, born 1927)\nJohn Smith (footballer, born 1939)\nJohn Smith (footballer, born 1944)\nJohn Smith (footballer, born 1970)\nJohn Smith (footballer, born 1971)\nJohn Smith (shortstop)\nJohn Smith (1880s first baseman)\nPhenomenal Smith\nJohn Smith (1930s first baseman)\nJohn G. Smith (coach)\nFord Smith\nJohn Smith (basketball, born 1944)\nJohn Smith (basketball coach)\nJohn Smith (basketball, born 1984)\nJohn Smith (Sheffield cricketer)\nJohn Smith (cricketer, born 1833)\nJohn Smith (cricketer, born 1834)\nJohn Smith (cricketer, born 1835)\nJohn Smith (Derbyshire cricketer)\nJohn Smith (cricketer, born 1843)\nJohn Smith (cricketer, born 1882)\nJohn Smith (cricketer, born 1919)\nJohn Smith (cricketer, born 1924)\nJohn Smith (cricketer, born 1936)\nJohn Smith (New Zealand cricketer)\nJohn Sidney Smith (rugby union)\nJohnny Smith (rugby union)\nJohn Smith (rugby league)\nJ. V. Smith\nJohn Smith (Canadian rower)\nJohn Smith (Australian footballer)\nJohn Smith (Zambian wrestler)\nJohn Smith (sprinter)\nJohn Smith (American wrestler)\nJ.T. Smith (wrestler)\nJohn Smith (South African rower)\nJohn Suttie Smith\nSir John Smith, 1st Baronet\nJohn Kilby Smith\nJohn Smith (Chippewa Indian)\nJohn Chaloner Smith\nJohn Brown Smith\nJohn Baptist Smith\nJ. E. Smith\nJohn Chabot Smith\nJohn Douglas Smith\nJohn Henry Smith (reporter)\nJohn Smith (abolitionist)\nRanger Smith\nJ. Wesley Smith\nJohn Smith (Kyon)\nJohn \"Hannibal\" Smith\nRed Tornado\nI Am Number Four\nLast Man Standing (1996 film)\nMr. & Mrs. Smith\nJohn Smith (Doctor Who)\nJohn Smith (Jericho)\nAgent Smith\nThe Man in the High Castle\nHitman: Agent 47\nJohnny Smith (Dead Zone)\nJoe Bloggs\nJohn Doe\nSir John Smith (disambiguation)\nJohn Smyth (disambiguation)\nJohn Smythe (disambiguation)\nJohnny Smith (disambiguation)\nJack Smith (disambiguation)\nJonathan Smith (disambiguation)\nJan Smit (disambiguation)\nJohn Smit\nJuan Smith\nJohn Smith's Brewery\nJohn Smith & Son\nOde to J. Smith\nJohann Schmidt (disambiguation)\nSmith of Derby Group"
     ]
    }
   ],
   "source": [
    "wiki_page('john smith', debug=True)"
   ]
  },
  {
   "cell_type": "code",
   "execution_count": 56,
   "metadata": {
    "ExecuteTime": {
     "end_time": "2022-05-28T22:24:10.562396Z",
     "start_time": "2022-05-28T22:24:09.248496Z"
    }
   },
   "outputs": [
    {
     "ename": "DisambiguationError",
     "evalue": "\"John Smith\" may refer to: \nJohn Smith (anatomist and chemist)\nJohn Blair Smith\nJohn Smith (Cambridge, 1766)\nJohn Smith (astronomer)\nJohn Smith (lexicographer)\nJohn Augustine Smith\nJohn Smith (botanist)\nJohn Smith (physician)\nJohn Alexander Smith (physician)\nJ. Lawrence Smith\nJohn Smith (dentist)\nJohn Campbell Smith\nJohn Donnell Smith\nJohn McGarvie Smith\nJohn Bernhardt Smith\nJohn Alexander Smith\nJohn Maynard Smith\nJohn Cyril Smith\nJohn Derek Smith\nJohn Smith (sociologist)\nJohn D. Smith\nJohn H. Smith (mathematician)\nJohn E. Sharwood Smith\nJohn Edwin Smith\nJohn Merlin Powis Smith\nJohn Smith (engraver)\nJohn Smith (English poet)\nJohn Christopher Smith\nJohn Warwick Smith\nJohn Stafford Smith\nJohn Raphael Smith\nJohn Thomas Smith (engraver)\nJohn Smith (clockmaker)\nJohn Rubens Smith\nJohn Smith (architect)\nJohn Smith (art historian)\nJohn Orrin Smith\nJohn Frederick Smith\nJohn Rowson Smith\nJohn Kelday Smith\nJohn G. Smith (poet)\nJohn Moyr Smith\nJohn Berryman\nJohn Smith (Canadian poet)\nJohn Smith (actor)\nJohn N. Smith\nJohn Smith (English filmmaker)\nJohn Warner Smith\nJohn F. Smith\nJohn Smith (comics writer)\nJohn Smith (musician)\nJohn F. Smith (musician)\nJohn Smith (comedian)\nJohn K. Smith\nJohn Russell Smith\nJohn J. Smith\nJohn Smith (brewer)\nJohn L. Smith (pharmaceutical executive)\nJohn F. Smith Jr.\nJohn Smith (executive)\nJohn Smith (housebreaker)\nJohn Smith (died 1835)\nJohn Eldon Smith\nJohn Smith (murderer)\nJohn Gordon Smith (surgeon)\nJohn Sidney Smith (legal writer)\nJohn William Smith (legal writer)\nJohn Smalman Smith\nJohn Lewis Smith Jr.\nJohn Smith (police officer)\nJohn Smith (banneret)\nJohn Smith (British Army officer, born 1754)\nJohn Smith (naval officer)\nFrederick Smith (British Army officer, born 1790)\nJohn Smith (sergeant)\nJohn E. Smith\nJohn Smith (private)\nJohn Smith (Medal of Honor, born 1826)\nJohn Smith (Medal of Honor, born 1831)\nJohn Smith (Medal of Honor, born 1854)\nJohn Manners Smith\nJohn Smith (flying ace)\nJohn Smith (Victoria politician)\nJohn Smith (New South Wales politician, born 1811)\nJohn Smith (New South Wales politician, born 1821)\nJohn Samuel Smith\nJohn Gordon Smith (politician)\nJohn Henry Smith (politician)\nJohn David Smith\nMuskoday First Nation\nJohn Shuter Smith\nJohn Smith (Kent MPP)\nJohn Smith (Manitoba politician)\nJohn Smith (Peel MPP)\nJohn Smith (Ontario MP)\nJack Smith (politician)\nJohn James Smith\nJohn Donald Smith\nJohn Roxburgh Smith\nJohn W. Y. Smith\nJohn Smith alias Dyer\nJohn Smith (High Sheriff of Kent)\nJohn Smith (steward of Berkeley)\nJohn Smith of Grothill\nJohn Smith (Cavalier, born 1608)\nJohn Smith (Chancellor of the Exchequer)\nJohn Smith (judge)\nJohn Smith (Bath MP)\nJohn Smith (Deputy Governor of Anguilla)\nJohn Smith (Wendover MP)\nJohn Hilary Smith\nJohn Spencer Smith\nJohn Benjamin Smith\nJohn Abel Smith\nJohn Smith (Conservative politician)\nJohn Smith, Baron Kirkhill\nJohn Smith (Labour Party leader)\nJohn Smith (Welsh politician)\nJohn Smith (explorer)\nJohn Smith (President of Rhode Island)\nJohn Smith (Virginia burgess)\nJohn Smith (Ohio politician, died 1824)\nJohn Smith (Virginia representative)\nJohn Smith (New York politician, born 1752)\nJohn Cotton Smith\nJohn Smith (Vermont politician)\nJohn William Smith (politician)\nJohn Speed Smith\nJohn T. Smith (congressman)\nJohn B. Smith (Wisconsin politician)\nJohn Derby Smith\nJ. Lawrence Smith (New York politician)\nJ. Gregory Smith\nJohn Armstrong Smith\nJohn Hugh Smith\nJ. Hyatt Smith\nJohn Quincy Smith\nJohn Lyman Smith\nJohn Y. T. Smith\nJohn C. Smith (politician)\nJohn Montgomery Smith\nJohn B. Smith (Washington politician)\nJohn Butler Smith\nJohn E. Smith (New York politician)\nJohn Day Smith\nJohn Walter Smith\nJohn Ambler Smith\nJohn Peter Smith\nJohn M. C. Smith\nJ. H. Smith (mayor)\nJohn M. Smith (politician, born 1872)\nJohn W. Smith (Detroit mayor)\nJohn Lee Smith\nJohn R. Smith (agriculture commissioner)\nJ. Joseph Smith\nJ. Clay Smith Jr.\nJohn Arthur Smith\nJohn R. Smith (politician, born 1945)\nJohn Robert Smith\nJohn Smith (Washington politician)\nJohn A. Smith (Mississippi politician)\nJohn P. Smith\nJohn Smith (Maine politician)\nJohn Hope Smith\nJ. Valentine Smith\nJohn Smith (bishop of Llandaff)\nJohn Smith (Platonist)\nJohn Smith (bishop of Killala and Achonry)\nJohn Smith (Unitarian)\nJohn Smith (priest, born 1659)\nJohn Smith (uncle of Joseph Smith)\nJohn Smith (Restoration Movement)\nJohn Smith (missionary)\nJohn Smith (priest, born 1799)\nJohn Smith (nephew of Joseph Smith)\nJohn Henry Smith\nJohn Smith (moderator)\nJohn Taylor Smith\nJohn Smith (archdeacon of Llandaff)\nJohn Smith (archdeacon of Wiltshire)\nJohn M. Smith (bishop)\nJohn H. Smith (bishop)\nJohn Smith (God's Squad)\nJohn \"Clipper\" Smith\nJohn Smith (tackle)\nJohn L. Smith\nJohn Smith (placekicker)\nJohn Smith (running back)\nJ. T. Smith (American football)\nJuJu Smith-Schuster\nJohn Smith (sportsman, born 1855)\nJohn Smith (footballer, born 1865)\nJack Smith (footballer, born 1898)\nJohn Smith (footballer, born 1898)\nJohn Richard Smith (footballer, born 1898)\nJohn Smith (footballer, born 1901)\nJohn Smith (inside-left)\nJohn Smith (1930s footballer)\nTed Smith (footballer, born 1914)\nJohn Smith (football chairman)\nJohn Smith (footballer, born 1921)\nJohn Smith (footballer, born 1927)\nJohn Smith (footballer, born 1939)\nJohn Smith (footballer, born 1944)\nJohn Smith (footballer, born 1970)\nJohn Smith (footballer, born 1971)\nJohn Smith (shortstop)\nJohn Smith (1880s first baseman)\nPhenomenal Smith\nJohn Smith (1930s first baseman)\nJohn G. Smith (coach)\nFord Smith\nJohn Smith (basketball, born 1944)\nJohn Smith (basketball coach)\nJohn Smith (basketball, born 1984)\nJohn Smith (Sheffield cricketer)\nJohn Smith (cricketer, born 1833)\nJohn Smith (cricketer, born 1834)\nJohn Smith (cricketer, born 1835)\nJohn Smith (Derbyshire cricketer)\nJohn Smith (cricketer, born 1843)\nJohn Smith (cricketer, born 1882)\nJohn Smith (cricketer, born 1919)\nJohn Smith (cricketer, born 1924)\nJohn Smith (cricketer, born 1936)\nJohn Smith (New Zealand cricketer)\nJohn Sidney Smith (rugby union)\nJohnny Smith (rugby union)\nJohn Smith (rugby league)\nJ. V. Smith\nJohn Smith (Canadian rower)\nJohn Smith (Australian footballer)\nJohn Smith (Zambian wrestler)\nJohn Smith (sprinter)\nJohn Smith (American wrestler)\nJ.T. Smith (wrestler)\nJohn Smith (South African rower)\nJohn Suttie Smith\nSir John Smith, 1st Baronet\nJohn Kilby Smith\nJohn Smith (Chippewa Indian)\nJohn Chaloner Smith\nJohn Brown Smith\nJohn Baptist Smith\nJ. E. Smith\nJohn Chabot Smith\nJohn Douglas Smith\nJohn Henry Smith (reporter)\nJohn Smith (abolitionist)\nRanger Smith\nJ. Wesley Smith\nJohn Smith (Kyon)\nJohn \"Hannibal\" Smith\nRed Tornado\nI Am Number Four\nLast Man Standing (1996 film)\nMr. & Mrs. Smith\nJohn Smith (Doctor Who)\nJohn Smith (Jericho)\nAgent Smith\nThe Man in the High Castle\nHitman: Agent 47\nJohnny Smith (Dead Zone)\nJoe Bloggs\nJohn Doe\nSir John Smith (disambiguation)\nJohn Smyth (disambiguation)\nJohn Smythe (disambiguation)\nJohnny Smith (disambiguation)\nJack Smith (disambiguation)\nJonathan Smith (disambiguation)\nJan Smit (disambiguation)\nJohn Smit\nJuan Smith\nJohn Smith's Brewery\nJohn Smith & Son\nOde to J. Smith\nJohann Schmidt (disambiguation)\nSmith of Derby Group",
     "output_type": "error",
     "traceback": [
      "\u001b[0;31m---------------------------------------------------------------------------\u001b[0m",
      "\u001b[0;31mDisambiguationError\u001b[0m                       Traceback (most recent call last)",
      "\u001b[0;32m<ipython-input-56-58fb35faa791>\u001b[0m in \u001b[0;36m<module>\u001b[0;34m\u001b[0m\n\u001b[0;32m----> 1\u001b[0;31m \u001b[0mwiki_page\u001b[0m\u001b[0;34m(\u001b[0m\u001b[0;34m'john smith'\u001b[0m\u001b[0;34m,\u001b[0m \u001b[0;34m'wrestler'\u001b[0m\u001b[0;34m)\u001b[0m\u001b[0;34m\u001b[0m\u001b[0;34m\u001b[0m\u001b[0m\n\u001b[0m",
      "\u001b[0;32m~/jabberwocky/lib/jabberwocky/external_data.py\u001b[0m in \u001b[0;36mwiki_page\u001b[0;34m(name, retry, min_similarity, debug, og_name, auto_suggest, *tags)\u001b[0m\n\u001b[1;32m    276\u001b[0m     \"\"\"\n\u001b[1;32m    277\u001b[0m     \u001b[0;32mtry\u001b[0m\u001b[0;34m:\u001b[0m\u001b[0;34m\u001b[0m\u001b[0;34m\u001b[0m\u001b[0m\n\u001b[0;32m--> 278\u001b[0;31m         \u001b[0mpage\u001b[0m \u001b[0;34m=\u001b[0m \u001b[0mwiki\u001b[0m\u001b[0;34m.\u001b[0m\u001b[0mpage\u001b[0m\u001b[0;34m(\u001b[0m\u001b[0mnamecase\u001b[0m\u001b[0;34m(\u001b[0m\u001b[0mname\u001b[0m\u001b[0;34m)\u001b[0m\u001b[0;34m,\u001b[0m \u001b[0mauto_suggest\u001b[0m\u001b[0;34m=\u001b[0m\u001b[0mauto_suggest\u001b[0m\u001b[0;34m)\u001b[0m\u001b[0;34m\u001b[0m\u001b[0;34m\u001b[0m\u001b[0m\n\u001b[0m\u001b[1;32m    279\u001b[0m         score = fuzz.token_set_ratio((og_name or name).lower(),\n\u001b[1;32m    280\u001b[0m                                      page.title.lower())\n",
      "\u001b[0;32m~/anaconda3/lib/python3.7/site-packages/wikipedia/wikipedia.py\u001b[0m in \u001b[0;36mpage\u001b[0;34m(title, pageid, auto_suggest, redirect, preload)\u001b[0m\n\u001b[1;32m    274\u001b[0m         \u001b[0;31m# if there is no suggestion or search results, the page doesn't exist\u001b[0m\u001b[0;34m\u001b[0m\u001b[0;34m\u001b[0m\u001b[0;34m\u001b[0m\u001b[0m\n\u001b[1;32m    275\u001b[0m         \u001b[0;32mraise\u001b[0m \u001b[0mPageError\u001b[0m\u001b[0;34m(\u001b[0m\u001b[0mtitle\u001b[0m\u001b[0;34m)\u001b[0m\u001b[0;34m\u001b[0m\u001b[0;34m\u001b[0m\u001b[0m\n\u001b[0;32m--> 276\u001b[0;31m     \u001b[0;32mreturn\u001b[0m \u001b[0mWikipediaPage\u001b[0m\u001b[0;34m(\u001b[0m\u001b[0mtitle\u001b[0m\u001b[0;34m,\u001b[0m \u001b[0mredirect\u001b[0m\u001b[0;34m=\u001b[0m\u001b[0mredirect\u001b[0m\u001b[0;34m,\u001b[0m \u001b[0mpreload\u001b[0m\u001b[0;34m=\u001b[0m\u001b[0mpreload\u001b[0m\u001b[0;34m)\u001b[0m\u001b[0;34m\u001b[0m\u001b[0;34m\u001b[0m\u001b[0m\n\u001b[0m\u001b[1;32m    277\u001b[0m   \u001b[0;32melif\u001b[0m \u001b[0mpageid\u001b[0m \u001b[0;32mis\u001b[0m \u001b[0;32mnot\u001b[0m \u001b[0;32mNone\u001b[0m\u001b[0;34m:\u001b[0m\u001b[0;34m\u001b[0m\u001b[0;34m\u001b[0m\u001b[0m\n\u001b[1;32m    278\u001b[0m     \u001b[0;32mreturn\u001b[0m \u001b[0mWikipediaPage\u001b[0m\u001b[0;34m(\u001b[0m\u001b[0mpageid\u001b[0m\u001b[0;34m=\u001b[0m\u001b[0mpageid\u001b[0m\u001b[0;34m,\u001b[0m \u001b[0mpreload\u001b[0m\u001b[0;34m=\u001b[0m\u001b[0mpreload\u001b[0m\u001b[0;34m)\u001b[0m\u001b[0;34m\u001b[0m\u001b[0;34m\u001b[0m\u001b[0m\n",
      "\u001b[0;32m~/anaconda3/lib/python3.7/site-packages/wikipedia/wikipedia.py\u001b[0m in \u001b[0;36m__init__\u001b[0;34m(self, title, pageid, redirect, preload, original_title)\u001b[0m\n\u001b[1;32m    297\u001b[0m       \u001b[0;32mraise\u001b[0m \u001b[0mValueError\u001b[0m\u001b[0;34m(\u001b[0m\u001b[0;34m\"Either a title or a pageid must be specified\"\u001b[0m\u001b[0;34m)\u001b[0m\u001b[0;34m\u001b[0m\u001b[0;34m\u001b[0m\u001b[0m\n\u001b[1;32m    298\u001b[0m \u001b[0;34m\u001b[0m\u001b[0m\n\u001b[0;32m--> 299\u001b[0;31m     \u001b[0mself\u001b[0m\u001b[0;34m.\u001b[0m\u001b[0m__load\u001b[0m\u001b[0;34m(\u001b[0m\u001b[0mredirect\u001b[0m\u001b[0;34m=\u001b[0m\u001b[0mredirect\u001b[0m\u001b[0;34m,\u001b[0m \u001b[0mpreload\u001b[0m\u001b[0;34m=\u001b[0m\u001b[0mpreload\u001b[0m\u001b[0;34m)\u001b[0m\u001b[0;34m\u001b[0m\u001b[0;34m\u001b[0m\u001b[0m\n\u001b[0m\u001b[1;32m    300\u001b[0m \u001b[0;34m\u001b[0m\u001b[0m\n\u001b[1;32m    301\u001b[0m     \u001b[0;32mif\u001b[0m \u001b[0mpreload\u001b[0m\u001b[0;34m:\u001b[0m\u001b[0;34m\u001b[0m\u001b[0;34m\u001b[0m\u001b[0m\n",
      "\u001b[0;32m~/anaconda3/lib/python3.7/site-packages/wikipedia/wikipedia.py\u001b[0m in \u001b[0;36m__load\u001b[0;34m(self, redirect, preload)\u001b[0m\n\u001b[1;32m    391\u001b[0m       \u001b[0mmay_refer_to\u001b[0m \u001b[0;34m=\u001b[0m \u001b[0;34m[\u001b[0m\u001b[0mli\u001b[0m\u001b[0;34m.\u001b[0m\u001b[0ma\u001b[0m\u001b[0;34m.\u001b[0m\u001b[0mget_text\u001b[0m\u001b[0;34m(\u001b[0m\u001b[0;34m)\u001b[0m \u001b[0;32mfor\u001b[0m \u001b[0mli\u001b[0m \u001b[0;32min\u001b[0m \u001b[0mfiltered_lis\u001b[0m \u001b[0;32mif\u001b[0m \u001b[0mli\u001b[0m\u001b[0;34m.\u001b[0m\u001b[0ma\u001b[0m\u001b[0;34m]\u001b[0m\u001b[0;34m\u001b[0m\u001b[0;34m\u001b[0m\u001b[0m\n\u001b[1;32m    392\u001b[0m \u001b[0;34m\u001b[0m\u001b[0m\n\u001b[0;32m--> 393\u001b[0;31m       \u001b[0;32mraise\u001b[0m \u001b[0mDisambiguationError\u001b[0m\u001b[0;34m(\u001b[0m\u001b[0mgetattr\u001b[0m\u001b[0;34m(\u001b[0m\u001b[0mself\u001b[0m\u001b[0;34m,\u001b[0m \u001b[0;34m'title'\u001b[0m\u001b[0;34m,\u001b[0m \u001b[0mpage\u001b[0m\u001b[0;34m[\u001b[0m\u001b[0;34m'title'\u001b[0m\u001b[0;34m]\u001b[0m\u001b[0;34m)\u001b[0m\u001b[0;34m,\u001b[0m \u001b[0mmay_refer_to\u001b[0m\u001b[0;34m)\u001b[0m\u001b[0;34m\u001b[0m\u001b[0;34m\u001b[0m\u001b[0m\n\u001b[0m\u001b[1;32m    394\u001b[0m \u001b[0;34m\u001b[0m\u001b[0m\n\u001b[1;32m    395\u001b[0m     \u001b[0;32melse\u001b[0m\u001b[0;34m:\u001b[0m\u001b[0;34m\u001b[0m\u001b[0;34m\u001b[0m\u001b[0m\n",
      "\u001b[0;31mDisambiguationError\u001b[0m: \"John Smith\" may refer to: \nJohn Smith (anatomist and chemist)\nJohn Blair Smith\nJohn Smith (Cambridge, 1766)\nJohn Smith (astronomer)\nJohn Smith (lexicographer)\nJohn Augustine Smith\nJohn Smith (botanist)\nJohn Smith (physician)\nJohn Alexander Smith (physician)\nJ. Lawrence Smith\nJohn Smith (dentist)\nJohn Campbell Smith\nJohn Donnell Smith\nJohn McGarvie Smith\nJohn Bernhardt Smith\nJohn Alexander Smith\nJohn Maynard Smith\nJohn Cyril Smith\nJohn Derek Smith\nJohn Smith (sociologist)\nJohn D. Smith\nJohn H. Smith (mathematician)\nJohn E. Sharwood Smith\nJohn Edwin Smith\nJohn Merlin Powis Smith\nJohn Smith (engraver)\nJohn Smith (English poet)\nJohn Christopher Smith\nJohn Warwick Smith\nJohn Stafford Smith\nJohn Raphael Smith\nJohn Thomas Smith (engraver)\nJohn Smith (clockmaker)\nJohn Rubens Smith\nJohn Smith (architect)\nJohn Smith (art historian)\nJohn Orrin Smith\nJohn Frederick Smith\nJohn Rowson Smith\nJohn Kelday Smith\nJohn G. Smith (poet)\nJohn Moyr Smith\nJohn Berryman\nJohn Smith (Canadian poet)\nJohn Smith (actor)\nJohn N. Smith\nJohn Smith (English filmmaker)\nJohn Warner Smith\nJohn F. Smith\nJohn Smith (comics writer)\nJohn Smith (musician)\nJohn F. Smith (musician)\nJohn Smith (comedian)\nJohn K. Smith\nJohn Russell Smith\nJohn J. Smith\nJohn Smith (brewer)\nJohn L. Smith (pharmaceutical executive)\nJohn F. Smith Jr.\nJohn Smith (executive)\nJohn Smith (housebreaker)\nJohn Smith (died 1835)\nJohn Eldon Smith\nJohn Smith (murderer)\nJohn Gordon Smith (surgeon)\nJohn Sidney Smith (legal writer)\nJohn William Smith (legal writer)\nJohn Smalman Smith\nJohn Lewis Smith Jr.\nJohn Smith (police officer)\nJohn Smith (banneret)\nJohn Smith (British Army officer, born 1754)\nJohn Smith (naval officer)\nFrederick Smith (British Army officer, born 1790)\nJohn Smith (sergeant)\nJohn E. Smith\nJohn Smith (private)\nJohn Smith (Medal of Honor, born 1826)\nJohn Smith (Medal of Honor, born 1831)\nJohn Smith (Medal of Honor, born 1854)\nJohn Manners Smith\nJohn Smith (flying ace)\nJohn Smith (Victoria politician)\nJohn Smith (New South Wales politician, born 1811)\nJohn Smith (New South Wales politician, born 1821)\nJohn Samuel Smith\nJohn Gordon Smith (politician)\nJohn Henry Smith (politician)\nJohn David Smith\nMuskoday First Nation\nJohn Shuter Smith\nJohn Smith (Kent MPP)\nJohn Smith (Manitoba politician)\nJohn Smith (Peel MPP)\nJohn Smith (Ontario MP)\nJack Smith (politician)\nJohn James Smith\nJohn Donald Smith\nJohn Roxburgh Smith\nJohn W. Y. Smith\nJohn Smith alias Dyer\nJohn Smith (High Sheriff of Kent)\nJohn Smith (steward of Berkeley)\nJohn Smith of Grothill\nJohn Smith (Cavalier, born 1608)\nJohn Smith (Chancellor of the Exchequer)\nJohn Smith (judge)\nJohn Smith (Bath MP)\nJohn Smith (Deputy Governor of Anguilla)\nJohn Smith (Wendover MP)\nJohn Hilary Smith\nJohn Spencer Smith\nJohn Benjamin Smith\nJohn Abel Smith\nJohn Smith (Conservative politician)\nJohn Smith, Baron Kirkhill\nJohn Smith (Labour Party leader)\nJohn Smith (Welsh politician)\nJohn Smith (explorer)\nJohn Smith (President of Rhode Island)\nJohn Smith (Virginia burgess)\nJohn Smith (Ohio politician, died 1824)\nJohn Smith (Virginia representative)\nJohn Smith (New York politician, born 1752)\nJohn Cotton Smith\nJohn Smith (Vermont politician)\nJohn William Smith (politician)\nJohn Speed Smith\nJohn T. Smith (congressman)\nJohn B. Smith (Wisconsin politician)\nJohn Derby Smith\nJ. Lawrence Smith (New York politician)\nJ. Gregory Smith\nJohn Armstrong Smith\nJohn Hugh Smith\nJ. Hyatt Smith\nJohn Quincy Smith\nJohn Lyman Smith\nJohn Y. T. Smith\nJohn C. Smith (politician)\nJohn Montgomery Smith\nJohn B. Smith (Washington politician)\nJohn Butler Smith\nJohn E. Smith (New York politician)\nJohn Day Smith\nJohn Walter Smith\nJohn Ambler Smith\nJohn Peter Smith\nJohn M. C. Smith\nJ. H. Smith (mayor)\nJohn M. Smith (politician, born 1872)\nJohn W. Smith (Detroit mayor)\nJohn Lee Smith\nJohn R. Smith (agriculture commissioner)\nJ. Joseph Smith\nJ. Clay Smith Jr.\nJohn Arthur Smith\nJohn R. Smith (politician, born 1945)\nJohn Robert Smith\nJohn Smith (Washington politician)\nJohn A. Smith (Mississippi politician)\nJohn P. Smith\nJohn Smith (Maine politician)\nJohn Hope Smith\nJ. Valentine Smith\nJohn Smith (bishop of Llandaff)\nJohn Smith (Platonist)\nJohn Smith (bishop of Killala and Achonry)\nJohn Smith (Unitarian)\nJohn Smith (priest, born 1659)\nJohn Smith (uncle of Joseph Smith)\nJohn Smith (Restoration Movement)\nJohn Smith (missionary)\nJohn Smith (priest, born 1799)\nJohn Smith (nephew of Joseph Smith)\nJohn Henry Smith\nJohn Smith (moderator)\nJohn Taylor Smith\nJohn Smith (archdeacon of Llandaff)\nJohn Smith (archdeacon of Wiltshire)\nJohn M. Smith (bishop)\nJohn H. Smith (bishop)\nJohn Smith (God's Squad)\nJohn \"Clipper\" Smith\nJohn Smith (tackle)\nJohn L. Smith\nJohn Smith (placekicker)\nJohn Smith (running back)\nJ. T. Smith (American football)\nJuJu Smith-Schuster\nJohn Smith (sportsman, born 1855)\nJohn Smith (footballer, born 1865)\nJack Smith (footballer, born 1898)\nJohn Smith (footballer, born 1898)\nJohn Richard Smith (footballer, born 1898)\nJohn Smith (footballer, born 1901)\nJohn Smith (inside-left)\nJohn Smith (1930s footballer)\nTed Smith (footballer, born 1914)\nJohn Smith (football chairman)\nJohn Smith (footballer, born 1921)\nJohn Smith (footballer, born 1927)\nJohn Smith (footballer, born 1939)\nJohn Smith (footballer, born 1944)\nJohn Smith (footballer, born 1970)\nJohn Smith (footballer, born 1971)\nJohn Smith (shortstop)\nJohn Smith (1880s first baseman)\nPhenomenal Smith\nJohn Smith (1930s first baseman)\nJohn G. Smith (coach)\nFord Smith\nJohn Smith (basketball, born 1944)\nJohn Smith (basketball coach)\nJohn Smith (basketball, born 1984)\nJohn Smith (Sheffield cricketer)\nJohn Smith (cricketer, born 1833)\nJohn Smith (cricketer, born 1834)\nJohn Smith (cricketer, born 1835)\nJohn Smith (Derbyshire cricketer)\nJohn Smith (cricketer, born 1843)\nJohn Smith (cricketer, born 1882)\nJohn Smith (cricketer, born 1919)\nJohn Smith (cricketer, born 1924)\nJohn Smith (cricketer, born 1936)\nJohn Smith (New Zealand cricketer)\nJohn Sidney Smith (rugby union)\nJohnny Smith (rugby union)\nJohn Smith (rugby league)\nJ. V. Smith\nJohn Smith (Canadian rower)\nJohn Smith (Australian footballer)\nJohn Smith (Zambian wrestler)\nJohn Smith (sprinter)\nJohn Smith (American wrestler)\nJ.T. Smith (wrestler)\nJohn Smith (South African rower)\nJohn Suttie Smith\nSir John Smith, 1st Baronet\nJohn Kilby Smith\nJohn Smith (Chippewa Indian)\nJohn Chaloner Smith\nJohn Brown Smith\nJohn Baptist Smith\nJ. E. Smith\nJohn Chabot Smith\nJohn Douglas Smith\nJohn Henry Smith (reporter)\nJohn Smith (abolitionist)\nRanger Smith\nJ. Wesley Smith\nJohn Smith (Kyon)\nJohn \"Hannibal\" Smith\nRed Tornado\nI Am Number Four\nLast Man Standing (1996 film)\nMr. & Mrs. Smith\nJohn Smith (Doctor Who)\nJohn Smith (Jericho)\nAgent Smith\nThe Man in the High Castle\nHitman: Agent 47\nJohnny Smith (Dead Zone)\nJoe Bloggs\nJohn Doe\nSir John Smith (disambiguation)\nJohn Smyth (disambiguation)\nJohn Smythe (disambiguation)\nJohnny Smith (disambiguation)\nJack Smith (disambiguation)\nJonathan Smith (disambiguation)\nJan Smit (disambiguation)\nJohn Smit\nJuan Smith\nJohn Smith's Brewery\nJohn Smith & Son\nOde to J. Smith\nJohann Schmidt (disambiguation)\nSmith of Derby Group"
     ]
    }
   ],
   "source": [
    "wiki_page('john smith', 'wrestler')"
   ]
  },
  {
   "cell_type": "code",
   "execution_count": 63,
   "metadata": {
    "ExecuteTime": {
     "end_time": "2022-05-28T22:27:23.293549Z",
     "start_time": "2022-05-28T22:27:22.771276Z"
    }
   },
   "outputs": [
    {
     "data": {
      "text/plain": [
       "['John Smith (American wrestler)',\n",
       " 'John Smith',\n",
       " 'Davey Boy Smith',\n",
       " 'John W. Smith',\n",
       " 'Pat Smith (wrestler)',\n",
       " 'J.T. Smith (wrestler)',\n",
       " 'John Layfield',\n",
       " 'John Nord',\n",
       " 'John Cena filmography',\n",
       " 'John Laurinaitis']"
      ]
     },
     "execution_count": 63,
     "metadata": {},
     "output_type": "execute_result"
    }
   ],
   "source": [
    "wiki.search('John Smith (American Wrestler)')"
   ]
  },
  {
   "cell_type": "code",
   "execution_count": 57,
   "metadata": {
    "ExecuteTime": {
     "end_time": "2022-05-28T22:24:41.197648Z",
     "start_time": "2022-05-28T22:24:40.713549Z"
    }
   },
   "outputs": [
    {
     "data": {
      "text/plain": [
       "['John Smith (American wrestler)',\n",
       " 'John Smith',\n",
       " 'Davey Boy Smith',\n",
       " 'Johnny Smith (wrestler)',\n",
       " 'J.T. Smith (wrestler)',\n",
       " 'Davey Boy Smith Jr.',\n",
       " 'Pat Smith (wrestler)',\n",
       " 'John Smith (Zambian wrestler)',\n",
       " 'Freestyle wrestling',\n",
       " 'Hart wrestling family']"
      ]
     },
     "execution_count": 57,
     "metadata": {},
     "output_type": "execute_result"
    }
   ],
   "source": [
    "wiki.search('john smith wrestler')"
   ]
  },
  {
   "cell_type": "markdown",
   "metadata": {},
   "source": [
    "## Test Banana Backend"
   ]
  },
  {
   "cell_type": "code",
   "execution_count": 14,
   "metadata": {
    "ExecuteTime": {
     "end_time": "2022-06-08T02:19:49.684953Z",
     "start_time": "2022-06-08T02:19:49.645549Z"
    }
   },
   "outputs": [],
   "source": [
    "import requests\n",
    "import time\n",
    "\n",
    "from htools import *"
   ]
  },
  {
   "cell_type": "code",
   "execution_count": 15,
   "metadata": {
    "ExecuteTime": {
     "end_time": "2022-06-08T02:19:50.132845Z",
     "start_time": "2022-06-08T02:19:50.095143Z"
    }
   },
   "outputs": [
    {
     "name": "stdout",
     "output_type": "stream",
     "text": [
      "Switching openai backend to \"banana\".\n"
     ]
    }
   ],
   "source": [
    "GPT.switch('banana')"
   ]
  },
  {
   "cell_type": "code",
   "execution_count": 20,
   "metadata": {
    "ExecuteTime": {
     "end_time": "2022-06-08T02:22:34.426131Z",
     "start_time": "2022-06-08T02:22:34.245330Z"
    }
   },
   "outputs": [],
   "source": [
    "pm = PromptManager(verbose=False)"
   ]
  },
  {
   "cell_type": "code",
   "execution_count": 21,
   "metadata": {
    "ExecuteTime": {
     "end_time": "2022-06-08T02:22:34.859808Z",
     "start_time": "2022-06-08T02:22:34.822998Z"
    }
   },
   "outputs": [],
   "source": [
    "text = 'I wonder if that you give birth to a whole new at whole new realm of fake are instead of mimicking a famous famous artist people cell AI generated art that present is if it was human made'"
   ]
  },
  {
   "cell_type": "code",
   "execution_count": 26,
   "metadata": {
    "ExecuteTime": {
     "end_time": "2022-06-08T02:25:45.898807Z",
     "start_time": "2022-06-08T02:24:54.388186Z"
    },
    "run_control": {
     "marked": false
    },
    "scrolled": true
   },
   "outputs": [
    {
     "data": {
      "application/vnd.jupyter.widget-view+json": {
       "model_id": "",
       "version_major": 2,
       "version_minor": 0
      },
      "text/plain": [
       "  0%|          | 0/10 [00:00<?, ?it/s]"
      ]
     },
     "metadata": {},
     "output_type": "display_data"
    },
    {
     "name": "stdout",
     "output_type": "stream",
     "text": [
      "{'engine': 1, 'temperature': 0.2, 'stop': ['Raw transcription:', 'Punctuated transcription:', 'Add any missing punctuation and fix any small'], 'max_tokens': 76, 'prompt': \"Add any missing punctuation and fix any small grammatical errors in these raw transcriptions.\\n\\nRaw transcription: what are your plans for this afternoon\\nPunctuated transcription: What are your plans for this afternoon?\\n\\nRaw transcription: hi john how are you its been a long time since we talked\\nPunctuated transcription: Hi John! How are you? It's been a long time since we talked.\\n\\nRaw transcription: can you elaborate I'm not sure I understand\\nPunctuated transcription: Can you elaborate? I'm not sure I understand.\\n\\nRaw transcription: i want to write a short science fiction novel can you suggest a prompts thank you\\nPunctuated transcription: I want to write a short science fiction novel. Can you suggest a prompt? Thank you.\\n\\nRaw transcription: I wonder if that you give birth to a whole new at whole new realm of fake are instead of mimicking a famous famous artist people cell AI generated art that present is if it was human made\\nPunctuated transcription:\", 'meta': {'backend_name': 'banana', 'query_func': 'query_gpt_banana', 'datetime': 'Tue Jun  7 19:24:54 2022', 'version': 0}}\n",
      "[TIMER]: Block executed in 5.252 seconds.\n",
      "['I wonder if that you give birth to a whole new at whole new realm of fake are instead of mimicking a famous famous artist. People cell AI generated art that present is if it was human made.']\n",
      "{'engine': 1, 'temperature': 0.2, 'stop': ['Raw transcription:', 'Punctuated transcription:', 'Add any missing punctuation and fix any small'], 'max_tokens': 76, 'prompt': \"Add any missing punctuation and fix any small grammatical errors in these raw transcriptions.\\n\\nRaw transcription: what are your plans for this afternoon\\nPunctuated transcription: What are your plans for this afternoon?\\n\\nRaw transcription: hi john how are you its been a long time since we talked\\nPunctuated transcription: Hi John! How are you? It's been a long time since we talked.\\n\\nRaw transcription: can you elaborate I'm not sure I understand\\nPunctuated transcription: Can you elaborate? I'm not sure I understand.\\n\\nRaw transcription: i want to write a short science fiction novel can you suggest a prompts thank you\\nPunctuated transcription: I want to write a short science fiction novel. Can you suggest a prompt? Thank you.\\n\\nRaw transcription: I wonder if that you give birth to a whole new at whole new realm of fake are instead of mimicking a famous famous artist people cell AI generated art that present is if it was human made\\nPunctuated transcription:\", 'meta': {'backend_name': 'banana', 'query_func': 'query_gpt_banana', 'datetime': 'Tue Jun  7 19:24:59 2022', 'version': 0}}\n",
      "[TIMER]: Block executed in 4.940 seconds.\n",
      "['I wonder if that you give birth to a whole new realm of fake art. Instead of mimicking a famous famous artist. People cell AI generated art that present is if it was human made.']\n",
      "{'engine': 1, 'temperature': 0.2, 'stop': ['Raw transcription:', 'Punctuated transcription:', 'Add any missing punctuation and fix any small'], 'max_tokens': 76, 'prompt': \"Add any missing punctuation and fix any small grammatical errors in these raw transcriptions.\\n\\nRaw transcription: what are your plans for this afternoon\\nPunctuated transcription: What are your plans for this afternoon?\\n\\nRaw transcription: hi john how are you its been a long time since we talked\\nPunctuated transcription: Hi John! How are you? It's been a long time since we talked.\\n\\nRaw transcription: can you elaborate I'm not sure I understand\\nPunctuated transcription: Can you elaborate? I'm not sure I understand.\\n\\nRaw transcription: i want to write a short science fiction novel can you suggest a prompts thank you\\nPunctuated transcription: I want to write a short science fiction novel. Can you suggest a prompt? Thank you.\\n\\nRaw transcription: I wonder if that you give birth to a whole new at whole new realm of fake are instead of mimicking a famous famous artist people cell AI generated art that present is if it was human made\\nPunctuated transcription:\", 'meta': {'backend_name': 'banana', 'query_func': 'query_gpt_banana', 'datetime': 'Tue Jun  7 19:25:04 2022', 'version': 0}}\n",
      "[TIMER]: Block executed in 5.191 seconds.\n",
      "['I wonder if that you give birth to a whole new at whole new realm of fake are instead of mimicking a famous famous artist people cell AI generated art that present is if it was human made.']\n",
      "{'engine': 1, 'temperature': 0.2, 'stop': ['Raw transcription:', 'Punctuated transcription:', 'Add any missing punctuation and fix any small'], 'max_tokens': 76, 'prompt': \"Add any missing punctuation and fix any small grammatical errors in these raw transcriptions.\\n\\nRaw transcription: what are your plans for this afternoon\\nPunctuated transcription: What are your plans for this afternoon?\\n\\nRaw transcription: hi john how are you its been a long time since we talked\\nPunctuated transcription: Hi John! How are you? It's been a long time since we talked.\\n\\nRaw transcription: can you elaborate I'm not sure I understand\\nPunctuated transcription: Can you elaborate? I'm not sure I understand.\\n\\nRaw transcription: i want to write a short science fiction novel can you suggest a prompts thank you\\nPunctuated transcription: I want to write a short science fiction novel. Can you suggest a prompt? Thank you.\\n\\nRaw transcription: I wonder if that you give birth to a whole new at whole new realm of fake are instead of mimicking a famous famous artist people cell AI generated art that present is if it was human made\\nPunctuated transcription:\", 'meta': {'backend_name': 'banana', 'query_func': 'query_gpt_banana', 'datetime': 'Tue Jun  7 19:25:09 2022', 'version': 0}}\n",
      "[TIMER]: Block executed in 4.962 seconds.\n",
      "['I wonder if that you give birth to a whole new realm of fake art. Instead of mimicking a famous famous artist. People cell AI generated art that present is if it was human made.']\n",
      "{'engine': 1, 'temperature': 0.2, 'stop': ['Raw transcription:', 'Punctuated transcription:', 'Add any missing punctuation and fix any small'], 'max_tokens': 76, 'prompt': \"Add any missing punctuation and fix any small grammatical errors in these raw transcriptions.\\n\\nRaw transcription: what are your plans for this afternoon\\nPunctuated transcription: What are your plans for this afternoon?\\n\\nRaw transcription: hi john how are you its been a long time since we talked\\nPunctuated transcription: Hi John! How are you? It's been a long time since we talked.\\n\\nRaw transcription: can you elaborate I'm not sure I understand\\nPunctuated transcription: Can you elaborate? I'm not sure I understand.\\n\\nRaw transcription: i want to write a short science fiction novel can you suggest a prompts thank you\\nPunctuated transcription: I want to write a short science fiction novel. Can you suggest a prompt? Thank you.\\n\\nRaw transcription: I wonder if that you give birth to a whole new at whole new realm of fake are instead of mimicking a famous famous artist people cell AI generated art that present is if it was human made\\nPunctuated transcription:\", 'meta': {'backend_name': 'banana', 'query_func': 'query_gpt_banana', 'datetime': 'Tue Jun  7 19:25:14 2022', 'version': 0}}\n",
      "[TIMER]: Block executed in 5.171 seconds.\n",
      "['I wonder if that you give birth to a whole new at whole new realm of fake are instead of mimicking a famous famous artist people cell AI generated art that present is if it was human made.']\n",
      "{'engine': 1, 'temperature': 0.2, 'stop': ['Raw transcription:', 'Punctuated transcription:', 'Add any missing punctuation and fix any small'], 'max_tokens': 76, 'prompt': \"Add any missing punctuation and fix any small grammatical errors in these raw transcriptions.\\n\\nRaw transcription: what are your plans for this afternoon\\nPunctuated transcription: What are your plans for this afternoon?\\n\\nRaw transcription: hi john how are you its been a long time since we talked\\nPunctuated transcription: Hi John! How are you? It's been a long time since we talked.\\n\\nRaw transcription: can you elaborate I'm not sure I understand\\nPunctuated transcription: Can you elaborate? I'm not sure I understand.\\n\\nRaw transcription: i want to write a short science fiction novel can you suggest a prompts thank you\\nPunctuated transcription: I want to write a short science fiction novel. Can you suggest a prompt? Thank you.\\n\\nRaw transcription: I wonder if that you give birth to a whole new at whole new realm of fake are instead of mimicking a famous famous artist people cell AI generated art that present is if it was human made\\nPunctuated transcription:\", 'meta': {'backend_name': 'banana', 'query_func': 'query_gpt_banana', 'datetime': 'Tue Jun  7 19:25:20 2022', 'version': 0}}\n"
     ]
    },
    {
     "name": "stdout",
     "output_type": "stream",
     "text": [
      "[TIMER]: Block executed in 5.527 seconds.\n",
      "['I wonder if that you give birth to a whole new at whole new realm of fake are instead of mimicking a famous famous artist people cell AI generated art that present is if it was human made.']\n",
      "{'engine': 1, 'temperature': 0.2, 'stop': ['Raw transcription:', 'Punctuated transcription:', 'Add any missing punctuation and fix any small'], 'max_tokens': 76, 'prompt': \"Add any missing punctuation and fix any small grammatical errors in these raw transcriptions.\\n\\nRaw transcription: what are your plans for this afternoon\\nPunctuated transcription: What are your plans for this afternoon?\\n\\nRaw transcription: hi john how are you its been a long time since we talked\\nPunctuated transcription: Hi John! How are you? It's been a long time since we talked.\\n\\nRaw transcription: can you elaborate I'm not sure I understand\\nPunctuated transcription: Can you elaborate? I'm not sure I understand.\\n\\nRaw transcription: i want to write a short science fiction novel can you suggest a prompts thank you\\nPunctuated transcription: I want to write a short science fiction novel. Can you suggest a prompt? Thank you.\\n\\nRaw transcription: I wonder if that you give birth to a whole new at whole new realm of fake are instead of mimicking a famous famous artist people cell AI generated art that present is if it was human made\\nPunctuated transcription:\", 'meta': {'backend_name': 'banana', 'query_func': 'query_gpt_banana', 'datetime': 'Tue Jun  7 19:25:25 2022', 'version': 0}}\n",
      "[TIMER]: Block executed in 5.222 seconds.\n",
      "['I wonder if that you give birth to a whole new at whole new realm of fake are instead of mimicking a famous famous artist. People cell AI generated art that present is if it was human made.']\n",
      "{'engine': 1, 'temperature': 0.2, 'stop': ['Raw transcription:', 'Punctuated transcription:', 'Add any missing punctuation and fix any small'], 'max_tokens': 76, 'prompt': \"Add any missing punctuation and fix any small grammatical errors in these raw transcriptions.\\n\\nRaw transcription: what are your plans for this afternoon\\nPunctuated transcription: What are your plans for this afternoon?\\n\\nRaw transcription: hi john how are you its been a long time since we talked\\nPunctuated transcription: Hi John! How are you? It's been a long time since we talked.\\n\\nRaw transcription: can you elaborate I'm not sure I understand\\nPunctuated transcription: Can you elaborate? I'm not sure I understand.\\n\\nRaw transcription: i want to write a short science fiction novel can you suggest a prompts thank you\\nPunctuated transcription: I want to write a short science fiction novel. Can you suggest a prompt? Thank you.\\n\\nRaw transcription: I wonder if that you give birth to a whole new at whole new realm of fake are instead of mimicking a famous famous artist people cell AI generated art that present is if it was human made\\nPunctuated transcription:\", 'meta': {'backend_name': 'banana', 'query_func': 'query_gpt_banana', 'datetime': 'Tue Jun  7 19:25:30 2022', 'version': 0}}\n",
      "[TIMER]: Block executed in 5.216 seconds.\n",
      "['I wonder if that you give birth to a whole new at whole new realm of fake are instead of mimicking a famous famous artist people cell AI generated art that present is if it was human made.']\n",
      "{'engine': 1, 'temperature': 0.2, 'stop': ['Raw transcription:', 'Punctuated transcription:', 'Add any missing punctuation and fix any small'], 'max_tokens': 76, 'prompt': \"Add any missing punctuation and fix any small grammatical errors in these raw transcriptions.\\n\\nRaw transcription: what are your plans for this afternoon\\nPunctuated transcription: What are your plans for this afternoon?\\n\\nRaw transcription: hi john how are you its been a long time since we talked\\nPunctuated transcription: Hi John! How are you? It's been a long time since we talked.\\n\\nRaw transcription: can you elaborate I'm not sure I understand\\nPunctuated transcription: Can you elaborate? I'm not sure I understand.\\n\\nRaw transcription: i want to write a short science fiction novel can you suggest a prompts thank you\\nPunctuated transcription: I want to write a short science fiction novel. Can you suggest a prompt? Thank you.\\n\\nRaw transcription: I wonder if that you give birth to a whole new at whole new realm of fake are instead of mimicking a famous famous artist people cell AI generated art that present is if it was human made\\nPunctuated transcription:\", 'meta': {'backend_name': 'banana', 'query_func': 'query_gpt_banana', 'datetime': 'Tue Jun  7 19:25:35 2022', 'version': 0}}\n",
      "[TIMER]: Block executed in 4.947 seconds.\n",
      "['I wonder if that you give birth to a whole new realm of fake art instead of mimicking a famous famous artist. People cell AI generated art that present is if it was human made.']\n",
      "{'engine': 1, 'temperature': 0.2, 'stop': ['Raw transcription:', 'Punctuated transcription:', 'Add any missing punctuation and fix any small'], 'max_tokens': 76, 'prompt': \"Add any missing punctuation and fix any small grammatical errors in these raw transcriptions.\\n\\nRaw transcription: what are your plans for this afternoon\\nPunctuated transcription: What are your plans for this afternoon?\\n\\nRaw transcription: hi john how are you its been a long time since we talked\\nPunctuated transcription: Hi John! How are you? It's been a long time since we talked.\\n\\nRaw transcription: can you elaborate I'm not sure I understand\\nPunctuated transcription: Can you elaborate? I'm not sure I understand.\\n\\nRaw transcription: i want to write a short science fiction novel can you suggest a prompts thank you\\nPunctuated transcription: I want to write a short science fiction novel. Can you suggest a prompt? Thank you.\\n\\nRaw transcription: I wonder if that you give birth to a whole new at whole new realm of fake are instead of mimicking a famous famous artist people cell AI generated art that present is if it was human made\\nPunctuated transcription:\", 'meta': {'backend_name': 'banana', 'query_func': 'query_gpt_banana', 'datetime': 'Tue Jun  7 19:25:40 2022', 'version': 0}}\n",
      "[TIMER]: Block executed in 4.951 seconds.\n",
      "['I wonder if that you give birth to a whole new at whole new realm of fake are instead of mimicking a famous famous artist. People cell AI generated art that present is if it was human made.']\n"
     ]
    }
   ],
   "source": [
    "times = []\n",
    "results = []\n",
    "for _ in tqdm(range(10)):\n",
    "    with block_timer() as bt:\n",
    "        res = pm.query(task='punctuate_alexa', text=text, \n",
    "                       max_tokens=2*len(text.split()))\n",
    "    print(res[0])\n",
    "    results.append(res)\n",
    "    times.append(bt)"
   ]
  },
  {
   "cell_type": "code",
   "execution_count": 28,
   "metadata": {
    "ExecuteTime": {
     "end_time": "2022-06-08T02:25:57.419223Z",
     "start_time": "2022-06-08T02:25:57.360237Z"
    }
   },
   "outputs": [
    {
     "data": {
      "text/html": [
       "<div>\n",
       "<style scoped>\n",
       "    .dataframe tbody tr th:only-of-type {\n",
       "        vertical-align: middle;\n",
       "    }\n",
       "\n",
       "    .dataframe tbody tr th {\n",
       "        vertical-align: top;\n",
       "    }\n",
       "\n",
       "    .dataframe thead th {\n",
       "        text-align: right;\n",
       "    }\n",
       "</style>\n",
       "<table border=\"1\" class=\"dataframe\">\n",
       "  <thead>\n",
       "    <tr style=\"text-align: right;\">\n",
       "      <th></th>\n",
       "      <th>duration</th>\n",
       "    </tr>\n",
       "  </thead>\n",
       "  <tbody>\n",
       "    <tr>\n",
       "      <th>count</th>\n",
       "      <td>10.000000</td>\n",
       "    </tr>\n",
       "    <tr>\n",
       "      <th>mean</th>\n",
       "      <td>5.137857</td>\n",
       "    </tr>\n",
       "    <tr>\n",
       "      <th>std</th>\n",
       "      <td>0.189312</td>\n",
       "    </tr>\n",
       "    <tr>\n",
       "      <th>min</th>\n",
       "      <td>4.940122</td>\n",
       "    </tr>\n",
       "    <tr>\n",
       "      <th>25%</th>\n",
       "      <td>4.953435</td>\n",
       "    </tr>\n",
       "    <tr>\n",
       "      <th>50%</th>\n",
       "      <td>5.180961</td>\n",
       "    </tr>\n",
       "    <tr>\n",
       "      <th>75%</th>\n",
       "      <td>5.220249</td>\n",
       "    </tr>\n",
       "    <tr>\n",
       "      <th>max</th>\n",
       "      <td>5.526596</td>\n",
       "    </tr>\n",
       "  </tbody>\n",
       "</table>\n",
       "</div>"
      ],
      "text/plain": [
       "        duration\n",
       "count  10.000000\n",
       "mean    5.137857\n",
       "std     0.189312\n",
       "min     4.940122\n",
       "25%     4.953435\n",
       "50%     5.180961\n",
       "75%     5.220249\n",
       "max     5.526596"
      ]
     },
     "execution_count": 28,
     "metadata": {},
     "output_type": "execute_result"
    }
   ],
   "source": [
    "times = pd.DataFrame(times)\n",
    "times.describe()"
   ]
  },
  {
   "cell_type": "code",
   "execution_count": 30,
   "metadata": {
    "ExecuteTime": {
     "end_time": "2022-06-08T02:27:39.289693Z",
     "start_time": "2022-06-08T02:27:32.470696Z"
    },
    "run_control": {
     "marked": false
    },
    "scrolled": true
   },
   "outputs": [
    {
     "name": "stdout",
     "output_type": "stream",
     "text": [
      "Switching openai backend to \"openai\".\n"
     ]
    },
    {
     "data": {
      "application/vnd.jupyter.widget-view+json": {
       "model_id": "79f671eaffd74a82a96b5f2c82c2130e",
       "version_major": 2,
       "version_minor": 0
      },
      "text/plain": [
       "  0%|          | 0/10 [00:00<?, ?it/s]"
      ]
     },
     "metadata": {},
     "output_type": "display_data"
    },
    {
     "name": "stdout",
     "output_type": "stream",
     "text": [
      "{'engine': 1, 'temperature': 0.2, 'stop': ['Raw transcription:', 'Punctuated transcription:', 'Add any missing punctuation and fix any small'], 'max_tokens': 76, 'prompt': \"Add any missing punctuation and fix any small grammatical errors in these raw transcriptions.\\n\\nRaw transcription: what are your plans for this afternoon\\nPunctuated transcription: What are your plans for this afternoon?\\n\\nRaw transcription: hi john how are you its been a long time since we talked\\nPunctuated transcription: Hi John! How are you? It's been a long time since we talked.\\n\\nRaw transcription: can you elaborate I'm not sure I understand\\nPunctuated transcription: Can you elaborate? I'm not sure I understand.\\n\\nRaw transcription: i want to write a short science fiction novel can you suggest a prompts thank you\\nPunctuated transcription: I want to write a short science fiction novel. Can you suggest a prompt? Thank you.\\n\\nRaw transcription: I wonder if that you give birth to a whole new at whole new realm of fake are instead of mimicking a famous famous artist people cell AI generated art that present is if it was human made\\nPunctuated transcription:\", 'meta': {'backend_name': 'openai', 'query_func': 'query_gpt3', 'datetime': 'Tue Jun  7 19:27:32 2022', 'version': 0}}\n",
      "[TIMER]: Block executed in 0.797 seconds.\n",
      "[\"I wonder if that you give birth to a whole new realm of fake art instead of mimicking a famous famous artist? People's cells generate art that present is if it was human made.\"]\n",
      "{'engine': 1, 'temperature': 0.2, 'stop': ['Raw transcription:', 'Punctuated transcription:', 'Add any missing punctuation and fix any small'], 'max_tokens': 76, 'prompt': \"Add any missing punctuation and fix any small grammatical errors in these raw transcriptions.\\n\\nRaw transcription: what are your plans for this afternoon\\nPunctuated transcription: What are your plans for this afternoon?\\n\\nRaw transcription: hi john how are you its been a long time since we talked\\nPunctuated transcription: Hi John! How are you? It's been a long time since we talked.\\n\\nRaw transcription: can you elaborate I'm not sure I understand\\nPunctuated transcription: Can you elaborate? I'm not sure I understand.\\n\\nRaw transcription: i want to write a short science fiction novel can you suggest a prompts thank you\\nPunctuated transcription: I want to write a short science fiction novel. Can you suggest a prompt? Thank you.\\n\\nRaw transcription: I wonder if that you give birth to a whole new at whole new realm of fake are instead of mimicking a famous famous artist people cell AI generated art that present is if it was human made\\nPunctuated transcription:\", 'meta': {'backend_name': 'openai', 'query_func': 'query_gpt3', 'datetime': 'Tue Jun  7 19:27:33 2022', 'version': 0}}\n",
      "[TIMER]: Block executed in 0.607 seconds.\n",
      "[\"I wonder if that you give birth to a whole new realm of fake art instead of mimicking a famous famous artist? People's cell AI-generated art presents itself as if it was human-made.\"]\n",
      "{'engine': 1, 'temperature': 0.2, 'stop': ['Raw transcription:', 'Punctuated transcription:', 'Add any missing punctuation and fix any small'], 'max_tokens': 76, 'prompt': \"Add any missing punctuation and fix any small grammatical errors in these raw transcriptions.\\n\\nRaw transcription: what are your plans for this afternoon\\nPunctuated transcription: What are your plans for this afternoon?\\n\\nRaw transcription: hi john how are you its been a long time since we talked\\nPunctuated transcription: Hi John! How are you? It's been a long time since we talked.\\n\\nRaw transcription: can you elaborate I'm not sure I understand\\nPunctuated transcription: Can you elaborate? I'm not sure I understand.\\n\\nRaw transcription: i want to write a short science fiction novel can you suggest a prompts thank you\\nPunctuated transcription: I want to write a short science fiction novel. Can you suggest a prompt? Thank you.\\n\\nRaw transcription: I wonder if that you give birth to a whole new at whole new realm of fake are instead of mimicking a famous famous artist people cell AI generated art that present is if it was human made\\nPunctuated transcription:\", 'meta': {'backend_name': 'openai', 'query_func': 'query_gpt3', 'datetime': 'Tue Jun  7 19:27:33 2022', 'version': 0}}\n",
      "[TIMER]: Block executed in 0.610 seconds.\n",
      "[\"I wonder if that you give birth to a whole new realm of fake art instead of mimicking a famous famous artist? People's cells generate art that presents itself as if it was human-made.\"]\n",
      "{'engine': 1, 'temperature': 0.2, 'stop': ['Raw transcription:', 'Punctuated transcription:', 'Add any missing punctuation and fix any small'], 'max_tokens': 76, 'prompt': \"Add any missing punctuation and fix any small grammatical errors in these raw transcriptions.\\n\\nRaw transcription: what are your plans for this afternoon\\nPunctuated transcription: What are your plans for this afternoon?\\n\\nRaw transcription: hi john how are you its been a long time since we talked\\nPunctuated transcription: Hi John! How are you? It's been a long time since we talked.\\n\\nRaw transcription: can you elaborate I'm not sure I understand\\nPunctuated transcription: Can you elaborate? I'm not sure I understand.\\n\\nRaw transcription: i want to write a short science fiction novel can you suggest a prompts thank you\\nPunctuated transcription: I want to write a short science fiction novel. Can you suggest a prompt? Thank you.\\n\\nRaw transcription: I wonder if that you give birth to a whole new at whole new realm of fake are instead of mimicking a famous famous artist people cell AI generated art that present is if it was human made\\nPunctuated transcription:\", 'meta': {'backend_name': 'openai', 'query_func': 'query_gpt3', 'datetime': 'Tue Jun  7 19:27:34 2022', 'version': 0}}\n",
      "[TIMER]: Block executed in 1.224 seconds.\n",
      "[\"I wonder if that you give birth to a whole new realm of fake art instead of mimicking a famous famous artist? People's cells generate art that presents itself as if it was human-made.\"]\n",
      "{'engine': 1, 'temperature': 0.2, 'stop': ['Raw transcription:', 'Punctuated transcription:', 'Add any missing punctuation and fix any small'], 'max_tokens': 76, 'prompt': \"Add any missing punctuation and fix any small grammatical errors in these raw transcriptions.\\n\\nRaw transcription: what are your plans for this afternoon\\nPunctuated transcription: What are your plans for this afternoon?\\n\\nRaw transcription: hi john how are you its been a long time since we talked\\nPunctuated transcription: Hi John! How are you? It's been a long time since we talked.\\n\\nRaw transcription: can you elaborate I'm not sure I understand\\nPunctuated transcription: Can you elaborate? I'm not sure I understand.\\n\\nRaw transcription: i want to write a short science fiction novel can you suggest a prompts thank you\\nPunctuated transcription: I want to write a short science fiction novel. Can you suggest a prompt? Thank you.\\n\\nRaw transcription: I wonder if that you give birth to a whole new at whole new realm of fake are instead of mimicking a famous famous artist people cell AI generated art that present is if it was human made\\nPunctuated transcription:\", 'meta': {'backend_name': 'openai', 'query_func': 'query_gpt3', 'datetime': 'Tue Jun  7 19:27:35 2022', 'version': 0}}\n",
      "[TIMER]: Block executed in 0.609 seconds.\n",
      "[\"I wonder if that you give birth to a whole new realm of fake art instead of mimicking a famous famous artist? People's cells generate art that present is if it was human made.\"]\n",
      "{'engine': 1, 'temperature': 0.2, 'stop': ['Raw transcription:', 'Punctuated transcription:', 'Add any missing punctuation and fix any small'], 'max_tokens': 76, 'prompt': \"Add any missing punctuation and fix any small grammatical errors in these raw transcriptions.\\n\\nRaw transcription: what are your plans for this afternoon\\nPunctuated transcription: What are your plans for this afternoon?\\n\\nRaw transcription: hi john how are you its been a long time since we talked\\nPunctuated transcription: Hi John! How are you? It's been a long time since we talked.\\n\\nRaw transcription: can you elaborate I'm not sure I understand\\nPunctuated transcription: Can you elaborate? I'm not sure I understand.\\n\\nRaw transcription: i want to write a short science fiction novel can you suggest a prompts thank you\\nPunctuated transcription: I want to write a short science fiction novel. Can you suggest a prompt? Thank you.\\n\\nRaw transcription: I wonder if that you give birth to a whole new at whole new realm of fake are instead of mimicking a famous famous artist people cell AI generated art that present is if it was human made\\nPunctuated transcription:\", 'meta': {'backend_name': 'openai', 'query_func': 'query_gpt3', 'datetime': 'Tue Jun  7 19:27:36 2022', 'version': 0}}\n"
     ]
    },
    {
     "name": "stdout",
     "output_type": "stream",
     "text": [
      "[TIMER]: Block executed in 0.614 seconds.\n",
      "[\"I wonder if that you give birth to a whole new realm of fake art instead of mimicking a famous famous artist? People's cells generate art that present is if it was human made.\"]\n",
      "{'engine': 1, 'temperature': 0.2, 'stop': ['Raw transcription:', 'Punctuated transcription:', 'Add any missing punctuation and fix any small'], 'max_tokens': 76, 'prompt': \"Add any missing punctuation and fix any small grammatical errors in these raw transcriptions.\\n\\nRaw transcription: what are your plans for this afternoon\\nPunctuated transcription: What are your plans for this afternoon?\\n\\nRaw transcription: hi john how are you its been a long time since we talked\\nPunctuated transcription: Hi John! How are you? It's been a long time since we talked.\\n\\nRaw transcription: can you elaborate I'm not sure I understand\\nPunctuated transcription: Can you elaborate? I'm not sure I understand.\\n\\nRaw transcription: i want to write a short science fiction novel can you suggest a prompts thank you\\nPunctuated transcription: I want to write a short science fiction novel. Can you suggest a prompt? Thank you.\\n\\nRaw transcription: I wonder if that you give birth to a whole new at whole new realm of fake are instead of mimicking a famous famous artist people cell AI generated art that present is if it was human made\\nPunctuated transcription:\", 'meta': {'backend_name': 'openai', 'query_func': 'query_gpt3', 'datetime': 'Tue Jun  7 19:27:37 2022', 'version': 0}}\n",
      "[TIMER]: Block executed in 0.610 seconds.\n",
      "[\"I wonder if that you give birth to a whole new realm of fake art instead of mimicking a famous famous artist? People's cells generate art that presents itself as if it was human-made.\"]\n",
      "{'engine': 1, 'temperature': 0.2, 'stop': ['Raw transcription:', 'Punctuated transcription:', 'Add any missing punctuation and fix any small'], 'max_tokens': 76, 'prompt': \"Add any missing punctuation and fix any small grammatical errors in these raw transcriptions.\\n\\nRaw transcription: what are your plans for this afternoon\\nPunctuated transcription: What are your plans for this afternoon?\\n\\nRaw transcription: hi john how are you its been a long time since we talked\\nPunctuated transcription: Hi John! How are you? It's been a long time since we talked.\\n\\nRaw transcription: can you elaborate I'm not sure I understand\\nPunctuated transcription: Can you elaborate? I'm not sure I understand.\\n\\nRaw transcription: i want to write a short science fiction novel can you suggest a prompts thank you\\nPunctuated transcription: I want to write a short science fiction novel. Can you suggest a prompt? Thank you.\\n\\nRaw transcription: I wonder if that you give birth to a whole new at whole new realm of fake are instead of mimicking a famous famous artist people cell AI generated art that present is if it was human made\\nPunctuated transcription:\", 'meta': {'backend_name': 'openai', 'query_func': 'query_gpt3', 'datetime': 'Tue Jun  7 19:27:37 2022', 'version': 0}}\n",
      "[TIMER]: Block executed in 0.610 seconds.\n",
      "[\"I wonder if that you give birth to a whole new realm of fake art instead of mimicking a famous famous artist? People's cells generate art that presents itself as if it was human-made.\"]\n",
      "{'engine': 1, 'temperature': 0.2, 'stop': ['Raw transcription:', 'Punctuated transcription:', 'Add any missing punctuation and fix any small'], 'max_tokens': 76, 'prompt': \"Add any missing punctuation and fix any small grammatical errors in these raw transcriptions.\\n\\nRaw transcription: what are your plans for this afternoon\\nPunctuated transcription: What are your plans for this afternoon?\\n\\nRaw transcription: hi john how are you its been a long time since we talked\\nPunctuated transcription: Hi John! How are you? It's been a long time since we talked.\\n\\nRaw transcription: can you elaborate I'm not sure I understand\\nPunctuated transcription: Can you elaborate? I'm not sure I understand.\\n\\nRaw transcription: i want to write a short science fiction novel can you suggest a prompts thank you\\nPunctuated transcription: I want to write a short science fiction novel. Can you suggest a prompt? Thank you.\\n\\nRaw transcription: I wonder if that you give birth to a whole new at whole new realm of fake are instead of mimicking a famous famous artist people cell AI generated art that present is if it was human made\\nPunctuated transcription:\", 'meta': {'backend_name': 'openai', 'query_func': 'query_gpt3', 'datetime': 'Tue Jun  7 19:27:38 2022', 'version': 0}}\n",
      "[TIMER]: Block executed in 0.609 seconds.\n",
      "[\"I wonder if that you give birth to a whole new realm of fake art instead of mimicking a famous famous artist? People's cell AI-generated art presents itself as if it was human-made.\"]\n",
      "{'engine': 1, 'temperature': 0.2, 'stop': ['Raw transcription:', 'Punctuated transcription:', 'Add any missing punctuation and fix any small'], 'max_tokens': 76, 'prompt': \"Add any missing punctuation and fix any small grammatical errors in these raw transcriptions.\\n\\nRaw transcription: what are your plans for this afternoon\\nPunctuated transcription: What are your plans for this afternoon?\\n\\nRaw transcription: hi john how are you its been a long time since we talked\\nPunctuated transcription: Hi John! How are you? It's been a long time since we talked.\\n\\nRaw transcription: can you elaborate I'm not sure I understand\\nPunctuated transcription: Can you elaborate? I'm not sure I understand.\\n\\nRaw transcription: i want to write a short science fiction novel can you suggest a prompts thank you\\nPunctuated transcription: I want to write a short science fiction novel. Can you suggest a prompt? Thank you.\\n\\nRaw transcription: I wonder if that you give birth to a whole new at whole new realm of fake are instead of mimicking a famous famous artist people cell AI generated art that present is if it was human made\\nPunctuated transcription:\", 'meta': {'backend_name': 'openai', 'query_func': 'query_gpt3', 'datetime': 'Tue Jun  7 19:27:38 2022', 'version': 0}}\n",
      "[TIMER]: Block executed in 0.404 seconds.\n",
      "[\"I wonder if that you give birth to a whole new realm of fake art instead of mimicking a famous famous artist? People's cells generate art that present is if it was human made.\"]\n"
     ]
    }
   ],
   "source": [
    "GPT.switch('openai')\n",
    "times2 = []\n",
    "results2 = []\n",
    "for _ in tqdm(range(10)):\n",
    "    with block_timer() as bt:\n",
    "        res = pm.query(task='punctuate_alexa', text=text, \n",
    "                       max_tokens=2*len(text.split()))\n",
    "    print(res[0])\n",
    "    results2.append(res)\n",
    "    times2.append(bt)"
   ]
  },
  {
   "cell_type": "code",
   "execution_count": 31,
   "metadata": {
    "ExecuteTime": {
     "end_time": "2022-06-08T02:27:52.638918Z",
     "start_time": "2022-06-08T02:27:52.574533Z"
    }
   },
   "outputs": [
    {
     "data": {
      "text/html": [
       "<div>\n",
       "<style scoped>\n",
       "    .dataframe tbody tr th:only-of-type {\n",
       "        vertical-align: middle;\n",
       "    }\n",
       "\n",
       "    .dataframe tbody tr th {\n",
       "        vertical-align: top;\n",
       "    }\n",
       "\n",
       "    .dataframe thead th {\n",
       "        text-align: right;\n",
       "    }\n",
       "</style>\n",
       "<table border=\"1\" class=\"dataframe\">\n",
       "  <thead>\n",
       "    <tr style=\"text-align: right;\">\n",
       "      <th></th>\n",
       "      <th>duration</th>\n",
       "    </tr>\n",
       "  </thead>\n",
       "  <tbody>\n",
       "    <tr>\n",
       "      <th>count</th>\n",
       "      <td>10.000000</td>\n",
       "    </tr>\n",
       "    <tr>\n",
       "      <th>mean</th>\n",
       "      <td>0.669434</td>\n",
       "    </tr>\n",
       "    <tr>\n",
       "      <th>std</th>\n",
       "      <td>0.215863</td>\n",
       "    </tr>\n",
       "    <tr>\n",
       "      <th>min</th>\n",
       "      <td>0.403813</td>\n",
       "    </tr>\n",
       "    <tr>\n",
       "      <th>25%</th>\n",
       "      <td>0.608974</td>\n",
       "    </tr>\n",
       "    <tr>\n",
       "      <th>50%</th>\n",
       "      <td>0.609961</td>\n",
       "    </tr>\n",
       "    <tr>\n",
       "      <th>75%</th>\n",
       "      <td>0.613053</td>\n",
       "    </tr>\n",
       "    <tr>\n",
       "      <th>max</th>\n",
       "      <td>1.224218</td>\n",
       "    </tr>\n",
       "  </tbody>\n",
       "</table>\n",
       "</div>"
      ],
      "text/plain": [
       "        duration\n",
       "count  10.000000\n",
       "mean    0.669434\n",
       "std     0.215863\n",
       "min     0.403813\n",
       "25%     0.608974\n",
       "50%     0.609961\n",
       "75%     0.613053\n",
       "max     1.224218"
      ]
     },
     "execution_count": 31,
     "metadata": {},
     "output_type": "execute_result"
    }
   ],
   "source": [
    "times2 = pd.DataFrame(times2)\n",
    "times2.describe()"
   ]
  },
  {
   "cell_type": "markdown",
   "metadata": {},
   "source": [
    "**Takeaways**\n",
    "\n",
    "At least in this tiny benchmark, openai's model 1 is ~10x faster than banana's model. Both of these are ~6B params."
   ]
  },
  {
   "cell_type": "code",
   "execution_count": null,
   "metadata": {},
   "outputs": [],
   "source": []
  }
 ],
 "metadata": {
  "kernelspec": {
   "display_name": "Python 3",
   "language": "python",
   "name": "python3"
  },
  "language_info": {
   "codemirror_mode": {
    "name": "ipython",
    "version": 3
   },
   "file_extension": ".py",
   "mimetype": "text/x-python",
   "name": "python",
   "nbconvert_exporter": "python",
   "pygments_lexer": "ipython3",
   "version": "3.7.3"
  }
 },
 "nbformat": 4,
 "nbformat_minor": 2
}
