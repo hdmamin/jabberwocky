{
 "cells": [
  {
   "cell_type": "markdown",
   "metadata": {},
   "source": [
    "# Summary\n",
    "\n",
    "Recently (possibly since upgrading to openai 0.18.1?), querying openai causes invalid URL errors. Here are some notes from yesterday's troubleshooting session.\n",
    "\n",
    "- curl works, python doesn't.\n",
    "- Not just codex, now nox openai engines work w/ python. Maybe due to updating pip package? Temporarily upped billing limit to try other models.\n",
    "- Restarted kernel and gpt query works again w/ ada. BUT after I import openai explicitly, that fails too. That must be a clue.\n",
    "- Tried uninstalling, reinstalling, opened new tmux pane. Still same error.\n",
    "- Tried deleting 'openai' object and then importing jabberwocky. This does work!?\n",
    "- If I re-import openai after that, gpt.query still works. But openai.completion while codex does not.\n",
    "- If I import openai FROM jabberwocky openai_utils, codex query still fails. But gpt.query works. And openai.Completion works w/ engine ada!\n",
    "- Conclusion: maybe it is codex-specific then?"
   ]
  },
  {
   "cell_type": "code",
   "execution_count": 1,
   "metadata": {
    "ExecuteTime": {
     "end_time": "2022-04-24T22:41:36.753776Z",
     "start_time": "2022-04-24T22:41:36.721014Z"
    }
   },
   "outputs": [
    {
     "name": "stdout",
     "output_type": "stream",
     "text": [
      "The autoreload extension is already loaded. To reload it, use:\n",
      "  %reload_ext autoreload\n"
     ]
    }
   ],
   "source": [
    "%load_ext autoreload\n",
    "%autoreload 2"
   ]
  },
  {
   "cell_type": "code",
   "execution_count": 2,
   "metadata": {
    "ExecuteTime": {
     "end_time": "2022-04-24T22:41:39.098058Z",
     "start_time": "2022-04-24T22:41:37.005429Z"
    }
   },
   "outputs": [],
   "source": [
    "import matplotlib.pyplot as plt\n",
    "import numpy as np\n",
    "import os\n",
    "import pandas as pd\n",
    "from pathlib import Path\n",
    "\n",
    "from jabberwocky.config import C\n",
    "from htools import *"
   ]
  },
  {
   "cell_type": "code",
   "execution_count": 3,
   "metadata": {
    "ExecuteTime": {
     "end_time": "2022-04-24T22:41:39.220120Z",
     "start_time": "2022-04-24T22:41:39.100346Z"
    }
   },
   "outputs": [
    {
     "name": "stdout",
     "output_type": "stream",
     "text": [
      "Current directory: /Users/hmamin/jabberwocky\n"
     ]
    }
   ],
   "source": [
    "cd_root()"
   ]
  },
  {
   "cell_type": "code",
   "execution_count": 4,
   "metadata": {
    "ExecuteTime": {
     "end_time": "2022-04-24T22:41:39.287859Z",
     "start_time": "2022-04-24T22:41:39.235934Z"
    }
   },
   "outputs": [],
   "source": [
    "j_kwargs = {'prompt': 'a', 'max_tokens': 1, 'engine_i': 0}\n",
    "ada_kwargs = {'prompt': 'a', 'max_tokens': 1, 'engine': 'text-ada-001'}\n",
    "code_kwargs = {'prompt': 'a', 'max_tokens': 1, 'engine': 'code-davinci-001'}"
   ]
  },
  {
   "cell_type": "markdown",
   "metadata": {},
   "source": [
    "## Jabberwocky"
   ]
  },
  {
   "cell_type": "code",
   "execution_count": 11,
   "metadata": {
    "ExecuteTime": {
     "end_time": "2022-04-24T22:38:08.272562Z",
     "start_time": "2022-04-24T22:38:08.234557Z"
    }
   },
   "outputs": [],
   "source": [
    "from jabberwocky.openai_utils import load_prompt, load_openai_api_key, \\\n",
    "    GPTBackend\n",
    "import jabberwocky.openai_utils as oautils"
   ]
  },
  {
   "cell_type": "code",
   "execution_count": 6,
   "metadata": {
    "ExecuteTime": {
     "end_time": "2022-04-24T22:31:37.795797Z",
     "start_time": "2022-04-24T22:31:37.751063Z"
    }
   },
   "outputs": [
    {
     "data": {
      "text/plain": [
       "GPTBackend <current_name: openai>"
      ]
     },
     "execution_count": 6,
     "metadata": {},
     "output_type": "execute_result"
    }
   ],
   "source": [
    "gpt = GPTBackend()\n",
    "gpt"
   ]
  },
  {
   "cell_type": "code",
   "execution_count": 8,
   "metadata": {
    "ExecuteTime": {
     "end_time": "2022-04-24T22:33:08.065132Z",
     "start_time": "2022-04-24T22:33:06.699319Z"
    }
   },
   "outputs": [
    {
     "name": "stdout",
     "output_type": "stream",
     "text": [
      "{'max_tokens': 1, 'engine_i': 0, 'prompt': 'a', 'meta': {'backend_name': 'openai', 'query_func': 'query_gpt3', 'datetime': 'Sun Apr 24 15:33:06 2022'}}\n"
     ]
    }
   ],
   "source": [
    "res = gpt.query(**j_kwargs)"
   ]
  },
  {
   "cell_type": "code",
   "execution_count": 9,
   "metadata": {
    "ExecuteTime": {
     "end_time": "2022-04-24T22:33:10.654046Z",
     "start_time": "2022-04-24T22:33:10.592414Z"
    }
   },
   "outputs": [
    {
     "data": {
      "text/plain": [
       "(['.'],\n",
       " [{'text': '.',\n",
       "   'index': 0,\n",
       "   'logprobs': None,\n",
       "   'finish_reason': 'length',\n",
       "   'prompt_index': 0}])"
      ]
     },
     "execution_count": 9,
     "metadata": {},
     "output_type": "execute_result"
    }
   ],
   "source": [
    "res"
   ]
  },
  {
   "cell_type": "markdown",
   "metadata": {},
   "source": [
    "## openai 0.6.2"
   ]
  },
  {
   "cell_type": "code",
   "execution_count": 4,
   "metadata": {
    "ExecuteTime": {
     "end_time": "2022-04-24T22:39:24.083872Z",
     "start_time": "2022-04-24T22:39:23.892512Z"
    }
   },
   "outputs": [],
   "source": [
    "import openai"
   ]
  },
  {
   "cell_type": "code",
   "execution_count": 13,
   "metadata": {
    "ExecuteTime": {
     "end_time": "2022-04-24T22:42:26.203663Z",
     "start_time": "2022-04-24T22:42:26.166902Z"
    }
   },
   "outputs": [],
   "source": [
    "openai.version.VERSION"
   ]
  },
  {
   "cell_type": "code",
   "execution_count": 13,
   "metadata": {
    "ExecuteTime": {
     "end_time": "2022-04-24T22:40:34.351615Z",
     "start_time": "2022-04-24T22:40:34.314145Z"
    }
   },
   "outputs": [],
   "source": [
    "with open('/Users/hmamin/.openai', 'r') as f:\n",
    "    openai.api_key = f.read().strip()"
   ]
  },
  {
   "cell_type": "code",
   "execution_count": 14,
   "metadata": {
    "ExecuteTime": {
     "end_time": "2022-04-24T22:40:36.196972Z",
     "start_time": "2022-04-24T22:40:36.166163Z"
    }
   },
   "outputs": [],
   "source": [
    "# oautils.openai == openai"
   ]
  },
  {
   "cell_type": "code",
   "execution_count": 15,
   "metadata": {
    "ExecuteTime": {
     "end_time": "2022-04-24T22:40:37.709445Z",
     "start_time": "2022-04-24T22:40:36.814530Z"
    }
   },
   "outputs": [],
   "source": [
    "res = openai.Completion.create(**code_kwargs)"
   ]
  },
  {
   "cell_type": "code",
   "execution_count": 16,
   "metadata": {
    "ExecuteTime": {
     "end_time": "2022-04-24T22:40:39.633787Z",
     "start_time": "2022-04-24T22:40:39.581236Z"
    }
   },
   "outputs": [
    {
     "data": {
      "text/plain": [
       "<OpenAIObject text_completion id=cmpl-50fC98UoO0PUPIuYHcSJVxsANj2ej at 0x11d047b48> JSON: {\n",
       "  \"choices\": [\n",
       "    {\n",
       "      \"finish_reason\": \"length\",\n",
       "      \"index\": 0,\n",
       "      \"logprobs\": null,\n",
       "      \"text\": \"\"\n",
       "    }\n",
       "  ],\n",
       "  \"created\": 1650840037,\n",
       "  \"id\": \"cmpl-50fC98UoO0PUPIuYHcSJVxsANj2ej\",\n",
       "  \"model\": \"code-davinci:001\",\n",
       "  \"object\": \"text_completion\"\n",
       "}"
      ]
     },
     "execution_count": 16,
     "metadata": {},
     "output_type": "execute_result"
    }
   ],
   "source": [
    "res"
   ]
  },
  {
   "cell_type": "markdown",
   "metadata": {},
   "source": [
    "## openai 0.18.1"
   ]
  },
  {
   "cell_type": "code",
   "execution_count": 5,
   "metadata": {
    "ExecuteTime": {
     "end_time": "2022-04-24T22:41:48.367349Z",
     "start_time": "2022-04-24T22:41:48.204192Z"
    }
   },
   "outputs": [],
   "source": [
    "import openai"
   ]
  },
  {
   "cell_type": "code",
   "execution_count": 12,
   "metadata": {
    "ExecuteTime": {
     "end_time": "2022-04-24T22:42:16.413813Z",
     "start_time": "2022-04-24T22:42:16.361289Z"
    }
   },
   "outputs": [
    {
     "data": {
      "text/plain": [
       "'0.18.1'"
      ]
     },
     "execution_count": 12,
     "metadata": {},
     "output_type": "execute_result"
    }
   ],
   "source": [
    "openai.version.VERSION"
   ]
  },
  {
   "cell_type": "code",
   "execution_count": 6,
   "metadata": {
    "ExecuteTime": {
     "end_time": "2022-04-24T22:41:48.759057Z",
     "start_time": "2022-04-24T22:41:48.722448Z"
    }
   },
   "outputs": [],
   "source": [
    "with open('/Users/hmamin/.openai', 'r') as f:\n",
    "    openai.api_key = f.read().strip()"
   ]
  },
  {
   "cell_type": "code",
   "execution_count": 7,
   "metadata": {
    "ExecuteTime": {
     "end_time": "2022-04-24T22:41:50.065687Z",
     "start_time": "2022-04-24T22:41:50.031850Z"
    }
   },
   "outputs": [],
   "source": [
    "# oautils.openai == openai"
   ]
  },
  {
   "cell_type": "code",
   "execution_count": 8,
   "metadata": {
    "ExecuteTime": {
     "end_time": "2022-04-24T22:41:52.107655Z",
     "start_time": "2022-04-24T22:41:50.884140Z"
    }
   },
   "outputs": [],
   "source": [
    "res = openai.Completion.create(**code_kwargs)"
   ]
  },
  {
   "cell_type": "code",
   "execution_count": 9,
   "metadata": {
    "ExecuteTime": {
     "end_time": "2022-04-24T22:41:52.978404Z",
     "start_time": "2022-04-24T22:41:52.931848Z"
    }
   },
   "outputs": [
    {
     "data": {
      "text/plain": [
       "<OpenAIObject text_completion id=cmpl-50fDMA9lymu1lk7W4Cyo6GRwZ9QSW at 0x12106caf0> JSON: {\n",
       "  \"choices\": [\n",
       "    {\n",
       "      \"finish_reason\": \"length\",\n",
       "      \"index\": 0,\n",
       "      \"logprobs\": null,\n",
       "      \"text\": \"ns\"\n",
       "    }\n",
       "  ],\n",
       "  \"created\": 1650840112,\n",
       "  \"id\": \"cmpl-50fDMA9lymu1lk7W4Cyo6GRwZ9QSW\",\n",
       "  \"model\": \"code-davinci:001\",\n",
       "  \"object\": \"text_completion\"\n",
       "}"
      ]
     },
     "execution_count": 9,
     "metadata": {},
     "output_type": "execute_result"
    }
   ],
   "source": [
    "res"
   ]
  },
  {
   "cell_type": "code",
   "execution_count": 14,
   "metadata": {
    "ExecuteTime": {
     "end_time": "2022-04-24T22:42:54.236780Z",
     "start_time": "2022-04-24T22:42:53.572476Z"
    }
   },
   "outputs": [
    {
     "name": "stdout",
     "output_type": "stream",
     "text": [
      "Object loaded from /Users/hmamin/jabberwocky/data/misc/sample_response.pkl.\n",
      "Object loaded from /Users/hmamin/jabberwocky/data/misc/sample_stream_response.pkl.\n",
      "Object loaded from /Users/hmamin/jabberwocky/data/misc/gooseai_sample_responses.pkl.\n"
     ]
    }
   ],
   "source": [
    "from jabberwocky.openai_utils import load_prompt, load_openai_api_key, \\\n",
    "    GPTBackend\n",
    "import jabberwocky.openai_utils as oautils"
   ]
  },
  {
   "cell_type": "code",
   "execution_count": 15,
   "metadata": {
    "ExecuteTime": {
     "end_time": "2022-04-24T22:42:55.862716Z",
     "start_time": "2022-04-24T22:42:55.822807Z"
    }
   },
   "outputs": [
    {
     "data": {
      "text/plain": [
       "GPTBackend <current_name: openai>"
      ]
     },
     "execution_count": 15,
     "metadata": {},
     "output_type": "execute_result"
    }
   ],
   "source": [
    "gpt = GPTBackend()\n",
    "gpt"
   ]
  },
  {
   "cell_type": "code",
   "execution_count": 16,
   "metadata": {
    "ExecuteTime": {
     "end_time": "2022-04-24T22:42:59.158100Z",
     "start_time": "2022-04-24T22:42:58.972217Z"
    }
   },
   "outputs": [
    {
     "name": "stdout",
     "output_type": "stream",
     "text": [
      "{'max_tokens': 1, 'engine_i': 0, 'prompt': 'a', 'meta': {'backend_name': 'openai', 'query_func': 'query_gpt3', 'datetime': 'Sun Apr 24 15:42:59 2022'}}\n"
     ]
    }
   ],
   "source": [
    "res = gpt.query(**j_kwargs)"
   ]
  },
  {
   "cell_type": "code",
   "execution_count": 17,
   "metadata": {
    "ExecuteTime": {
     "end_time": "2022-04-24T22:43:01.154887Z",
     "start_time": "2022-04-24T22:43:01.105334Z"
    }
   },
   "outputs": [
    {
     "data": {
      "text/plain": [
       "([''],\n",
       " [{'text': '\\n',\n",
       "   'index': 0,\n",
       "   'logprobs': None,\n",
       "   'finish_reason': 'length',\n",
       "   'prompt_index': 0}])"
      ]
     },
     "execution_count": 17,
     "metadata": {},
     "output_type": "execute_result"
    }
   ],
   "source": [
    "res"
   ]
  },
  {
   "cell_type": "markdown",
   "metadata": {},
   "source": [
    "## Takeaways\n",
    "\n",
    "Could not reproduce error with either old or new version of openai package. Maybe ipython handles things differently from jupyter?\n",
    "\n",
    "Update: could not reproduce in ipython either. No new openai version has been released in the last few days so it's not like they fixed something. Maybe it was an autoreload thing?"
   ]
  }
 ],
 "metadata": {
  "kernelspec": {
   "display_name": "Python 3",
   "language": "python",
   "name": "python3"
  },
  "language_info": {
   "codemirror_mode": {
    "name": "ipython",
    "version": 3
   },
   "file_extension": ".py",
   "mimetype": "text/x-python",
   "name": "python",
   "nbconvert_exporter": "python",
   "pygments_lexer": "ipython3",
   "version": "3.7.3"
  }
 },
 "nbformat": 4,
 "nbformat_minor": 2
}
