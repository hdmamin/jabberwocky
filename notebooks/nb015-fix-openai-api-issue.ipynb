{
 "cells": [
  {
   "cell_type": "markdown",
   "metadata": {},
   "source": [
    "# Summary\n",
    "\n",
    "Recently (possibly since upgrading to openai 0.18.1?), querying openai causes invalid URL errors. Here are some notes from yesterday's troubleshooting session.\n",
    "\n",
    "- curl works, python doesn't.\n",
    "- Not just codex, now nox openai engines work w/ python. Maybe due to updating pip package? Temporarily upped billing limit to try other models.\n",
    "- Restarted kernel and gpt query works again w/ ada. BUT after I import openai explicitly, that fails too. That must be a clue.\n",
    "- Tried uninstalling, reinstalling, opened new tmux pane. Still same error.\n",
    "- Tried deleting 'openai' object and then importing jabberwocky. This does work!?\n",
    "- If I re-import openai after that, gpt.query still works. But openai.completion while codex does not.\n",
    "- If I import openai FROM jabberwocky openai_utils, codex query still fails. But gpt.query works. And openai.Completion works w/ engine ada!\n",
    "- Conclusion: maybe it is codex-specific then?"
   ]
  },
  {
   "cell_type": "code",
   "execution_count": 1,
   "metadata": {
    "ExecuteTime": {
     "end_time": "2022-04-26T02:42:25.833217Z",
     "start_time": "2022-04-26T02:42:25.797726Z"
    }
   },
   "outputs": [
    {
     "name": "stdout",
     "output_type": "stream",
     "text": [
      "The autoreload extension is already loaded. To reload it, use:\n",
      "  %reload_ext autoreload\n"
     ]
    }
   ],
   "source": [
    "%load_ext autoreload\n",
    "%autoreload 2"
   ]
  },
  {
   "cell_type": "code",
   "execution_count": 494,
   "metadata": {
    "ExecuteTime": {
     "end_time": "2022-04-30T03:37:14.169715Z",
     "start_time": "2022-04-30T03:37:13.836549Z"
    }
   },
   "outputs": [
    {
     "name": "stderr",
     "output_type": "stream",
     "text": [
      "/Users/hmamin/anaconda3/lib/python3.7/site-packages/statsmodels/tools/_testing.py:19: FutureWarning: pandas.util.testing is deprecated. Use the functions in the public API at pandas.testing instead.\n",
      "  import pandas.util.testing as tm\n"
     ]
    }
   ],
   "source": [
    "import matplotlib.pyplot as plt\n",
    "import numpy as np\n",
    "import os\n",
    "import pandas as pd\n",
    "from pathlib import Path\n",
    "import seaborn as sns\n",
    "\n",
    "from jabberwocky.config import C\n",
    "from htools import *"
   ]
  },
  {
   "cell_type": "code",
   "execution_count": 3,
   "metadata": {
    "ExecuteTime": {
     "end_time": "2022-04-26T02:42:28.367973Z",
     "start_time": "2022-04-26T02:42:28.333268Z"
    }
   },
   "outputs": [
    {
     "name": "stdout",
     "output_type": "stream",
     "text": [
      "Current directory: /Users/hmamin/jabberwocky\n"
     ]
    }
   ],
   "source": [
    "cd_root()"
   ]
  },
  {
   "cell_type": "code",
   "execution_count": 4,
   "metadata": {
    "ExecuteTime": {
     "end_time": "2022-04-26T02:42:28.417512Z",
     "start_time": "2022-04-26T02:42:28.374347Z"
    }
   },
   "outputs": [],
   "source": [
    "j_kwargs = {'prompt': 'a', 'max_tokens': 1, 'engine_i': 0}\n",
    "ada_kwargs = {'prompt': 'a', 'max_tokens': 1, 'engine': 'text-ada-001'}\n",
    "code_kwargs = {'prompt': 'a', 'max_tokens': 1, 'engine': 'code-davinci-001'}"
   ]
  },
  {
   "cell_type": "markdown",
   "metadata": {},
   "source": [
    "## Jabberwocky"
   ]
  },
  {
   "cell_type": "code",
   "execution_count": 5,
   "metadata": {
    "ExecuteTime": {
     "end_time": "2022-04-26T02:42:29.898711Z",
     "start_time": "2022-04-26T02:42:29.089044Z"
    }
   },
   "outputs": [
    {
     "name": "stdout",
     "output_type": "stream",
     "text": [
      "Object loaded from /Users/hmamin/jabberwocky/data/misc/sample_response.pkl.\n",
      "Object loaded from /Users/hmamin/jabberwocky/data/misc/sample_stream_response.pkl.\n",
      "Object loaded from /Users/hmamin/jabberwocky/data/misc/gooseai_sample_responses.pkl.\n"
     ]
    }
   ],
   "source": [
    "from jabberwocky.openai_utils import load_prompt, load_openai_api_key, \\\n",
    "    GPTBackend\n",
    "import jabberwocky.openai_utils as oautils"
   ]
  },
  {
   "cell_type": "code",
   "execution_count": 6,
   "metadata": {
    "ExecuteTime": {
     "end_time": "2022-04-26T02:42:34.484408Z",
     "start_time": "2022-04-26T02:42:34.440337Z"
    }
   },
   "outputs": [
    {
     "data": {
      "text/plain": [
       "GPTBackend <current_name: openai>"
      ]
     },
     "execution_count": 6,
     "metadata": {},
     "output_type": "execute_result"
    }
   ],
   "source": [
    "gpt = GPTBackend()\n",
    "gpt"
   ]
  },
  {
   "cell_type": "code",
   "execution_count": 7,
   "metadata": {
    "ExecuteTime": {
     "end_time": "2022-04-26T02:42:35.320532Z",
     "start_time": "2022-04-26T02:42:34.868415Z"
    }
   },
   "outputs": [
    {
     "name": "stdout",
     "output_type": "stream",
     "text": [
      "{'max_tokens': 1, 'engine_i': 0, 'prompt': 'a', 'meta': {'backend_name': 'openai', 'query_func': 'query_gpt3', 'datetime': 'Mon Apr 25 19:42:34 2022'}}\n"
     ]
    }
   ],
   "source": [
    "res = gpt.query(**j_kwargs)"
   ]
  },
  {
   "cell_type": "code",
   "execution_count": 8,
   "metadata": {
    "ExecuteTime": {
     "end_time": "2022-04-26T02:42:35.981679Z",
     "start_time": "2022-04-26T02:42:35.923931Z"
    }
   },
   "outputs": [
    {
     "data": {
      "text/plain": [
       "([''],\n",
       " [{'text': '\\n',\n",
       "   'index': 0,\n",
       "   'logprobs': None,\n",
       "   'finish_reason': 'length',\n",
       "   'prompt_index': 0}])"
      ]
     },
     "execution_count": 8,
     "metadata": {},
     "output_type": "execute_result"
    }
   ],
   "source": [
    "res"
   ]
  },
  {
   "cell_type": "markdown",
   "metadata": {},
   "source": [
    "## openai 0.6.2"
   ]
  },
  {
   "cell_type": "code",
   "execution_count": 9,
   "metadata": {
    "ExecuteTime": {
     "end_time": "2022-04-26T02:42:37.398887Z",
     "start_time": "2022-04-26T02:42:37.362213Z"
    }
   },
   "outputs": [],
   "source": [
    "import openai"
   ]
  },
  {
   "cell_type": "code",
   "execution_count": 10,
   "metadata": {
    "ExecuteTime": {
     "end_time": "2022-04-26T02:42:37.674368Z",
     "start_time": "2022-04-26T02:42:37.636416Z"
    }
   },
   "outputs": [
    {
     "data": {
      "text/plain": [
       "'0.18.1'"
      ]
     },
     "execution_count": 10,
     "metadata": {},
     "output_type": "execute_result"
    }
   ],
   "source": [
    "openai.version.VERSION"
   ]
  },
  {
   "cell_type": "code",
   "execution_count": 11,
   "metadata": {
    "ExecuteTime": {
     "end_time": "2022-04-26T02:42:38.646957Z",
     "start_time": "2022-04-26T02:42:38.600483Z"
    }
   },
   "outputs": [],
   "source": [
    "with open('/Users/hmamin/.openai', 'r') as f:\n",
    "    openai.api_key = f.read().strip()"
   ]
  },
  {
   "cell_type": "code",
   "execution_count": 12,
   "metadata": {
    "ExecuteTime": {
     "end_time": "2022-04-26T02:42:39.149616Z",
     "start_time": "2022-04-26T02:42:39.118576Z"
    }
   },
   "outputs": [],
   "source": [
    "# oautils.openai == openai"
   ]
  },
  {
   "cell_type": "code",
   "execution_count": 13,
   "metadata": {
    "ExecuteTime": {
     "end_time": "2022-04-26T02:42:42.511652Z",
     "start_time": "2022-04-26T02:42:41.097177Z"
    }
   },
   "outputs": [],
   "source": [
    "res = openai.Completion.create(**code_kwargs)"
   ]
  },
  {
   "cell_type": "code",
   "execution_count": 14,
   "metadata": {
    "ExecuteTime": {
     "end_time": "2022-04-26T02:42:43.073351Z",
     "start_time": "2022-04-26T02:42:43.036388Z"
    }
   },
   "outputs": [
    {
     "data": {
      "text/plain": [
       "<OpenAIObject text_completion id=cmpl-515RxlKh9094yUQFyFqI4pVMKtjrV at 0x11f6c0b48> JSON: {\n",
       "  \"choices\": [\n",
       "    {\n",
       "      \"finish_reason\": \"length\",\n",
       "      \"index\": 0,\n",
       "      \"logprobs\": null,\n",
       "      \"text\": \"nt\"\n",
       "    }\n",
       "  ],\n",
       "  \"created\": 1650940961,\n",
       "  \"id\": \"cmpl-515RxlKh9094yUQFyFqI4pVMKtjrV\",\n",
       "  \"model\": \"code-davinci:001\",\n",
       "  \"object\": \"text_completion\"\n",
       "}"
      ]
     },
     "execution_count": 14,
     "metadata": {},
     "output_type": "execute_result"
    }
   ],
   "source": [
    "res"
   ]
  },
  {
   "cell_type": "markdown",
   "metadata": {},
   "source": [
    "## openai 0.18.1"
   ]
  },
  {
   "cell_type": "code",
   "execution_count": 15,
   "metadata": {
    "ExecuteTime": {
     "end_time": "2022-04-26T02:42:50.585914Z",
     "start_time": "2022-04-26T02:42:50.547720Z"
    }
   },
   "outputs": [],
   "source": [
    "import openai"
   ]
  },
  {
   "cell_type": "code",
   "execution_count": 16,
   "metadata": {
    "ExecuteTime": {
     "end_time": "2022-04-26T02:42:50.747586Z",
     "start_time": "2022-04-26T02:42:50.707083Z"
    }
   },
   "outputs": [
    {
     "data": {
      "text/plain": [
       "'0.18.1'"
      ]
     },
     "execution_count": 16,
     "metadata": {},
     "output_type": "execute_result"
    }
   ],
   "source": [
    "openai.version.VERSION"
   ]
  },
  {
   "cell_type": "code",
   "execution_count": 11,
   "metadata": {
    "ExecuteTime": {
     "end_time": "2022-04-26T02:33:11.939142Z",
     "start_time": "2022-04-26T02:33:11.888709Z"
    }
   },
   "outputs": [],
   "source": [
    "with open('/Users/hmamin/.openai', 'r') as f:\n",
    "    openai.api_key = f.read().strip()"
   ]
  },
  {
   "cell_type": "code",
   "execution_count": 12,
   "metadata": {
    "ExecuteTime": {
     "end_time": "2022-04-26T02:33:16.525379Z",
     "start_time": "2022-04-26T02:33:16.482091Z"
    }
   },
   "outputs": [],
   "source": [
    "# oautils.openai == openai"
   ]
  },
  {
   "cell_type": "code",
   "execution_count": 13,
   "metadata": {
    "ExecuteTime": {
     "end_time": "2022-04-26T02:33:21.766693Z",
     "start_time": "2022-04-26T02:33:18.368577Z"
    }
   },
   "outputs": [],
   "source": [
    "res = openai.Completion.create(**code_kwargs)"
   ]
  },
  {
   "cell_type": "code",
   "execution_count": 14,
   "metadata": {
    "ExecuteTime": {
     "end_time": "2022-04-26T02:33:22.601648Z",
     "start_time": "2022-04-26T02:33:22.568651Z"
    }
   },
   "outputs": [
    {
     "data": {
      "text/plain": [
       "<OpenAIObject text_completion id=cmpl-515ItOmu7H4oHPA2yyDXpfHpteeby at 0x1245a1bf8> JSON: {\n",
       "  \"choices\": [\n",
       "    {\n",
       "      \"finish_reason\": \"length\",\n",
       "      \"index\": 0,\n",
       "      \"logprobs\": null,\n",
       "      \"text\": \"\"\n",
       "    }\n",
       "  ],\n",
       "  \"created\": 1650940399,\n",
       "  \"id\": \"cmpl-515ItOmu7H4oHPA2yyDXpfHpteeby\",\n",
       "  \"model\": \"code-davinci:001\",\n",
       "  \"object\": \"text_completion\"\n",
       "}"
      ]
     },
     "execution_count": 14,
     "metadata": {},
     "output_type": "execute_result"
    }
   ],
   "source": [
    "res"
   ]
  },
  {
   "cell_type": "code",
   "execution_count": 14,
   "metadata": {
    "ExecuteTime": {
     "end_time": "2022-04-24T22:42:54.236780Z",
     "start_time": "2022-04-24T22:42:53.572476Z"
    }
   },
   "outputs": [
    {
     "name": "stdout",
     "output_type": "stream",
     "text": [
      "Object loaded from /Users/hmamin/jabberwocky/data/misc/sample_response.pkl.\n",
      "Object loaded from /Users/hmamin/jabberwocky/data/misc/sample_stream_response.pkl.\n",
      "Object loaded from /Users/hmamin/jabberwocky/data/misc/gooseai_sample_responses.pkl.\n"
     ]
    }
   ],
   "source": [
    "from jabberwocky.openai_utils import load_prompt, load_openai_api_key, \\\n",
    "    GPTBackend\n",
    "import jabberwocky.openai_utils as oautils"
   ]
  },
  {
   "cell_type": "code",
   "execution_count": 15,
   "metadata": {
    "ExecuteTime": {
     "end_time": "2022-04-24T22:42:55.862716Z",
     "start_time": "2022-04-24T22:42:55.822807Z"
    }
   },
   "outputs": [
    {
     "data": {
      "text/plain": [
       "GPTBackend <current_name: openai>"
      ]
     },
     "execution_count": 15,
     "metadata": {},
     "output_type": "execute_result"
    }
   ],
   "source": [
    "gpt = GPTBackend()\n",
    "gpt"
   ]
  },
  {
   "cell_type": "code",
   "execution_count": 16,
   "metadata": {
    "ExecuteTime": {
     "end_time": "2022-04-24T22:42:59.158100Z",
     "start_time": "2022-04-24T22:42:58.972217Z"
    }
   },
   "outputs": [
    {
     "name": "stdout",
     "output_type": "stream",
     "text": [
      "{'max_tokens': 1, 'engine_i': 0, 'prompt': 'a', 'meta': {'backend_name': 'openai', 'query_func': 'query_gpt3', 'datetime': 'Sun Apr 24 15:42:59 2022'}}\n"
     ]
    }
   ],
   "source": [
    "res = gpt.query(**j_kwargs)"
   ]
  },
  {
   "cell_type": "code",
   "execution_count": 17,
   "metadata": {
    "ExecuteTime": {
     "end_time": "2022-04-24T22:43:01.154887Z",
     "start_time": "2022-04-24T22:43:01.105334Z"
    }
   },
   "outputs": [
    {
     "data": {
      "text/plain": [
       "([''],\n",
       " [{'text': '\\n',\n",
       "   'index': 0,\n",
       "   'logprobs': None,\n",
       "   'finish_reason': 'length',\n",
       "   'prompt_index': 0}])"
      ]
     },
     "execution_count": 17,
     "metadata": {},
     "output_type": "execute_result"
    }
   ],
   "source": [
    "res"
   ]
  },
  {
   "cell_type": "markdown",
   "metadata": {},
   "source": [
    "## Takeaways\n",
    "\n",
    "Could not reproduce error with either old or new version of openai package. Maybe ipython handles things differently from jupyter?\n",
    "\n",
    "Update: could not reproduce in ipython either. No new openai version has been released in the last few days so it's not like they fixed something. Maybe it was an autoreload thing?"
   ]
  },
  {
   "cell_type": "markdown",
   "metadata": {},
   "source": [
    "## Stop words in streaming mode"
   ]
  },
  {
   "cell_type": "code",
   "execution_count": 146,
   "metadata": {
    "ExecuteTime": {
     "end_time": "2022-04-26T03:46:26.605282Z",
     "start_time": "2022-04-26T03:46:26.528728Z"
    }
   },
   "outputs": [],
   "source": [
    "from collections import deque\n",
    "from transformers import GPT2Tokenizer"
   ]
  },
  {
   "cell_type": "code",
   "execution_count": 98,
   "metadata": {
    "ExecuteTime": {
     "end_time": "2022-04-26T03:29:08.290681Z",
     "start_time": "2022-04-26T03:29:00.287037Z"
    }
   },
   "outputs": [
    {
     "data": {
      "application/vnd.jupyter.widget-view+json": {
       "model_id": "acb990074fda422ba61ac87ef0749d2c",
       "version_major": 2,
       "version_minor": 0
      },
      "text/plain": [
       "Downloading:   0%|          | 0.00/0.99M [00:00<?, ?B/s]"
      ]
     },
     "metadata": {},
     "output_type": "display_data"
    },
    {
     "data": {
      "application/vnd.jupyter.widget-view+json": {
       "model_id": "94b1d8fbb8f641559684a77aa11f4c1a",
       "version_major": 2,
       "version_minor": 0
      },
      "text/plain": [
       "Downloading:   0%|          | 0.00/446k [00:00<?, ?B/s]"
      ]
     },
     "metadata": {},
     "output_type": "display_data"
    },
    {
     "data": {
      "application/vnd.jupyter.widget-view+json": {
       "model_id": "334f2b4d163c4d4c864b74c96c661eba",
       "version_major": 2,
       "version_minor": 0
      },
      "text/plain": [
       "Downloading:   0%|          | 0.00/1.29M [00:00<?, ?B/s]"
      ]
     },
     "metadata": {},
     "output_type": "display_data"
    },
    {
     "data": {
      "application/vnd.jupyter.widget-view+json": {
       "model_id": "b4cbc1e1629342cc91ef27e23dc5638e",
       "version_major": 2,
       "version_minor": 0
      },
      "text/plain": [
       "Downloading:   0%|          | 0.00/665 [00:00<?, ?B/s]"
      ]
     },
     "metadata": {},
     "output_type": "display_data"
    }
   ],
   "source": [
    "tokenizer = GPT2Tokenizer.from_pretrained('gpt2')"
   ]
  },
  {
   "cell_type": "code",
   "execution_count": 100,
   "metadata": {
    "ExecuteTime": {
     "end_time": "2022-04-26T03:29:26.056541Z",
     "start_time": "2022-04-26T03:29:17.766397Z"
    }
   },
   "outputs": [
    {
     "data": {
      "application/vnd.jupyter.widget-view+json": {
       "model_id": "3109fcf3e5504b008905148fad7769f6",
       "version_major": 2,
       "version_minor": 0
      },
      "text/plain": [
       "Downloading:   0%|          | 0.00/779k [00:00<?, ?B/s]"
      ]
     },
     "metadata": {},
     "output_type": "display_data"
    },
    {
     "data": {
      "application/vnd.jupyter.widget-view+json": {
       "model_id": "bc775d0c6e1246ab9e3aa96711166f4b",
       "version_major": 2,
       "version_minor": 0
      },
      "text/plain": [
       "Downloading:   0%|          | 0.00/446k [00:00<?, ?B/s]"
      ]
     },
     "metadata": {},
     "output_type": "display_data"
    },
    {
     "data": {
      "application/vnd.jupyter.widget-view+json": {
       "model_id": "0d2b108cc6834e99bfa2ed832efca65e",
       "version_major": 2,
       "version_minor": 0
      },
      "text/plain": [
       "Downloading:   0%|          | 0.00/3.94k [00:00<?, ?B/s]"
      ]
     },
     "metadata": {},
     "output_type": "display_data"
    },
    {
     "data": {
      "application/vnd.jupyter.widget-view+json": {
       "model_id": "9accc6a12ac842bab72b33966d9825d3",
       "version_major": 2,
       "version_minor": 0
      },
      "text/plain": [
       "Downloading:   0%|          | 0.00/357 [00:00<?, ?B/s]"
      ]
     },
     "metadata": {},
     "output_type": "display_data"
    },
    {
     "data": {
      "application/vnd.jupyter.widget-view+json": {
       "model_id": "7b7bd0af56c24bcfabfdec664bf4da76",
       "version_major": 2,
       "version_minor": 0
      },
      "text/plain": [
       "Downloading:   0%|          | 0.00/619 [00:00<?, ?B/s]"
      ]
     },
     "metadata": {},
     "output_type": "display_data"
    },
    {
     "data": {
      "application/vnd.jupyter.widget-view+json": {
       "model_id": "6ab04df275b14289a65042e6e3aa0689",
       "version_major": 2,
       "version_minor": 0
      },
      "text/plain": [
       "Downloading:   0%|          | 0.00/1.31M [00:00<?, ?B/s]"
      ]
     },
     "metadata": {},
     "output_type": "display_data"
    }
   ],
   "source": [
    "tokenizer_j = GPT2Tokenizer.from_pretrained('EleutherAI/gpt-j-6B')"
   ]
  },
  {
   "cell_type": "code",
   "execution_count": 199,
   "metadata": {
    "ExecuteTime": {
     "end_time": "2022-04-26T04:07:06.579974Z",
     "start_time": "2022-04-26T04:07:06.495232Z"
    }
   },
   "outputs": [
    {
     "data": {
      "text/plain": [
       "[('Ġregress', 50252),\n",
       " ('ĠCollider', 50253),\n",
       " ('Ġinformants', 50254),\n",
       " ('Ġgazed', 50255),\n",
       " ('<|endoftext|>', 50256)]"
      ]
     },
     "execution_count": 199,
     "metadata": {},
     "output_type": "execute_result"
    }
   ],
   "source": [
    "list(tokenizer.get_vocab().items())[-5:]"
   ]
  },
  {
   "cell_type": "code",
   "execution_count": 119,
   "metadata": {
    "ExecuteTime": {
     "end_time": "2022-04-26T03:34:21.548249Z",
     "start_time": "2022-04-26T03:34:21.436082Z"
    }
   },
   "outputs": [
    {
     "data": {
      "text/plain": [
       "['S',\n",
       " 'yl',\n",
       " 'via',\n",
       " ':',\n",
       " 'ĠHi',\n",
       " '.',\n",
       " 'Ċ',\n",
       " 'Ċ',\n",
       " 'Me',\n",
       " ':',\n",
       " 'ĠHello',\n",
       " '<',\n",
       " 'END',\n",
       " '>']"
      ]
     },
     "execution_count": 119,
     "metadata": {},
     "output_type": "execute_result"
    }
   ],
   "source": [
    "tokenizer.tokenize('Sylvia: Hi.\\n\\nMe: Hello<END>')"
   ]
  },
  {
   "cell_type": "code",
   "execution_count": 200,
   "metadata": {
    "ExecuteTime": {
     "end_time": "2022-04-26T04:12:40.438052Z",
     "start_time": "2022-04-26T04:12:40.352642Z"
    }
   },
   "outputs": [
    {
     "data": {
      "text/plain": [
       "['S',\n",
       " 'yl',\n",
       " 'via',\n",
       " ':',\n",
       " 'ĠHi',\n",
       " '.',\n",
       " 'Ċ',\n",
       " 'Ċ',\n",
       " 'Me',\n",
       " ':',\n",
       " 'ĠHello',\n",
       " '<|endoftext|>']"
      ]
     },
     "execution_count": 200,
     "metadata": {},
     "output_type": "execute_result"
    }
   ],
   "source": [
    "tokenizer.tokenize('Sylvia: Hi.\\n\\nMe: Hello<|endoftext|>')"
   ]
  },
  {
   "cell_type": "code",
   "execution_count": 120,
   "metadata": {
    "ExecuteTime": {
     "end_time": "2022-04-26T03:34:25.139146Z",
     "start_time": "2022-04-26T03:34:25.056975Z"
    }
   },
   "outputs": [
    {
     "data": {
      "text/plain": [
       "['S',\n",
       " 'yl',\n",
       " 'via',\n",
       " ':',\n",
       " 'ĠHi',\n",
       " '.',\n",
       " 'Ċ',\n",
       " 'Ċ',\n",
       " 'Me',\n",
       " ':',\n",
       " 'ĠHello',\n",
       " '<',\n",
       " 'END',\n",
       " '>']"
      ]
     },
     "execution_count": 120,
     "metadata": {},
     "output_type": "execute_result"
    }
   ],
   "source": [
    "tokenizer_j.tokenize('Sylvia: Hi.\\n\\nMe: Hello<END>')"
   ]
  },
  {
   "cell_type": "code",
   "execution_count": 17,
   "metadata": {
    "ExecuteTime": {
     "end_time": "2022-04-26T02:42:55.841274Z",
     "start_time": "2022-04-26T02:42:55.792167Z"
    }
   },
   "outputs": [
    {
     "data": {
      "text/plain": [
       "['openai', 'gooseai', 'huggingface', 'hobby', 'banana', 'repeat', 'mock']"
      ]
     },
     "execution_count": 17,
     "metadata": {},
     "output_type": "execute_result"
    }
   ],
   "source": [
    "gpt = GPTBackend()\n",
    "gpt.backends()"
   ]
  },
  {
   "cell_type": "code",
   "execution_count": 18,
   "metadata": {
    "ExecuteTime": {
     "end_time": "2022-04-26T02:42:56.659436Z",
     "start_time": "2022-04-26T02:42:56.621956Z"
    }
   },
   "outputs": [
    {
     "name": "stdout",
     "output_type": "stream",
     "text": [
      "Switching openai backend to \"mock\".\n"
     ]
    }
   ],
   "source": [
    "gpt.switch('mock')"
   ]
  },
  {
   "cell_type": "code",
   "execution_count": 19,
   "metadata": {
    "ExecuteTime": {
     "end_time": "2022-04-26T02:42:57.636239Z",
     "start_time": "2022-04-26T02:42:57.593919Z"
    }
   },
   "outputs": [
    {
     "name": "stdout",
     "output_type": "stream",
     "text": [
      "{'stream': True, 'prompt': 'This is the last time', 'meta': {'backend_name': 'mock', 'query_func': 'query_gpt_mock', 'datetime': 'Mon Apr 25 19:42:57 2022'}}\n",
      " a\n",
      "{'finish_reason': None, 'index': 0, 'logprobs': <OpenAIObject at 0x11f6b3db0> JSON: {\n",
      "  \"text_offset\": [\n",
      "    0\n",
      "  ],\n",
      "  \"token_logprobs\": [\n",
      "    -1.3818359375\n",
      "  ],\n",
      "  \"tokens\": [\n",
      "    \" a\"\n",
      "  ],\n",
      "  \"top_logprobs\": [\n",
      "    {\n",
      "      \" a\": -1.3818359375,\n",
      "      \" my\": -2.384765625,\n",
      "      \" the\": -1.8720703125\n",
      "    }\n",
      "  ]\n",
      "}, 'text': ' a', 'token_index': 0, 'prompt_index': 0}\n",
      "\n",
      "-------------------------------------------------------------------------------\n",
      "\n",
      " bit\n",
      "{'finish_reason': None, 'index': 0, 'logprobs': <OpenAIObject at 0x11f6b3f68> JSON: {\n",
      "  \"text_offset\": [\n",
      "    2\n",
      "  ],\n",
      "  \"token_logprobs\": [\n",
      "    -4.75390625\n",
      "  ],\n",
      "  \"tokens\": [\n",
      "    \" bit\"\n",
      "  ],\n",
      "  \"top_logprobs\": [\n",
      "    {\n",
      "      \" big\": -1.83984375,\n",
      "      \" day\": -2.53125,\n",
      "      \" very\": -2.916015625\n",
      "    }\n",
      "  ]\n",
      "}, 'text': ' bit', 'token_index': 1, 'prompt_index': 0}\n",
      "\n",
      "-------------------------------------------------------------------------------\n",
      "\n",
      " busy\n",
      "{'finish_reason': 'length', 'index': 0, 'logprobs': <OpenAIObject at 0x11f6c0150> JSON: {\n",
      "  \"text_offset\": [\n",
      "    6\n",
      "  ],\n",
      "  \"token_logprobs\": [\n",
      "    -5.09375\n",
      "  ],\n",
      "  \"tokens\": [\n",
      "    \" busy\"\n",
      "  ],\n",
      "  \"top_logprobs\": [\n",
      "    {\n",
      "      \" like\": -4.03515625,\n",
      "      \" more\": -3.875,\n",
      "      \" of\": -0.352294921875\n",
      "    }\n",
      "  ]\n",
      "}, 'text': ' busy', 'token_index': 2, 'prompt_index': 0}\n",
      "\n",
      "-------------------------------------------------------------------------------\n",
      "\n"
     ]
    },
    {
     "name": "stderr",
     "output_type": "stream",
     "text": [
      "/Users/hmamin/jabberwocky/lib/jabberwocky/openai_utils.py:721: UserWarning: strip_output=True is not supported in stream mode. Automatically setting it to False.\n",
      "  warnings.warn('strip_output=True is not supported in stream '\n",
      "/Users/hmamin/jabberwocky/lib/jabberwocky/openai_utils.py:726: UserWarning: Streaming mode does not support manual truncation of stop phrases and your current backend has limited support for truncation.\n",
      "  'Streaming mode does not support manual truncation of '\n"
     ]
    }
   ],
   "source": [
    "for tok, full in gpt.query('This is the last time', stream=True):\n",
    "    print(tok)\n",
    "    print(full)\n",
    "    print(spacer())"
   ]
  },
  {
   "cell_type": "code",
   "execution_count": 20,
   "metadata": {
    "ExecuteTime": {
     "end_time": "2022-04-26T02:43:05.044328Z",
     "start_time": "2022-04-26T02:43:04.970210Z"
    }
   },
   "outputs": [
    {
     "data": {
      "text/plain": [
       "<jabberwocky.openai_utils.ConversationManager at 0x11f707240>"
      ]
     },
     "execution_count": 20,
     "metadata": {},
     "output_type": "execute_result"
    }
   ],
   "source": [
    "conv = oautils.ConversationManager(verbose=False)\n",
    "conv"
   ]
  },
  {
   "cell_type": "code",
   "execution_count": 90,
   "metadata": {
    "ExecuteTime": {
     "end_time": "2022-04-26T03:25:41.771659Z",
     "start_time": "2022-04-26T03:25:41.139841Z"
    }
   },
   "outputs": [
    {
     "name": "stdout",
     "output_type": "stream",
     "text": [
      "Object loaded from /Users/hmamin/jabberwocky/data/misc/sample_response.pkl.\n",
      "Object loaded from /Users/hmamin/jabberwocky/data/misc/sample_stream_response.pkl.\n",
      "Object loaded from /Users/hmamin/jabberwocky/data/misc/gooseai_sample_responses.pkl.\n",
      "Switching openai backend to \"openai\".\n",
      "{'engine_i': 0, 'temperature': 0.5, 'max_tokens': 25, 'frequency_penalty': 0.1, 'stop': ['\\n\\nMe:', 'This is a conversation with'], 'stream': True, 'prompt': 'This is a conversation with Sylvia Plath. Sylvia Plath (October 27, 1932 - February 11, 1963) was an American poet, novelist, and short-story writer. She is credited with advancing the genre of confessional poetry and is best known for two of her published collections, The Colossus and Other Poems (1960) and Ariel (1965), as well as The Bell Jar, a semi-autobiographical novel published shortly before her death in 1963.\\n\\nMe: Hi.\\n\\nSylvia Plath:', 'meta': {'backend_name': 'openai', 'query_func': 'query_gpt3', 'datetime': 'Mon Apr 25 20:25:41 2022'}}\n"
     ]
    }
   ],
   "source": [
    "gpt.switch('openai')\n",
    "with conv.converse('Sylvia Plath'):\n",
    "    res = conv.query('Hi.', engine_i=0,\n",
    "                     stream=True, max_tokens=25)"
   ]
  },
  {
   "cell_type": "code",
   "execution_count": 91,
   "metadata": {
    "ExecuteTime": {
     "end_time": "2022-04-26T03:25:43.063469Z",
     "start_time": "2022-04-26T03:25:43.023480Z"
    }
   },
   "outputs": [],
   "source": [
    "res2 = list(res)"
   ]
  },
  {
   "cell_type": "code",
   "execution_count": 92,
   "metadata": {
    "ExecuteTime": {
     "end_time": "2022-04-26T03:25:44.148168Z",
     "start_time": "2022-04-26T03:25:44.106791Z"
    }
   },
   "outputs": [
    {
     "data": {
      "text/plain": [
       "[' Hi', '.', ' How', ' are', ' you', '?', '']"
      ]
     },
     "execution_count": 92,
     "metadata": {},
     "output_type": "execute_result"
    }
   ],
   "source": [
    "[row[0] for row in res2]"
   ]
  },
  {
   "cell_type": "code",
   "execution_count": 208,
   "metadata": {
    "ExecuteTime": {
     "end_time": "2022-04-27T02:08:27.075696Z",
     "start_time": "2022-04-27T02:08:26.965034Z"
    }
   },
   "outputs": [],
   "source": [
    "res = [(' Hi',\n",
    "  {'text': ' Hi',\n",
    "   'index': 0,\n",
    "   'logprobs': None,\n",
    "   'finish_reason': None,\n",
    "   'prompt_index': 0}),\n",
    " ('.',\n",
    "  {'text': '.',\n",
    "   'index': 0,\n",
    "   'logprobs': None,\n",
    "   'finish_reason': None,\n",
    "   'prompt_index': 0}),\n",
    " (' How',\n",
    "  {'text': ' How',\n",
    "   'index': 0,\n",
    "   'logprobs': None,\n",
    "   'finish_reason': None,\n",
    "   'prompt_index': 0}),\n",
    " (' are',\n",
    "  {'text': ' are',\n",
    "   'index': 0,\n",
    "   'logprobs': None,\n",
    "   'finish_reason': None,\n",
    "   'prompt_index': 0}),\n",
    " (' you',\n",
    "  {'text': ' you',\n",
    "   'index': 0,\n",
    "   'logprobs': None,\n",
    "   'finish_reason': None,\n",
    "   'prompt_index': 0}),\n",
    " ('?',\n",
    "  {'text': '?',\n",
    "   'index': 0,\n",
    "   'logprobs': None,\n",
    "   'finish_reason': None,\n",
    "   'prompt_index': 0}),\n",
    " ('',\n",
    "  {'text': '',\n",
    "   'index': 0,\n",
    "   'logprobs': None,\n",
    "   'finish_reason': None,\n",
    "   'prompt_index': 0}),\n",
    "('<|endoftext|>',\n",
    "  {'text': '<|endoftext|>',\n",
    "   'index': 0,\n",
    "   'logprobs': None,\n",
    "   'finish_reason': None,\n",
    "   'prompt_index': 0}),\n",
    "(' ',\n",
    " {'text': ' ',\n",
    "   'index': 0,\n",
    "   'logprobs': None,\n",
    "   'finish_reason': None,\n",
    "   'prompt_index': 0}),\n",
    " ('Hey',\n",
    " {'text': 'Hey',\n",
    "   'index': 0,\n",
    "   'logprobs': None,\n",
    "   'finish_reason': None,\n",
    "   'prompt_index': 0}),\n",
    "  (' there',\n",
    " {'text': ' there',\n",
    "   'index': 0,\n",
    "   'logprobs': None,\n",
    "   'finish_reason': 'length',\n",
    "   'prompt_index': 0}),\n",
    "]"
   ]
  },
  {
   "cell_type": "markdown",
   "metadata": {},
   "source": [
    "Notes on usage:\n",
    "\n",
    "- When NOT in stream mode, gpt.query uses `openai_utils.truncate_at_first_stop`. This executes on a single completion (np=1, nc=1) at a time.\n",
    "- When in stream mode, it uses `utils.stream_response`. This calls `stream_openai_generator` if the query func has param 'stream' and does some custom logic in the same stream_response func otherwise.\n",
    "- Possible way to utilize new stream func (when done): use it in stream_openai_generator? Will be unnecessary for openai (basically just for gooseai, since other query funcs don't support streaming at all) but shouldn't be harmful, in theory. Then update stream_response logic if necessary (might be easier to just convert to str/list and rstrip/replace, since these aren't really streamed)."
   ]
  },
  {
   "cell_type": "code",
   "execution_count": 209,
   "metadata": {
    "ExecuteTime": {
     "end_time": "2022-04-27T02:08:27.607417Z",
     "start_time": "2022-04-27T02:08:27.504312Z"
    }
   },
   "outputs": [
    {
     "data": {
      "text/plain": [
       "3"
      ]
     },
     "execution_count": 209,
     "metadata": {},
     "output_type": "execute_result"
    }
   ],
   "source": [
    "len(tokenizer.tokenize('<END>'))"
   ]
  },
  {
   "cell_type": "code",
   "execution_count": 213,
   "metadata": {
    "ExecuteTime": {
     "end_time": "2022-04-27T02:09:58.195328Z",
     "start_time": "2022-04-27T02:09:58.112558Z"
    }
   },
   "outputs": [],
   "source": [
    "# Uses lookahead so we don't return any tokens past stop. Might be tricky to\n",
    "# use w/ multiple stopwords bc diff lengths.\n",
    "# TODO: update to work when np > 1 and/or nc > 1.\n",
    "def stream_with_stop(gen, stop_word='<|endoftext|>', stop_word_n_tokens=1):\n",
    "    # stop_word_n_tokens: number of tokens stop_word consists of when using \n",
    "    # the appropriate gpt tokenizer (I vaguely recall this may differ for\n",
    "    # gpt-j models).\n",
    "    full_text = ''\n",
    "    q = deque()\n",
    "    for i, (text, full) in enumerate(gen):\n",
    "        full_text += text\n",
    "        q.append((text, full))\n",
    "        if i < stop_word_n_tokens: continue\n",
    "        if full_text.endswith(stop_word):\n",
    "            q[0][-1]['finish_reason'] = 'stop'\n",
    "            yield q.popleft()\n",
    "            break\n",
    "        yield q.popleft()        "
   ]
  },
  {
   "cell_type": "code",
   "execution_count": 211,
   "metadata": {
    "ExecuteTime": {
     "end_time": "2022-04-27T02:08:28.661935Z",
     "start_time": "2022-04-27T02:08:28.585672Z"
    }
   },
   "outputs": [
    {
     "name": "stdout",
     "output_type": "stream",
     "text": [
      "' Hi' None\n",
      "'.' None\n",
      "' How' None\n",
      "' are' None\n",
      "' you' None\n",
      "'?' None\n",
      "'' None\n",
      "'<|endoftext|>' None\n",
      "' ' None\n",
      "'Hey' None\n",
      "' there' length\n"
     ]
    }
   ],
   "source": [
    "for tok, full in res:\n",
    "    print(repr(tok), full['finish_reason'])"
   ]
  },
  {
   "cell_type": "code",
   "execution_count": 212,
   "metadata": {
    "ExecuteTime": {
     "end_time": "2022-04-27T02:08:29.301691Z",
     "start_time": "2022-04-27T02:08:29.234881Z"
    }
   },
   "outputs": [
    {
     "name": "stdout",
     "output_type": "stream",
     "text": [
      "' Hi' None\n",
      "'.' None\n",
      "' How' None\n",
      "' are' None\n",
      "' you' None\n",
      "'?' None\n",
      "'' stop\n"
     ]
    }
   ],
   "source": [
    "for tok, full in stream_with_stop(res):\n",
    "    print(repr(tok), full['finish_reason'])"
   ]
  },
  {
   "cell_type": "markdown",
   "metadata": {},
   "source": [
    "## Cost estimator\n",
    "\n",
    "Since the stopword removal for a backend with native streaming currently only helps gooseai, I want to get a better sense of how often gooseai is actually cost effective. Write function to compute:\n",
    "- openai cost\n",
    "- gooseai cost\n",
    "- which one is cheaper\n",
    "- evaluate over a range of possible prompt lengths and output lengths\n",
    "    - maybe plot\n",
    "- consideration: we often specify max_tokens but the actual response could be shorter. Maybe provide an option to use some sort of expected value of return a distribution of possible prices, rather than a single price?"
   ]
  },
  {
   "cell_type": "code",
   "execution_count": 392,
   "metadata": {
    "ExecuteTime": {
     "end_time": "2022-04-30T02:50:23.271906Z",
     "start_time": "2022-04-30T02:50:23.201510Z"
    }
   },
   "outputs": [],
   "source": [
    "from jabberwocky.openai_utils import EngineMap, GPTBackend"
   ]
  },
  {
   "cell_type": "code",
   "execution_count": 383,
   "metadata": {
    "ExecuteTime": {
     "end_time": "2022-04-30T02:47:08.627839Z",
     "start_time": "2022-04-30T02:47:08.544906Z"
    }
   },
   "outputs": [],
   "source": [
    "# Slightly outdated - see jabbewocky.openai_utils version for most up to date.\n",
    "# class EngineMap:\n",
    "#     \"\"\"Lets us specify engines more flexibly and obtain equivalents for\n",
    "#     different backends. E.g. for an openai engine=0 or engine='ada' or\n",
    "#     engine='text-ada-001', what gooseai engine does this map to?\n",
    "#     \"\"\"\n",
    "\n",
    "#     bases = [\n",
    "#         'ada',\n",
    "#         'babbage',\n",
    "#         'curie',\n",
    "#         'davinci'\n",
    "#     ]\n",
    "#     backend_engines = C.backend_engines\n",
    "\n",
    "#     @classmethod\n",
    "#     def get(cls, engine, backend=None, infer=False, default=None,\n",
    "#             openai_passthrough=True):\n",
    "#         \"\"\"\n",
    "\n",
    "#         Parameters\n",
    "#         ----------\n",
    "#         engine: int or str\n",
    "#             See class docstring for .\n",
    "#         backend\n",
    "#         infer: bool\n",
    "#             If true and the specified backend does not have an engine matching\n",
    "#             the desired engine, we check for progressively weaker engines\n",
    "#             trying to find something to return.\n",
    "#         default: any\n",
    "#             Value to return if we fail to resolve the engine under the current\n",
    "#             backend.\n",
    "#         openai_passthrough: bool\n",
    "#             If True and openai is the specified backend and engine is a str,\n",
    "#             we simply return the input.\n",
    "#             E.g. if True, 'code-ada-001' -> 'code-ada-001' and 'ada' .\n",
    "\n",
    "#         Returns\n",
    "#         -------\n",
    "#         str or None: Technically, can be any value if you specify a different\n",
    "#         `default`. But typically it will be the name of the current/specified\n",
    "#         backend's equivalent engine. This is best explained by example (below).\n",
    "\n",
    "#         Examples\n",
    "#         --------\n",
    "#         >>> EngineMap.get(1, 'gooseai')\n",
    "#         'gpt-j-6b'\n",
    "\n",
    "#         >>> with gpt('huggingface'):\n",
    "#         >>>     print(EngineMap.get('ada'))\n",
    "#         'gpt-neo-2.7B'\n",
    "\n",
    "#         >>> EngineMap.get('text-davinci-002', 'huggingface', infer=True)\n",
    "#         # UserWarning: No engine=text-davinci-002 equivalent for backend\n",
    "#         # huggingface.Trying to auto-infer best option.\n",
    "#         'gpt-j-6B'\n",
    "#         \"\"\"\n",
    "#         # Store this for potential error message later.\n",
    "#         user_engine = engine\n",
    "#         if isinstance(engine, int):\n",
    "#             if engine not in range(4):\n",
    "#                 raise ValueError(\n",
    "#                     f'Received invalid engine value: {engine}. If engine is '\n",
    "#                     'specified as an integer, it must lie in [0, 3].'\n",
    "#                 )\n",
    "#             engine_i = engine\n",
    "#         else:\n",
    "#             base = cls._openai_base_engine(engine)\n",
    "#             engine_i = cls.bases.index(base)\n",
    "\n",
    "#         backend = backend or GPTBackend.current()\n",
    "#         if backend not in cls.backend_engines:\n",
    "#             return default\n",
    "\n",
    "#         backend_engines = cls.backend_engines[backend]\n",
    "#         if backend == 'openai' and openai_passthrough \\\n",
    "#                 and isinstance(user_engine, str):\n",
    "#             if user_engine not in cls.bases + backend_engines:\n",
    "#                 # We do still have some basic validation above that checks\n",
    "#                 # that one of the openai bases is present in the name.\n",
    "#                 warnings.warn(\n",
    "#                     f'Allowing engine \"{engine}\" to pass through because '\n",
    "#                     f'openai_passthrough=True. We trust you to make sure this '\n",
    "#                     f'is a valid engine.'\n",
    "#                 )\n",
    "#             return user_engine\n",
    "\n",
    "#         engine = backend_engines[engine_i]\n",
    "#         if not engine:\n",
    "#             msg = f'No engine={user_engine} equivalent for backend {backend}.'\n",
    "#             if infer:\n",
    "#                 warnings.warn(msg + 'Trying to auto-infer best option.')\n",
    "#                 while engine_i > 0 and not engine:\n",
    "#                     engine_i -= 1\n",
    "#                     engine = backend_engines[engine_i]\n",
    "#             else:\n",
    "#                 return default\n",
    "            \n",
    "#         if 'code' in engine and backend != 'openai':\n",
    "#             warnings.warn(f'{backend} backend does not provide code-specific '\n",
    "#                           'models at the moment. We\\'re returning the closest'\n",
    "#                           ' generic model.')\n",
    "#         return engine\n",
    "\n",
    "#     @classmethod\n",
    "#     def _openai_base_engine(cls, engine: str):\n",
    "#         \"\"\"Extract openai base engine name (e.g. 'ada') from a potentially\n",
    "#         longer string (e.g. 'text-ada-001'). If you pass in the short name, it\n",
    "#         should just return itself.\n",
    "\n",
    "#         Parameters\n",
    "#         ----------\n",
    "#         engine: str\n",
    "#             E.g. 'code-babbage-001', 'text-ada-001', 'davinci'\n",
    "\n",
    "#         Returns\n",
    "#         -------\n",
    "#         str\n",
    "#         \"\"\"\n",
    "#         matches = [chunk for chunk in engine.split('-')\n",
    "#                    if chunk in cls.bases]\n",
    "#         if not matches:\n",
    "#             raise ValueError(f'Engine \"{engine}\" does not contain any of the '\n",
    "#                              f'recognized openai bases {cls.bases}.')\n",
    "#         if len(matches) > 1:\n",
    "#             raise ValueError(f'Engine \"{engine}\" contains multiple matches '\n",
    "#                              f'among the recognized openai bases '\n",
    "#                              f'{cls.bases}.')\n",
    "\n",
    "#         return matches[0]\n",
    "\n",
    "#     # TODO: rm?\n",
    "#     @classmethod\n",
    "#     def _nonbase_openai_name(cls, engine):\n",
    "#         \"\"\"Check if engine is plausibly an openai engine name but not a base\n",
    "#         one (e.g. 'text-davinci-001' or 'code-ada-001' map to True,\n",
    "#         'ada' or 'other word' map to False).\n",
    "\n",
    "#         Parameters\n",
    "#         ----------\n",
    "#         engine: str\n",
    "\n",
    "#         Returns\n",
    "#         -------\n",
    "#         bool\n",
    "#         \"\"\"\n",
    "#         try:\n",
    "#             _ = cls._openai_base_engine(engine)\n",
    "#             assert engine not in cls.bases, \\\n",
    "#                 f'Engine {engine} found in cls.bases.'\n",
    "#             return True\n",
    "#         except Exception as e:\n",
    "#             return False"
   ]
  },
  {
   "cell_type": "code",
   "execution_count": 393,
   "metadata": {
    "ExecuteTime": {
     "end_time": "2022-04-30T02:50:30.133533Z",
     "start_time": "2022-04-30T02:50:30.035183Z"
    }
   },
   "outputs": [],
   "source": [
    "gpt = GPTBackend()"
   ]
  },
  {
   "cell_type": "code",
   "execution_count": 394,
   "metadata": {
    "ExecuteTime": {
     "end_time": "2022-04-30T02:50:31.533267Z",
     "start_time": "2022-04-30T02:50:31.465226Z"
    }
   },
   "outputs": [
    {
     "name": "stderr",
     "output_type": "stream",
     "text": [
      "/Users/hmamin/jabberwocky/lib/jabberwocky/openai_utils.py:593: UserWarning: No engine=3 equivalent for backend hobby.Trying to auto-infer best option.\n",
      "  warnings.warn(msg + 'Trying to auto-infer best option.')\n"
     ]
    },
    {
     "data": {
      "text/plain": [
       "'gpt-j-6B'"
      ]
     },
     "execution_count": 394,
     "metadata": {},
     "output_type": "execute_result"
    }
   ],
   "source": [
    "EngineMap.get(3, 'hobby')"
   ]
  },
  {
   "cell_type": "code",
   "execution_count": 375,
   "metadata": {
    "ExecuteTime": {
     "end_time": "2022-04-29T03:01:45.294009Z",
     "start_time": "2022-04-29T03:01:45.130172Z"
    },
    "scrolled": true
   },
   "outputs": [
    {
     "name": "stdout",
     "output_type": "stream",
     "text": [
      "openai 0\n",
      "\t 'text-ada-001'\n",
      "\n",
      "-------------------------------------------------------------------------------\n",
      "\n",
      "openai 1\n",
      "\t 'text-babbage-001'\n",
      "\n",
      "-------------------------------------------------------------------------------\n",
      "\n",
      "openai 2\n",
      "\t 'text-curie-001'\n",
      "\n",
      "-------------------------------------------------------------------------------\n",
      "\n",
      "openai 3\n",
      "\t 'text-davinci-002'\n",
      "\n",
      "-------------------------------------------------------------------------------\n",
      "\n",
      "openai ada\n",
      "\t 'ada'\n",
      "\n",
      "-------------------------------------------------------------------------------\n",
      "\n",
      "openai babbage\n",
      "\t 'babbage'\n",
      "\n",
      "-------------------------------------------------------------------------------\n",
      "\n",
      "openai curie\n",
      "\t 'curie'\n",
      "\n",
      "-------------------------------------------------------------------------------\n",
      "\n",
      "openai davinci\n",
      "\t 'davinci'\n",
      "\n",
      "-------------------------------------------------------------------------------\n",
      "\n",
      "openai text-ada-001\n",
      "\t 'text-ada-001'\n",
      "\n",
      "-------------------------------------------------------------------------------\n",
      "\n",
      "openai text-babbage-001\n",
      "\t 'text-babbage-001'\n",
      "\n",
      "-------------------------------------------------------------------------------\n",
      "\n",
      "openai text-curie-001\n",
      "\t 'text-curie-001'\n",
      "\n",
      "-------------------------------------------------------------------------------\n",
      "\n",
      "openai text-davinci-002\n",
      "\t 'text-davinci-002'\n",
      "\n",
      "-------------------------------------------------------------------------------\n",
      "\n",
      "openai 9\n",
      "Received invalid engine value: 9. If engine is specified as an integer, it must lie in [0, 3].\n",
      "Inferred engine failed too. Received invalid engine value: 9. If engine is specified as an integer, it must lie in [0, 3].\n",
      "\n",
      "-------------------------------------------------------------------------------\n",
      "\n",
      "openai typo\n",
      "Engine \"typo\" does not contain any of the recognized openai bases ['ada', 'babbage', 'curie', 'davinci'].\n",
      "Inferred engine failed too. Engine \"typo\" does not contain any of the recognized openai bases ['ada', 'babbage', 'curie', 'davinci'].\n",
      "\n",
      "-------------------------------------------------------------------------------\n",
      "\n",
      "openai code-ada-001\n",
      "\t 'code-ada-001'\n",
      "\n",
      "-------------------------------------------------------------------------------\n",
      "\n",
      "gooseai 0\n",
      "\t 'gpt-neo-2-7b'\n",
      "\n",
      "-------------------------------------------------------------------------------\n",
      "\n",
      "gooseai 1\n",
      "\t 'gpt-j-6b'\n",
      "\n",
      "-------------------------------------------------------------------------------\n",
      "\n",
      "gooseai 2\n",
      "\t 'fairseq-13b'\n",
      "\n",
      "-------------------------------------------------------------------------------\n",
      "\n",
      "gooseai 3\n",
      "\t 'gpt-neo-20b'\n",
      "\n",
      "-------------------------------------------------------------------------------\n",
      "\n",
      "gooseai ada\n",
      "\t 'gpt-neo-2-7b'\n",
      "\n",
      "-------------------------------------------------------------------------------\n",
      "\n",
      "gooseai babbage\n",
      "\t 'gpt-j-6b'\n",
      "\n",
      "-------------------------------------------------------------------------------\n",
      "\n",
      "gooseai curie\n",
      "\t 'fairseq-13b'\n",
      "\n",
      "-------------------------------------------------------------------------------\n",
      "\n",
      "gooseai davinci\n",
      "\t 'gpt-neo-20b'\n",
      "\n",
      "-------------------------------------------------------------------------------\n",
      "\n",
      "gooseai text-ada-001\n",
      "\t 'gpt-neo-2-7b'\n",
      "\n",
      "-------------------------------------------------------------------------------\n",
      "\n",
      "gooseai text-babbage-001\n",
      "\t 'gpt-j-6b'\n",
      "\n",
      "-------------------------------------------------------------------------------\n",
      "\n",
      "gooseai text-curie-001\n",
      "\t 'fairseq-13b'\n",
      "\n",
      "-------------------------------------------------------------------------------\n",
      "\n",
      "gooseai text-davinci-002\n",
      "\t 'gpt-neo-20b'\n",
      "\n",
      "-------------------------------------------------------------------------------\n",
      "\n",
      "gooseai 9\n",
      "Received invalid engine value: 9. If engine is specified as an integer, it must lie in [0, 3].\n",
      "Inferred engine failed too. Received invalid engine value: 9. If engine is specified as an integer, it must lie in [0, 3].\n",
      "\n",
      "-------------------------------------------------------------------------------\n",
      "\n",
      "gooseai typo\n",
      "Engine \"typo\" does not contain any of the recognized openai bases ['ada', 'babbage', 'curie', 'davinci'].\n",
      "Inferred engine failed too. Engine \"typo\" does not contain any of the recognized openai bases ['ada', 'babbage', 'curie', 'davinci'].\n",
      "\n",
      "-------------------------------------------------------------------------------\n",
      "\n",
      "gooseai code-ada-001\n",
      "\t 'gpt-neo-2-7b'\n",
      "\n",
      "-------------------------------------------------------------------------------\n",
      "\n",
      "huggingface 0\n",
      "\t 'gpt-neo-2.7B'\n",
      "\n",
      "-------------------------------------------------------------------------------\n",
      "\n",
      "huggingface 1\n",
      "\t 'gpt-j-6B'\n",
      "\n",
      "-------------------------------------------------------------------------------\n",
      "\n",
      "huggingface 2\n",
      "\t None\n",
      "\n",
      "-------------------------------------------------------------------------------\n",
      "\n",
      "huggingface 3\n",
      "\t None\n",
      "\n",
      "-------------------------------------------------------------------------------\n",
      "\n",
      "huggingface ada\n",
      "\t 'gpt-neo-2.7B'\n",
      "\n",
      "-------------------------------------------------------------------------------\n",
      "\n",
      "huggingface babbage\n",
      "\t 'gpt-j-6B'\n",
      "\n",
      "-------------------------------------------------------------------------------\n",
      "\n",
      "huggingface curie\n",
      "\t None\n",
      "\n",
      "-------------------------------------------------------------------------------\n",
      "\n",
      "huggingface davinci\n",
      "\t None\n",
      "\n",
      "-------------------------------------------------------------------------------\n",
      "\n",
      "huggingface text-ada-001\n",
      "\t 'gpt-neo-2.7B'\n",
      "\n",
      "-------------------------------------------------------------------------------\n",
      "\n",
      "huggingface text-babbage-001\n",
      "\t 'gpt-j-6B'\n",
      "\n",
      "-------------------------------------------------------------------------------\n",
      "\n",
      "huggingface text-curie-001\n",
      "\t None\n",
      "\n",
      "-------------------------------------------------------------------------------\n",
      "\n",
      "huggingface text-davinci-002\n",
      "\t None\n",
      "\n",
      "-------------------------------------------------------------------------------\n",
      "\n",
      "huggingface 9\n",
      "Received invalid engine value: 9. If engine is specified as an integer, it must lie in [0, 3].\n",
      "Inferred engine failed too. Received invalid engine value: 9. If engine is specified as an integer, it must lie in [0, 3].\n",
      "\n",
      "-------------------------------------------------------------------------------\n",
      "\n",
      "huggingface typo\n",
      "Engine \"typo\" does not contain any of the recognized openai bases ['ada', 'babbage', 'curie', 'davinci'].\n",
      "Inferred engine failed too. Engine \"typo\" does not contain any of the recognized openai bases ['ada', 'babbage', 'curie', 'davinci'].\n",
      "\n",
      "-------------------------------------------------------------------------------\n",
      "\n",
      "huggingface code-ada-001\n",
      "\t 'gpt-neo-2.7B'\n",
      "\n",
      "-------------------------------------------------------------------------------\n",
      "\n",
      "hobby 0\n",
      "\t 'gpt-j-6B'\n",
      "\n",
      "-------------------------------------------------------------------------------\n",
      "\n",
      "hobby 1\n",
      "\t 'gpt-j-6B'\n",
      "\n",
      "-------------------------------------------------------------------------------\n",
      "\n",
      "hobby 2\n",
      "\t None\n",
      "\n",
      "-------------------------------------------------------------------------------\n",
      "\n",
      "hobby 3\n",
      "\t None\n",
      "\n",
      "-------------------------------------------------------------------------------\n",
      "\n",
      "hobby ada\n",
      "\t 'gpt-j-6B'\n",
      "\n",
      "-------------------------------------------------------------------------------\n",
      "\n",
      "hobby babbage\n",
      "\t 'gpt-j-6B'\n",
      "\n",
      "-------------------------------------------------------------------------------\n",
      "\n",
      "hobby curie\n",
      "\t None\n",
      "\n",
      "-------------------------------------------------------------------------------\n",
      "\n",
      "hobby davinci\n",
      "\t None\n",
      "\n",
      "-------------------------------------------------------------------------------\n",
      "\n",
      "hobby text-ada-001\n",
      "\t 'gpt-j-6B'\n",
      "\n",
      "-------------------------------------------------------------------------------\n",
      "\n",
      "hobby text-babbage-001\n",
      "\t 'gpt-j-6B'\n",
      "\n",
      "-------------------------------------------------------------------------------\n",
      "\n",
      "hobby text-curie-001\n",
      "\t None\n",
      "\n",
      "-------------------------------------------------------------------------------\n",
      "\n",
      "hobby text-davinci-002\n",
      "\t None\n",
      "\n",
      "-------------------------------------------------------------------------------\n",
      "\n",
      "hobby 9\n",
      "Received invalid engine value: 9. If engine is specified as an integer, it must lie in [0, 3].\n",
      "Inferred engine failed too. Received invalid engine value: 9. If engine is specified as an integer, it must lie in [0, 3].\n",
      "\n",
      "-------------------------------------------------------------------------------\n",
      "\n",
      "hobby typo\n",
      "Engine \"typo\" does not contain any of the recognized openai bases ['ada', 'babbage', 'curie', 'davinci'].\n",
      "Inferred engine failed too. Engine \"typo\" does not contain any of the recognized openai bases ['ada', 'babbage', 'curie', 'davinci'].\n",
      "\n",
      "-------------------------------------------------------------------------------\n",
      "\n",
      "hobby code-ada-001\n",
      "\t 'gpt-j-6B'\n",
      "\n",
      "-------------------------------------------------------------------------------\n",
      "\n",
      "banana 0\n",
      "\t 'gpt-j-6B'\n",
      "\n",
      "-------------------------------------------------------------------------------\n",
      "\n",
      "banana 1\n",
      "\t 'gpt-j-6B'\n",
      "\n",
      "-------------------------------------------------------------------------------\n",
      "\n",
      "banana 2\n",
      "\t None\n",
      "\n",
      "-------------------------------------------------------------------------------\n",
      "\n",
      "banana 3\n",
      "\t None\n",
      "\n",
      "-------------------------------------------------------------------------------\n",
      "\n",
      "banana ada\n",
      "\t 'gpt-j-6B'\n",
      "\n",
      "-------------------------------------------------------------------------------\n",
      "\n",
      "banana babbage\n",
      "\t 'gpt-j-6B'\n",
      "\n",
      "-------------------------------------------------------------------------------\n",
      "\n",
      "banana curie\n",
      "\t None\n",
      "\n",
      "-------------------------------------------------------------------------------\n",
      "\n",
      "banana davinci\n",
      "\t None\n",
      "\n",
      "-------------------------------------------------------------------------------\n",
      "\n",
      "banana text-ada-001\n",
      "\t 'gpt-j-6B'\n",
      "\n",
      "-------------------------------------------------------------------------------\n",
      "\n",
      "banana text-babbage-001\n",
      "\t 'gpt-j-6B'\n",
      "\n",
      "-------------------------------------------------------------------------------\n",
      "\n",
      "banana text-curie-001\n",
      "\t None\n",
      "\n",
      "-------------------------------------------------------------------------------\n",
      "\n",
      "banana text-davinci-002\n",
      "\t None\n",
      "\n",
      "-------------------------------------------------------------------------------\n",
      "\n",
      "banana 9\n",
      "Received invalid engine value: 9. If engine is specified as an integer, it must lie in [0, 3].\n",
      "Inferred engine failed too. Received invalid engine value: 9. If engine is specified as an integer, it must lie in [0, 3].\n",
      "\n",
      "-------------------------------------------------------------------------------\n",
      "\n",
      "banana typo\n",
      "Engine \"typo\" does not contain any of the recognized openai bases ['ada', 'babbage', 'curie', 'davinci'].\n",
      "Inferred engine failed too. Engine \"typo\" does not contain any of the recognized openai bases ['ada', 'babbage', 'curie', 'davinci'].\n",
      "\n",
      "-------------------------------------------------------------------------------\n",
      "\n",
      "banana code-ada-001\n",
      "\t 'gpt-j-6B'\n",
      "\n",
      "-------------------------------------------------------------------------------\n",
      "\n",
      "repeat 0\n",
      "\t None\n",
      "\n",
      "-------------------------------------------------------------------------------\n",
      "\n",
      "repeat 1\n",
      "\t None\n",
      "\n",
      "-------------------------------------------------------------------------------\n",
      "\n",
      "repeat 2\n",
      "\t None\n",
      "\n",
      "-------------------------------------------------------------------------------\n",
      "\n",
      "repeat 3\n",
      "\t None\n",
      "\n",
      "-------------------------------------------------------------------------------\n",
      "\n",
      "repeat ada\n",
      "\t None\n",
      "\n",
      "-------------------------------------------------------------------------------\n",
      "\n",
      "repeat babbage\n",
      "\t None\n",
      "\n",
      "-------------------------------------------------------------------------------\n",
      "\n",
      "repeat curie\n",
      "\t None\n",
      "\n",
      "-------------------------------------------------------------------------------\n",
      "\n",
      "repeat davinci\n",
      "\t None\n",
      "\n",
      "-------------------------------------------------------------------------------\n",
      "\n",
      "repeat text-ada-001\n",
      "\t None\n",
      "\n",
      "-------------------------------------------------------------------------------\n",
      "\n",
      "repeat text-babbage-001\n",
      "\t None\n",
      "\n",
      "-------------------------------------------------------------------------------\n",
      "\n",
      "repeat text-curie-001\n",
      "\t None\n",
      "\n",
      "-------------------------------------------------------------------------------\n",
      "\n",
      "repeat text-davinci-002\n",
      "\t None\n",
      "\n",
      "-------------------------------------------------------------------------------\n",
      "\n",
      "repeat 9\n",
      "Received invalid engine value: 9. If engine is specified as an integer, it must lie in [0, 3].\n",
      "Inferred engine failed too. Received invalid engine value: 9. If engine is specified as an integer, it must lie in [0, 3].\n",
      "\n",
      "-------------------------------------------------------------------------------\n",
      "\n",
      "repeat typo\n",
      "Engine \"typo\" does not contain any of the recognized openai bases ['ada', 'babbage', 'curie', 'davinci'].\n",
      "Inferred engine failed too. Engine \"typo\" does not contain any of the recognized openai bases ['ada', 'babbage', 'curie', 'davinci'].\n",
      "\n",
      "-------------------------------------------------------------------------------\n",
      "\n",
      "repeat code-ada-001\n",
      "\t None\n",
      "\n",
      "-------------------------------------------------------------------------------\n",
      "\n",
      "mock 0\n",
      "\t None\n",
      "\n",
      "-------------------------------------------------------------------------------\n",
      "\n",
      "mock 1\n",
      "\t None\n",
      "\n",
      "-------------------------------------------------------------------------------\n",
      "\n",
      "mock 2\n",
      "\t None\n",
      "\n",
      "-------------------------------------------------------------------------------\n",
      "\n",
      "mock 3\n",
      "\t None\n",
      "\n",
      "-------------------------------------------------------------------------------\n",
      "\n",
      "mock ada\n",
      "\t None\n",
      "\n",
      "-------------------------------------------------------------------------------\n",
      "\n",
      "mock babbage\n",
      "\t None\n",
      "\n",
      "-------------------------------------------------------------------------------\n",
      "\n",
      "mock curie\n",
      "\t None\n",
      "\n",
      "-------------------------------------------------------------------------------\n",
      "\n",
      "mock davinci\n",
      "\t None\n",
      "\n",
      "-------------------------------------------------------------------------------\n",
      "\n",
      "mock text-ada-001\n",
      "\t None\n",
      "\n",
      "-------------------------------------------------------------------------------\n",
      "\n",
      "mock text-babbage-001\n",
      "\t None\n",
      "\n",
      "-------------------------------------------------------------------------------\n",
      "\n",
      "mock text-curie-001\n",
      "\t None\n",
      "\n",
      "-------------------------------------------------------------------------------\n",
      "\n",
      "mock text-davinci-002\n",
      "\t None\n",
      "\n",
      "-------------------------------------------------------------------------------\n",
      "\n",
      "mock 9\n",
      "Received invalid engine value: 9. If engine is specified as an integer, it must lie in [0, 3].\n",
      "Inferred engine failed too. Received invalid engine value: 9. If engine is specified as an integer, it must lie in [0, 3].\n",
      "\n",
      "-------------------------------------------------------------------------------\n",
      "\n",
      "mock typo\n",
      "Engine \"typo\" does not contain any of the recognized openai bases ['ada', 'babbage', 'curie', 'davinci'].\n",
      "Inferred engine failed too. Engine \"typo\" does not contain any of the recognized openai bases ['ada', 'babbage', 'curie', 'davinci'].\n",
      "\n",
      "-------------------------------------------------------------------------------\n",
      "\n",
      "mock code-ada-001\n",
      "\t None\n",
      "\n",
      "-------------------------------------------------------------------------------\n",
      "\n"
     ]
    },
    {
     "name": "stderr",
     "output_type": "stream",
     "text": [
      "/Users/hmamin/anaconda3/lib/python3.7/site-packages/ipykernel_launcher.py:142: UserWarning: Allowing engine \"code-ada-001\" to pass through because openai_passthrough=True. We trust you to make sure this is a valid engine.\n"
     ]
    }
   ],
   "source": [
    "backends = GPTBackend.backends()\n",
    "engine_inputs = [\n",
    "    0, 1, 2, 3, 'ada', 'babbage', 'curie', 'davinci', 'text-ada-001', \n",
    "    'text-babbage-001', 'text-curie-001', 'text-davinci-002', 9, 'typo', \n",
    "    'code-ada-001'\n",
    "]\n",
    "\n",
    "for backend in backends:\n",
    "    for engine in engine_inputs:\n",
    "        print(backend, engine)\n",
    "        try:\n",
    "            tmp = EngineMap.get(engine, backend)\n",
    "            print('\\t', repr(tmp))\n",
    "        except Exception as e:\n",
    "            print(e)\n",
    "            try:\n",
    "                tmp = EngineMap.get(engine, backend, infer=True)\n",
    "                print('\\tInferred: ', repr(tmp))\n",
    "            except Exception as e:\n",
    "                print('Inferred engine failed too. ' + str(e))\n",
    "        print(spacer())"
   ]
  },
  {
   "cell_type": "code",
   "execution_count": 361,
   "metadata": {
    "ExecuteTime": {
     "end_time": "2022-04-29T02:55:50.419541Z",
     "start_time": "2022-04-29T02:55:50.312652Z"
    }
   },
   "outputs": [
    {
     "name": "stdout",
     "output_type": "stream",
     "text": [
      "Switching openai backend to \"huggingface\".\n",
      "gpt-neo-2.7B\n",
      "Switching  backend back to \"mock\".\n"
     ]
    }
   ],
   "source": [
    "with gpt('huggingface'):\n",
    "    print(EngineMap.get('ada'))"
   ]
  },
  {
   "cell_type": "code",
   "execution_count": 362,
   "metadata": {
    "ExecuteTime": {
     "end_time": "2022-04-29T02:55:53.897256Z",
     "start_time": "2022-04-29T02:55:53.800162Z"
    }
   },
   "outputs": [
    {
     "name": "stderr",
     "output_type": "stream",
     "text": [
      "/Users/hmamin/anaconda3/lib/python3.7/site-packages/ipykernel_launcher.py:152: UserWarning: No engine=text-davinci-002 equivalent for backend huggingface.Trying to auto-infer best option.\n"
     ]
    },
    {
     "data": {
      "text/plain": [
       "'gpt-j-6B'"
      ]
     },
     "execution_count": 362,
     "metadata": {},
     "output_type": "execute_result"
    }
   ],
   "source": [
    "EngineMap.get('text-davinci-002', 'huggingface', infer=True)"
   ]
  },
  {
   "cell_type": "code",
   "execution_count": 366,
   "metadata": {
    "ExecuteTime": {
     "end_time": "2022-04-29T02:56:20.150965Z",
     "start_time": "2022-04-29T02:56:20.057779Z"
    }
   },
   "outputs": [
    {
     "data": {
      "text/plain": [
       "'davinci'"
      ]
     },
     "execution_count": 366,
     "metadata": {},
     "output_type": "execute_result"
    }
   ],
   "source": [
    "EngineMap.get('davinci', 'openai', openai_passthrough=True)"
   ]
  },
  {
   "cell_type": "code",
   "execution_count": 367,
   "metadata": {
    "ExecuteTime": {
     "end_time": "2022-04-29T02:56:24.462017Z",
     "start_time": "2022-04-29T02:56:24.382248Z"
    }
   },
   "outputs": [
    {
     "data": {
      "text/plain": [
       "'text-davinci-002'"
      ]
     },
     "execution_count": 367,
     "metadata": {},
     "output_type": "execute_result"
    }
   ],
   "source": [
    "EngineMap.get('davinci', 'openai', openai_passthrough=False)"
   ]
  },
  {
   "cell_type": "code",
   "execution_count": 373,
   "metadata": {
    "ExecuteTime": {
     "end_time": "2022-04-29T02:58:27.410062Z",
     "start_time": "2022-04-29T02:58:27.344007Z"
    }
   },
   "outputs": [
    {
     "data": {
      "text/plain": [
       "'text-ada-001'"
      ]
     },
     "execution_count": 373,
     "metadata": {},
     "output_type": "execute_result"
    }
   ],
   "source": [
    "EngineMap.get('ada', 'openai', openai_passthrough=False)"
   ]
  },
  {
   "cell_type": "code",
   "execution_count": 344,
   "metadata": {
    "ExecuteTime": {
     "end_time": "2022-04-28T04:13:11.284721Z",
     "start_time": "2022-04-28T04:13:11.207063Z"
    },
    "scrolled": true
   },
   "outputs": [
    {
     "name": "stdout",
     "output_type": "stream",
     "text": [
      "openai 0\n",
      "\t 'ada'\n",
      "\n",
      "-------------------------------------------------------------------------------\n",
      "\n",
      "openai 1\n",
      "\t 'babbage'\n",
      "\n",
      "-------------------------------------------------------------------------------\n",
      "\n",
      "openai 2\n",
      "\t 'curie'\n",
      "\n",
      "-------------------------------------------------------------------------------\n",
      "\n",
      "openai 3\n",
      "\t 'davinci'\n",
      "\n",
      "-------------------------------------------------------------------------------\n",
      "\n",
      "openai ada\n",
      "\t 'ada'\n",
      "\n",
      "-------------------------------------------------------------------------------\n",
      "\n",
      "openai babbage\n",
      "\t 'babbage'\n",
      "\n",
      "-------------------------------------------------------------------------------\n",
      "\n",
      "openai curie\n",
      "\t 'curie'\n",
      "\n",
      "-------------------------------------------------------------------------------\n",
      "\n",
      "openai davinci\n",
      "\t 'davinci'\n",
      "\n",
      "-------------------------------------------------------------------------------\n",
      "\n",
      "openai text-ada-001\n",
      "\t 'ada'\n",
      "\n",
      "-------------------------------------------------------------------------------\n",
      "\n",
      "openai text-babbage-001\n",
      "\t 'babbage'\n",
      "\n",
      "-------------------------------------------------------------------------------\n",
      "\n",
      "openai text-curie-001\n",
      "\t 'curie'\n",
      "\n",
      "-------------------------------------------------------------------------------\n",
      "\n",
      "openai text-davinci-002\n",
      "\t 'davinci'\n",
      "\n",
      "-------------------------------------------------------------------------------\n",
      "\n",
      "openai 9\n",
      "Received invalid engine value: 9. If engine is specified as an integer, it must lie in [0, 3].\n",
      "Inferred engine failed too. Received invalid engine value: 9. If engine is specified as an integer, it must lie in [0, 3].\n",
      "\n",
      "-------------------------------------------------------------------------------\n",
      "\n",
      "openai typo\n",
      "Engine \"typo\" does not contain any of the recognized openai bases ['ada', 'babbage', 'curie', 'davinci'].\n",
      "Inferred engine failed too. Engine \"typo\" does not contain any of the recognized openai bases ['ada', 'babbage', 'curie', 'davinci'].\n",
      "\n",
      "-------------------------------------------------------------------------------\n",
      "\n",
      "openai code-ada-001\n",
      "\t 'ada'\n",
      "\n",
      "-------------------------------------------------------------------------------\n",
      "\n"
     ]
    }
   ],
   "source": [
    "backend = 'openai'\n",
    "for engine in engine_inputs:\n",
    "    print(backend, engine)\n",
    "    try:\n",
    "        tmp = EngineMap.get(engine, backend, openai_base=True)\n",
    "        print('\\t', repr(tmp))\n",
    "    except Exception as e:\n",
    "        print(e)\n",
    "        try:\n",
    "            tmp = EngineMap.get(engine, backend, infer=True, openai_base=True)\n",
    "            print('\\tInferred: ', repr(tmp))\n",
    "        except Exception as e:\n",
    "            print('Inferred engine failed too. ' + str(e))\n",
    "    print(spacer())"
   ]
  },
  {
   "cell_type": "code",
   "execution_count": 399,
   "metadata": {
    "ExecuteTime": {
     "end_time": "2022-04-30T02:51:39.955264Z",
     "start_time": "2022-04-30T02:51:39.872310Z"
    }
   },
   "outputs": [
    {
     "data": {
      "text/plain": [
       "'davinci'"
      ]
     },
     "execution_count": 399,
     "metadata": {},
     "output_type": "execute_result"
    }
   ],
   "source": [
    "EngineMap._openai_base_engine('text-davinci-002')"
   ]
  },
  {
   "cell_type": "code",
   "execution_count": 409,
   "metadata": {
    "ExecuteTime": {
     "end_time": "2022-04-30T03:01:28.341154Z",
     "start_time": "2022-04-30T03:01:28.275870Z"
    }
   },
   "outputs": [
    {
     "data": {
      "text/plain": [
       "'davinci'"
      ]
     },
     "execution_count": 409,
     "metadata": {},
     "output_type": "execute_result"
    }
   ],
   "source": [
    "gpt.engine('text-davinci-002', backend='openai', openai_passthrough=False, basify=True)"
   ]
  },
  {
   "cell_type": "code",
   "execution_count": 404,
   "metadata": {
    "ExecuteTime": {
     "end_time": "2022-04-30T02:52:54.833615Z",
     "start_time": "2022-04-30T02:52:54.737453Z"
    }
   },
   "outputs": [
    {
     "data": {
      "text/plain": [
       "'gpt-neo-20b'"
      ]
     },
     "execution_count": 404,
     "metadata": {},
     "output_type": "execute_result"
    }
   ],
   "source": [
    "gpt.engine('text-davinci-002', backend='gooseai', openai_passthrough=False)"
   ]
  },
  {
   "cell_type": "code",
   "execution_count": 533,
   "metadata": {
    "ExecuteTime": {
     "end_time": "2022-04-30T03:48:55.188803Z",
     "start_time": "2022-04-30T03:48:55.082968Z"
    }
   },
   "outputs": [],
   "source": [
    "def estimate_cost(completion_length, prompt_length=None, prompt=None, \n",
    "                  engines=(0, 1, 2, 3), tokenizer=None):\n",
    "    # Pass in engines=None to get ALL possible engine prices.\n",
    "    xor_none(prompt_length, prompt)\n",
    "    xor_none(prompt_length, tokenizer)\n",
    "    \n",
    "    if engines:\n",
    "        engines = tolist(engines)\n",
    "        openai_names = [gpt.engine(engine, backend='openai', \n",
    "                                   openai_passthrough=False, basify=True)\n",
    "                       for engine in engines]\n",
    "        gooseai_names = [gpt.engine(engine, backend='gooseai', basify=True)\n",
    "                         for engine in engines]\n",
    "        \n",
    "    # Unlike gooseai, openai charges for both prompt and generation tokens.\n",
    "    # We convert their prices to cents per token.\n",
    "    # And/or support passing in engine_i int?\n",
    "    openai_prices = {\n",
    "        'ada': {'per': .0008 / 1_000},\n",
    "        'babbage': {'per': .0012 / 1_000},\n",
    "        'curie': {'per': .0060 / 1_000},\n",
    "        'davinci': {'per': .0600 / 1_000},\n",
    "    }\n",
    "    \n",
    "    # Gooseai base prices (in cents) cover the input and the first 25 tokens \n",
    "    # of the output. `Per` prices are cents per token.\n",
    "    gooseai_prices = {\n",
    "        'gpt-neo-20b': {'base': 0.002650, 'per': 0.000063},\n",
    "        'fairseq-13b': {'base': 0.001250, 'per': 0.000036},\n",
    "        'fairseq-6-7b': {'base': 0.000450, 'per': 0.000012},\n",
    "        'gpt-j-6b': {'base': 0.000450, 'per': 0.000012},\n",
    "        'gpt-neo-2-7b': {'base': 0.000300, 'per': 0.000008},\n",
    "        'fairseq-2-7b': {'base': 0.000300, 'per': 0.000008},\n",
    "        'gpt-neo-1-3b': {'base': 0.000110, 'per': 0.000003},\n",
    "        'fairseq-1-3b': {'base': 0.000110, 'per': 0.000003},\n",
    "        'gpt-neo-125m': {'base': 0.000035, 'per': 0.000001},\n",
    "        'fairseq-125m': {'base': 0.000035, 'per': 0.000001},\n",
    "    }\n",
    "\n",
    "    \n",
    "    prompt_length = prompt_length or len(tokenizer.tokenize(prompt))\n",
    "    if engines:\n",
    "        gooseai_prices = select(gooseai_prices, keep=gooseai_names)\n",
    "        openai_prices = select(openai_prices, keep=openai_names)\n",
    "    gooseai_resolved = [\n",
    "        ('gooseai', name, \n",
    "         prices['base'] + prices['per']*max(0, completion_length - 25))\n",
    "        for name, prices in gooseai_prices.items()\n",
    "    ]\n",
    "    openai_resolved = [\n",
    "        ('openai', name, prices['per'] * (prompt_length + completion_length))\n",
    "        for name, prices in openai_prices.items()\n",
    "    ]\n",
    "    # Prices are returned in cents.\n",
    "    df = pd.DataFrame(\n",
    "        gooseai_resolved + openai_resolved,\n",
    "        columns=['backend', 'engine', 'cost_cents']\n",
    "    ).sort_values('cost_cents', ascending=True).reset_index(drop=True)\n",
    "    return {**df.iloc[0].to_dict(),\n",
    "            'full': df}"
   ]
  },
  {
   "cell_type": "code",
   "execution_count": 534,
   "metadata": {
    "ExecuteTime": {
     "end_time": "2022-04-30T03:48:55.404150Z",
     "start_time": "2022-04-30T03:48:55.312530Z"
    }
   },
   "outputs": [
    {
     "name": "stdout",
     "output_type": "stream",
     "text": [
      "debate: Non-zero frequency penalty was initially included by accident, but in at least 1 test removing it noticeably worsened results.\n",
      "-------------------------------------------------------------------------------\n",
      "\n"
     ]
    },
    {
     "data": {
      "text/html": [
       "<div>\n",
       "<style scoped>\n",
       "    .dataframe tbody tr th:only-of-type {\n",
       "        vertical-align: middle;\n",
       "    }\n",
       "\n",
       "    .dataframe tbody tr th {\n",
       "        vertical-align: top;\n",
       "    }\n",
       "\n",
       "    .dataframe thead th {\n",
       "        text-align: right;\n",
       "    }\n",
       "</style>\n",
       "<table border=\"1\" class=\"dataframe\">\n",
       "  <thead>\n",
       "    <tr style=\"text-align: right;\">\n",
       "      <th></th>\n",
       "      <th>backend</th>\n",
       "      <th>engine</th>\n",
       "      <th>cost_cents</th>\n",
       "    </tr>\n",
       "  </thead>\n",
       "  <tbody>\n",
       "    <tr>\n",
       "      <th>0</th>\n",
       "      <td>openai</td>\n",
       "      <td>ada</td>\n",
       "      <td>0.000707</td>\n",
       "    </tr>\n",
       "    <tr>\n",
       "      <th>1</th>\n",
       "      <td>openai</td>\n",
       "      <td>babbage</td>\n",
       "      <td>0.001061</td>\n",
       "    </tr>\n",
       "    <tr>\n",
       "      <th>2</th>\n",
       "      <td>gooseai</td>\n",
       "      <td>gpt-neo-2-7b</td>\n",
       "      <td>0.002500</td>\n",
       "    </tr>\n",
       "    <tr>\n",
       "      <th>3</th>\n",
       "      <td>gooseai</td>\n",
       "      <td>gpt-j-6b</td>\n",
       "      <td>0.003750</td>\n",
       "    </tr>\n",
       "    <tr>\n",
       "      <th>4</th>\n",
       "      <td>openai</td>\n",
       "      <td>curie</td>\n",
       "      <td>0.005304</td>\n",
       "    </tr>\n",
       "    <tr>\n",
       "      <th>5</th>\n",
       "      <td>gooseai</td>\n",
       "      <td>fairseq-13b</td>\n",
       "      <td>0.011150</td>\n",
       "    </tr>\n",
       "    <tr>\n",
       "      <th>6</th>\n",
       "      <td>gooseai</td>\n",
       "      <td>gpt-neo-20b</td>\n",
       "      <td>0.019975</td>\n",
       "    </tr>\n",
       "    <tr>\n",
       "      <th>7</th>\n",
       "      <td>openai</td>\n",
       "      <td>davinci</td>\n",
       "      <td>0.053040</td>\n",
       "    </tr>\n",
       "  </tbody>\n",
       "</table>\n",
       "</div>"
      ],
      "text/plain": [
       "   backend        engine  cost_cents\n",
       "0   openai           ada    0.000707\n",
       "1   openai       babbage    0.001061\n",
       "2  gooseai  gpt-neo-2-7b    0.002500\n",
       "3  gooseai      gpt-j-6b    0.003750\n",
       "4   openai         curie    0.005304\n",
       "5  gooseai   fairseq-13b    0.011150\n",
       "6  gooseai   gpt-neo-20b    0.019975\n",
       "7   openai       davinci    0.053040"
      ]
     },
     "metadata": {},
     "output_type": "display_data"
    },
    {
     "data": {
      "text/plain": [
       "{'backend': 'openai', 'engine': 'ada', 'cost_cents': 0.0007072000000000001}"
      ]
     },
     "execution_count": 534,
     "metadata": {},
     "output_type": "execute_result"
    }
   ],
   "source": [
    "prompt = load_prompt('debate', 'A hot dog is a sandwich.')['prompt']\n",
    "cost_res = estimate_cost(completion_length=300, prompt=prompt, \n",
    "                         tokenizer=tokenizer)\n",
    "cost_res.pop('full').pprint()\n",
    "cost_res"
   ]
  },
  {
   "cell_type": "code",
   "execution_count": 535,
   "metadata": {
    "ExecuteTime": {
     "end_time": "2022-04-30T03:49:08.041452Z",
     "start_time": "2022-04-30T03:49:07.973848Z"
    }
   },
   "outputs": [],
   "source": [
    "prompt_lengths = np.arange(1, 2048, 10)\n",
    "completion_lengths = np.arange(1, 2048, 10)"
   ]
  },
  {
   "cell_type": "code",
   "execution_count": 536,
   "metadata": {
    "ExecuteTime": {
     "end_time": "2022-04-30T03:49:30.499595Z",
     "start_time": "2022-04-30T03:49:08.335784Z"
    }
   },
   "outputs": [
    {
     "data": {
      "application/vnd.jupyter.widget-view+json": {
       "model_id": "62ab5497d8ee437b833ae33b6ccdf7e2",
       "version_major": 2,
       "version_minor": 0
      },
      "text/plain": [
       "  0%|          | 0/42025 [00:00<?, ?it/s]"
      ]
     },
     "metadata": {},
     "output_type": "display_data"
    }
   ],
   "source": [
    "cost_res = {\n",
    "    (p_len, c_len): estimate_cost(c_len, prompt_length=p_len)\n",
    "    for p_len, c_len in \n",
    "    tqdm(product(prompt_lengths, completion_lengths), \n",
    "         total=len(prompt_lengths) * len(completion_lengths))\n",
    "    if p_len + c_len <= 2_048\n",
    "}"
   ]
  },
  {
   "cell_type": "code",
   "execution_count": 537,
   "metadata": {
    "ExecuteTime": {
     "end_time": "2022-04-30T03:49:32.584188Z",
     "start_time": "2022-04-30T03:49:32.510004Z"
    }
   },
   "outputs": [
    {
     "data": {
      "text/plain": [
       "21115"
      ]
     },
     "execution_count": 537,
     "metadata": {},
     "output_type": "execute_result"
    }
   ],
   "source": [
    "len(cost_res)"
   ]
  },
  {
   "cell_type": "code",
   "execution_count": 538,
   "metadata": {
    "ExecuteTime": {
     "end_time": "2022-04-30T03:50:03.569831Z",
     "start_time": "2022-04-30T03:49:33.373627Z"
    }
   },
   "outputs": [
    {
     "data": {
      "application/vnd.jupyter.widget-view+json": {
       "model_id": "db32e9c452244638bc74a00157c4acd7",
       "version_major": 2,
       "version_minor": 0
      },
      "text/plain": [
       "  0%|          | 0/21115 [00:00<?, ?it/s]"
      ]
     },
     "metadata": {},
     "output_type": "display_data"
    }
   ],
   "source": [
    "df_cost = pd.concat(\n",
    "    [res['full'].assign(p_len=p, c_len=c,\n",
    "                        ranking=lambda x: x.index.values,\n",
    "                        i=i) \n",
    "     for i, ((p, c), res) in enumerate(tqdm(cost_res.items()))],\n",
    "    axis=0\n",
    ").reset_index(drop=True)"
   ]
  },
  {
   "cell_type": "code",
   "execution_count": 539,
   "metadata": {
    "ExecuteTime": {
     "end_time": "2022-04-30T03:50:03.732266Z",
     "start_time": "2022-04-30T03:50:03.572099Z"
    }
   },
   "outputs": [
    {
     "data": {
      "text/html": [
       "<style type=\"text/css\">\n",
       "#T_02de1_row0_col1, #T_02de1_row1_col1, #T_02de1_row2_col0, #T_02de1_row3_col0, #T_02de1_row4_col0, #T_02de1_row5_col0, #T_02de1_row6_col0, #T_02de1_row7_col1 {\n",
       "  background-color: yellow;\n",
       "}\n",
       "</style>\n",
       "<table id=\"T_02de1_\">\n",
       "  <thead>\n",
       "    <tr>\n",
       "      <th class=\"index_name level0\" >backend</th>\n",
       "      <th class=\"col_heading level0 col0\" >gooseai</th>\n",
       "      <th class=\"col_heading level0 col1\" >openai</th>\n",
       "    </tr>\n",
       "    <tr>\n",
       "      <th class=\"index_name level0\" >ranking</th>\n",
       "      <th class=\"blank col0\" >&nbsp;</th>\n",
       "      <th class=\"blank col1\" >&nbsp;</th>\n",
       "    </tr>\n",
       "  </thead>\n",
       "  <tbody>\n",
       "    <tr>\n",
       "      <th id=\"T_02de1_level0_row0\" class=\"row_heading level0 row0\" >0</th>\n",
       "      <td id=\"T_02de1_row0_col0\" class=\"data row0 col0\" >0.088942</td>\n",
       "      <td id=\"T_02de1_row0_col1\" class=\"data row0 col1\" >0.911058</td>\n",
       "    </tr>\n",
       "    <tr>\n",
       "      <th id=\"T_02de1_level0_row1\" class=\"row_heading level0 row1\" >1</th>\n",
       "      <td id=\"T_02de1_row1_col0\" class=\"data row1 col0\" >0.105328</td>\n",
       "      <td id=\"T_02de1_row1_col1\" class=\"data row1 col1\" >0.894672</td>\n",
       "    </tr>\n",
       "    <tr>\n",
       "      <th id=\"T_02de1_level0_row2\" class=\"row_heading level0 row2\" >2</th>\n",
       "      <td id=\"T_02de1_row2_col0\" class=\"data row2 col0\" >0.638930</td>\n",
       "      <td id=\"T_02de1_row2_col1\" class=\"data row2 col1\" >0.361070</td>\n",
       "    </tr>\n",
       "    <tr>\n",
       "      <th id=\"T_02de1_level0_row3\" class=\"row_heading level0 row3\" >3</th>\n",
       "      <td id=\"T_02de1_row3_col0\" class=\"data row3 col0\" >0.676107</td>\n",
       "      <td id=\"T_02de1_row3_col1\" class=\"data row3 col1\" >0.323893</td>\n",
       "    </tr>\n",
       "    <tr>\n",
       "      <th id=\"T_02de1_level0_row4\" class=\"row_heading level0 row4\" >4</th>\n",
       "      <td id=\"T_02de1_row4_col0\" class=\"data row4 col0\" >0.648923</td>\n",
       "      <td id=\"T_02de1_row4_col1\" class=\"data row4 col1\" >0.351077</td>\n",
       "    </tr>\n",
       "    <tr>\n",
       "      <th id=\"T_02de1_level0_row5\" class=\"row_heading level0 row5\" >5</th>\n",
       "      <td id=\"T_02de1_row5_col0\" class=\"data row5 col0\" >0.921857</td>\n",
       "      <td id=\"T_02de1_row5_col1\" class=\"data row5 col1\" >0.078143</td>\n",
       "    </tr>\n",
       "    <tr>\n",
       "      <th id=\"T_02de1_level0_row6\" class=\"row_heading level0 row6\" >6</th>\n",
       "      <td id=\"T_02de1_row6_col0\" class=\"data row6 col0\" >0.852190</td>\n",
       "      <td id=\"T_02de1_row6_col1\" class=\"data row6 col1\" >0.147810</td>\n",
       "    </tr>\n",
       "    <tr>\n",
       "      <th id=\"T_02de1_level0_row7\" class=\"row_heading level0 row7\" >7</th>\n",
       "      <td id=\"T_02de1_row7_col0\" class=\"data row7 col0\" >0.067724</td>\n",
       "      <td id=\"T_02de1_row7_col1\" class=\"data row7 col1\" >0.932276</td>\n",
       "    </tr>\n",
       "  </tbody>\n",
       "</table>\n"
      ],
      "text/plain": [
       "<pandas.io.formats.style.Styler at 0x19bec7080>"
      ]
     },
     "execution_count": 539,
     "metadata": {},
     "output_type": "execute_result"
    }
   ],
   "source": [
    "pd.crosstab(df_cost.ranking, df_cost.backend, normalize='index')\\\n",
    "    .style.highlight_max(axis=1)"
   ]
  },
  {
   "cell_type": "markdown",
   "metadata": {},
   "source": [
    "This generally makes sense - gooseai's pricing scheme is preferable when we have a long prompt with a short completion."
   ]
  },
  {
   "cell_type": "code",
   "execution_count": 542,
   "metadata": {
    "ExecuteTime": {
     "end_time": "2022-04-30T03:51:18.895868Z",
     "start_time": "2022-04-30T03:51:16.618010Z"
    }
   },
   "outputs": [
    {
     "data": {
      "image/png": "[encoded data removed]",
      "text/plain": [
       "<Figure size 640x480 with 1 Axes>"
      ]
     },
     "metadata": {},
     "output_type": "display_data"
    }
   ],
   "source": [
    "k = 2\n",
    "sns.kdeplot(\n",
    "    df_cost.loc[\n",
    "        (df_cost.backend == 'gooseai') & (df_cost.ranking < k),\n",
    "        ['p_len', 'c_len']\n",
    "    ],\n",
    "    shade=True\n",
    ")\n",
    "plt.xlabel('Prompt Length')\n",
    "plt.ylabel('Completion Length')\n",
    "plt.title(f'Cases Where Goosai Provides One of the {k} Cheapest Options')\n",
    "plt.show()"
   ]
  },
  {
   "cell_type": "code",
   "execution_count": 677,
   "metadata": {
    "ExecuteTime": {
     "end_time": "2022-04-30T04:54:35.975489Z",
     "start_time": "2022-04-30T04:54:35.891274Z"
    }
   },
   "outputs": [],
   "source": [
    "def iter_engine_names(*args, **kwargs):\n",
    "    for i in range(4):\n",
    "        yield tuple(gpt.engine(i, backend=arg, **kwargs) for arg in args)"
   ]
  },
  {
   "cell_type": "code",
   "execution_count": 682,
   "metadata": {
    "ExecuteTime": {
     "end_time": "2022-04-30T04:55:39.514633Z",
     "start_time": "2022-04-30T04:55:39.429522Z"
    }
   },
   "outputs": [],
   "source": [
    "def iter_paid_engines(basify=True):\n",
    "    yield from iter_engine_names('openai', 'gooseai', basify=basify)"
   ]
  },
  {
   "cell_type": "code",
   "execution_count": 684,
   "metadata": {
    "ExecuteTime": {
     "end_time": "2022-04-30T04:55:46.579317Z",
     "start_time": "2022-04-30T04:55:46.454244Z"
    }
   },
   "outputs": [
    {
     "name": "stdout",
     "output_type": "stream",
     "text": [
      "text-ada-001 gpt-neo-2-7b\n",
      "text-babbage-001 gpt-j-6b\n",
      "text-curie-001 fairseq-13b\n",
      "text-davinci-002 gpt-neo-20b\n"
     ]
    }
   ],
   "source": [
    "for a, b in iter_paid_engines(False):\n",
    "    print(a, b)"
   ]
  },
  {
   "cell_type": "code",
   "execution_count": 678,
   "metadata": {
    "ExecuteTime": {
     "end_time": "2022-04-30T04:54:40.369273Z",
     "start_time": "2022-04-30T04:54:40.291304Z"
    }
   },
   "outputs": [
    {
     "data": {
      "text/plain": [
       "[('ada', 'gpt-neo-2.7B', 'gpt-neo-2-7b'),\n",
       " ('babbage', 'gpt-j-6B', 'gpt-j-6b'),\n",
       " ('curie', 'gpt-j-6B', 'fairseq-13b'),\n",
       " ('davinci', 'gpt-j-6B', 'gpt-neo-20b')]"
      ]
     },
     "execution_count": 678,
     "metadata": {},
     "output_type": "execute_result"
    }
   ],
   "source": [
    "list(iter_engine_names('openai', 'huggingface', 'gooseai', basify=True))"
   ]
  },
  {
   "cell_type": "code",
   "execution_count": 635,
   "metadata": {
    "ExecuteTime": {
     "end_time": "2022-04-30T04:30:54.864004Z",
     "start_time": "2022-04-30T04:30:54.759644Z"
    }
   },
   "outputs": [],
   "source": [
    "def engine_heatmap(*engines):\n",
    "    fig, ax = plt.subplots(1, len(engines), figsize=(12, 6))\n",
    "    if listlike(ax): \n",
    "        ax = ax.flatten()\n",
    "    else:\n",
    "        ax = [ax]\n",
    "        \n",
    "    eng2costs = {}\n",
    "    for engine, axi in zip(engines, ax):\n",
    "        chunk = df_cost[df_cost.engine == engine]\n",
    "        costs = np.zeros((chunk.p_len.max(), chunk.c_len.max()))\n",
    "        eng2costs[engine] = costs\n",
    "        for i, row in tqdm(chunk.iterrows(), total=chunk.shape[0]):\n",
    "            costs[row.p_len - 1, row.c_len - 1] = row.cost_cents\n",
    "\n",
    "        g = axi.contourf(np.arange(chunk.p_len.max()),\n",
    "                         np.arange(chunk.c_len.max()), \n",
    "                         costs)\n",
    "        axi.set_xlabel('Completion Length')\n",
    "        axi.set_ylabel('Prompt Length')\n",
    "        axi.set_title(f'{engine} Cost')\n",
    "        fig.colorbar(g, ax=axi)\n",
    "    plt.show()\n",
    "    return eng2costs"
   ]
  },
  {
   "cell_type": "code",
   "execution_count": 670,
   "metadata": {
    "ExecuteTime": {
     "end_time": "2022-04-30T04:48:58.551778Z",
     "start_time": "2022-04-30T04:48:58.396303Z"
    }
   },
   "outputs": [],
   "source": [
    "def diff_histogram(openai_name, gooseai_name):\n",
    "    diffs = (eng2costs[openai_name] - eng2costs[gooseai_name]).flatten()\n",
    "    diffs = diffs[diffs != 0]\n",
    "    pct_openai_more_expensive = (diffs > 0).mean()\n",
    "    avg_diff = diffs.mean()\n",
    "    print(f'Openai more expensive: {pct_openai_more_expensive:.2%}')\n",
    "    print(f'Avg diff (openai - gooseai): {avg_diff:.3f}')\n",
    "    plt.hist(diffs)\n",
    "    plt.title(f'{openai_name} - {gooseai_name}')\n",
    "    plt.show()"
   ]
  },
  {
   "cell_type": "code",
   "execution_count": 666,
   "metadata": {
    "ExecuteTime": {
     "end_time": "2022-04-30T04:45:05.558113Z",
     "start_time": "2022-04-30T04:44:38.644594Z"
    },
    "scrolled": true
   },
   "outputs": [
    {
     "data": {
      "application/vnd.jupyter.widget-view+json": {
       "model_id": "c7644b63db6446f6837761127f6558de",
       "version_major": 2,
       "version_minor": 0
      },
      "text/plain": [
       "  0%|          | 0/21115 [00:00<?, ?it/s]"
      ]
     },
     "metadata": {},
     "output_type": "display_data"
    },
    {
     "data": {
      "application/vnd.jupyter.widget-view+json": {
       "model_id": "e101542f100f44df9558c3c06c1231c1",
       "version_major": 2,
       "version_minor": 0
      },
      "text/plain": [
       "  0%|          | 0/21115 [00:00<?, ?it/s]"
      ]
     },
     "metadata": {},
     "output_type": "display_data"
    },
    {
     "data": {
      "image/png": "[encoded data removed]",
      "text/plain": [
       "<Figure size 1200x600 with 4 Axes>"
      ]
     },
     "metadata": {},
     "output_type": "display_data"
    },
    {
     "data": {
      "application/vnd.jupyter.widget-view+json": {
       "model_id": "76b29f9447a843918b683aa4ea8829d0",
       "version_major": 2,
       "version_minor": 0
      },
      "text/plain": [
       "  0%|          | 0/21115 [00:00<?, ?it/s]"
      ]
     },
     "metadata": {},
     "output_type": "display_data"
    },
    {
     "data": {
      "application/vnd.jupyter.widget-view+json": {
       "model_id": "d3ee0b3a7fd74be09426434d32e5483c",
       "version_major": 2,
       "version_minor": 0
      },
      "text/plain": [
       "  0%|          | 0/21115 [00:00<?, ?it/s]"
      ]
     },
     "metadata": {},
     "output_type": "display_data"
    },
    {
     "data": {
      "image/png": "[encoded data removed]",
      "text/plain": [
       "<Figure size 1200x600 with 4 Axes>"
      ]
     },
     "metadata": {},
     "output_type": "display_data"
    },
    {
     "data": {
      "application/vnd.jupyter.widget-view+json": {
       "model_id": "a380f289e34e4946829f125d01d4f849",
       "version_major": 2,
       "version_minor": 0
      },
      "text/plain": [
       "  0%|          | 0/21115 [00:00<?, ?it/s]"
      ]
     },
     "metadata": {},
     "output_type": "display_data"
    },
    {
     "data": {
      "application/vnd.jupyter.widget-view+json": {
       "model_id": "ff20c53359264e2b89522f55ae5ce977",
       "version_major": 2,
       "version_minor": 0
      },
      "text/plain": [
       "  0%|          | 0/21115 [00:00<?, ?it/s]"
      ]
     },
     "metadata": {},
     "output_type": "display_data"
    },
    {
     "data": {
      "image/png": "[encoded data removed]",
      "text/plain": [
       "<Figure size 1200x600 with 4 Axes>"
      ]
     },
     "metadata": {},
     "output_type": "display_data"
    },
    {
     "data": {
      "application/vnd.jupyter.widget-view+json": {
       "model_id": "b465e0f96d2a42599401cb431a1b4011",
       "version_major": 2,
       "version_minor": 0
      },
      "text/plain": [
       "  0%|          | 0/21115 [00:00<?, ?it/s]"
      ]
     },
     "metadata": {},
     "output_type": "display_data"
    },
    {
     "data": {
      "application/vnd.jupyter.widget-view+json": {
       "model_id": "7b3aa606c06448e5a3790b8e11a76eaa",
       "version_major": 2,
       "version_minor": 0
      },
      "text/plain": [
       "  0%|          | 0/21115 [00:00<?, ?it/s]"
      ]
     },
     "metadata": {},
     "output_type": "display_data"
    },
    {
     "data": {
      "image/png": "[encoded data removed]",
      "text/plain": [
       "<Figure size 1200x600 with 4 Axes>"
      ]
     },
     "metadata": {},
     "output_type": "display_data"
    }
   ],
   "source": [
    "eng2costs = {}\n",
    "for openai_name, gooseai_name in iter_paid_engines():\n",
    "    tmp = engine_heatmap(openai_name, gooseai_name)\n",
    "    eng2costs.update(tmp)"
   ]
  },
  {
   "cell_type": "code",
   "execution_count": 671,
   "metadata": {
    "ExecuteTime": {
     "end_time": "2022-04-30T04:49:00.975661Z",
     "start_time": "2022-04-30T04:49:00.223269Z"
    }
   },
   "outputs": [
    {
     "name": "stdout",
     "output_type": "stream",
     "text": [
      "Openai more expensive: 8.89%\n",
      "Avg diff (openai - gooseai): -0.004\n"
     ]
    },
    {
     "data": {
      "image/png": "[encoded data removed]",
      "text/plain": [
       "<Figure size 640x480 with 1 Axes>"
      ]
     },
     "metadata": {},
     "output_type": "display_data"
    },
    {
     "name": "stdout",
     "output_type": "stream",
     "text": [
      "Openai more expensive: 8.89%\n",
      "Avg diff (openai - gooseai): -0.007\n"
     ]
    },
    {
     "data": {
      "image/png": "[encoded data removed]",
      "text/plain": [
       "<Figure size 640x480 with 1 Axes>"
      ]
     },
     "metadata": {},
     "output_type": "display_data"
    },
    {
     "name": "stdout",
     "output_type": "stream",
     "text": [
      "Openai more expensive: 15.83%\n",
      "Avg diff (openai - gooseai): -0.017\n"
     ]
    },
    {
     "data": {
      "image/png": "[encoded data removed]",
      "text/plain": [
       "<Figure size 640x480 with 1 Axes>"
      ]
     },
     "metadata": {},
     "output_type": "display_data"
    },
    {
     "name": "stdout",
     "output_type": "stream",
     "text": [
      "Openai more expensive: 93.23%\n",
      "Avg diff (openai - gooseai): 0.038\n"
     ]
    },
    {
     "data": {
      "image/png": "[encoded data removed]",
      "text/plain": [
       "<Figure size 640x480 with 1 Axes>"
      ]
     },
     "metadata": {},
     "output_type": "display_data"
    }
   ],
   "source": [
    "for openai_name, gooseai_name in iter_paid_engines():\n",
    "    diff_histogram(openai_name, gooseai_name)"
   ]
  },
  {
   "cell_type": "markdown",
   "metadata": {},
   "source": [
    "Gooseai's davinci equivalent wins out more often but openai's cheaper models usually win. But it's very length dependent - a lot of openai's \"wins\" are probably when prompts are very long. Could probably find a better way to visualize this. Regardless, I think that basic bit of intuition is enough for now, and aside from that we can probably implement an auto-backend selector."
   ]
  }
 ],
 "metadata": {
  "kernelspec": {
   "display_name": "Python 3",
   "language": "python",
   "name": "python3"
  },
  "language_info": {
   "codemirror_mode": {
    "name": "ipython",
    "version": 3
   },
   "file_extension": ".py",
   "mimetype": "text/x-python",
   "name": "python",
   "nbconvert_exporter": "python",
   "pygments_lexer": "ipython3",
   "version": "3.7.3"
  }
 },
 "nbformat": 4,
 "nbformat_minor": 2
}
