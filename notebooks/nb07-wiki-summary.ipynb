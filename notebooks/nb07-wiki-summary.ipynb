{
 "cells": [
  {
   "cell_type": "markdown",
   "metadata": {},
   "source": [
    "# Summary\n",
    "\n",
    "Make wiki_summary function more capable of handling missing or ambiguous cases. Also see if image retrieval is easy/possible."
   ]
  },
  {
   "cell_type": "code",
   "execution_count": 1,
   "metadata": {
    "ExecuteTime": {
     "end_time": "2021-06-08T02:49:44.985137Z",
     "start_time": "2021-06-08T02:49:44.970361Z"
    }
   },
   "outputs": [
    {
     "name": "stdout",
     "output_type": "stream",
     "text": [
      "The autoreload extension is already loaded. To reload it, use:\n",
      "  %reload_ext autoreload\n"
     ]
    }
   ],
   "source": [
    "%load_ext autoreload\n",
    "%autoreload 2"
   ]
  },
  {
   "cell_type": "code",
   "execution_count": 125,
   "metadata": {
    "ExecuteTime": {
     "end_time": "2021-06-08T03:31:07.197831Z",
     "start_time": "2021-06-08T03:31:07.031275Z"
    }
   },
   "outputs": [],
   "source": [
    "from bs4 import BeautifulSoup as BS\n",
    "import matplotlib.pyplot as plt\n",
    "import numpy as np\n",
    "import os\n",
    "import pandas as pd\n",
    "from pathlib import Path\n",
    "import re\n",
    "import requests\n",
    "from tldextract import extract\n",
    "import wikipedia as wiki\n",
    "\n",
    "from jabberwocky.config import C\n",
    "from jabberwocky.openai_utils import load_prompt, load_openai_api_key\n",
    "from jabberwocky.external_data import W\n",
    "from htools import *"
   ]
  },
  {
   "cell_type": "code",
   "execution_count": 3,
   "metadata": {
    "ExecuteTime": {
     "end_time": "2021-06-08T02:49:50.169694Z",
     "start_time": "2021-06-08T02:49:50.080782Z"
    }
   },
   "outputs": [
    {
     "name": "stdout",
     "output_type": "stream",
     "text": [
      "Current directory: /Users/hmamin/jabberwocky\n"
     ]
    }
   ],
   "source": [
    "cd_root()"
   ]
  },
  {
   "cell_type": "code",
   "execution_count": 134,
   "metadata": {
    "ExecuteTime": {
     "end_time": "2021-06-08T03:33:51.784895Z",
     "start_time": "2021-06-08T03:33:51.729184Z"
    }
   },
   "outputs": [],
   "source": [
    "def _wiki_search(name, *tags):\n",
    "    terms = ['wikipedia'] + name.split() + list(tags)\n",
    "    r = requests.get(f'http://www.google.com/search?q={\"+\".join(terms)}')\n",
    "    links = BS(r.text, 'lxml').find_all('a')\n",
    "    return [link.replace('/url?q=', '')\n",
    "            for link in map(lambda x: x['href'], links) \n",
    "            if link.startswith('/url?q=')]"
   ]
  },
  {
   "cell_type": "code",
   "execution_count": 15,
   "metadata": {
    "ExecuteTime": {
     "end_time": "2021-06-08T02:55:51.003029Z",
     "start_time": "2021-06-08T02:55:50.954777Z"
    }
   },
   "outputs": [],
   "source": [
    "def wiki_summary(name, *tags):\n",
    "    page = W.page(name.title().replace(' ', '_'))\n",
    "    if not page.exists():\n",
    "        raise RuntimeError('Wikipedia page not found. Provide a URL instead.')\n",
    "    summary = page.summary.splitlines()[0]\n",
    "    if summary.endswith('may refer to:'):\n",
    "        raise RuntimeError('Ambiguous search term. Provide a URL instead.')\n",
    "    return summary"
   ]
  },
  {
   "cell_type": "code",
   "execution_count": 9,
   "metadata": {
    "ExecuteTime": {
     "end_time": "2021-06-08T02:52:36.505146Z",
     "start_time": "2021-06-08T02:52:32.483734Z"
    }
   },
   "outputs": [
    {
     "data": {
      "text/plain": [
       "'Joanne Rowling  ( ROH-ling; born 31 July 1965), better known by her pen name J. K. Rowling, is a British author, philanthropist, film producer, television producer, and screenwriter. She is best known for writing the Harry Potter fantasy series, which has won multiple awards and sold more than 500 million copies, becoming the best-selling book series in history. The books are the basis of a popular film series, over which Rowling had overall approval on the scripts and was a producer on the final films. She also writes crime fiction under the pen name Robert Galbraith.'"
      ]
     },
     "execution_count": 9,
     "metadata": {},
     "output_type": "execute_result"
    }
   ],
   "source": [
    "wiki_summary('j.k. rowling')"
   ]
  },
  {
   "cell_type": "code",
   "execution_count": 31,
   "metadata": {
    "ExecuteTime": {
     "end_time": "2021-06-08T02:59:35.157309Z",
     "start_time": "2021-06-08T02:59:34.892045Z"
    }
   },
   "outputs": [
    {
     "ename": "RuntimeError",
     "evalue": "Wikipedia page not found. Provide a URL instead.",
     "output_type": "error",
     "traceback": [
      "\u001b[0;31m---------------------------------------------------------------------------\u001b[0m",
      "\u001b[0;31mRuntimeError\u001b[0m                              Traceback (most recent call last)",
      "\u001b[0;32m<ipython-input-31-7fdc3e69d1b4>\u001b[0m in \u001b[0;36m<module>\u001b[0;34m()\u001b[0m\n\u001b[0;32m----> 1\u001b[0;31m \u001b[0mwiki_summary\u001b[0m\u001b[0;34m(\u001b[0m\u001b[0;34m'jk rowling'\u001b[0m\u001b[0;34m)\u001b[0m\u001b[0;34m\u001b[0m\u001b[0;34m\u001b[0m\u001b[0m\n\u001b[0m",
      "\u001b[0;32m<ipython-input-15-311497f90085>\u001b[0m in \u001b[0;36mwiki_summary\u001b[0;34m(name, *tags)\u001b[0m\n\u001b[1;32m      2\u001b[0m     \u001b[0mpage\u001b[0m \u001b[0;34m=\u001b[0m \u001b[0mW\u001b[0m\u001b[0;34m.\u001b[0m\u001b[0mpage\u001b[0m\u001b[0;34m(\u001b[0m\u001b[0mname\u001b[0m\u001b[0;34m.\u001b[0m\u001b[0mtitle\u001b[0m\u001b[0;34m(\u001b[0m\u001b[0;34m)\u001b[0m\u001b[0;34m.\u001b[0m\u001b[0mreplace\u001b[0m\u001b[0;34m(\u001b[0m\u001b[0;34m' '\u001b[0m\u001b[0;34m,\u001b[0m \u001b[0;34m'_'\u001b[0m\u001b[0;34m)\u001b[0m\u001b[0;34m)\u001b[0m\u001b[0;34m\u001b[0m\u001b[0;34m\u001b[0m\u001b[0m\n\u001b[1;32m      3\u001b[0m     \u001b[0;32mif\u001b[0m \u001b[0;32mnot\u001b[0m \u001b[0mpage\u001b[0m\u001b[0;34m.\u001b[0m\u001b[0mexists\u001b[0m\u001b[0;34m(\u001b[0m\u001b[0;34m)\u001b[0m\u001b[0;34m:\u001b[0m\u001b[0;34m\u001b[0m\u001b[0;34m\u001b[0m\u001b[0m\n\u001b[0;32m----> 4\u001b[0;31m         \u001b[0;32mraise\u001b[0m \u001b[0mRuntimeError\u001b[0m\u001b[0;34m(\u001b[0m\u001b[0;34m'Wikipedia page not found. Provide a URL instead.'\u001b[0m\u001b[0;34m)\u001b[0m\u001b[0;34m\u001b[0m\u001b[0;34m\u001b[0m\u001b[0m\n\u001b[0m\u001b[1;32m      5\u001b[0m     \u001b[0msummary\u001b[0m \u001b[0;34m=\u001b[0m \u001b[0mpage\u001b[0m\u001b[0;34m.\u001b[0m\u001b[0msummary\u001b[0m\u001b[0;34m.\u001b[0m\u001b[0msplitlines\u001b[0m\u001b[0;34m(\u001b[0m\u001b[0;34m)\u001b[0m\u001b[0;34m[\u001b[0m\u001b[0;36m0\u001b[0m\u001b[0;34m]\u001b[0m\u001b[0;34m\u001b[0m\u001b[0;34m\u001b[0m\u001b[0m\n\u001b[1;32m      6\u001b[0m     \u001b[0;32mif\u001b[0m \u001b[0msummary\u001b[0m\u001b[0;34m.\u001b[0m\u001b[0mendswith\u001b[0m\u001b[0;34m(\u001b[0m\u001b[0;34m'may refer to:'\u001b[0m\u001b[0;34m)\u001b[0m\u001b[0;34m:\u001b[0m\u001b[0;34m\u001b[0m\u001b[0;34m\u001b[0m\u001b[0m\n",
      "\u001b[0;31mRuntimeError\u001b[0m: Wikipedia page not found. Provide a URL instead."
     ]
    }
   ],
   "source": [
    "wiki_summary('jk rowling')"
   ]
  },
  {
   "cell_type": "code",
   "execution_count": 13,
   "metadata": {
    "ExecuteTime": {
     "end_time": "2021-06-08T02:53:27.499104Z",
     "start_time": "2021-06-08T02:53:27.043416Z"
    }
   },
   "outputs": [
    {
     "data": {
      "text/plain": [
       "'Christopher Lee (1922–2015) was an English actor and singer.'"
      ]
     },
     "execution_count": 13,
     "metadata": {},
     "output_type": "execute_result"
    }
   ],
   "source": [
    "wiki_summary('chris lee')"
   ]
  },
  {
   "cell_type": "code",
   "execution_count": 57,
   "metadata": {
    "ExecuteTime": {
     "end_time": "2021-06-08T03:06:06.315263Z",
     "start_time": "2021-06-08T03:06:05.744053Z"
    }
   },
   "outputs": [],
   "source": [
    "r = _wiki_search('chris lee', 'politician')"
   ]
  },
  {
   "cell_type": "code",
   "execution_count": 59,
   "metadata": {
    "ExecuteTime": {
     "end_time": "2021-06-08T03:06:13.989637Z",
     "start_time": "2021-06-08T03:06:13.939565Z"
    }
   },
   "outputs": [
    {
     "name": "stdout",
     "output_type": "stream",
     "text": [
      " 0: /url?q=https://en.wikipedia.org/wiki/Chris_Lee_(New_York_politician)&sa=U&ved=2ahUKEwibvu6Ch4fxAhX1IDQIHXM-AQgQFjAAegQIBBAB&usg=AOvVaw3enElqWa8R0y2pOkEEO5tz\n",
      " 1: /url?q=https://en.wikipedia.org/wiki/Chris_Lee_(New_York_politician)%23Biography&sa=U&ved=2ahUKEwibvu6Ch4fxAhX1IDQIHXM-AQgQ0gIwAHoECAQQAg&usg=AOvVaw12Agt6zY_XL1Xa9tjlYGzz\n",
      " 2: /url?q=https://en.wikipedia.org/wiki/Chris_Lee_(New_York_politician)%23Political_campaigns&sa=U&ved=2ahUKEwibvu6Ch4fxAhX1IDQIHXM-AQgQ0gIwAHoECAQQAw&usg=AOvVaw1ZKZmRVWBsqKA8zcN8V8H-\n",
      " 3: /url?q=https://en.wikipedia.org/wiki/Chris_Lee_(New_York_politician)%23U.S._House_of_Representatives&sa=U&ved=2ahUKEwibvu6Ch4fxAhX1IDQIHXM-AQgQ0gIwAHoECAQQBA&usg=AOvVaw1pKb3uxYvCyhZLp3jc0lCe\n",
      " 4: /url?q=https://en.wikipedia.org/wiki/Chris_Lee_(New_York_politician)%23First_term&sa=U&ved=2ahUKEwibvu6Ch4fxAhX1IDQIHXM-AQgQ0gIwAHoECAQQBQ&usg=AOvVaw0Zu3oRyNvkz5EArWYoddOE\n"
     ]
    }
   ],
   "source": [
    "eprint(r[:5])"
   ]
  },
  {
   "cell_type": "code",
   "execution_count": 66,
   "metadata": {
    "ExecuteTime": {
     "end_time": "2021-06-08T03:07:21.651595Z",
     "start_time": "2021-06-08T03:07:21.607772Z"
    }
   },
   "outputs": [
    {
     "data": {
      "text/plain": [
       "ExtractResult(subdomain='en', domain='wikipedia', suffix='org')"
      ]
     },
     "execution_count": 66,
     "metadata": {},
     "output_type": "execute_result"
    }
   ],
   "source": [
    "extract(r[0].replace('/url?q=', ''))"
   ]
  },
  {
   "cell_type": "code",
   "execution_count": 88,
   "metadata": {
    "ExecuteTime": {
     "end_time": "2021-06-08T03:14:05.553517Z",
     "start_time": "2021-06-08T03:14:04.625483Z"
    }
   },
   "outputs": [
    {
     "data": {
      "text/plain": [
       "<Response [200]>"
      ]
     },
     "execution_count": 88,
     "metadata": {},
     "output_type": "execute_result"
    }
   ],
   "source": [
    "duck_url_fmt = 'https://duckduckgo.com/?q=!ducky+{}+site%3Awikipedia.org'\n",
    "terms = 'chris lee politician'\n",
    "r = requests.get(duck_url_fmt.format('+'.join(terms.split())),\n",
    "                 headers={'user-agent': 'jabberwocky'})\n",
    "r"
   ]
  },
  {
   "cell_type": "code",
   "execution_count": 89,
   "metadata": {
    "ExecuteTime": {
     "end_time": "2021-06-08T03:14:05.958399Z",
     "start_time": "2021-06-08T03:14:05.909930Z"
    }
   },
   "outputs": [
    {
     "data": {
      "text/plain": [
       "<Response [200]>"
      ]
     },
     "execution_count": 89,
     "metadata": {},
     "output_type": "execute_result"
    }
   ],
   "source": [
    "r"
   ]
  },
  {
   "cell_type": "code",
   "execution_count": 90,
   "metadata": {
    "ExecuteTime": {
     "end_time": "2021-06-08T03:14:06.172438Z",
     "start_time": "2021-06-08T03:14:06.082732Z"
    }
   },
   "outputs": [
    {
     "data": {
      "text/plain": [
       "\"<html><head><meta http-equiv='Content-Type' content='text/html; charset=utf-8'><meta name='referrer' content='origin'><meta name='robots' content='noindex, nofollow'><meta http-equiv='refresh' content='0; url=/l/?uddg=https%3A%2F%2Fen.wikipedia.org%2Fwiki%2FChris_Lee_(New_York_politician)&rut=301a9a08127652533377bab64eb867db64987c1add90ea92d3bafbccfeecbcde'></head><body><script language='JavaScript'>function ffredirect(){window.location.replace('/l/?uddg=https%3A%2F%2Fen.wikipedia.org%2Fwiki%2FChris_Lee_(New_York_politician)&rut=301a9a08127652533377bab64eb867db64987c1add90ea92d3bafbccfeecbcde');}setTimeout('ffredirect()',100);</script></body></html>\""
      ]
     },
     "execution_count": 90,
     "metadata": {},
     "output_type": "execute_result"
    }
   ],
   "source": [
    "r.text"
   ]
  },
  {
   "cell_type": "code",
   "execution_count": 91,
   "metadata": {
    "ExecuteTime": {
     "end_time": "2021-06-08T03:14:08.581131Z",
     "start_time": "2021-06-08T03:14:08.549607Z"
    }
   },
   "outputs": [
    {
     "data": {
      "text/plain": [
       "'https://duckduckgo.com/?q=!ducky+chris+lee+politician+site%3Awikipedia.org'"
      ]
     },
     "execution_count": 91,
     "metadata": {},
     "output_type": "execute_result"
    }
   ],
   "source": [
    "r.url"
   ]
  },
  {
   "cell_type": "code",
   "execution_count": null,
   "metadata": {},
   "outputs": [],
   "source": [
    "'https://www.google.com/search?btnI=1&q=%s site:developer.mozilla.org'"
   ]
  },
  {
   "cell_type": "code",
   "execution_count": 136,
   "metadata": {
    "ExecuteTime": {
     "end_time": "2021-06-08T03:34:38.300213Z",
     "start_time": "2021-06-08T03:34:38.234007Z"
    }
   },
   "outputs": [
    {
     "data": {
      "text/plain": [
       "wikipedia.exceptions.PageError"
      ]
     },
     "execution_count": 136,
     "metadata": {},
     "output_type": "execute_result"
    }
   ],
   "source": [
    "wiki.PageError"
   ]
  },
  {
   "cell_type": "code",
   "execution_count": 138,
   "metadata": {
    "ExecuteTime": {
     "end_time": "2021-06-08T03:35:38.490586Z",
     "start_time": "2021-06-08T03:35:38.193093Z"
    }
   },
   "outputs": [
    {
     "name": "stdout",
     "output_type": "stream",
     "text": [
      "Not found\n"
     ]
    }
   ],
   "source": [
    "try:\n",
    "    print(wiki.summary('Derek Jetero', \n",
    "                       auto_suggest=False).content.splitlines()[0])\n",
    "except wiki.PageError:\n",
    "    print('Not found')"
   ]
  },
  {
   "cell_type": "code",
   "execution_count": 111,
   "metadata": {
    "ExecuteTime": {
     "end_time": "2021-06-08T03:25:36.856139Z",
     "start_time": "2021-06-08T03:25:31.313508Z"
    }
   },
   "outputs": [
    {
     "name": "stdout",
     "output_type": "stream",
     "text": [
      "Derek Sanderson Jeter ( JEE-tər; born June 26, 1974) is an American former professional baseball shortstop, businessman, and baseball executive. He has been the chief executive officer (CEO) and part owner of the Miami Marlins of Major League Baseball (MLB) since September 2017. As a player, Jeter spent his entire 20-year MLB career with the New York Yankees. He was elected to the Baseball Hall of Fame in his first year of eligibility in 2020; he received 396 of 397 possible votes (99.75%), the second-highest percentage in MLB history and the highest by a position player.\n"
     ]
    }
   ],
   "source": [
    "print(wiki.page('Derek Jeter', auto_suggest=False).content.splitlines()[0])"
   ]
  },
  {
   "cell_type": "code",
   "execution_count": 139,
   "metadata": {
    "ExecuteTime": {
     "end_time": "2021-06-08T03:36:06.123669Z",
     "start_time": "2021-06-08T03:36:05.518305Z"
    }
   },
   "outputs": [
    {
     "name": "stdout",
     "output_type": "stream",
     "text": [
      "Derek Sanderson Jeter ( JEE-tər; born June 26, 1974) is an American former professional baseball shortstop, businessman, and baseball executive. He has been the chief executive officer (CEO) and part owner of the Miami Marlins of Major League Baseball (MLB) since September 2017. As a player, Jeter spent his entire 20-year MLB career with the New York Yankees. He was elected to the Baseball Hall of Fame in his first year of eligibility in 2020; he received 396 of 397 possible votes (99.75%), the second-highest percentage in MLB history and the highest by a position player.\n"
     ]
    }
   ],
   "source": [
    "print(wiki.summary('Derek Jeter', auto_suggest=False).splitlines()[0])"
   ]
  },
  {
   "cell_type": "code",
   "execution_count": 122,
   "metadata": {
    "ExecuteTime": {
     "end_time": "2021-06-08T03:29:43.063163Z",
     "start_time": "2021-06-08T03:29:43.019770Z"
    },
    "run_control": {
     "marked": false
    }
   },
   "outputs": [
    {
     "name": "stdout",
     "output_type": "stream",
     "text": [
      "Christopher John Lee (born April 1, 1964) is a former Republican member of the United States House of Representatives for New York's 26th congressional district. He served from January 2009 until he resigned on February 9, 2011, after it was revealed that he had solicited a woman on Craigslist.\n"
     ]
    }
   ],
   "source": [
    "matches = wiki.search('Chris Lee politician')\n",
    "for match in matches:\n",
    "    if '(disambiguation)' in match: continue\n",
    "    summary = wiki.summary(match, auto_suggest=False)\n",
    "    print(summary.splitlines()[0])\n",
    "    break"
   ]
  },
  {
   "cell_type": "code",
   "execution_count": 127,
   "metadata": {
    "ExecuteTime": {
     "end_time": "2021-06-08T03:31:40.512781Z",
     "start_time": "2021-06-08T03:31:40.455710Z"
    },
    "run_control": {
     "marked": false
    }
   },
   "outputs": [
    {
     "name": "stdout",
     "output_type": "stream",
     "text": [
      "Joanne Rowling  ( ROH-ling; born 31 July 1965), better known by her pen name J. K. Rowling, is a British author, philanthropist, film producer, television producer, and screenwriter. She is best known for writing the Harry Potter fantasy series, which has won multiple awards and sold more than 500 million copies, becoming the best-selling book series in history. The books are the basis of a popular film series, over which Rowling had overall approval on the scripts and was a producer on the final films. She also writes crime fiction under the pen name Robert Galbraith.\n"
     ]
    }
   ],
   "source": [
    "matches = wiki.search('Joanne Rowling author')\n",
    "for match in matches:\n",
    "    if '(disambiguation)' in match: continue\n",
    "    summary = wiki.summary(match, auto_suggest=False)\n",
    "    print(summary.splitlines()[0])\n",
    "    break"
   ]
  },
  {
   "cell_type": "code",
   "execution_count": 128,
   "metadata": {
    "ExecuteTime": {
     "end_time": "2021-06-08T03:31:41.526614Z",
     "start_time": "2021-06-08T03:31:41.475817Z"
    },
    "run_control": {
     "marked": false
    },
    "scrolled": false
   },
   "outputs": [
    {
     "data": {
      "text/plain": [
       "'Joanne Rowling ( ROH-ling; born 31 July 1965), better known by her pen name J. K. Rowling, is a British author, philanthropist, film producer, television producer, and screenwriter. She is best known for writing the Harry Potter fantasy series, which has won multiple awards and sold more than 500 million copies, becoming the best-selling book series in history. The books are the basis of a popular film series, over which Rowling had overall approval on the scripts and was a producer on the final films. She also writes crime fiction under the pen name Robert Galbraith.'"
      ]
     },
     "execution_count": 128,
     "metadata": {},
     "output_type": "execute_result"
    }
   ],
   "source": [
    "re.sub('\\s{2,}', ' ', summary.splitlines()[0])"
   ]
  },
  {
   "cell_type": "code",
   "execution_count": 133,
   "metadata": {
    "ExecuteTime": {
     "end_time": "2021-06-08T03:33:11.425157Z",
     "start_time": "2021-06-08T03:33:11.394935Z"
    }
   },
   "outputs": [
    {
     "data": {
      "text/plain": [
       "'Joanne Rowling (ROH-ling; born 31 July 1965), better known by her pen name J. K. Rowling, is a British author, philanthropist, film producer, television producer, and screenwriter. She is best known for writing the Harry Potter fantasy series, which has won multiple awards and sold more than 500 million copies, becoming the best-selling book series in history. The books are the basis of a popular film series, over which Rowling had overall approval on the scripts and was a producer on the final films. She also writes crime fiction under the pen name Robert Galbraith.'"
      ]
     },
     "execution_count": 133,
     "metadata": {},
     "output_type": "execute_result"
    }
   ],
   "source": [
    "_wiki_text_cleanup(summary.splitlines()[0])"
   ]
  },
  {
   "cell_type": "code",
   "execution_count": 143,
   "metadata": {
    "ExecuteTime": {
     "end_time": "2021-06-08T03:41:44.408297Z",
     "start_time": "2021-06-08T03:41:44.352084Z"
    }
   },
   "outputs": [],
   "source": [
    "from wikipedia import PageError"
   ]
  },
  {
   "cell_type": "code",
   "execution_count": 132,
   "metadata": {
    "ExecuteTime": {
     "end_time": "2021-06-08T03:33:10.960957Z",
     "start_time": "2021-06-08T03:33:10.910260Z"
    }
   },
   "outputs": [],
   "source": [
    "def _wiki_text_cleanup(text):\n",
    "    text = text.replace('( ', '(').replace(' )', ')')\n",
    "    return re.sub('\\s{2,}', ' ', text)"
   ]
  },
  {
   "cell_type": "code",
   "execution_count": 187,
   "metadata": {
    "ExecuteTime": {
     "end_time": "2021-06-08T03:50:16.614372Z",
     "start_time": "2021-06-08T03:50:16.559366Z"
    }
   },
   "outputs": [],
   "source": [
    "def wiki_page(name, *tags, retry=True, debug=False):\n",
    "    try:\n",
    "        return wiki.page(name, auto_suggest=False)\n",
    "    except PageError:\n",
    "        if not retry:\n",
    "            raise ValueError(f'Couldn\\'t find wikipedia page for {name}.') \\\n",
    "                from None\n",
    "        warnings.warn('Page not found. Trying to auto-select correct match.')\n",
    "        \n",
    "        terms = ' '.join(name.split() + list(tags))\n",
    "        matches = wiki.search(terms)\n",
    "        if debug: print('matches:', matches)\n",
    "        for match in matches:\n",
    "            if '(disambiguation)' in match: continue\n",
    "            return wiki_page(match, retry=False)"
   ]
  },
  {
   "cell_type": "code",
   "execution_count": 198,
   "metadata": {
    "ExecuteTime": {
     "end_time": "2021-06-08T03:59:39.745365Z",
     "start_time": "2021-06-08T03:59:39.704816Z"
    }
   },
   "outputs": [],
   "source": [
    "def download_image(url, out_path, verbose=False):\n",
    "    \"\"\"Ported from spellotape. Given a URL, fetch an image and download it to\n",
    "    the specified path.\n",
    "    \n",
    "    Parameters\n",
    "    ----------\n",
    "    url: str\n",
    "        Location of image online.\n",
    "    out_path: str\n",
    "        Path to download the image to.\n",
    "    verbose: bool\n",
    "        If True, prints a message alerting the user when the image could not \n",
    "        be retrieved.\n",
    "        \n",
    "    Returns\n",
    "    -------\n",
    "    bool: Specifies whether image was successfully retrieved.\n",
    "    \"\"\"\n",
    "    try:\n",
    "        with requests.get(url, stream=True, timeout=10) as r:\n",
    "            if r.status_code != 200:\n",
    "                if verbose: print(f'STATUS CODE ERROR: {url}')\n",
    "                return False\n",
    "\n",
    "            # Write bytes to file chunk by chunk.\n",
    "            with open(out_path, 'wb') as f:\n",
    "                for chunk in r.iter_content(256):\n",
    "                    f.write(chunk)\n",
    "            \n",
    "    # Any time url cannot be accessed, don't care about exact error.\n",
    "    except Exception as e:\n",
    "        if verbose: print(e)\n",
    "        return False\n",
    "\n",
    "    return True"
   ]
  },
  {
   "cell_type": "code",
   "execution_count": 206,
   "metadata": {
    "ExecuteTime": {
     "end_time": "2021-06-08T04:01:01.941357Z",
     "start_time": "2021-06-08T04:01:01.869498Z"
    }
   },
   "outputs": [],
   "source": [
    "def wiki_data(name, img_path=None, *tags, **kwargs):\n",
    "    page = wiki_page(name, *tags, **kwargs)\n",
    "    summary = page.summary.splitlines()[0]\n",
    "    if img_path and page.images and download_image(page.images[0], img_path):\n",
    "        has_img = True\n",
    "    else:\n",
    "        has_img = False\n",
    "    return Results(summary=_wiki_text_cleanup(summary),\n",
    "                   has_img=has_img)"
   ]
  },
  {
   "cell_type": "code",
   "execution_count": 178,
   "metadata": {
    "ExecuteTime": {
     "end_time": "2021-06-08T03:48:59.408140Z",
     "start_time": "2021-06-08T03:48:58.838361Z"
    }
   },
   "outputs": [
    {
     "name": "stderr",
     "output_type": "stream",
     "text": [
      "/Users/hmamin/anaconda3/lib/python3.7/site-packages/ipykernel_launcher.py:7: UserWarning: Page not found. Trying to auto-select correct match.\n",
      "  import sys\n"
     ]
    },
    {
     "data": {
      "text/plain": [
       "<WikipediaPage 'J. K. Rowling'>"
      ]
     },
     "execution_count": 178,
     "metadata": {},
     "output_type": "execute_result"
    }
   ],
   "source": [
    "wiki_page('jo rowling', 'author')"
   ]
  },
  {
   "cell_type": "code",
   "execution_count": 181,
   "metadata": {
    "ExecuteTime": {
     "end_time": "2021-06-08T03:49:11.062360Z",
     "start_time": "2021-06-08T03:49:10.469349Z"
    }
   },
   "outputs": [
    {
     "name": "stderr",
     "output_type": "stream",
     "text": [
      "/Users/hmamin/anaconda3/lib/python3.7/site-packages/ipykernel_launcher.py:7: UserWarning: Page not found. Trying to auto-select correct match.\n",
      "  import sys\n"
     ]
    },
    {
     "data": {
      "text/plain": [
       "<WikipediaPage 'Michael Schur'>"
      ]
     },
     "execution_count": 181,
     "metadata": {},
     "output_type": "execute_result"
    }
   ],
   "source": [
    "wiki_page('mike schur')"
   ]
  },
  {
   "cell_type": "code",
   "execution_count": 182,
   "metadata": {
    "ExecuteTime": {
     "end_time": "2021-06-08T03:49:16.065721Z",
     "start_time": "2021-06-08T03:49:15.535701Z"
    }
   },
   "outputs": [
    {
     "name": "stderr",
     "output_type": "stream",
     "text": [
      "/Users/hmamin/anaconda3/lib/python3.7/site-packages/ipykernel_launcher.py:7: UserWarning: Page not found. Trying to auto-select correct match.\n",
      "  import sys\n"
     ]
    },
    {
     "name": "stdout",
     "output_type": "stream",
     "text": [
      "matches: ['Deep learning', 'History of artificial intelligence', 'Glossary of artificial intelligence', 'Darkforest', 'Synthetic media']\n"
     ]
    },
    {
     "data": {
      "text/plain": [
       "<WikipediaPage 'Deep learning'>"
      ]
     },
     "execution_count": 182,
     "metadata": {},
     "output_type": "execute_result"
    }
   ],
   "source": [
    "# Seems to strugle with typos.\n",
    "wiki_page('yan lecun', 'machine learning', debug=True)"
   ]
  },
  {
   "cell_type": "code",
   "execution_count": 207,
   "metadata": {
    "ExecuteTime": {
     "end_time": "2021-06-08T04:01:05.427526Z",
     "start_time": "2021-06-08T04:01:04.069154Z"
    }
   },
   "outputs": [],
   "source": [
    "res = wiki_data('Usain Bolt', 'data/tmp/wiki_photo.png')"
   ]
  },
  {
   "cell_type": "code",
   "execution_count": 208,
   "metadata": {
    "ExecuteTime": {
     "end_time": "2021-06-08T04:01:09.454314Z",
     "start_time": "2021-06-08T04:01:09.389592Z"
    }
   },
   "outputs": [
    {
     "data": {
      "text/plain": [
       "'Usain St Leo Bolt, (; born 21 August 1986) is a Jamaican retired sprinter, widely considered to be the greatest sprinter of all time. He is a world record holder in the 100 metres, 200 metres and 4 × 100 metres relay. '"
      ]
     },
     "execution_count": 208,
     "metadata": {},
     "output_type": "execute_result"
    }
   ],
   "source": [
    "res.summary"
   ]
  },
  {
   "cell_type": "code",
   "execution_count": 211,
   "metadata": {
    "ExecuteTime": {
     "end_time": "2021-06-08T04:02:12.522753Z",
     "start_time": "2021-06-08T04:02:06.301897Z"
    }
   },
   "outputs": [
    {
     "data": {
      "text/plain": [
       "'Usain St Leo Bolt,  (; born 21 August 1986) is a Jamaican retired sprinter, widely considered to be the greatest sprinter of all time. He is a world record holder in the 100 metres, 200 metres and 4 × 100 metres relay. \\nAn eight-time Olympic gold medallist, Bolt is the only sprinter to win Olympic 100 m and 200 m titles at three consecutive Olympics (2008, 2012 and 2016). He also won two 4 × 100 relay gold medals. He gained worldwide fame for his double sprint victory in world record times at the 2008 Beijing Olympics, which made him the first person to hold both records since fully automatic time became mandatory. \\nAn eleven-time World Champion, he won consecutive World Championship 100 m, 200 m and 4 × 100 metres relay gold medals from 2009 to 2015, with the exception of a 100 m false start in 2011. He is the most successful male athlete of the World Championships. Bolt is the first athlete to win four World Championship titles in the 200 m and is one of the most successful in the 100 m with three titles.\\nBolt improved upon his second 100 m world record of 9.69 with 9.58 seconds in 2009 – the biggest improvement since the start of electronic timing. He has twice broken the 200 metres world record, setting 19.30 in 2008 and 19.19 in 2009. He has helped Jamaica to three 4 × 100 metres relay world records, with the current record being 36.84 seconds set in 2012. Bolt\\'s most successful event is the 200 m, with three Olympic and four World titles. The 2008 Olympics was his international debut over 100 m; he had earlier won numerous 200 m medals (including 2007 World Championship silver) and holds the world under-20 and world under-18 records for the event.\\nHis achievements as a sprinter have earned him the media nickname \"Lightning Bolt\", and his awards include the IAAF World Athlete of the Year, Track & Field Athlete of the Year, BBC Overseas Sports Personality of the Year (three times) and Laureus World Sportsman of the Year (four times). Bolt retired after the 2017 World Championships, when he finished third in his last solo 100 m race, opted out of the 200 m, and pulled up in the 4×100 m relay final.'"
      ]
     },
     "execution_count": 211,
     "metadata": {},
     "output_type": "execute_result"
    }
   ],
   "source": [
    "W.page('Usain_Bolt').summary"
   ]
  },
  {
   "cell_type": "code",
   "execution_count": null,
   "metadata": {},
   "outputs": [],
   "source": []
  }
 ],
 "metadata": {
  "kernelspec": {
   "display_name": "Python 3",
   "language": "python",
   "name": "python3"
  },
  "language_info": {
   "codemirror_mode": {
    "name": "ipython",
    "version": 3
   },
   "file_extension": ".py",
   "mimetype": "text/x-python",
   "name": "python",
   "nbconvert_exporter": "python",
   "pygments_lexer": "ipython3",
   "version": "3.7.3"
  }
 },
 "nbformat": 4,
 "nbformat_minor": 2
}
