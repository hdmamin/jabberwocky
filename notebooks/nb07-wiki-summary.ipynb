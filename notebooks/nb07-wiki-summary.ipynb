{
 "cells": [
  {
   "cell_type": "markdown",
   "metadata": {},
   "source": [
    "# Summary\n",
    "\n",
    "Make wiki_summary function more capable of handling missing or ambiguous cases. Also see if image retrieval is easy/possible."
   ]
  },
  {
   "cell_type": "code",
   "execution_count": 1,
   "metadata": {
    "ExecuteTime": {
     "end_time": "2021-06-08T02:49:44.985137Z",
     "start_time": "2021-06-08T02:49:44.970361Z"
    }
   },
   "outputs": [
    {
     "name": "stdout",
     "output_type": "stream",
     "text": [
      "The autoreload extension is already loaded. To reload it, use:\n",
      "  %reload_ext autoreload\n"
     ]
    }
   ],
   "source": [
    "%load_ext autoreload\n",
    "%autoreload 2"
   ]
  },
  {
   "cell_type": "code",
   "execution_count": 125,
   "metadata": {
    "ExecuteTime": {
     "end_time": "2021-06-08T03:31:07.197831Z",
     "start_time": "2021-06-08T03:31:07.031275Z"
    }
   },
   "outputs": [],
   "source": [
    "from bs4 import BeautifulSoup as BS\n",
    "import matplotlib.pyplot as plt\n",
    "import numpy as np\n",
    "import os\n",
    "import pandas as pd\n",
    "from pathlib import Path\n",
    "import re\n",
    "import requests\n",
    "from tldextract import extract\n",
    "import wikipedia as wiki\n",
    "\n",
    "from jabberwocky.config import C\n",
    "from jabberwocky.openai_utils import load_prompt, load_openai_api_key\n",
    "from jabberwocky.external_data import W\n",
    "from htools import *"
   ]
  },
  {
   "cell_type": "code",
   "execution_count": 3,
   "metadata": {
    "ExecuteTime": {
     "end_time": "2021-06-08T02:49:50.169694Z",
     "start_time": "2021-06-08T02:49:50.080782Z"
    }
   },
   "outputs": [
    {
     "name": "stdout",
     "output_type": "stream",
     "text": [
      "Current directory: /Users/hmamin/jabberwocky\n"
     ]
    }
   ],
   "source": [
    "cd_root()"
   ]
  },
  {
   "cell_type": "code",
   "execution_count": 134,
   "metadata": {
    "ExecuteTime": {
     "end_time": "2021-06-08T03:33:51.784895Z",
     "start_time": "2021-06-08T03:33:51.729184Z"
    }
   },
   "outputs": [],
   "source": [
    "def _wiki_search(name, *tags):\n",
    "    terms = ['wikipedia'] + name.split() + list(tags)\n",
    "    r = requests.get(f'http://www.google.com/search?q={\"+\".join(terms)}')\n",
    "    links = BS(r.text, 'lxml').find_all('a')\n",
    "    return [link.replace('/url?q=', '')\n",
    "            for link in map(lambda x: x['href'], links) \n",
    "            if link.startswith('/url?q=')]"
   ]
  },
  {
   "cell_type": "code",
   "execution_count": 15,
   "metadata": {
    "ExecuteTime": {
     "end_time": "2021-06-08T02:55:51.003029Z",
     "start_time": "2021-06-08T02:55:50.954777Z"
    }
   },
   "outputs": [],
   "source": [
    "def wiki_summary(name, *tags):\n",
    "    page = W.page(name.title().replace(' ', '_'))\n",
    "    if not page.exists():\n",
    "        raise RuntimeError('Wikipedia page not found. Provide a URL instead.')\n",
    "    summary = page.summary.splitlines()[0]\n",
    "    if summary.endswith('may refer to:'):\n",
    "        raise RuntimeError('Ambiguous search term. Provide a URL instead.')\n",
    "    return summary"
   ]
  },
  {
   "cell_type": "code",
   "execution_count": 9,
   "metadata": {
    "ExecuteTime": {
     "end_time": "2021-06-08T02:52:36.505146Z",
     "start_time": "2021-06-08T02:52:32.483734Z"
    }
   },
   "outputs": [
    {
     "data": {
      "text/plain": [
       "'Joanne Rowling  ( ROH-ling; born 31 July 1965), better known by her pen name J. K. Rowling, is a British author, philanthropist, film producer, television producer, and screenwriter. She is best known for writing the Harry Potter fantasy series, which has won multiple awards and sold more than 500 million copies, becoming the best-selling book series in history. The books are the basis of a popular film series, over which Rowling had overall approval on the scripts and was a producer on the final films. She also writes crime fiction under the pen name Robert Galbraith.'"
      ]
     },
     "execution_count": 9,
     "metadata": {},
     "output_type": "execute_result"
    }
   ],
   "source": [
    "wiki_summary('j.k. rowling')"
   ]
  },
  {
   "cell_type": "code",
   "execution_count": 31,
   "metadata": {
    "ExecuteTime": {
     "end_time": "2021-06-08T02:59:35.157309Z",
     "start_time": "2021-06-08T02:59:34.892045Z"
    }
   },
   "outputs": [
    {
     "ename": "RuntimeError",
     "evalue": "Wikipedia page not found. Provide a URL instead.",
     "output_type": "error",
     "traceback": [
      "\u001b[0;31m---------------------------------------------------------------------------\u001b[0m",
      "\u001b[0;31mRuntimeError\u001b[0m                              Traceback (most recent call last)",
      "\u001b[0;32m<ipython-input-31-7fdc3e69d1b4>\u001b[0m in \u001b[0;36m<module>\u001b[0;34m()\u001b[0m\n\u001b[0;32m----> 1\u001b[0;31m \u001b[0mwiki_summary\u001b[0m\u001b[0;34m(\u001b[0m\u001b[0;34m'jk rowling'\u001b[0m\u001b[0;34m)\u001b[0m\u001b[0;34m\u001b[0m\u001b[0;34m\u001b[0m\u001b[0m\n\u001b[0m",
      "\u001b[0;32m<ipython-input-15-311497f90085>\u001b[0m in \u001b[0;36mwiki_summary\u001b[0;34m(name, *tags)\u001b[0m\n\u001b[1;32m      2\u001b[0m     \u001b[0mpage\u001b[0m \u001b[0;34m=\u001b[0m \u001b[0mW\u001b[0m\u001b[0;34m.\u001b[0m\u001b[0mpage\u001b[0m\u001b[0;34m(\u001b[0m\u001b[0mname\u001b[0m\u001b[0;34m.\u001b[0m\u001b[0mtitle\u001b[0m\u001b[0;34m(\u001b[0m\u001b[0;34m)\u001b[0m\u001b[0;34m.\u001b[0m\u001b[0mreplace\u001b[0m\u001b[0;34m(\u001b[0m\u001b[0;34m' '\u001b[0m\u001b[0;34m,\u001b[0m \u001b[0;34m'_'\u001b[0m\u001b[0;34m)\u001b[0m\u001b[0;34m)\u001b[0m\u001b[0;34m\u001b[0m\u001b[0;34m\u001b[0m\u001b[0m\n\u001b[1;32m      3\u001b[0m     \u001b[0;32mif\u001b[0m \u001b[0;32mnot\u001b[0m \u001b[0mpage\u001b[0m\u001b[0;34m.\u001b[0m\u001b[0mexists\u001b[0m\u001b[0;34m(\u001b[0m\u001b[0;34m)\u001b[0m\u001b[0;34m:\u001b[0m\u001b[0;34m\u001b[0m\u001b[0;34m\u001b[0m\u001b[0m\n\u001b[0;32m----> 4\u001b[0;31m         \u001b[0;32mraise\u001b[0m \u001b[0mRuntimeError\u001b[0m\u001b[0;34m(\u001b[0m\u001b[0;34m'Wikipedia page not found. Provide a URL instead.'\u001b[0m\u001b[0;34m)\u001b[0m\u001b[0;34m\u001b[0m\u001b[0;34m\u001b[0m\u001b[0m\n\u001b[0m\u001b[1;32m      5\u001b[0m     \u001b[0msummary\u001b[0m \u001b[0;34m=\u001b[0m \u001b[0mpage\u001b[0m\u001b[0;34m.\u001b[0m\u001b[0msummary\u001b[0m\u001b[0;34m.\u001b[0m\u001b[0msplitlines\u001b[0m\u001b[0;34m(\u001b[0m\u001b[0;34m)\u001b[0m\u001b[0;34m[\u001b[0m\u001b[0;36m0\u001b[0m\u001b[0;34m]\u001b[0m\u001b[0;34m\u001b[0m\u001b[0;34m\u001b[0m\u001b[0m\n\u001b[1;32m      6\u001b[0m     \u001b[0;32mif\u001b[0m \u001b[0msummary\u001b[0m\u001b[0;34m.\u001b[0m\u001b[0mendswith\u001b[0m\u001b[0;34m(\u001b[0m\u001b[0;34m'may refer to:'\u001b[0m\u001b[0;34m)\u001b[0m\u001b[0;34m:\u001b[0m\u001b[0;34m\u001b[0m\u001b[0;34m\u001b[0m\u001b[0m\n",
      "\u001b[0;31mRuntimeError\u001b[0m: Wikipedia page not found. Provide a URL instead."
     ]
    }
   ],
   "source": [
    "wiki_summary('jk rowling')"
   ]
  },
  {
   "cell_type": "code",
   "execution_count": 13,
   "metadata": {
    "ExecuteTime": {
     "end_time": "2021-06-08T02:53:27.499104Z",
     "start_time": "2021-06-08T02:53:27.043416Z"
    }
   },
   "outputs": [
    {
     "data": {
      "text/plain": [
       "'Christopher Lee (1922–2015) was an English actor and singer.'"
      ]
     },
     "execution_count": 13,
     "metadata": {},
     "output_type": "execute_result"
    }
   ],
   "source": [
    "wiki_summary('chris lee')"
   ]
  },
  {
   "cell_type": "code",
   "execution_count": 57,
   "metadata": {
    "ExecuteTime": {
     "end_time": "2021-06-08T03:06:06.315263Z",
     "start_time": "2021-06-08T03:06:05.744053Z"
    }
   },
   "outputs": [],
   "source": [
    "r = _wiki_search('chris lee', 'politician')"
   ]
  },
  {
   "cell_type": "code",
   "execution_count": 59,
   "metadata": {
    "ExecuteTime": {
     "end_time": "2021-06-08T03:06:13.989637Z",
     "start_time": "2021-06-08T03:06:13.939565Z"
    }
   },
   "outputs": [
    {
     "name": "stdout",
     "output_type": "stream",
     "text": [
      " 0: /url?q=https://en.wikipedia.org/wiki/Chris_Lee_(New_York_politician)&sa=U&ved=2ahUKEwibvu6Ch4fxAhX1IDQIHXM-AQgQFjAAegQIBBAB&usg=AOvVaw3enElqWa8R0y2pOkEEO5tz\n",
      " 1: /url?q=https://en.wikipedia.org/wiki/Chris_Lee_(New_York_politician)%23Biography&sa=U&ved=2ahUKEwibvu6Ch4fxAhX1IDQIHXM-AQgQ0gIwAHoECAQQAg&usg=AOvVaw12Agt6zY_XL1Xa9tjlYGzz\n",
      " 2: /url?q=https://en.wikipedia.org/wiki/Chris_Lee_(New_York_politician)%23Political_campaigns&sa=U&ved=2ahUKEwibvu6Ch4fxAhX1IDQIHXM-AQgQ0gIwAHoECAQQAw&usg=AOvVaw1ZKZmRVWBsqKA8zcN8V8H-\n",
      " 3: /url?q=https://en.wikipedia.org/wiki/Chris_Lee_(New_York_politician)%23U.S._House_of_Representatives&sa=U&ved=2ahUKEwibvu6Ch4fxAhX1IDQIHXM-AQgQ0gIwAHoECAQQBA&usg=AOvVaw1pKb3uxYvCyhZLp3jc0lCe\n",
      " 4: /url?q=https://en.wikipedia.org/wiki/Chris_Lee_(New_York_politician)%23First_term&sa=U&ved=2ahUKEwibvu6Ch4fxAhX1IDQIHXM-AQgQ0gIwAHoECAQQBQ&usg=AOvVaw0Zu3oRyNvkz5EArWYoddOE\n"
     ]
    }
   ],
   "source": [
    "eprint(r[:5])"
   ]
  },
  {
   "cell_type": "code",
   "execution_count": 66,
   "metadata": {
    "ExecuteTime": {
     "end_time": "2021-06-08T03:07:21.651595Z",
     "start_time": "2021-06-08T03:07:21.607772Z"
    }
   },
   "outputs": [
    {
     "data": {
      "text/plain": [
       "ExtractResult(subdomain='en', domain='wikipedia', suffix='org')"
      ]
     },
     "execution_count": 66,
     "metadata": {},
     "output_type": "execute_result"
    }
   ],
   "source": [
    "extract(r[0].replace('/url?q=', ''))"
   ]
  },
  {
   "cell_type": "code",
   "execution_count": 88,
   "metadata": {
    "ExecuteTime": {
     "end_time": "2021-06-08T03:14:05.553517Z",
     "start_time": "2021-06-08T03:14:04.625483Z"
    }
   },
   "outputs": [
    {
     "data": {
      "text/plain": [
       "<Response [200]>"
      ]
     },
     "execution_count": 88,
     "metadata": {},
     "output_type": "execute_result"
    }
   ],
   "source": [
    "duck_url_fmt = 'https://duckduckgo.com/?q=!ducky+{}+site%3Awikipedia.org'\n",
    "terms = 'chris lee politician'\n",
    "r = requests.get(duck_url_fmt.format('+'.join(terms.split())),\n",
    "                 headers={'user-agent': 'jabberwocky'})\n",
    "r"
   ]
  },
  {
   "cell_type": "code",
   "execution_count": 89,
   "metadata": {
    "ExecuteTime": {
     "end_time": "2021-06-08T03:14:05.958399Z",
     "start_time": "2021-06-08T03:14:05.909930Z"
    }
   },
   "outputs": [
    {
     "data": {
      "text/plain": [
       "<Response [200]>"
      ]
     },
     "execution_count": 89,
     "metadata": {},
     "output_type": "execute_result"
    }
   ],
   "source": [
    "r"
   ]
  },
  {
   "cell_type": "code",
   "execution_count": 90,
   "metadata": {
    "ExecuteTime": {
     "end_time": "2021-06-08T03:14:06.172438Z",
     "start_time": "2021-06-08T03:14:06.082732Z"
    }
   },
   "outputs": [
    {
     "data": {
      "text/plain": [
       "\"<html><head><meta http-equiv='Content-Type' content='text/html; charset=utf-8'><meta name='referrer' content='origin'><meta name='robots' content='noindex, nofollow'><meta http-equiv='refresh' content='0; url=/l/?uddg=https%3A%2F%2Fen.wikipedia.org%2Fwiki%2FChris_Lee_(New_York_politician)&rut=301a9a08127652533377bab64eb867db64987c1add90ea92d3bafbccfeecbcde'></head><body><script language='JavaScript'>function ffredirect(){window.location.replace('/l/?uddg=https%3A%2F%2Fen.wikipedia.org%2Fwiki%2FChris_Lee_(New_York_politician)&rut=301a9a08127652533377bab64eb867db64987c1add90ea92d3bafbccfeecbcde');}setTimeout('ffredirect()',100);</script></body></html>\""
      ]
     },
     "execution_count": 90,
     "metadata": {},
     "output_type": "execute_result"
    }
   ],
   "source": [
    "r.text"
   ]
  },
  {
   "cell_type": "code",
   "execution_count": 91,
   "metadata": {
    "ExecuteTime": {
     "end_time": "2021-06-08T03:14:08.581131Z",
     "start_time": "2021-06-08T03:14:08.549607Z"
    }
   },
   "outputs": [
    {
     "data": {
      "text/plain": [
       "'https://duckduckgo.com/?q=!ducky+chris+lee+politician+site%3Awikipedia.org'"
      ]
     },
     "execution_count": 91,
     "metadata": {},
     "output_type": "execute_result"
    }
   ],
   "source": [
    "r.url"
   ]
  },
  {
   "cell_type": "code",
   "execution_count": null,
   "metadata": {},
   "outputs": [],
   "source": [
    "'https://www.google.com/search?btnI=1&q=%s site:developer.mozilla.org'"
   ]
  },
  {
   "cell_type": "code",
   "execution_count": 136,
   "metadata": {
    "ExecuteTime": {
     "end_time": "2021-06-08T03:34:38.300213Z",
     "start_time": "2021-06-08T03:34:38.234007Z"
    }
   },
   "outputs": [
    {
     "data": {
      "text/plain": [
       "wikipedia.exceptions.PageError"
      ]
     },
     "execution_count": 136,
     "metadata": {},
     "output_type": "execute_result"
    }
   ],
   "source": [
    "wiki.PageError"
   ]
  },
  {
   "cell_type": "code",
   "execution_count": 138,
   "metadata": {
    "ExecuteTime": {
     "end_time": "2021-06-08T03:35:38.490586Z",
     "start_time": "2021-06-08T03:35:38.193093Z"
    }
   },
   "outputs": [
    {
     "name": "stdout",
     "output_type": "stream",
     "text": [
      "Not found\n"
     ]
    }
   ],
   "source": [
    "try:\n",
    "    print(wiki.summary('Derek Jetero', \n",
    "                       auto_suggest=False).content.splitlines()[0])\n",
    "except wiki.PageError:\n",
    "    print('Not found')"
   ]
  },
  {
   "cell_type": "code",
   "execution_count": 111,
   "metadata": {
    "ExecuteTime": {
     "end_time": "2021-06-08T03:25:36.856139Z",
     "start_time": "2021-06-08T03:25:31.313508Z"
    }
   },
   "outputs": [
    {
     "name": "stdout",
     "output_type": "stream",
     "text": [
      "Derek Sanderson Jeter ( JEE-tər; born June 26, 1974) is an American former professional baseball shortstop, businessman, and baseball executive. He has been the chief executive officer (CEO) and part owner of the Miami Marlins of Major League Baseball (MLB) since September 2017. As a player, Jeter spent his entire 20-year MLB career with the New York Yankees. He was elected to the Baseball Hall of Fame in his first year of eligibility in 2020; he received 396 of 397 possible votes (99.75%), the second-highest percentage in MLB history and the highest by a position player.\n"
     ]
    }
   ],
   "source": [
    "print(wiki.page('Derek Jeter', auto_suggest=False).content.splitlines()[0])"
   ]
  },
  {
   "cell_type": "code",
   "execution_count": 139,
   "metadata": {
    "ExecuteTime": {
     "end_time": "2021-06-08T03:36:06.123669Z",
     "start_time": "2021-06-08T03:36:05.518305Z"
    }
   },
   "outputs": [
    {
     "name": "stdout",
     "output_type": "stream",
     "text": [
      "Derek Sanderson Jeter ( JEE-tər; born June 26, 1974) is an American former professional baseball shortstop, businessman, and baseball executive. He has been the chief executive officer (CEO) and part owner of the Miami Marlins of Major League Baseball (MLB) since September 2017. As a player, Jeter spent his entire 20-year MLB career with the New York Yankees. He was elected to the Baseball Hall of Fame in his first year of eligibility in 2020; he received 396 of 397 possible votes (99.75%), the second-highest percentage in MLB history and the highest by a position player.\n"
     ]
    }
   ],
   "source": [
    "print(wiki.summary('Derek Jeter', auto_suggest=False).splitlines()[0])"
   ]
  },
  {
   "cell_type": "code",
   "execution_count": 122,
   "metadata": {
    "ExecuteTime": {
     "end_time": "2021-06-08T03:29:43.063163Z",
     "start_time": "2021-06-08T03:29:43.019770Z"
    },
    "run_control": {
     "marked": false
    }
   },
   "outputs": [
    {
     "name": "stdout",
     "output_type": "stream",
     "text": [
      "Christopher John Lee (born April 1, 1964) is a former Republican member of the United States House of Representatives for New York's 26th congressional district. He served from January 2009 until he resigned on February 9, 2011, after it was revealed that he had solicited a woman on Craigslist.\n"
     ]
    }
   ],
   "source": [
    "matches = wiki.search('Chris Lee politician')\n",
    "for match in matches:\n",
    "    if '(disambiguation)' in match: continue\n",
    "    summary = wiki.summary(match, auto_suggest=False)\n",
    "    print(summary.splitlines()[0])\n",
    "    break"
   ]
  },
  {
   "cell_type": "code",
   "execution_count": 127,
   "metadata": {
    "ExecuteTime": {
     "end_time": "2021-06-08T03:31:40.512781Z",
     "start_time": "2021-06-08T03:31:40.455710Z"
    },
    "run_control": {
     "marked": false
    }
   },
   "outputs": [
    {
     "name": "stdout",
     "output_type": "stream",
     "text": [
      "Joanne Rowling  ( ROH-ling; born 31 July 1965), better known by her pen name J. K. Rowling, is a British author, philanthropist, film producer, television producer, and screenwriter. She is best known for writing the Harry Potter fantasy series, which has won multiple awards and sold more than 500 million copies, becoming the best-selling book series in history. The books are the basis of a popular film series, over which Rowling had overall approval on the scripts and was a producer on the final films. She also writes crime fiction under the pen name Robert Galbraith.\n"
     ]
    }
   ],
   "source": [
    "matches = wiki.search('Joanne Rowling author')\n",
    "for match in matches:\n",
    "    if '(disambiguation)' in match: continue\n",
    "    summary = wiki.summary(match, auto_suggest=False)\n",
    "    print(summary.splitlines()[0])\n",
    "    break"
   ]
  },
  {
   "cell_type": "code",
   "execution_count": 128,
   "metadata": {
    "ExecuteTime": {
     "end_time": "2021-06-08T03:31:41.526614Z",
     "start_time": "2021-06-08T03:31:41.475817Z"
    },
    "run_control": {
     "marked": false
    },
    "scrolled": false
   },
   "outputs": [
    {
     "data": {
      "text/plain": [
       "'Joanne Rowling ( ROH-ling; born 31 July 1965), better known by her pen name J. K. Rowling, is a British author, philanthropist, film producer, television producer, and screenwriter. She is best known for writing the Harry Potter fantasy series, which has won multiple awards and sold more than 500 million copies, becoming the best-selling book series in history. The books are the basis of a popular film series, over which Rowling had overall approval on the scripts and was a producer on the final films. She also writes crime fiction under the pen name Robert Galbraith.'"
      ]
     },
     "execution_count": 128,
     "metadata": {},
     "output_type": "execute_result"
    }
   ],
   "source": [
    "re.sub('\\s{2,}', ' ', summary.splitlines()[0])"
   ]
  },
  {
   "cell_type": "code",
   "execution_count": 133,
   "metadata": {
    "ExecuteTime": {
     "end_time": "2021-06-08T03:33:11.425157Z",
     "start_time": "2021-06-08T03:33:11.394935Z"
    }
   },
   "outputs": [
    {
     "data": {
      "text/plain": [
       "'Joanne Rowling (ROH-ling; born 31 July 1965), better known by her pen name J. K. Rowling, is a British author, philanthropist, film producer, television producer, and screenwriter. She is best known for writing the Harry Potter fantasy series, which has won multiple awards and sold more than 500 million copies, becoming the best-selling book series in history. The books are the basis of a popular film series, over which Rowling had overall approval on the scripts and was a producer on the final films. She also writes crime fiction under the pen name Robert Galbraith.'"
      ]
     },
     "execution_count": 133,
     "metadata": {},
     "output_type": "execute_result"
    }
   ],
   "source": [
    "_wiki_text_cleanup(summary.splitlines()[0])"
   ]
  },
  {
   "cell_type": "code",
   "execution_count": 231,
   "metadata": {
    "ExecuteTime": {
     "end_time": "2021-06-09T02:39:57.726570Z",
     "start_time": "2021-06-09T02:39:57.660831Z"
    }
   },
   "outputs": [],
   "source": [
    "from fuzzywuzzy import fuzz, process\n",
    "from wikipedia import PageError"
   ]
  },
  {
   "cell_type": "code",
   "execution_count": 322,
   "metadata": {
    "ExecuteTime": {
     "end_time": "2021-06-09T03:12:22.570679Z",
     "start_time": "2021-06-09T03:12:22.535778Z"
    }
   },
   "outputs": [],
   "source": [
    "def _wiki_text_cleanup(text):\n",
    "    text = re.sub('\\s{2,}', ' ', text)\n",
    "    return re.sub('\\([^a-zA-Z0-9]+', '(', text)"
   ]
  },
  {
   "cell_type": "code",
   "execution_count": 376,
   "metadata": {
    "ExecuteTime": {
     "end_time": "2021-06-09T03:28:53.182758Z",
     "start_time": "2021-06-09T03:28:53.121085Z"
    }
   },
   "outputs": [],
   "source": [
    "def wiki_page(name, *tags, retry=True, min_similarity=50, debug=False, \n",
    "              og_name=None):\n",
    "    try:\n",
    "        page = wiki.page(name, auto_suggest=False)\n",
    "        score = fuzz.token_set_ratio((og_name or name).lower(),\n",
    "                                     page.title.lower()) \n",
    "        if score < min_similarity:\n",
    "            raise RuntimeError(\n",
    "                f'Similarity score of {score} fell short of threshold '\n",
    "                f'{min_similarity}. Page title: {page.title}.'\n",
    "            ) from None\n",
    "        return page\n",
    "    except PageError:\n",
    "        if not retry:\n",
    "            raise ValueError(f'Couldn\\'t find wikipedia page for {name}.') \\\n",
    "                from None\n",
    "        warnings.warn('Page not found. Trying to auto-select correct match.')\n",
    "        \n",
    "        terms = ' '.join(name.split() + list(tags))\n",
    "        matches = wiki.search(terms)\n",
    "        if debug: print('matches:', matches)\n",
    "        for match in matches:\n",
    "            if '(disambiguation)' in match: continue\n",
    "            return wiki_page(match, retry=False, og_name=name)"
   ]
  },
  {
   "cell_type": "code",
   "execution_count": 377,
   "metadata": {
    "ExecuteTime": {
     "end_time": "2021-06-09T03:28:53.458980Z",
     "start_time": "2021-06-09T03:28:53.424360Z"
    }
   },
   "outputs": [],
   "source": [
    "def download_image(url, out_path, verbose=False):\n",
    "    \"\"\"Ported from spellotape. Given a URL, fetch an image and download it to\n",
    "    the specified path.\n",
    "    \n",
    "    Parameters\n",
    "    ----------\n",
    "    url: str\n",
    "        Location of image online.\n",
    "    out_path: str\n",
    "        Path to download the image to.\n",
    "    verbose: bool\n",
    "        If True, prints a message alerting the user when the image could not \n",
    "        be retrieved.\n",
    "        \n",
    "    Returns\n",
    "    -------\n",
    "    bool: Specifies whether image was successfully retrieved.\n",
    "    \"\"\"\n",
    "    try:\n",
    "        with requests.get(url, stream=True, timeout=10) as r:\n",
    "            if r.status_code != 200:\n",
    "                if verbose: print(f'STATUS CODE ERROR: {url}')\n",
    "                return False\n",
    "\n",
    "            # Write bytes to file chunk by chunk.\n",
    "            with open(out_path, 'wb') as f:\n",
    "                for chunk in r.iter_content(256):\n",
    "                    f.write(chunk)\n",
    "            \n",
    "    # Any time url cannot be accessed, don't care about exact error.\n",
    "    except Exception as e:\n",
    "        if verbose: print(e)\n",
    "        return False\n",
    "\n",
    "    return True"
   ]
  },
  {
   "cell_type": "code",
   "execution_count": 378,
   "metadata": {
    "ExecuteTime": {
     "end_time": "2021-06-09T03:28:53.662062Z",
     "start_time": "2021-06-09T03:28:53.622141Z"
    }
   },
   "outputs": [],
   "source": [
    "def wiki_data(name, tags=(), img_dir='data/tmp', **page_kwargs):\n",
    "    page = wiki_page(name, *tolist(tags), **page_kwargs)\n",
    "    summary = page.summary.splitlines()[0]\n",
    "    \n",
    "    # Download image if possible. Find photo with name closest to the one we\n",
    "    # searched for (empirically, this seems to be a decent heuristic to give \n",
    "    # us a picture of the person rather than of, for instance, their house).\n",
    "    img_url = ''\n",
    "    img_path = ''\n",
    "    if img_dir and page.images:\n",
    "        name2url = {u.rpartition('/')[-1].split('.')[0].lower(): u \n",
    "                  for i, u in enumerate(page.images)}\n",
    "        name, _ = process.extractOne(name.lower(), name2url.keys())\n",
    "        url = name2url[name]\n",
    "        path = Path(img_dir)/f'{name}.{url.rpartition(\".\")[-1]}'.lower()\n",
    "        if download_image(url, path): \n",
    "            img_url = url\n",
    "            img_path = str(path)\n",
    "    return Results(summary=_wiki_text_cleanup(summary),\n",
    "                   img_url=img_url, \n",
    "                   img_path=img_path)"
   ]
  },
  {
   "cell_type": "code",
   "execution_count": 379,
   "metadata": {
    "ExecuteTime": {
     "end_time": "2021-06-09T03:28:55.372096Z",
     "start_time": "2021-06-09T03:28:54.041691Z"
    }
   },
   "outputs": [
    {
     "name": "stderr",
     "output_type": "stream",
     "text": [
      "/Users/hmamin/anaconda3/lib/python3.7/site-packages/ipykernel_launcher.py:16: UserWarning: Page not found. Trying to auto-select correct match.\n",
      "  app.launch_new_instance()\n"
     ]
    },
    {
     "data": {
      "text/plain": [
       "Results(summary='Joanne Rowling (ROH-ling; born 31 July 1965), better known by her pen name J. K. Rowling, is a British author, philanthropist, film producer, television producer, and screenwriter. She is best known for writing the Harry Potter fantasy series, which has won multiple awards and sold more than 500 million copies, becoming the best-selling book series in history. The books are the basis of a popular film series, over which Rowling had overall approval on the scripts and was a producer on the final films. She also writes crime fiction under the pen name Robert Galbraith.', img_url='https://upload.wikimedia.org/wikipedia/commons/b/b4/Jk-rowling-crop.JPG', img_path='data/tmp/jk-rowling-crop.jpg')"
      ]
     },
     "execution_count": 379,
     "metadata": {},
     "output_type": "execute_result"
    }
   ],
   "source": [
    "wiki_data('jo rowling', 'author')"
   ]
  },
  {
   "cell_type": "code",
   "execution_count": 383,
   "metadata": {
    "ExecuteTime": {
     "end_time": "2021-06-09T03:31:52.455950Z",
     "start_time": "2021-06-09T03:31:51.144788Z"
    }
   },
   "outputs": [
    {
     "name": "stderr",
     "output_type": "stream",
     "text": [
      "/Users/hmamin/anaconda3/lib/python3.7/site-packages/ipykernel_launcher.py:16: UserWarning: Page not found. Trying to auto-select correct match.\n",
      "  app.launch_new_instance()\n"
     ]
    },
    {
     "data": {
      "text/plain": [
       "Results(summary='Michael Herbert Schur (born c. 1975/1976) is an American television producer, writer, and character actor. He was a producer and writer for the comedy series The Office, and co-created Parks and Recreation with Office producer Greg Daniels. He created The Good Place, co-created the comedy series Brooklyn Nine-Nine and was a producer on the series Master of None. He also played Mose Schrute in The Office. In 2021, he co-created a comedy series Rutherford Falls.', img_url='https://upload.wikimedia.org/wikipedia/commons/0/07/Michael_Schur_2012_%28cropped%29.jpg', img_path='data/tmp/michael_schur_2012_%28cropped%29.jpg')"
      ]
     },
     "execution_count": 383,
     "metadata": {},
     "output_type": "execute_result"
    }
   ],
   "source": [
    "wiki_data('mike schur')"
   ]
  },
  {
   "cell_type": "code",
   "execution_count": 384,
   "metadata": {
    "ExecuteTime": {
     "end_time": "2021-06-09T03:31:56.821450Z",
     "start_time": "2021-06-09T03:31:56.303353Z"
    },
    "run_control": {
     "marked": false
    }
   },
   "outputs": [
    {
     "name": "stderr",
     "output_type": "stream",
     "text": [
      "/Users/hmamin/anaconda3/lib/python3.7/site-packages/ipykernel_launcher.py:16: UserWarning: Page not found. Trying to auto-select correct match.\n",
      "  app.launch_new_instance()\n"
     ]
    },
    {
     "name": "stdout",
     "output_type": "stream",
     "text": [
      "matches: ['Deep learning', 'History of artificial intelligence', 'Glossary of artificial intelligence', 'Darkforest', 'Synthetic media']\n",
      "As expected, got RuntimeError(Similarity score of 36 fell short of threshold 50. Page title: Deep learning.).\n"
     ]
    }
   ],
   "source": [
    "# Seems to strugle with typos.\n",
    "with assert_raises(RuntimeError):\n",
    "    wiki_data('yan lecun', 'machine learning', debug=True)"
   ]
  },
  {
   "cell_type": "code",
   "execution_count": 381,
   "metadata": {
    "ExecuteTime": {
     "end_time": "2021-06-09T03:29:25.156796Z",
     "start_time": "2021-06-09T03:29:23.750697Z"
    }
   },
   "outputs": [
    {
     "data": {
      "text/plain": [
       "Results(summary='Usain St Leo Bolt, (born 21 August 1986) is a Jamaican retired sprinter, widely considered to be the greatest sprinter of all time. He is a world record holder in the 100 metres, 200 metres and 4 × 100 metres relay. ', img_url='https://upload.wikimedia.org/wikipedia/commons/0/08/Usain-bolt-press-conference-berlin-2009.jpg', img_path='data/tmp/usain-bolt-press-conference-berlin-2009.jpg')"
      ]
     },
     "execution_count": 381,
     "metadata": {},
     "output_type": "execute_result"
    }
   ],
   "source": [
    "wiki_data('Usain Bolt')"
   ]
  },
  {
   "cell_type": "markdown",
   "metadata": {},
   "source": [
    "## Line Chunker\n",
    "\n",
    "Experiment with manually inserting newlines into text while allowing for reversal to the original text. Want to display text in gui so it's not all on one line, but don't want to insert random newlines when querying gpt3."
   ]
  },
  {
   "cell_type": "code",
   "execution_count": 484,
   "metadata": {
    "ExecuteTime": {
     "end_time": "2021-06-17T03:25:13.983129Z",
     "start_time": "2021-06-17T03:25:13.846269Z"
    }
   },
   "outputs": [],
   "source": [
    "class GuiTextChunker:\n",
    "\n",
    "    def __init__(self, max_chars=79):\n",
    "        self.raw = {}\n",
    "        self.chunked = {}\n",
    "        self.max_chars = max_chars\n",
    "\n",
    "    @fallback(keep=['max_chars'])\n",
    "    def add(self, key, text, return_chunked=True, **kwargs):\n",
    "        if self._previously_added(key, text):\n",
    "            if return_chunked:\n",
    "                return self.get(key, chunked=True)\n",
    "            return\n",
    "        chunked = self._chunk_lines(text, max_chars)\n",
    "        self.raw[key] = text\n",
    "        self.chunked[key] = chunked\n",
    "        if return_chunked: return chunked\n",
    "\n",
    "    def get(self, key, chunked):\n",
    "        if chunked:\n",
    "            return self.chunked[key]\n",
    "        return self.raw[key]\n",
    "\n",
    "    def _chunk_lines(self, text, max_chars):\n",
    "        words = text.split(' ')\n",
    "        lines, line = [], []\n",
    "        curr_len = 0\n",
    "        for word in words:\n",
    "            length = len(word) + 1\n",
    "            if curr_len + length > max_chars:\n",
    "                lines.append(line)\n",
    "                line = []\n",
    "                curr_len = 0\n",
    "            line.append(word)\n",
    "            curr_len += length\n",
    "        if line: lines.append(line)\n",
    "        return '\\r\\n'.join(' '.join(line) for line in lines)\n",
    "    \n",
    "    def _previously_added(self, key, text):\n",
    "        try:\n",
    "            raw = self.get(key, chunked=False)\n",
    "            chunked = self.get(key, chunked=True)\n",
    "            assert text in (raw, chunked)\n",
    "            return True\n",
    "        except (KeyError, AssertionError):\n",
    "            return False\n",
    "\n",
    "    def clear(self):\n",
    "        self.raw.clear()\n",
    "        self.chunked.clear()\n",
    "\n",
    "    def __contains__(self, key):\n",
    "        in_raw, in_chunked = key in self.raw, key in self.chunked\n",
    "        if in_raw and in_chunked:\n",
    "            return True\n",
    "        elif in_raw or in_chunked:\n",
    "            raise KeyError(\n",
    "                f'Key {key} was found in '\n",
    "                f'{\"self.raw\" if in_raw else \"self.chunked\"}. Should be in '\n",
    "                'neither or both. It may be wise to call the clear() method '\n",
    "                'and re-add your key.'\n",
    "            )\n",
    "        else:\n",
    "            return False"
   ]
  },
  {
   "cell_type": "code",
   "execution_count": 485,
   "metadata": {
    "ExecuteTime": {
     "end_time": "2021-06-17T03:25:14.509268Z",
     "start_time": "2021-06-17T03:25:14.463916Z"
    }
   },
   "outputs": [
    {
     "name": "stdout",
     "output_type": "stream",
     "text": [
      "J.K. walked to the store! me@gmail.com, but then? You're being difficult with that request...idk.Who is this; what are you doing? \"Nothing,\" he answered - but what about more lines more words can emojis work :) testing testing test test. Let's make this more characters. Over 2 lines. How many now?? A bit overhanging \n"
     ]
    }
   ],
   "source": [
    "t = 'J.K. walked to the store! me@gmail.com, but then? You\\'re being '\\\n",
    "    'difficult with that request...idk.Who is this; what are you doing? '\\\n",
    "    '\"Nothing,\" '\\\n",
    "    'he answered - but what about more lines more words can emojis work :) '\\\n",
    "    'testing testing test test. Let\\'s make this more characters. Over 2 '\\\n",
    "    'lines. How many now?? A bit overhanging '\n",
    "print(t)"
   ]
  },
  {
   "cell_type": "code",
   "execution_count": 486,
   "metadata": {
    "ExecuteTime": {
     "end_time": "2021-06-17T03:25:14.706596Z",
     "start_time": "2021-06-17T03:25:14.670021Z"
    }
   },
   "outputs": [
    {
     "name": "stdout",
     "output_type": "stream",
     "text": [
      "J.K. walked to the store! me@gmail.com, but then? You're being difficult with\r\n",
      "that request...idk.Who is this; what are you doing? \"Nothing,\" he answered -\r\n",
      "but what about more lines more words can emojis work :) testing testing test\r\n",
      "test. Let's make this more characters. Over 2 lines. How many now?? A bit\r\n",
      "overhanging \n"
     ]
    }
   ],
   "source": [
    "text_manager = GuiTextChunker()\n",
    "tmp = text_manager.add('rand', t)\n",
    "print(tmp)"
   ]
  },
  {
   "cell_type": "code",
   "execution_count": 487,
   "metadata": {
    "ExecuteTime": {
     "end_time": "2021-06-17T03:25:15.039387Z",
     "start_time": "2021-06-17T03:25:15.006430Z"
    }
   },
   "outputs": [
    {
     "name": "stdout",
     "output_type": "stream",
     "text": [
      "J.K. walked to the store! me@gmail.com, but then? You're being difficult with\r\n",
      "that request...idk.Who is this; what are you doing? \"Nothing,\" he answered -\r\n",
      "but what about more lines more words can emojis work :) testing testing test\r\n",
      "test. Let's make this more characters. Over 2 lines. How many now?? A bit\r\n",
      "overhanging \n"
     ]
    }
   ],
   "source": [
    "print(text_manager.get('rand', chunked=True))"
   ]
  },
  {
   "cell_type": "code",
   "execution_count": 488,
   "metadata": {
    "ExecuteTime": {
     "end_time": "2021-06-17T03:25:16.297845Z",
     "start_time": "2021-06-17T03:25:16.253365Z"
    }
   },
   "outputs": [
    {
     "name": "stdout",
     "output_type": "stream",
     "text": [
      "J.K. walked to the store! me@gmail.com, but then? You're being difficult with that request...idk.Who is this; what are you doing? \"Nothing,\" he answered - but what about more lines more words can emojis work :) testing testing test test. Let's make this more characters. Over 2 lines. How many now?? A bit overhanging \n"
     ]
    }
   ],
   "source": [
    "print(text_manager.get('rand', chunked=False))"
   ]
  },
  {
   "cell_type": "code",
   "execution_count": 489,
   "metadata": {
    "ExecuteTime": {
     "end_time": "2021-06-17T03:25:20.232418Z",
     "start_time": "2021-06-17T03:25:20.170952Z"
    }
   },
   "outputs": [
    {
     "name": "stdout",
     "output_type": "stream",
     "text": [
      "J.K. walked to the store! me@gmail.com, but then? You're being difficult with\r\n",
      "that request...idk.Who is this; what are you doing? \"Nothing,\" he answered -\r\n",
      "but what about more lines more words can emojis work :) testing testing test\r\n",
      "test. Let's make this more characters. Over 2 lines. How many now?? A bit\r\n",
      "overhanging \n",
      "\n",
      "J.K. walked to the store! me@gmail.com, but then? You're being difficult with\r\n",
      "that request...idk.Who is this; what are you doing? \"Nothing,\" he answered -\r\n",
      "but what about more lines more words can emojis work :) testing testing test\r\n",
      "test. Let's make this more characters. Over 2 lines. How many now?? A bit\r\n",
      "overhanging \n",
      "\n",
      "J.K. walked to the store! me@gmail.com, but then? You're being difficult with\r\n",
      "that request...idk.Who is this; what are you doing? \"Nothing,\" he answered -\r\n",
      "but what about more lines more words can emojis work :) testing testing test\r\n",
      "test. Let's make this more characters. Over 2 lines. How many now?? A bit\r\n",
      "overhanging \n",
      "\n",
      "J.K. walked to the store! me@gmail.com, but then? You're being difficult with\r\n",
      "that request...idk.Who is this; what are you doing? \"Nothing,\" he answered -\r\n",
      "but what about more lines more words can emojis work :) testing testing test\r\n",
      "test. Let's make this more characters. Over 2 lines. How many now?? A bit\r\n",
      "overhanging \n",
      "\n",
      "J.K. walked to the store! me@gmail.com, but then? You're being difficult with\r\n",
      "that request...idk.Who is this; what are you doing? \"Nothing,\" he answered -\r\n",
      "but what about more lines more words can emojis work :) testing testing test\r\n",
      "test. Let's make this more characters. Over 2 lines. How many now?? A bit\r\n",
      "overhanging \n",
      "\n"
     ]
    }
   ],
   "source": [
    "chunker = GuiTextChunker()\n",
    "inp = t\n",
    "# Input is initially unchunked, but we repeatedly add the chunked version.\n",
    "# This results in text growing progressively shorter, but I think we'd only\n",
    "# want it to change the first time. UPDATE: seems to work now.\n",
    "for i in range(5):\n",
    "#     print(chunker._previously_added('rand', inp))\n",
    "    inp = chunker.add('rand', inp)\n",
    "    print(inp, end='\\n\\n')"
   ]
  },
  {
   "cell_type": "code",
   "execution_count": 476,
   "metadata": {
    "ExecuteTime": {
     "end_time": "2021-06-17T03:17:01.529936Z",
     "start_time": "2021-06-17T03:17:01.496356Z"
    }
   },
   "outputs": [
    {
     "data": {
      "text/plain": [
       "['J.K.',\n",
       " 'walked',\n",
       " 'to',\n",
       " 'the',\n",
       " 'store!',\n",
       " 'me@gmail.com,',\n",
       " 'but',\n",
       " \"then?\\r\\nYou're\\r\\nbeing\\r\\ndifficult\\r\\nwith\\r\\nthat\",\n",
       " 'request...idk.Who',\n",
       " 'is',\n",
       " 'this;',\n",
       " 'what',\n",
       " 'are\\r\\nyou\\r\\ndoing?\\r\\n\"Nothing,\"',\n",
       " 'he\\r\\nanswered',\n",
       " '-\\r\\nbut',\n",
       " 'what',\n",
       " 'about',\n",
       " 'more',\n",
       " 'lines',\n",
       " 'more',\n",
       " 'words\\r\\ncan\\r\\nemojis\\r\\nwork',\n",
       " ':)',\n",
       " 'testing\\r\\ntesting',\n",
       " 'test\\r\\ntest.',\n",
       " \"Let's\",\n",
       " 'make',\n",
       " 'this',\n",
       " 'more\\r\\ncharacters.\\r\\nOver',\n",
       " '2\\r\\nlines.',\n",
       " 'How',\n",
       " 'many\\r\\nnow??',\n",
       " 'A',\n",
       " 'bit\\r\\noverhanging',\n",
       " '']"
      ]
     },
     "execution_count": 476,
     "metadata": {},
     "output_type": "execute_result"
    }
   ],
   "source": [
    "inp.split(' ')"
   ]
  },
  {
   "cell_type": "code",
   "execution_count": 448,
   "metadata": {
    "ExecuteTime": {
     "end_time": "2021-06-15T03:20:15.722632Z",
     "start_time": "2021-06-15T03:20:15.669237Z"
    }
   },
   "outputs": [],
   "source": [
    "t2 = \"\"\"Leverage agile frameworks to provide a robust synopsis for high level overviews. Iterative approaches to corporate strategy foster collaborative thinking to further the overall value proposition. Organically grow the holistic world view of disruptive innovation via workplace diversity and empowerment.\n",
    "\n",
    "Bring to the table win-win survival strategies to ensure proactive domination. At the end of the day, going forward, a new normal that has evolved from generation X is on the runway heading towards a streamlined cloud solution. User generated content in real-time will have multiple touchpoints for offshoring.\n",
    "\n",
    "Capitalize on low hanging fruit to identify a ballpark\"\"\"\n",
    "text_manager.add('long', t2, max_chars=100)"
   ]
  },
  {
   "cell_type": "code",
   "execution_count": 450,
   "metadata": {
    "ExecuteTime": {
     "end_time": "2021-06-15T03:20:31.642502Z",
     "start_time": "2021-06-15T03:20:31.587761Z"
    }
   },
   "outputs": [
    {
     "name": "stdout",
     "output_type": "stream",
     "text": [
      "Leverage agile frameworks to provide a robust synopsis for high level overviews. Iterative\n",
      "approaches to corporate strategy foster collaborative thinking to further the overall value\n",
      "proposition. Organically grow the holistic world view of disruptive innovation via workplace\n",
      "diversity and empowerment.\n",
      "\n",
      "Bring to the table win-win survival strategies to ensure proactive\n",
      "domination. At the end of the day, going forward, a new normal that has evolved from generation X\n",
      "is on the runway heading towards a streamlined cloud solution. User generated content in real-time\n",
      "will have multiple touchpoints for offshoring.\n",
      "\n",
      "Capitalize on low hanging fruit to identify a\n",
      "ballpark\n"
     ]
    }
   ],
   "source": [
    "print(text_manager.get('long', chunked=True))"
   ]
  },
  {
   "cell_type": "code",
   "execution_count": 451,
   "metadata": {
    "ExecuteTime": {
     "end_time": "2021-06-15T03:20:38.645587Z",
     "start_time": "2021-06-15T03:20:38.560713Z"
    }
   },
   "outputs": [
    {
     "name": "stdout",
     "output_type": "stream",
     "text": [
      "Leverage agile frameworks to provide a robust synopsis for high level overviews. Iterative approaches to corporate strategy foster collaborative thinking to further the overall value proposition. Organically grow the holistic world view of disruptive innovation via workplace diversity and empowerment.\n",
      "\n",
      "Bring to the table win-win survival strategies to ensure proactive domination. At the end of the day, going forward, a new normal that has evolved from generation X is on the runway heading towards a streamlined cloud solution. User generated content in real-time will have multiple touchpoints for offshoring.\n",
      "\n",
      "Capitalize on low hanging fruit to identify a ballpark\n"
     ]
    }
   ],
   "source": [
    "print(text_manager.get('long', chunked=False))"
   ]
  },
  {
   "cell_type": "code",
   "execution_count": null,
   "metadata": {},
   "outputs": [],
   "source": []
  }
 ],
 "metadata": {
  "kernelspec": {
   "display_name": "Python 3",
   "language": "python",
   "name": "python3"
  },
  "language_info": {
   "codemirror_mode": {
    "name": "ipython",
    "version": 3
   },
   "file_extension": ".py",
   "mimetype": "text/x-python",
   "name": "python",
   "nbconvert_exporter": "python",
   "pygments_lexer": "ipython3",
   "version": "3.7.3"
  }
 },
 "nbformat": 4,
 "nbformat_minor": 2
}
