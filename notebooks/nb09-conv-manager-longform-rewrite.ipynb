{
 "cells": [
  {
   "cell_type": "markdown",
   "metadata": {},
   "source": [
    "# Summary\n",
    "\n",
    "ConversationManager refactor attempt. Trying to change its interface so it can more effectively:\n",
    "1. Support longer conversations via prompting with a subset of past responseses,\n",
    "2. Support longer conversations via summarizing past conv, and\n",
    "3. Still work with my GUI."
   ]
  },
  {
   "cell_type": "code",
   "execution_count": 1,
   "metadata": {
    "ExecuteTime": {
     "end_time": "2021-08-04T03:24:50.699042Z",
     "start_time": "2021-08-04T03:24:50.677541Z"
    }
   },
   "outputs": [
    {
     "name": "stdout",
     "output_type": "stream",
     "text": [
      "The autoreload extension is already loaded. To reload it, use:\n",
      "  %reload_ext autoreload\n"
     ]
    }
   ],
   "source": [
    "%load_ext autoreload\n",
    "%autoreload 2"
   ]
  },
  {
   "cell_type": "code",
   "execution_count": 2,
   "metadata": {
    "ExecuteTime": {
     "end_time": "2021-08-04T03:24:56.750264Z",
     "start_time": "2021-08-04T03:24:53.447287Z"
    }
   },
   "outputs": [],
   "source": [
    "from itertools import zip_longest\n",
    "import matplotlib.pyplot as plt\n",
    "from nltk.tokenize import sent_tokenize\n",
    "import numpy as np\n",
    "import os\n",
    "import pandas as pd\n",
    "from pathlib import Path\n",
    "\n",
    "from jabberwocky.config import C\n",
    "from jabberwocky.openai_utils import load_prompt, load_openai_api_key, \\\n",
    "    query_gpt3, print_response\n",
    "from jabberwocky.utils import bold, colored\n",
    "from htools import *"
   ]
  },
  {
   "cell_type": "code",
   "execution_count": 3,
   "metadata": {
    "ExecuteTime": {
     "end_time": "2021-08-04T03:24:56.834617Z",
     "start_time": "2021-08-04T03:24:56.752774Z"
    }
   },
   "outputs": [
    {
     "name": "stdout",
     "output_type": "stream",
     "text": [
      "Current directory: /Users/hmamin/jabberwocky\n"
     ]
    }
   ],
   "source": [
    "cd_root()"
   ]
  },
  {
   "cell_type": "code",
   "execution_count": 482,
   "metadata": {
    "ExecuteTime": {
     "end_time": "2021-07-15T03:35:32.777902Z",
     "start_time": "2021-07-15T03:35:32.631007Z"
    }
   },
   "outputs": [],
   "source": [
    "class ProtoConversationManager:\n",
    "    \"\"\"Similar to PromptManager but designed for ongoing conversations. This\n",
    "    currently references just a single prompt: conversation.\n",
    "    \"\"\"\n",
    "\n",
    "    img_exts = {'.jpg', '.jpeg', '.png'}\n",
    "\n",
    "    def __init__(self, *names, data_dir='./data',\n",
    "                 backup_image='data/misc/unknown_person.png', \n",
    "                 turn_window=4):\n",
    "        assert 1 <= turn_window <= 20, 'turn_window should be in [1, 20].'\n",
    "        \n",
    "        # We'll be adding in the user's newest turn separately from accessing\n",
    "        # their historical turns so we need to subtract 1 from both of these.\n",
    "        self.user_turn_window = int(np.ceil(turn_window / 2)) - 1\n",
    "        self.gpt3_turn_window = turn_window - self.user_turn_window - 1\n",
    "        \n",
    "        # Set directories for data storage, logging, etc.\n",
    "        self.backup_image = Path(backup_image)\n",
    "        self.data_dir = Path(data_dir)\n",
    "        self.persona_dir = self.data_dir/'conversation_personas'\n",
    "        self.conversation_dir = self.data_dir/'conversations'\n",
    "        self.log_dir = self.data_dir/'logs'\n",
    "        self.log_path = Path(self.log_dir)/'conversation_query_kwargs.json'\n",
    "        for dir_ in (self.persona_dir, self.conversation_dir, self.log_dir):\n",
    "            os.makedirs(dir_, exist_ok=True)\n",
    "\n",
    "        # These attributes will be updated when we load a persona and cleared\n",
    "        # when we end a conversation. current_persona is the processed name\n",
    "        # (i.e. lowercase w/ underscores).\n",
    "        self.current_persona = ''\n",
    "        self.current_summary = ''\n",
    "        self.current_img_path = ''\n",
    "        self.current_gender = ''\n",
    "        self.cached_query = ''\n",
    "        self.user_turns = []\n",
    "        self.gpt3_turns = []\n",
    "\n",
    "        # Load prompt, default query kwargs, and existing personas.\n",
    "        self._kwargs = load_prompt('conversation')\n",
    "        self._base_prompt = self._kwargs.pop('prompt')\n",
    "\n",
    "        # Populated by _load_personas().\n",
    "        self.name2img_path = {}\n",
    "        self.name2base = {}\n",
    "        self.name2gender = {}\n",
    "        self._load_personas(names)\n",
    "\n",
    "    def _load_personas(self, names):\n",
    "        names = names or [path.stem for path in self.persona_dir.iterdir()]\n",
    "        for name in names:\n",
    "            try:\n",
    "                self.update_persona_dicts(self.process_name(name))\n",
    "            except:\n",
    "                warnings.warn(f'Could not load files for {name}.')\n",
    "\n",
    "    def start_conversation(self, name, download_if_necessary=False):\n",
    "        if name not in self:\n",
    "            if not download_if_necessary:\n",
    "                raise KeyError(f'{name} persona not available. You can set '\n",
    "                               'download_if_necessary=True if you wish to '\n",
    "                               'construct a new persona.')\n",
    "            _ = self.add_persona(name, return_data=True)\n",
    "        self.end_conversation()\n",
    "\n",
    "        processed_name = self.process_name(name)\n",
    "        self.current_persona = processed_name\n",
    "        self.current_img_path = self.name2img_path[processed_name]\n",
    "        self.current_gender = self.name2gender[processed_name]\n",
    "        # This one is not returned. Info would be a bit repetitive.\n",
    "        self.current_summary = self._name2summary(processed_name)\n",
    "        return (self.current_persona,\n",
    "                self.current_img_path,\n",
    "                self.current_gender)\n",
    "\n",
    "    def _name2summary(self, name):\n",
    "        if '_' not in name: name = self.process_name(name)\n",
    "        base = self.name2base[name]\n",
    "        intro = sent_tokenize(base)[0]\n",
    "        return base.replace(intro, '').strip()\n",
    "\n",
    "    def end_conversation(self, fname=None):\n",
    "        if fname: self.save_conversation(fname)\n",
    "        self.current_summary = ''\n",
    "        self.current_persona = ''\n",
    "        self.current_img_path = ''\n",
    "        self.current_gender = ''\n",
    "        self.cached_query = ''\n",
    "        self.user_turns.clear()\n",
    "        self.gpt3_turns.clear()\n",
    "\n",
    "    def save_conversation(self, fname):\n",
    "        if not self.user_turns:\n",
    "            raise RuntimeError('No conversation to save.')\n",
    "        save(self.full_conversation, self.conversation_dir/fname)\n",
    "\n",
    "    def add_persona(self, name, return_data=False):\n",
    "        processed_name = self.process_name(name)\n",
    "        dir_ = self.persona_dir/processed_name\n",
    "        if dir_.exists():\n",
    "            summary, img_path, gender = self.update_persona_dicts(\n",
    "                processed_name, return_values=True\n",
    "            )\n",
    "        else:\n",
    "            summary, _, img_path, gender = wiki_data(\n",
    "                name, img_dir=self.persona_dir/processed_name, fname='profile'\n",
    "            )\n",
    "            save(summary, dir_/'summary.txt')\n",
    "            save(gender, dir_/'gender.json')\n",
    "\n",
    "            # Otherwise it's an empty string if we fail to download an image.\n",
    "            if not img_path:\n",
    "                img_path = dir_/f'profile{self.backup_image.suffix}'\n",
    "                shutil.copy2(self.backup_image, img_path)\n",
    "            self.update_persona_dicts(processed_name)\n",
    "        if return_data: return summary, img_path, gender\n",
    "\n",
    "    def update_persona_dicts(self, processed_name, return_values=False):\n",
    "        dir_ = self.persona_dir/processed_name\n",
    "        summary = load(dir_/'summary.txt')\n",
    "        self.name2gender[processed_name] = load(dir_/'gender.json')\n",
    "        self.name2img_path[processed_name] = [p for p in dir_.iterdir()\n",
    "                                              if p.stem == 'profile'][0]\n",
    "        self.name2base[processed_name] = self._base_prompt.format(\n",
    "            name=self.process_name(processed_name, inverse=True),\n",
    "            summary=summary\n",
    "        )\n",
    "        if return_values:\n",
    "            return Results(summary=summary,\n",
    "                           img_path=self.name2img_path[processed_name],\n",
    "                           gender=self.name2gender[processed_name])\n",
    "\n",
    "    def process_name(self, name, inverse=False):\n",
    "        if inverse:\n",
    "            return name.replace('_', ' ').title()\n",
    "        return name.lower().replace(' ', '_').replace('.', '')\n",
    "\n",
    "    def personas(self, pretty=True, sort=True):\n",
    "        names = list(self.name2base)\n",
    "        if pretty: names = [self.process_name(name, True) for name in names]\n",
    "        if sort: names = sorted(names)\n",
    "        return names\n",
    "\n",
    "    def kwargs(self, name='', fully_resolved=True, return_prompt=False,\n",
    "               extra_kwargs=None, **kwargs):\n",
    "        # Name param should be pretty version, i.e. no underscores. Only\n",
    "        # needed when return_prompt is True.\n",
    "        if 'prompt' in kwargs:\n",
    "            raise RuntimeError(\n",
    "                'Arg \"prompt\" should not be in query kwargs. It will be '\n",
    "                'constructed within this method and passing it in will '\n",
    "                'override the new version.'\n",
    "            )\n",
    "        kwargs = {**self._kwargs, **kwargs}\n",
    "        for k, v in (extra_kwargs or {}).items():\n",
    "            v_cls = type(v)\n",
    "            # Make a new object instead of just using get() or setdefault\n",
    "            # since the latter two methods both mutate our default kwargs.\n",
    "            curr_val = v_cls(kwargs.get(k, v_cls()))\n",
    "            if isinstance(v, Iterable):\n",
    "                curr_val.extend(v)\n",
    "            elif isinstance(v, Mapping):\n",
    "                curr_val.update(v)\n",
    "            else:\n",
    "                raise TypeError(f'Key {k} has unrecognized type {v_cls} in '\n",
    "                                '`extra_kwargs`.')\n",
    "            kwargs[k] = curr_val\n",
    "\n",
    "        if fully_resolved: kwargs = dict(bound_args(query_gpt3, [], kwargs))\n",
    "            \n",
    "        # Note: should this return an updated prompt? Right now it looks like \n",
    "        # it always returns the base one.\n",
    "        if name and return_prompt:\n",
    "            kwargs['prompt'] = self.name2base[self.process_name(name)]\n",
    "        return kwargs\n",
    "\n",
    "    def query_later(self, text):\n",
    "        self.cached_query = text.strip()\n",
    "        \n",
    "    def query(self, text=None, debug=False, extra_kwargs=None, **kwargs):\n",
    "        if not self.current_persona:\n",
    "            raise RuntimeError('You must call the `start_conversation` '\n",
    "                               'method before making a query.')\n",
    "        \n",
    "        # In the same spirit as our handling of kwargs here, passing in a text\n",
    "        # arg will override a cached query if one exists.\n",
    "        text = text or self.cached_query\n",
    "        kwargs = self.kwargs(fully_resolved=False, return_prompt=False,\n",
    "                             extra_kwargs=extra_kwargs, **kwargs)\n",
    "        prompt = self.format_prompt(user_text=text)\n",
    "        if debug:\n",
    "            print('prompt:\\n' + prompt)\n",
    "            print(spacer())\n",
    "            print('kwargs:\\n', kwargs)\n",
    "            print(spacer())\n",
    "            print('fully resolved kwargs:\\n',\n",
    "                  dict(bound_args(query_gpt3, [], kwargs)))\n",
    "            return\n",
    "        \n",
    "        # Update these after format_prompt() call and debug check.\n",
    "        self.user_turns.append(text.strip())\n",
    "        self.cached_query = ''\n",
    "        \n",
    "        # Log kwargs for troubleshooting purposes.\n",
    "        save({'prompt': prompt, **kwargs}, self.log_path, verbose=False)\n",
    "        prompt, resp = query_gpt3(prompt, **kwargs)\n",
    "        self.gpt3_turns.append(resp.strip())\n",
    "        # Can't just concat prompt and response anymore because prompt is not\n",
    "        # the full conversation.\n",
    "        return prompt, resp\n",
    "\n",
    "    def _format_prompt(self, user_text='', do_full=False, \n",
    "                       exclude_trailing_name=False):\n",
    "        if not self.current_persona:\n",
    "            raise RuntimeError('No persona loaded. Have you started a '\n",
    "                               'conversation?')\n",
    "        if not do_full and not user_text:\n",
    "            raise RuntimeError('user_text must be provided when '\n",
    "                               'do_full=False.')\n",
    "        \n",
    "        pretty_name = self.process_name(self.current_persona, inverse=True)  \n",
    "        if do_full:\n",
    "            user_turns = self.user_turns\n",
    "            gpt3_turns = self.gpt3_turns\n",
    "        else:\n",
    "            user_turns = (self.user_turns[-self.user_turn_window:]\n",
    "                          + [user_text.strip()])\n",
    "            gpt3_turns = self.gpt3_turns[-self.gpt3_turn_window:]\n",
    "        user_turns = [f'Me: {turn}' for turn in user_turns]\n",
    "        gpt3_turns = [f'{pretty_name}: {turn}' for turn in gpt3_turns]\n",
    "        ordered = [user_turns, gpt3_turns]\n",
    "        if len(gpt3_turns) == len(user_turns) and not do_full:\n",
    "            ordered = reversed(ordered)\n",
    "        interleaved = filter(None, flatten(zip_longest(*ordered)))\n",
    "        # Need plus sign here: I guess implicit line continuation only works\n",
    "        # for things that are explicitly strings (not output of str.join).\n",
    "        prompt = f'{self.name2base[self.current_persona]}\\n\\n' \\\n",
    "                 + '\\n\\n'.join(interleaved)\n",
    "        if exclude_trailing_name: return prompt\n",
    "        return f'{prompt}\\n\\n{self.process_name(self.current_persona, True)}:'\n",
    "    \n",
    "    def format_prompt(self, user_text, exclude_trailing_name=False):\n",
    "        return self._format_prompt(\n",
    "            user_text, do_full=False,\n",
    "            exclude_trailing_name=exclude_trailing_name\n",
    "        )\n",
    "    \n",
    "    @property\n",
    "    def full_conversation(self):\n",
    "        return self._format_prompt(do_full=True, exclude_trailing_name=True)\n",
    "    \n",
    "    @full_conversation.setter\n",
    "    def full_conversation(self):\n",
    "        raise RuntimeError('full_conversation is read-only.')\n",
    "        \n",
    "    @full_conversation.deleter\n",
    "    def full_conversation(self):\n",
    "        raise RuntimeError('full_conversation is read-only.')\n",
    "    \n",
    "    @contextmanager\n",
    "    def converse(self, name, fname='', download_if_necessary=False):\n",
    "        try:\n",
    "            _ = self.start_conversation(name, download_if_necessary)\n",
    "            yield\n",
    "        finally:\n",
    "            self.end_conversation(fname=fname)\n",
    "\n",
    "    @staticmethod\n",
    "    def format_conversation(text, gpt_color='black'):\n",
    "        def _format(line, color='black'):\n",
    "            if not line: return line\n",
    "            name, _, line = line.partition(':')\n",
    "            # Bold's stop character also resets color so we need to color the\n",
    "            # chunks separately.\n",
    "            return colored(bold(name + ':'), color) + colored(line, color)\n",
    "\n",
    "        if listlike(text): text = ' '.join(text)\n",
    "        summary, *lines = text.splitlines()\n",
    "        name = [name for name, n in\n",
    "                Counter(line.split(':')[0]\n",
    "                        for line in lines if ':' in line).most_common(2)\n",
    "                if name != 'Me'][0]\n",
    "        formatted_lines = [bold(summary)]\n",
    "        prev_is_me = True\n",
    "        for line in lines:\n",
    "            if line.startswith(name + ':'):\n",
    "                line = _format(line, gpt_color)\n",
    "                prev_is_me = False\n",
    "            elif line.startswith('Me: ') or prev_is_me:\n",
    "                line = _format(line)\n",
    "                prev_is_me = True\n",
    "            formatted_lines.append(line)\n",
    "        return '\\n'.join(formatted_lines)\n",
    "\n",
    "    def __contains__(self, name):\n",
    "        return self.process_name(name) in self.name2base\n",
    "\n",
    "    def __len__(self):\n",
    "        return len(self.name2base)"
   ]
  },
  {
   "cell_type": "code",
   "execution_count": 483,
   "metadata": {
    "ExecuteTime": {
     "end_time": "2021-07-15T03:35:49.885047Z",
     "start_time": "2021-07-15T03:35:49.823440Z"
    }
   },
   "outputs": [
    {
     "name": "stdout",
     "output_type": "stream",
     "text": [
      "conversation: Your message must start with 'Hi {name}.'. Might want to try tweaking frequency penalty.\n",
      "-------------------------------------------------------------------------------\n",
      "\n",
      "Object loaded from data/conversation_personas/barack_obama/gender.json.\n",
      "Object loaded from data/conversation_personas/joe_rogan/gender.json.\n",
      "Object loaded from data/conversation_personas/kanye_west/gender.json.\n",
      "Object loaded from data/conversation_personas/brandon_sanderson/gender.json.\n",
      "Object loaded from data/conversation_personas/dr_seuss/gender.json.\n",
      "Object loaded from data/conversation_personas/albert_einstein/gender.json.\n",
      "Object loaded from data/conversation_personas/beyonce/gender.json.\n",
      "Object loaded from data/conversation_personas/yann_lecun/gender.json.\n",
      "Object loaded from data/conversation_personas/brendan_schaub/gender.json.\n"
     ]
    }
   ],
   "source": [
    "conv = ProtoConversationManager(turn_window=3)"
   ]
  },
  {
   "cell_type": "code",
   "execution_count": 484,
   "metadata": {
    "ExecuteTime": {
     "end_time": "2021-07-15T03:35:57.520425Z",
     "start_time": "2021-07-15T03:35:57.455937Z"
    }
   },
   "outputs": [],
   "source": [
    "conv.start_conversation('Kanye West')\n",
    "assert conv.user_turn_window, conv.gpt3_turn_window == (1, 1)"
   ]
  },
  {
   "cell_type": "code",
   "execution_count": 485,
   "metadata": {
    "ExecuteTime": {
     "end_time": "2021-07-15T03:36:01.517937Z",
     "start_time": "2021-07-15T03:36:01.467201Z"
    }
   },
   "outputs": [
    {
     "name": "stdout",
     "output_type": "stream",
     "text": [
      "This is a conversation with Kanye West. Kanye Omari West (born June 8, 1977) is an American rapper, singer, record producer, businessman, politician, and fashion designer. He has been influential in the 21st-century development of mainstream hip hop, popular music, and popular culture in general.Born in Atlanta and raised in Chicago, West gained notoriety as a producer for Roc-A-Fella Records in the early 2000s, producing singles for several mainstream artists.\n",
      "\n",
      "Me: Hi Kanye. Who is someone you've met who influenced you as an artist?\n",
      "\n",
      "Kanye West:\n"
     ]
    }
   ],
   "source": [
    "turn = 'Hi Kanye. Who is someone you\\'ve met who influenced you as an artist?'\n",
    "tmp = conv.format_prompt(turn)\n",
    "print(tmp)\n",
    "\n",
    "assert 'kanye_west' not in tmp\n",
    "assert tmp.startswith('This is a conversation with')\n",
    "assert tmp.endswith('Kanye West:')"
   ]
  },
  {
   "cell_type": "code",
   "execution_count": 488,
   "metadata": {
    "ExecuteTime": {
     "end_time": "2021-07-15T03:36:01.750080Z",
     "start_time": "2021-07-15T03:36:01.690092Z"
    }
   },
   "outputs": [
    {
     "name": "stdout",
     "output_type": "stream",
     "text": [
      "This is a conversation with Kanye West. Kanye Omari West (born June 8, 1977) is an American rapper, singer, record producer, businessman, politician, and fashion designer. He has been influential in the 21st-century development of mainstream hip hop, popular music, and popular culture in general.Born in Atlanta and raised in Chicago, West gained notoriety as a producer for Roc-A-Fella Records in the early 2000s, producing singles for several mainstream artists.\n",
      "\n",
      "Me: Hi Kanye. Who is someone you've met who influenced you as an artist?\n"
     ]
    }
   ],
   "source": [
    "tmp = conv.format_prompt(turn, exclude_trailing_name=True)\n",
    "print(tmp)\n",
    "\n",
    "assert 'kanye_west' not in tmp\n",
    "assert tmp.startswith('This is a conversation with')\n",
    "assert not tmp.endswith('Kanye West:')"
   ]
  },
  {
   "cell_type": "code",
   "execution_count": 489,
   "metadata": {
    "ExecuteTime": {
     "end_time": "2021-07-15T03:36:01.869732Z",
     "start_time": "2021-07-15T03:36:01.758762Z"
    }
   },
   "outputs": [
    {
     "name": "stdout",
     "output_type": "stream",
     "text": [
      "This is a conversation with Kanye West. Kanye Omari West (born June 8, 1977) is an American rapper, singer, record producer, businessman, politician, and fashion designer. He has been influential in the 21st-century development of mainstream hip hop, popular music, and popular culture in general.Born in Atlanta and raised in Chicago, West gained notoriety as a producer for Roc-A-Fella Records in the early 2000s, producing singles for several mainstream artists.\n",
      "\n",
      "\n"
     ]
    }
   ],
   "source": [
    "print(conv.full_conversation)"
   ]
  },
  {
   "cell_type": "code",
   "execution_count": 490,
   "metadata": {
    "ExecuteTime": {
     "end_time": "2021-07-15T03:36:01.956772Z",
     "start_time": "2021-07-15T03:36:01.874007Z"
    }
   },
   "outputs": [],
   "source": [
    "assert not conv.user_turns\n",
    "assert not conv.gpt3_turns"
   ]
  },
  {
   "cell_type": "code",
   "execution_count": 491,
   "metadata": {
    "ExecuteTime": {
     "end_time": "2021-07-15T03:36:02.055406Z",
     "start_time": "2021-07-15T03:36:01.959247Z"
    }
   },
   "outputs": [],
   "source": [
    "assert not conv.cached_query\n",
    "conv.query_later(turn)\n",
    "assert conv.cached_query == turn"
   ]
  },
  {
   "cell_type": "code",
   "execution_count": 492,
   "metadata": {
    "ExecuteTime": {
     "end_time": "2021-07-15T03:36:02.105795Z",
     "start_time": "2021-07-15T03:36:02.060119Z"
    }
   },
   "outputs": [
    {
     "name": "stdout",
     "output_type": "stream",
     "text": [
      "prompt:\n",
      "This is a conversation with Kanye West. Kanye Omari West (born June 8, 1977) is an American rapper, singer, record producer, businessman, politician, and fashion designer. He has been influential in the 21st-century development of mainstream hip hop, popular music, and popular culture in general.Born in Atlanta and raised in Chicago, West gained notoriety as a producer for Roc-A-Fella Records in the early 2000s, producing singles for several mainstream artists.\n",
      "\n",
      "Me: Hi Kanye. Who is someone you've met who influenced you as an artist?\n",
      "\n",
      "Kanye West:\n",
      "\n",
      "-------------------------------------------------------------------------------\n",
      "\n",
      "kwargs:\n",
      " {'engine_i': 3, 'temperature': 0.5, 'max_tokens': 250, 'frequency_penalty': 0.1, 'stop': ['Me:', 'This is a conversation with']}\n",
      "\n",
      "-------------------------------------------------------------------------------\n",
      "\n",
      "fully resolved kwargs:\n",
      " {'engine_i': 3, 'temperature': 0.5, 'frequency_penalty': 0.1, 'max_tokens': 250, 'logprobs': None, 'stream': False, 'mock': False, 'return_full': False, 'strip_output': True, 'mock_func': None, 'mock_mode': 'raise', 'stop': ['Me:', 'This is a conversation with']}\n"
     ]
    }
   ],
   "source": [
    "conv.query(debug=True)"
   ]
  },
  {
   "cell_type": "code",
   "execution_count": 493,
   "metadata": {
    "ExecuteTime": {
     "end_time": "2021-07-15T03:36:02.156759Z",
     "start_time": "2021-07-15T03:36:02.107760Z"
    }
   },
   "outputs": [
    {
     "name": "stdout",
     "output_type": "stream",
     "text": [
      "prompt:\n",
      "This is a conversation with Kanye West. Kanye Omari West (born June 8, 1977) is an American rapper, singer, record producer, businessman, politician, and fashion designer. He has been influential in the 21st-century development of mainstream hip hop, popular music, and popular culture in general.Born in Atlanta and raised in Chicago, West gained notoriety as a producer for Roc-A-Fella Records in the early 2000s, producing singles for several mainstream artists.\n",
      "\n",
      "Me: Hi Kanye. Who is someone you've met who influenced you as an artist?\n",
      "\n",
      "Kanye West:\n",
      "\n",
      "-------------------------------------------------------------------------------\n",
      "\n",
      "kwargs:\n",
      " {'engine_i': 0, 'temperature': 0.5, 'max_tokens': 250, 'frequency_penalty': 0.1, 'stop': ['Me:', 'This is a conversation with']}\n",
      "\n",
      "-------------------------------------------------------------------------------\n",
      "\n",
      "fully resolved kwargs:\n",
      " {'engine_i': 0, 'temperature': 0.5, 'frequency_penalty': 0.1, 'max_tokens': 250, 'logprobs': None, 'stream': False, 'mock': False, 'return_full': False, 'strip_output': True, 'mock_func': None, 'mock_mode': 'raise', 'stop': ['Me:', 'This is a conversation with']}\n"
     ]
    }
   ],
   "source": [
    "conv.query(debug=True, engine_i=0)"
   ]
  },
  {
   "cell_type": "code",
   "execution_count": 494,
   "metadata": {
    "ExecuteTime": {
     "end_time": "2021-07-15T03:36:03.908442Z",
     "start_time": "2021-07-15T03:36:02.166328Z"
    }
   },
   "outputs": [
    {
     "name": "stdout",
     "output_type": "stream",
     "text": [
      "\u001b[1mThis is a conversation with Kanye West. Kanye Omari West (born June 8, 1977) is an American rapper, singer, record producer, businessman, politician, and fashion designer. He has been influential in the 21st-century development of mainstream hip hop, popular music, and popular culture in general.Born in Atlanta and raised in Chicago, West gained notoriety as a producer for Roc-A-Fella Records in the early 2000s, producing singles for several mainstream artists.\u001b[0m\n",
      "\n",
      "\u001b[30m\u001b[1mMe:\u001b[0m\u001b[39m\u001b[30m Hi Kanye. Who is someone you've met who influenced you as an artist?\u001b[39m\n",
      "\n",
      "\u001b[30m\u001b[1mKanye West:\u001b[0m\u001b[39m\u001b[30m I've met a lot of people. I met a lot of people who were on my team. I met a lot of people who were on my team who were like, \"Oh, you're a rapper. You're hip-hop.\" I met a lot of people who were like, \"You're a rapper. You're R&B.\" I met a lot of people who were like, \"You're a singer.\" I met a lot of people who were like, \"You're a dancer.\" I met a lot of people who were like, \"You're an artist.\"\u001b[39m\n"
     ]
    }
   ],
   "source": [
    "prompt, resp = conv.query(engine_i=0)\n",
    "print(conv.format_conversation(conv.full_conversation))"
   ]
  },
  {
   "cell_type": "code",
   "execution_count": 495,
   "metadata": {
    "ExecuteTime": {
     "end_time": "2021-07-15T03:36:03.945398Z",
     "start_time": "2021-07-15T03:36:03.910437Z"
    }
   },
   "outputs": [],
   "source": [
    "assert len(conv.user_turns) == 1\n",
    "assert len(conv.gpt3_turns) == 1"
   ]
  },
  {
   "cell_type": "code",
   "execution_count": 496,
   "metadata": {
    "ExecuteTime": {
     "end_time": "2021-07-15T03:36:04.075813Z",
     "start_time": "2021-07-15T03:36:03.948449Z"
    }
   },
   "outputs": [
    {
     "name": "stdout",
     "output_type": "stream",
     "text": [
      "Object loaded from data/logs/conversation_query_kwargs.json.\n",
      "This is a conversation with Kanye West. Kanye Omari West (born June 8, 1977) is an American rapper, singer, record producer, businessman, politician, and fashion designer. He has been influential in the 21st-century development of mainstream hip hop, popular music, and popular culture in general.Born in Atlanta and raised in Chicago, West gained notoriety as a producer for Roc-A-Fella Records in the early 2000s, producing singles for several mainstream artists.\n",
      "\n",
      "Me: Hi Kanye. Who is someone you've met who influenced you as an artist?\n",
      "\n",
      "Kanye West:\n"
     ]
    }
   ],
   "source": [
    "tmp = load(conv.log_path)['prompt']\n",
    "print(tmp)\n",
    "\n",
    "assert 'kanye_west' not in tmp\n",
    "assert tmp.startswith('This is a conversation')\n",
    "assert tmp.endswith('Kanye West:')"
   ]
  },
  {
   "cell_type": "code",
   "execution_count": 497,
   "metadata": {
    "ExecuteTime": {
     "end_time": "2021-07-15T03:36:04.138080Z",
     "start_time": "2021-07-15T03:36:04.079046Z"
    }
   },
   "outputs": [],
   "source": [
    "assert not conv.cached_query\n",
    "conv.query_later('What about your Dad? Was he artistic?')\n",
    "assert conv.cached_query is not None"
   ]
  },
  {
   "cell_type": "code",
   "execution_count": 498,
   "metadata": {
    "ExecuteTime": {
     "end_time": "2021-07-15T03:36:04.200718Z",
     "start_time": "2021-07-15T03:36:04.144445Z"
    }
   },
   "outputs": [
    {
     "name": "stdout",
     "output_type": "stream",
     "text": [
      "prompt:\n",
      "This is a conversation with Kanye West. Kanye Omari West (born June 8, 1977) is an American rapper, singer, record producer, businessman, politician, and fashion designer. He has been influential in the 21st-century development of mainstream hip hop, popular music, and popular culture in general.Born in Atlanta and raised in Chicago, West gained notoriety as a producer for Roc-A-Fella Records in the early 2000s, producing singles for several mainstream artists.\n",
      "\n",
      "Me: Hi Kanye. Who is someone you've met who influenced you as an artist?\n",
      "\n",
      "Kanye West: I've met a lot of people. I met a lot of people who were on my team. I met a lot of people who were on my team who were like, \"Oh, you're a rapper. You're hip-hop.\" I met a lot of people who were like, \"You're a rapper. You're R&B.\" I met a lot of people who were like, \"You're a singer.\" I met a lot of people who were like, \"You're a dancer.\" I met a lot of people who were like, \"You're an artist.\"\n",
      "\n",
      "Me: What about your Dad? Was he artistic?\n",
      "\n",
      "Kanye West:\n",
      "\n",
      "-------------------------------------------------------------------------------\n",
      "\n",
      "kwargs:\n",
      " {'engine_i': 0, 'temperature': 0.5, 'max_tokens': 250, 'frequency_penalty': 0.1, 'stop': ['Me:', 'This is a conversation with']}\n",
      "\n",
      "-------------------------------------------------------------------------------\n",
      "\n",
      "fully resolved kwargs:\n",
      " {'engine_i': 0, 'temperature': 0.5, 'frequency_penalty': 0.1, 'max_tokens': 250, 'logprobs': None, 'stream': False, 'mock': False, 'return_full': False, 'strip_output': True, 'mock_func': None, 'mock_mode': 'raise', 'stop': ['Me:', 'This is a conversation with']}\n"
     ]
    }
   ],
   "source": [
    "conv.query(engine_i=0, debug=True)"
   ]
  },
  {
   "cell_type": "code",
   "execution_count": 499,
   "metadata": {
    "ExecuteTime": {
     "end_time": "2021-07-15T03:36:04.561906Z",
     "start_time": "2021-07-15T03:36:04.203783Z"
    }
   },
   "outputs": [
    {
     "name": "stdout",
     "output_type": "stream",
     "text": [
      "\u001b[1mThis is a conversation with Kanye West. Kanye Omari West (born June 8, 1977) is an American rapper, singer, record producer, businessman, politician, and fashion designer. He has been influential in the 21st-century development of mainstream hip hop, popular music, and popular culture in general.Born in Atlanta and raised in Chicago, West gained notoriety as a producer for Roc-A-Fella Records in the early 2000s, producing singles for several mainstream artists.\u001b[0m\n",
      "\n",
      "\u001b[30m\u001b[1mMe:\u001b[0m\u001b[39m\u001b[30m Hi Kanye. Who is someone you've met who influenced you as an artist?\u001b[39m\n",
      "\n",
      "\u001b[30m\u001b[1mKanye West:\u001b[0m\u001b[39m\u001b[30m I've met a lot of people. I met a lot of people who were on my team. I met a lot of people who were on my team who were like, \"Oh, you're a rapper. You're hip-hop.\" I met a lot of people who were like, \"You're a rapper. You're R&B.\" I met a lot of people who were like, \"You're a singer.\" I met a lot of people who were like, \"You're a dancer.\" I met a lot of people who were like, \"You're an artist.\"\u001b[39m\n",
      "\n",
      "\u001b[30m\u001b[1mMe:\u001b[0m\u001b[39m\u001b[30m What about your Dad? Was he artistic?\u001b[39m\n",
      "\n",
      "\u001b[30m\u001b[1mKanye West:\u001b[0m\u001b[39m\u001b[30m He was a musician. He was a singer. He was a dancer. He was an artist.\u001b[39m\n"
     ]
    }
   ],
   "source": [
    "prompt, resp = conv.query(engine_i=0)\n",
    "print(conv.format_conversation(conv.full_conversation))"
   ]
  },
  {
   "cell_type": "code",
   "execution_count": 500,
   "metadata": {
    "ExecuteTime": {
     "end_time": "2021-07-15T03:36:04.612206Z",
     "start_time": "2021-07-15T03:36:04.568157Z"
    }
   },
   "outputs": [
    {
     "name": "stdout",
     "output_type": "stream",
     "text": [
      "Object loaded from data/logs/conversation_query_kwargs.json.\n",
      "This is a conversation with Kanye West. Kanye Omari West (born June 8, 1977) is an American rapper, singer, record producer, businessman, politician, and fashion designer. He has been influential in the 21st-century development of mainstream hip hop, popular music, and popular culture in general.Born in Atlanta and raised in Chicago, West gained notoriety as a producer for Roc-A-Fella Records in the early 2000s, producing singles for several mainstream artists.\n",
      "\n",
      "Me: Hi Kanye. Who is someone you've met who influenced you as an artist?\n",
      "\n",
      "Kanye West: I've met a lot of people. I met a lot of people who were on my team. I met a lot of people who were on my team who were like, \"Oh, you're a rapper. You're hip-hop.\" I met a lot of people who were like, \"You're a rapper. You're R&B.\" I met a lot of people who were like, \"You're a singer.\" I met a lot of people who were like, \"You're a dancer.\" I met a lot of people who were like, \"You're an artist.\"\n",
      "\n",
      "Me: What about your Dad? Was he artistic?\n",
      "\n",
      "Kanye West:\n"
     ]
    }
   ],
   "source": [
    "tmp = load('data/logs/conversation_query_kwargs.json')['prompt']\n",
    "print(tmp)\n",
    "\n",
    "assert 'kanye_west' not in tmp\n",
    "assert tmp.startswith('This is a conversation')\n",
    "assert tmp.endswith('Kanye West:')"
   ]
  },
  {
   "cell_type": "code",
   "execution_count": 501,
   "metadata": {
    "ExecuteTime": {
     "end_time": "2021-07-15T03:36:05.335278Z",
     "start_time": "2021-07-15T03:36:04.616302Z"
    }
   },
   "outputs": [
    {
     "name": "stdout",
     "output_type": "stream",
     "text": [
      "\u001b[1mThis is a conversation with Kanye West. Kanye Omari West (born June 8, 1977) is an American rapper, singer, record producer, businessman, politician, and fashion designer. He has been influential in the 21st-century development of mainstream hip hop, popular music, and popular culture in general.Born in Atlanta and raised in Chicago, West gained notoriety as a producer for Roc-A-Fella Records in the early 2000s, producing singles for several mainstream artists.\u001b[0m\n",
      "\n",
      "\u001b[30m\u001b[1mMe:\u001b[0m\u001b[39m\u001b[30m Hi Kanye. Who is someone you've met who influenced you as an artist?\u001b[39m\n",
      "\n",
      "\u001b[30m\u001b[1mKanye West:\u001b[0m\u001b[39m\u001b[30m I've met a lot of people. I met a lot of people who were on my team. I met a lot of people who were on my team who were like, \"Oh, you're a rapper. You're hip-hop.\" I met a lot of people who were like, \"You're a rapper. You're R&B.\" I met a lot of people who were like, \"You're a singer.\" I met a lot of people who were like, \"You're a dancer.\" I met a lot of people who were like, \"You're an artist.\"\u001b[39m\n",
      "\n",
      "\u001b[30m\u001b[1mMe:\u001b[0m\u001b[39m\u001b[30m What about your Dad? Was he artistic?\u001b[39m\n",
      "\n",
      "\u001b[30m\u001b[1mKanye West:\u001b[0m\u001b[39m\u001b[30m He was a musician. He was a singer. He was a dancer. He was an artist.\u001b[39m\n",
      "\n",
      "\u001b[30m\u001b[1mMe:\u001b[0m\u001b[39m\u001b[30m So you've definitely got a piece of both of them in you.\u001b[39m\n",
      "\n",
      "\u001b[30m\u001b[1mKanye West:\u001b[0m\u001b[39m\u001b[30m Yeah. I mean, I'm like the son of a musician and a dancer. I'm a musician and I'm a dancer.\u001b[39m\n"
     ]
    }
   ],
   "source": [
    "prompt, resp = conv.query('So you\\'ve definitely got a piece of both of them '\n",
    "                          'in you.', engine_i=0)\n",
    "print(conv.format_conversation(conv.full_conversation))"
   ]
  },
  {
   "cell_type": "code",
   "execution_count": 502,
   "metadata": {
    "ExecuteTime": {
     "end_time": "2021-07-15T03:36:05.379654Z",
     "start_time": "2021-07-15T03:36:05.337444Z"
    }
   },
   "outputs": [
    {
     "name": "stdout",
     "output_type": "stream",
     "text": [
      "Object loaded from data/logs/conversation_query_kwargs.json.\n",
      "This is a conversation with Kanye West. Kanye Omari West (born June 8, 1977) is an American rapper, singer, record producer, businessman, politician, and fashion designer. He has been influential in the 21st-century development of mainstream hip hop, popular music, and popular culture in general.Born in Atlanta and raised in Chicago, West gained notoriety as a producer for Roc-A-Fella Records in the early 2000s, producing singles for several mainstream artists.\n",
      "\n",
      "Me: What about your Dad? Was he artistic?\n",
      "\n",
      "Kanye West: He was a musician. He was a singer. He was a dancer. He was an artist.\n",
      "\n",
      "Me: So you've definitely got a piece of both of them in you.\n",
      "\n",
      "Kanye West:\n"
     ]
    }
   ],
   "source": [
    "tmp = load(conv.log_path)['prompt']\n",
    "print(tmp)\n",
    "\n",
    "assert 'kanye_west' not in tmp\n",
    "assert tmp.startswith('This is a conversation')\n",
    "assert tmp.endswith('Kanye West:')"
   ]
  },
  {
   "cell_type": "code",
   "execution_count": 503,
   "metadata": {
    "ExecuteTime": {
     "end_time": "2021-07-15T03:36:05.949544Z",
     "start_time": "2021-07-15T03:36:05.382843Z"
    }
   },
   "outputs": [
    {
     "name": "stdout",
     "output_type": "stream",
     "text": [
      "\u001b[1mThis is a conversation with Kanye West. Kanye Omari West (born June 8, 1977) is an American rapper, singer, record producer, businessman, politician, and fashion designer. He has been influential in the 21st-century development of mainstream hip hop, popular music, and popular culture in general.Born in Atlanta and raised in Chicago, West gained notoriety as a producer for Roc-A-Fella Records in the early 2000s, producing singles for several mainstream artists.\u001b[0m\n",
      "\n",
      "\u001b[30m\u001b[1mMe:\u001b[0m\u001b[39m\u001b[30m Hi Kanye. Who is someone you've met who influenced you as an artist?\u001b[39m\n",
      "\n",
      "\u001b[30m\u001b[1mKanye West:\u001b[0m\u001b[39m\u001b[30m I've met a lot of people. I met a lot of people who were on my team. I met a lot of people who were on my team who were like, \"Oh, you're a rapper. You're hip-hop.\" I met a lot of people who were like, \"You're a rapper. You're R&B.\" I met a lot of people who were like, \"You're a singer.\" I met a lot of people who were like, \"You're a dancer.\" I met a lot of people who were like, \"You're an artist.\"\u001b[39m\n",
      "\n",
      "\u001b[30m\u001b[1mMe:\u001b[0m\u001b[39m\u001b[30m What about your Dad? Was he artistic?\u001b[39m\n",
      "\n",
      "\u001b[30m\u001b[1mKanye West:\u001b[0m\u001b[39m\u001b[30m He was a musician. He was a singer. He was a dancer. He was an artist.\u001b[39m\n",
      "\n",
      "\u001b[30m\u001b[1mMe:\u001b[0m\u001b[39m\u001b[30m So you've definitely got a piece of both of them in you.\u001b[39m\n",
      "\n",
      "\u001b[30m\u001b[1mKanye West:\u001b[0m\u001b[39m\u001b[30m Yeah. I mean, I'm like the son of a musician and a dancer. I'm a musician and I'm a dancer.\u001b[39m\n",
      "\n",
      "\u001b[30m\u001b[1mMe:\u001b[0m\u001b[39m\u001b[30m That's beautiful.\u001b[39m\n",
      "\n",
      "\u001b[30m\u001b[1mKanye West:\u001b[0m\u001b[39m\u001b[30m Yeah.\u001b[39m\n"
     ]
    }
   ],
   "source": [
    "prompt, resp = conv.query('That\\'s beautiful.', engine_i=0)\n",
    "print(conv.format_conversation(conv.full_conversation))"
   ]
  },
  {
   "cell_type": "code",
   "execution_count": 506,
   "metadata": {
    "ExecuteTime": {
     "end_time": "2021-07-15T03:38:22.783619Z",
     "start_time": "2021-07-15T03:38:22.705460Z"
    }
   },
   "outputs": [
    {
     "name": "stdout",
     "output_type": "stream",
     "text": [
      "Object loaded from data/logs/conversation_query_kwargs.json.\n",
      "This is a conversation with Kanye West. Kanye Omari West (born June 8, 1977) is an American rapper, singer, record producer, businessman, politician, and fashion designer. He has been influential in the 21st-century development of mainstream hip hop, popular music, and popular culture in general.Born in Atlanta and raised in Chicago, West gained notoriety as a producer for Roc-A-Fella Records in the early 2000s, producing singles for several mainstream artists.\n",
      "\n",
      "Me: So you've definitely got a piece of both of them in you.\n",
      "\n",
      "Kanye West: Yeah. I mean, I'm like the son of a musician and a dancer. I'm a musician and I'm a dancer.\n",
      "\n",
      "Me: That's beautiful.\n",
      "\n",
      "Kanye West:\n"
     ]
    }
   ],
   "source": [
    "tmp = load(conv.log_path)['prompt']\n",
    "print(tmp)\n",
    "\n",
    "assert 'kanye_west' not in tmp\n",
    "assert tmp.startswith('This is a conversation')\n",
    "assert tmp.endswith('Kanye West:')\n",
    "assert len(tmp) < len(conv.full_conversation)"
   ]
  },
  {
   "cell_type": "markdown",
   "metadata": {},
   "source": [
    "## Updated convmanager\n",
    "\n",
    "Later, I updated convmanager again to try to allow streaming mode. Need to test changes."
   ]
  },
  {
   "cell_type": "code",
   "execution_count": 67,
   "metadata": {
    "ExecuteTime": {
     "end_time": "2021-08-05T02:57:04.745132Z",
     "start_time": "2021-08-05T02:57:04.466205Z"
    }
   },
   "outputs": [],
   "source": [
    "from jabberwocky.openai_utils import ConversationManager"
   ]
  },
  {
   "cell_type": "code",
   "execution_count": 68,
   "metadata": {
    "ExecuteTime": {
     "end_time": "2021-08-05T02:57:05.477451Z",
     "start_time": "2021-08-05T02:57:05.398909Z"
    }
   },
   "outputs": [
    {
     "name": "stdout",
     "output_type": "stream",
     "text": [
      "conversation: Your message must start with 'Hi {name}.'. Might want to try tweaking frequency penalty.\n",
      "-------------------------------------------------------------------------------\n",
      "\n",
      "Object loaded from data/conversation_personas/barack_obama/gender.json.\n",
      "Object loaded from data/conversation_personas/george_lucas/gender.json.\n",
      "Object loaded from data/conversation_personas/joe_rogan/gender.json.\n",
      "Object loaded from data/conversation_personas/kanye_west/gender.json.\n",
      "Object loaded from data/conversation_personas/brandon_sanderson/gender.json.\n",
      "Object loaded from data/conversation_personas/dr_seuss/gender.json.\n",
      "Object loaded from data/conversation_personas/albert_einstein/gender.json.\n",
      "Object loaded from data/conversation_personas/beyonce/gender.json.\n",
      "Object loaded from data/conversation_personas/yann_lecun/gender.json.\n",
      "Object loaded from data/conversation_personas/sylvia_plath/gender.json.\n"
     ]
    }
   ],
   "source": [
    "conv = ConversationManager()"
   ]
  },
  {
   "cell_type": "code",
   "execution_count": 69,
   "metadata": {
    "ExecuteTime": {
     "end_time": "2021-08-05T02:57:06.537614Z",
     "start_time": "2021-08-05T02:57:06.503438Z"
    }
   },
   "outputs": [],
   "source": [
    "conv.start_conversation('Kanye West')\n",
    "assert conv.user_turn_window, conv.gpt3_turn_window == (1, 1)"
   ]
  },
  {
   "cell_type": "code",
   "execution_count": 70,
   "metadata": {
    "ExecuteTime": {
     "end_time": "2021-08-05T02:57:08.974360Z",
     "start_time": "2021-08-05T02:57:08.937924Z"
    }
   },
   "outputs": [
    {
     "name": "stdout",
     "output_type": "stream",
     "text": [
      "This is a conversation with Kanye West. Kanye Omari West (born June 8, 1977) is an American rapper, singer, record producer, businessman, politician, and fashion designer. He has been influential in the 21st-century development of mainstream hip hop, popular music, and popular culture in general.Born in Atlanta and raised in Chicago, West gained notoriety as a producer for Roc-A-Fella Records in the early 2000s, producing singles for several mainstream artists.\n",
      "\n",
      "Me: Hi Kanye. Who is someone you've met who influenced you as an artist?\n",
      "\n",
      "Kanye West:\n"
     ]
    }
   ],
   "source": [
    "turn = 'Hi Kanye. Who is someone you\\'ve met who influenced you as an artist?'\n",
    "tmp = conv.format_prompt(turn)\n",
    "print(tmp)\n",
    "\n",
    "assert 'kanye_west' not in tmp\n",
    "assert tmp.startswith('This is a conversation with')\n",
    "assert tmp.endswith('Kanye West:')"
   ]
  },
  {
   "cell_type": "code",
   "execution_count": 71,
   "metadata": {
    "ExecuteTime": {
     "end_time": "2021-08-05T02:57:11.451006Z",
     "start_time": "2021-08-05T02:57:11.399627Z"
    }
   },
   "outputs": [
    {
     "name": "stdout",
     "output_type": "stream",
     "text": [
      "This is a conversation with Kanye West. Kanye Omari West (born June 8, 1977) is an American rapper, singer, record producer, businessman, politician, and fashion designer. He has been influential in the 21st-century development of mainstream hip hop, popular music, and popular culture in general.Born in Atlanta and raised in Chicago, West gained notoriety as a producer for Roc-A-Fella Records in the early 2000s, producing singles for several mainstream artists.\n",
      "\n",
      "Me: Hi Kanye. Who is someone you've met who influenced you as an artist?\n"
     ]
    }
   ],
   "source": [
    "tmp = conv.format_prompt(turn, exclude_trailing_name=True)\n",
    "print(tmp)\n",
    "\n",
    "assert 'kanye_west' not in tmp\n",
    "assert tmp.startswith('This is a conversation with')\n",
    "assert not tmp.endswith('Kanye West:')"
   ]
  },
  {
   "cell_type": "code",
   "execution_count": 72,
   "metadata": {
    "ExecuteTime": {
     "end_time": "2021-08-05T02:57:21.228208Z",
     "start_time": "2021-08-05T02:57:21.192740Z"
    }
   },
   "outputs": [
    {
     "name": "stdout",
     "output_type": "stream",
     "text": [
      "This is a conversation with Kanye West. Kanye Omari West (born June 8, 1977) is an American rapper, singer, record producer, businessman, politician, and fashion designer. He has been influential in the 21st-century development of mainstream hip hop, popular music, and popular culture in general.Born in Atlanta and raised in Chicago, West gained notoriety as a producer for Roc-A-Fella Records in the early 2000s, producing singles for several mainstream artists.\n",
      "\n",
      "\n"
     ]
    }
   ],
   "source": [
    "print(conv.full_conversation)"
   ]
  },
  {
   "cell_type": "code",
   "execution_count": 73,
   "metadata": {
    "ExecuteTime": {
     "end_time": "2021-08-05T02:57:24.963603Z",
     "start_time": "2021-08-05T02:57:24.893338Z"
    }
   },
   "outputs": [],
   "source": [
    "assert not conv.user_turns\n",
    "assert not conv.gpt3_turns"
   ]
  },
  {
   "cell_type": "code",
   "execution_count": 74,
   "metadata": {
    "ExecuteTime": {
     "end_time": "2021-08-05T02:57:26.225725Z",
     "start_time": "2021-08-05T02:57:26.190199Z"
    }
   },
   "outputs": [],
   "source": [
    "assert not conv.cached_query\n",
    "conv.query_later(turn)\n",
    "assert conv.cached_query == turn"
   ]
  },
  {
   "cell_type": "code",
   "execution_count": 75,
   "metadata": {
    "ExecuteTime": {
     "end_time": "2021-08-05T02:57:27.742515Z",
     "start_time": "2021-08-05T02:57:27.707363Z"
    }
   },
   "outputs": [
    {
     "name": "stdout",
     "output_type": "stream",
     "text": [
      "prompt:\n",
      "This is a conversation with Kanye West. Kanye Omari West (born June 8, 1977) is an American rapper, singer, record producer, businessman, politician, and fashion designer. He has been influential in the 21st-century development of mainstream hip hop, popular music, and popular culture in general.Born in Atlanta and raised in Chicago, West gained notoriety as a producer for Roc-A-Fella Records in the early 2000s, producing singles for several mainstream artists.\n",
      "\n",
      "Me: Hi Kanye. Who is someone you've met who influenced you as an artist?\n",
      "\n",
      "Kanye West:\n",
      "\n",
      "-------------------------------------------------------------------------------\n",
      "\n",
      "kwargs:\n",
      " {'engine_i': 3, 'temperature': 0.5, 'max_tokens': 250, 'frequency_penalty': 0.1, 'stop': ['Me:', 'This is a conversation with']}\n",
      "\n",
      "-------------------------------------------------------------------------------\n",
      "\n",
      "fully resolved kwargs:\n",
      " {'engine_i': 3, 'temperature': 0.5, 'frequency_penalty': 0.1, 'max_tokens': 250, 'logprobs': None, 'stream': False, 'mock': False, 'return_full': False, 'strip_output': True, 'mock_func': None, 'mock_mode': 'raise', 'stop': ['Me:', 'This is a conversation with']}\n"
     ]
    }
   ],
   "source": [
    "conv.query(debug=True)"
   ]
  },
  {
   "cell_type": "code",
   "execution_count": 76,
   "metadata": {
    "ExecuteTime": {
     "end_time": "2021-08-05T02:57:30.903909Z",
     "start_time": "2021-08-05T02:57:30.867200Z"
    }
   },
   "outputs": [
    {
     "name": "stdout",
     "output_type": "stream",
     "text": [
      "prompt:\n",
      "This is a conversation with Kanye West. Kanye Omari West (born June 8, 1977) is an American rapper, singer, record producer, businessman, politician, and fashion designer. He has been influential in the 21st-century development of mainstream hip hop, popular music, and popular culture in general.Born in Atlanta and raised in Chicago, West gained notoriety as a producer for Roc-A-Fella Records in the early 2000s, producing singles for several mainstream artists.\n",
      "\n",
      "Me: Hi Kanye. Who is someone you've met who influenced you as an artist?\n",
      "\n",
      "Kanye West:\n",
      "\n",
      "-------------------------------------------------------------------------------\n",
      "\n",
      "kwargs:\n",
      " {'engine_i': 0, 'temperature': 0.5, 'max_tokens': 250, 'frequency_penalty': 0.1, 'stop': ['Me:', 'This is a conversation with']}\n",
      "\n",
      "-------------------------------------------------------------------------------\n",
      "\n",
      "fully resolved kwargs:\n",
      " {'engine_i': 0, 'temperature': 0.5, 'frequency_penalty': 0.1, 'max_tokens': 250, 'logprobs': None, 'stream': False, 'mock': False, 'return_full': False, 'strip_output': True, 'mock_func': None, 'mock_mode': 'raise', 'stop': ['Me:', 'This is a conversation with']}\n"
     ]
    }
   ],
   "source": [
    "conv.query(debug=True, engine_i=0)"
   ]
  },
  {
   "cell_type": "code",
   "execution_count": 31,
   "metadata": {
    "ExecuteTime": {
     "end_time": "2021-08-04T03:30:20.109611Z",
     "start_time": "2021-08-04T03:30:18.850641Z"
    }
   },
   "outputs": [
    {
     "name": "stdout",
     "output_type": "stream",
     "text": [
      "\u001b[1mThis is a conversation with Kanye West. Kanye Omari West (born June 8, 1977) is an American rapper, singer, record producer, businessman, politician, and fashion designer. He has been influential in the 21st-century development of mainstream hip hop, popular music, and popular culture in general.Born in Atlanta and raised in Chicago, West gained notoriety as a producer for Roc-A-Fella Records in the early 2000s, producing singles for several mainstream artists.\u001b[0m\n",
      "\n",
      "\u001b[30m\u001b[1mMe:\u001b[0m\u001b[39m\u001b[30m Hi Kanye. Who is someone you've met who influenced you as an artist?\u001b[39m\n",
      "\n",
      "\u001b[30m\u001b[1mKanye West:\u001b[0m\u001b[39m\u001b[30m I've met a lot of people in the music business. Some of them have been good to me, some of them have been bad, but I've met a lot of people who have been great to me. I've met a lot of people who have been great to me, and I've met a lot of people who have been bad to me.\u001b[39m\n"
     ]
    }
   ],
   "source": [
    "prompt, resp = conv.query(engine_i=0)\n",
    "print(conv.format_conversation(conv.full_conversation))"
   ]
  },
  {
   "cell_type": "code",
   "execution_count": 35,
   "metadata": {
    "ExecuteTime": {
     "end_time": "2021-08-04T03:30:29.204572Z",
     "start_time": "2021-08-04T03:30:29.156733Z"
    }
   },
   "outputs": [],
   "source": [
    "assert len(conv.user_turns) == 1\n",
    "assert len(conv.gpt3_turns) == 1"
   ]
  },
  {
   "cell_type": "code",
   "execution_count": 36,
   "metadata": {
    "ExecuteTime": {
     "end_time": "2021-08-04T03:30:31.553046Z",
     "start_time": "2021-08-04T03:30:31.518169Z"
    }
   },
   "outputs": [
    {
     "name": "stdout",
     "output_type": "stream",
     "text": [
      "Object loaded from data/logs/conversation_query_kwargs.json.\n",
      "This is a conversation with Kanye West. Kanye Omari West (born June 8, 1977) is an American rapper, singer, record producer, businessman, politician, and fashion designer. He has been influential in the 21st-century development of mainstream hip hop, popular music, and popular culture in general.Born in Atlanta and raised in Chicago, West gained notoriety as a producer for Roc-A-Fella Records in the early 2000s, producing singles for several mainstream artists.\n",
      "\n",
      "Me: Hi Kanye. Who is someone you've met who influenced you as an artist?\n",
      "\n",
      "Kanye West:\n"
     ]
    }
   ],
   "source": [
    "tmp = load(conv.log_path)['prompt']\n",
    "print(tmp)\n",
    "\n",
    "assert 'kanye_west' not in tmp\n",
    "assert tmp.startswith('This is a conversation')\n",
    "assert tmp.endswith('Kanye West:')"
   ]
  },
  {
   "cell_type": "code",
   "execution_count": 37,
   "metadata": {
    "ExecuteTime": {
     "end_time": "2021-08-04T03:30:34.307761Z",
     "start_time": "2021-08-04T03:30:34.275167Z"
    }
   },
   "outputs": [],
   "source": [
    "assert not conv.cached_query\n",
    "conv.query_later('What about your Dad? Was he artistic?')\n",
    "assert conv.cached_query is not None"
   ]
  },
  {
   "cell_type": "code",
   "execution_count": 38,
   "metadata": {
    "ExecuteTime": {
     "end_time": "2021-08-04T03:30:38.155514Z",
     "start_time": "2021-08-04T03:30:38.118787Z"
    }
   },
   "outputs": [
    {
     "name": "stdout",
     "output_type": "stream",
     "text": [
      "prompt:\n",
      "This is a conversation with Kanye West. Kanye Omari West (born June 8, 1977) is an American rapper, singer, record producer, businessman, politician, and fashion designer. He has been influential in the 21st-century development of mainstream hip hop, popular music, and popular culture in general.Born in Atlanta and raised in Chicago, West gained notoriety as a producer for Roc-A-Fella Records in the early 2000s, producing singles for several mainstream artists.\n",
      "\n",
      "Me: Hi Kanye. Who is someone you've met who influenced you as an artist?\n",
      "\n",
      "Kanye West: I've met a lot of people in the music business. Some of them have been good to me, some of them have been bad, but I've met a lot of people who have been great to me. I've met a lot of people who have been great to me, and I've met a lot of people who have been bad to me.\n",
      "\n",
      "Me: What about your Dad? Was he artistic?\n",
      "\n",
      "Kanye West:\n",
      "\n",
      "-------------------------------------------------------------------------------\n",
      "\n",
      "kwargs:\n",
      " {'engine_i': 0, 'temperature': 0.5, 'max_tokens': 250, 'frequency_penalty': 0.1, 'stop': ['Me:', 'This is a conversation with']}\n",
      "\n",
      "-------------------------------------------------------------------------------\n",
      "\n",
      "fully resolved kwargs:\n",
      " {'engine_i': 0, 'temperature': 0.5, 'frequency_penalty': 0.1, 'max_tokens': 250, 'logprobs': None, 'stream': False, 'mock': False, 'return_full': False, 'strip_output': True, 'mock_func': None, 'mock_mode': 'raise', 'stop': ['Me:', 'This is a conversation with']}\n"
     ]
    }
   ],
   "source": [
    "conv.query(engine_i=0, debug=True)"
   ]
  },
  {
   "cell_type": "code",
   "execution_count": 39,
   "metadata": {
    "ExecuteTime": {
     "end_time": "2021-08-04T03:30:43.328878Z",
     "start_time": "2021-08-04T03:30:42.598615Z"
    }
   },
   "outputs": [
    {
     "name": "stdout",
     "output_type": "stream",
     "text": [
      "\u001b[1mThis is a conversation with Kanye West. Kanye Omari West (born June 8, 1977) is an American rapper, singer, record producer, businessman, politician, and fashion designer. He has been influential in the 21st-century development of mainstream hip hop, popular music, and popular culture in general.Born in Atlanta and raised in Chicago, West gained notoriety as a producer for Roc-A-Fella Records in the early 2000s, producing singles for several mainstream artists.\u001b[0m\n",
      "\n",
      "\u001b[30m\u001b[1mMe:\u001b[0m\u001b[39m\u001b[30m Hi Kanye. Who is someone you've met who influenced you as an artist?\u001b[39m\n",
      "\n",
      "\u001b[30m\u001b[1mKanye West:\u001b[0m\u001b[39m\u001b[30m I've met a lot of people in the music business. Some of them have been good to me, some of them have been bad, but I've met a lot of people who have been great to me. I've met a lot of people who have been great to me, and I've met a lot of people who have been bad to me.\u001b[39m\n",
      "\n",
      "\u001b[30m\u001b[1mMe:\u001b[0m\u001b[39m\u001b[30m What about your Dad? Was he artistic?\u001b[39m\n",
      "\n",
      "\u001b[30m\u001b[1mKanye West:\u001b[0m\u001b[39m\u001b[30m My Dad was more of a businessman. He was a businessman, but he was more of an artist than a businessman. My Dad was more of a businessman than a musician.\u001b[39m\n"
     ]
    }
   ],
   "source": [
    "prompt, resp = conv.query(engine_i=0)\n",
    "print(conv.format_conversation(conv.full_conversation))"
   ]
  },
  {
   "cell_type": "code",
   "execution_count": 40,
   "metadata": {
    "ExecuteTime": {
     "end_time": "2021-08-04T03:30:48.606892Z",
     "start_time": "2021-08-04T03:30:48.573450Z"
    }
   },
   "outputs": [
    {
     "name": "stdout",
     "output_type": "stream",
     "text": [
      "Object loaded from data/logs/conversation_query_kwargs.json.\n",
      "This is a conversation with Kanye West. Kanye Omari West (born June 8, 1977) is an American rapper, singer, record producer, businessman, politician, and fashion designer. He has been influential in the 21st-century development of mainstream hip hop, popular music, and popular culture in general.Born in Atlanta and raised in Chicago, West gained notoriety as a producer for Roc-A-Fella Records in the early 2000s, producing singles for several mainstream artists.\n",
      "\n",
      "Me: Hi Kanye. Who is someone you've met who influenced you as an artist?\n",
      "\n",
      "Kanye West: I've met a lot of people in the music business. Some of them have been good to me, some of them have been bad, but I've met a lot of people who have been great to me. I've met a lot of people who have been great to me, and I've met a lot of people who have been bad to me.\n",
      "\n",
      "Me: What about your Dad? Was he artistic?\n",
      "\n",
      "Kanye West:\n"
     ]
    }
   ],
   "source": [
    "tmp = load('data/logs/conversation_query_kwargs.json')['prompt']\n",
    "print(tmp)\n",
    "\n",
    "assert 'kanye_west' not in tmp\n",
    "assert tmp.startswith('This is a conversation')\n",
    "assert tmp.endswith('Kanye West:')"
   ]
  },
  {
   "cell_type": "code",
   "execution_count": 41,
   "metadata": {
    "ExecuteTime": {
     "end_time": "2021-08-04T03:30:51.924474Z",
     "start_time": "2021-08-04T03:30:51.678222Z"
    }
   },
   "outputs": [
    {
     "name": "stdout",
     "output_type": "stream",
     "text": [
      "\u001b[1mThis is a conversation with Kanye West. Kanye Omari West (born June 8, 1977) is an American rapper, singer, record producer, businessman, politician, and fashion designer. He has been influential in the 21st-century development of mainstream hip hop, popular music, and popular culture in general.Born in Atlanta and raised in Chicago, West gained notoriety as a producer for Roc-A-Fella Records in the early 2000s, producing singles for several mainstream artists.\u001b[0m\n",
      "\n",
      "\u001b[30m\u001b[1mMe:\u001b[0m\u001b[39m\u001b[30m Hi Kanye. Who is someone you've met who influenced you as an artist?\u001b[39m\n",
      "\n",
      "\u001b[30m\u001b[1mKanye West:\u001b[0m\u001b[39m\u001b[30m I've met a lot of people in the music business. Some of them have been good to me, some of them have been bad, but I've met a lot of people who have been great to me. I've met a lot of people who have been great to me, and I've met a lot of people who have been bad to me.\u001b[39m\n",
      "\n",
      "\u001b[30m\u001b[1mMe:\u001b[0m\u001b[39m\u001b[30m What about your Dad? Was he artistic?\u001b[39m\n",
      "\n",
      "\u001b[30m\u001b[1mKanye West:\u001b[0m\u001b[39m\u001b[30m My Dad was more of a businessman. He was a businessman, but he was more of an artist than a businessman. My Dad was more of a businessman than a musician.\u001b[39m\n",
      "\n",
      "\u001b[30m\u001b[1mMe:\u001b[0m\u001b[39m\u001b[30m So you've definitely got a piece of both of them in you.\u001b[39m\n",
      "\n",
      "\u001b[30m\u001b[1mKanye West:\u001b[0m\u001b[39m\u001b[30m Yeah.\u001b[39m\n"
     ]
    }
   ],
   "source": [
    "prompt, resp = conv.query('So you\\'ve definitely got a piece of both of them '\n",
    "                          'in you.', engine_i=0)\n",
    "print(conv.format_conversation(conv.full_conversation))"
   ]
  },
  {
   "cell_type": "code",
   "execution_count": 42,
   "metadata": {
    "ExecuteTime": {
     "end_time": "2021-08-04T03:30:58.745828Z",
     "start_time": "2021-08-04T03:30:58.709058Z"
    }
   },
   "outputs": [
    {
     "name": "stdout",
     "output_type": "stream",
     "text": [
      "Object loaded from data/logs/conversation_query_kwargs.json.\n",
      "This is a conversation with Kanye West. Kanye Omari West (born June 8, 1977) is an American rapper, singer, record producer, businessman, politician, and fashion designer. He has been influential in the 21st-century development of mainstream hip hop, popular music, and popular culture in general.Born in Atlanta and raised in Chicago, West gained notoriety as a producer for Roc-A-Fella Records in the early 2000s, producing singles for several mainstream artists.\n",
      "\n",
      "Me: What about your Dad? Was he artistic?\n",
      "\n",
      "Kanye West: My Dad was more of a businessman. He was a businessman, but he was more of an artist than a businessman. My Dad was more of a businessman than a musician.\n",
      "\n",
      "Me: So you've definitely got a piece of both of them in you.\n",
      "\n",
      "Kanye West:\n"
     ]
    }
   ],
   "source": [
    "tmp = load(conv.log_path)['prompt']\n",
    "print(tmp)\n",
    "\n",
    "assert 'kanye_west' not in tmp\n",
    "assert tmp.startswith('This is a conversation')\n",
    "assert tmp.endswith('Kanye West:')"
   ]
  },
  {
   "cell_type": "code",
   "execution_count": 43,
   "metadata": {
    "ExecuteTime": {
     "end_time": "2021-08-04T03:31:07.591296Z",
     "start_time": "2021-08-04T03:31:07.293527Z"
    }
   },
   "outputs": [
    {
     "name": "stdout",
     "output_type": "stream",
     "text": [
      "\u001b[1mThis is a conversation with Kanye West. Kanye Omari West (born June 8, 1977) is an American rapper, singer, record producer, businessman, politician, and fashion designer. He has been influential in the 21st-century development of mainstream hip hop, popular music, and popular culture in general.Born in Atlanta and raised in Chicago, West gained notoriety as a producer for Roc-A-Fella Records in the early 2000s, producing singles for several mainstream artists.\u001b[0m\n",
      "\n",
      "\u001b[30m\u001b[1mMe:\u001b[0m\u001b[39m\u001b[30m Hi Kanye. Who is someone you've met who influenced you as an artist?\u001b[39m\n",
      "\n",
      "\u001b[30m\u001b[1mKanye West:\u001b[0m\u001b[39m\u001b[30m I've met a lot of people in the music business. Some of them have been good to me, some of them have been bad, but I've met a lot of people who have been great to me. I've met a lot of people who have been great to me, and I've met a lot of people who have been bad to me.\u001b[39m\n",
      "\n",
      "\u001b[30m\u001b[1mMe:\u001b[0m\u001b[39m\u001b[30m What about your Dad? Was he artistic?\u001b[39m\n",
      "\n",
      "\u001b[30m\u001b[1mKanye West:\u001b[0m\u001b[39m\u001b[30m My Dad was more of a businessman. He was a businessman, but he was more of an artist than a businessman. My Dad was more of a businessman than a musician.\u001b[39m\n",
      "\n",
      "\u001b[30m\u001b[1mMe:\u001b[0m\u001b[39m\u001b[30m So you've definitely got a piece of both of them in you.\u001b[39m\n",
      "\n",
      "\u001b[30m\u001b[1mKanye West:\u001b[0m\u001b[39m\u001b[30m Yeah.\u001b[39m\n",
      "\n",
      "\u001b[30m\u001b[1mMe:\u001b[0m\u001b[39m\u001b[30m That's beautiful.\u001b[39m\n",
      "\n",
      "\u001b[30m\u001b[1mKanye West:\u001b[0m\u001b[39m\u001b[30m Yeah.\u001b[39m\n"
     ]
    }
   ],
   "source": [
    "prompt, resp = conv.query('That\\'s beautiful.', engine_i=0)\n",
    "print(conv.format_conversation(conv.full_conversation))"
   ]
  },
  {
   "cell_type": "code",
   "execution_count": 44,
   "metadata": {
    "ExecuteTime": {
     "end_time": "2021-08-04T03:31:11.429596Z",
     "start_time": "2021-08-04T03:31:11.385566Z"
    }
   },
   "outputs": [
    {
     "name": "stdout",
     "output_type": "stream",
     "text": [
      "Object loaded from data/logs/conversation_query_kwargs.json.\n",
      "This is a conversation with Kanye West. Kanye Omari West (born June 8, 1977) is an American rapper, singer, record producer, businessman, politician, and fashion designer. He has been influential in the 21st-century development of mainstream hip hop, popular music, and popular culture in general.Born in Atlanta and raised in Chicago, West gained notoriety as a producer for Roc-A-Fella Records in the early 2000s, producing singles for several mainstream artists.\n",
      "\n",
      "Me: So you've definitely got a piece of both of them in you.\n",
      "\n",
      "Kanye West: Yeah.\n",
      "\n",
      "Me: That's beautiful.\n",
      "\n",
      "Kanye West:\n"
     ]
    }
   ],
   "source": [
    "tmp = load(conv.log_path)['prompt']\n",
    "print(tmp)\n",
    "\n",
    "assert 'kanye_west' not in tmp\n",
    "assert tmp.startswith('This is a conversation')\n",
    "assert tmp.endswith('Kanye West:')\n",
    "assert len(tmp) < len(conv.full_conversation)"
   ]
  },
  {
   "cell_type": "markdown",
   "metadata": {},
   "source": [
    "## Stream mode"
   ]
  },
  {
   "cell_type": "code",
   "execution_count": 77,
   "metadata": {
    "ExecuteTime": {
     "end_time": "2021-08-05T02:58:00.203577Z",
     "start_time": "2021-08-05T02:58:00.150733Z"
    }
   },
   "outputs": [
    {
     "name": "stdout",
     "output_type": "stream",
     "text": [
      "conversation: Your message must start with 'Hi {name}.'. Might want to try tweaking frequency penalty.\n",
      "-------------------------------------------------------------------------------\n",
      "\n",
      "Object loaded from data/conversation_personas/barack_obama/gender.json.\n",
      "Object loaded from data/conversation_personas/george_lucas/gender.json.\n",
      "Object loaded from data/conversation_personas/joe_rogan/gender.json.\n",
      "Object loaded from data/conversation_personas/kanye_west/gender.json.\n",
      "Object loaded from data/conversation_personas/brandon_sanderson/gender.json.\n",
      "Object loaded from data/conversation_personas/dr_seuss/gender.json.\n",
      "Object loaded from data/conversation_personas/albert_einstein/gender.json.\n",
      "Object loaded from data/conversation_personas/beyonce/gender.json.\n",
      "Object loaded from data/conversation_personas/yann_lecun/gender.json.\n",
      "Object loaded from data/conversation_personas/sylvia_plath/gender.json.\n"
     ]
    }
   ],
   "source": [
    "conv = ConversationManager()"
   ]
  },
  {
   "cell_type": "code",
   "execution_count": 78,
   "metadata": {
    "ExecuteTime": {
     "end_time": "2021-08-05T02:58:02.845044Z",
     "start_time": "2021-08-05T02:58:02.809596Z"
    }
   },
   "outputs": [],
   "source": [
    "conv.start_conversation('Kanye West')\n",
    "assert conv.user_turn_window, conv.gpt3_turn_window == (1, 1)"
   ]
  },
  {
   "cell_type": "code",
   "execution_count": 79,
   "metadata": {
    "ExecuteTime": {
     "end_time": "2021-08-05T02:58:03.762224Z",
     "start_time": "2021-08-05T02:58:03.727733Z"
    }
   },
   "outputs": [],
   "source": [
    "turn = 'Hi Kanye. Who is someone you\\'ve met who influenced you as an artist?'"
   ]
  },
  {
   "cell_type": "code",
   "execution_count": 80,
   "metadata": {
    "ExecuteTime": {
     "end_time": "2021-08-05T02:58:04.721289Z",
     "start_time": "2021-08-05T02:58:04.683326Z"
    }
   },
   "outputs": [
    {
     "name": "stdout",
     "output_type": "stream",
     "text": [
      "prompt:\n",
      "This is a conversation with Kanye West. Kanye Omari West (born June 8, 1977) is an American rapper, singer, record producer, businessman, politician, and fashion designer. He has been influential in the 21st-century development of mainstream hip hop, popular music, and popular culture in general.Born in Atlanta and raised in Chicago, West gained notoriety as a producer for Roc-A-Fella Records in the early 2000s, producing singles for several mainstream artists.\n",
      "\n",
      "Me: Hi Kanye. Who is someone you've met who influenced you as an artist?\n",
      "\n",
      "Kanye West:\n",
      "\n",
      "-------------------------------------------------------------------------------\n",
      "\n",
      "kwargs:\n",
      " {'engine_i': 3, 'temperature': 0.5, 'max_tokens': 250, 'frequency_penalty': 0.1, 'stop': ['Me:', 'This is a conversation with']}\n",
      "\n",
      "-------------------------------------------------------------------------------\n",
      "\n",
      "fully resolved kwargs:\n",
      " {'engine_i': 3, 'temperature': 0.5, 'frequency_penalty': 0.1, 'max_tokens': 250, 'logprobs': None, 'stream': False, 'mock': False, 'return_full': False, 'strip_output': True, 'mock_func': None, 'mock_mode': 'raise', 'stop': ['Me:', 'This is a conversation with']}\n"
     ]
    }
   ],
   "source": [
    "conv.query(turn, debug=True)"
   ]
  },
  {
   "cell_type": "code",
   "execution_count": 81,
   "metadata": {
    "ExecuteTime": {
     "end_time": "2021-08-05T02:58:09.060248Z",
     "start_time": "2021-08-05T02:58:07.715808Z"
    }
   },
   "outputs": [
    {
     "name": "stderr",
     "output_type": "stream",
     "text": [
      "/Users/hmamin/jabberwocky/lib/jabberwocky/openai_utils.py:125: UserWarning: strip_output is automatically set to False when stream is True. It would be impossible to correctly reconstruct outputs otherwise.\n",
      "  warnings.warn('strip_output is automatically set to False when stream '\n"
     ]
    },
    {
     "name": "stdout",
     "output_type": "stream",
     "text": [
      " I was listening to him for a while, and I came out of the studio and he was talking about how it's not about the money. He was like, \"It's not about the money. It's about the music.\" I was like, \"Man, I'm a producer. It's about the music.\" He was like, \"It's not about the money. It's about the music.\" So I was like, \"I'm going to do that.\"\n",
      "\n"
     ]
    }
   ],
   "source": [
    "for chunk in conv.query(turn, engine_i=0, stream=True):\n",
    "    print(chunk, end='')"
   ]
  },
  {
   "cell_type": "code",
   "execution_count": 82,
   "metadata": {
    "ExecuteTime": {
     "end_time": "2021-08-05T02:58:17.970362Z",
     "start_time": "2021-08-05T02:58:17.897297Z"
    }
   },
   "outputs": [],
   "source": [
    "assert len(conv.user_turns) == 1\n",
    "assert len(conv.gpt3_turns) == 1"
   ]
  },
  {
   "cell_type": "code",
   "execution_count": 83,
   "metadata": {
    "ExecuteTime": {
     "end_time": "2021-08-05T02:58:20.789304Z",
     "start_time": "2021-08-05T02:58:20.751629Z"
    }
   },
   "outputs": [
    {
     "name": "stdout",
     "output_type": "stream",
     "text": [
      "Object loaded from data/logs/conversation_query_kwargs.json.\n",
      "This is a conversation with Kanye West. Kanye Omari West (born June 8, 1977) is an American rapper, singer, record producer, businessman, politician, and fashion designer. He has been influential in the 21st-century development of mainstream hip hop, popular music, and popular culture in general.Born in Atlanta and raised in Chicago, West gained notoriety as a producer for Roc-A-Fella Records in the early 2000s, producing singles for several mainstream artists.\n",
      "\n",
      "Me: Hi Kanye. Who is someone you've met who influenced you as an artist?\n",
      "\n",
      "Kanye West:\n"
     ]
    }
   ],
   "source": [
    "tmp = load(conv.log_path)['prompt']\n",
    "print(tmp)\n",
    "\n",
    "assert 'kanye_west' not in tmp\n",
    "assert tmp.startswith('This is a conversation')\n",
    "assert tmp.endswith('Kanye West:')"
   ]
  },
  {
   "cell_type": "code",
   "execution_count": 84,
   "metadata": {
    "ExecuteTime": {
     "end_time": "2021-08-05T02:58:23.253518Z",
     "start_time": "2021-08-05T02:58:23.218868Z"
    }
   },
   "outputs": [
    {
     "name": "stdout",
     "output_type": "stream",
     "text": [
      "\u001b[1mThis is a conversation with Kanye West. Kanye Omari West (born June 8, 1977) is an American rapper, singer, record producer, businessman, politician, and fashion designer. He has been influential in the 21st-century development of mainstream hip hop, popular music, and popular culture in general.Born in Atlanta and raised in Chicago, West gained notoriety as a producer for Roc-A-Fella Records in the early 2000s, producing singles for several mainstream artists.\u001b[0m\n",
      "\n",
      "\u001b[30m\u001b[1mMe:\u001b[0m\u001b[39m\u001b[30m Hi Kanye. Who is someone you've met who influenced you as an artist?\u001b[39m\n",
      "\n",
      "\u001b[30m\u001b[1mKanye West:\u001b[0m\u001b[39m\u001b[30m I was listening to him for a while, and I came out of the studio and he was talking about how it's not about the money. He was like, \"It's not about the money. It's about the music.\" I was like, \"Man, I'm a producer. It's about the music.\" He was like, \"It's not about the money. It's about the music.\" So I was like, \"I'm going to do that.\"\u001b[39m\n"
     ]
    }
   ],
   "source": [
    "print(conv.format_conversation(conv.full_conversation))"
   ]
  },
  {
   "cell_type": "code",
   "execution_count": 85,
   "metadata": {
    "ExecuteTime": {
     "end_time": "2021-08-05T02:58:31.348933Z",
     "start_time": "2021-08-05T02:58:31.306295Z"
    }
   },
   "outputs": [],
   "source": [
    "assert not conv.cached_query\n",
    "conv.query_later('What about your Dad? Was he artistic?')\n",
    "assert conv.cached_query is not None"
   ]
  },
  {
   "cell_type": "code",
   "execution_count": 86,
   "metadata": {
    "ExecuteTime": {
     "end_time": "2021-08-05T02:58:34.377796Z",
     "start_time": "2021-08-05T02:58:32.697324Z"
    }
   },
   "outputs": [
    {
     "name": "stdout",
     "output_type": "stream",
     "text": [
      " Yeah. He was a really good artist. He was a producer. He was like, \"I'm going to be a producer. I'm going to be a producer.\" He was like, \"I'm going to be a producer. I'm going to be a producer.\" He was like, \"I'm going to be a producer.\"\n",
      "\n"
     ]
    }
   ],
   "source": [
    "for chunk in conv.query(engine_i=0, stream=True):\n",
    "    print(chunk, end='')"
   ]
  },
  {
   "cell_type": "code",
   "execution_count": 88,
   "metadata": {
    "ExecuteTime": {
     "end_time": "2021-08-05T02:58:42.285353Z",
     "start_time": "2021-08-05T02:58:42.247524Z"
    }
   },
   "outputs": [
    {
     "data": {
      "text/plain": [
       "[\"Hi Kanye. Who is someone you've met who influenced you as an artist?\",\n",
       " 'What about your Dad? Was he artistic?']"
      ]
     },
     "execution_count": 88,
     "metadata": {},
     "output_type": "execute_result"
    }
   ],
   "source": [
    "conv.user_turns"
   ]
  },
  {
   "cell_type": "code",
   "execution_count": 89,
   "metadata": {
    "ExecuteTime": {
     "end_time": "2021-08-05T02:58:44.201898Z",
     "start_time": "2021-08-05T02:58:44.164191Z"
    }
   },
   "outputs": [
    {
     "data": {
      "text/plain": [
       "['I was listening to him for a while, and I came out of the studio and he was talking about how it\\'s not about the money. He was like, \"It\\'s not about the money. It\\'s about the music.\" I was like, \"Man, I\\'m a producer. It\\'s about the music.\" He was like, \"It\\'s not about the money. It\\'s about the music.\" So I was like, \"I\\'m going to do that.\"',\n",
       " 'Yeah. He was a really good artist. He was a producer. He was like, \"I\\'m going to be a producer. I\\'m going to be a producer.\" He was like, \"I\\'m going to be a producer. I\\'m going to be a producer.\" He was like, \"I\\'m going to be a producer.\"']"
      ]
     },
     "execution_count": 89,
     "metadata": {},
     "output_type": "execute_result"
    }
   ],
   "source": [
    "conv.gpt3_turns"
   ]
  },
  {
   "cell_type": "code",
   "execution_count": 90,
   "metadata": {
    "ExecuteTime": {
     "end_time": "2021-08-05T02:58:50.800586Z",
     "start_time": "2021-08-05T02:58:50.764115Z"
    }
   },
   "outputs": [
    {
     "name": "stdout",
     "output_type": "stream",
     "text": [
      "\u001b[1mThis is a conversation with Kanye West. Kanye Omari West (born June 8, 1977) is an American rapper, singer, record producer, businessman, politician, and fashion designer. He has been influential in the 21st-century development of mainstream hip hop, popular music, and popular culture in general.Born in Atlanta and raised in Chicago, West gained notoriety as a producer for Roc-A-Fella Records in the early 2000s, producing singles for several mainstream artists.\u001b[0m\n",
      "\n",
      "\u001b[30m\u001b[1mMe:\u001b[0m\u001b[39m\u001b[30m Hi Kanye. Who is someone you've met who influenced you as an artist?\u001b[39m\n",
      "\n",
      "\u001b[30m\u001b[1mKanye West:\u001b[0m\u001b[39m\u001b[30m I was listening to him for a while, and I came out of the studio and he was talking about how it's not about the money. He was like, \"It's not about the money. It's about the music.\" I was like, \"Man, I'm a producer. It's about the music.\" He was like, \"It's not about the money. It's about the music.\" So I was like, \"I'm going to do that.\"\u001b[39m\n",
      "\n",
      "\u001b[30m\u001b[1mMe:\u001b[0m\u001b[39m\u001b[30m What about your Dad? Was he artistic?\u001b[39m\n",
      "\n",
      "\u001b[30m\u001b[1mKanye West:\u001b[0m\u001b[39m\u001b[30m Yeah. He was a really good artist. He was a producer. He was like, \"I'm going to be a producer. I'm going to be a producer.\" He was like, \"I'm going to be a producer. I'm going to be a producer.\" He was like, \"I'm going to be a producer.\"\u001b[39m\n"
     ]
    }
   ],
   "source": [
    "print(conv.format_conversation(conv.full_conversation))"
   ]
  },
  {
   "cell_type": "code",
   "execution_count": 91,
   "metadata": {
    "ExecuteTime": {
     "end_time": "2021-08-05T02:58:55.939602Z",
     "start_time": "2021-08-05T02:58:55.903759Z"
    }
   },
   "outputs": [
    {
     "name": "stdout",
     "output_type": "stream",
     "text": [
      "Object loaded from data/logs/conversation_query_kwargs.json.\n",
      "This is a conversation with Kanye West. Kanye Omari West (born June 8, 1977) is an American rapper, singer, record producer, businessman, politician, and fashion designer. He has been influential in the 21st-century development of mainstream hip hop, popular music, and popular culture in general.Born in Atlanta and raised in Chicago, West gained notoriety as a producer for Roc-A-Fella Records in the early 2000s, producing singles for several mainstream artists.\n",
      "\n",
      "Me: Hi Kanye. Who is someone you've met who influenced you as an artist?\n",
      "\n",
      "Kanye West: I was listening to him for a while, and I came out of the studio and he was talking about how it's not about the money. He was like, \"It's not about the money. It's about the music.\" I was like, \"Man, I'm a producer. It's about the music.\" He was like, \"It's not about the money. It's about the music.\" So I was like, \"I'm going to do that.\"\n",
      "\n",
      "Me: What about your Dad? Was he artistic?\n",
      "\n",
      "Kanye West:\n"
     ]
    }
   ],
   "source": [
    "tmp = load('data/logs/conversation_query_kwargs.json')['prompt']\n",
    "print(tmp)\n",
    "\n",
    "assert 'kanye_west' not in tmp\n",
    "assert tmp.startswith('This is a conversation')\n",
    "assert tmp.endswith('Kanye West:')"
   ]
  },
  {
   "cell_type": "code",
   "execution_count": 92,
   "metadata": {
    "ExecuteTime": {
     "end_time": "2021-08-05T02:59:24.563981Z",
     "start_time": "2021-08-05T02:59:23.488139Z"
    }
   },
   "outputs": [
    {
     "name": "stdout",
     "output_type": "stream",
     "text": [
      " Yeah.\n",
      "\n"
     ]
    }
   ],
   "source": [
    "for chunk in conv.query('So you\\'ve definitely got a piece of both of them '\n",
    "                        'in you.', engine_i=0, stream=True):\n",
    "    print(chunk, end='')"
   ]
  },
  {
   "cell_type": "code",
   "execution_count": 93,
   "metadata": {
    "ExecuteTime": {
     "end_time": "2021-08-05T02:59:27.219978Z",
     "start_time": "2021-08-05T02:59:27.183725Z"
    }
   },
   "outputs": [
    {
     "name": "stdout",
     "output_type": "stream",
     "text": [
      "Object loaded from data/logs/conversation_query_kwargs.json.\n",
      "This is a conversation with Kanye West. Kanye Omari West (born June 8, 1977) is an American rapper, singer, record producer, businessman, politician, and fashion designer. He has been influential in the 21st-century development of mainstream hip hop, popular music, and popular culture in general.Born in Atlanta and raised in Chicago, West gained notoriety as a producer for Roc-A-Fella Records in the early 2000s, producing singles for several mainstream artists.\n",
      "\n",
      "Me: What about your Dad? Was he artistic?\n",
      "\n",
      "Kanye West: Yeah. He was a really good artist. He was a producer. He was like, \"I'm going to be a producer. I'm going to be a producer.\" He was like, \"I'm going to be a producer. I'm going to be a producer.\" He was like, \"I'm going to be a producer.\"\n",
      "\n",
      "Me: So you've definitely got a piece of both of them in you.\n",
      "\n",
      "Kanye West:\n"
     ]
    }
   ],
   "source": [
    "tmp = load(conv.log_path)['prompt']\n",
    "print(tmp)\n",
    "\n",
    "assert 'kanye_west' not in tmp\n",
    "assert tmp.startswith('This is a conversation')\n",
    "assert tmp.endswith('Kanye West:')"
   ]
  },
  {
   "cell_type": "code",
   "execution_count": 94,
   "metadata": {
    "ExecuteTime": {
     "end_time": "2021-08-05T02:59:36.924082Z",
     "start_time": "2021-08-05T02:59:36.854300Z"
    }
   },
   "outputs": [
    {
     "name": "stdout",
     "output_type": "stream",
     "text": [
      "\u001b[1mThis is a conversation with Kanye West. Kanye Omari West (born June 8, 1977) is an American rapper, singer, record producer, businessman, politician, and fashion designer. He has been influential in the 21st-century development of mainstream hip hop, popular music, and popular culture in general.Born in Atlanta and raised in Chicago, West gained notoriety as a producer for Roc-A-Fella Records in the early 2000s, producing singles for several mainstream artists.\u001b[0m\n",
      "\n",
      "\u001b[30m\u001b[1mMe:\u001b[0m\u001b[39m\u001b[30m Hi Kanye. Who is someone you've met who influenced you as an artist?\u001b[39m\n",
      "\n",
      "\u001b[30m\u001b[1mKanye West:\u001b[0m\u001b[39m\u001b[30m I was listening to him for a while, and I came out of the studio and he was talking about how it's not about the money. He was like, \"It's not about the money. It's about the music.\" I was like, \"Man, I'm a producer. It's about the music.\" He was like, \"It's not about the money. It's about the music.\" So I was like, \"I'm going to do that.\"\u001b[39m\n",
      "\n",
      "\u001b[30m\u001b[1mMe:\u001b[0m\u001b[39m\u001b[30m What about your Dad? Was he artistic?\u001b[39m\n",
      "\n",
      "\u001b[30m\u001b[1mKanye West:\u001b[0m\u001b[39m\u001b[30m Yeah. He was a really good artist. He was a producer. He was like, \"I'm going to be a producer. I'm going to be a producer.\" He was like, \"I'm going to be a producer. I'm going to be a producer.\" He was like, \"I'm going to be a producer.\"\u001b[39m\n",
      "\n",
      "\u001b[30m\u001b[1mMe:\u001b[0m\u001b[39m\u001b[30m So you've definitely got a piece of both of them in you.\u001b[39m\n",
      "\n",
      "\u001b[30m\u001b[1mKanye West:\u001b[0m\u001b[39m\u001b[30m Yeah.\u001b[39m\n"
     ]
    }
   ],
   "source": [
    "print(conv.format_conversation(conv.full_conversation))"
   ]
  },
  {
   "cell_type": "code",
   "execution_count": 95,
   "metadata": {
    "ExecuteTime": {
     "end_time": "2021-08-05T03:00:44.130353Z",
     "start_time": "2021-08-05T03:00:43.658051Z"
    }
   },
   "outputs": [
    {
     "name": "stdout",
     "output_type": "stream",
     "text": [
      "\u001b[1mThis is a conversation with Kanye West. Kanye Omari West (born June 8, 1977) is an American rapper, singer, record producer, businessman, politician, and fashion designer. He has been influential in the 21st-century development of mainstream hip hop, popular music, and popular culture in general.Born in Atlanta and raised in Chicago, West gained notoriety as a producer for Roc-A-Fella Records in the early 2000s, producing singles for several mainstream artists.\u001b[0m\n",
      "\n",
      "\u001b[30m\u001b[1mMe:\u001b[0m\u001b[39m\u001b[30m Hi Kanye. Who is someone you've met who influenced you as an artist?\u001b[39m\n",
      "\n",
      "\u001b[30m\u001b[1mKanye West:\u001b[0m\u001b[39m\u001b[30m I was listening to him for a while, and I came out of the studio and he was talking about how it's not about the money. He was like, \"It's not about the money. It's about the music.\" I was like, \"Man, I'm a producer. It's about the music.\" He was like, \"It's not about the money. It's about the music.\" So I was like, \"I'm going to do that.\"\u001b[39m\n",
      "\n",
      "\u001b[30m\u001b[1mMe:\u001b[0m\u001b[39m\u001b[30m What about your Dad? Was he artistic?\u001b[39m\n",
      "\n",
      "\u001b[30m\u001b[1mKanye West:\u001b[0m\u001b[39m\u001b[30m Yeah. He was a really good artist. He was a producer. He was like, \"I'm going to be a producer. I'm going to be a producer.\" He was like, \"I'm going to be a producer. I'm going to be a producer.\" He was like, \"I'm going to be a producer.\"\u001b[39m\n",
      "\n",
      "\u001b[30m\u001b[1mMe:\u001b[0m\u001b[39m\u001b[30m So you've definitely got a piece of both of them in you.\u001b[39m\n",
      "\n",
      "\u001b[30m\u001b[1mKanye West:\u001b[0m\u001b[39m\u001b[30m Yeah.\u001b[39m\n",
      "\n",
      "\u001b[30m\u001b[1mMe:\u001b[0m\u001b[39m\u001b[30m That's beautiful.\u001b[39m\n",
      "\n",
      "\u001b[30m\u001b[1mKanye West:\u001b[0m\u001b[39m\u001b[30m Yeah.\u001b[39m\n"
     ]
    }
   ],
   "source": [
    "# Check that we can use streaming mode on some queries and not on others. \n",
    "# Can't imagine a scenario where I'd want this but I'm pretty sure it works\n",
    "# already anyway.\n",
    "prompt, resp = conv.query('That\\'s beautiful.', engine_i=0)\n",
    "print(conv.format_conversation(conv.full_conversation))"
   ]
  },
  {
   "cell_type": "code",
   "execution_count": 96,
   "metadata": {
    "ExecuteTime": {
     "end_time": "2021-08-05T03:00:49.257348Z",
     "start_time": "2021-08-05T03:00:49.218936Z"
    }
   },
   "outputs": [
    {
     "name": "stdout",
     "output_type": "stream",
     "text": [
      "Object loaded from data/logs/conversation_query_kwargs.json.\n",
      "This is a conversation with Kanye West. Kanye Omari West (born June 8, 1977) is an American rapper, singer, record producer, businessman, politician, and fashion designer. He has been influential in the 21st-century development of mainstream hip hop, popular music, and popular culture in general.Born in Atlanta and raised in Chicago, West gained notoriety as a producer for Roc-A-Fella Records in the early 2000s, producing singles for several mainstream artists.\n",
      "\n",
      "Me: So you've definitely got a piece of both of them in you.\n",
      "\n",
      "Kanye West: Yeah.\n",
      "\n",
      "Me: That's beautiful.\n",
      "\n",
      "Kanye West:\n"
     ]
    }
   ],
   "source": [
    "tmp = load(conv.log_path)['prompt']\n",
    "print(tmp)\n",
    "\n",
    "assert 'kanye_west' not in tmp\n",
    "assert tmp.startswith('This is a conversation')\n",
    "assert tmp.endswith('Kanye West:')\n",
    "assert len(tmp) < len(conv.full_conversation)"
   ]
  }
 ],
 "metadata": {
  "kernelspec": {
   "display_name": "Python 3",
   "language": "python",
   "name": "python3"
  },
  "language_info": {
   "codemirror_mode": {
    "name": "ipython",
    "version": 3
   },
   "file_extension": ".py",
   "mimetype": "text/x-python",
   "name": "python",
   "nbconvert_exporter": "python",
   "pygments_lexer": "ipython3",
   "version": "3.7.3"
  }
 },
 "nbformat": 4,
 "nbformat_minor": 2
}
