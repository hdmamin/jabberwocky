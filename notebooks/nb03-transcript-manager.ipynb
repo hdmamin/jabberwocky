{
 "cells": [
  {
   "cell_type": "markdown",
   "metadata": {},
   "source": [
    "# Summary\n",
    "\n",
    "Start tying openai and youtube functionality together to manage the punctuation process."
   ]
  },
  {
   "cell_type": "code",
   "execution_count": 1,
   "metadata": {
    "ExecuteTime": {
     "end_time": "2021-04-27T02:48:40.620795Z",
     "start_time": "2021-04-27T02:48:40.602587Z"
    }
   },
   "outputs": [],
   "source": [
    "%load_ext autoreload\n",
    "%autoreload 2"
   ]
  },
  {
   "cell_type": "code",
   "execution_count": 2,
   "metadata": {
    "ExecuteTime": {
     "end_time": "2021-04-27T02:48:42.553329Z",
     "start_time": "2021-04-27T02:48:41.035636Z"
    }
   },
   "outputs": [],
   "source": [
    "import matplotlib.pyplot as plt\n",
    "import numpy as np\n",
    "import os\n",
    "import pandas as pd\n",
    "from pathlib import Path\n",
    "from youtube_transcript_api import YouTubeTranscriptApi, NoTranscriptFound\n",
    "\n",
    "from jabberwocky.config import C\n",
    "from jabberwocky.openai_utils import query_gpt3\n",
    "from jabberwocky.utils import load_prompt\n",
    "from jabberwocky.youtube import realign_punctuated_text, get_transcripts, \\\n",
    "    text_segment, video_id\n",
    "from htools import *"
   ]
  },
  {
   "cell_type": "code",
   "execution_count": 3,
   "metadata": {
    "ExecuteTime": {
     "end_time": "2021-04-27T02:48:42.584310Z",
     "start_time": "2021-04-27T02:48:42.555902Z"
    }
   },
   "outputs": [
    {
     "name": "stdout",
     "output_type": "stream",
     "text": [
      "Current directory: /Users/hmamin/jabberwocky\n"
     ]
    }
   ],
   "source": [
    "cd_root()"
   ]
  },
  {
   "cell_type": "code",
   "execution_count": 195,
   "metadata": {
    "ExecuteTime": {
     "end_time": "2021-04-28T02:55:46.655777Z",
     "start_time": "2021-04-28T02:55:46.501935Z"
    }
   },
   "outputs": [],
   "source": [
    "class UnpunctuatedTranscript:\n",
    "    \n",
    "    def __init__(self, df_gen, **kwargs):\n",
    "        self.df_gen = df_gen\n",
    "        self.df_punct = self.df_gen.copy()\n",
    "        self.df_punct['text'] = np.nan\n",
    "        # TODO: adjust so prompt template saved separately from prompt_kwargs.\n",
    "        # TODO: adjust load_prompt to have option to skip .format call \n",
    "        # if no text passed in.\n",
    "        self.prompt_kwargs = load_prompt('punctuate')\n",
    "        self.prompt_fmt = self.prompt_kwargs.pop('prompt')\n",
    "        self.prompt_kwargs.update(kwargs)\n",
    "        \n",
    "    @property\n",
    "    def df(self):\n",
    "        # TODO: maybe should return self.df_punct, possibly after punct query? \n",
    "        # Unsure.\n",
    "        return self.df_gen\n",
    "    \n",
    "    def _punctuate_chunk(self, df_chunk, **kwargs) -> str:\n",
    "        text = ' '.join(df_chunk.text)\n",
    "        prompt = self.prompt_fmt.format(text).rstrip()\n",
    "        # n_tokens is roughly 1.33 * n_words. Add buffer for punctuation.\n",
    "        prompt_kwargs = {**self.prompt_kwargs,\n",
    "                         **kwargs, \n",
    "                         'max_tokens': int(len(text.split()) * 2)}\n",
    "        _, text_punct = query_gpt3(prompt, **prompt_kwargs)\n",
    "        return text_punct\n",
    "    \n",
    "#     def punctuated_chunk(self, start_idx, end_idx, align_kwargs=None, \n",
    "#                         **query_kwargs):\n",
    "#         df_chunk = self.df_gen.loc[start_idx:end_idx]\n",
    "#         for idx in self.na_index_chunks(self.df_punct.loc[start_idx:end_idx]):\n",
    "#             print(idx)\n",
    "#         return\n",
    "        \n",
    "        \n",
    "#         text_punct = self._punctuate_chunk(df_chunk, **query_kwargs)\n",
    "#         df_chunk_punct = realign_punctuated_text(df_chunk, text_punct, \n",
    "#                                                  **ifnone(align_kwargs, {}))\n",
    "#         # Must use 'values' attribute because realignment func resets index.\n",
    "#         self.df_punct.loc[start_idx:end_idx, 'text'] = df_chunk_punct.text.values\n",
    "#         return self.df_punct.loc[start_idx:end_idx, :]\n",
    "    \n",
    "    # This version only punctuates rows of the relevant chunk that haven't \n",
    "    # been previously punctuated. While this is faster and cheaper, I've seen\n",
    "    # some hints that the punctuation task may work better when we pass it\n",
    "    # long-ish chunks of text and not little partial snippets. So it might\n",
    "    # actually be better not to do this? I was going to say it might do better\n",
    "    # if given full sentences rather than fragments, but I guess we can't \n",
    "    # easily extract those without doing the actual punctuation step.\n",
    "    def punctuated_chunk(self, start_idx, end_idx, punctuate, \n",
    "                         align_kwargs=None, **query_kwargs):\n",
    "        if not punctuate:\n",
    "            return self.df_gen.loc[start_idx:end_idx, :]\n",
    "        for idx in self.na_index_chunks(self.df_punct.loc[start_idx:end_idx]):\n",
    "            df_chunk = self.df_gen.loc[idx]\n",
    "            text_punct = self._punctuate_chunk(df_chunk, **query_kwargs)\n",
    "            df_chunk_punct = realign_punctuated_text(\n",
    "                df_chunk, text_punct, **ifnone(align_kwargs, {})\n",
    "            )\n",
    "            # Use 'values' attribute because realignment func resets index.\n",
    "            self.df_punct.loc[idx, 'text'] = df_chunk_punct.text.values\n",
    "        return self.df_punct.loc[start_idx:end_idx, :]\n",
    "    \n",
    "    @staticmethod\n",
    "    def na_index_chunks(chunk) -> list:\n",
    "        \"\"\"Given a chunk of a df that may contain null text rows, return a \n",
    "        list of lists where each nested list contains the indices of a \n",
    "        contiguous chunk of null rows.\n",
    "        \"\"\"\n",
    "        nans = chunk[chunk.text.isnull()]\n",
    "        if nans.empty: return []\n",
    "        last_idx = nans.index[-1]\n",
    "        res = []\n",
    "        curr_chunk = []\n",
    "        prev = None\n",
    "        for idx in nans.index:\n",
    "            if prev is None or (idx == prev + 1): \n",
    "                curr_chunk.append(idx)\n",
    "            else:\n",
    "                res.append(curr_chunk)\n",
    "                curr_chunk = [idx]\n",
    "            if idx == last_idx:\n",
    "                res.append(curr_chunk)\n",
    "            prev = idx\n",
    "        return res"
   ]
  },
  {
   "cell_type": "code",
   "execution_count": 196,
   "metadata": {
    "ExecuteTime": {
     "end_time": "2021-04-28T02:55:47.019980Z",
     "start_time": "2021-04-28T02:55:46.981237Z"
    }
   },
   "outputs": [],
   "source": [
    "class PunctuatedTranscript:\n",
    "    \n",
    "    def __init__(self, df_gen, df_punct, **kwargs):\n",
    "        \"\"\"\n",
    "        kwargs:\n",
    "            Just for compatibility with UnpunctuatedTranscript, which needs\n",
    "            these to specify args like 'rstrip' when loading a prompt.\n",
    "        \"\"\"\n",
    "        self.df_gen = df_gen\n",
    "        self.df_punct = df_punct\n",
    "        \n",
    "    @property\n",
    "    def df(self):\n",
    "        return self.df_punct\n",
    "    \n",
    "    def punctuated_chunk(self, start_idx, end_idx, **kwargs):\n",
    "        return self.df_punct.loc[start_idx:end_idx, :]"
   ]
  },
  {
   "cell_type": "code",
   "execution_count": 197,
   "metadata": {
    "ExecuteTime": {
     "end_time": "2021-04-28T02:55:47.517979Z",
     "start_time": "2021-04-28T02:55:47.385725Z"
    }
   },
   "outputs": [],
   "source": [
    "@auto_repr\n",
    "class Transcript:\n",
    "    \n",
    "    def __init__(self, url, **kwargs):\n",
    "        self.url = url\n",
    "        self.id = video_id(url)\n",
    "        self._transcript = self._fetch_transcripts(url, **kwargs)\n",
    "        self.is_generated = isinstance(self._transcript,\n",
    "                                       UnpunctuatedTranscript)\n",
    "        self.start_time, self.end_time = self.df.start.ends(1)\n",
    "            \n",
    "    def _time_range(self, start, end, full_sentences=True):\n",
    "        assert end > start, 'End time must be later than start time.'\n",
    "        assert start >= 0 and end >= 0, 'Times must be non-negative.'\n",
    "\n",
    "        df = self.df\n",
    "        if start < self.start_time:\n",
    "            start_idx = 0\n",
    "        else:\n",
    "            start_idx = df.loc[df.start <= start].index[-1]\n",
    "\n",
    "        if end > df.start.iloc[-1]:\n",
    "            end_idx = df.tail(1).index[0]\n",
    "        else:\n",
    "            end_idx = df.loc[df.start >= end].index[0]\n",
    "        return df.iloc[start_idx:end_idx+1]\n",
    "    \n",
    "    def time_range(self, start, end, punctuate=False, full_sentences=True,\n",
    "                   align_kwargs=None, **query_kwargs):\n",
    "        chunk = self._time_range(start, end, full_sentences=full_sentences)\n",
    "        return self._transcript.punctuated_chunk(*chunk.ends(1).index, \n",
    "                                                 punctuate=punctuate,\n",
    "                                                 align_kwargs=align_kwargs,\n",
    "                                                 **query_kwargs)\n",
    "    \n",
    "    @property\n",
    "    def df(self):\n",
    "        return self._transcript.df\n",
    "    \n",
    "    def _fetch_transcripts(self, url, **kwargs):\n",
    "        \"\"\"Wrapper to fetch youtube transcripts and create the appropriate\n",
    "        transcript object depending on whether a manually generated (i.e.\n",
    "        punctuated) transcript was retrieved.\n",
    "        \n",
    "        Parameters\n",
    "        ----------\n",
    "        url: str\n",
    "        verbose: bool\n",
    "        \"\"\"\n",
    "        df_gen, df_man, _ = self.get_transcripts(\n",
    "            url, verbose=kwargs.get('verbose', True)\n",
    "        )\n",
    "        if df_man is None:\n",
    "            return UnpunctuatedTranscript(df_gen, **kwargs)\n",
    "        else:\n",
    "            return PunctuatedTranscript(df_gen, df_man, **kwargs)\n",
    "        \n",
    "    @staticmethod\n",
    "    def get_transcripts(url, verbose=True):\n",
    "        \"\"\"Fetch one or more transcripts for a youtube video given its URL.\n",
    "\n",
    "        Parameters\n",
    "        ----------\n",
    "        url: str\n",
    "            Don't include any channel-related suffix. E.G. use\n",
    "            https://www.youtube.com/watch?v=OZbCRN3C_Hs, not\n",
    "            https://www.youtube.com/watch?v=OZbCRN3C_Hs&ab_channel=BBC.\n",
    "        verbose: bool\n",
    "            Warn\n",
    "\n",
    "        Returns\n",
    "        -------\n",
    "        DotDict: Contains keys 'id' (maps to video ID str), 'generated',\n",
    "        and 'manual' (the latter two lap to pandas dfs or None if no \n",
    "        transcript was found). Manual transcripts are human-created.\n",
    "        Generated transcripts are a bit lower quality and tend to lack\n",
    "        punctuation.\n",
    "        \"\"\"\n",
    "        langs = ['en', 'en-GB']\n",
    "        id_ = video_id(url)\n",
    "        res = {'generated': None, 'manual': None}\n",
    "        trans_list = YouTubeTranscriptApi.list_transcripts(id_)\n",
    "        res['generated'] = trans_list.find_generated_transcript(langs)\n",
    "        try:\n",
    "            res['manual'] = trans_list.find_manually_created_transcript(langs)\n",
    "        except NoTranscriptFound:\n",
    "            if verbose: warnings.warn('No manual transcript found.')\n",
    "        if verbose:\n",
    "            non_eng = [k for k, v in res.items()\n",
    "                       if v and ('United Kingdom' in v.language)]\n",
    "            if non_eng:\n",
    "                warnings.warn(\n",
    "                    f'{non_eng} {\"has\" if len(non_eng) == 1 else \"have\"} '\n",
    "                    'language en-GB, not en.'\n",
    "                )\n",
    "        return Args(**{k: pd.DataFrame(v.fetch()) if v else v \n",
    "                       for k, v in res.items()},\n",
    "                    id=id_)\n",
    "    \n",
    "    def __str__(self):\n",
    "        return f'{type(self).__name__}(url={self.url}, '\\\n",
    "               f'is_generated={self.is_generated})'"
   ]
  },
  {
   "cell_type": "code",
   "execution_count": 189,
   "metadata": {
    "ExecuteTime": {
     "end_time": "2021-04-28T02:54:43.026730Z",
     "start_time": "2021-04-28T02:54:42.998684Z"
    }
   },
   "outputs": [],
   "source": [
    "gen_url = 'https://www.youtube.com/watch?v=AtTsn1Ia4JY&ab_channel=LukeThomas'\n",
    "man_url = 'https://www.youtube.com/watch?v=NNnIGh9g6fA'"
   ]
  },
  {
   "cell_type": "code",
   "execution_count": 190,
   "metadata": {
    "ExecuteTime": {
     "end_time": "2021-04-28T02:54:44.665688Z",
     "start_time": "2021-04-28T02:54:43.610754Z"
    }
   },
   "outputs": [
    {
     "name": "stderr",
     "output_type": "stream",
     "text": [
      "/Users/hmamin/anaconda3/lib/python3.7/site-packages/ipykernel_launcher.py:87: UserWarning: No manual transcript found.\n"
     ]
    },
    {
     "name": "stdout",
     "output_type": "stream",
     "text": [
      "You should probably adjust max_tokens based on the length of the input. Bumping up to engine 2 or 3 might help a little, but engine 1 is serviceable (probably best to avoid 0 though). You should probably try training a huggingface model to add punctuation instead of using gpt3 credits though.\n",
      "-------------------------------------------------------------------------------\n",
      "\n"
     ]
    },
    {
     "data": {
      "text/plain": [
       "Transcript(url='https://www.youtube.com/watch?v=AtTsn1Ia4JY&ab_channel=LukeThomas')"
      ]
     },
     "execution_count": 190,
     "metadata": {},
     "output_type": "execute_result"
    }
   ],
   "source": [
    "trans_gen = Transcript(gen_url)\n",
    "trans_gen"
   ]
  },
  {
   "cell_type": "code",
   "execution_count": 191,
   "metadata": {
    "ExecuteTime": {
     "end_time": "2021-04-28T02:54:46.709471Z",
     "start_time": "2021-04-28T02:54:45.394442Z"
    }
   },
   "outputs": [
    {
     "data": {
      "text/plain": [
       "Transcript(url='https://www.youtube.com/watch?v=NNnIGh9g6fA')"
      ]
     },
     "execution_count": 191,
     "metadata": {},
     "output_type": "execute_result"
    }
   ],
   "source": [
    "trans_man = Transcript(man_url)\n",
    "trans_man"
   ]
  },
  {
   "cell_type": "code",
   "execution_count": 192,
   "metadata": {
    "ExecuteTime": {
     "end_time": "2021-04-28T02:54:48.192436Z",
     "start_time": "2021-04-28T02:54:48.142988Z"
    }
   },
   "outputs": [
    {
     "data": {
      "text/html": [
       "<div>\n",
       "<style scoped>\n",
       "    .dataframe tbody tr th:only-of-type {\n",
       "        vertical-align: middle;\n",
       "    }\n",
       "\n",
       "    .dataframe tbody tr th {\n",
       "        vertical-align: top;\n",
       "    }\n",
       "\n",
       "    .dataframe thead th {\n",
       "        text-align: right;\n",
       "    }\n",
       "</style>\n",
       "<table border=\"1\" class=\"dataframe\">\n",
       "  <thead>\n",
       "    <tr style=\"text-align: right;\">\n",
       "      <th></th>\n",
       "      <th>text</th>\n",
       "      <th>start</th>\n",
       "      <th>duration</th>\n",
       "    </tr>\n",
       "  </thead>\n",
       "  <tbody>\n",
       "    <tr>\n",
       "      <th>1</th>\n",
       "      <td>Stanford University.</td>\n",
       "      <td>4.94</td>\n",
       "      <td>0.92</td>\n",
       "    </tr>\n",
       "    <tr>\n",
       "      <th>2</th>\n",
       "      <td>This is BIO 150, isn't it?</td>\n",
       "      <td>9.36</td>\n",
       "      <td>3.37</td>\n",
       "    </tr>\n",
       "    <tr>\n",
       "      <th>3</th>\n",
       "      <td>OK, just wanted to make sure.</td>\n",
       "      <td>12.73</td>\n",
       "      <td>2.74</td>\n",
       "    </tr>\n",
       "    <tr>\n",
       "      <th>4</th>\n",
       "      <td>So we start off with a scenario.</td>\n",
       "      <td>15.47</td>\n",
       "      <td>3.42</td>\n",
       "    </tr>\n",
       "    <tr>\n",
       "      <th>5</th>\n",
       "      <td>40-year-old guy--\\nquiet, suburban life.</td>\n",
       "      <td>18.89</td>\n",
       "      <td>4.06</td>\n",
       "    </tr>\n",
       "  </tbody>\n",
       "</table>\n",
       "</div>"
      ],
      "text/plain": [
       "                                       text  start  duration\n",
       "1                      Stanford University.   4.94      0.92\n",
       "2                This is BIO 150, isn't it?   9.36      3.37\n",
       "3             OK, just wanted to make sure.  12.73      2.74\n",
       "4          So we start off with a scenario.  15.47      3.42\n",
       "5  40-year-old guy--\\nquiet, suburban life.  18.89      4.06"
      ]
     },
     "execution_count": 192,
     "metadata": {},
     "output_type": "execute_result"
    }
   ],
   "source": [
    "trans_man.time_range(7, 16)"
   ]
  },
  {
   "cell_type": "code",
   "execution_count": 193,
   "metadata": {
    "ExecuteTime": {
     "end_time": "2021-04-28T02:54:51.294757Z",
     "start_time": "2021-04-28T02:54:51.259546Z"
    }
   },
   "outputs": [
    {
     "data": {
      "text/html": [
       "<div>\n",
       "<style scoped>\n",
       "    .dataframe tbody tr th:only-of-type {\n",
       "        vertical-align: middle;\n",
       "    }\n",
       "\n",
       "    .dataframe tbody tr th {\n",
       "        vertical-align: top;\n",
       "    }\n",
       "\n",
       "    .dataframe thead th {\n",
       "        text-align: right;\n",
       "    }\n",
       "</style>\n",
       "<table border=\"1\" class=\"dataframe\">\n",
       "  <thead>\n",
       "    <tr style=\"text-align: right;\">\n",
       "      <th></th>\n",
       "      <th>text</th>\n",
       "      <th>start</th>\n",
       "      <th>duration</th>\n",
       "    </tr>\n",
       "  </thead>\n",
       "  <tbody>\n",
       "    <tr>\n",
       "      <th>35</th>\n",
       "      <td>stuff but there is</td>\n",
       "      <td>58.879</td>\n",
       "      <td>2.801</td>\n",
       "    </tr>\n",
       "    <tr>\n",
       "      <th>36</th>\n",
       "      <td>a little bit more to the story what was</td>\n",
       "      <td>60.160</td>\n",
       "      <td>3.440</td>\n",
       "    </tr>\n",
       "    <tr>\n",
       "      <th>37</th>\n",
       "      <td>dan hooker trying what was his</td>\n",
       "      <td>61.680</td>\n",
       "      <td>3.839</td>\n",
       "    </tr>\n",
       "    <tr>\n",
       "      <th>38</th>\n",
       "      <td>game plan here and more to the point</td>\n",
       "      <td>63.600</td>\n",
       "      <td>4.160</td>\n",
       "    </tr>\n",
       "    <tr>\n",
       "      <th>39</th>\n",
       "      <td>there are some finer details to that</td>\n",
       "      <td>65.519</td>\n",
       "      <td>3.121</td>\n",
       "    </tr>\n",
       "    <tr>\n",
       "      <th>40</th>\n",
       "      <td>finish that</td>\n",
       "      <td>67.760</td>\n",
       "      <td>3.520</td>\n",
       "    </tr>\n",
       "    <tr>\n",
       "      <th>41</th>\n",
       "      <td>really deserve to get mentioned and i</td>\n",
       "      <td>68.640</td>\n",
       "      <td>4.080</td>\n",
       "    </tr>\n",
       "    <tr>\n",
       "      <th>42</th>\n",
       "      <td>don't know exactly how far</td>\n",
       "      <td>71.280</td>\n",
       "      <td>2.640</td>\n",
       "    </tr>\n",
       "  </tbody>\n",
       "</table>\n",
       "</div>"
      ],
      "text/plain": [
       "                                       text   start  duration\n",
       "35                       stuff but there is  58.879     2.801\n",
       "36  a little bit more to the story what was  60.160     3.440\n",
       "37           dan hooker trying what was his  61.680     3.839\n",
       "38     game plan here and more to the point  63.600     4.160\n",
       "39     there are some finer details to that  65.519     3.121\n",
       "40                              finish that  67.760     3.520\n",
       "41    really deserve to get mentioned and i  68.640     4.080\n",
       "42               don't know exactly how far  71.280     2.640"
      ]
     },
     "execution_count": 193,
     "metadata": {},
     "output_type": "execute_result"
    }
   ],
   "source": [
    "trans_gen._time_range(60, 70)"
   ]
  },
  {
   "cell_type": "code",
   "execution_count": 194,
   "metadata": {
    "ExecuteTime": {
     "end_time": "2021-04-28T02:55:04.489952Z",
     "start_time": "2021-04-28T02:55:04.437713Z"
    }
   },
   "outputs": [
    {
     "data": {
      "text/html": [
       "<div>\n",
       "<style scoped>\n",
       "    .dataframe tbody tr th:only-of-type {\n",
       "        vertical-align: middle;\n",
       "    }\n",
       "\n",
       "    .dataframe tbody tr th {\n",
       "        vertical-align: top;\n",
       "    }\n",
       "\n",
       "    .dataframe thead th {\n",
       "        text-align: right;\n",
       "    }\n",
       "</style>\n",
       "<table border=\"1\" class=\"dataframe\">\n",
       "  <thead>\n",
       "    <tr style=\"text-align: right;\">\n",
       "      <th></th>\n",
       "      <th>text</th>\n",
       "      <th>start</th>\n",
       "      <th>duration</th>\n",
       "    </tr>\n",
       "  </thead>\n",
       "  <tbody>\n",
       "    <tr>\n",
       "      <th>35</th>\n",
       "      <td>stuff but there is</td>\n",
       "      <td>58.879</td>\n",
       "      <td>2.801</td>\n",
       "    </tr>\n",
       "    <tr>\n",
       "      <th>36</th>\n",
       "      <td>a little bit more to the story what was</td>\n",
       "      <td>60.160</td>\n",
       "      <td>3.440</td>\n",
       "    </tr>\n",
       "    <tr>\n",
       "      <th>37</th>\n",
       "      <td>dan hooker trying what was his</td>\n",
       "      <td>61.680</td>\n",
       "      <td>3.839</td>\n",
       "    </tr>\n",
       "    <tr>\n",
       "      <th>38</th>\n",
       "      <td>game plan here and more to the point</td>\n",
       "      <td>63.600</td>\n",
       "      <td>4.160</td>\n",
       "    </tr>\n",
       "    <tr>\n",
       "      <th>39</th>\n",
       "      <td>there are some finer details to that</td>\n",
       "      <td>65.519</td>\n",
       "      <td>3.121</td>\n",
       "    </tr>\n",
       "    <tr>\n",
       "      <th>40</th>\n",
       "      <td>finish that</td>\n",
       "      <td>67.760</td>\n",
       "      <td>3.520</td>\n",
       "    </tr>\n",
       "    <tr>\n",
       "      <th>41</th>\n",
       "      <td>really deserve to get mentioned and i</td>\n",
       "      <td>68.640</td>\n",
       "      <td>4.080</td>\n",
       "    </tr>\n",
       "    <tr>\n",
       "      <th>42</th>\n",
       "      <td>don't know exactly how far</td>\n",
       "      <td>71.280</td>\n",
       "      <td>2.640</td>\n",
       "    </tr>\n",
       "  </tbody>\n",
       "</table>\n",
       "</div>"
      ],
      "text/plain": [
       "                                       text   start  duration\n",
       "35                       stuff but there is  58.879     2.801\n",
       "36  a little bit more to the story what was  60.160     3.440\n",
       "37           dan hooker trying what was his  61.680     3.839\n",
       "38     game plan here and more to the point  63.600     4.160\n",
       "39     there are some finer details to that  65.519     3.121\n",
       "40                              finish that  67.760     3.520\n",
       "41    really deserve to get mentioned and i  68.640     4.080\n",
       "42               don't know exactly how far  71.280     2.640"
      ]
     },
     "execution_count": 194,
     "metadata": {},
     "output_type": "execute_result"
    }
   ],
   "source": [
    "trans_gen.time_range(60, 70)"
   ]
  },
  {
   "cell_type": "code",
   "execution_count": 177,
   "metadata": {
    "ExecuteTime": {
     "end_time": "2021-04-27T03:44:43.911319Z",
     "start_time": "2021-04-27T03:44:42.860653Z"
    }
   },
   "outputs": [
    {
     "name": "stdout",
     "output_type": "stream",
     "text": [
      "[35, 36, 37, 38, 39, 40, 41, 42]\n"
     ]
    },
    {
     "name": "stderr",
     "output_type": "stream",
     "text": [
      "/Users/hmamin/jabberwocky/lib/jabberwocky/youtube.py:164: UserWarning: Max score < 80. Your rows may have gotten misaligned at row 37: dan hooker trying what was his\n",
      "  'Max score < 80. Your rows may have gotten misaligned '\n"
     ]
    }
   ],
   "source": [
    "res = trans_gen.time_range(60, 70, True)"
   ]
  },
  {
   "cell_type": "code",
   "execution_count": 178,
   "metadata": {
    "ExecuteTime": {
     "end_time": "2021-04-27T03:44:45.758186Z",
     "start_time": "2021-04-27T03:44:45.723979Z"
    }
   },
   "outputs": [
    {
     "data": {
      "text/html": [
       "<div>\n",
       "<style scoped>\n",
       "    .dataframe tbody tr th:only-of-type {\n",
       "        vertical-align: middle;\n",
       "    }\n",
       "\n",
       "    .dataframe tbody tr th {\n",
       "        vertical-align: top;\n",
       "    }\n",
       "\n",
       "    .dataframe thead th {\n",
       "        text-align: right;\n",
       "    }\n",
       "</style>\n",
       "<table border=\"1\" class=\"dataframe\">\n",
       "  <thead>\n",
       "    <tr style=\"text-align: right;\">\n",
       "      <th></th>\n",
       "      <th>text</th>\n",
       "      <th>start</th>\n",
       "      <th>duration</th>\n",
       "    </tr>\n",
       "  </thead>\n",
       "  <tbody>\n",
       "    <tr>\n",
       "      <th>35</th>\n",
       "      <td>stuff but there is</td>\n",
       "      <td>58.879</td>\n",
       "      <td>2.801</td>\n",
       "    </tr>\n",
       "    <tr>\n",
       "      <th>36</th>\n",
       "      <td>a little bit more to the story. What was</td>\n",
       "      <td>60.160</td>\n",
       "      <td>3.440</td>\n",
       "    </tr>\n",
       "    <tr>\n",
       "      <th>37</th>\n",
       "      <td>Dan Hooker</td>\n",
       "      <td>61.680</td>\n",
       "      <td>3.839</td>\n",
       "    </tr>\n",
       "    <tr>\n",
       "      <th>38</th>\n",
       "      <td>trying to do here? And more to the point,</td>\n",
       "      <td>63.600</td>\n",
       "      <td>4.160</td>\n",
       "    </tr>\n",
       "    <tr>\n",
       "      <th>39</th>\n",
       "      <td>there are some finer details to that</td>\n",
       "      <td>65.519</td>\n",
       "      <td>3.121</td>\n",
       "    </tr>\n",
       "    <tr>\n",
       "      <th>40</th>\n",
       "      <td>finish that</td>\n",
       "      <td>67.760</td>\n",
       "      <td>3.520</td>\n",
       "    </tr>\n",
       "    <tr>\n",
       "      <th>41</th>\n",
       "      <td>really deserve to get mentioned. And I</td>\n",
       "      <td>68.640</td>\n",
       "      <td>4.080</td>\n",
       "    </tr>\n",
       "    <tr>\n",
       "      <th>42</th>\n",
       "      <td>don't know exactly how far</td>\n",
       "      <td>71.280</td>\n",
       "      <td>2.640</td>\n",
       "    </tr>\n",
       "  </tbody>\n",
       "</table>\n",
       "</div>"
      ],
      "text/plain": [
       "                                         text   start  duration\n",
       "35                         stuff but there is  58.879     2.801\n",
       "36   a little bit more to the story. What was  60.160     3.440\n",
       "37                                 Dan Hooker  61.680     3.839\n",
       "38  trying to do here? And more to the point,  63.600     4.160\n",
       "39       there are some finer details to that  65.519     3.121\n",
       "40                                finish that  67.760     3.520\n",
       "41     really deserve to get mentioned. And I  68.640     4.080\n",
       "42                 don't know exactly how far  71.280     2.640"
      ]
     },
     "execution_count": 178,
     "metadata": {},
     "output_type": "execute_result"
    }
   ],
   "source": [
    "res"
   ]
  },
  {
   "cell_type": "code",
   "execution_count": 179,
   "metadata": {
    "ExecuteTime": {
     "end_time": "2021-04-27T03:44:50.174815Z",
     "start_time": "2021-04-27T03:44:49.056778Z"
    }
   },
   "outputs": [
    {
     "name": "stdout",
     "output_type": "stream",
     "text": [
      "[28, 29, 30, 31, 32, 33, 34]\n"
     ]
    },
    {
     "name": "stderr",
     "output_type": "stream",
     "text": [
      "/Users/hmamin/jabberwocky/lib/jabberwocky/youtube.py:164: UserWarning: Max score < 80. Your rows may have gotten misaligned at row 30: at like what happened to be like oh\n",
      "  'Max score < 80. Your rows may have gotten misaligned '\n",
      "/Users/hmamin/jabberwocky/lib/jabberwocky/youtube.py:164: UserWarning: Max score < 80. Your rows may have gotten misaligned at row 31: michael chandler him with a big ass\n",
      "  'Max score < 80. Your rows may have gotten misaligned '\n",
      "/Users/hmamin/jabberwocky/lib/jabberwocky/youtube.py:164: UserWarning: Max score < 80. Your rows may have gotten misaligned at row 32: punch\n",
      "  'Max score < 80. Your rows may have gotten misaligned '\n"
     ]
    },
    {
     "name": "stdout",
     "output_type": "stream",
     "text": [
      "[43, 44, 45, 46, 47]\n"
     ]
    },
    {
     "name": "stderr",
     "output_type": "stream",
     "text": [
      "/Users/hmamin/jabberwocky/lib/jabberwocky/youtube.py:164: UserWarning: Max score < 80. Your rows may have gotten misaligned at row 45: he was early in bellator in his you know\n",
      "  'Max score < 80. Your rows may have gotten misaligned '\n"
     ]
    }
   ],
   "source": [
    "res = trans_gen.time_range(50, 80, True)"
   ]
  },
  {
   "cell_type": "code",
   "execution_count": 180,
   "metadata": {
    "ExecuteTime": {
     "end_time": "2021-04-27T03:44:52.382135Z",
     "start_time": "2021-04-27T03:44:52.345787Z"
    }
   },
   "outputs": [
    {
     "data": {
      "text/html": [
       "<div>\n",
       "<style scoped>\n",
       "    .dataframe tbody tr th:only-of-type {\n",
       "        vertical-align: middle;\n",
       "    }\n",
       "\n",
       "    .dataframe tbody tr th {\n",
       "        vertical-align: top;\n",
       "    }\n",
       "\n",
       "    .dataframe thead th {\n",
       "        text-align: right;\n",
       "    }\n",
       "</style>\n",
       "<table border=\"1\" class=\"dataframe\">\n",
       "  <thead>\n",
       "    <tr style=\"text-align: right;\">\n",
       "      <th></th>\n",
       "      <th>text</th>\n",
       "      <th>start</th>\n",
       "      <th>duration</th>\n",
       "    </tr>\n",
       "  </thead>\n",
       "  <tbody>\n",
       "    <tr>\n",
       "      <th>28</th>\n",
       "      <td>and um as always, the devil is in the</td>\n",
       "      <td>49.280</td>\n",
       "      <td>4.240</td>\n",
       "    </tr>\n",
       "    <tr>\n",
       "      <th>29</th>\n",
       "      <td>details it doesn't take a genius to look</td>\n",
       "      <td>51.840</td>\n",
       "      <td>2.960</td>\n",
       "    </tr>\n",
       "    <tr>\n",
       "      <th>30</th>\n",
       "      <td>at like what</td>\n",
       "      <td>53.520</td>\n",
       "      <td>2.480</td>\n",
       "    </tr>\n",
       "    <tr>\n",
       "      <th>31</th>\n",
       "      <td>happened to be like, Michael Chandler, him with a</td>\n",
       "      <td>54.800</td>\n",
       "      <td>1.680</td>\n",
       "    </tr>\n",
       "    <tr>\n",
       "      <th>32</th>\n",
       "      <td>big ass punch,</td>\n",
       "      <td>56.000</td>\n",
       "      <td>1.760</td>\n",
       "    </tr>\n",
       "    <tr>\n",
       "      <th>33</th>\n",
       "      <td>you know, and kind of faded low and then</td>\n",
       "      <td>56.480</td>\n",
       "      <td>2.399</td>\n",
       "    </tr>\n",
       "    <tr>\n",
       "      <th>34</th>\n",
       "      <td>went high and then all that kind of</td>\n",
       "      <td>57.760</td>\n",
       "      <td>2.400</td>\n",
       "    </tr>\n",
       "    <tr>\n",
       "      <th>35</th>\n",
       "      <td>stuff but there is</td>\n",
       "      <td>58.879</td>\n",
       "      <td>2.801</td>\n",
       "    </tr>\n",
       "    <tr>\n",
       "      <th>36</th>\n",
       "      <td>a little bit more to the story. What was</td>\n",
       "      <td>60.160</td>\n",
       "      <td>3.440</td>\n",
       "    </tr>\n",
       "    <tr>\n",
       "      <th>37</th>\n",
       "      <td>Dan Hooker</td>\n",
       "      <td>61.680</td>\n",
       "      <td>3.839</td>\n",
       "    </tr>\n",
       "    <tr>\n",
       "      <th>38</th>\n",
       "      <td>trying to do here? And more to the point,</td>\n",
       "      <td>63.600</td>\n",
       "      <td>4.160</td>\n",
       "    </tr>\n",
       "    <tr>\n",
       "      <th>39</th>\n",
       "      <td>there are some finer details to that</td>\n",
       "      <td>65.519</td>\n",
       "      <td>3.121</td>\n",
       "    </tr>\n",
       "    <tr>\n",
       "      <th>40</th>\n",
       "      <td>finish that</td>\n",
       "      <td>67.760</td>\n",
       "      <td>3.520</td>\n",
       "    </tr>\n",
       "    <tr>\n",
       "      <th>41</th>\n",
       "      <td>really deserve to get mentioned. And I</td>\n",
       "      <td>68.640</td>\n",
       "      <td>4.080</td>\n",
       "    </tr>\n",
       "    <tr>\n",
       "      <th>42</th>\n",
       "      <td>don't know exactly how far</td>\n",
       "      <td>71.280</td>\n",
       "      <td>2.640</td>\n",
       "    </tr>\n",
       "    <tr>\n",
       "      <th>43</th>\n",
       "      <td>michael chandler's going to go in the</td>\n",
       "      <td>72.720</td>\n",
       "      <td>4.079</td>\n",
       "    </tr>\n",
       "    <tr>\n",
       "      <th>44</th>\n",
       "      <td>ufc, but I do know that like however good</td>\n",
       "      <td>73.920</td>\n",
       "      <td>4.960</td>\n",
       "    </tr>\n",
       "    <tr>\n",
       "      <th>45</th>\n",
       "      <td>he was early in</td>\n",
       "      <td>76.799</td>\n",
       "      <td>3.921</td>\n",
       "    </tr>\n",
       "    <tr>\n",
       "      <th>46</th>\n",
       "      <td>bellator in his early run over there,</td>\n",
       "      <td>78.880</td>\n",
       "      <td>4.720</td>\n",
       "    </tr>\n",
       "    <tr>\n",
       "      <th>47</th>\n",
       "      <td>he's way better now, way better now and</td>\n",
       "      <td>80.720</td>\n",
       "      <td>4.079</td>\n",
       "    </tr>\n",
       "  </tbody>\n",
       "</table>\n",
       "</div>"
      ],
      "text/plain": [
       "                                                 text   start  duration\n",
       "28              and um as always, the devil is in the  49.280     4.240\n",
       "29           details it doesn't take a genius to look  51.840     2.960\n",
       "30                                       at like what  53.520     2.480\n",
       "31  happened to be like, Michael Chandler, him with a  54.800     1.680\n",
       "32                                     big ass punch,  56.000     1.760\n",
       "33           you know, and kind of faded low and then  56.480     2.399\n",
       "34                went high and then all that kind of  57.760     2.400\n",
       "35                                 stuff but there is  58.879     2.801\n",
       "36           a little bit more to the story. What was  60.160     3.440\n",
       "37                                         Dan Hooker  61.680     3.839\n",
       "38          trying to do here? And more to the point,  63.600     4.160\n",
       "39               there are some finer details to that  65.519     3.121\n",
       "40                                        finish that  67.760     3.520\n",
       "41             really deserve to get mentioned. And I  68.640     4.080\n",
       "42                         don't know exactly how far  71.280     2.640\n",
       "43              michael chandler's going to go in the  72.720     4.079\n",
       "44          ufc, but I do know that like however good  73.920     4.960\n",
       "45                                    he was early in  76.799     3.921\n",
       "46              bellator in his early run over there,  78.880     4.720\n",
       "47            he's way better now, way better now and  80.720     4.079"
      ]
     },
     "execution_count": 180,
     "metadata": {},
     "output_type": "execute_result"
    }
   ],
   "source": [
    "res"
   ]
  },
  {
   "cell_type": "code",
   "execution_count": 181,
   "metadata": {
    "ExecuteTime": {
     "end_time": "2021-04-27T03:44:54.813359Z",
     "start_time": "2021-04-27T03:44:54.770604Z"
    }
   },
   "outputs": [
    {
     "data": {
      "text/html": [
       "<div>\n",
       "<style scoped>\n",
       "    .dataframe tbody tr th:only-of-type {\n",
       "        vertical-align: middle;\n",
       "    }\n",
       "\n",
       "    .dataframe tbody tr th {\n",
       "        vertical-align: top;\n",
       "    }\n",
       "\n",
       "    .dataframe thead th {\n",
       "        text-align: right;\n",
       "    }\n",
       "</style>\n",
       "<table border=\"1\" class=\"dataframe\">\n",
       "  <thead>\n",
       "    <tr style=\"text-align: right;\">\n",
       "      <th></th>\n",
       "      <th>text</th>\n",
       "      <th>start</th>\n",
       "      <th>duration</th>\n",
       "    </tr>\n",
       "  </thead>\n",
       "  <tbody>\n",
       "    <tr>\n",
       "      <th>25</th>\n",
       "      <td>NaN</td>\n",
       "      <td>44.719</td>\n",
       "      <td>3.520</td>\n",
       "    </tr>\n",
       "    <tr>\n",
       "      <th>26</th>\n",
       "      <td>NaN</td>\n",
       "      <td>46.800</td>\n",
       "      <td>2.480</td>\n",
       "    </tr>\n",
       "    <tr>\n",
       "      <th>27</th>\n",
       "      <td>NaN</td>\n",
       "      <td>48.239</td>\n",
       "      <td>3.601</td>\n",
       "    </tr>\n",
       "    <tr>\n",
       "      <th>28</th>\n",
       "      <td>and um as always, the devil is in the</td>\n",
       "      <td>49.280</td>\n",
       "      <td>4.240</td>\n",
       "    </tr>\n",
       "    <tr>\n",
       "      <th>29</th>\n",
       "      <td>details it doesn't take a genius to look</td>\n",
       "      <td>51.840</td>\n",
       "      <td>2.960</td>\n",
       "    </tr>\n",
       "    <tr>\n",
       "      <th>30</th>\n",
       "      <td>at like what</td>\n",
       "      <td>53.520</td>\n",
       "      <td>2.480</td>\n",
       "    </tr>\n",
       "    <tr>\n",
       "      <th>31</th>\n",
       "      <td>happened to be like, Michael Chandler, him with a</td>\n",
       "      <td>54.800</td>\n",
       "      <td>1.680</td>\n",
       "    </tr>\n",
       "    <tr>\n",
       "      <th>32</th>\n",
       "      <td>big ass punch,</td>\n",
       "      <td>56.000</td>\n",
       "      <td>1.760</td>\n",
       "    </tr>\n",
       "    <tr>\n",
       "      <th>33</th>\n",
       "      <td>you know, and kind of faded low and then</td>\n",
       "      <td>56.480</td>\n",
       "      <td>2.399</td>\n",
       "    </tr>\n",
       "    <tr>\n",
       "      <th>34</th>\n",
       "      <td>went high and then all that kind of</td>\n",
       "      <td>57.760</td>\n",
       "      <td>2.400</td>\n",
       "    </tr>\n",
       "    <tr>\n",
       "      <th>35</th>\n",
       "      <td>stuff but there is</td>\n",
       "      <td>58.879</td>\n",
       "      <td>2.801</td>\n",
       "    </tr>\n",
       "    <tr>\n",
       "      <th>36</th>\n",
       "      <td>a little bit more to the story. What was</td>\n",
       "      <td>60.160</td>\n",
       "      <td>3.440</td>\n",
       "    </tr>\n",
       "    <tr>\n",
       "      <th>37</th>\n",
       "      <td>Dan Hooker</td>\n",
       "      <td>61.680</td>\n",
       "      <td>3.839</td>\n",
       "    </tr>\n",
       "    <tr>\n",
       "      <th>38</th>\n",
       "      <td>trying to do here? And more to the point,</td>\n",
       "      <td>63.600</td>\n",
       "      <td>4.160</td>\n",
       "    </tr>\n",
       "    <tr>\n",
       "      <th>39</th>\n",
       "      <td>there are some finer details to that</td>\n",
       "      <td>65.519</td>\n",
       "      <td>3.121</td>\n",
       "    </tr>\n",
       "    <tr>\n",
       "      <th>40</th>\n",
       "      <td>finish that</td>\n",
       "      <td>67.760</td>\n",
       "      <td>3.520</td>\n",
       "    </tr>\n",
       "    <tr>\n",
       "      <th>41</th>\n",
       "      <td>really deserve to get mentioned. And I</td>\n",
       "      <td>68.640</td>\n",
       "      <td>4.080</td>\n",
       "    </tr>\n",
       "    <tr>\n",
       "      <th>42</th>\n",
       "      <td>don't know exactly how far</td>\n",
       "      <td>71.280</td>\n",
       "      <td>2.640</td>\n",
       "    </tr>\n",
       "    <tr>\n",
       "      <th>43</th>\n",
       "      <td>michael chandler's going to go in the</td>\n",
       "      <td>72.720</td>\n",
       "      <td>4.079</td>\n",
       "    </tr>\n",
       "    <tr>\n",
       "      <th>44</th>\n",
       "      <td>ufc, but I do know that like however good</td>\n",
       "      <td>73.920</td>\n",
       "      <td>4.960</td>\n",
       "    </tr>\n",
       "    <tr>\n",
       "      <th>45</th>\n",
       "      <td>he was early in</td>\n",
       "      <td>76.799</td>\n",
       "      <td>3.921</td>\n",
       "    </tr>\n",
       "    <tr>\n",
       "      <th>46</th>\n",
       "      <td>bellator in his early run over there,</td>\n",
       "      <td>78.880</td>\n",
       "      <td>4.720</td>\n",
       "    </tr>\n",
       "    <tr>\n",
       "      <th>47</th>\n",
       "      <td>he's way better now, way better now and</td>\n",
       "      <td>80.720</td>\n",
       "      <td>4.079</td>\n",
       "    </tr>\n",
       "    <tr>\n",
       "      <th>48</th>\n",
       "      <td>NaN</td>\n",
       "      <td>83.600</td>\n",
       "      <td>1.920</td>\n",
       "    </tr>\n",
       "    <tr>\n",
       "      <th>49</th>\n",
       "      <td>NaN</td>\n",
       "      <td>84.799</td>\n",
       "      <td>2.481</td>\n",
       "    </tr>\n",
       "    <tr>\n",
       "      <th>50</th>\n",
       "      <td>NaN</td>\n",
       "      <td>85.520</td>\n",
       "      <td>3.040</td>\n",
       "    </tr>\n",
       "  </tbody>\n",
       "</table>\n",
       "</div>"
      ],
      "text/plain": [
       "                                                 text   start  duration\n",
       "25                                                NaN  44.719     3.520\n",
       "26                                                NaN  46.800     2.480\n",
       "27                                                NaN  48.239     3.601\n",
       "28              and um as always, the devil is in the  49.280     4.240\n",
       "29           details it doesn't take a genius to look  51.840     2.960\n",
       "30                                       at like what  53.520     2.480\n",
       "31  happened to be like, Michael Chandler, him with a  54.800     1.680\n",
       "32                                     big ass punch,  56.000     1.760\n",
       "33           you know, and kind of faded low and then  56.480     2.399\n",
       "34                went high and then all that kind of  57.760     2.400\n",
       "35                                 stuff but there is  58.879     2.801\n",
       "36           a little bit more to the story. What was  60.160     3.440\n",
       "37                                         Dan Hooker  61.680     3.839\n",
       "38          trying to do here? And more to the point,  63.600     4.160\n",
       "39               there are some finer details to that  65.519     3.121\n",
       "40                                        finish that  67.760     3.520\n",
       "41             really deserve to get mentioned. And I  68.640     4.080\n",
       "42                         don't know exactly how far  71.280     2.640\n",
       "43              michael chandler's going to go in the  72.720     4.079\n",
       "44          ufc, but I do know that like however good  73.920     4.960\n",
       "45                                    he was early in  76.799     3.921\n",
       "46              bellator in his early run over there,  78.880     4.720\n",
       "47            he's way better now, way better now and  80.720     4.079\n",
       "48                                                NaN  83.600     1.920\n",
       "49                                                NaN  84.799     2.481\n",
       "50                                                NaN  85.520     3.040"
      ]
     },
     "execution_count": 181,
     "metadata": {},
     "output_type": "execute_result"
    }
   ],
   "source": [
    "trans_gen._transcript.df_punct.loc[25:50]"
   ]
  },
  {
   "cell_type": "code",
   "execution_count": 184,
   "metadata": {
    "ExecuteTime": {
     "end_time": "2021-04-27T03:45:16.845844Z",
     "start_time": "2021-04-27T03:45:16.766785Z"
    }
   },
   "outputs": [],
   "source": [
    "# Much faster this time because it's been pre-punctuated.\n",
    "res = trans_gen.time_range(50, 80, True)"
   ]
  },
  {
   "cell_type": "code",
   "execution_count": 185,
   "metadata": {
    "ExecuteTime": {
     "end_time": "2021-04-27T03:45:17.975567Z",
     "start_time": "2021-04-27T03:45:17.942786Z"
    }
   },
   "outputs": [
    {
     "data": {
      "text/html": [
       "<div>\n",
       "<style scoped>\n",
       "    .dataframe tbody tr th:only-of-type {\n",
       "        vertical-align: middle;\n",
       "    }\n",
       "\n",
       "    .dataframe tbody tr th {\n",
       "        vertical-align: top;\n",
       "    }\n",
       "\n",
       "    .dataframe thead th {\n",
       "        text-align: right;\n",
       "    }\n",
       "</style>\n",
       "<table border=\"1\" class=\"dataframe\">\n",
       "  <thead>\n",
       "    <tr style=\"text-align: right;\">\n",
       "      <th></th>\n",
       "      <th>text</th>\n",
       "      <th>start</th>\n",
       "      <th>duration</th>\n",
       "    </tr>\n",
       "  </thead>\n",
       "  <tbody>\n",
       "    <tr>\n",
       "      <th>28</th>\n",
       "      <td>and um as always, the devil is in the</td>\n",
       "      <td>49.280</td>\n",
       "      <td>4.240</td>\n",
       "    </tr>\n",
       "    <tr>\n",
       "      <th>29</th>\n",
       "      <td>details it doesn't take a genius to look</td>\n",
       "      <td>51.840</td>\n",
       "      <td>2.960</td>\n",
       "    </tr>\n",
       "    <tr>\n",
       "      <th>30</th>\n",
       "      <td>at like what</td>\n",
       "      <td>53.520</td>\n",
       "      <td>2.480</td>\n",
       "    </tr>\n",
       "    <tr>\n",
       "      <th>31</th>\n",
       "      <td>happened to be like, Michael Chandler, him with a</td>\n",
       "      <td>54.800</td>\n",
       "      <td>1.680</td>\n",
       "    </tr>\n",
       "    <tr>\n",
       "      <th>32</th>\n",
       "      <td>big ass punch,</td>\n",
       "      <td>56.000</td>\n",
       "      <td>1.760</td>\n",
       "    </tr>\n",
       "    <tr>\n",
       "      <th>33</th>\n",
       "      <td>you know, and kind of faded low and then</td>\n",
       "      <td>56.480</td>\n",
       "      <td>2.399</td>\n",
       "    </tr>\n",
       "    <tr>\n",
       "      <th>34</th>\n",
       "      <td>went high and then all that kind of</td>\n",
       "      <td>57.760</td>\n",
       "      <td>2.400</td>\n",
       "    </tr>\n",
       "    <tr>\n",
       "      <th>35</th>\n",
       "      <td>stuff but there is</td>\n",
       "      <td>58.879</td>\n",
       "      <td>2.801</td>\n",
       "    </tr>\n",
       "    <tr>\n",
       "      <th>36</th>\n",
       "      <td>a little bit more to the story. What was</td>\n",
       "      <td>60.160</td>\n",
       "      <td>3.440</td>\n",
       "    </tr>\n",
       "    <tr>\n",
       "      <th>37</th>\n",
       "      <td>Dan Hooker</td>\n",
       "      <td>61.680</td>\n",
       "      <td>3.839</td>\n",
       "    </tr>\n",
       "    <tr>\n",
       "      <th>38</th>\n",
       "      <td>trying to do here? And more to the point,</td>\n",
       "      <td>63.600</td>\n",
       "      <td>4.160</td>\n",
       "    </tr>\n",
       "    <tr>\n",
       "      <th>39</th>\n",
       "      <td>there are some finer details to that</td>\n",
       "      <td>65.519</td>\n",
       "      <td>3.121</td>\n",
       "    </tr>\n",
       "    <tr>\n",
       "      <th>40</th>\n",
       "      <td>finish that</td>\n",
       "      <td>67.760</td>\n",
       "      <td>3.520</td>\n",
       "    </tr>\n",
       "    <tr>\n",
       "      <th>41</th>\n",
       "      <td>really deserve to get mentioned. And I</td>\n",
       "      <td>68.640</td>\n",
       "      <td>4.080</td>\n",
       "    </tr>\n",
       "    <tr>\n",
       "      <th>42</th>\n",
       "      <td>don't know exactly how far</td>\n",
       "      <td>71.280</td>\n",
       "      <td>2.640</td>\n",
       "    </tr>\n",
       "    <tr>\n",
       "      <th>43</th>\n",
       "      <td>michael chandler's going to go in the</td>\n",
       "      <td>72.720</td>\n",
       "      <td>4.079</td>\n",
       "    </tr>\n",
       "    <tr>\n",
       "      <th>44</th>\n",
       "      <td>ufc, but I do know that like however good</td>\n",
       "      <td>73.920</td>\n",
       "      <td>4.960</td>\n",
       "    </tr>\n",
       "    <tr>\n",
       "      <th>45</th>\n",
       "      <td>he was early in</td>\n",
       "      <td>76.799</td>\n",
       "      <td>3.921</td>\n",
       "    </tr>\n",
       "    <tr>\n",
       "      <th>46</th>\n",
       "      <td>bellator in his early run over there,</td>\n",
       "      <td>78.880</td>\n",
       "      <td>4.720</td>\n",
       "    </tr>\n",
       "    <tr>\n",
       "      <th>47</th>\n",
       "      <td>he's way better now, way better now and</td>\n",
       "      <td>80.720</td>\n",
       "      <td>4.079</td>\n",
       "    </tr>\n",
       "  </tbody>\n",
       "</table>\n",
       "</div>"
      ],
      "text/plain": [
       "                                                 text   start  duration\n",
       "28              and um as always, the devil is in the  49.280     4.240\n",
       "29           details it doesn't take a genius to look  51.840     2.960\n",
       "30                                       at like what  53.520     2.480\n",
       "31  happened to be like, Michael Chandler, him with a  54.800     1.680\n",
       "32                                     big ass punch,  56.000     1.760\n",
       "33           you know, and kind of faded low and then  56.480     2.399\n",
       "34                went high and then all that kind of  57.760     2.400\n",
       "35                                 stuff but there is  58.879     2.801\n",
       "36           a little bit more to the story. What was  60.160     3.440\n",
       "37                                         Dan Hooker  61.680     3.839\n",
       "38          trying to do here? And more to the point,  63.600     4.160\n",
       "39               there are some finer details to that  65.519     3.121\n",
       "40                                        finish that  67.760     3.520\n",
       "41             really deserve to get mentioned. And I  68.640     4.080\n",
       "42                         don't know exactly how far  71.280     2.640\n",
       "43              michael chandler's going to go in the  72.720     4.079\n",
       "44          ufc, but I do know that like however good  73.920     4.960\n",
       "45                                    he was early in  76.799     3.921\n",
       "46              bellator in his early run over there,  78.880     4.720\n",
       "47            he's way better now, way better now and  80.720     4.079"
      ]
     },
     "execution_count": 185,
     "metadata": {},
     "output_type": "execute_result"
    }
   ],
   "source": [
    "res"
   ]
  },
  {
   "cell_type": "code",
   "execution_count": 170,
   "metadata": {
    "ExecuteTime": {
     "end_time": "2021-04-27T03:44:23.428888Z",
     "start_time": "2021-04-27T03:44:23.385929Z"
    }
   },
   "outputs": [],
   "source": [
    "def na_index_chunks(chunk):\n",
    "    nans = chunk[chunk.text.isnull()]\n",
    "    if nans.empty: return []\n",
    "    last_idx = nans.index[-1]\n",
    "    res = []\n",
    "    curr_chunk = []\n",
    "    prev = None\n",
    "    for idx in nans.index:\n",
    "        if prev is None or (idx == prev + 1): \n",
    "            curr_chunk.append(idx)\n",
    "        else:\n",
    "            res.append(curr_chunk)\n",
    "            curr_chunk = [idx]\n",
    "        if idx == last_idx:\n",
    "            res.append(curr_chunk)\n",
    "        prev = idx\n",
    "    return res"
   ]
  },
  {
   "cell_type": "code",
   "execution_count": 117,
   "metadata": {
    "ExecuteTime": {
     "end_time": "2021-04-27T03:28:03.895983Z",
     "start_time": "2021-04-27T03:28:03.846518Z"
    }
   },
   "outputs": [
    {
     "data": {
      "text/plain": [
       "[[32, 33, 34]]"
      ]
     },
     "execution_count": 117,
     "metadata": {},
     "output_type": "execute_result"
    }
   ],
   "source": [
    "na_index_chunks(tmp.head(3))"
   ]
  },
  {
   "cell_type": "code",
   "execution_count": 116,
   "metadata": {
    "ExecuteTime": {
     "end_time": "2021-04-27T03:26:30.263347Z",
     "start_time": "2021-04-27T03:26:30.228841Z"
    }
   },
   "outputs": [
    {
     "name": "stdout",
     "output_type": "stream",
     "text": [
      " 0:    text  start  duration\n",
      "32  NaN  56.00     1.760\n",
      "33  NaN  56.48     2.399\n",
      "34  NaN  57.76     2.400\n",
      " 1:    text  start  duration\n",
      "46  NaN  78.88     4.720\n",
      "47  NaN  80.72     4.079\n",
      "48  NaN  83.60     1.920\n"
     ]
    }
   ],
   "source": [
    "eprint([tmp.loc[row] for row in na_index_chunks(tmp)])"
   ]
  },
  {
   "cell_type": "code",
   "execution_count": 249,
   "metadata": {
    "ExecuteTime": {
     "end_time": "2021-04-26T00:02:50.503505Z",
     "start_time": "2021-04-26T00:02:48.998375Z"
    }
   },
   "outputs": [
    {
     "name": "stderr",
     "output_type": "stream",
     "text": [
      "/Users/hmamin/jabberwocky/lib/jabberwocky/youtube.py:164: UserWarning: Max score < 80. Your rows may have gotten misaligned at row 11: story\n",
      "  'Max score < 80. Your rows may have gotten misaligned '\n"
     ]
    }
   ],
   "source": [
    "res = trans_gen.time_range(10, 30)"
   ]
  },
  {
   "cell_type": "code",
   "execution_count": 199,
   "metadata": {
    "ExecuteTime": {
     "end_time": "2021-04-28T03:00:58.821423Z",
     "start_time": "2021-04-28T03:00:58.779889Z"
    }
   },
   "outputs": [
    {
     "data": {
      "text/plain": [
       "[PosixPath('data/prompts/simplify_ml'),\n",
       " PosixPath('data/prompts/shortest'),\n",
       " PosixPath('data/prompts/how_to'),\n",
       " PosixPath('data/prompts/README.md'),\n",
       " PosixPath('data/prompts/punctuate'),\n",
       " PosixPath('data/prompts/tldr'),\n",
       " PosixPath('data/prompts/eli'),\n",
       " PosixPath('data/prompts/short_dates')]"
      ]
     },
     "execution_count": 199,
     "metadata": {},
     "output_type": "execute_result"
    }
   ],
   "source": []
  },
  {
   "cell_type": "code",
   "execution_count": 318,
   "metadata": {
    "ExecuteTime": {
     "end_time": "2021-04-29T02:48:13.717143Z",
     "start_time": "2021-04-29T02:48:13.602255Z"
    }
   },
   "outputs": [],
   "source": [
    "from functools import partialmethod\n",
    "from glob import glob"
   ]
  },
  {
   "cell_type": "code",
   "execution_count": null,
   "metadata": {},
   "outputs": [],
   "source": [
    "from glob import glob"
   ]
  },
  {
   "cell_type": "code",
   "execution_count": 1541,
   "metadata": {
    "ExecuteTime": {
     "end_time": "2021-05-04T03:49:08.458481Z",
     "start_time": "2021-05-04T03:49:08.353583Z"
    }
   },
   "outputs": [],
   "source": [
    "class PromptManager:\n",
    "    \"\"\"Simple class that stores all the prompt templates and default kwargs\n",
    "    so we don't need to load them repeatedly. Use this as an interface for\n",
    "    performing tasks on a video Transcript object.\n",
    "    \"\"\"\n",
    "    \n",
    "    def __init__(self, *prompts):\n",
    "        self.prompts = self._load_templates(set(prompts))\n",
    "    \n",
    "    def _load_templates(self, prompts):\n",
    "        name2kwargs = {}\n",
    "        dir_ = Path('data/prompts')\n",
    "        paths = (dir_/p for p in prompts) if prompts else dir_.iterdir()\n",
    "        for path in paths:\n",
    "            if not path.is_dir(): \n",
    "                if prompts: warnings.warn(f'{path} is not a directory.')\n",
    "                continue\n",
    "            name2kwargs[path.stem] = load_prompt(path.stem)\n",
    "        return name2kwargs\n",
    "    \n",
    "    def query(self, task, text, debug=False, extra_kwargs=None, **kwargs):\n",
    "        \"\"\"\n",
    "        \"\"\"\n",
    "        kwargs = self.kwargs(task=task, fully_resolved=False, \n",
    "                             return_prompt=True, extra_kwargs=extra_kwargs,\n",
    "                             **kwargs)\n",
    "        prompt = kwargs.pop('prompt').format(text)\n",
    "        if debug:\n",
    "            print('prompt:\\n' + prompt)\n",
    "            print(spacer())\n",
    "            print('kwargs:\\n', kwargs)\n",
    "            print(spacer())\n",
    "            print('fully resolved kwargs:\\n',\n",
    "                  dict(bound_args(query_gpt3, [], kwargs)))\n",
    "            return\n",
    "        return query_gpt3(prompt, **kwargs)\n",
    "    \n",
    "    def kwargs(self, task, fully_resolved=True, return_prompt=False,\n",
    "               extra_kwargs=None, **kwargs):\n",
    "        kwargs = {**self.prompts[task], **kwargs}\n",
    "        for k, v in (extra_kwargs or {}).items():\n",
    "            v_cls = type(v)\n",
    "            # Make a new object instead of just using get() or setdefault \n",
    "            # since the latter two methods both mutate our default kwargs.\n",
    "            curr_val = v_cls(kwargs.get(k, v_cls()))\n",
    "            if isinstance(v, Iterable):\n",
    "                curr_val.extend(v)\n",
    "            elif isinstance(v, Mapping):\n",
    "                curr_val.update(v)\n",
    "            else:\n",
    "                raise TypeError(f'Key {k} has unrecognized type {v_cls} in '\n",
    "                                '`extra_kwargs`.')\n",
    "            kwargs[k] = curr_val\n",
    "                \n",
    "        if fully_resolved: kwargs = dict(bound_args(query_gpt3, [], kwargs))\n",
    "        return kwargs if return_prompt else select(kwargs, drop=['prompt'])\n",
    "    \n",
    "    def prompt(self, task, text='', print_=False):\n",
    "        template = self.prompts[task]['prompt']\n",
    "        res = template.format(text) if text else template\n",
    "        if print_:\n",
    "            print(res)\n",
    "        else:\n",
    "            return res\n",
    "    \n",
    "    def __repr__(self):\n",
    "        return f'{type(self).__name__}({\", \".join(map(repr, self.prompts))})'\n",
    "    \n",
    "    def __iter__(self):\n",
    "        return iter(self.prompts)"
   ]
  },
  {
   "cell_type": "code",
   "execution_count": 1524,
   "metadata": {
    "ExecuteTime": {
     "end_time": "2021-05-04T03:46:43.097707Z",
     "start_time": "2021-05-04T03:46:43.059467Z"
    },
    "scrolled": true
   },
   "outputs": [
    {
     "name": "stdout",
     "output_type": "stream",
     "text": [
      "short_dates: This prompt takes no input.\n",
      "-------------------------------------------------------------------------------\n",
      "\n",
      "eli: This uses the expensive davinci model and doesn't work so well without it.\n",
      "-------------------------------------------------------------------------------\n",
      "\n",
      "punctuate: You should probably adjust max_tokens based on the length of the input. Bumping up to engine 2 or 3 might help a little, but engine 1 is serviceable (probably best to avoid 0 though). You should probably try training a huggingface model to add punctuation instead of using gpt3 credits though.\n",
      "-------------------------------------------------------------------------------\n",
      "\n"
     ]
    },
    {
     "name": "stderr",
     "output_type": "stream",
     "text": [
      "/Users/hmamin/anaconda3/lib/python3.7/site-packages/ipykernel_launcher.py:16: UserWarning: data/prompts/eli5 is not a directory.\n",
      "  app.launch_new_instance()\n"
     ]
    },
    {
     "data": {
      "text/plain": [
       "PromptManager('short_dates', 'eli', 'punctuate')"
      ]
     },
     "execution_count": 1524,
     "metadata": {},
     "output_type": "execute_result"
    }
   ],
   "source": [
    "manager = PromptManager('eli', 'short_dates', 'punctuate', 'eli5')\n",
    "manager"
   ]
  },
  {
   "cell_type": "code",
   "execution_count": 1525,
   "metadata": {
    "ExecuteTime": {
     "end_time": "2021-05-04T03:46:43.583248Z",
     "start_time": "2021-05-04T03:46:43.548160Z"
    }
   },
   "outputs": [
    {
     "data": {
      "text/plain": [
       "['short_dates', 'eli', 'punctuate']"
      ]
     },
     "execution_count": 1525,
     "metadata": {},
     "output_type": "execute_result"
    }
   ],
   "source": [
    "list(manager)"
   ]
  },
  {
   "cell_type": "code",
   "execution_count": 1542,
   "metadata": {
    "ExecuteTime": {
     "end_time": "2021-05-04T03:49:11.180357Z",
     "start_time": "2021-05-04T03:49:11.126094Z"
    },
    "scrolled": true
   },
   "outputs": [
    {
     "name": "stdout",
     "output_type": "stream",
     "text": [
      "simplify_ml: This uses the expensive davinci model and doesn't work so well without it. Temperature is set to 0.3 but this hasn't been extensively tuned.\n",
      "-------------------------------------------------------------------------------\n",
      "\n",
      "shortest: This prompt takes no input.\n",
      "-------------------------------------------------------------------------------\n",
      "\n",
      "how_to: Should be a single line starting with the words \"How to\" and ending in a colon. You may need a stronger engine for good results.\n",
      "-------------------------------------------------------------------------------\n",
      "\n",
      "punctuate: You should probably adjust max_tokens based on the length of the input. Bumping up to engine 2 or 3 might help a little, but engine 1 is serviceable (probably best to avoid 0 though). You should probably try training a huggingface model to add punctuation instead of using gpt3 credits though.\n",
      "-------------------------------------------------------------------------------\n",
      "\n",
      "tldr: This sets max tokens to 64. You may wish to adjust that value. The default engine is Curie (2) but you could try a different engine.\n",
      "-------------------------------------------------------------------------------\n",
      "\n",
      "eli: This uses the expensive davinci model and doesn't work so well without it.\n",
      "-------------------------------------------------------------------------------\n",
      "\n",
      "short_dates: This prompt takes no input.\n",
      "-------------------------------------------------------------------------------\n",
      "\n"
     ]
    },
    {
     "data": {
      "text/plain": [
       "PromptManager('simplify_ml', 'shortest', 'how_to', 'punctuate', 'tldr', 'eli', 'short_dates')"
      ]
     },
     "execution_count": 1542,
     "metadata": {},
     "output_type": "execute_result"
    }
   ],
   "source": [
    "manager = PromptManager()\n",
    "manager"
   ]
  },
  {
   "cell_type": "code",
   "execution_count": 1527,
   "metadata": {
    "ExecuteTime": {
     "end_time": "2021-05-04T03:46:45.102772Z",
     "start_time": "2021-05-04T03:46:45.069286Z"
    }
   },
   "outputs": [
    {
     "name": "stdout",
     "output_type": "stream",
     "text": [
      "Input: 3/1/20\n",
      "Output: March 1, 2020\n",
      "\n",
      "Input: 09-04-99\n",
      "Output: September 4, 1999\n",
      "\n",
      "Input: 11/01/2017\n",
      "Output: November 1, 2017\n",
      "\n",
      "Input: 04/11/21\n",
      "Output:\n"
     ]
    }
   ],
   "source": [
    "manager.prompt('short_dates', print_=True)"
   ]
  },
  {
   "cell_type": "code",
   "execution_count": 1528,
   "metadata": {
    "ExecuteTime": {
     "end_time": "2021-05-04T03:46:45.638274Z",
     "start_time": "2021-05-04T03:46:45.600922Z"
    }
   },
   "outputs": [
    {
     "data": {
      "text/plain": [
       "'abcd\\n\\ntl;dr:'"
      ]
     },
     "execution_count": 1528,
     "metadata": {},
     "output_type": "execute_result"
    }
   ],
   "source": [
    "manager.prompt('tldr', 'abcd')"
   ]
  },
  {
   "cell_type": "code",
   "execution_count": 1529,
   "metadata": {
    "ExecuteTime": {
     "end_time": "2021-05-04T03:46:46.225269Z",
     "start_time": "2021-05-04T03:46:46.188767Z"
    }
   },
   "outputs": [
    {
     "data": {
      "text/plain": [
       "{'engine_i': 2,\n",
       " 'logprobs': None,\n",
       " 'max_tokens': 64,\n",
       " 'mock': False,\n",
       " 'return_full': False,\n",
       " 'stream': False,\n",
       " 'strip_output': True,\n",
       " 'temperature': 0.3}"
      ]
     },
     "execution_count": 1529,
     "metadata": {},
     "output_type": "execute_result"
    }
   ],
   "source": [
    "manager.kwargs('tldr')"
   ]
  },
  {
   "cell_type": "code",
   "execution_count": 1530,
   "metadata": {
    "ExecuteTime": {
     "end_time": "2021-05-04T03:46:46.957366Z",
     "start_time": "2021-05-04T03:46:46.921350Z"
    }
   },
   "outputs": [
    {
     "data": {
      "text/plain": [
       "{'engine_i': 2, 'max_tokens': 64, 'temperature': 0.3}"
      ]
     },
     "execution_count": 1530,
     "metadata": {},
     "output_type": "execute_result"
    }
   ],
   "source": [
    "manager.kwargs('tldr', fully_resolved=False)"
   ]
  },
  {
   "cell_type": "code",
   "execution_count": 1531,
   "metadata": {
    "ExecuteTime": {
     "end_time": "2021-05-04T03:46:48.492880Z",
     "start_time": "2021-05-04T03:46:48.461420Z"
    }
   },
   "outputs": [
    {
     "data": {
      "text/plain": [
       "{'engine_i': 2, 'max_tokens': 64, 'prompt': '{}\\n\\ntl;dr:', 'temperature': 0.3}"
      ]
     },
     "execution_count": 1531,
     "metadata": {},
     "output_type": "execute_result"
    }
   ],
   "source": [
    "manager.kwargs('tldr', fully_resolved=False, return_prompt=True)"
   ]
  },
  {
   "cell_type": "code",
   "execution_count": 1532,
   "metadata": {
    "ExecuteTime": {
     "end_time": "2021-05-04T03:46:48.990202Z",
     "start_time": "2021-05-04T03:46:48.955847Z"
    }
   },
   "outputs": [
    {
     "data": {
      "text/plain": [
       "{'engine_i': 2,\n",
       " 'logprobs': None,\n",
       " 'max_tokens': 64,\n",
       " 'mock': False,\n",
       " 'prompt': '{}\\n\\ntl;dr:',\n",
       " 'return_full': False,\n",
       " 'stream': False,\n",
       " 'strip_output': True,\n",
       " 'temperature': 0.3}"
      ]
     },
     "execution_count": 1532,
     "metadata": {},
     "output_type": "execute_result"
    }
   ],
   "source": [
    "manager.kwargs('tldr', fully_resolved=True, return_prompt=True)"
   ]
  },
  {
   "cell_type": "code",
   "execution_count": 1533,
   "metadata": {
    "ExecuteTime": {
     "end_time": "2021-05-04T03:46:49.684797Z",
     "start_time": "2021-05-04T03:46:49.629943Z"
    }
   },
   "outputs": [
    {
     "data": {
      "text/plain": [
       "{'engine_i': 2,\n",
       " 'logprobs': None,\n",
       " 'max_tokens': 64,\n",
       " 'mock': False,\n",
       " 'return_full': False,\n",
       " 'stop': ['stop1', 'stop2'],\n",
       " 'stream': False,\n",
       " 'strip_output': True,\n",
       " 'temperature': 0.3}"
      ]
     },
     "execution_count": 1533,
     "metadata": {},
     "output_type": "execute_result"
    }
   ],
   "source": [
    "manager.kwargs('tldr', extra_kwargs={'stop': ['stop1', 'stop2']})"
   ]
  },
  {
   "cell_type": "code",
   "execution_count": 1536,
   "metadata": {
    "ExecuteTime": {
     "end_time": "2021-05-04T03:46:56.190243Z",
     "start_time": "2021-05-04T03:46:56.146401Z"
    }
   },
   "outputs": [
    {
     "data": {
      "text/plain": [
       "{'engine_i': 2,\n",
       " 'logit_bias': {100: -5},\n",
       " 'logprobs': None,\n",
       " 'max_tokens': 64,\n",
       " 'mock': False,\n",
       " 'return_full': False,\n",
       " 'stop': ['stop1', 'stop2'],\n",
       " 'stream': False,\n",
       " 'strip_output': True,\n",
       " 'temperature': 0.3}"
      ]
     },
     "execution_count": 1536,
     "metadata": {},
     "output_type": "execute_result"
    }
   ],
   "source": [
    "manager.kwargs('tldr', extra_kwargs={'stop': ['stop1', 'stop2']}, \n",
    "               logit_bias={100: -5})"
   ]
  },
  {
   "cell_type": "code",
   "execution_count": 1537,
   "metadata": {
    "ExecuteTime": {
     "end_time": "2021-05-04T03:46:57.485981Z",
     "start_time": "2021-05-04T03:46:57.453998Z"
    }
   },
   "outputs": [
    {
     "data": {
      "text/plain": [
       "{'engine_i': 2,\n",
       " 'logprobs': None,\n",
       " 'max_tokens': 64,\n",
       " 'mock': False,\n",
       " 'return_full': False,\n",
       " 'stream': False,\n",
       " 'strip_output': True,\n",
       " 'temperature': 0.3}"
      ]
     },
     "execution_count": 1537,
     "metadata": {},
     "output_type": "execute_result"
    }
   ],
   "source": [
    "manager.kwargs('tldr')"
   ]
  },
  {
   "cell_type": "code",
   "execution_count": 1538,
   "metadata": {
    "ExecuteTime": {
     "end_time": "2021-05-04T03:47:00.095403Z",
     "start_time": "2021-05-04T03:47:00.065163Z"
    }
   },
   "outputs": [
    {
     "name": "stdout",
     "output_type": "stream",
     "text": [
      "prompt:\n",
      "Attention enables the network to learn dynamic linear layers, essentially encoding the input sequence as a directed, weighted graph which we represent using a learned adjacency matrix. \n",
      "\n",
      "I rephrased this for my daughter, in plain language a second grader can understand:\n",
      "\n",
      "-------------------------------------------------------------------------------\n",
      "\n",
      "kwargs:\n",
      " {'engine_i': 1, 'temperature': 0.3, 'stop': ['I rephrased this for my daughter, in plain language', 'prompt:'], 'stream': True}\n",
      "\n",
      "-------------------------------------------------------------------------------\n",
      "\n",
      "fully resolved kwargs:\n",
      " {'engine_i': 1, 'temperature': 0.3, 'max_tokens': 50, 'logprobs': None, 'stream': True, 'mock': False, 'return_full': False, 'strip_output': True, 'stop': ['I rephrased this for my daughter, in plain language', 'prompt:']}\n"
     ]
    }
   ],
   "source": [
    "txt = \"\"\"Attention enables the network to learn dynamic linear layers,\n",
    "essentially encoding the input sequence as a directed, weighted graph\n",
    "which we represent using a learned adjacency matrix.\"\"\".replace('\\n', ' ')\n",
    "manager.query('eli', txt, debug=True, stream=True, engine_i=1)"
   ]
  },
  {
   "cell_type": "code",
   "execution_count": 1539,
   "metadata": {
    "ExecuteTime": {
     "end_time": "2021-05-04T03:47:00.806416Z",
     "start_time": "2021-05-04T03:47:00.774363Z"
    }
   },
   "outputs": [
    {
     "name": "stdout",
     "output_type": "stream",
     "text": [
      "prompt:\n",
      "Attention enables the network to learn dynamic linear layers, essentially encoding the input sequence as a directed, weighted graph which we represent using a learned adjacency matrix. \n",
      "\n",
      "I rephrased this for my daughter, in plain language a second grader can understand:\n",
      "\n",
      "-------------------------------------------------------------------------------\n",
      "\n",
      "kwargs:\n",
      " {'engine_i': 1, 'temperature': 0.3, 'stop': ['I rephrased this for my daughter, in plain language', 'prompt:', '\\n\\n'], 'stream': True}\n",
      "\n",
      "-------------------------------------------------------------------------------\n",
      "\n",
      "fully resolved kwargs:\n",
      " {'engine_i': 1, 'temperature': 0.3, 'max_tokens': 50, 'logprobs': None, 'stream': True, 'mock': False, 'return_full': False, 'strip_output': True, 'stop': ['I rephrased this for my daughter, in plain language', 'prompt:', '\\n\\n']}\n"
     ]
    }
   ],
   "source": [
    "txt = \"\"\"Attention enables the network to learn dynamic linear layers,\n",
    "essentially encoding the input sequence as a directed, weighted graph\n",
    "which we represent using a learned adjacency matrix.\"\"\".replace('\\n', ' ')\n",
    "manager.query('eli', txt, debug=True, stream=True, engine_i=1, \n",
    "              extra_kwargs={'stop': ['\\n\\n']})"
   ]
  },
  {
   "cell_type": "code",
   "execution_count": 1540,
   "metadata": {
    "ExecuteTime": {
     "end_time": "2021-05-04T03:47:03.304096Z",
     "start_time": "2021-05-04T03:47:03.271497Z"
    }
   },
   "outputs": [
    {
     "data": {
      "text/plain": [
       "{'engine_i': 3,\n",
       " 'prompt': '{} \\n\\nI rephrased this for my daughter, in plain language a second grader can understand:',\n",
       " 'stop': ['I rephrased this for my daughter, in plain language', 'prompt:'],\n",
       " 'temperature': 0.3}"
      ]
     },
     "execution_count": 1540,
     "metadata": {},
     "output_type": "execute_result"
    }
   ],
   "source": [
    "manager.prompts['eli']"
   ]
  },
  {
   "cell_type": "code",
   "execution_count": 1548,
   "metadata": {
    "ExecuteTime": {
     "end_time": "2021-05-04T03:50:46.637053Z",
     "start_time": "2021-05-04T03:50:42.257690Z"
    }
   },
   "outputs": [],
   "source": [
    "txt = \"\"\"Attention enables the network to learn dynamic linear layers,\n",
    "essentially encoding the input sequence as a directed, weighted graph\n",
    "which we represent using a learned adjacency matrix.\"\"\".replace('\\n', ' ')\n",
    "res = manager.query('eli', txt, max_tokens=100, temperature=.2)"
   ]
  },
  {
   "cell_type": "code",
   "execution_count": 1549,
   "metadata": {
    "ExecuteTime": {
     "end_time": "2021-05-04T03:50:47.964999Z",
     "start_time": "2021-05-04T03:50:47.924021Z"
    }
   },
   "outputs": [
    {
     "data": {
      "text/plain": [
       "('Attention enables the network to learn dynamic linear layers, essentially encoding the input sequence as a directed, weighted graph which we represent using a learned adjacency matrix. \\n\\nI rephrased this for my daughter, in plain language a second grader can understand:',\n",
       " '\"Attention is a way for the network to pay attention to what it thinks is important in the input sequence. It does this by looking at the input sequence and deciding what parts of it are important. It then uses this information to decide what parts of the output sequence should be important.\"\\n\\nThe attention mechanism is a way for the network to decide what parts of the input sequence are important. It does this by looking at the input sequence and deciding what parts of it are important.')"
      ]
     },
     "execution_count": 1549,
     "metadata": {},
     "output_type": "execute_result"
    }
   ],
   "source": [
    "res"
   ]
  },
  {
   "cell_type": "code",
   "execution_count": 1384,
   "metadata": {
    "ExecuteTime": {
     "end_time": "2021-05-04T02:52:35.759798Z",
     "start_time": "2021-05-04T02:52:26.114776Z"
    }
   },
   "outputs": [
    {
     "name": "stdout",
     "output_type": "stream",
     "text": [
      "\n",
      "\n",
      "The\n",
      "network\n",
      "learns\n",
      "to\n",
      "recognize\n",
      "patterns\n",
      "in\n",
      "the\n",
      "input\n",
      "sequence\n",
      ".\n",
      "It\n",
      "learns\n",
      "to\n",
      "recognize\n",
      "patterns\n",
      "by\n",
      "looking\n",
      "at\n",
      "the\n",
      "input\n",
      "sequence\n",
      "and\n",
      "seeing\n",
      "how\n",
      "it\n",
      "is\n",
      "similar\n",
      "to\n",
      "other\n",
      "input\n",
      "sequences\n",
      ".\n",
      "\n",
      "\n",
      "The\n",
      "network\n",
      "learns\n",
      "to\n",
      "recognize\n",
      "patterns\n",
      "in\n",
      "the\n",
      "input\n",
      "sequence\n",
      ".\n",
      "It\n",
      "learns\n",
      "to\n",
      "recognize\n",
      "patterns\n",
      "by\n",
      "looking\n",
      "at\n",
      "the\n",
      "input\n",
      "sequence\n",
      "and\n",
      "seeing\n",
      "how\n",
      "it\n",
      "is\n",
      "similar\n",
      "to\n",
      "other\n",
      "input\n",
      "sequences\n",
      ".\n",
      "\n",
      "\n",
      "The\n",
      "network\n",
      "learns\n",
      "to\n",
      "recognize\n",
      "patterns\n",
      "in\n",
      "the\n",
      "input\n",
      "sequence\n",
      ".\n",
      "It\n",
      "learns\n",
      "to\n",
      "recognize\n",
      "patterns\n",
      "by\n",
      "looking\n",
      "at\n",
      "the\n",
      "input\n",
      "sequence\n",
      "and\n",
      "seeing\n",
      "how\n",
      "it\n",
      "is\n",
      "similar\n",
      "to\n",
      "other\n",
      "input\n",
      "sequences\n",
      ".\n",
      "\n",
      "\n",
      "The\n",
      "network\n",
      "learns\n",
      "to\n",
      "recognize\n",
      "patterns\n",
      "in\n",
      "the\n",
      "input\n",
      "sequence\n",
      ".\n",
      "It\n",
      "learns\n",
      "to\n",
      "recognize\n",
      "patterns\n",
      "by\n",
      "looking\n",
      "at\n",
      "the\n",
      "input\n",
      "sequence\n",
      "and\n",
      "seeing\n",
      "how\n",
      "it\n",
      "is\n",
      "similar\n",
      "to\n",
      "other\n",
      "input\n",
      "sequences\n",
      ".\n",
      "\n",
      "\n",
      "The\n",
      "network\n",
      "learns\n",
      "to\n",
      "recognize\n",
      "patterns\n",
      "in\n",
      "the\n",
      "input\n",
      "sequence\n",
      ".\n",
      "It\n",
      "learns\n",
      "to\n",
      "recognize\n",
      "patterns\n",
      "by\n",
      "looking\n",
      "at\n",
      "the\n",
      "input\n",
      "sequence\n",
      "and\n",
      "seeing\n",
      "how\n",
      "it\n",
      "is\n",
      "similar\n",
      "to\n",
      "other\n",
      "input\n",
      "sequences\n",
      ".\n",
      "\n",
      "\n",
      "The\n",
      "network\n",
      "learns\n",
      "to\n",
      "recognize\n",
      "patterns\n",
      "in\n",
      "the\n",
      "input\n",
      "sequence\n",
      ".\n",
      "It\n",
      "learns\n",
      "to\n",
      "recognize\n",
      "patterns\n",
      "by\n",
      "looking\n",
      "at\n",
      "the\n",
      "input\n",
      "sequence\n",
      "and\n"
     ]
    }
   ],
   "source": [
    "txt = \"\"\"Attention enables the network to learn dynamic linear layers,\n",
    "essentially encoding the input sequence as a directed, weighted graph\n",
    "which we represent using a learned adjacency matrix.\"\"\".replace('\\n', ' ')\n",
    "for chunk in manager.query('eli', txt, max_tokens=200, stream=True):\n",
    "    print(chunk)"
   ]
  },
  {
   "cell_type": "code",
   "execution_count": 1416,
   "metadata": {
    "ExecuteTime": {
     "end_time": "2021-05-04T02:59:38.930248Z",
     "start_time": "2021-05-04T02:59:38.853428Z"
    }
   },
   "outputs": [
    {
     "data": {
      "text/plain": [
       "{'engine_i': 3,\n",
       " 'stop': 'I rephrased this for my daughter, in plain language',\n",
       " 'temperature': 0.3}"
      ]
     },
     "execution_count": 1416,
     "metadata": {},
     "output_type": "execute_result"
    }
   ],
   "source": [
    "manager.kwargs('eli')"
   ]
  },
  {
   "cell_type": "code",
   "execution_count": 1418,
   "metadata": {
    "ExecuteTime": {
     "end_time": "2021-05-04T03:00:03.819240Z",
     "start_time": "2021-05-04T03:00:03.787155Z"
    }
   },
   "outputs": [
    {
     "data": {
      "text/plain": [
       "{'engine_i': 1,\n",
       " 'stop': ['Passage: ', 'Passage with punctuation: '],\n",
       " 'strip_output': True,\n",
       " 'temperature': 0.1}"
      ]
     },
     "execution_count": 1418,
     "metadata": {},
     "output_type": "execute_result"
    }
   ],
   "source": [
    "manager.kwargs('punctuate')"
   ]
  },
  {
   "cell_type": "code",
   "execution_count": 1420,
   "metadata": {
    "ExecuteTime": {
     "end_time": "2021-05-04T03:01:16.527214Z",
     "start_time": "2021-05-04T03:01:16.485986Z"
    }
   },
   "outputs": [
    {
     "name": "stdout",
     "output_type": "stream",
     "text": [
      "eli Attention enables the network to learn dynamic linear layers, essentially encoding the input sequence as a directed, weighted graph which we represent using a learned adjacency matrix.\n",
      "prompt:\n",
      "Attention enables the network to learn dynamic linear layers, essentially encoding the input sequence as a directed, weighted graph which we represent using a learned adjacency matrix. \n",
      "\n",
      "I rephrased this for my daughter, in plain language a second grader can understand:\n",
      "kwargs:\n",
      " {'engine_i': 3, 'temperature': 0.3, 'stop': 'I rephrased this for my daughter, in plain language', 'max_tokens': 100}\n"
     ]
    }
   ],
   "source": [
    "txt = \"\"\"Attention enables the network to learn dynamic linear layers,\n",
    "essentially encoding the input sequence as a directed, weighted graph\n",
    "which we represent using a learned adjacency matrix.\"\"\".replace('\\n', ' ')\n",
    "# _, res = \n",
    "manager.query('eli', txt, max_tokens=100, debug=True)"
   ]
  },
  {
   "cell_type": "code",
   "execution_count": 1388,
   "metadata": {
    "ExecuteTime": {
     "end_time": "2021-05-04T02:53:35.552716Z",
     "start_time": "2021-05-04T02:53:35.518583Z"
    }
   },
   "outputs": [
    {
     "name": "stdout",
     "output_type": "stream",
     "text": [
      "\"The network learns to pay attention to the things that matter most, and ignore the rest.\"\n",
      "\n",
      "The attention mechanism is a key ingredient to making neural networks useful for natural language tasks.\n",
      "\n",
      "The attention mechanism is a key ingredient to making neural networks useful for natural language tasks.\n",
      "\n",
      "In the paper, the authors used the attention mechanism to improve the state-of-the-art performance on a number of natural language tasks, including machine translation, question answering, and sentence summarization.\n",
      "\n",
      "The attention mechanism is a key ingredient to making neural networks useful for natural language tasks.\n",
      "\n",
      "In the paper, the authors used the attention mechanism to improve the state-of-the-art performance on a number of natural language tasks, including machine translation, question answering, and sentence summarization.\n",
      "\n",
      "The attention mechanism is a key ingredient to making neural networks useful for natural language tasks.\n",
      "\n",
      "In the paper, the authors used the attention mechanism to improve the state-\n"
     ]
    }
   ],
   "source": [
    "print(res)"
   ]
  },
  {
   "cell_type": "code",
   "execution_count": 1390,
   "metadata": {
    "ExecuteTime": {
     "end_time": "2021-05-04T02:54:13.198055Z",
     "start_time": "2021-05-04T02:54:13.164209Z"
    }
   },
   "outputs": [
    {
     "data": {
      "text/plain": [
       "PromptManager(prompts={'simplify_ml': {'engine_i': 3, 'temperature': 0.3, 'stop': 'Passage:', 'prompt': \"My fifth grader asked me what this passage means. I rephrased it for him, in plain language a fifth grader can understand.\\n\\nPassage:\\nHere we show that scaling up language models greatly improves task-agnostic, few-shot performance, sometimes even reaching competitiveness with prior state-of-the-art finetuning approaches. Specifically, we train GPT-3, an autoregressive language model with 175 billion parameters, 10x more than any previous non-sparse language model, and test its performance in the few shot setting. For all tasks, GPT-3 is applied with any gradient updates or fine-tuning, with tasks and few-shot demonstrations specified purely via text interaction with the model.\\nSummary:\\nLarger language models can do well on new tasks they weren't trained on. We trained the biggest language model ever and tested it on new tasks, and it did really well. This model can perform new tasks without any extra training.\\n\\nPassage:\\nSecond, the potential to exploit spurious correlations in training data fundamentally grows with the expressiveness of the model and the narrowness of the training distribution. This can create problems for the pre-training plus fine-tuning paradigm, where models are designed to be large to absorb information during pre-training, but are then fine-tuned on very narrow task distributions. For instance observe that larger models do not necessarily generalize better out-of-distribution. There is evidence that suggests that the generalization achieved under this paradigm can be poor because the model is overly specific to the training distribution and does not generalize well outside it. Thus, the performance of fine-tuned models on specific benchmarks, even when it is nominally at human-level, may exaggerate actual performance on the underlying task.\\nSummary:\\nBig models work well on data they've see but don't always work well on new data. This problem is worse when the training dataset is small. Fine-tuning big language models on new tasks may appear to work well, but their performance may look better than it really is.\\n\\nPassage:\\nLearning reusable feature representations from large unlabeled datasets has been an area of active research. In the context of computer vision, one can leverage the practically unlimited amount of unlabeled images and videos to learn good intermediate representations, which can then be used on a variety of supervised learning tasks such as image classification. We propose that one way to build good image representations is by training Generative Adversarial Networks (GANs), and later reusing parts of the generator and discriminator networks as feature extractors for supervised tasks. We propose and evaluate a set of constraints on the architectural topology of Convolutional GANs that make them stable to train in most settings.\\nSummary:\\nLearning from unlabeled data is useful because it's easy to collect large amounts. GANs use these to learn good representations of images, and parts of the trained models can be reused for other tasks. We built a new model architecture that makes them easier to train.\\n\\nPassage:\\nAdversarial training has been shown effective at endowing the learned representations with stronger generalization ability. However, it typically requires expensive computation to determine the direction of the injected perturbations. In this paper, we introduce a set of simple yet effective data augmentation strategies dubbed cutoff, where part of the information within an input sentence is erased to yield its restricted views (during the fine-tuning stage). Notably, this process relies merely on stochastic sampling and thus adds little computational overhead. To verify the effectiveness of the proposed strategies, we apply cutoff to natural language understanding, text classification, and text generation.\\nSummary:\\nAdversarial training is a way to improve the generalization of learned models. We found a simple data augmentation method that helps models generalize without slowing down training. This is helpful for many natural language processing tasks.\\n\\nPassage:\\n{}\\nSummary:\"}, 'shortest': {'engine_i': 0, 'max_tokens': 3, 'temperature': 0.1, 'prompt': '1+1='}, 'how_to': {'temperature': 0.3, 'stop': 'How to ', 'prompt': \"How to change a lightbulb:\\n1. Turn off the light switch. \\n2. Using a cloth, push the bulb in, furn anti clockwise and remove it.\\n3. Insert the new bulb and twist to find the right fit. Push it in and turn clockwise.\\n4. Turn on the light to test it.\\n\\nHow to tie a tie:\\n1. Place tie around your neck.\\n2. Cross the wide end over the thinner end.\\n3. Run wide end under tie and pull it across again.\\n4. Pull the wide end through the center.\\n5. Loop through the knot.\\n6. Tighten the knot.\\n\\nHow to fry an egg:\\n1. Crack the Eggs. \\n2. Add the Eggs to the Pan. \\n3. Cover When the Edges Turn White.\\n4. Wait until it's done.\\n5. Serve.\\n\\n{}\"}, 'punctuate': {'engine_i': 1, 'temperature': 0.1, 'stop': ['Passage: ', 'Passage with punctuation: '], 'strip_output': True, 'prompt': \"Please add punctuation to these passages so that they are grammatically correct:\\n\\nPassage: thank you I'm honored to be with you today for your commencement from one of the finest universities in the world truth be told I never graduated from college and this is the closest I've ever gotten to a college graduation today I want to tell you three stories from my life that's it no big deal just three stories the first story is about connecting the dots I dropped out of Reed College after the first six months but then stayed around as a drop-in for another 18 months or so before I really quit so why did I drop out it started before I was born my\\n\\nPassage with punctuation: Thank You. I am honored to be with you today at your commencement from one of the finest universities in the world. Truth be told, I never graduated from college and this is the closest I've ever gotten to a college graduation. Today I want to tell you three stories from my life. That's it. No big deal. Just three stories. The first story is about connecting the dots. I dropped out of Reed College after the first 6 months, but then stayed around as a drop-in for another 18 months or so before I really quit. So why did I drop out? It started before I was born. My\\n\\nPassage: them to exonerate the person a literature showing that a disproportionate share of female aggression comes around the time of menses next one there is an area the brain you will know so much about over the next three months called the amygdala that has something to do with aggression and has something to do with fear and you get a brain tumor there and in a number of cases you get someone who is uncontrollably violent and this has also been used successfully in a court of law junk food any of you who are San\\n\\nPassage with punctuation: them to exonerate the person. A literature showing that a disproportionate share of female aggression comes around the time of menses. Next one - there is an area of the brain you will know so much about over the next three months called the amygdala that has something to do with aggression and has something to do with fear. And you get a brain tumor there, and in a number of cases, you get someone who is uncontrollably violent. And this has also been used successfully in a court of law. Junk food-- any of you who are San\\n\\nPassage: two facts that fall within the same category next example remember back at various points of anxiety during exams in such back-when where there was a world of difference between getting a 65 on a test in a 66 on a test not particularly different but because there's this boundary drawn there between passing and failing there is this dramatic differentiating we make when you put a boundaries you have trouble seeing how similar things are on either side of it next example one additional problem that you get when you\\n\\nPassage with punctuation: two facts that fall within the same category. Next example. I remember back at various points of anxiety during exams, and such back when where there was a world of difference between getting a 65 on a test and a 66 on a test. Not particularly different. But because there is this boundary drawn there between passing and failing, there is this dramatic differentiating we make. When you put up boundaries, you have trouble seeing how similar things are on either side of it. Next example, one\\nadditional problem that you get when you\\n\\nPassage: welcome to the final video of this machine learning class we've been through a lot of different videos together in this video I like to just quickly summarize the main topics of this class and then say a few words at the end and that will wrap up the class so what are we done in this class we spent a lot of time talking about supervised learning algorithms like linear regression logistic Russian neural networks SVM's for problems where you have labeled data and labeled examples and we also spent a lot of time talking about unsupervised learning algorithms like team is clustering principal components analysis for dimensionality reduction and anomaly detection algorithms for when you have only unlabeled data although anomaly detection can also use some label data to evaluate the algorithm we also spend some time talking about special applications or special topics like recommender systems\\n\\nPassage with punctuation: Welcome to the final video of this machine learning class. We've been through a lot of different videos together. In this video, I'd like to just quickly summarize the main topics of this class and then say a few words at the end, and that will wrap up the class. So what have we done in this class? We spent a lot of time talking about supervised learning algorithms like linear regression, logistic regression, neural networks, and SVM's for problems where you have labeled data and labeled examples. We also spent a lot of time talking about unsupervised learning algorithms like k-means clustering, principal component analysis for dimensioality reduction, and anomaly detection algorithms for when you have only unlabeled data (although anomaly detection can also use some labeled data to evaluate the algorithm). We also spent some time talking about special applications or special topics like recommender systems.\\n\\nPassage: {}\\n\\nPassage with punctuation:\"}, 'tldr': {'engine_i': 2, 'temperature': 0.3, 'max_tokens': 64, 'prompt': '{}\\n\\ntl;dr:'}, 'eli': {'engine_i': 3, 'temperature': 0.3, 'stop': 'I rephrased this for my daughter, in plain language', 'prompt': '{} \\n\\nI rephrased this for my daughter, in plain language a second grader can understand:'}, 'short_dates': {'engine_i': 0, 'temperature': 0.1, 'max_tokens': 10, 'stop': 'Input', 'prompt': 'Input: 3/1/20\\nOutput: March 1, 2020\\n\\nInput: 09-04-99\\nOutput: September 4, 1999\\n\\nInput: 11/01/2017\\nOutput: November 1, 2017\\n\\nInput: 04/11/21\\nOutput:'}})"
      ]
     },
     "execution_count": 1390,
     "metadata": {},
     "output_type": "execute_result"
    }
   ],
   "source": [
    "manager"
   ]
  },
  {
   "cell_type": "code",
   "execution_count": 284,
   "metadata": {
    "ExecuteTime": {
     "end_time": "2021-04-28T03:34:26.345809Z",
     "start_time": "2021-04-28T03:34:23.343035Z"
    }
   },
   "outputs": [
    {
     "data": {
      "text/plain": [
       "('Batch normalization decouples layer outputs from one another and reduces internal covariate shift. It leads to faster optimization by enabling the neural network to undergo stable training even with large learning rates. \\n\\nI rephrased this for my daughter, in plain language a second grader can understand:',\n",
       " 'Batch normalization is a way to make the learning process faster.\\n\\nBatch normalization is a technique that allows you to use larger learning rates.\\n\\nBatch normalization makes the neural network more stable.\\n\\nB')"
      ]
     },
     "execution_count": 284,
     "metadata": {},
     "output_type": "execute_result"
    }
   ],
   "source": [
    "manager.query('eli', 'Batch normalization decouples layer outputs from one another '\n",
    "             'and reduces internal covariate shift. It leads to faster '\n",
    "             'optimization by enabling the neural network to undergo stable '\n",
    "             'training even with large learning rates.', engine_i=3)"
   ]
  },
  {
   "cell_type": "code",
   "execution_count": null,
   "metadata": {},
   "outputs": [],
   "source": []
  },
  {
   "cell_type": "code",
   "execution_count": 343,
   "metadata": {
    "ExecuteTime": {
     "end_time": "2021-04-29T03:00:58.049967Z",
     "start_time": "2021-04-29T03:00:57.996508Z"
    }
   },
   "outputs": [
    {
     "data": {
      "text/plain": [
       "{'a': <Parameter \"a\">,\n",
       " 'args': <Parameter \"*args\">,\n",
       " 'b': <Parameter \"b=99\">,\n",
       " 'kwargs': <Parameter \"**kwargs\">}"
      ]
     },
     "execution_count": 343,
     "metadata": {},
     "output_type": "execute_result"
    }
   ],
   "source": [
    "params(pfoo)"
   ]
  },
  {
   "cell_type": "code",
   "execution_count": 903,
   "metadata": {
    "ExecuteTime": {
     "end_time": "2021-05-01T04:39:27.195619Z",
     "start_time": "2021-05-01T04:39:27.165965Z"
    }
   },
   "outputs": [],
   "source": [
    "def foo(a, a2, b=2, *args, c=3, **kwargs):\n",
    "    print('a', a)\n",
    "    print('a2', a2)\n",
    "    print('b', b)\n",
    "    print('args', args)\n",
    "    print('c', c)\n",
    "    print('kwargs', kwargs)"
   ]
  },
  {
   "cell_type": "code",
   "execution_count": 449,
   "metadata": {
    "ExecuteTime": {
     "end_time": "2021-04-29T03:52:41.925210Z",
     "start_time": "2021-04-29T03:52:41.864507Z"
    }
   },
   "outputs": [
    {
     "name": "stdout",
     "output_type": "stream",
     "text": [
      "(a, b=2, *args, c=3, **kwargs)\n",
      "foo\n",
      "def (2,)\n",
      "kw def {'c': 3}\n"
     ]
    }
   ],
   "source": [
    "print(signature(foo))\n",
    "print(foo.__name__)\n",
    "print('def', foo.__defaults__)\n",
    "print('kw def', foo.__kwdefaults__)"
   ]
  },
  {
   "cell_type": "code",
   "execution_count": 450,
   "metadata": {
    "ExecuteTime": {
     "end_time": "2021-04-29T03:52:44.855007Z",
     "start_time": "2021-04-29T03:52:44.803310Z"
    }
   },
   "outputs": [
    {
     "name": "stdout",
     "output_type": "stream",
     "text": [
      "(a, *, b=99, c=3, **kwargs)\n"
     ]
    },
    {
     "ename": "AttributeError",
     "evalue": "'functools.partial' object has no attribute '__name__'",
     "output_type": "error",
     "traceback": [
      "\u001b[0;31m---------------------------------------------------------------------------\u001b[0m",
      "\u001b[0;31mAttributeError\u001b[0m                            Traceback (most recent call last)",
      "\u001b[0;32m<ipython-input-450-6f1f718bef12>\u001b[0m in \u001b[0;36m<module>\u001b[0;34m()\u001b[0m\n\u001b[1;32m      1\u001b[0m \u001b[0mpfoo\u001b[0m \u001b[0;34m=\u001b[0m \u001b[0mpartial\u001b[0m\u001b[0;34m(\u001b[0m\u001b[0mfoo\u001b[0m\u001b[0;34m,\u001b[0m \u001b[0mb\u001b[0m\u001b[0;34m=\u001b[0m\u001b[0;36m99\u001b[0m\u001b[0;34m,\u001b[0m \u001b[0md\u001b[0m\u001b[0;34m=\u001b[0m\u001b[0;34m'd'\u001b[0m\u001b[0;34m)\u001b[0m\u001b[0;34m\u001b[0m\u001b[0;34m\u001b[0m\u001b[0m\n\u001b[1;32m      2\u001b[0m \u001b[0mprint\u001b[0m\u001b[0;34m(\u001b[0m\u001b[0msignature\u001b[0m\u001b[0;34m(\u001b[0m\u001b[0mpfoo\u001b[0m\u001b[0;34m)\u001b[0m\u001b[0;34m)\u001b[0m\u001b[0;34m\u001b[0m\u001b[0;34m\u001b[0m\u001b[0m\n\u001b[0;32m----> 3\u001b[0;31m \u001b[0mprint\u001b[0m\u001b[0;34m(\u001b[0m\u001b[0mpfoo\u001b[0m\u001b[0;34m.\u001b[0m\u001b[0m__name__\u001b[0m\u001b[0;34m)\u001b[0m\u001b[0;34m\u001b[0m\u001b[0;34m\u001b[0m\u001b[0m\n\u001b[0m",
      "\u001b[0;31mAttributeError\u001b[0m: 'functools.partial' object has no attribute '__name__'"
     ]
    }
   ],
   "source": [
    "pfoo = partial(foo, b=99, d='d')\n",
    "print(signature(pfoo))\n",
    "print(pfoo.__name__)"
   ]
  },
  {
   "cell_type": "code",
   "execution_count": 451,
   "metadata": {
    "ExecuteTime": {
     "end_time": "2021-04-29T03:52:45.341014Z",
     "start_time": "2021-04-29T03:52:45.305800Z"
    }
   },
   "outputs": [
    {
     "name": "stdout",
     "output_type": "stream",
     "text": [
      "(a, b=2, *args, c=3, **kwargs)\n",
      "foo\n"
     ]
    }
   ],
   "source": [
    "dfoo = partial(foo, b=99, d='d')\n",
    "dfoo = update_wrapper(dfoo, foo)\n",
    "dfoo.__dir__ = foo.__dir__\n",
    "print(signature(dfoo))\n",
    "print(dfoo.__name__)"
   ]
  },
  {
   "cell_type": "code",
   "execution_count": 398,
   "metadata": {
    "ExecuteTime": {
     "end_time": "2021-04-29T03:25:09.538155Z",
     "start_time": "2021-04-29T03:25:09.505674Z"
    }
   },
   "outputs": [
    {
     "data": {
      "text/plain": [
       "{'a': <Parameter \"a\">,\n",
       " 'args': <Parameter \"*args\">,\n",
       " 'b': <Parameter \"b=99\">,\n",
       " 'kwargs': <Parameter \"**kwargs\">}"
      ]
     },
     "execution_count": 398,
     "metadata": {},
     "output_type": "execute_result"
    }
   ],
   "source": [
    "params(pfoo)"
   ]
  },
  {
   "cell_type": "code",
   "execution_count": 358,
   "metadata": {
    "ExecuteTime": {
     "end_time": "2021-04-29T03:08:12.818685Z",
     "start_time": "2021-04-29T03:08:12.785887Z"
    }
   },
   "outputs": [
    {
     "ename": "TypeError",
     "evalue": "foo() missing 1 required positional argument: 'a'",
     "output_type": "error",
     "traceback": [
      "\u001b[0;31m---------------------------------------------------------------------------\u001b[0m",
      "\u001b[0;31mTypeError\u001b[0m                                 Traceback (most recent call last)",
      "\u001b[0;32m<ipython-input-358-0687c854b37c>\u001b[0m in \u001b[0;36m<module>\u001b[0;34m()\u001b[0m\n\u001b[0;32m----> 1\u001b[0;31m \u001b[0mdfoo\u001b[0m\u001b[0;34m(\u001b[0m\u001b[0;34m)\u001b[0m\u001b[0;34m\u001b[0m\u001b[0;34m\u001b[0m\u001b[0m\n\u001b[0m",
      "\u001b[0;31mTypeError\u001b[0m: foo() missing 1 required positional argument: 'a'"
     ]
    }
   ],
   "source": [
    "dfoo()"
   ]
  },
  {
   "cell_type": "code",
   "execution_count": 460,
   "metadata": {
    "ExecuteTime": {
     "end_time": "2021-04-29T03:54:52.574750Z",
     "start_time": "2021-04-29T03:54:52.537449Z"
    }
   },
   "outputs": [],
   "source": [
    "from types import FunctionType, MethodType"
   ]
  },
  {
   "cell_type": "code",
   "execution_count": 461,
   "metadata": {
    "ExecuteTime": {
     "end_time": "2021-04-29T03:54:53.648684Z",
     "start_time": "2021-04-29T03:54:53.588702Z"
    }
   },
   "outputs": [
    {
     "ename": "TypeError",
     "evalue": "'tuple' object is not a mapping",
     "output_type": "error",
     "traceback": [
      "\u001b[0;31m---------------------------------------------------------------------------\u001b[0m",
      "\u001b[0;31mTypeError\u001b[0m                                 Traceback (most recent call last)",
      "\u001b[0;32m<ipython-input-461-486f598c4b17>\u001b[0m in \u001b[0;36m<module>\u001b[0;34m()\u001b[0m\n\u001b[0;32m----> 1\u001b[0;31m \u001b[0;34m{\u001b[0m\u001b[0;34m**\u001b[0m\u001b[0;34m(\u001b[0m\u001b[0mfoo\u001b[0m\u001b[0;34m.\u001b[0m\u001b[0m__defaults__\u001b[0m \u001b[0;32mor\u001b[0m \u001b[0;34m{\u001b[0m\u001b[0;34m}\u001b[0m\u001b[0;34m)\u001b[0m\u001b[0;34m}\u001b[0m\u001b[0;34m\u001b[0m\u001b[0;34m\u001b[0m\u001b[0m\n\u001b[0m",
      "\u001b[0;31mTypeError\u001b[0m: 'tuple' object is not a mapping"
     ]
    }
   ],
   "source": [
    "{**(foo.__defaults__ or {})}"
   ]
  },
  {
   "cell_type": "code",
   "execution_count": 462,
   "metadata": {
    "ExecuteTime": {
     "end_time": "2021-04-29T03:54:54.802456Z",
     "start_time": "2021-04-29T03:54:54.770473Z"
    }
   },
   "outputs": [
    {
     "data": {
      "text/plain": [
       "(2,)"
      ]
     },
     "execution_count": 462,
     "metadata": {},
     "output_type": "execute_result"
    }
   ],
   "source": [
    "foo.__defaults__"
   ]
  },
  {
   "cell_type": "code",
   "execution_count": 463,
   "metadata": {
    "ExecuteTime": {
     "end_time": "2021-04-29T03:54:55.385858Z",
     "start_time": "2021-04-29T03:54:55.359217Z"
    }
   },
   "outputs": [],
   "source": [
    "bar.__kwdefaults__"
   ]
  },
  {
   "cell_type": "code",
   "execution_count": 476,
   "metadata": {
    "ExecuteTime": {
     "end_time": "2021-04-29T03:57:13.940210Z",
     "start_time": "2021-04-29T03:57:13.911783Z"
    },
    "scrolled": true
   },
   "outputs": [
    {
     "data": {
      "text/plain": [
       "['__call__',\n",
       " '__class__',\n",
       " '__delattr__',\n",
       " '__dict__',\n",
       " '__dir__',\n",
       " '__doc__',\n",
       " '__eq__',\n",
       " '__format__',\n",
       " '__ge__',\n",
       " '__getattribute__',\n",
       " '__gt__',\n",
       " '__hash__',\n",
       " '__init__',\n",
       " '__init_subclass__',\n",
       " '__le__',\n",
       " '__lt__',\n",
       " '__ne__',\n",
       " '__new__',\n",
       " '__reduce__',\n",
       " '__reduce_ex__',\n",
       " '__repr__',\n",
       " '__setattr__',\n",
       " '__setstate__',\n",
       " '__sizeof__',\n",
       " '__str__',\n",
       " '__subclasshook__',\n",
       " 'args',\n",
       " 'func',\n",
       " 'keywords']"
      ]
     },
     "execution_count": 476,
     "metadata": {},
     "output_type": "execute_result"
    }
   ],
   "source": [
    "dir(pfoo)"
   ]
  },
  {
   "cell_type": "code",
   "execution_count": 477,
   "metadata": {
    "ExecuteTime": {
     "end_time": "2021-04-29T03:57:27.246527Z",
     "start_time": "2021-04-29T03:57:27.217646Z"
    }
   },
   "outputs": [
    {
     "data": {
      "text/plain": [
       "{'b': 99, 'd': 'd'}"
      ]
     },
     "execution_count": 477,
     "metadata": {},
     "output_type": "execute_result"
    }
   ],
   "source": [
    "pfoo.keywords"
   ]
  },
  {
   "cell_type": "code",
   "execution_count": 473,
   "metadata": {
    "ExecuteTime": {
     "end_time": "2021-04-29T03:57:04.819397Z",
     "start_time": "2021-04-29T03:57:04.789898Z"
    }
   },
   "outputs": [
    {
     "data": {
      "text/plain": [
       "(2,)"
      ]
     },
     "execution_count": 473,
     "metadata": {},
     "output_type": "execute_result"
    }
   ],
   "source": [
    "pfoo.func.__defaults__"
   ]
  },
  {
   "cell_type": "code",
   "execution_count": 474,
   "metadata": {
    "ExecuteTime": {
     "end_time": "2021-04-29T03:57:05.047820Z",
     "start_time": "2021-04-29T03:57:05.003882Z"
    }
   },
   "outputs": [
    {
     "data": {
      "text/plain": [
       "{'c': 3}"
      ]
     },
     "execution_count": 474,
     "metadata": {},
     "output_type": "execute_result"
    }
   ],
   "source": [
    "pfoo.func.__kwdefaults__"
   ]
  },
  {
   "cell_type": "code",
   "execution_count": 475,
   "metadata": {
    "ExecuteTime": {
     "end_time": "2021-04-29T03:57:07.582558Z",
     "start_time": "2021-04-29T03:57:07.516786Z"
    }
   },
   "outputs": [
    {
     "data": {
      "text/plain": [
       "()"
      ]
     },
     "execution_count": 475,
     "metadata": {},
     "output_type": "execute_result"
    }
   ],
   "source": [
    "pfoo.args"
   ]
  },
  {
   "cell_type": "markdown",
   "metadata": {},
   "source": [
    "# TODO\n",
    "\n",
    "- if we pass in a value for a param w/ no default but not for another, param order can get messed up (should have all params w/out defaults first)  \n",
    "    IDEAS:  \n",
    "    - to be safe, could put all args after \\*args (if present), i.e. make them keyword only.\n",
    "    - after making new_pars, rm all w/ empty default and prepend\n",
    "    - sort new_pars by (kind, default) while replacing inspect._empty with float('-inf'). Minor problem: this might fail if another param has default float('-inf') too.\n",
    "- when passing in kwargs, how do we use them in func? Because we added them to sig and kwargs have no defaults, so func would have to guess what args are available before creating partial  \n",
    "    IDEAS:  \n",
    "    - update signature but don't actually add those param defaults to the func. I think this would suit this particular use case (we can (and do) get the appropriate kwargs inside the base method) but it wouldn't be good for a generalized partial method. Maybe these are two separate goals. "
   ]
  },
  {
   "cell_type": "code",
   "execution_count": 744,
   "metadata": {
    "ExecuteTime": {
     "end_time": "2021-04-30T03:23:33.722542Z",
     "start_time": "2021-04-30T03:23:33.696356Z"
    }
   },
   "outputs": [],
   "source": [
    "from inspect import _empty"
   ]
  },
  {
   "cell_type": "code",
   "execution_count": 1088,
   "metadata": {
    "ExecuteTime": {
     "end_time": "2021-05-02T02:10:36.523971Z",
     "start_time": "2021-05-02T02:10:36.484877Z"
    }
   },
   "outputs": [],
   "source": [
    "def attach_repr(func, repr_func=None, str_func=None, name=None):\n",
    "    class CustomReprFunction:\n",
    "        def __init__(self, func, repr_func, str_func):\n",
    "            self.func = func\n",
    "            self.repr_func = repr_func\n",
    "            self.str_func = str_func\n",
    "            update_wrapper(self, func)\n",
    "            self.__name__ = ifnone(name, func.__name__)\n",
    "        \n",
    "        def __repr__(self):\n",
    "            if self.repr_func:\n",
    "                return self.repr_func(self)\n",
    "            return repr(self.func)\n",
    "        \n",
    "        def __call__(self, *args, **kwargs):\n",
    "            return self.func(*args, **kwargs)\n",
    "            \n",
    "        def __str__(self):\n",
    "            if self.str_func:\n",
    "                return self.str_func(self)\n",
    "            return repr(self.func)\n",
    "        \n",
    "    func_ = CustomReprFunction(func, repr_func, str_func)\n",
    "    return func_"
   ]
  },
  {
   "cell_type": "code",
   "execution_count": 1134,
   "metadata": {
    "ExecuteTime": {
     "end_time": "2021-05-02T23:22:31.951104Z",
     "start_time": "2021-05-02T23:22:31.682109Z"
    },
    "run_control": {
     "marked": false
    }
   },
   "outputs": [
    {
     "data": {
      "text/plain": [
       "(<function foo at 0x123fbf730>, '<function foo at 0x123fbf730>', 'bar')"
      ]
     },
     "execution_count": 1134,
     "metadata": {},
     "output_type": "execute_result"
    }
   ],
   "source": [
    "tmp = attach_repr(foo, name='bar')\n",
    "tmp, str(tmp), tmp.__name__"
   ]
  },
  {
   "cell_type": "code",
   "execution_count": 1010,
   "metadata": {
    "ExecuteTime": {
     "end_time": "2021-05-02T01:27:45.891353Z",
     "start_time": "2021-05-02T01:27:45.530762Z"
    }
   },
   "outputs": [],
   "source": [
    "def getindex(arr, val, default=-1):\n",
    "    return arr.index(val) if val in arr else default"
   ]
  },
  {
   "cell_type": "code",
   "execution_count": 1114,
   "metadata": {
    "ExecuteTime": {
     "end_time": "2021-05-02T02:22:12.480235Z",
     "start_time": "2021-05-02T02:22:12.381894Z"
    }
   },
   "outputs": [],
   "source": [
    "def rigorous_partial(func, name=None, **kwargs):\n",
    "    func = copy_func(func)\n",
    "    old_sig = signature(func)\n",
    "    # Track names of positional args in old function since this affects the \n",
    "    # order args must be passed in if var_positional parameters (*args) are\n",
    "    # present.\n",
    "    old_pos_pars = []\n",
    "    new_pars = []\n",
    "    kwargs_name = ''\n",
    "    args_name = ''\n",
    "    for k, v in old_sig.parameters.items():\n",
    "        if v.kind == 0:\n",
    "            raise NotImplementedError(\n",
    "                'rigorous_partial does not support functions with positional '\n",
    "                'only parameters.'\n",
    "            )\n",
    "        elif v.kind == 2:\n",
    "            args_name = k\n",
    "        elif v.kind == 4:\n",
    "            kwargs_name = k\n",
    "            break\n",
    "            \n",
    "        if v.kind <= 2:\n",
    "            old_pos_pars.append(k)\n",
    "\n",
    "        # Assign default value from newly specified kwargs if provided.\n",
    "        if k in kwargs:\n",
    "            default = kwargs.pop(k)\n",
    "            kind = 3\n",
    "        else:\n",
    "            default = v.default\n",
    "            kind = v.kind\n",
    "        param = inspect.Parameter(k, kind, default=default)\n",
    "        new_pars.append(param)\n",
    "        \n",
    "    # Remaining kwargs only: those that were not present in func's signature.\n",
    "    # Require that they be keyword only since ordering can cause issues\n",
    "    # (updating signature affects what we see but doesn't seem to affect the \n",
    "    # actual order args are passed in, presumably due to old __code__ object).\n",
    "    for k, v in kwargs.items():\n",
    "        param = inspect.Parameter(k, 3, default=v)\n",
    "        new_pars.append(param)\n",
    "    if kwargs_name:\n",
    "        new_pars.append(inspect.Parameter(kwargs_name, 4))\n",
    "        \n",
    "    # Ensure we don't accidentally place any parameters with defaults ahead\n",
    "    # of those without them. Third item in tuple is a tiebreaker (defaults to\n",
    "    # original function's parameter order).\n",
    "    old_names = [p for p in old_sig.parameters]\n",
    "    new_pars.sort(key=lambda x: (x.kind, x.default != _empty, \n",
    "                                 getindex(old_names, x.name, float('inf'))))\n",
    "\n",
    "    # TODO: might need to attach these to the wrapped func instead? Can't \n",
    "    # access these outside this function. But we use it inside wrapper so that\n",
    "    # could cause other problems.\n",
    "    func.__defaults__ = tuple(p.default for p in new_pars if p.kind < 3 \n",
    "                              and p.default != _empty)\n",
    "    func.__kwdefaults__ = {p.name: p.default for p in new_pars if p.kind == 3}\n",
    "    func.__signature__ = old_sig.replace(parameters=new_pars)\n",
    "    if name: func.__name__ = name\n",
    "    \n",
    "    @wraps(func)\n",
    "    def wrapper(*args, **new_kwargs):\n",
    "        final_kwargs = bound_args(func, args, \n",
    "                                  {**func.__kwdefaults__, **new_kwargs})\n",
    "        final_args = {name: final_kwargs.pop(name) for name in old_pos_pars}\n",
    "        final_star_args = final_args.pop(args_name, [])\n",
    "        final_kwargs = select(final_kwargs, drop=list(final_args))\n",
    "        print('old_pos_pars', old_pos_pars)\n",
    "        print('final_kwargs', final_kwargs)\n",
    "        print('final_args', final_args)\n",
    "        print('final star args', final_star_args)\n",
    "        return func(*final_args.values(), *final_star_args, **final_kwargs)\n",
    "    wrapper.__kwdefaults__ = func.__kwdefaults__\n",
    "    wrapper.__defaults__ = func.__defaults__\n",
    "    return wrapper"
   ]
  },
  {
   "cell_type": "code",
   "execution_count": 1352,
   "metadata": {
    "ExecuteTime": {
     "end_time": "2021-05-03T01:06:17.494490Z",
     "start_time": "2021-05-03T01:06:17.328523Z"
    }
   },
   "outputs": [],
   "source": [
    "class Partial:\n",
    "    \n",
    "    def __init__(self, func, name=None, **kwargs):\n",
    "        self.func = copy_func(func)\n",
    "        self.old_name = func.__name__\n",
    "\n",
    "        # Track names of positional args in old function since this affects \n",
    "        # the order args must be passed in if var_positional parameters \n",
    "        # (*args) are present.\n",
    "        self.old_pos_pars = []\n",
    "        self.kwargs_name = ''\n",
    "        self.args_name = ''\n",
    "        new_pars = []\n",
    "        old_sig = signature(self.func)\n",
    "        for k, v in old_sig.parameters.items():\n",
    "            # Check parameter kind for error handling and argument resolution\n",
    "            # in __call__.\n",
    "            if v.kind == 0:\n",
    "                raise NotImplementedError(\n",
    "                    'rigorous_partial does not support functions with '\n",
    "                    'positional only parameters.'\n",
    "                )\n",
    "            elif v.kind == 2:\n",
    "                self.args_name = k\n",
    "            elif v.kind == 4:\n",
    "                self.kwargs_name = k\n",
    "                break\n",
    "\n",
    "            if v.kind <= 2:\n",
    "                self.old_pos_pars.append(k)\n",
    "\n",
    "            # Assign default value from newly specified kwargs if provided.\n",
    "            if k in kwargs:\n",
    "                default = kwargs.pop(k)\n",
    "                kind = 3\n",
    "            else:\n",
    "                default = v.default\n",
    "                kind = v.kind\n",
    "            param = inspect.Parameter(k, kind, default=default)\n",
    "            new_pars.append(param)\n",
    "\n",
    "        # Remaining kwargs only: those that were not present in func's \n",
    "        # signature. Require that they be keyword only since ordering can\n",
    "        # cause issues (updating signature affects what we see but doesn't \n",
    "        # seem to affect the actual order args are passed in, presumably due \n",
    "        # to old __code__ object).\n",
    "        for k, v in kwargs.items():\n",
    "            param = inspect.Parameter(k, 3, default=v)\n",
    "            new_pars.append(param)\n",
    "        if self.kwargs_name:\n",
    "            new_pars.append(inspect.Parameter(self.kwargs_name, 4))\n",
    "\n",
    "        # Ensure we don't accidentally place any parameters with defaults \n",
    "        # ahead of those without them. Third item in tuple is a tiebreaker \n",
    "        # (defaults to original function's parameter order).\n",
    "        old_names = [p for p in old_sig.parameters]\n",
    "        new_pars.sort(\n",
    "            key=lambda x: (x.kind, x.default != _empty, \n",
    "                           getindex(old_names, x.name, float('inf')))\n",
    "        )\n",
    "\n",
    "        # I honestly forget why we need to set the attribute on self.func too,\n",
    "        # I just remember it was needed to resolve a bug (I think it was \n",
    "        # related to *args resolution).\n",
    "        self.__signature__ = self.func.__signature__ = old_sig.replace(\n",
    "            parameters=new_pars\n",
    "        )\n",
    "        self.__defaults__ = tuple(p.default for p in new_pars if p.kind < 3 \n",
    "                                  and p.default != _empty)\n",
    "        self.__kwdefaults__ = {p.name: p.default for p in new_pars\n",
    "                               if p.kind == 3}\n",
    "        if name: self.func.__name__ = name\n",
    "        update_wrapper(self, self.func)\n",
    "    \n",
    "    def __call__(self, *args, **new_kwargs):\n",
    "        tmp_kwargs = bound_args(self.func, args, \n",
    "                                {**self.__kwdefaults__, **new_kwargs})\n",
    "        final_args = {name: tmp_kwargs.pop(name) \n",
    "                      for name in self.old_pos_pars}\n",
    "        final_star_args = final_args.pop(self.args_name, [])\n",
    "        final_kwargs = select(tmp_kwargs, drop=list(final_args))\n",
    "        return self.func(*final_args.values(), *final_star_args,\n",
    "                         **final_kwargs)\n",
    "\n",
    "    def __repr__(self):\n",
    "        return repr(self.func).replace(self.old_name, self.__name__)\n",
    "    \n",
    "    def __str__(self):\n",
    "        return str(self.func).replace(self.old_name, self.__name__)"
   ]
  },
  {
   "cell_type": "code",
   "execution_count": 1358,
   "metadata": {
    "ExecuteTime": {
     "end_time": "2021-05-03T01:21:05.550967Z",
     "start_time": "2021-05-03T01:21:05.504253Z"
    }
   },
   "outputs": [
    {
     "data": {
      "text/plain": [
       "functools.partial(<function foo at 0x123fbf730>, a='a')"
      ]
     },
     "execution_count": 1358,
     "metadata": {},
     "output_type": "execute_result"
    }
   ],
   "source": [
    "partial(foo, a='a')"
   ]
  },
  {
   "cell_type": "code",
   "execution_count": 1359,
   "metadata": {
    "ExecuteTime": {
     "end_time": "2021-05-03T01:21:19.540751Z",
     "start_time": "2021-05-03T01:21:19.507193Z"
    }
   },
   "outputs": [
    {
     "data": {
      "text/plain": [
       "<function foo at 0x123ed1400>"
      ]
     },
     "execution_count": 1359,
     "metadata": {},
     "output_type": "execute_result"
    }
   ],
   "source": [
    "Partial(foo, a='a')"
   ]
  },
  {
   "cell_type": "code",
   "execution_count": null,
   "metadata": {},
   "outputs": [],
   "source": [
    "foo()"
   ]
  },
  {
   "cell_type": "code",
   "execution_count": 1208,
   "metadata": {
    "ExecuteTime": {
     "end_time": "2021-05-03T00:01:34.390597Z",
     "start_time": "2021-05-03T00:01:34.355431Z"
    }
   },
   "outputs": [
    {
     "data": {
      "text/plain": [
       "<function foo at 0x123e418c8>"
      ]
     },
     "execution_count": 1208,
     "metadata": {},
     "output_type": "execute_result"
    }
   ],
   "source": [
    "new_v2 = Partial(foo, a=False, x=9, y=8, z='zzzz')\n",
    "new_v2"
   ]
  },
  {
   "cell_type": "code",
   "execution_count": 1209,
   "metadata": {
    "ExecuteTime": {
     "end_time": "2021-05-03T00:01:38.783914Z",
     "start_time": "2021-05-03T00:01:38.751319Z"
    }
   },
   "outputs": [
    {
     "name": "stdout",
     "output_type": "stream",
     "text": [
      "a False\n",
      "a2 a2\n",
      "b b_val\n",
      "args ('some', 'args', 'more')\n",
      "c 3\n",
      "kwargs {'x': 9, 'y': 8, 'z': 'zzzz', 'new_kwarg': 'q'}\n"
     ]
    }
   ],
   "source": [
    "new_v2('a2', 'b_val', 'some', 'args', 'more', new_kwarg='q')"
   ]
  },
  {
   "cell_type": "code",
   "execution_count": 1210,
   "metadata": {
    "ExecuteTime": {
     "end_time": "2021-05-03T00:02:15.191914Z",
     "start_time": "2021-05-03T00:02:15.156393Z"
    }
   },
   "outputs": [
    {
     "data": {
      "text/plain": [
       "<function a_new_name at 0x123e50378>"
      ]
     },
     "execution_count": 1210,
     "metadata": {},
     "output_type": "execute_result"
    }
   ],
   "source": [
    "new_v2 = Partial(foo, name='a_new_name', a=False, x=9, y=8, z='zzzz')\n",
    "new_v2"
   ]
  },
  {
   "cell_type": "code",
   "execution_count": 1211,
   "metadata": {
    "ExecuteTime": {
     "end_time": "2021-05-03T00:02:29.024526Z",
     "start_time": "2021-05-03T00:02:28.971395Z"
    }
   },
   "outputs": [
    {
     "name": "stdout",
     "output_type": "stream",
     "text": [
      "a False\n",
      "a2 a2\n",
      "b b_val\n",
      "args ('some', 'args', 'more')\n",
      "c 3\n",
      "kwargs {'x': 9, 'y': 8, 'z': 'zzzz', 'new_kwarg': 'q'}\n"
     ]
    }
   ],
   "source": [
    "new_v2('a2', 'b_val', 'some', 'args', 'more', new_kwarg='q')"
   ]
  },
  {
   "cell_type": "code",
   "execution_count": 1212,
   "metadata": {
    "ExecuteTime": {
     "end_time": "2021-05-03T00:02:39.089092Z",
     "start_time": "2021-05-03T00:02:39.048344Z"
    }
   },
   "outputs": [
    {
     "data": {
      "text/plain": [
       "('a_new_name', (2,), {'a': False, 'c': 3, 'x': 9, 'y': 8, 'z': 'zzzz'})"
      ]
     },
     "execution_count": 1212,
     "metadata": {},
     "output_type": "execute_result"
    }
   ],
   "source": [
    "new_v2.__name__, new_v2.__defaults__, new_v2.__kwdefaults__"
   ]
  },
  {
   "cell_type": "code",
   "execution_count": 1213,
   "metadata": {
    "ExecuteTime": {
     "end_time": "2021-05-03T00:02:44.971398Z",
     "start_time": "2021-05-03T00:02:44.943327Z"
    }
   },
   "outputs": [
    {
     "data": {
      "text/plain": [
       "'<function a_new_name at 0x123e50378>'"
      ]
     },
     "execution_count": 1213,
     "metadata": {},
     "output_type": "execute_result"
    }
   ],
   "source": [
    "str(new_v2)"
   ]
  },
  {
   "cell_type": "code",
   "execution_count": 1214,
   "metadata": {
    "ExecuteTime": {
     "end_time": "2021-05-03T00:02:54.500604Z",
     "start_time": "2021-05-03T00:02:54.453711Z"
    }
   },
   "outputs": [
    {
     "data": {
      "text/plain": [
       "False"
      ]
     },
     "execution_count": 1214,
     "metadata": {},
     "output_type": "execute_result"
    }
   ],
   "source": [
    "inspect.isfunction(new_v2)"
   ]
  },
  {
   "cell_type": "code",
   "execution_count": 1215,
   "metadata": {
    "ExecuteTime": {
     "end_time": "2021-05-03T00:03:01.408927Z",
     "start_time": "2021-05-03T00:03:01.378722Z"
    }
   },
   "outputs": [
    {
     "data": {
      "text/plain": [
       "True"
      ]
     },
     "execution_count": 1215,
     "metadata": {},
     "output_type": "execute_result"
    }
   ],
   "source": [
    "inspect.isfunction(foo)"
   ]
  },
  {
   "cell_type": "code",
   "execution_count": 1217,
   "metadata": {
    "ExecuteTime": {
     "end_time": "2021-05-03T00:04:01.854171Z",
     "start_time": "2021-05-03T00:04:01.822601Z"
    }
   },
   "outputs": [
    {
     "name": "stdout",
     "output_type": "stream",
     "text": [
      "def foo(a, a2, b=2, *args, c=3, **kwargs):\n",
      "    print('a', a)\n",
      "    print('a2', a2)\n",
      "    print('b', b)\n",
      "    print('args', args)\n",
      "    print('c', c)\n",
      "    print('kwargs', kwargs)\n",
      "\n"
     ]
    }
   ],
   "source": [
    "print(inspect.getsource(foo))"
   ]
  },
  {
   "cell_type": "code",
   "execution_count": 1218,
   "metadata": {
    "ExecuteTime": {
     "end_time": "2021-05-03T00:04:07.674681Z",
     "start_time": "2021-05-03T00:04:07.631609Z"
    }
   },
   "outputs": [
    {
     "name": "stdout",
     "output_type": "stream",
     "text": [
      "def foo(a, a2, b=2, *args, c=3, **kwargs):\n",
      "    print('a', a)\n",
      "    print('a2', a2)\n",
      "    print('b', b)\n",
      "    print('args', args)\n",
      "    print('c', c)\n",
      "    print('kwargs', kwargs)\n",
      "\n"
     ]
    }
   ],
   "source": [
    "# Tbh not sure what I'd want this to return. Ideally I guess we'd have\n",
    "# rewritten the actual definition but I don't think this is possible without\n",
    "# rebuilding the __code__ object, which I remember required using a largely\n",
    "# undocumented function whose interface (purportedly) frequently changes.\n",
    "print(inspect.getsource(new_v2))"
   ]
  },
  {
   "cell_type": "code",
   "execution_count": 1203,
   "metadata": {
    "ExecuteTime": {
     "end_time": "2021-05-02T23:50:09.550536Z",
     "start_time": "2021-05-02T23:50:09.521946Z"
    }
   },
   "outputs": [
    {
     "name": "stdout",
     "output_type": "stream",
     "text": [
      " 0: ('a2', <Parameter \"a2\">)\n",
      " 1: ('b', <Parameter \"b=2\">)\n",
      " 2: ('args', <Parameter \"*args\">)\n",
      " 3: ('a', <Parameter \"a=False\">)\n",
      " 4: ('c', <Parameter \"c=3\">)\n",
      " 5: ('x', <Parameter \"x=9\">)\n",
      " 6: ('y', <Parameter \"y=8\">)\n",
      " 7: ('z', <Parameter \"z='zzzz'\">)\n",
      " 8: ('kwargs', <Parameter \"**kwargs\">)\n"
     ]
    }
   ],
   "source": [
    "eprint(params(new_v2).items())"
   ]
  },
  {
   "cell_type": "code",
   "execution_count": 1200,
   "metadata": {
    "ExecuteTime": {
     "end_time": "2021-05-02T23:49:22.050931Z",
     "start_time": "2021-05-02T23:49:22.019617Z"
    }
   },
   "outputs": [
    {
     "data": {
      "text/plain": [
       "<Signature (a2, b=2, *args, a=False, c=3, x=9, y=8, z='zzzz', **kwargs)>"
      ]
     },
     "execution_count": 1200,
     "metadata": {},
     "output_type": "execute_result"
    }
   ],
   "source": [
    "signature(new_v2)"
   ]
  },
  {
   "cell_type": "code",
   "execution_count": 1102,
   "metadata": {
    "ExecuteTime": {
     "end_time": "2021-05-02T02:17:43.810360Z",
     "start_time": "2021-05-02T02:17:43.781549Z"
    }
   },
   "outputs": [
    {
     "data": {
      "text/plain": [
       "<Signature (a, a2, b=2, *args, c=3, **kwargs)>"
      ]
     },
     "execution_count": 1102,
     "metadata": {},
     "output_type": "execute_result"
    }
   ],
   "source": [
    "signature(foo)"
   ]
  },
  {
   "cell_type": "code",
   "execution_count": 1103,
   "metadata": {
    "ExecuteTime": {
     "end_time": "2021-05-02T02:17:43.990300Z",
     "start_time": "2021-05-02T02:17:43.953367Z"
    }
   },
   "outputs": [
    {
     "name": "stdout",
     "output_type": "stream",
     "text": [
      "def foo(a, a2, b=2, *args, c=3, **kwargs):\n",
      "    print('a', a)\n",
      "    print('a2', a2)\n",
      "    print('b', b)\n",
      "    print('args', args)\n",
      "    print('c', c)\n",
      "    print('kwargs', kwargs)\n",
      "\n"
     ]
    }
   ],
   "source": [
    "print(inspect.getsource(foo))"
   ]
  },
  {
   "cell_type": "code",
   "execution_count": 1104,
   "metadata": {
    "ExecuteTime": {
     "end_time": "2021-05-02T02:17:44.820918Z",
     "start_time": "2021-05-02T02:17:44.794347Z"
    }
   },
   "outputs": [
    {
     "name": "stdout",
     "output_type": "stream",
     "text": [
      " 0: ('a', <_ParameterKind.POSITIONAL_OR_KEYWORD: 1>)\n",
      " 1: ('a2', <_ParameterKind.POSITIONAL_OR_KEYWORD: 1>)\n",
      " 2: ('b', <_ParameterKind.POSITIONAL_OR_KEYWORD: 1>)\n",
      " 3: ('args', <_ParameterKind.VAR_POSITIONAL: 2>)\n",
      " 4: ('c', <_ParameterKind.KEYWORD_ONLY: 3>)\n",
      " 5: ('kwargs', <_ParameterKind.VAR_KEYWORD: 4>)\n"
     ]
    }
   ],
   "source": [
    "eprint({k: v.kind for k, v in params(foo).items()}.items())"
   ]
  },
  {
   "cell_type": "code",
   "execution_count": 1105,
   "metadata": {
    "ExecuteTime": {
     "end_time": "2021-05-02T02:17:45.449527Z",
     "start_time": "2021-05-02T02:17:45.421851Z"
    },
    "run_control": {
     "marked": false
    }
   },
   "outputs": [
    {
     "data": {
      "text/plain": [
       "<Signature (a, a2, b=2, *args, c=3, **kwargs)>"
      ]
     },
     "execution_count": 1105,
     "metadata": {},
     "output_type": "execute_result"
    }
   ],
   "source": [
    "signature(foo)"
   ]
  },
  {
   "cell_type": "code",
   "execution_count": 1106,
   "metadata": {
    "ExecuteTime": {
     "end_time": "2021-05-02T02:17:48.586356Z",
     "start_time": "2021-05-02T02:17:48.555269Z"
    }
   },
   "outputs": [
    {
     "data": {
      "text/plain": [
       "(2,)"
      ]
     },
     "execution_count": 1106,
     "metadata": {},
     "output_type": "execute_result"
    }
   ],
   "source": [
    "foo.__defaults__"
   ]
  },
  {
   "cell_type": "code",
   "execution_count": 1107,
   "metadata": {
    "ExecuteTime": {
     "end_time": "2021-05-02T02:17:48.882212Z",
     "start_time": "2021-05-02T02:17:48.842735Z"
    }
   },
   "outputs": [
    {
     "data": {
      "text/plain": [
       "{'c': 3}"
      ]
     },
     "execution_count": 1107,
     "metadata": {},
     "output_type": "execute_result"
    }
   ],
   "source": [
    "foo.__kwdefaults__"
   ]
  },
  {
   "cell_type": "code",
   "execution_count": 1108,
   "metadata": {
    "ExecuteTime": {
     "end_time": "2021-05-02T02:17:49.186373Z",
     "start_time": "2021-05-02T02:17:49.147643Z"
    }
   },
   "outputs": [
    {
     "name": "stdout",
     "output_type": "stream",
     "text": [
      "a aaaa\n",
      "a2 a2\n",
      "b 2\n",
      "args ()\n",
      "c 3\n",
      "kwargs {}\n"
     ]
    }
   ],
   "source": [
    "# Should have a=aaaa, a2=a2, b=2, args=(), c=3, kwargs={}.\n",
    "foo('aaaa', 'a2')"
   ]
  },
  {
   "cell_type": "code",
   "execution_count": 1236,
   "metadata": {
    "ExecuteTime": {
     "end_time": "2021-05-03T00:17:55.782935Z",
     "start_time": "2021-05-03T00:17:55.749326Z"
    }
   },
   "outputs": [
    {
     "data": {
      "text/plain": [
       "<function foo at 0x123e8ac80>"
      ]
     },
     "execution_count": 1236,
     "metadata": {},
     "output_type": "execute_result"
    }
   ],
   "source": [
    "new = Partial(foo, a2=111, z=99)\n",
    "new"
   ]
  },
  {
   "cell_type": "code",
   "execution_count": 1237,
   "metadata": {
    "ExecuteTime": {
     "end_time": "2021-05-03T00:18:01.776047Z",
     "start_time": "2021-05-03T00:18:01.746283Z"
    }
   },
   "outputs": [
    {
     "data": {
      "text/plain": [
       "<Signature (a, b=2, *args, a2=111, c=3, z=99, **kwargs)>"
      ]
     },
     "execution_count": 1237,
     "metadata": {},
     "output_type": "execute_result"
    }
   ],
   "source": [
    "# Should look like Signature(a, b=2, *args, a2=111, c=3, z=99, **kwargs).\n",
    "signature(new)"
   ]
  },
  {
   "cell_type": "code",
   "execution_count": 1238,
   "metadata": {
    "ExecuteTime": {
     "end_time": "2021-05-03T00:18:16.903601Z",
     "start_time": "2021-05-03T00:18:16.871108Z"
    }
   },
   "outputs": [
    {
     "name": "stdout",
     "output_type": "stream",
     "text": [
      " 0: ('a', (<_ParameterKind.POSITIONAL_OR_KEYWORD: 1>, <class 'inspect._empty'>))\n",
      " 1: ('b', (<_ParameterKind.POSITIONAL_OR_KEYWORD: 1>, 2))\n",
      " 2: ('args', (<_ParameterKind.VAR_POSITIONAL: 2>, <class 'inspect._empty'>))\n",
      " 3: ('a2', (<_ParameterKind.KEYWORD_ONLY: 3>, 111))\n",
      " 4: ('c', (<_ParameterKind.KEYWORD_ONLY: 3>, 3))\n",
      " 5: ('z', (<_ParameterKind.KEYWORD_ONLY: 3>, 99))\n",
      " 6: ('kwargs', (<_ParameterKind.VAR_KEYWORD: 4>, <class 'inspect._empty'>))\n"
     ]
    }
   ],
   "source": [
    "eprint({k: (v.kind, v.default) for k, v in params(new).items()}.items())"
   ]
  },
  {
   "cell_type": "code",
   "execution_count": 1239,
   "metadata": {
    "ExecuteTime": {
     "end_time": "2021-05-03T00:18:22.685791Z",
     "start_time": "2021-05-03T00:18:22.655725Z"
    }
   },
   "outputs": [
    {
     "data": {
      "text/plain": [
       "(2,)"
      ]
     },
     "execution_count": 1239,
     "metadata": {},
     "output_type": "execute_result"
    }
   ],
   "source": [
    "new.__defaults__"
   ]
  },
  {
   "cell_type": "code",
   "execution_count": 1240,
   "metadata": {
    "ExecuteTime": {
     "end_time": "2021-05-03T00:18:23.219966Z",
     "start_time": "2021-05-03T00:18:23.188972Z"
    }
   },
   "outputs": [
    {
     "data": {
      "text/plain": [
       "{'a2': 111, 'c': 3, 'z': 99}"
      ]
     },
     "execution_count": 1240,
     "metadata": {},
     "output_type": "execute_result"
    }
   ],
   "source": [
    "new.__kwdefaults__"
   ]
  },
  {
   "cell_type": "code",
   "execution_count": 1241,
   "metadata": {
    "ExecuteTime": {
     "end_time": "2021-05-03T00:18:26.293070Z",
     "start_time": "2021-05-03T00:18:26.243093Z"
    }
   },
   "outputs": [
    {
     "name": "stdout",
     "output_type": "stream",
     "text": [
      "a a\n",
      "a2 111\n",
      "b 2\n",
      "args ()\n",
      "c 3\n",
      "kwargs {'z': 99}\n"
     ]
    }
   ],
   "source": [
    "# Should be b=2, a2=111\n",
    "new('a')"
   ]
  },
  {
   "cell_type": "code",
   "execution_count": 1242,
   "metadata": {
    "ExecuteTime": {
     "end_time": "2021-05-03T00:18:29.580846Z",
     "start_time": "2021-05-03T00:18:29.541934Z"
    }
   },
   "outputs": [
    {
     "name": "stdout",
     "output_type": "stream",
     "text": [
      "a a\n",
      "a2 111\n",
      "b b\n",
      "args ()\n",
      "c 3\n",
      "kwargs {'z': 99}\n"
     ]
    }
   ],
   "source": [
    "# Should be b='b', a2=111\n",
    "new('a', 'b')"
   ]
  },
  {
   "cell_type": "code",
   "execution_count": 1243,
   "metadata": {
    "ExecuteTime": {
     "end_time": "2021-05-03T00:18:33.752026Z",
     "start_time": "2021-05-03T00:18:33.720970Z"
    }
   },
   "outputs": [
    {
     "name": "stdout",
     "output_type": "stream",
     "text": [
      "a a\n",
      "a2 a2\n",
      "b 2\n",
      "args ()\n",
      "c 3\n",
      "kwargs {'z': 99}\n"
     ]
    }
   ],
   "source": [
    "# Should be b=2, a2='a2'\n",
    "new('a', a2='a2')"
   ]
  },
  {
   "cell_type": "code",
   "execution_count": 1244,
   "metadata": {
    "ExecuteTime": {
     "end_time": "2021-05-03T00:18:37.440290Z",
     "start_time": "2021-05-03T00:18:37.392376Z"
    }
   },
   "outputs": [
    {
     "name": "stdout",
     "output_type": "stream",
     "text": [
      "a 1\n",
      "a2 111\n",
      "b 2\n",
      "args ()\n",
      "c ccc\n",
      "kwargs {'z': 99, 'd': 'd_kwarg'}\n"
     ]
    }
   ],
   "source": [
    "new(1, c='ccc', d='d_kwarg')"
   ]
  },
  {
   "cell_type": "code",
   "execution_count": 1248,
   "metadata": {
    "ExecuteTime": {
     "end_time": "2021-05-03T00:19:02.560685Z",
     "start_time": "2021-05-03T00:19:02.486364Z"
    }
   },
   "outputs": [
    {
     "name": "stdout",
     "output_type": "stream",
     "text": [
      "a 1\n",
      "a2 111\n",
      "b b\n",
      "args (0, 1, 2, 3, 4, 5)\n",
      "c ccc\n",
      "kwargs {'z': 99, 'd': 'd_kwarg'}\n"
     ]
    }
   ],
   "source": [
    "new(1, 'b', 0, 1, 2, 3, 4, 5, c='ccc', d='d_kwarg')"
   ]
  },
  {
   "cell_type": "code",
   "execution_count": 1249,
   "metadata": {
    "ExecuteTime": {
     "end_time": "2021-05-03T00:19:05.364590Z",
     "start_time": "2021-05-03T00:19:05.307894Z"
    }
   },
   "outputs": [
    {
     "name": "stdout",
     "output_type": "stream",
     "text": [
      "a a\n",
      "a2 111\n",
      "b a2\n",
      "args (-1, 0, 1, 2, 3, 4, 5)\n",
      "c 3\n",
      "kwargs {'z': 99}\n"
     ]
    }
   ],
   "source": [
    "new('a', 'a2', -1, 0, 1, 2, 3, 4, 5)"
   ]
  },
  {
   "cell_type": "code",
   "execution_count": 1250,
   "metadata": {
    "ExecuteTime": {
     "end_time": "2021-05-03T00:19:07.856634Z",
     "start_time": "2021-05-03T00:19:07.825357Z"
    }
   },
   "outputs": [
    {
     "name": "stdout",
     "output_type": "stream",
     "text": [
      "a a\n",
      "a2 111\n",
      "b a2\n",
      "args (-1, 0, 1, 2, 3, 4, 5)\n",
      "c 3\n",
      "kwargs {'z': 'nnn'}\n"
     ]
    }
   ],
   "source": [
    "new('a', 'a2', -1, 0, 1, 2, 3, 4, 5, z='nnn')"
   ]
  },
  {
   "cell_type": "code",
   "execution_count": 1251,
   "metadata": {
    "ExecuteTime": {
     "end_time": "2021-05-03T00:19:13.380353Z",
     "start_time": "2021-05-03T00:19:13.350891Z"
    }
   },
   "outputs": [
    {
     "data": {
      "text/plain": [
       "((2,), (2,))"
      ]
     },
     "execution_count": 1251,
     "metadata": {},
     "output_type": "execute_result"
    }
   ],
   "source": [
    "new.__defaults__, new.__wrapped__.__defaults__"
   ]
  },
  {
   "cell_type": "code",
   "execution_count": 1252,
   "metadata": {
    "ExecuteTime": {
     "end_time": "2021-05-03T00:19:13.947218Z",
     "start_time": "2021-05-03T00:19:13.909918Z"
    }
   },
   "outputs": [
    {
     "data": {
      "text/plain": [
       "({'a2': 111, 'c': 3, 'z': 99}, {'c': 3})"
      ]
     },
     "execution_count": 1252,
     "metadata": {},
     "output_type": "execute_result"
    }
   ],
   "source": [
    "new.__kwdefaults__, new.__wrapped__.__kwdefaults__"
   ]
  },
  {
   "cell_type": "code",
   "execution_count": 1254,
   "metadata": {
    "ExecuteTime": {
     "end_time": "2021-05-03T00:19:22.570966Z",
     "start_time": "2021-05-03T00:19:22.534708Z"
    }
   },
   "outputs": [
    {
     "data": {
      "text/plain": [
       "<function my_new_func at 0x123ed11e0>"
      ]
     },
     "execution_count": 1254,
     "metadata": {},
     "output_type": "execute_result"
    }
   ],
   "source": [
    "new_named = Partial(foo, name='my_new_func', b=888, x='xxx', t='ttt')\n",
    "new_named"
   ]
  },
  {
   "cell_type": "code",
   "execution_count": 1255,
   "metadata": {
    "ExecuteTime": {
     "end_time": "2021-05-03T00:19:24.918663Z",
     "start_time": "2021-05-03T00:19:24.886882Z"
    }
   },
   "outputs": [
    {
     "data": {
      "text/plain": [
       "'my_new_func'"
      ]
     },
     "execution_count": 1255,
     "metadata": {},
     "output_type": "execute_result"
    }
   ],
   "source": [
    "new_named.__name__"
   ]
  },
  {
   "cell_type": "code",
   "execution_count": 1256,
   "metadata": {
    "ExecuteTime": {
     "end_time": "2021-05-03T00:19:31.595763Z",
     "start_time": "2021-05-03T00:19:31.552327Z"
    }
   },
   "outputs": [
    {
     "data": {
      "text/plain": [
       "'my_new_func'"
      ]
     },
     "execution_count": 1256,
     "metadata": {},
     "output_type": "execute_result"
    }
   ],
   "source": [
    "func_name(new_named)"
   ]
  },
  {
   "cell_type": "code",
   "execution_count": 1257,
   "metadata": {
    "ExecuteTime": {
     "end_time": "2021-05-03T00:19:33.368735Z",
     "start_time": "2021-05-03T00:19:33.340372Z"
    }
   },
   "outputs": [
    {
     "data": {
      "text/plain": [
       "'my_new_func'"
      ]
     },
     "execution_count": 1257,
     "metadata": {},
     "output_type": "execute_result"
    }
   ],
   "source": [
    "new_named.__wrapped__.__name__"
   ]
  },
  {
   "cell_type": "code",
   "execution_count": 1258,
   "metadata": {
    "ExecuteTime": {
     "end_time": "2021-05-03T00:19:34.914399Z",
     "start_time": "2021-05-03T00:19:34.870191Z"
    }
   },
   "outputs": [
    {
     "data": {
      "text/plain": [
       "'my_new_func'"
      ]
     },
     "execution_count": 1258,
     "metadata": {},
     "output_type": "execute_result"
    }
   ],
   "source": [
    "func_name(new_named.__wrapped__)"
   ]
  },
  {
   "cell_type": "code",
   "execution_count": 1353,
   "metadata": {
    "ExecuteTime": {
     "end_time": "2021-05-03T01:07:07.124197Z",
     "start_time": "2021-05-03T01:07:07.085706Z"
    }
   },
   "outputs": [
    {
     "name": "stdout",
     "output_type": "stream",
     "text": [
      " 0: x:0, y:-6, z:0\n",
      " 1: x:0, y:-6, z:1\n",
      " 2: x:0, y:-6, z:2\n",
      " 3: x:0, y:-6, z:3\n",
      " 4: x:0, y:-6, z:4\n",
      " 5: x:0, y:-6, z:5\n",
      " 6: x:0, y:-6, z:6\n",
      " 7: x:0, y:-6, z:7\n",
      " 8: x:0, y:-6, z:8\n",
      " 9: x:0, y:-6, z:9\n",
      "\n",
      "-------------------------------------------------------------------------------\n",
      "\n"
     ]
    },
    {
     "ename": "TypeError",
     "evalue": "baz() got multiple values for argument 'x'",
     "output_type": "error",
     "traceback": [
      "\u001b[0;31m---------------------------------------------------------------------------\u001b[0m",
      "\u001b[0;31mTypeError\u001b[0m                                 Traceback (most recent call last)",
      "\u001b[0;32m<ipython-input-1353-1b6f8c59eee9>\u001b[0m in \u001b[0;36m<module>\u001b[0;34m()\u001b[0m\n\u001b[1;32m     12\u001b[0m \u001b[0;34m\u001b[0m\u001b[0m\n\u001b[1;32m     13\u001b[0m \u001b[0mf1\u001b[0m \u001b[0;34m=\u001b[0m \u001b[0mpartial\u001b[0m\u001b[0;34m(\u001b[0m\u001b[0mbaz\u001b[0m\u001b[0;34m,\u001b[0m \u001b[0mx\u001b[0m\u001b[0;34m=\u001b[0m\u001b[0;36m0\u001b[0m\u001b[0;34m,\u001b[0m \u001b[0my\u001b[0m\u001b[0;34m=\u001b[0m\u001b[0;34m-\u001b[0m\u001b[0;36m6\u001b[0m\u001b[0;34m)\u001b[0m\u001b[0;34m\u001b[0m\u001b[0;34m\u001b[0m\u001b[0m\n\u001b[0;32m---> 14\u001b[0;31m \u001b[0meprint\u001b[0m\u001b[0;34m(\u001b[0m\u001b[0mlist\u001b[0m\u001b[0;34m(\u001b[0m\u001b[0mmap\u001b[0m\u001b[0;34m(\u001b[0m\u001b[0mf1\u001b[0m\u001b[0;34m,\u001b[0m \u001b[0mzz\u001b[0m\u001b[0;34m)\u001b[0m\u001b[0;34m)\u001b[0m\u001b[0;34m)\u001b[0m\u001b[0;34m\u001b[0m\u001b[0;34m\u001b[0m\u001b[0m\n\u001b[0m",
      "\u001b[0;31mTypeError\u001b[0m: baz() got multiple values for argument 'x'"
     ]
    }
   ],
   "source": [
    "# Testing example from stackoverflow where functools version acts weirdly. \n",
    "# https://stackoverflow.com/questions/38975975/python-partial-with-keyword-arguments\n",
    "def baz(x=1, y=2, z=3):\n",
    "    return f'x:{x}, y:{y}, z:{z}'\n",
    "\n",
    "# Looks like my Partial works as expected here and functools.partial still\n",
    "# does not.\n",
    "zz = range(10)\n",
    "f0 = Partial(baz, x=0, y=-6)\n",
    "eprint(list(map(f0, zz)))\n",
    "print(spacer())\n",
    "\n",
    "f1 = partial(baz, x=0, y=-6)\n",
    "eprint(list(map(f1, zz)))"
   ]
  },
  {
   "cell_type": "code",
   "execution_count": 1356,
   "metadata": {
    "ExecuteTime": {
     "end_time": "2021-05-03T01:07:56.706373Z",
     "start_time": "2021-05-03T01:07:56.676633Z"
    }
   },
   "outputs": [
    {
     "data": {
      "text/plain": [
       "<Signature (z=3, *, x=0, y=-6)>"
      ]
     },
     "execution_count": 1356,
     "metadata": {},
     "output_type": "execute_result"
    }
   ],
   "source": [
    "signature(f0)"
   ]
  },
  {
   "cell_type": "code",
   "execution_count": null,
   "metadata": {},
   "outputs": [],
   "source": []
  }
 ],
 "metadata": {
  "kernelspec": {
   "display_name": "Python 3",
   "language": "python",
   "name": "python3"
  },
  "language_info": {
   "codemirror_mode": {
    "name": "ipython",
    "version": 3
   },
   "file_extension": ".py",
   "mimetype": "text/x-python",
   "name": "python",
   "nbconvert_exporter": "python",
   "pygments_lexer": "ipython3",
   "version": "3.7.3"
  }
 },
 "nbformat": 4,
 "nbformat_minor": 2
}
