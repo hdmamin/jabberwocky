{
 "cells": [
  {
   "cell_type": "markdown",
   "metadata": {},
   "source": [
    "# Summary\n",
    "\n",
    "Start tying openai and youtube functionality together to manage the punctuation process."
   ]
  },
  {
   "cell_type": "code",
   "execution_count": 1,
   "metadata": {
    "ExecuteTime": {
     "end_time": "2021-04-27T02:48:40.620795Z",
     "start_time": "2021-04-27T02:48:40.602587Z"
    }
   },
   "outputs": [],
   "source": [
    "%load_ext autoreload\n",
    "%autoreload 2"
   ]
  },
  {
   "cell_type": "code",
   "execution_count": 1673,
   "metadata": {
    "ExecuteTime": {
     "end_time": "2021-05-06T03:12:34.501464Z",
     "start_time": "2021-05-06T03:12:34.442044Z"
    }
   },
   "outputs": [],
   "source": [
    "import matplotlib.pyplot as plt\n",
    "from nltk.tokenize import sent_tokenize\n",
    "import numpy as np\n",
    "import os\n",
    "import pandas as pd\n",
    "from pathlib import Path\n",
    "from youtube_transcript_api import YouTubeTranscriptApi, NoTranscriptFound\n",
    "\n",
    "from jabberwocky.config import C\n",
    "from jabberwocky.core import realign_punctuated_text, PromptManager\n",
    "from jabberwocky.openai_utils import query_gpt3\n",
    "from jabberwocky.utils import load_prompt\n",
    "from jabberwocky.youtube import get_transcripts, text_segment, video_id\n",
    "from htools import *"
   ]
  },
  {
   "cell_type": "code",
   "execution_count": 3,
   "metadata": {
    "ExecuteTime": {
     "end_time": "2021-04-27T02:48:42.584310Z",
     "start_time": "2021-04-27T02:48:42.555902Z"
    }
   },
   "outputs": [
    {
     "name": "stdout",
     "output_type": "stream",
     "text": [
      "Current directory: /Users/hmamin/jabberwocky\n"
     ]
    }
   ],
   "source": [
    "cd_root()"
   ]
  },
  {
   "cell_type": "code",
   "execution_count": 1788,
   "metadata": {
    "ExecuteTime": {
     "end_time": "2021-05-06T03:58:00.909464Z",
     "start_time": "2021-05-06T03:58:00.806552Z"
    }
   },
   "outputs": [],
   "source": [
    "class UnpunctuatedTranscript:\n",
    "    \n",
    "    def __init__(self, df_gen, **kwargs):\n",
    "        self.df_gen = df_gen\n",
    "        self.df_punct = self.df_gen.copy()\n",
    "        self.df_punct['text'] = np.nan\n",
    "        \n",
    "        # Allow kwargs but no extra_kwargs at this point since the latter is\n",
    "        # really meant to be a stopgap solution (which you can pass in when \n",
    "        # calling the _punctuate_chunk method).\n",
    "        self.manager = PromptManager('punctuate', verbose=False)\n",
    "        self.kwargs = dict(kwargs)\n",
    "        \n",
    "    @property\n",
    "    def df(self):\n",
    "        return self.df_gen\n",
    "    \n",
    "    def _punctuate_chunk(self, df_chunk, extra_kwargs=None, **kwargs) -> str:\n",
    "        # Don't use stream=True or return_full=True here. Just want a string.\n",
    "        return self.manager.query(task='punctuate', \n",
    "                                  text=' '.join(df_chunk.text),\n",
    "                                  extra_kwargs=extra_kwargs,\n",
    "                                  **dict(self.kwargs, **kwargs))[1]\n",
    "    \n",
    "    # This version only punctuates rows of the relevant chunk that haven't \n",
    "    # been previously punctuated. While this is faster and cheaper, I've seen\n",
    "    # some hints that the punctuation task may work better when we pass it\n",
    "    # long-ish chunks of text and not little partial snippets. So it might\n",
    "    # actually be better not to do this? I was going to say it might do better\n",
    "    # if given full sentences rather than fragments, but I guess we can't \n",
    "    # easily extract those without doing the actual punctuation step.\n",
    "    def punctuated_chunk(self, start_idx, end_idx, punctuate, \n",
    "                         align_kwargs=None, extra_kwargs=None, \n",
    "                         **query_kwargs):\n",
    "        # Check for pre-punctuated text.\n",
    "        chunk = self.df_punct.loc[start_idx:end_idx, :]\n",
    "        if chunk.text.isnull().sum() == 0:\n",
    "            return chunk\n",
    "        if not punctuate:\n",
    "            return self.df_gen.loc[start_idx:end_idx, :]\n",
    "        for idx in self.na_index_chunks(self.df_punct.loc[start_idx:end_idx]):\n",
    "            df_chunk = self.df_gen.loc[idx]\n",
    "            text_punct = self._punctuate_chunk(df_chunk,\n",
    "                                               extra_kwargs=extra_kwargs,\n",
    "                                               **query_kwargs)\n",
    "            df_chunk_punct = realign_punctuated_text(\n",
    "                df_chunk, text_punct, **ifnone(align_kwargs, {})\n",
    "            )\n",
    "            # Use 'values' attribute because realignment func resets index.\n",
    "            self.df_punct.loc[idx, 'text'] = df_chunk_punct.text.values\n",
    "        return self.df_punct.loc[start_idx:end_idx, :]\n",
    "    \n",
    "    @staticmethod\n",
    "    def na_index_chunks(chunk) -> list:\n",
    "        \"\"\"Given a chunk of a df that may contain null text rows, return a \n",
    "        list of lists where each nested list contains the indices of a \n",
    "        contiguous chunk of null rows.\n",
    "        \"\"\"\n",
    "        nans = chunk[chunk.text.isnull()]\n",
    "        if nans.empty: return []\n",
    "        last_idx = nans.index[-1]\n",
    "        res = []\n",
    "        curr_chunk = []\n",
    "        prev = None\n",
    "        for idx in nans.index:\n",
    "            if prev is None or (idx == prev + 1): \n",
    "                curr_chunk.append(idx)\n",
    "            else:\n",
    "                res.append(curr_chunk)\n",
    "                curr_chunk = [idx]\n",
    "            if idx == last_idx:\n",
    "                res.append(curr_chunk)\n",
    "            prev = idx\n",
    "        return res"
   ]
  },
  {
   "cell_type": "code",
   "execution_count": 1789,
   "metadata": {
    "ExecuteTime": {
     "end_time": "2021-05-06T03:58:01.126150Z",
     "start_time": "2021-05-06T03:58:01.080432Z"
    }
   },
   "outputs": [],
   "source": [
    "class PunctuatedTranscript:\n",
    "    \n",
    "    def __init__(self, df_gen, df_punct, **kwargs):\n",
    "        \"\"\"\n",
    "        kwargs:\n",
    "            Just for compatibility with UnpunctuatedTranscript, which needs\n",
    "            these to specify args like 'rstrip' when loading a prompt.\n",
    "        \"\"\"\n",
    "        self.df_gen = df_gen\n",
    "        self.df_punct = df_punct\n",
    "        \n",
    "    @property\n",
    "    def df(self):\n",
    "        return self.df_punct\n",
    "    \n",
    "    def punctuated_chunk(self, start_idx, end_idx, **kwargs):\n",
    "        return self.df_punct.loc[start_idx:end_idx, :]"
   ]
  },
  {
   "cell_type": "code",
   "execution_count": 1790,
   "metadata": {
    "ExecuteTime": {
     "end_time": "2021-05-06T03:58:01.618934Z",
     "start_time": "2021-05-06T03:58:01.385313Z"
    }
   },
   "outputs": [],
   "source": [
    "@auto_repr\n",
    "class Transcript:\n",
    "    \n",
    "    def __init__(self, url, **kwargs):\n",
    "        self.url = url\n",
    "        self.id = video_id(url)\n",
    "        self._transcript = self._fetch_transcripts(url, **kwargs)\n",
    "        self.is_generated = isinstance(self._transcript,\n",
    "                                       UnpunctuatedTranscript)\n",
    "        # These are technically the start times for the first and last time \n",
    "        # segments, which are slightly different from the video start and end\n",
    "        # times.\n",
    "        self.start_time, self.end_time = self.df.start.ends(1)\n",
    "            \n",
    "#     def _time_range(self, start, end, full_sentences=True):\n",
    "#         assert end > start, 'End time must be later than start time.'\n",
    "#         assert start >= 0 and end >= 0, 'Times must be non-negative.'\n",
    "\n",
    "#         df = self.df\n",
    "#         if start < self.start_time:\n",
    "#             start_idx = 0\n",
    "#         else:\n",
    "#             start_idx = df.loc[df.start <= start].index[-1]\n",
    "\n",
    "#         if end > df.start.iloc[-1]:\n",
    "#             end_idx = df.tail(1).index[0]\n",
    "#         else:\n",
    "#             end_idx = df.loc[df.start >= end].index[0]\n",
    "#         return df.iloc[start_idx:end_idx+1]\n",
    "    \n",
    "    # TODO: trying to add full_sentences functionality\n",
    "    def _time_range(self, start, end):\n",
    "        assert end > start, 'End time must be later than start time.'\n",
    "        assert start >= 0 and end >= 0, 'Times must be non-negative.'\n",
    "\n",
    "        df = self.df\n",
    "        if start < self.start_time:\n",
    "            start_idx = 0\n",
    "        else:\n",
    "            start_idx = df.loc[df.start <= start].index[-1]\n",
    "\n",
    "        if end > df.start.iloc[-1]:\n",
    "            end_idx = df.tail(1).index[0]\n",
    "        else:\n",
    "            end_idx = df.loc[df.start >= end].index[0]\n",
    "        return df.iloc[start_idx:end_idx+1]\n",
    "    \n",
    "#     def time_range(self, start, end, punctuate=False, full_sentences=True,\n",
    "#                    align_kwargs=None, **query_kwargs):\n",
    "#         chunk = self._time_range(start, end, full_sentences=full_sentences)\n",
    "#         return self._transcript.punctuated_chunk(*chunk.ends(1).index, \n",
    "#                                                  punctuate=punctuate,\n",
    "#                                                  align_kwargs=align_kwargs,\n",
    "#                                                  **query_kwargs)\n",
    "\n",
    "    # TODO: deciding how to add full_sentences functionality. Note that this\n",
    "    # version also adds extra_kwargs for unrelated reasons.\n",
    "    def time_range(self, start, end, punctuate=False, align_kwargs=None,\n",
    "                   extra_kwargs=None, **query_kwargs):\n",
    "        chunk = self._time_range(start, end)\n",
    "        return self._transcript.punctuated_chunk(*chunk.ends(1).index, \n",
    "                                                 punctuate=punctuate,\n",
    "                                                 align_kwargs=align_kwargs,\n",
    "                                                 extra_kwargs=extra_kwargs,\n",
    "                                                 **query_kwargs)\n",
    "        \n",
    "    def time_range_str(self, start, end, punctuate=False, full_sentences=True,\n",
    "                       margin=3, align_kwargs=None, extra_kwargs=None, \n",
    "                       **query_kwargs):\n",
    "        # Values outside the acceptable range are handled later anyway. Widen\n",
    "        # our candidate window so we can trim off partial sentences. May need\n",
    "        # to experiment with right adjustment size.\n",
    "        if full_sentences:\n",
    "            start = max(0, start - margin)\n",
    "            end += margin\n",
    "        \n",
    "        rows = self.time_range(start, end, punctuate=punctuate,\n",
    "                               align_kwargs=align_kwargs,\n",
    "                               extra_kwargs=extra_kwargs, **query_kwargs)\n",
    "        text = ' '.join(rows.text.values)\n",
    "        if not full_sentences:\n",
    "            return text\n",
    "        return self._full_sentences(text)\n",
    "    \n",
    "    @staticmethod\n",
    "    def _full_sentences(text, chars=('.', '!', '?')):\n",
    "        first_upper = re.search('[A-Z]', text)\n",
    "        start_idx = 0 if first_upper is None else first_upper.start()\n",
    "        # Rfind returns -1 for missing chars.\n",
    "        end_idx = max(text.rfind(char) for char in chars)\n",
    "        end_idx = None if end_idx == -1 else end_idx + 1\n",
    "        return text[start_idx:end_idx]\n",
    "    \n",
    "    @property\n",
    "    def df(self):\n",
    "        return self._transcript.df\n",
    "    \n",
    "    def _fetch_transcripts(self, url, **kwargs):\n",
    "        \"\"\"Wrapper to fetch youtube transcripts and create the appropriate\n",
    "        transcript object depending on whether a manually generated (i.e.\n",
    "        punctuated) transcript was retrieved.\n",
    "        \n",
    "        Parameters\n",
    "        ----------\n",
    "        url: str\n",
    "        verbose: bool\n",
    "        \"\"\"\n",
    "        df_gen, df_man, _ = self.get_transcripts(\n",
    "            url, verbose=kwargs.get('verbose', True)\n",
    "        )\n",
    "        if df_man is None:\n",
    "            return UnpunctuatedTranscript(df_gen, **kwargs)\n",
    "        else:\n",
    "            return PunctuatedTranscript(df_gen, df_man, **kwargs)\n",
    "        \n",
    "    @staticmethod\n",
    "    def get_transcripts(url, verbose=True):\n",
    "        \"\"\"Fetch one or more transcripts for a youtube video given its URL.\n",
    "\n",
    "        Parameters\n",
    "        ----------\n",
    "        url: str\n",
    "            Don't include any channel-related suffix. E.G. use\n",
    "            https://www.youtube.com/watch?v=OZbCRN3C_Hs, not\n",
    "            https://www.youtube.com/watch?v=OZbCRN3C_Hs&ab_channel=BBC.\n",
    "        verbose: bool\n",
    "            Warn\n",
    "\n",
    "        Returns\n",
    "        -------\n",
    "        DotDict: Contains keys 'id' (maps to video ID str), 'generated',\n",
    "        and 'manual' (the latter two lap to pandas dfs or None if no \n",
    "        transcript was found). Manual transcripts are human-created.\n",
    "        Generated transcripts are a bit lower quality and tend to lack\n",
    "        punctuation.\n",
    "        \"\"\"\n",
    "        langs = ['en', 'en-GB']\n",
    "        id_ = video_id(url)\n",
    "        res = {'generated': None, 'manual': None}\n",
    "        trans_list = YouTubeTranscriptApi.list_transcripts(id_)\n",
    "        res['generated'] = trans_list.find_generated_transcript(langs)\n",
    "        try:\n",
    "            res['manual'] = trans_list.find_manually_created_transcript(langs)\n",
    "        except NoTranscriptFound:\n",
    "            if verbose: warnings.warn('No manual transcript found.')\n",
    "        if verbose:\n",
    "            non_eng = [k for k, v in res.items()\n",
    "                       if v and ('United Kingdom' in v.language)]\n",
    "            if non_eng:\n",
    "                warnings.warn(\n",
    "                    f'{non_eng} {\"has\" if len(non_eng) == 1 else \"have\"} '\n",
    "                    'language en-GB, not en.'\n",
    "                )\n",
    "        return Args(**{k: pd.DataFrame(v.fetch()) if v else v \n",
    "                       for k, v in res.items()},\n",
    "                    id=id_)\n",
    "    \n",
    "    def __str__(self):\n",
    "        return f'{type(self).__name__}(url={self.url}, '\\\n",
    "               f'is_generated={self.is_generated})'"
   ]
  },
  {
   "cell_type": "code",
   "execution_count": 1791,
   "metadata": {
    "ExecuteTime": {
     "end_time": "2021-05-06T03:58:01.701763Z",
     "start_time": "2021-05-06T03:58:01.627743Z"
    }
   },
   "outputs": [],
   "source": [
    "gen_url = 'https://www.youtube.com/watch?v=AtTsn1Ia4JY&ab_channel=LukeThomas'\n",
    "man_url = 'https://www.youtube.com/watch?v=NNnIGh9g6fA'"
   ]
  },
  {
   "cell_type": "code",
   "execution_count": 1792,
   "metadata": {
    "ExecuteTime": {
     "end_time": "2021-05-06T03:58:02.839000Z",
     "start_time": "2021-05-06T03:58:01.720247Z"
    }
   },
   "outputs": [
    {
     "name": "stderr",
     "output_type": "stream",
     "text": [
      "/Users/hmamin/anaconda3/lib/python3.7/site-packages/ipykernel_launcher.py:145: UserWarning: No manual transcript found.\n"
     ]
    },
    {
     "data": {
      "text/plain": [
       "Transcript(url='https://www.youtube.com/watch?v=AtTsn1Ia4JY&ab_channel=LukeThomas')"
      ]
     },
     "execution_count": 1792,
     "metadata": {},
     "output_type": "execute_result"
    }
   ],
   "source": [
    "trans_gen = Transcript(gen_url)\n",
    "trans_gen"
   ]
  },
  {
   "cell_type": "code",
   "execution_count": 1793,
   "metadata": {
    "ExecuteTime": {
     "end_time": "2021-05-06T03:58:04.048651Z",
     "start_time": "2021-05-06T03:58:02.840966Z"
    }
   },
   "outputs": [
    {
     "data": {
      "text/plain": [
       "Transcript(url='https://www.youtube.com/watch?v=NNnIGh9g6fA')"
      ]
     },
     "execution_count": 1793,
     "metadata": {},
     "output_type": "execute_result"
    }
   ],
   "source": [
    "trans_man = Transcript(man_url)\n",
    "trans_man"
   ]
  },
  {
   "cell_type": "code",
   "execution_count": 1794,
   "metadata": {
    "ExecuteTime": {
     "end_time": "2021-05-06T03:58:20.790043Z",
     "start_time": "2021-05-06T03:58:20.741631Z"
    }
   },
   "outputs": [
    {
     "data": {
      "text/html": [
       "<div>\n",
       "<style scoped>\n",
       "    .dataframe tbody tr th:only-of-type {\n",
       "        vertical-align: middle;\n",
       "    }\n",
       "\n",
       "    .dataframe tbody tr th {\n",
       "        vertical-align: top;\n",
       "    }\n",
       "\n",
       "    .dataframe thead th {\n",
       "        text-align: right;\n",
       "    }\n",
       "</style>\n",
       "<table border=\"1\" class=\"dataframe\">\n",
       "  <thead>\n",
       "    <tr style=\"text-align: right;\">\n",
       "      <th></th>\n",
       "      <th>text</th>\n",
       "      <th>start</th>\n",
       "      <th>duration</th>\n",
       "    </tr>\n",
       "  </thead>\n",
       "  <tbody>\n",
       "    <tr>\n",
       "      <th>14</th>\n",
       "      <td>takes exception to it,\\npunches him in the face.</td>\n",
       "      <td>42.95</td>\n",
       "      <td>2.69</td>\n",
       "    </tr>\n",
       "    <tr>\n",
       "      <th>15</th>\n",
       "      <td>Utterly strange.</td>\n",
       "      <td>45.64</td>\n",
       "      <td>2.09</td>\n",
       "    </tr>\n",
       "    <tr>\n",
       "      <th>16</th>\n",
       "      <td>Things are quiet.</td>\n",
       "      <td>47.73</td>\n",
       "      <td>1.42</td>\n",
       "    </tr>\n",
       "    <tr>\n",
       "      <th>17</th>\n",
       "      <td>Three months later, his wife\\nof 15 years happ...</td>\n",
       "      <td>49.15</td>\n",
       "      <td>3.24</td>\n",
       "    </tr>\n",
       "    <tr>\n",
       "      <th>18</th>\n",
       "      <td>discovers he's having an affair\\nwith a 16-yea...</td>\n",
       "      <td>52.39</td>\n",
       "      <td>3.26</td>\n",
       "    </tr>\n",
       "  </tbody>\n",
       "</table>\n",
       "</div>"
      ],
      "text/plain": [
       "                                                 text  start  duration\n",
       "14   takes exception to it,\\npunches him in the face.  42.95      2.69\n",
       "15                                   Utterly strange.  45.64      2.09\n",
       "16                                  Things are quiet.  47.73      1.42\n",
       "17  Three months later, his wife\\nof 15 years happ...  49.15      3.24\n",
       "18  discovers he's having an affair\\nwith a 16-yea...  52.39      3.26"
      ]
     },
     "execution_count": 1794,
     "metadata": {},
     "output_type": "execute_result"
    }
   ],
   "source": [
    "trans_man.time_range(43, 50)"
   ]
  },
  {
   "cell_type": "code",
   "execution_count": 1795,
   "metadata": {
    "ExecuteTime": {
     "end_time": "2021-05-06T03:58:21.737239Z",
     "start_time": "2021-05-06T03:58:21.704236Z"
    }
   },
   "outputs": [
    {
     "name": "stdout",
     "output_type": "stream",
     "text": [
      "The guy is standing\n",
      "there by the water cooler and makes some comment\n",
      "on some baseball team, takes exception to it,\n",
      "punches him in the face. Utterly strange. Things are quiet. Three months later, his wife\n",
      "of 15 years happy marriage discovers he's having an affair\n",
      "with a 16-year-old checkout kid down at the Safeway.\n"
     ]
    }
   ],
   "source": [
    "print(trans_man.time_range_str(43, 50))"
   ]
  },
  {
   "cell_type": "code",
   "execution_count": 1796,
   "metadata": {
    "ExecuteTime": {
     "end_time": "2021-05-06T03:58:23.188165Z",
     "start_time": "2021-05-06T03:58:23.153113Z"
    }
   },
   "outputs": [
    {
     "name": "stdout",
     "output_type": "stream",
     "text": [
      "takes exception to it,\n",
      "punches him in the face. Utterly strange. Things are quiet. Three months later, his wife\n",
      "of 15 years happy marriage discovers he's having an affair\n",
      "with a 16-year-old checkout\n"
     ]
    }
   ],
   "source": [
    "print(trans_man.time_range_str(43, 50, full_sentences=False))"
   ]
  },
  {
   "cell_type": "code",
   "execution_count": 1797,
   "metadata": {
    "ExecuteTime": {
     "end_time": "2021-05-06T03:58:24.339007Z",
     "start_time": "2021-05-06T03:58:24.300975Z"
    }
   },
   "outputs": [
    {
     "data": {
      "text/html": [
       "<div>\n",
       "<style scoped>\n",
       "    .dataframe tbody tr th:only-of-type {\n",
       "        vertical-align: middle;\n",
       "    }\n",
       "\n",
       "    .dataframe tbody tr th {\n",
       "        vertical-align: top;\n",
       "    }\n",
       "\n",
       "    .dataframe thead th {\n",
       "        text-align: right;\n",
       "    }\n",
       "</style>\n",
       "<table border=\"1\" class=\"dataframe\">\n",
       "  <thead>\n",
       "    <tr style=\"text-align: right;\">\n",
       "      <th></th>\n",
       "      <th>text</th>\n",
       "      <th>start</th>\n",
       "      <th>duration</th>\n",
       "    </tr>\n",
       "  </thead>\n",
       "  <tbody>\n",
       "    <tr>\n",
       "      <th>35</th>\n",
       "      <td>stuff but there is</td>\n",
       "      <td>58.879</td>\n",
       "      <td>2.801</td>\n",
       "    </tr>\n",
       "    <tr>\n",
       "      <th>36</th>\n",
       "      <td>a little bit more to the story what was</td>\n",
       "      <td>60.160</td>\n",
       "      <td>3.440</td>\n",
       "    </tr>\n",
       "    <tr>\n",
       "      <th>37</th>\n",
       "      <td>dan hooker trying what was his</td>\n",
       "      <td>61.680</td>\n",
       "      <td>3.839</td>\n",
       "    </tr>\n",
       "    <tr>\n",
       "      <th>38</th>\n",
       "      <td>game plan here and more to the point</td>\n",
       "      <td>63.600</td>\n",
       "      <td>4.160</td>\n",
       "    </tr>\n",
       "    <tr>\n",
       "      <th>39</th>\n",
       "      <td>there are some finer details to that</td>\n",
       "      <td>65.519</td>\n",
       "      <td>3.121</td>\n",
       "    </tr>\n",
       "    <tr>\n",
       "      <th>40</th>\n",
       "      <td>finish that</td>\n",
       "      <td>67.760</td>\n",
       "      <td>3.520</td>\n",
       "    </tr>\n",
       "    <tr>\n",
       "      <th>41</th>\n",
       "      <td>really deserve to get mentioned and i</td>\n",
       "      <td>68.640</td>\n",
       "      <td>4.080</td>\n",
       "    </tr>\n",
       "    <tr>\n",
       "      <th>42</th>\n",
       "      <td>don't know exactly how far</td>\n",
       "      <td>71.280</td>\n",
       "      <td>2.640</td>\n",
       "    </tr>\n",
       "  </tbody>\n",
       "</table>\n",
       "</div>"
      ],
      "text/plain": [
       "                                       text   start  duration\n",
       "35                       stuff but there is  58.879     2.801\n",
       "36  a little bit more to the story what was  60.160     3.440\n",
       "37           dan hooker trying what was his  61.680     3.839\n",
       "38     game plan here and more to the point  63.600     4.160\n",
       "39     there are some finer details to that  65.519     3.121\n",
       "40                              finish that  67.760     3.520\n",
       "41    really deserve to get mentioned and i  68.640     4.080\n",
       "42               don't know exactly how far  71.280     2.640"
      ]
     },
     "execution_count": 1797,
     "metadata": {},
     "output_type": "execute_result"
    }
   ],
   "source": [
    "trans_gen._time_range(60, 70)"
   ]
  },
  {
   "cell_type": "code",
   "execution_count": 1798,
   "metadata": {
    "ExecuteTime": {
     "end_time": "2021-05-06T03:58:26.459484Z",
     "start_time": "2021-05-06T03:58:26.417862Z"
    }
   },
   "outputs": [
    {
     "data": {
      "text/html": [
       "<div>\n",
       "<style scoped>\n",
       "    .dataframe tbody tr th:only-of-type {\n",
       "        vertical-align: middle;\n",
       "    }\n",
       "\n",
       "    .dataframe tbody tr th {\n",
       "        vertical-align: top;\n",
       "    }\n",
       "\n",
       "    .dataframe thead th {\n",
       "        text-align: right;\n",
       "    }\n",
       "</style>\n",
       "<table border=\"1\" class=\"dataframe\">\n",
       "  <thead>\n",
       "    <tr style=\"text-align: right;\">\n",
       "      <th></th>\n",
       "      <th>text</th>\n",
       "      <th>start</th>\n",
       "      <th>duration</th>\n",
       "    </tr>\n",
       "  </thead>\n",
       "  <tbody>\n",
       "    <tr>\n",
       "      <th>35</th>\n",
       "      <td>stuff but there is</td>\n",
       "      <td>58.879</td>\n",
       "      <td>2.801</td>\n",
       "    </tr>\n",
       "    <tr>\n",
       "      <th>36</th>\n",
       "      <td>a little bit more to the story what was</td>\n",
       "      <td>60.160</td>\n",
       "      <td>3.440</td>\n",
       "    </tr>\n",
       "    <tr>\n",
       "      <th>37</th>\n",
       "      <td>dan hooker trying what was his</td>\n",
       "      <td>61.680</td>\n",
       "      <td>3.839</td>\n",
       "    </tr>\n",
       "    <tr>\n",
       "      <th>38</th>\n",
       "      <td>game plan here and more to the point</td>\n",
       "      <td>63.600</td>\n",
       "      <td>4.160</td>\n",
       "    </tr>\n",
       "    <tr>\n",
       "      <th>39</th>\n",
       "      <td>there are some finer details to that</td>\n",
       "      <td>65.519</td>\n",
       "      <td>3.121</td>\n",
       "    </tr>\n",
       "    <tr>\n",
       "      <th>40</th>\n",
       "      <td>finish that</td>\n",
       "      <td>67.760</td>\n",
       "      <td>3.520</td>\n",
       "    </tr>\n",
       "    <tr>\n",
       "      <th>41</th>\n",
       "      <td>really deserve to get mentioned and i</td>\n",
       "      <td>68.640</td>\n",
       "      <td>4.080</td>\n",
       "    </tr>\n",
       "    <tr>\n",
       "      <th>42</th>\n",
       "      <td>don't know exactly how far</td>\n",
       "      <td>71.280</td>\n",
       "      <td>2.640</td>\n",
       "    </tr>\n",
       "  </tbody>\n",
       "</table>\n",
       "</div>"
      ],
      "text/plain": [
       "                                       text   start  duration\n",
       "35                       stuff but there is  58.879     2.801\n",
       "36  a little bit more to the story what was  60.160     3.440\n",
       "37           dan hooker trying what was his  61.680     3.839\n",
       "38     game plan here and more to the point  63.600     4.160\n",
       "39     there are some finer details to that  65.519     3.121\n",
       "40                              finish that  67.760     3.520\n",
       "41    really deserve to get mentioned and i  68.640     4.080\n",
       "42               don't know exactly how far  71.280     2.640"
      ]
     },
     "execution_count": 1798,
     "metadata": {},
     "output_type": "execute_result"
    }
   ],
   "source": [
    "trans_gen.time_range(60, 70)"
   ]
  },
  {
   "cell_type": "code",
   "execution_count": 1799,
   "metadata": {
    "ExecuteTime": {
     "end_time": "2021-05-06T03:58:29.056845Z",
     "start_time": "2021-05-06T03:58:27.600767Z"
    }
   },
   "outputs": [
    {
     "name": "stderr",
     "output_type": "stream",
     "text": [
      "/Users/hmamin/jabberwocky/lib/jabberwocky/core.py:255: UserWarning: Max score < 80. Your rows may have gotten misaligned at row 37: dan hooker trying what was his\n",
      "  'Max score < 80. Your rows may have gotten misaligned '\n"
     ]
    },
    {
     "data": {
      "text/html": [
       "<div>\n",
       "<style scoped>\n",
       "    .dataframe tbody tr th:only-of-type {\n",
       "        vertical-align: middle;\n",
       "    }\n",
       "\n",
       "    .dataframe tbody tr th {\n",
       "        vertical-align: top;\n",
       "    }\n",
       "\n",
       "    .dataframe thead th {\n",
       "        text-align: right;\n",
       "    }\n",
       "</style>\n",
       "<table border=\"1\" class=\"dataframe\">\n",
       "  <thead>\n",
       "    <tr style=\"text-align: right;\">\n",
       "      <th></th>\n",
       "      <th>text</th>\n",
       "      <th>start</th>\n",
       "      <th>duration</th>\n",
       "    </tr>\n",
       "  </thead>\n",
       "  <tbody>\n",
       "    <tr>\n",
       "      <th>35</th>\n",
       "      <td>stuff but there is</td>\n",
       "      <td>58.879</td>\n",
       "      <td>2.801</td>\n",
       "    </tr>\n",
       "    <tr>\n",
       "      <th>36</th>\n",
       "      <td>a little bit more to the story. What was</td>\n",
       "      <td>60.160</td>\n",
       "      <td>3.440</td>\n",
       "    </tr>\n",
       "    <tr>\n",
       "      <th>37</th>\n",
       "      <td>Dan Hooker</td>\n",
       "      <td>61.680</td>\n",
       "      <td>3.839</td>\n",
       "    </tr>\n",
       "    <tr>\n",
       "      <th>38</th>\n",
       "      <td>trying to do here? And more to the point,</td>\n",
       "      <td>63.600</td>\n",
       "      <td>4.160</td>\n",
       "    </tr>\n",
       "    <tr>\n",
       "      <th>39</th>\n",
       "      <td>there are some finer details to that</td>\n",
       "      <td>65.519</td>\n",
       "      <td>3.121</td>\n",
       "    </tr>\n",
       "    <tr>\n",
       "      <th>40</th>\n",
       "      <td>finish that</td>\n",
       "      <td>67.760</td>\n",
       "      <td>3.520</td>\n",
       "    </tr>\n",
       "    <tr>\n",
       "      <th>41</th>\n",
       "      <td>really deserve to get mentioned and I</td>\n",
       "      <td>68.640</td>\n",
       "      <td>4.080</td>\n",
       "    </tr>\n",
       "    <tr>\n",
       "      <th>42</th>\n",
       "      <td>don't know exactly how far</td>\n",
       "      <td>71.280</td>\n",
       "      <td>2.640</td>\n",
       "    </tr>\n",
       "  </tbody>\n",
       "</table>\n",
       "</div>"
      ],
      "text/plain": [
       "                                         text   start  duration\n",
       "35                         stuff but there is  58.879     2.801\n",
       "36   a little bit more to the story. What was  60.160     3.440\n",
       "37                                 Dan Hooker  61.680     3.839\n",
       "38  trying to do here? And more to the point,  63.600     4.160\n",
       "39       there are some finer details to that  65.519     3.121\n",
       "40                                finish that  67.760     3.520\n",
       "41      really deserve to get mentioned and I  68.640     4.080\n",
       "42                 don't know exactly how far  71.280     2.640"
      ]
     },
     "execution_count": 1799,
     "metadata": {},
     "output_type": "execute_result"
    }
   ],
   "source": [
    "trans_gen.time_range(60, 70, punctuate=True)"
   ]
  },
  {
   "cell_type": "code",
   "execution_count": 1800,
   "metadata": {
    "ExecuteTime": {
     "end_time": "2021-05-06T03:58:32.749916Z",
     "start_time": "2021-05-06T03:58:31.648654Z"
    }
   },
   "outputs": [
    {
     "name": "stderr",
     "output_type": "stream",
     "text": [
      "/Users/hmamin/jabberwocky/lib/jabberwocky/core.py:255: UserWarning: Max score < 80. Your rows may have gotten misaligned at row 30: at like what happened to be like oh\n",
      "  'Max score < 80. Your rows may have gotten misaligned '\n",
      "/Users/hmamin/jabberwocky/lib/jabberwocky/core.py:255: UserWarning: Max score < 80. Your rows may have gotten misaligned at row 31: michael chandler him with a big ass\n",
      "  'Max score < 80. Your rows may have gotten misaligned '\n",
      "/Users/hmamin/jabberwocky/lib/jabberwocky/core.py:255: UserWarning: Max score < 80. Your rows may have gotten misaligned at row 32: punch\n",
      "  'Max score < 80. Your rows may have gotten misaligned '\n",
      "/Users/hmamin/jabberwocky/lib/jabberwocky/core.py:255: UserWarning: Max score < 80. Your rows may have gotten misaligned at row 34: went high and then all that kind of\n",
      "  'Max score < 80. Your rows may have gotten misaligned '\n",
      "/Users/hmamin/jabberwocky/lib/jabberwocky/core.py:255: UserWarning: Max score < 80. Your rows may have gotten misaligned at row 45: he was early in bellator in his you know\n",
      "  'Max score < 80. Your rows may have gotten misaligned '\n",
      "/Users/hmamin/jabberwocky/lib/jabberwocky/core.py:255: UserWarning: Max score < 80. Your rows may have gotten misaligned at row 47: he's way better now way better now and\n",
      "  'Max score < 80. Your rows may have gotten misaligned '\n"
     ]
    },
    {
     "data": {
      "text/html": [
       "<div>\n",
       "<style scoped>\n",
       "    .dataframe tbody tr th:only-of-type {\n",
       "        vertical-align: middle;\n",
       "    }\n",
       "\n",
       "    .dataframe tbody tr th {\n",
       "        vertical-align: top;\n",
       "    }\n",
       "\n",
       "    .dataframe thead th {\n",
       "        text-align: right;\n",
       "    }\n",
       "</style>\n",
       "<table border=\"1\" class=\"dataframe\">\n",
       "  <thead>\n",
       "    <tr style=\"text-align: right;\">\n",
       "      <th></th>\n",
       "      <th>text</th>\n",
       "      <th>start</th>\n",
       "      <th>duration</th>\n",
       "    </tr>\n",
       "  </thead>\n",
       "  <tbody>\n",
       "    <tr>\n",
       "      <th>28</th>\n",
       "      <td>and um as always, the devil is in the</td>\n",
       "      <td>49.280</td>\n",
       "      <td>4.240</td>\n",
       "    </tr>\n",
       "    <tr>\n",
       "      <th>29</th>\n",
       "      <td>details it doesn't take a genius to look</td>\n",
       "      <td>51.840</td>\n",
       "      <td>2.960</td>\n",
       "    </tr>\n",
       "    <tr>\n",
       "      <th>30</th>\n",
       "      <td>at like what</td>\n",
       "      <td>53.520</td>\n",
       "      <td>2.480</td>\n",
       "    </tr>\n",
       "    <tr>\n",
       "      <th>31</th>\n",
       "      <td>happened to be like, Michael Chandler, him with a</td>\n",
       "      <td>54.800</td>\n",
       "      <td>1.680</td>\n",
       "    </tr>\n",
       "    <tr>\n",
       "      <th>32</th>\n",
       "      <td>big ass punch,</td>\n",
       "      <td>56.000</td>\n",
       "      <td>1.760</td>\n",
       "    </tr>\n",
       "    <tr>\n",
       "      <th>33</th>\n",
       "      <td>you know, and kind of faded low and then</td>\n",
       "      <td>56.480</td>\n",
       "      <td>2.399</td>\n",
       "    </tr>\n",
       "    <tr>\n",
       "      <th>34</th>\n",
       "      <td>went high and</td>\n",
       "      <td>57.760</td>\n",
       "      <td>2.400</td>\n",
       "    </tr>\n",
       "    <tr>\n",
       "      <th>35</th>\n",
       "      <td>stuff but there is</td>\n",
       "      <td>58.879</td>\n",
       "      <td>2.801</td>\n",
       "    </tr>\n",
       "    <tr>\n",
       "      <th>36</th>\n",
       "      <td>a little bit more to the story. What was</td>\n",
       "      <td>60.160</td>\n",
       "      <td>3.440</td>\n",
       "    </tr>\n",
       "    <tr>\n",
       "      <th>37</th>\n",
       "      <td>Dan Hooker</td>\n",
       "      <td>61.680</td>\n",
       "      <td>3.839</td>\n",
       "    </tr>\n",
       "    <tr>\n",
       "      <th>38</th>\n",
       "      <td>trying to do here? And more to the point,</td>\n",
       "      <td>63.600</td>\n",
       "      <td>4.160</td>\n",
       "    </tr>\n",
       "    <tr>\n",
       "      <th>39</th>\n",
       "      <td>there are some finer details to that</td>\n",
       "      <td>65.519</td>\n",
       "      <td>3.121</td>\n",
       "    </tr>\n",
       "    <tr>\n",
       "      <th>40</th>\n",
       "      <td>finish that</td>\n",
       "      <td>67.760</td>\n",
       "      <td>3.520</td>\n",
       "    </tr>\n",
       "    <tr>\n",
       "      <th>41</th>\n",
       "      <td>really deserve to get mentioned and I</td>\n",
       "      <td>68.640</td>\n",
       "      <td>4.080</td>\n",
       "    </tr>\n",
       "    <tr>\n",
       "      <th>42</th>\n",
       "      <td>don't know exactly how far</td>\n",
       "      <td>71.280</td>\n",
       "      <td>2.640</td>\n",
       "    </tr>\n",
       "    <tr>\n",
       "      <th>43</th>\n",
       "      <td>michael chandler's going to go in the</td>\n",
       "      <td>72.720</td>\n",
       "      <td>4.079</td>\n",
       "    </tr>\n",
       "    <tr>\n",
       "      <th>44</th>\n",
       "      <td>ufc, but I do know that like however good</td>\n",
       "      <td>73.920</td>\n",
       "      <td>4.960</td>\n",
       "    </tr>\n",
       "    <tr>\n",
       "      <th>45</th>\n",
       "      <td>he was early in</td>\n",
       "      <td>76.799</td>\n",
       "      <td>3.921</td>\n",
       "    </tr>\n",
       "    <tr>\n",
       "      <th>46</th>\n",
       "      <td>bellator in his early run over there,</td>\n",
       "      <td>78.880</td>\n",
       "      <td>4.720</td>\n",
       "    </tr>\n",
       "    <tr>\n",
       "      <th>47</th>\n",
       "      <td>he's way better now, way</td>\n",
       "      <td>80.720</td>\n",
       "      <td>4.079</td>\n",
       "    </tr>\n",
       "  </tbody>\n",
       "</table>\n",
       "</div>"
      ],
      "text/plain": [
       "                                                 text   start  duration\n",
       "28              and um as always, the devil is in the  49.280     4.240\n",
       "29           details it doesn't take a genius to look  51.840     2.960\n",
       "30                                       at like what  53.520     2.480\n",
       "31  happened to be like, Michael Chandler, him with a  54.800     1.680\n",
       "32                                     big ass punch,  56.000     1.760\n",
       "33           you know, and kind of faded low and then  56.480     2.399\n",
       "34                                      went high and  57.760     2.400\n",
       "35                                 stuff but there is  58.879     2.801\n",
       "36           a little bit more to the story. What was  60.160     3.440\n",
       "37                                         Dan Hooker  61.680     3.839\n",
       "38          trying to do here? And more to the point,  63.600     4.160\n",
       "39               there are some finer details to that  65.519     3.121\n",
       "40                                        finish that  67.760     3.520\n",
       "41              really deserve to get mentioned and I  68.640     4.080\n",
       "42                         don't know exactly how far  71.280     2.640\n",
       "43              michael chandler's going to go in the  72.720     4.079\n",
       "44          ufc, but I do know that like however good  73.920     4.960\n",
       "45                                    he was early in  76.799     3.921\n",
       "46              bellator in his early run over there,  78.880     4.720\n",
       "47                           he's way better now, way  80.720     4.079"
      ]
     },
     "execution_count": 1800,
     "metadata": {},
     "output_type": "execute_result"
    }
   ],
   "source": [
    "trans_gen.time_range(50, 80, True)"
   ]
  },
  {
   "cell_type": "code",
   "execution_count": 1801,
   "metadata": {
    "ExecuteTime": {
     "end_time": "2021-05-06T03:58:38.237951Z",
     "start_time": "2021-05-06T03:58:38.195738Z"
    }
   },
   "outputs": [
    {
     "data": {
      "text/html": [
       "<div>\n",
       "<style scoped>\n",
       "    .dataframe tbody tr th:only-of-type {\n",
       "        vertical-align: middle;\n",
       "    }\n",
       "\n",
       "    .dataframe tbody tr th {\n",
       "        vertical-align: top;\n",
       "    }\n",
       "\n",
       "    .dataframe thead th {\n",
       "        text-align: right;\n",
       "    }\n",
       "</style>\n",
       "<table border=\"1\" class=\"dataframe\">\n",
       "  <thead>\n",
       "    <tr style=\"text-align: right;\">\n",
       "      <th></th>\n",
       "      <th>text</th>\n",
       "      <th>start</th>\n",
       "      <th>duration</th>\n",
       "    </tr>\n",
       "  </thead>\n",
       "  <tbody>\n",
       "    <tr>\n",
       "      <th>28</th>\n",
       "      <td>and um as always, the devil is in the</td>\n",
       "      <td>49.280</td>\n",
       "      <td>4.240</td>\n",
       "    </tr>\n",
       "    <tr>\n",
       "      <th>29</th>\n",
       "      <td>details it doesn't take a genius to look</td>\n",
       "      <td>51.840</td>\n",
       "      <td>2.960</td>\n",
       "    </tr>\n",
       "    <tr>\n",
       "      <th>30</th>\n",
       "      <td>at like what</td>\n",
       "      <td>53.520</td>\n",
       "      <td>2.480</td>\n",
       "    </tr>\n",
       "    <tr>\n",
       "      <th>31</th>\n",
       "      <td>happened to be like, Michael Chandler, him with a</td>\n",
       "      <td>54.800</td>\n",
       "      <td>1.680</td>\n",
       "    </tr>\n",
       "    <tr>\n",
       "      <th>32</th>\n",
       "      <td>big ass punch,</td>\n",
       "      <td>56.000</td>\n",
       "      <td>1.760</td>\n",
       "    </tr>\n",
       "    <tr>\n",
       "      <th>33</th>\n",
       "      <td>you know, and kind of faded low and then</td>\n",
       "      <td>56.480</td>\n",
       "      <td>2.399</td>\n",
       "    </tr>\n",
       "    <tr>\n",
       "      <th>34</th>\n",
       "      <td>went high and</td>\n",
       "      <td>57.760</td>\n",
       "      <td>2.400</td>\n",
       "    </tr>\n",
       "    <tr>\n",
       "      <th>35</th>\n",
       "      <td>stuff but there is</td>\n",
       "      <td>58.879</td>\n",
       "      <td>2.801</td>\n",
       "    </tr>\n",
       "    <tr>\n",
       "      <th>36</th>\n",
       "      <td>a little bit more to the story. What was</td>\n",
       "      <td>60.160</td>\n",
       "      <td>3.440</td>\n",
       "    </tr>\n",
       "    <tr>\n",
       "      <th>37</th>\n",
       "      <td>Dan Hooker</td>\n",
       "      <td>61.680</td>\n",
       "      <td>3.839</td>\n",
       "    </tr>\n",
       "    <tr>\n",
       "      <th>38</th>\n",
       "      <td>trying to do here? And more to the point,</td>\n",
       "      <td>63.600</td>\n",
       "      <td>4.160</td>\n",
       "    </tr>\n",
       "    <tr>\n",
       "      <th>39</th>\n",
       "      <td>there are some finer details to that</td>\n",
       "      <td>65.519</td>\n",
       "      <td>3.121</td>\n",
       "    </tr>\n",
       "    <tr>\n",
       "      <th>40</th>\n",
       "      <td>finish that</td>\n",
       "      <td>67.760</td>\n",
       "      <td>3.520</td>\n",
       "    </tr>\n",
       "    <tr>\n",
       "      <th>41</th>\n",
       "      <td>really deserve to get mentioned and I</td>\n",
       "      <td>68.640</td>\n",
       "      <td>4.080</td>\n",
       "    </tr>\n",
       "    <tr>\n",
       "      <th>42</th>\n",
       "      <td>don't know exactly how far</td>\n",
       "      <td>71.280</td>\n",
       "      <td>2.640</td>\n",
       "    </tr>\n",
       "    <tr>\n",
       "      <th>43</th>\n",
       "      <td>michael chandler's going to go in the</td>\n",
       "      <td>72.720</td>\n",
       "      <td>4.079</td>\n",
       "    </tr>\n",
       "    <tr>\n",
       "      <th>44</th>\n",
       "      <td>ufc, but I do know that like however good</td>\n",
       "      <td>73.920</td>\n",
       "      <td>4.960</td>\n",
       "    </tr>\n",
       "    <tr>\n",
       "      <th>45</th>\n",
       "      <td>he was early in</td>\n",
       "      <td>76.799</td>\n",
       "      <td>3.921</td>\n",
       "    </tr>\n",
       "    <tr>\n",
       "      <th>46</th>\n",
       "      <td>bellator in his early run over there,</td>\n",
       "      <td>78.880</td>\n",
       "      <td>4.720</td>\n",
       "    </tr>\n",
       "    <tr>\n",
       "      <th>47</th>\n",
       "      <td>he's way better now, way</td>\n",
       "      <td>80.720</td>\n",
       "      <td>4.079</td>\n",
       "    </tr>\n",
       "  </tbody>\n",
       "</table>\n",
       "</div>"
      ],
      "text/plain": [
       "                                                 text   start  duration\n",
       "28              and um as always, the devil is in the  49.280     4.240\n",
       "29           details it doesn't take a genius to look  51.840     2.960\n",
       "30                                       at like what  53.520     2.480\n",
       "31  happened to be like, Michael Chandler, him with a  54.800     1.680\n",
       "32                                     big ass punch,  56.000     1.760\n",
       "33           you know, and kind of faded low and then  56.480     2.399\n",
       "34                                      went high and  57.760     2.400\n",
       "35                                 stuff but there is  58.879     2.801\n",
       "36           a little bit more to the story. What was  60.160     3.440\n",
       "37                                         Dan Hooker  61.680     3.839\n",
       "38          trying to do here? And more to the point,  63.600     4.160\n",
       "39               there are some finer details to that  65.519     3.121\n",
       "40                                        finish that  67.760     3.520\n",
       "41              really deserve to get mentioned and I  68.640     4.080\n",
       "42                         don't know exactly how far  71.280     2.640\n",
       "43              michael chandler's going to go in the  72.720     4.079\n",
       "44          ufc, but I do know that like however good  73.920     4.960\n",
       "45                                    he was early in  76.799     3.921\n",
       "46              bellator in his early run over there,  78.880     4.720\n",
       "47                           he's way better now, way  80.720     4.079"
      ]
     },
     "execution_count": 1801,
     "metadata": {},
     "output_type": "execute_result"
    }
   ],
   "source": [
    "# Much faster this time because it's been pre-punctuated.\n",
    "trans_gen.time_range(50, 80, True)"
   ]
  },
  {
   "cell_type": "code",
   "execution_count": 1802,
   "metadata": {
    "ExecuteTime": {
     "end_time": "2021-05-06T03:58:50.097060Z",
     "start_time": "2021-05-06T03:58:50.056417Z"
    }
   },
   "outputs": [
    {
     "data": {
      "text/html": [
       "<div>\n",
       "<style scoped>\n",
       "    .dataframe tbody tr th:only-of-type {\n",
       "        vertical-align: middle;\n",
       "    }\n",
       "\n",
       "    .dataframe tbody tr th {\n",
       "        vertical-align: top;\n",
       "    }\n",
       "\n",
       "    .dataframe thead th {\n",
       "        text-align: right;\n",
       "    }\n",
       "</style>\n",
       "<table border=\"1\" class=\"dataframe\">\n",
       "  <thead>\n",
       "    <tr style=\"text-align: right;\">\n",
       "      <th></th>\n",
       "      <th>text</th>\n",
       "      <th>start</th>\n",
       "      <th>duration</th>\n",
       "    </tr>\n",
       "  </thead>\n",
       "  <tbody>\n",
       "    <tr>\n",
       "      <th>28</th>\n",
       "      <td>and um as always, the devil is in the</td>\n",
       "      <td>49.280</td>\n",
       "      <td>4.240</td>\n",
       "    </tr>\n",
       "    <tr>\n",
       "      <th>29</th>\n",
       "      <td>details it doesn't take a genius to look</td>\n",
       "      <td>51.840</td>\n",
       "      <td>2.960</td>\n",
       "    </tr>\n",
       "    <tr>\n",
       "      <th>30</th>\n",
       "      <td>at like what</td>\n",
       "      <td>53.520</td>\n",
       "      <td>2.480</td>\n",
       "    </tr>\n",
       "    <tr>\n",
       "      <th>31</th>\n",
       "      <td>happened to be like, Michael Chandler, him with a</td>\n",
       "      <td>54.800</td>\n",
       "      <td>1.680</td>\n",
       "    </tr>\n",
       "    <tr>\n",
       "      <th>32</th>\n",
       "      <td>big ass punch,</td>\n",
       "      <td>56.000</td>\n",
       "      <td>1.760</td>\n",
       "    </tr>\n",
       "    <tr>\n",
       "      <th>33</th>\n",
       "      <td>you know, and kind of faded low and then</td>\n",
       "      <td>56.480</td>\n",
       "      <td>2.399</td>\n",
       "    </tr>\n",
       "    <tr>\n",
       "      <th>34</th>\n",
       "      <td>went high and</td>\n",
       "      <td>57.760</td>\n",
       "      <td>2.400</td>\n",
       "    </tr>\n",
       "    <tr>\n",
       "      <th>35</th>\n",
       "      <td>stuff but there is</td>\n",
       "      <td>58.879</td>\n",
       "      <td>2.801</td>\n",
       "    </tr>\n",
       "    <tr>\n",
       "      <th>36</th>\n",
       "      <td>a little bit more to the story. What was</td>\n",
       "      <td>60.160</td>\n",
       "      <td>3.440</td>\n",
       "    </tr>\n",
       "    <tr>\n",
       "      <th>37</th>\n",
       "      <td>Dan Hooker</td>\n",
       "      <td>61.680</td>\n",
       "      <td>3.839</td>\n",
       "    </tr>\n",
       "    <tr>\n",
       "      <th>38</th>\n",
       "      <td>trying to do here? And more to the point,</td>\n",
       "      <td>63.600</td>\n",
       "      <td>4.160</td>\n",
       "    </tr>\n",
       "    <tr>\n",
       "      <th>39</th>\n",
       "      <td>there are some finer details to that</td>\n",
       "      <td>65.519</td>\n",
       "      <td>3.121</td>\n",
       "    </tr>\n",
       "    <tr>\n",
       "      <th>40</th>\n",
       "      <td>finish that</td>\n",
       "      <td>67.760</td>\n",
       "      <td>3.520</td>\n",
       "    </tr>\n",
       "    <tr>\n",
       "      <th>41</th>\n",
       "      <td>really deserve to get mentioned and I</td>\n",
       "      <td>68.640</td>\n",
       "      <td>4.080</td>\n",
       "    </tr>\n",
       "    <tr>\n",
       "      <th>42</th>\n",
       "      <td>don't know exactly how far</td>\n",
       "      <td>71.280</td>\n",
       "      <td>2.640</td>\n",
       "    </tr>\n",
       "    <tr>\n",
       "      <th>43</th>\n",
       "      <td>michael chandler's going to go in the</td>\n",
       "      <td>72.720</td>\n",
       "      <td>4.079</td>\n",
       "    </tr>\n",
       "    <tr>\n",
       "      <th>44</th>\n",
       "      <td>ufc, but I do know that like however good</td>\n",
       "      <td>73.920</td>\n",
       "      <td>4.960</td>\n",
       "    </tr>\n",
       "    <tr>\n",
       "      <th>45</th>\n",
       "      <td>he was early in</td>\n",
       "      <td>76.799</td>\n",
       "      <td>3.921</td>\n",
       "    </tr>\n",
       "    <tr>\n",
       "      <th>46</th>\n",
       "      <td>bellator in his early run over there,</td>\n",
       "      <td>78.880</td>\n",
       "      <td>4.720</td>\n",
       "    </tr>\n",
       "    <tr>\n",
       "      <th>47</th>\n",
       "      <td>he's way better now, way</td>\n",
       "      <td>80.720</td>\n",
       "      <td>4.079</td>\n",
       "    </tr>\n",
       "  </tbody>\n",
       "</table>\n",
       "</div>"
      ],
      "text/plain": [
       "                                                 text   start  duration\n",
       "28              and um as always, the devil is in the  49.280     4.240\n",
       "29           details it doesn't take a genius to look  51.840     2.960\n",
       "30                                       at like what  53.520     2.480\n",
       "31  happened to be like, Michael Chandler, him with a  54.800     1.680\n",
       "32                                     big ass punch,  56.000     1.760\n",
       "33           you know, and kind of faded low and then  56.480     2.399\n",
       "34                                      went high and  57.760     2.400\n",
       "35                                 stuff but there is  58.879     2.801\n",
       "36           a little bit more to the story. What was  60.160     3.440\n",
       "37                                         Dan Hooker  61.680     3.839\n",
       "38          trying to do here? And more to the point,  63.600     4.160\n",
       "39               there are some finer details to that  65.519     3.121\n",
       "40                                        finish that  67.760     3.520\n",
       "41              really deserve to get mentioned and I  68.640     4.080\n",
       "42                         don't know exactly how far  71.280     2.640\n",
       "43              michael chandler's going to go in the  72.720     4.079\n",
       "44          ufc, but I do know that like however good  73.920     4.960\n",
       "45                                    he was early in  76.799     3.921\n",
       "46              bellator in his early run over there,  78.880     4.720\n",
       "47                           he's way better now, way  80.720     4.079"
      ]
     },
     "execution_count": 1802,
     "metadata": {},
     "output_type": "execute_result"
    }
   ],
   "source": [
    "# Previously punctuated.\n",
    "trans_gen.time_range(50, 80, False)"
   ]
  },
  {
   "cell_type": "markdown",
   "metadata": {},
   "source": [
    "# TODO\n",
    "- weird bug where time_range returns punctuated df rows but time_range_str does not."
   ]
  },
  {
   "cell_type": "code",
   "execution_count": 1803,
   "metadata": {
    "ExecuteTime": {
     "end_time": "2021-05-06T03:58:54.385847Z",
     "start_time": "2021-05-06T03:58:54.349980Z"
    }
   },
   "outputs": [
    {
     "data": {
      "text/plain": [
       "\"uh you guys know the deal we're going to take a look at it here and um as always the devil is in the details it doesn't take a genius to look at like what happened to be like oh michael chandler him with a big ass punch you know and kind of faded low and then went high and then all that kind of stuff but there is a little bit more to the story what was dan hooker trying what was his game plan here and more to the point there are some finer details to that finish that really deserve to get mentioned and i don't know exactly how far michael chandler's going to go in the ufc but i do know that like however good he was early in bellator in his you know early to mid run over there he's way better now way better now and i'm going to show you some of the things\""
      ]
     },
     "execution_count": 1803,
     "metadata": {},
     "output_type": "execute_result"
    }
   ],
   "source": [
    "trans_gen.time_range_str(50, 80)"
   ]
  },
  {
   "cell_type": "code",
   "execution_count": 1804,
   "metadata": {
    "ExecuteTime": {
     "end_time": "2021-05-06T03:59:02.959424Z",
     "start_time": "2021-05-06T03:59:02.911228Z"
    }
   },
   "outputs": [
    {
     "data": {
      "text/plain": [
       "\"uh you guys know the deal we're going to take a look at it here and um as always the devil is in the details it doesn't take a genius to look at like what happened to be like oh michael chandler him with a big ass punch you know and kind of faded low and then went high and then all that kind of stuff but there is a little bit more to the story what was dan hooker trying what was his game plan here and more to the point there are some finer details to that finish that really deserve to get mentioned and i don't know exactly how far michael chandler's going to go in the ufc but i do know that like however good he was early in bellator in his you know early to mid run over there he's way better now way better now and i'm going to show you some of the things\""
      ]
     },
     "execution_count": 1804,
     "metadata": {},
     "output_type": "execute_result"
    }
   ],
   "source": [
    "trans_gen.time_range_str(50, 80, full_sentences=True)"
   ]
  },
  {
   "cell_type": "code",
   "execution_count": 1805,
   "metadata": {
    "ExecuteTime": {
     "end_time": "2021-05-06T03:59:13.100104Z",
     "start_time": "2021-05-06T03:59:12.287393Z"
    }
   },
   "outputs": [
    {
     "data": {
      "text/plain": [
       "'Michael Chandler, him with a big ass punch, you know, and kind of faded low and then went high and stuff but there is a little bit more to the story. What was Dan Hooker trying to do here?'"
      ]
     },
     "execution_count": 1805,
     "metadata": {},
     "output_type": "execute_result"
    }
   ],
   "source": [
    "trans_gen.time_range_str(50, 80, punctuate=True, full_sentences=True)"
   ]
  },
  {
   "cell_type": "code",
   "execution_count": 1806,
   "metadata": {
    "ExecuteTime": {
     "end_time": "2021-05-06T03:59:34.079006Z",
     "start_time": "2021-05-06T03:59:34.021761Z"
    }
   },
   "outputs": [
    {
     "data": {
      "text/plain": [
       "'Michael Chandler, him with a big ass punch, you know, and kind of faded low and then went high and stuff but there is a little bit more to the story. What was Dan Hooker trying to do here?'"
      ]
     },
     "execution_count": 1806,
     "metadata": {},
     "output_type": "execute_result"
    }
   ],
   "source": [
    "trans_gen.time_range_str(50, 80, punctuate=True)"
   ]
  },
  {
   "cell_type": "code",
   "execution_count": 170,
   "metadata": {
    "ExecuteTime": {
     "end_time": "2021-04-27T03:44:23.428888Z",
     "start_time": "2021-04-27T03:44:23.385929Z"
    }
   },
   "outputs": [],
   "source": [
    "def na_index_chunks(chunk):\n",
    "    nans = chunk[chunk.text.isnull()]\n",
    "    if nans.empty: return []\n",
    "    last_idx = nans.index[-1]\n",
    "    res = []\n",
    "    curr_chunk = []\n",
    "    prev = None\n",
    "    for idx in nans.index:\n",
    "        if prev is None or (idx == prev + 1): \n",
    "            curr_chunk.append(idx)\n",
    "        else:\n",
    "            res.append(curr_chunk)\n",
    "            curr_chunk = [idx]\n",
    "        if idx == last_idx:\n",
    "            res.append(curr_chunk)\n",
    "        prev = idx\n",
    "    return res"
   ]
  },
  {
   "cell_type": "code",
   "execution_count": 117,
   "metadata": {
    "ExecuteTime": {
     "end_time": "2021-04-27T03:28:03.895983Z",
     "start_time": "2021-04-27T03:28:03.846518Z"
    }
   },
   "outputs": [
    {
     "data": {
      "text/plain": [
       "[[32, 33, 34]]"
      ]
     },
     "execution_count": 117,
     "metadata": {},
     "output_type": "execute_result"
    }
   ],
   "source": [
    "na_index_chunks(tmp.head(3))"
   ]
  },
  {
   "cell_type": "code",
   "execution_count": 116,
   "metadata": {
    "ExecuteTime": {
     "end_time": "2021-04-27T03:26:30.263347Z",
     "start_time": "2021-04-27T03:26:30.228841Z"
    }
   },
   "outputs": [
    {
     "name": "stdout",
     "output_type": "stream",
     "text": [
      " 0:    text  start  duration\n",
      "32  NaN  56.00     1.760\n",
      "33  NaN  56.48     2.399\n",
      "34  NaN  57.76     2.400\n",
      " 1:    text  start  duration\n",
      "46  NaN  78.88     4.720\n",
      "47  NaN  80.72     4.079\n",
      "48  NaN  83.60     1.920\n"
     ]
    }
   ],
   "source": [
    "eprint([tmp.loc[row] for row in na_index_chunks(tmp)])"
   ]
  },
  {
   "cell_type": "code",
   "execution_count": 249,
   "metadata": {
    "ExecuteTime": {
     "end_time": "2021-04-26T00:02:50.503505Z",
     "start_time": "2021-04-26T00:02:48.998375Z"
    }
   },
   "outputs": [
    {
     "name": "stderr",
     "output_type": "stream",
     "text": [
      "/Users/hmamin/jabberwocky/lib/jabberwocky/youtube.py:164: UserWarning: Max score < 80. Your rows may have gotten misaligned at row 11: story\n",
      "  'Max score < 80. Your rows may have gotten misaligned '\n"
     ]
    }
   ],
   "source": [
    "res = trans_gen.time_range(10, 30)"
   ]
  },
  {
   "cell_type": "markdown",
   "metadata": {},
   "source": [
    "## PromptManager"
   ]
  },
  {
   "cell_type": "code",
   "execution_count": 318,
   "metadata": {
    "ExecuteTime": {
     "end_time": "2021-04-29T02:48:13.717143Z",
     "start_time": "2021-04-29T02:48:13.602255Z"
    }
   },
   "outputs": [],
   "source": [
    "from functools import partialmethod\n",
    "from glob import glob"
   ]
  },
  {
   "cell_type": "code",
   "execution_count": 1541,
   "metadata": {
    "ExecuteTime": {
     "end_time": "2021-05-04T03:49:08.458481Z",
     "start_time": "2021-05-04T03:49:08.353583Z"
    }
   },
   "outputs": [],
   "source": [
    "class PromptManager:\n",
    "    \"\"\"Simple class that stores all the prompt templates and default kwargs\n",
    "    so we don't need to load them repeatedly. Use this as an interface for\n",
    "    performing tasks on a video Transcript object.\n",
    "    \"\"\"\n",
    "    \n",
    "    def __init__(self, *prompts):\n",
    "        self.prompts = self._load_templates(set(prompts))\n",
    "    \n",
    "    def _load_templates(self, prompts):\n",
    "        name2kwargs = {}\n",
    "        dir_ = Path('data/prompts')\n",
    "        paths = (dir_/p for p in prompts) if prompts else dir_.iterdir()\n",
    "        for path in paths:\n",
    "            if not path.is_dir(): \n",
    "                if prompts: warnings.warn(f'{path} is not a directory.')\n",
    "                continue\n",
    "            name2kwargs[path.stem] = load_prompt(path.stem)\n",
    "        return name2kwargs\n",
    "    \n",
    "    def query(self, task, text, debug=False, extra_kwargs=None, **kwargs):\n",
    "        \"\"\"\n",
    "        \"\"\"\n",
    "        kwargs = self.kwargs(task=task, fully_resolved=False, \n",
    "                             return_prompt=True, extra_kwargs=extra_kwargs,\n",
    "                             **kwargs)\n",
    "        prompt = kwargs.pop('prompt').format(text)\n",
    "        if debug:\n",
    "            print('prompt:\\n' + prompt)\n",
    "            print(spacer())\n",
    "            print('kwargs:\\n', kwargs)\n",
    "            print(spacer())\n",
    "            print('fully resolved kwargs:\\n',\n",
    "                  dict(bound_args(query_gpt3, [], kwargs)))\n",
    "            return\n",
    "        return query_gpt3(prompt, **kwargs)\n",
    "    \n",
    "    def kwargs(self, task, fully_resolved=True, return_prompt=False,\n",
    "               extra_kwargs=None, **kwargs):\n",
    "        kwargs = {**self.prompts[task], **kwargs}\n",
    "        for k, v in (extra_kwargs or {}).items():\n",
    "            v_cls = type(v)\n",
    "            # Make a new object instead of just using get() or setdefault \n",
    "            # since the latter two methods both mutate our default kwargs.\n",
    "            curr_val = v_cls(kwargs.get(k, v_cls()))\n",
    "            if isinstance(v, Iterable):\n",
    "                curr_val.extend(v)\n",
    "            elif isinstance(v, Mapping):\n",
    "                curr_val.update(v)\n",
    "            else:\n",
    "                raise TypeError(f'Key {k} has unrecognized type {v_cls} in '\n",
    "                                '`extra_kwargs`.')\n",
    "            kwargs[k] = curr_val\n",
    "                \n",
    "        if fully_resolved: kwargs = dict(bound_args(query_gpt3, [], kwargs))\n",
    "        return kwargs if return_prompt else select(kwargs, drop=['prompt'])\n",
    "    \n",
    "    def prompt(self, task, text='', print_=False):\n",
    "        template = self.prompts[task]['prompt']\n",
    "        res = template.format(text) if text else template\n",
    "        if print_:\n",
    "            print(res)\n",
    "        else:\n",
    "            return res\n",
    "    \n",
    "    def __repr__(self):\n",
    "        return f'{type(self).__name__}({\", \".join(map(repr, self.prompts))})'\n",
    "    \n",
    "    def __iter__(self):\n",
    "        return iter(self.prompts)"
   ]
  },
  {
   "cell_type": "code",
   "execution_count": 1524,
   "metadata": {
    "ExecuteTime": {
     "end_time": "2021-05-04T03:46:43.097707Z",
     "start_time": "2021-05-04T03:46:43.059467Z"
    },
    "scrolled": true
   },
   "outputs": [
    {
     "name": "stdout",
     "output_type": "stream",
     "text": [
      "short_dates: This prompt takes no input.\n",
      "-------------------------------------------------------------------------------\n",
      "\n",
      "eli: This uses the expensive davinci model and doesn't work so well without it.\n",
      "-------------------------------------------------------------------------------\n",
      "\n",
      "punctuate: You should probably adjust max_tokens based on the length of the input. Bumping up to engine 2 or 3 might help a little, but engine 1 is serviceable (probably best to avoid 0 though). You should probably try training a huggingface model to add punctuation instead of using gpt3 credits though.\n",
      "-------------------------------------------------------------------------------\n",
      "\n"
     ]
    },
    {
     "name": "stderr",
     "output_type": "stream",
     "text": [
      "/Users/hmamin/anaconda3/lib/python3.7/site-packages/ipykernel_launcher.py:16: UserWarning: data/prompts/eli5 is not a directory.\n",
      "  app.launch_new_instance()\n"
     ]
    },
    {
     "data": {
      "text/plain": [
       "PromptManager('short_dates', 'eli', 'punctuate')"
      ]
     },
     "execution_count": 1524,
     "metadata": {},
     "output_type": "execute_result"
    }
   ],
   "source": [
    "manager = PromptManager('eli', 'short_dates', 'punctuate', 'eli5')\n",
    "manager"
   ]
  },
  {
   "cell_type": "code",
   "execution_count": 1525,
   "metadata": {
    "ExecuteTime": {
     "end_time": "2021-05-04T03:46:43.583248Z",
     "start_time": "2021-05-04T03:46:43.548160Z"
    }
   },
   "outputs": [
    {
     "data": {
      "text/plain": [
       "['short_dates', 'eli', 'punctuate']"
      ]
     },
     "execution_count": 1525,
     "metadata": {},
     "output_type": "execute_result"
    }
   ],
   "source": [
    "list(manager)"
   ]
  },
  {
   "cell_type": "code",
   "execution_count": 1542,
   "metadata": {
    "ExecuteTime": {
     "end_time": "2021-05-04T03:49:11.180357Z",
     "start_time": "2021-05-04T03:49:11.126094Z"
    },
    "scrolled": true
   },
   "outputs": [
    {
     "name": "stdout",
     "output_type": "stream",
     "text": [
      "simplify_ml: This uses the expensive davinci model and doesn't work so well without it. Temperature is set to 0.3 but this hasn't been extensively tuned.\n",
      "-------------------------------------------------------------------------------\n",
      "\n",
      "shortest: This prompt takes no input.\n",
      "-------------------------------------------------------------------------------\n",
      "\n",
      "how_to: Should be a single line starting with the words \"How to\" and ending in a colon. You may need a stronger engine for good results.\n",
      "-------------------------------------------------------------------------------\n",
      "\n",
      "punctuate: You should probably adjust max_tokens based on the length of the input. Bumping up to engine 2 or 3 might help a little, but engine 1 is serviceable (probably best to avoid 0 though). You should probably try training a huggingface model to add punctuation instead of using gpt3 credits though.\n",
      "-------------------------------------------------------------------------------\n",
      "\n",
      "tldr: This sets max tokens to 64. You may wish to adjust that value. The default engine is Curie (2) but you could try a different engine.\n",
      "-------------------------------------------------------------------------------\n",
      "\n",
      "eli: This uses the expensive davinci model and doesn't work so well without it.\n",
      "-------------------------------------------------------------------------------\n",
      "\n",
      "short_dates: This prompt takes no input.\n",
      "-------------------------------------------------------------------------------\n",
      "\n"
     ]
    },
    {
     "data": {
      "text/plain": [
       "PromptManager('simplify_ml', 'shortest', 'how_to', 'punctuate', 'tldr', 'eli', 'short_dates')"
      ]
     },
     "execution_count": 1542,
     "metadata": {},
     "output_type": "execute_result"
    }
   ],
   "source": [
    "manager = PromptManager()\n",
    "manager"
   ]
  },
  {
   "cell_type": "code",
   "execution_count": 1527,
   "metadata": {
    "ExecuteTime": {
     "end_time": "2021-05-04T03:46:45.102772Z",
     "start_time": "2021-05-04T03:46:45.069286Z"
    }
   },
   "outputs": [
    {
     "name": "stdout",
     "output_type": "stream",
     "text": [
      "Input: 3/1/20\n",
      "Output: March 1, 2020\n",
      "\n",
      "Input: 09-04-99\n",
      "Output: September 4, 1999\n",
      "\n",
      "Input: 11/01/2017\n",
      "Output: November 1, 2017\n",
      "\n",
      "Input: 04/11/21\n",
      "Output:\n"
     ]
    }
   ],
   "source": [
    "manager.prompt('short_dates', print_=True)"
   ]
  },
  {
   "cell_type": "code",
   "execution_count": 1528,
   "metadata": {
    "ExecuteTime": {
     "end_time": "2021-05-04T03:46:45.638274Z",
     "start_time": "2021-05-04T03:46:45.600922Z"
    }
   },
   "outputs": [
    {
     "data": {
      "text/plain": [
       "'abcd\\n\\ntl;dr:'"
      ]
     },
     "execution_count": 1528,
     "metadata": {},
     "output_type": "execute_result"
    }
   ],
   "source": [
    "manager.prompt('tldr', 'abcd')"
   ]
  },
  {
   "cell_type": "code",
   "execution_count": 1529,
   "metadata": {
    "ExecuteTime": {
     "end_time": "2021-05-04T03:46:46.225269Z",
     "start_time": "2021-05-04T03:46:46.188767Z"
    }
   },
   "outputs": [
    {
     "data": {
      "text/plain": [
       "{'engine_i': 2,\n",
       " 'logprobs': None,\n",
       " 'max_tokens': 64,\n",
       " 'mock': False,\n",
       " 'return_full': False,\n",
       " 'stream': False,\n",
       " 'strip_output': True,\n",
       " 'temperature': 0.3}"
      ]
     },
     "execution_count": 1529,
     "metadata": {},
     "output_type": "execute_result"
    }
   ],
   "source": [
    "manager.kwargs('tldr')"
   ]
  },
  {
   "cell_type": "code",
   "execution_count": 1530,
   "metadata": {
    "ExecuteTime": {
     "end_time": "2021-05-04T03:46:46.957366Z",
     "start_time": "2021-05-04T03:46:46.921350Z"
    }
   },
   "outputs": [
    {
     "data": {
      "text/plain": [
       "{'engine_i': 2, 'max_tokens': 64, 'temperature': 0.3}"
      ]
     },
     "execution_count": 1530,
     "metadata": {},
     "output_type": "execute_result"
    }
   ],
   "source": [
    "manager.kwargs('tldr', fully_resolved=False)"
   ]
  },
  {
   "cell_type": "code",
   "execution_count": 1531,
   "metadata": {
    "ExecuteTime": {
     "end_time": "2021-05-04T03:46:48.492880Z",
     "start_time": "2021-05-04T03:46:48.461420Z"
    }
   },
   "outputs": [
    {
     "data": {
      "text/plain": [
       "{'engine_i': 2, 'max_tokens': 64, 'prompt': '{}\\n\\ntl;dr:', 'temperature': 0.3}"
      ]
     },
     "execution_count": 1531,
     "metadata": {},
     "output_type": "execute_result"
    }
   ],
   "source": [
    "manager.kwargs('tldr', fully_resolved=False, return_prompt=True)"
   ]
  },
  {
   "cell_type": "code",
   "execution_count": 1532,
   "metadata": {
    "ExecuteTime": {
     "end_time": "2021-05-04T03:46:48.990202Z",
     "start_time": "2021-05-04T03:46:48.955847Z"
    }
   },
   "outputs": [
    {
     "data": {
      "text/plain": [
       "{'engine_i': 2,\n",
       " 'logprobs': None,\n",
       " 'max_tokens': 64,\n",
       " 'mock': False,\n",
       " 'prompt': '{}\\n\\ntl;dr:',\n",
       " 'return_full': False,\n",
       " 'stream': False,\n",
       " 'strip_output': True,\n",
       " 'temperature': 0.3}"
      ]
     },
     "execution_count": 1532,
     "metadata": {},
     "output_type": "execute_result"
    }
   ],
   "source": [
    "manager.kwargs('tldr', fully_resolved=True, return_prompt=True)"
   ]
  },
  {
   "cell_type": "code",
   "execution_count": 1533,
   "metadata": {
    "ExecuteTime": {
     "end_time": "2021-05-04T03:46:49.684797Z",
     "start_time": "2021-05-04T03:46:49.629943Z"
    }
   },
   "outputs": [
    {
     "data": {
      "text/plain": [
       "{'engine_i': 2,\n",
       " 'logprobs': None,\n",
       " 'max_tokens': 64,\n",
       " 'mock': False,\n",
       " 'return_full': False,\n",
       " 'stop': ['stop1', 'stop2'],\n",
       " 'stream': False,\n",
       " 'strip_output': True,\n",
       " 'temperature': 0.3}"
      ]
     },
     "execution_count": 1533,
     "metadata": {},
     "output_type": "execute_result"
    }
   ],
   "source": [
    "manager.kwargs('tldr', extra_kwargs={'stop': ['stop1', 'stop2']})"
   ]
  },
  {
   "cell_type": "code",
   "execution_count": 1536,
   "metadata": {
    "ExecuteTime": {
     "end_time": "2021-05-04T03:46:56.190243Z",
     "start_time": "2021-05-04T03:46:56.146401Z"
    }
   },
   "outputs": [
    {
     "data": {
      "text/plain": [
       "{'engine_i': 2,\n",
       " 'logit_bias': {100: -5},\n",
       " 'logprobs': None,\n",
       " 'max_tokens': 64,\n",
       " 'mock': False,\n",
       " 'return_full': False,\n",
       " 'stop': ['stop1', 'stop2'],\n",
       " 'stream': False,\n",
       " 'strip_output': True,\n",
       " 'temperature': 0.3}"
      ]
     },
     "execution_count": 1536,
     "metadata": {},
     "output_type": "execute_result"
    }
   ],
   "source": [
    "manager.kwargs('tldr', extra_kwargs={'stop': ['stop1', 'stop2']}, \n",
    "               logit_bias={100: -5})"
   ]
  },
  {
   "cell_type": "code",
   "execution_count": 1537,
   "metadata": {
    "ExecuteTime": {
     "end_time": "2021-05-04T03:46:57.485981Z",
     "start_time": "2021-05-04T03:46:57.453998Z"
    }
   },
   "outputs": [
    {
     "data": {
      "text/plain": [
       "{'engine_i': 2,\n",
       " 'logprobs': None,\n",
       " 'max_tokens': 64,\n",
       " 'mock': False,\n",
       " 'return_full': False,\n",
       " 'stream': False,\n",
       " 'strip_output': True,\n",
       " 'temperature': 0.3}"
      ]
     },
     "execution_count": 1537,
     "metadata": {},
     "output_type": "execute_result"
    }
   ],
   "source": [
    "manager.kwargs('tldr')"
   ]
  },
  {
   "cell_type": "code",
   "execution_count": 1538,
   "metadata": {
    "ExecuteTime": {
     "end_time": "2021-05-04T03:47:00.095403Z",
     "start_time": "2021-05-04T03:47:00.065163Z"
    }
   },
   "outputs": [
    {
     "name": "stdout",
     "output_type": "stream",
     "text": [
      "prompt:\n",
      "Attention enables the network to learn dynamic linear layers, essentially encoding the input sequence as a directed, weighted graph which we represent using a learned adjacency matrix. \n",
      "\n",
      "I rephrased this for my daughter, in plain language a second grader can understand:\n",
      "\n",
      "-------------------------------------------------------------------------------\n",
      "\n",
      "kwargs:\n",
      " {'engine_i': 1, 'temperature': 0.3, 'stop': ['I rephrased this for my daughter, in plain language', 'prompt:'], 'stream': True}\n",
      "\n",
      "-------------------------------------------------------------------------------\n",
      "\n",
      "fully resolved kwargs:\n",
      " {'engine_i': 1, 'temperature': 0.3, 'max_tokens': 50, 'logprobs': None, 'stream': True, 'mock': False, 'return_full': False, 'strip_output': True, 'stop': ['I rephrased this for my daughter, in plain language', 'prompt:']}\n"
     ]
    }
   ],
   "source": [
    "txt = \"\"\"Attention enables the network to learn dynamic linear layers,\n",
    "essentially encoding the input sequence as a directed, weighted graph\n",
    "which we represent using a learned adjacency matrix.\"\"\".replace('\\n', ' ')\n",
    "manager.query('eli', txt, debug=True, stream=True, engine_i=1)"
   ]
  },
  {
   "cell_type": "code",
   "execution_count": 1539,
   "metadata": {
    "ExecuteTime": {
     "end_time": "2021-05-04T03:47:00.806416Z",
     "start_time": "2021-05-04T03:47:00.774363Z"
    }
   },
   "outputs": [
    {
     "name": "stdout",
     "output_type": "stream",
     "text": [
      "prompt:\n",
      "Attention enables the network to learn dynamic linear layers, essentially encoding the input sequence as a directed, weighted graph which we represent using a learned adjacency matrix. \n",
      "\n",
      "I rephrased this for my daughter, in plain language a second grader can understand:\n",
      "\n",
      "-------------------------------------------------------------------------------\n",
      "\n",
      "kwargs:\n",
      " {'engine_i': 1, 'temperature': 0.3, 'stop': ['I rephrased this for my daughter, in plain language', 'prompt:', '\\n\\n'], 'stream': True}\n",
      "\n",
      "-------------------------------------------------------------------------------\n",
      "\n",
      "fully resolved kwargs:\n",
      " {'engine_i': 1, 'temperature': 0.3, 'max_tokens': 50, 'logprobs': None, 'stream': True, 'mock': False, 'return_full': False, 'strip_output': True, 'stop': ['I rephrased this for my daughter, in plain language', 'prompt:', '\\n\\n']}\n"
     ]
    }
   ],
   "source": [
    "txt = \"\"\"Attention enables the network to learn dynamic linear layers,\n",
    "essentially encoding the input sequence as a directed, weighted graph\n",
    "which we represent using a learned adjacency matrix.\"\"\".replace('\\n', ' ')\n",
    "manager.query('eli', txt, debug=True, stream=True, engine_i=1, \n",
    "              extra_kwargs={'stop': ['\\n\\n']})"
   ]
  },
  {
   "cell_type": "code",
   "execution_count": 1540,
   "metadata": {
    "ExecuteTime": {
     "end_time": "2021-05-04T03:47:03.304096Z",
     "start_time": "2021-05-04T03:47:03.271497Z"
    }
   },
   "outputs": [
    {
     "data": {
      "text/plain": [
       "{'engine_i': 3,\n",
       " 'prompt': '{} \\n\\nI rephrased this for my daughter, in plain language a second grader can understand:',\n",
       " 'stop': ['I rephrased this for my daughter, in plain language', 'prompt:'],\n",
       " 'temperature': 0.3}"
      ]
     },
     "execution_count": 1540,
     "metadata": {},
     "output_type": "execute_result"
    }
   ],
   "source": [
    "manager.prompts['eli']"
   ]
  },
  {
   "cell_type": "code",
   "execution_count": 1548,
   "metadata": {
    "ExecuteTime": {
     "end_time": "2021-05-04T03:50:46.637053Z",
     "start_time": "2021-05-04T03:50:42.257690Z"
    }
   },
   "outputs": [],
   "source": [
    "txt = \"\"\"Attention enables the network to learn dynamic linear layers,\n",
    "essentially encoding the input sequence as a directed, weighted graph\n",
    "which we represent using a learned adjacency matrix.\"\"\".replace('\\n', ' ')\n",
    "res = manager.query('eli', txt, max_tokens=100, temperature=.2)"
   ]
  },
  {
   "cell_type": "code",
   "execution_count": 1549,
   "metadata": {
    "ExecuteTime": {
     "end_time": "2021-05-04T03:50:47.964999Z",
     "start_time": "2021-05-04T03:50:47.924021Z"
    }
   },
   "outputs": [
    {
     "data": {
      "text/plain": [
       "('Attention enables the network to learn dynamic linear layers, essentially encoding the input sequence as a directed, weighted graph which we represent using a learned adjacency matrix. \\n\\nI rephrased this for my daughter, in plain language a second grader can understand:',\n",
       " '\"Attention is a way for the network to pay attention to what it thinks is important in the input sequence. It does this by looking at the input sequence and deciding what parts of it are important. It then uses this information to decide what parts of the output sequence should be important.\"\\n\\nThe attention mechanism is a way for the network to decide what parts of the input sequence are important. It does this by looking at the input sequence and deciding what parts of it are important.')"
      ]
     },
     "execution_count": 1549,
     "metadata": {},
     "output_type": "execute_result"
    }
   ],
   "source": [
    "res"
   ]
  },
  {
   "cell_type": "code",
   "execution_count": 1384,
   "metadata": {
    "ExecuteTime": {
     "end_time": "2021-05-04T02:52:35.759798Z",
     "start_time": "2021-05-04T02:52:26.114776Z"
    }
   },
   "outputs": [
    {
     "name": "stdout",
     "output_type": "stream",
     "text": [
      "\n",
      "\n",
      "The\n",
      "network\n",
      "learns\n",
      "to\n",
      "recognize\n",
      "patterns\n",
      "in\n",
      "the\n",
      "input\n",
      "sequence\n",
      ".\n",
      "It\n",
      "learns\n",
      "to\n",
      "recognize\n",
      "patterns\n",
      "by\n",
      "looking\n",
      "at\n",
      "the\n",
      "input\n",
      "sequence\n",
      "and\n",
      "seeing\n",
      "how\n",
      "it\n",
      "is\n",
      "similar\n",
      "to\n",
      "other\n",
      "input\n",
      "sequences\n",
      ".\n",
      "\n",
      "\n",
      "The\n",
      "network\n",
      "learns\n",
      "to\n",
      "recognize\n",
      "patterns\n",
      "in\n",
      "the\n",
      "input\n",
      "sequence\n",
      ".\n",
      "It\n",
      "learns\n",
      "to\n",
      "recognize\n",
      "patterns\n",
      "by\n",
      "looking\n",
      "at\n",
      "the\n",
      "input\n",
      "sequence\n",
      "and\n",
      "seeing\n",
      "how\n",
      "it\n",
      "is\n",
      "similar\n",
      "to\n",
      "other\n",
      "input\n",
      "sequences\n",
      ".\n",
      "\n",
      "\n",
      "The\n",
      "network\n",
      "learns\n",
      "to\n",
      "recognize\n",
      "patterns\n",
      "in\n",
      "the\n",
      "input\n",
      "sequence\n",
      ".\n",
      "It\n",
      "learns\n",
      "to\n",
      "recognize\n",
      "patterns\n",
      "by\n",
      "looking\n",
      "at\n",
      "the\n",
      "input\n",
      "sequence\n",
      "and\n",
      "seeing\n",
      "how\n",
      "it\n",
      "is\n",
      "similar\n",
      "to\n",
      "other\n",
      "input\n",
      "sequences\n",
      ".\n",
      "\n",
      "\n",
      "The\n",
      "network\n",
      "learns\n",
      "to\n",
      "recognize\n",
      "patterns\n",
      "in\n",
      "the\n",
      "input\n",
      "sequence\n",
      ".\n",
      "It\n",
      "learns\n",
      "to\n",
      "recognize\n",
      "patterns\n",
      "by\n",
      "looking\n",
      "at\n",
      "the\n",
      "input\n",
      "sequence\n",
      "and\n",
      "seeing\n",
      "how\n",
      "it\n",
      "is\n",
      "similar\n",
      "to\n",
      "other\n",
      "input\n",
      "sequences\n",
      ".\n",
      "\n",
      "\n",
      "The\n",
      "network\n",
      "learns\n",
      "to\n",
      "recognize\n",
      "patterns\n",
      "in\n",
      "the\n",
      "input\n",
      "sequence\n",
      ".\n",
      "It\n",
      "learns\n",
      "to\n",
      "recognize\n",
      "patterns\n",
      "by\n",
      "looking\n",
      "at\n",
      "the\n",
      "input\n",
      "sequence\n",
      "and\n",
      "seeing\n",
      "how\n",
      "it\n",
      "is\n",
      "similar\n",
      "to\n",
      "other\n",
      "input\n",
      "sequences\n",
      ".\n",
      "\n",
      "\n",
      "The\n",
      "network\n",
      "learns\n",
      "to\n",
      "recognize\n",
      "patterns\n",
      "in\n",
      "the\n",
      "input\n",
      "sequence\n",
      ".\n",
      "It\n",
      "learns\n",
      "to\n",
      "recognize\n",
      "patterns\n",
      "by\n",
      "looking\n",
      "at\n",
      "the\n",
      "input\n",
      "sequence\n",
      "and\n"
     ]
    }
   ],
   "source": [
    "txt = \"\"\"Attention enables the network to learn dynamic linear layers,\n",
    "essentially encoding the input sequence as a directed, weighted graph\n",
    "which we represent using a learned adjacency matrix.\"\"\".replace('\\n', ' ')\n",
    "for chunk in manager.query('eli', txt, max_tokens=200, stream=True):\n",
    "    print(chunk)"
   ]
  },
  {
   "cell_type": "code",
   "execution_count": 1416,
   "metadata": {
    "ExecuteTime": {
     "end_time": "2021-05-04T02:59:38.930248Z",
     "start_time": "2021-05-04T02:59:38.853428Z"
    }
   },
   "outputs": [
    {
     "data": {
      "text/plain": [
       "{'engine_i': 3,\n",
       " 'stop': 'I rephrased this for my daughter, in plain language',\n",
       " 'temperature': 0.3}"
      ]
     },
     "execution_count": 1416,
     "metadata": {},
     "output_type": "execute_result"
    }
   ],
   "source": [
    "manager.kwargs('eli')"
   ]
  },
  {
   "cell_type": "code",
   "execution_count": 1418,
   "metadata": {
    "ExecuteTime": {
     "end_time": "2021-05-04T03:00:03.819240Z",
     "start_time": "2021-05-04T03:00:03.787155Z"
    }
   },
   "outputs": [
    {
     "data": {
      "text/plain": [
       "{'engine_i': 1,\n",
       " 'stop': ['Passage: ', 'Passage with punctuation: '],\n",
       " 'strip_output': True,\n",
       " 'temperature': 0.1}"
      ]
     },
     "execution_count": 1418,
     "metadata": {},
     "output_type": "execute_result"
    }
   ],
   "source": [
    "manager.kwargs('punctuate')"
   ]
  },
  {
   "cell_type": "code",
   "execution_count": 1420,
   "metadata": {
    "ExecuteTime": {
     "end_time": "2021-05-04T03:01:16.527214Z",
     "start_time": "2021-05-04T03:01:16.485986Z"
    }
   },
   "outputs": [
    {
     "name": "stdout",
     "output_type": "stream",
     "text": [
      "eli Attention enables the network to learn dynamic linear layers, essentially encoding the input sequence as a directed, weighted graph which we represent using a learned adjacency matrix.\n",
      "prompt:\n",
      "Attention enables the network to learn dynamic linear layers, essentially encoding the input sequence as a directed, weighted graph which we represent using a learned adjacency matrix. \n",
      "\n",
      "I rephrased this for my daughter, in plain language a second grader can understand:\n",
      "kwargs:\n",
      " {'engine_i': 3, 'temperature': 0.3, 'stop': 'I rephrased this for my daughter, in plain language', 'max_tokens': 100}\n"
     ]
    }
   ],
   "source": [
    "txt = \"\"\"Attention enables the network to learn dynamic linear layers,\n",
    "essentially encoding the input sequence as a directed, weighted graph\n",
    "which we represent using a learned adjacency matrix.\"\"\".replace('\\n', ' ')\n",
    "# _, res = \n",
    "manager.query('eli', txt, max_tokens=100, debug=True)"
   ]
  },
  {
   "cell_type": "code",
   "execution_count": 1388,
   "metadata": {
    "ExecuteTime": {
     "end_time": "2021-05-04T02:53:35.552716Z",
     "start_time": "2021-05-04T02:53:35.518583Z"
    }
   },
   "outputs": [
    {
     "name": "stdout",
     "output_type": "stream",
     "text": [
      "\"The network learns to pay attention to the things that matter most, and ignore the rest.\"\n",
      "\n",
      "The attention mechanism is a key ingredient to making neural networks useful for natural language tasks.\n",
      "\n",
      "The attention mechanism is a key ingredient to making neural networks useful for natural language tasks.\n",
      "\n",
      "In the paper, the authors used the attention mechanism to improve the state-of-the-art performance on a number of natural language tasks, including machine translation, question answering, and sentence summarization.\n",
      "\n",
      "The attention mechanism is a key ingredient to making neural networks useful for natural language tasks.\n",
      "\n",
      "In the paper, the authors used the attention mechanism to improve the state-of-the-art performance on a number of natural language tasks, including machine translation, question answering, and sentence summarization.\n",
      "\n",
      "The attention mechanism is a key ingredient to making neural networks useful for natural language tasks.\n",
      "\n",
      "In the paper, the authors used the attention mechanism to improve the state-\n"
     ]
    }
   ],
   "source": [
    "print(res)"
   ]
  },
  {
   "cell_type": "code",
   "execution_count": 284,
   "metadata": {
    "ExecuteTime": {
     "end_time": "2021-04-28T03:34:26.345809Z",
     "start_time": "2021-04-28T03:34:23.343035Z"
    },
    "scrolled": true
   },
   "outputs": [
    {
     "data": {
      "text/plain": [
       "('Batch normalization decouples layer outputs from one another and reduces internal covariate shift. It leads to faster optimization by enabling the neural network to undergo stable training even with large learning rates. \\n\\nI rephrased this for my daughter, in plain language a second grader can understand:',\n",
       " 'Batch normalization is a way to make the learning process faster.\\n\\nBatch normalization is a technique that allows you to use larger learning rates.\\n\\nBatch normalization makes the neural network more stable.\\n\\nB')"
      ]
     },
     "execution_count": 284,
     "metadata": {},
     "output_type": "execute_result"
    }
   ],
   "source": [
    "manager.query('eli', 'Batch normalization decouples layer outputs from one another '\n",
    "             'and reduces internal covariate shift. It leads to faster '\n",
    "             'optimization by enabling the neural network to undergo stable '\n",
    "             'training even with large learning rates.', engine_i=3)"
   ]
  },
  {
   "cell_type": "markdown",
   "metadata": {},
   "source": [
    "# Better Partial\n",
    "\n",
    "Toyed with idea of dynamically generating methods on Manager (e.g. letting us call manager.tldr(text) and see all default hypers with shift tab, reducing the need for all the debug=True calls). Ultimately got partial working but ran into issues even using functools.partial for method generation, and decided to move forward rather than getting further sidetracked."
   ]
  },
  {
   "cell_type": "code",
   "execution_count": 903,
   "metadata": {
    "ExecuteTime": {
     "end_time": "2021-05-01T04:39:27.195619Z",
     "start_time": "2021-05-01T04:39:27.165965Z"
    }
   },
   "outputs": [],
   "source": [
    "def foo(a, a2, b=2, *args, c=3, **kwargs):\n",
    "    print('a', a)\n",
    "    print('a2', a2)\n",
    "    print('b', b)\n",
    "    print('args', args)\n",
    "    print('c', c)\n",
    "    print('kwargs', kwargs)"
   ]
  },
  {
   "cell_type": "code",
   "execution_count": 449,
   "metadata": {
    "ExecuteTime": {
     "end_time": "2021-04-29T03:52:41.925210Z",
     "start_time": "2021-04-29T03:52:41.864507Z"
    }
   },
   "outputs": [
    {
     "name": "stdout",
     "output_type": "stream",
     "text": [
      "(a, b=2, *args, c=3, **kwargs)\n",
      "foo\n",
      "def (2,)\n",
      "kw def {'c': 3}\n"
     ]
    }
   ],
   "source": [
    "print(signature(foo))\n",
    "print(foo.__name__)\n",
    "print('def', foo.__defaults__)\n",
    "print('kw def', foo.__kwdefaults__)"
   ]
  },
  {
   "cell_type": "code",
   "execution_count": 450,
   "metadata": {
    "ExecuteTime": {
     "end_time": "2021-04-29T03:52:44.855007Z",
     "start_time": "2021-04-29T03:52:44.803310Z"
    }
   },
   "outputs": [
    {
     "name": "stdout",
     "output_type": "stream",
     "text": [
      "(a, *, b=99, c=3, **kwargs)\n"
     ]
    },
    {
     "ename": "AttributeError",
     "evalue": "'functools.partial' object has no attribute '__name__'",
     "output_type": "error",
     "traceback": [
      "\u001b[0;31m---------------------------------------------------------------------------\u001b[0m",
      "\u001b[0;31mAttributeError\u001b[0m                            Traceback (most recent call last)",
      "\u001b[0;32m<ipython-input-450-6f1f718bef12>\u001b[0m in \u001b[0;36m<module>\u001b[0;34m()\u001b[0m\n\u001b[1;32m      1\u001b[0m \u001b[0mpfoo\u001b[0m \u001b[0;34m=\u001b[0m \u001b[0mpartial\u001b[0m\u001b[0;34m(\u001b[0m\u001b[0mfoo\u001b[0m\u001b[0;34m,\u001b[0m \u001b[0mb\u001b[0m\u001b[0;34m=\u001b[0m\u001b[0;36m99\u001b[0m\u001b[0;34m,\u001b[0m \u001b[0md\u001b[0m\u001b[0;34m=\u001b[0m\u001b[0;34m'd'\u001b[0m\u001b[0;34m)\u001b[0m\u001b[0;34m\u001b[0m\u001b[0;34m\u001b[0m\u001b[0m\n\u001b[1;32m      2\u001b[0m \u001b[0mprint\u001b[0m\u001b[0;34m(\u001b[0m\u001b[0msignature\u001b[0m\u001b[0;34m(\u001b[0m\u001b[0mpfoo\u001b[0m\u001b[0;34m)\u001b[0m\u001b[0;34m)\u001b[0m\u001b[0;34m\u001b[0m\u001b[0;34m\u001b[0m\u001b[0m\n\u001b[0;32m----> 3\u001b[0;31m \u001b[0mprint\u001b[0m\u001b[0;34m(\u001b[0m\u001b[0mpfoo\u001b[0m\u001b[0;34m.\u001b[0m\u001b[0m__name__\u001b[0m\u001b[0;34m)\u001b[0m\u001b[0;34m\u001b[0m\u001b[0;34m\u001b[0m\u001b[0m\n\u001b[0m",
      "\u001b[0;31mAttributeError\u001b[0m: 'functools.partial' object has no attribute '__name__'"
     ]
    }
   ],
   "source": [
    "pfoo = partial(foo, b=99, d='d')\n",
    "print(signature(pfoo))\n",
    "print(pfoo.__name__)"
   ]
  },
  {
   "cell_type": "code",
   "execution_count": 451,
   "metadata": {
    "ExecuteTime": {
     "end_time": "2021-04-29T03:52:45.341014Z",
     "start_time": "2021-04-29T03:52:45.305800Z"
    }
   },
   "outputs": [
    {
     "name": "stdout",
     "output_type": "stream",
     "text": [
      "(a, b=2, *args, c=3, **kwargs)\n",
      "foo\n"
     ]
    }
   ],
   "source": [
    "dfoo = partial(foo, b=99, d='d')\n",
    "dfoo = update_wrapper(dfoo, foo)\n",
    "dfoo.__dir__ = foo.__dir__\n",
    "print(signature(dfoo))\n",
    "print(dfoo.__name__)"
   ]
  },
  {
   "cell_type": "code",
   "execution_count": 398,
   "metadata": {
    "ExecuteTime": {
     "end_time": "2021-04-29T03:25:09.538155Z",
     "start_time": "2021-04-29T03:25:09.505674Z"
    }
   },
   "outputs": [
    {
     "data": {
      "text/plain": [
       "{'a': <Parameter \"a\">,\n",
       " 'args': <Parameter \"*args\">,\n",
       " 'b': <Parameter \"b=99\">,\n",
       " 'kwargs': <Parameter \"**kwargs\">}"
      ]
     },
     "execution_count": 398,
     "metadata": {},
     "output_type": "execute_result"
    }
   ],
   "source": [
    "params(pfoo)"
   ]
  },
  {
   "cell_type": "code",
   "execution_count": 358,
   "metadata": {
    "ExecuteTime": {
     "end_time": "2021-04-29T03:08:12.818685Z",
     "start_time": "2021-04-29T03:08:12.785887Z"
    }
   },
   "outputs": [
    {
     "ename": "TypeError",
     "evalue": "foo() missing 1 required positional argument: 'a'",
     "output_type": "error",
     "traceback": [
      "\u001b[0;31m---------------------------------------------------------------------------\u001b[0m",
      "\u001b[0;31mTypeError\u001b[0m                                 Traceback (most recent call last)",
      "\u001b[0;32m<ipython-input-358-0687c854b37c>\u001b[0m in \u001b[0;36m<module>\u001b[0;34m()\u001b[0m\n\u001b[0;32m----> 1\u001b[0;31m \u001b[0mdfoo\u001b[0m\u001b[0;34m(\u001b[0m\u001b[0;34m)\u001b[0m\u001b[0;34m\u001b[0m\u001b[0;34m\u001b[0m\u001b[0m\n\u001b[0m",
      "\u001b[0;31mTypeError\u001b[0m: foo() missing 1 required positional argument: 'a'"
     ]
    }
   ],
   "source": [
    "dfoo()"
   ]
  },
  {
   "cell_type": "code",
   "execution_count": 460,
   "metadata": {
    "ExecuteTime": {
     "end_time": "2021-04-29T03:54:52.574750Z",
     "start_time": "2021-04-29T03:54:52.537449Z"
    }
   },
   "outputs": [],
   "source": [
    "from types import FunctionType, MethodType"
   ]
  },
  {
   "cell_type": "code",
   "execution_count": 461,
   "metadata": {
    "ExecuteTime": {
     "end_time": "2021-04-29T03:54:53.648684Z",
     "start_time": "2021-04-29T03:54:53.588702Z"
    }
   },
   "outputs": [
    {
     "ename": "TypeError",
     "evalue": "'tuple' object is not a mapping",
     "output_type": "error",
     "traceback": [
      "\u001b[0;31m---------------------------------------------------------------------------\u001b[0m",
      "\u001b[0;31mTypeError\u001b[0m                                 Traceback (most recent call last)",
      "\u001b[0;32m<ipython-input-461-486f598c4b17>\u001b[0m in \u001b[0;36m<module>\u001b[0;34m()\u001b[0m\n\u001b[0;32m----> 1\u001b[0;31m \u001b[0;34m{\u001b[0m\u001b[0;34m**\u001b[0m\u001b[0;34m(\u001b[0m\u001b[0mfoo\u001b[0m\u001b[0;34m.\u001b[0m\u001b[0m__defaults__\u001b[0m \u001b[0;32mor\u001b[0m \u001b[0;34m{\u001b[0m\u001b[0;34m}\u001b[0m\u001b[0;34m)\u001b[0m\u001b[0;34m}\u001b[0m\u001b[0;34m\u001b[0m\u001b[0;34m\u001b[0m\u001b[0m\n\u001b[0m",
      "\u001b[0;31mTypeError\u001b[0m: 'tuple' object is not a mapping"
     ]
    }
   ],
   "source": [
    "{**(foo.__defaults__ or {})}"
   ]
  },
  {
   "cell_type": "code",
   "execution_count": 462,
   "metadata": {
    "ExecuteTime": {
     "end_time": "2021-04-29T03:54:54.802456Z",
     "start_time": "2021-04-29T03:54:54.770473Z"
    }
   },
   "outputs": [
    {
     "data": {
      "text/plain": [
       "(2,)"
      ]
     },
     "execution_count": 462,
     "metadata": {},
     "output_type": "execute_result"
    }
   ],
   "source": [
    "foo.__defaults__"
   ]
  },
  {
   "cell_type": "code",
   "execution_count": 463,
   "metadata": {
    "ExecuteTime": {
     "end_time": "2021-04-29T03:54:55.385858Z",
     "start_time": "2021-04-29T03:54:55.359217Z"
    }
   },
   "outputs": [],
   "source": [
    "bar.__kwdefaults__"
   ]
  },
  {
   "cell_type": "code",
   "execution_count": 476,
   "metadata": {
    "ExecuteTime": {
     "end_time": "2021-04-29T03:57:13.940210Z",
     "start_time": "2021-04-29T03:57:13.911783Z"
    },
    "scrolled": true
   },
   "outputs": [
    {
     "data": {
      "text/plain": [
       "['__call__',\n",
       " '__class__',\n",
       " '__delattr__',\n",
       " '__dict__',\n",
       " '__dir__',\n",
       " '__doc__',\n",
       " '__eq__',\n",
       " '__format__',\n",
       " '__ge__',\n",
       " '__getattribute__',\n",
       " '__gt__',\n",
       " '__hash__',\n",
       " '__init__',\n",
       " '__init_subclass__',\n",
       " '__le__',\n",
       " '__lt__',\n",
       " '__ne__',\n",
       " '__new__',\n",
       " '__reduce__',\n",
       " '__reduce_ex__',\n",
       " '__repr__',\n",
       " '__setattr__',\n",
       " '__setstate__',\n",
       " '__sizeof__',\n",
       " '__str__',\n",
       " '__subclasshook__',\n",
       " 'args',\n",
       " 'func',\n",
       " 'keywords']"
      ]
     },
     "execution_count": 476,
     "metadata": {},
     "output_type": "execute_result"
    }
   ],
   "source": [
    "dir(pfoo)"
   ]
  },
  {
   "cell_type": "code",
   "execution_count": 477,
   "metadata": {
    "ExecuteTime": {
     "end_time": "2021-04-29T03:57:27.246527Z",
     "start_time": "2021-04-29T03:57:27.217646Z"
    }
   },
   "outputs": [
    {
     "data": {
      "text/plain": [
       "{'b': 99, 'd': 'd'}"
      ]
     },
     "execution_count": 477,
     "metadata": {},
     "output_type": "execute_result"
    }
   ],
   "source": [
    "pfoo.keywords"
   ]
  },
  {
   "cell_type": "code",
   "execution_count": 473,
   "metadata": {
    "ExecuteTime": {
     "end_time": "2021-04-29T03:57:04.819397Z",
     "start_time": "2021-04-29T03:57:04.789898Z"
    }
   },
   "outputs": [
    {
     "data": {
      "text/plain": [
       "(2,)"
      ]
     },
     "execution_count": 473,
     "metadata": {},
     "output_type": "execute_result"
    }
   ],
   "source": [
    "pfoo.func.__defaults__"
   ]
  },
  {
   "cell_type": "code",
   "execution_count": 474,
   "metadata": {
    "ExecuteTime": {
     "end_time": "2021-04-29T03:57:05.047820Z",
     "start_time": "2021-04-29T03:57:05.003882Z"
    }
   },
   "outputs": [
    {
     "data": {
      "text/plain": [
       "{'c': 3}"
      ]
     },
     "execution_count": 474,
     "metadata": {},
     "output_type": "execute_result"
    }
   ],
   "source": [
    "pfoo.func.__kwdefaults__"
   ]
  },
  {
   "cell_type": "code",
   "execution_count": 475,
   "metadata": {
    "ExecuteTime": {
     "end_time": "2021-04-29T03:57:07.582558Z",
     "start_time": "2021-04-29T03:57:07.516786Z"
    }
   },
   "outputs": [
    {
     "data": {
      "text/plain": [
       "()"
      ]
     },
     "execution_count": 475,
     "metadata": {},
     "output_type": "execute_result"
    }
   ],
   "source": [
    "pfoo.args"
   ]
  },
  {
   "cell_type": "code",
   "execution_count": 744,
   "metadata": {
    "ExecuteTime": {
     "end_time": "2021-04-30T03:23:33.722542Z",
     "start_time": "2021-04-30T03:23:33.696356Z"
    }
   },
   "outputs": [],
   "source": [
    "from inspect import _empty"
   ]
  },
  {
   "cell_type": "code",
   "execution_count": 1088,
   "metadata": {
    "ExecuteTime": {
     "end_time": "2021-05-02T02:10:36.523971Z",
     "start_time": "2021-05-02T02:10:36.484877Z"
    }
   },
   "outputs": [],
   "source": [
    "def attach_repr(func, repr_func=None, str_func=None, name=None):\n",
    "    class CustomReprFunction:\n",
    "        def __init__(self, func, repr_func, str_func):\n",
    "            self.func = func\n",
    "            self.repr_func = repr_func\n",
    "            self.str_func = str_func\n",
    "            update_wrapper(self, func)\n",
    "            self.__name__ = ifnone(name, func.__name__)\n",
    "        \n",
    "        def __repr__(self):\n",
    "            if self.repr_func:\n",
    "                return self.repr_func(self)\n",
    "            return repr(self.func)\n",
    "        \n",
    "        def __call__(self, *args, **kwargs):\n",
    "            return self.func(*args, **kwargs)\n",
    "            \n",
    "        def __str__(self):\n",
    "            if self.str_func:\n",
    "                return self.str_func(self)\n",
    "            return repr(self.func)\n",
    "        \n",
    "    func_ = CustomReprFunction(func, repr_func, str_func)\n",
    "    return func_"
   ]
  },
  {
   "cell_type": "code",
   "execution_count": 1134,
   "metadata": {
    "ExecuteTime": {
     "end_time": "2021-05-02T23:22:31.951104Z",
     "start_time": "2021-05-02T23:22:31.682109Z"
    },
    "run_control": {
     "marked": false
    }
   },
   "outputs": [
    {
     "data": {
      "text/plain": [
       "(<function foo at 0x123fbf730>, '<function foo at 0x123fbf730>', 'bar')"
      ]
     },
     "execution_count": 1134,
     "metadata": {},
     "output_type": "execute_result"
    }
   ],
   "source": [
    "tmp = attach_repr(foo, name='bar')\n",
    "tmp, str(tmp), tmp.__name__"
   ]
  },
  {
   "cell_type": "code",
   "execution_count": 1010,
   "metadata": {
    "ExecuteTime": {
     "end_time": "2021-05-02T01:27:45.891353Z",
     "start_time": "2021-05-02T01:27:45.530762Z"
    }
   },
   "outputs": [],
   "source": [
    "def getindex(arr, val, default=-1):\n",
    "    return arr.index(val) if val in arr else default"
   ]
  },
  {
   "cell_type": "code",
   "execution_count": 1114,
   "metadata": {
    "ExecuteTime": {
     "end_time": "2021-05-02T02:22:12.480235Z",
     "start_time": "2021-05-02T02:22:12.381894Z"
    }
   },
   "outputs": [],
   "source": [
    "def rigorous_partial(func, name=None, **kwargs):\n",
    "    func = copy_func(func)\n",
    "    old_sig = signature(func)\n",
    "    # Track names of positional args in old function since this affects the \n",
    "    # order args must be passed in if var_positional parameters (*args) are\n",
    "    # present.\n",
    "    old_pos_pars = []\n",
    "    new_pars = []\n",
    "    kwargs_name = ''\n",
    "    args_name = ''\n",
    "    for k, v in old_sig.parameters.items():\n",
    "        if v.kind == 0:\n",
    "            raise NotImplementedError(\n",
    "                'rigorous_partial does not support functions with positional '\n",
    "                'only parameters.'\n",
    "            )\n",
    "        elif v.kind == 2:\n",
    "            args_name = k\n",
    "        elif v.kind == 4:\n",
    "            kwargs_name = k\n",
    "            break\n",
    "            \n",
    "        if v.kind <= 2:\n",
    "            old_pos_pars.append(k)\n",
    "\n",
    "        # Assign default value from newly specified kwargs if provided.\n",
    "        if k in kwargs:\n",
    "            default = kwargs.pop(k)\n",
    "            kind = 3\n",
    "        else:\n",
    "            default = v.default\n",
    "            kind = v.kind\n",
    "        param = inspect.Parameter(k, kind, default=default)\n",
    "        new_pars.append(param)\n",
    "        \n",
    "    # Remaining kwargs only: those that were not present in func's signature.\n",
    "    # Require that they be keyword only since ordering can cause issues\n",
    "    # (updating signature affects what we see but doesn't seem to affect the \n",
    "    # actual order args are passed in, presumably due to old __code__ object).\n",
    "    for k, v in kwargs.items():\n",
    "        param = inspect.Parameter(k, 3, default=v)\n",
    "        new_pars.append(param)\n",
    "    if kwargs_name:\n",
    "        new_pars.append(inspect.Parameter(kwargs_name, 4))\n",
    "        \n",
    "    # Ensure we don't accidentally place any parameters with defaults ahead\n",
    "    # of those without them. Third item in tuple is a tiebreaker (defaults to\n",
    "    # original function's parameter order).\n",
    "    old_names = [p for p in old_sig.parameters]\n",
    "    new_pars.sort(key=lambda x: (x.kind, x.default != _empty, \n",
    "                                 getindex(old_names, x.name, float('inf'))))\n",
    "\n",
    "    # TODO: might need to attach these to the wrapped func instead? Can't \n",
    "    # access these outside this function. But we use it inside wrapper so that\n",
    "    # could cause other problems.\n",
    "    func.__defaults__ = tuple(p.default for p in new_pars if p.kind < 3 \n",
    "                              and p.default != _empty)\n",
    "    func.__kwdefaults__ = {p.name: p.default for p in new_pars if p.kind == 3}\n",
    "    func.__signature__ = old_sig.replace(parameters=new_pars)\n",
    "    if name: func.__name__ = name\n",
    "    \n",
    "    @wraps(func)\n",
    "    def wrapper(*args, **new_kwargs):\n",
    "        final_kwargs = bound_args(func, args, \n",
    "                                  {**func.__kwdefaults__, **new_kwargs})\n",
    "        final_args = {name: final_kwargs.pop(name) for name in old_pos_pars}\n",
    "        final_star_args = final_args.pop(args_name, [])\n",
    "        final_kwargs = select(final_kwargs, drop=list(final_args))\n",
    "        print('old_pos_pars', old_pos_pars)\n",
    "        print('final_kwargs', final_kwargs)\n",
    "        print('final_args', final_args)\n",
    "        print('final star args', final_star_args)\n",
    "        return func(*final_args.values(), *final_star_args, **final_kwargs)\n",
    "    wrapper.__kwdefaults__ = func.__kwdefaults__\n",
    "    wrapper.__defaults__ = func.__defaults__\n",
    "    return wrapper"
   ]
  },
  {
   "cell_type": "code",
   "execution_count": 1352,
   "metadata": {
    "ExecuteTime": {
     "end_time": "2021-05-03T01:06:17.494490Z",
     "start_time": "2021-05-03T01:06:17.328523Z"
    }
   },
   "outputs": [],
   "source": [
    "class Partial:\n",
    "    \n",
    "    def __init__(self, func, name=None, **kwargs):\n",
    "        self.func = copy_func(func)\n",
    "        self.old_name = func.__name__\n",
    "\n",
    "        # Track names of positional args in old function since this affects \n",
    "        # the order args must be passed in if var_positional parameters \n",
    "        # (*args) are present.\n",
    "        self.old_pos_pars = []\n",
    "        self.kwargs_name = ''\n",
    "        self.args_name = ''\n",
    "        new_pars = []\n",
    "        old_sig = signature(self.func)\n",
    "        for k, v in old_sig.parameters.items():\n",
    "            # Check parameter kind for error handling and argument resolution\n",
    "            # in __call__.\n",
    "            if v.kind == 0:\n",
    "                raise NotImplementedError(\n",
    "                    'rigorous_partial does not support functions with '\n",
    "                    'positional only parameters.'\n",
    "                )\n",
    "            elif v.kind == 2:\n",
    "                self.args_name = k\n",
    "            elif v.kind == 4:\n",
    "                self.kwargs_name = k\n",
    "                break\n",
    "\n",
    "            if v.kind <= 2:\n",
    "                self.old_pos_pars.append(k)\n",
    "\n",
    "            # Assign default value from newly specified kwargs if provided.\n",
    "            if k in kwargs:\n",
    "                default = kwargs.pop(k)\n",
    "                kind = 3\n",
    "            else:\n",
    "                default = v.default\n",
    "                kind = v.kind\n",
    "            param = inspect.Parameter(k, kind, default=default)\n",
    "            new_pars.append(param)\n",
    "\n",
    "        # Remaining kwargs only: those that were not present in func's \n",
    "        # signature. Require that they be keyword only since ordering can\n",
    "        # cause issues (updating signature affects what we see but doesn't \n",
    "        # seem to affect the actual order args are passed in, presumably due \n",
    "        # to old __code__ object).\n",
    "        for k, v in kwargs.items():\n",
    "            param = inspect.Parameter(k, 3, default=v)\n",
    "            new_pars.append(param)\n",
    "        if self.kwargs_name:\n",
    "            new_pars.append(inspect.Parameter(self.kwargs_name, 4))\n",
    "\n",
    "        # Ensure we don't accidentally place any parameters with defaults \n",
    "        # ahead of those without them. Third item in tuple is a tiebreaker \n",
    "        # (defaults to original function's parameter order).\n",
    "        old_names = [p for p in old_sig.parameters]\n",
    "        new_pars.sort(\n",
    "            key=lambda x: (x.kind, x.default != _empty, \n",
    "                           getindex(old_names, x.name, float('inf')))\n",
    "        )\n",
    "\n",
    "        # I honestly forget why we need to set the attribute on self.func too,\n",
    "        # I just remember it was needed to resolve a bug (I think it was \n",
    "        # related to *args resolution).\n",
    "        self.__signature__ = self.func.__signature__ = old_sig.replace(\n",
    "            parameters=new_pars\n",
    "        )\n",
    "        self.__defaults__ = tuple(p.default for p in new_pars if p.kind < 3 \n",
    "                                  and p.default != _empty)\n",
    "        self.__kwdefaults__ = {p.name: p.default for p in new_pars\n",
    "                               if p.kind == 3}\n",
    "        if name: self.func.__name__ = name\n",
    "        update_wrapper(self, self.func)\n",
    "    \n",
    "    def __call__(self, *args, **new_kwargs):\n",
    "        tmp_kwargs = bound_args(self.func, args, \n",
    "                                {**self.__kwdefaults__, **new_kwargs})\n",
    "        final_args = {name: tmp_kwargs.pop(name) \n",
    "                      for name in self.old_pos_pars}\n",
    "        final_star_args = final_args.pop(self.args_name, [])\n",
    "        final_kwargs = select(tmp_kwargs, drop=list(final_args))\n",
    "        return self.func(*final_args.values(), *final_star_args,\n",
    "                         **final_kwargs)\n",
    "\n",
    "    def __repr__(self):\n",
    "        return repr(self.func).replace(self.old_name, self.__name__)\n",
    "    \n",
    "    def __str__(self):\n",
    "        return str(self.func).replace(self.old_name, self.__name__)"
   ]
  },
  {
   "cell_type": "code",
   "execution_count": 1358,
   "metadata": {
    "ExecuteTime": {
     "end_time": "2021-05-03T01:21:05.550967Z",
     "start_time": "2021-05-03T01:21:05.504253Z"
    }
   },
   "outputs": [
    {
     "data": {
      "text/plain": [
       "functools.partial(<function foo at 0x123fbf730>, a='a')"
      ]
     },
     "execution_count": 1358,
     "metadata": {},
     "output_type": "execute_result"
    }
   ],
   "source": [
    "partial(foo, a='a')"
   ]
  },
  {
   "cell_type": "code",
   "execution_count": 1359,
   "metadata": {
    "ExecuteTime": {
     "end_time": "2021-05-03T01:21:19.540751Z",
     "start_time": "2021-05-03T01:21:19.507193Z"
    }
   },
   "outputs": [
    {
     "data": {
      "text/plain": [
       "<function foo at 0x123ed1400>"
      ]
     },
     "execution_count": 1359,
     "metadata": {},
     "output_type": "execute_result"
    }
   ],
   "source": [
    "Partial(foo, a='a')"
   ]
  },
  {
   "cell_type": "code",
   "execution_count": null,
   "metadata": {},
   "outputs": [],
   "source": [
    "foo()"
   ]
  },
  {
   "cell_type": "code",
   "execution_count": 1208,
   "metadata": {
    "ExecuteTime": {
     "end_time": "2021-05-03T00:01:34.390597Z",
     "start_time": "2021-05-03T00:01:34.355431Z"
    }
   },
   "outputs": [
    {
     "data": {
      "text/plain": [
       "<function foo at 0x123e418c8>"
      ]
     },
     "execution_count": 1208,
     "metadata": {},
     "output_type": "execute_result"
    }
   ],
   "source": [
    "new_v2 = Partial(foo, a=False, x=9, y=8, z='zzzz')\n",
    "new_v2"
   ]
  },
  {
   "cell_type": "code",
   "execution_count": 1209,
   "metadata": {
    "ExecuteTime": {
     "end_time": "2021-05-03T00:01:38.783914Z",
     "start_time": "2021-05-03T00:01:38.751319Z"
    }
   },
   "outputs": [
    {
     "name": "stdout",
     "output_type": "stream",
     "text": [
      "a False\n",
      "a2 a2\n",
      "b b_val\n",
      "args ('some', 'args', 'more')\n",
      "c 3\n",
      "kwargs {'x': 9, 'y': 8, 'z': 'zzzz', 'new_kwarg': 'q'}\n"
     ]
    }
   ],
   "source": [
    "new_v2('a2', 'b_val', 'some', 'args', 'more', new_kwarg='q')"
   ]
  },
  {
   "cell_type": "code",
   "execution_count": 1210,
   "metadata": {
    "ExecuteTime": {
     "end_time": "2021-05-03T00:02:15.191914Z",
     "start_time": "2021-05-03T00:02:15.156393Z"
    }
   },
   "outputs": [
    {
     "data": {
      "text/plain": [
       "<function a_new_name at 0x123e50378>"
      ]
     },
     "execution_count": 1210,
     "metadata": {},
     "output_type": "execute_result"
    }
   ],
   "source": [
    "new_v2 = Partial(foo, name='a_new_name', a=False, x=9, y=8, z='zzzz')\n",
    "new_v2"
   ]
  },
  {
   "cell_type": "code",
   "execution_count": 1211,
   "metadata": {
    "ExecuteTime": {
     "end_time": "2021-05-03T00:02:29.024526Z",
     "start_time": "2021-05-03T00:02:28.971395Z"
    }
   },
   "outputs": [
    {
     "name": "stdout",
     "output_type": "stream",
     "text": [
      "a False\n",
      "a2 a2\n",
      "b b_val\n",
      "args ('some', 'args', 'more')\n",
      "c 3\n",
      "kwargs {'x': 9, 'y': 8, 'z': 'zzzz', 'new_kwarg': 'q'}\n"
     ]
    }
   ],
   "source": [
    "new_v2('a2', 'b_val', 'some', 'args', 'more', new_kwarg='q')"
   ]
  },
  {
   "cell_type": "code",
   "execution_count": 1212,
   "metadata": {
    "ExecuteTime": {
     "end_time": "2021-05-03T00:02:39.089092Z",
     "start_time": "2021-05-03T00:02:39.048344Z"
    }
   },
   "outputs": [
    {
     "data": {
      "text/plain": [
       "('a_new_name', (2,), {'a': False, 'c': 3, 'x': 9, 'y': 8, 'z': 'zzzz'})"
      ]
     },
     "execution_count": 1212,
     "metadata": {},
     "output_type": "execute_result"
    }
   ],
   "source": [
    "new_v2.__name__, new_v2.__defaults__, new_v2.__kwdefaults__"
   ]
  },
  {
   "cell_type": "code",
   "execution_count": 1213,
   "metadata": {
    "ExecuteTime": {
     "end_time": "2021-05-03T00:02:44.971398Z",
     "start_time": "2021-05-03T00:02:44.943327Z"
    }
   },
   "outputs": [
    {
     "data": {
      "text/plain": [
       "'<function a_new_name at 0x123e50378>'"
      ]
     },
     "execution_count": 1213,
     "metadata": {},
     "output_type": "execute_result"
    }
   ],
   "source": [
    "str(new_v2)"
   ]
  },
  {
   "cell_type": "code",
   "execution_count": 1214,
   "metadata": {
    "ExecuteTime": {
     "end_time": "2021-05-03T00:02:54.500604Z",
     "start_time": "2021-05-03T00:02:54.453711Z"
    }
   },
   "outputs": [
    {
     "data": {
      "text/plain": [
       "False"
      ]
     },
     "execution_count": 1214,
     "metadata": {},
     "output_type": "execute_result"
    }
   ],
   "source": [
    "inspect.isfunction(new_v2)"
   ]
  },
  {
   "cell_type": "code",
   "execution_count": 1215,
   "metadata": {
    "ExecuteTime": {
     "end_time": "2021-05-03T00:03:01.408927Z",
     "start_time": "2021-05-03T00:03:01.378722Z"
    }
   },
   "outputs": [
    {
     "data": {
      "text/plain": [
       "True"
      ]
     },
     "execution_count": 1215,
     "metadata": {},
     "output_type": "execute_result"
    }
   ],
   "source": [
    "inspect.isfunction(foo)"
   ]
  },
  {
   "cell_type": "code",
   "execution_count": 1217,
   "metadata": {
    "ExecuteTime": {
     "end_time": "2021-05-03T00:04:01.854171Z",
     "start_time": "2021-05-03T00:04:01.822601Z"
    }
   },
   "outputs": [
    {
     "name": "stdout",
     "output_type": "stream",
     "text": [
      "def foo(a, a2, b=2, *args, c=3, **kwargs):\n",
      "    print('a', a)\n",
      "    print('a2', a2)\n",
      "    print('b', b)\n",
      "    print('args', args)\n",
      "    print('c', c)\n",
      "    print('kwargs', kwargs)\n",
      "\n"
     ]
    }
   ],
   "source": [
    "print(inspect.getsource(foo))"
   ]
  },
  {
   "cell_type": "code",
   "execution_count": 1218,
   "metadata": {
    "ExecuteTime": {
     "end_time": "2021-05-03T00:04:07.674681Z",
     "start_time": "2021-05-03T00:04:07.631609Z"
    }
   },
   "outputs": [
    {
     "name": "stdout",
     "output_type": "stream",
     "text": [
      "def foo(a, a2, b=2, *args, c=3, **kwargs):\n",
      "    print('a', a)\n",
      "    print('a2', a2)\n",
      "    print('b', b)\n",
      "    print('args', args)\n",
      "    print('c', c)\n",
      "    print('kwargs', kwargs)\n",
      "\n"
     ]
    }
   ],
   "source": [
    "# Tbh not sure what I'd want this to return. Ideally I guess we'd have\n",
    "# rewritten the actual definition but I don't think this is possible without\n",
    "# rebuilding the __code__ object, which I remember required using a largely\n",
    "# undocumented function whose interface (purportedly) frequently changes.\n",
    "print(inspect.getsource(new_v2))"
   ]
  },
  {
   "cell_type": "code",
   "execution_count": 1203,
   "metadata": {
    "ExecuteTime": {
     "end_time": "2021-05-02T23:50:09.550536Z",
     "start_time": "2021-05-02T23:50:09.521946Z"
    }
   },
   "outputs": [
    {
     "name": "stdout",
     "output_type": "stream",
     "text": [
      " 0: ('a2', <Parameter \"a2\">)\n",
      " 1: ('b', <Parameter \"b=2\">)\n",
      " 2: ('args', <Parameter \"*args\">)\n",
      " 3: ('a', <Parameter \"a=False\">)\n",
      " 4: ('c', <Parameter \"c=3\">)\n",
      " 5: ('x', <Parameter \"x=9\">)\n",
      " 6: ('y', <Parameter \"y=8\">)\n",
      " 7: ('z', <Parameter \"z='zzzz'\">)\n",
      " 8: ('kwargs', <Parameter \"**kwargs\">)\n"
     ]
    }
   ],
   "source": [
    "eprint(params(new_v2).items())"
   ]
  },
  {
   "cell_type": "code",
   "execution_count": 1200,
   "metadata": {
    "ExecuteTime": {
     "end_time": "2021-05-02T23:49:22.050931Z",
     "start_time": "2021-05-02T23:49:22.019617Z"
    }
   },
   "outputs": [
    {
     "data": {
      "text/plain": [
       "<Signature (a2, b=2, *args, a=False, c=3, x=9, y=8, z='zzzz', **kwargs)>"
      ]
     },
     "execution_count": 1200,
     "metadata": {},
     "output_type": "execute_result"
    }
   ],
   "source": [
    "signature(new_v2)"
   ]
  },
  {
   "cell_type": "code",
   "execution_count": 1102,
   "metadata": {
    "ExecuteTime": {
     "end_time": "2021-05-02T02:17:43.810360Z",
     "start_time": "2021-05-02T02:17:43.781549Z"
    }
   },
   "outputs": [
    {
     "data": {
      "text/plain": [
       "<Signature (a, a2, b=2, *args, c=3, **kwargs)>"
      ]
     },
     "execution_count": 1102,
     "metadata": {},
     "output_type": "execute_result"
    }
   ],
   "source": [
    "signature(foo)"
   ]
  },
  {
   "cell_type": "code",
   "execution_count": 1103,
   "metadata": {
    "ExecuteTime": {
     "end_time": "2021-05-02T02:17:43.990300Z",
     "start_time": "2021-05-02T02:17:43.953367Z"
    }
   },
   "outputs": [
    {
     "name": "stdout",
     "output_type": "stream",
     "text": [
      "def foo(a, a2, b=2, *args, c=3, **kwargs):\n",
      "    print('a', a)\n",
      "    print('a2', a2)\n",
      "    print('b', b)\n",
      "    print('args', args)\n",
      "    print('c', c)\n",
      "    print('kwargs', kwargs)\n",
      "\n"
     ]
    }
   ],
   "source": [
    "print(inspect.getsource(foo))"
   ]
  },
  {
   "cell_type": "code",
   "execution_count": 1104,
   "metadata": {
    "ExecuteTime": {
     "end_time": "2021-05-02T02:17:44.820918Z",
     "start_time": "2021-05-02T02:17:44.794347Z"
    }
   },
   "outputs": [
    {
     "name": "stdout",
     "output_type": "stream",
     "text": [
      " 0: ('a', <_ParameterKind.POSITIONAL_OR_KEYWORD: 1>)\n",
      " 1: ('a2', <_ParameterKind.POSITIONAL_OR_KEYWORD: 1>)\n",
      " 2: ('b', <_ParameterKind.POSITIONAL_OR_KEYWORD: 1>)\n",
      " 3: ('args', <_ParameterKind.VAR_POSITIONAL: 2>)\n",
      " 4: ('c', <_ParameterKind.KEYWORD_ONLY: 3>)\n",
      " 5: ('kwargs', <_ParameterKind.VAR_KEYWORD: 4>)\n"
     ]
    }
   ],
   "source": [
    "eprint({k: v.kind for k, v in params(foo).items()}.items())"
   ]
  },
  {
   "cell_type": "code",
   "execution_count": 1105,
   "metadata": {
    "ExecuteTime": {
     "end_time": "2021-05-02T02:17:45.449527Z",
     "start_time": "2021-05-02T02:17:45.421851Z"
    },
    "run_control": {
     "marked": false
    }
   },
   "outputs": [
    {
     "data": {
      "text/plain": [
       "<Signature (a, a2, b=2, *args, c=3, **kwargs)>"
      ]
     },
     "execution_count": 1105,
     "metadata": {},
     "output_type": "execute_result"
    }
   ],
   "source": [
    "signature(foo)"
   ]
  },
  {
   "cell_type": "code",
   "execution_count": 1106,
   "metadata": {
    "ExecuteTime": {
     "end_time": "2021-05-02T02:17:48.586356Z",
     "start_time": "2021-05-02T02:17:48.555269Z"
    }
   },
   "outputs": [
    {
     "data": {
      "text/plain": [
       "(2,)"
      ]
     },
     "execution_count": 1106,
     "metadata": {},
     "output_type": "execute_result"
    }
   ],
   "source": [
    "foo.__defaults__"
   ]
  },
  {
   "cell_type": "code",
   "execution_count": 1107,
   "metadata": {
    "ExecuteTime": {
     "end_time": "2021-05-02T02:17:48.882212Z",
     "start_time": "2021-05-02T02:17:48.842735Z"
    }
   },
   "outputs": [
    {
     "data": {
      "text/plain": [
       "{'c': 3}"
      ]
     },
     "execution_count": 1107,
     "metadata": {},
     "output_type": "execute_result"
    }
   ],
   "source": [
    "foo.__kwdefaults__"
   ]
  },
  {
   "cell_type": "code",
   "execution_count": 1108,
   "metadata": {
    "ExecuteTime": {
     "end_time": "2021-05-02T02:17:49.186373Z",
     "start_time": "2021-05-02T02:17:49.147643Z"
    }
   },
   "outputs": [
    {
     "name": "stdout",
     "output_type": "stream",
     "text": [
      "a aaaa\n",
      "a2 a2\n",
      "b 2\n",
      "args ()\n",
      "c 3\n",
      "kwargs {}\n"
     ]
    }
   ],
   "source": [
    "# Should have a=aaaa, a2=a2, b=2, args=(), c=3, kwargs={}.\n",
    "foo('aaaa', 'a2')"
   ]
  },
  {
   "cell_type": "code",
   "execution_count": 1236,
   "metadata": {
    "ExecuteTime": {
     "end_time": "2021-05-03T00:17:55.782935Z",
     "start_time": "2021-05-03T00:17:55.749326Z"
    }
   },
   "outputs": [
    {
     "data": {
      "text/plain": [
       "<function foo at 0x123e8ac80>"
      ]
     },
     "execution_count": 1236,
     "metadata": {},
     "output_type": "execute_result"
    }
   ],
   "source": [
    "new = Partial(foo, a2=111, z=99)\n",
    "new"
   ]
  },
  {
   "cell_type": "code",
   "execution_count": 1237,
   "metadata": {
    "ExecuteTime": {
     "end_time": "2021-05-03T00:18:01.776047Z",
     "start_time": "2021-05-03T00:18:01.746283Z"
    }
   },
   "outputs": [
    {
     "data": {
      "text/plain": [
       "<Signature (a, b=2, *args, a2=111, c=3, z=99, **kwargs)>"
      ]
     },
     "execution_count": 1237,
     "metadata": {},
     "output_type": "execute_result"
    }
   ],
   "source": [
    "# Should look like Signature(a, b=2, *args, a2=111, c=3, z=99, **kwargs).\n",
    "signature(new)"
   ]
  },
  {
   "cell_type": "code",
   "execution_count": 1238,
   "metadata": {
    "ExecuteTime": {
     "end_time": "2021-05-03T00:18:16.903601Z",
     "start_time": "2021-05-03T00:18:16.871108Z"
    }
   },
   "outputs": [
    {
     "name": "stdout",
     "output_type": "stream",
     "text": [
      " 0: ('a', (<_ParameterKind.POSITIONAL_OR_KEYWORD: 1>, <class 'inspect._empty'>))\n",
      " 1: ('b', (<_ParameterKind.POSITIONAL_OR_KEYWORD: 1>, 2))\n",
      " 2: ('args', (<_ParameterKind.VAR_POSITIONAL: 2>, <class 'inspect._empty'>))\n",
      " 3: ('a2', (<_ParameterKind.KEYWORD_ONLY: 3>, 111))\n",
      " 4: ('c', (<_ParameterKind.KEYWORD_ONLY: 3>, 3))\n",
      " 5: ('z', (<_ParameterKind.KEYWORD_ONLY: 3>, 99))\n",
      " 6: ('kwargs', (<_ParameterKind.VAR_KEYWORD: 4>, <class 'inspect._empty'>))\n"
     ]
    }
   ],
   "source": [
    "eprint({k: (v.kind, v.default) for k, v in params(new).items()}.items())"
   ]
  },
  {
   "cell_type": "code",
   "execution_count": 1239,
   "metadata": {
    "ExecuteTime": {
     "end_time": "2021-05-03T00:18:22.685791Z",
     "start_time": "2021-05-03T00:18:22.655725Z"
    }
   },
   "outputs": [
    {
     "data": {
      "text/plain": [
       "(2,)"
      ]
     },
     "execution_count": 1239,
     "metadata": {},
     "output_type": "execute_result"
    }
   ],
   "source": [
    "new.__defaults__"
   ]
  },
  {
   "cell_type": "code",
   "execution_count": 1240,
   "metadata": {
    "ExecuteTime": {
     "end_time": "2021-05-03T00:18:23.219966Z",
     "start_time": "2021-05-03T00:18:23.188972Z"
    }
   },
   "outputs": [
    {
     "data": {
      "text/plain": [
       "{'a2': 111, 'c': 3, 'z': 99}"
      ]
     },
     "execution_count": 1240,
     "metadata": {},
     "output_type": "execute_result"
    }
   ],
   "source": [
    "new.__kwdefaults__"
   ]
  },
  {
   "cell_type": "code",
   "execution_count": 1241,
   "metadata": {
    "ExecuteTime": {
     "end_time": "2021-05-03T00:18:26.293070Z",
     "start_time": "2021-05-03T00:18:26.243093Z"
    }
   },
   "outputs": [
    {
     "name": "stdout",
     "output_type": "stream",
     "text": [
      "a a\n",
      "a2 111\n",
      "b 2\n",
      "args ()\n",
      "c 3\n",
      "kwargs {'z': 99}\n"
     ]
    }
   ],
   "source": [
    "# Should be b=2, a2=111\n",
    "new('a')"
   ]
  },
  {
   "cell_type": "code",
   "execution_count": 1242,
   "metadata": {
    "ExecuteTime": {
     "end_time": "2021-05-03T00:18:29.580846Z",
     "start_time": "2021-05-03T00:18:29.541934Z"
    }
   },
   "outputs": [
    {
     "name": "stdout",
     "output_type": "stream",
     "text": [
      "a a\n",
      "a2 111\n",
      "b b\n",
      "args ()\n",
      "c 3\n",
      "kwargs {'z': 99}\n"
     ]
    }
   ],
   "source": [
    "# Should be b='b', a2=111\n",
    "new('a', 'b')"
   ]
  },
  {
   "cell_type": "code",
   "execution_count": 1243,
   "metadata": {
    "ExecuteTime": {
     "end_time": "2021-05-03T00:18:33.752026Z",
     "start_time": "2021-05-03T00:18:33.720970Z"
    }
   },
   "outputs": [
    {
     "name": "stdout",
     "output_type": "stream",
     "text": [
      "a a\n",
      "a2 a2\n",
      "b 2\n",
      "args ()\n",
      "c 3\n",
      "kwargs {'z': 99}\n"
     ]
    }
   ],
   "source": [
    "# Should be b=2, a2='a2'\n",
    "new('a', a2='a2')"
   ]
  },
  {
   "cell_type": "code",
   "execution_count": 1244,
   "metadata": {
    "ExecuteTime": {
     "end_time": "2021-05-03T00:18:37.440290Z",
     "start_time": "2021-05-03T00:18:37.392376Z"
    }
   },
   "outputs": [
    {
     "name": "stdout",
     "output_type": "stream",
     "text": [
      "a 1\n",
      "a2 111\n",
      "b 2\n",
      "args ()\n",
      "c ccc\n",
      "kwargs {'z': 99, 'd': 'd_kwarg'}\n"
     ]
    }
   ],
   "source": [
    "new(1, c='ccc', d='d_kwarg')"
   ]
  },
  {
   "cell_type": "code",
   "execution_count": 1248,
   "metadata": {
    "ExecuteTime": {
     "end_time": "2021-05-03T00:19:02.560685Z",
     "start_time": "2021-05-03T00:19:02.486364Z"
    }
   },
   "outputs": [
    {
     "name": "stdout",
     "output_type": "stream",
     "text": [
      "a 1\n",
      "a2 111\n",
      "b b\n",
      "args (0, 1, 2, 3, 4, 5)\n",
      "c ccc\n",
      "kwargs {'z': 99, 'd': 'd_kwarg'}\n"
     ]
    }
   ],
   "source": [
    "new(1, 'b', 0, 1, 2, 3, 4, 5, c='ccc', d='d_kwarg')"
   ]
  },
  {
   "cell_type": "code",
   "execution_count": 1249,
   "metadata": {
    "ExecuteTime": {
     "end_time": "2021-05-03T00:19:05.364590Z",
     "start_time": "2021-05-03T00:19:05.307894Z"
    }
   },
   "outputs": [
    {
     "name": "stdout",
     "output_type": "stream",
     "text": [
      "a a\n",
      "a2 111\n",
      "b a2\n",
      "args (-1, 0, 1, 2, 3, 4, 5)\n",
      "c 3\n",
      "kwargs {'z': 99}\n"
     ]
    }
   ],
   "source": [
    "new('a', 'a2', -1, 0, 1, 2, 3, 4, 5)"
   ]
  },
  {
   "cell_type": "code",
   "execution_count": 1250,
   "metadata": {
    "ExecuteTime": {
     "end_time": "2021-05-03T00:19:07.856634Z",
     "start_time": "2021-05-03T00:19:07.825357Z"
    }
   },
   "outputs": [
    {
     "name": "stdout",
     "output_type": "stream",
     "text": [
      "a a\n",
      "a2 111\n",
      "b a2\n",
      "args (-1, 0, 1, 2, 3, 4, 5)\n",
      "c 3\n",
      "kwargs {'z': 'nnn'}\n"
     ]
    }
   ],
   "source": [
    "new('a', 'a2', -1, 0, 1, 2, 3, 4, 5, z='nnn')"
   ]
  },
  {
   "cell_type": "code",
   "execution_count": 1251,
   "metadata": {
    "ExecuteTime": {
     "end_time": "2021-05-03T00:19:13.380353Z",
     "start_time": "2021-05-03T00:19:13.350891Z"
    }
   },
   "outputs": [
    {
     "data": {
      "text/plain": [
       "((2,), (2,))"
      ]
     },
     "execution_count": 1251,
     "metadata": {},
     "output_type": "execute_result"
    }
   ],
   "source": [
    "new.__defaults__, new.__wrapped__.__defaults__"
   ]
  },
  {
   "cell_type": "code",
   "execution_count": 1252,
   "metadata": {
    "ExecuteTime": {
     "end_time": "2021-05-03T00:19:13.947218Z",
     "start_time": "2021-05-03T00:19:13.909918Z"
    }
   },
   "outputs": [
    {
     "data": {
      "text/plain": [
       "({'a2': 111, 'c': 3, 'z': 99}, {'c': 3})"
      ]
     },
     "execution_count": 1252,
     "metadata": {},
     "output_type": "execute_result"
    }
   ],
   "source": [
    "new.__kwdefaults__, new.__wrapped__.__kwdefaults__"
   ]
  },
  {
   "cell_type": "code",
   "execution_count": 1254,
   "metadata": {
    "ExecuteTime": {
     "end_time": "2021-05-03T00:19:22.570966Z",
     "start_time": "2021-05-03T00:19:22.534708Z"
    }
   },
   "outputs": [
    {
     "data": {
      "text/plain": [
       "<function my_new_func at 0x123ed11e0>"
      ]
     },
     "execution_count": 1254,
     "metadata": {},
     "output_type": "execute_result"
    }
   ],
   "source": [
    "new_named = Partial(foo, name='my_new_func', b=888, x='xxx', t='ttt')\n",
    "new_named"
   ]
  },
  {
   "cell_type": "code",
   "execution_count": 1255,
   "metadata": {
    "ExecuteTime": {
     "end_time": "2021-05-03T00:19:24.918663Z",
     "start_time": "2021-05-03T00:19:24.886882Z"
    }
   },
   "outputs": [
    {
     "data": {
      "text/plain": [
       "'my_new_func'"
      ]
     },
     "execution_count": 1255,
     "metadata": {},
     "output_type": "execute_result"
    }
   ],
   "source": [
    "new_named.__name__"
   ]
  },
  {
   "cell_type": "code",
   "execution_count": 1256,
   "metadata": {
    "ExecuteTime": {
     "end_time": "2021-05-03T00:19:31.595763Z",
     "start_time": "2021-05-03T00:19:31.552327Z"
    }
   },
   "outputs": [
    {
     "data": {
      "text/plain": [
       "'my_new_func'"
      ]
     },
     "execution_count": 1256,
     "metadata": {},
     "output_type": "execute_result"
    }
   ],
   "source": [
    "func_name(new_named)"
   ]
  },
  {
   "cell_type": "code",
   "execution_count": 1257,
   "metadata": {
    "ExecuteTime": {
     "end_time": "2021-05-03T00:19:33.368735Z",
     "start_time": "2021-05-03T00:19:33.340372Z"
    }
   },
   "outputs": [
    {
     "data": {
      "text/plain": [
       "'my_new_func'"
      ]
     },
     "execution_count": 1257,
     "metadata": {},
     "output_type": "execute_result"
    }
   ],
   "source": [
    "new_named.__wrapped__.__name__"
   ]
  },
  {
   "cell_type": "code",
   "execution_count": 1258,
   "metadata": {
    "ExecuteTime": {
     "end_time": "2021-05-03T00:19:34.914399Z",
     "start_time": "2021-05-03T00:19:34.870191Z"
    }
   },
   "outputs": [
    {
     "data": {
      "text/plain": [
       "'my_new_func'"
      ]
     },
     "execution_count": 1258,
     "metadata": {},
     "output_type": "execute_result"
    }
   ],
   "source": [
    "func_name(new_named.__wrapped__)"
   ]
  },
  {
   "cell_type": "code",
   "execution_count": 1353,
   "metadata": {
    "ExecuteTime": {
     "end_time": "2021-05-03T01:07:07.124197Z",
     "start_time": "2021-05-03T01:07:07.085706Z"
    }
   },
   "outputs": [
    {
     "name": "stdout",
     "output_type": "stream",
     "text": [
      " 0: x:0, y:-6, z:0\n",
      " 1: x:0, y:-6, z:1\n",
      " 2: x:0, y:-6, z:2\n",
      " 3: x:0, y:-6, z:3\n",
      " 4: x:0, y:-6, z:4\n",
      " 5: x:0, y:-6, z:5\n",
      " 6: x:0, y:-6, z:6\n",
      " 7: x:0, y:-6, z:7\n",
      " 8: x:0, y:-6, z:8\n",
      " 9: x:0, y:-6, z:9\n",
      "\n",
      "-------------------------------------------------------------------------------\n",
      "\n"
     ]
    },
    {
     "ename": "TypeError",
     "evalue": "baz() got multiple values for argument 'x'",
     "output_type": "error",
     "traceback": [
      "\u001b[0;31m---------------------------------------------------------------------------\u001b[0m",
      "\u001b[0;31mTypeError\u001b[0m                                 Traceback (most recent call last)",
      "\u001b[0;32m<ipython-input-1353-1b6f8c59eee9>\u001b[0m in \u001b[0;36m<module>\u001b[0;34m()\u001b[0m\n\u001b[1;32m     12\u001b[0m \u001b[0;34m\u001b[0m\u001b[0m\n\u001b[1;32m     13\u001b[0m \u001b[0mf1\u001b[0m \u001b[0;34m=\u001b[0m \u001b[0mpartial\u001b[0m\u001b[0;34m(\u001b[0m\u001b[0mbaz\u001b[0m\u001b[0;34m,\u001b[0m \u001b[0mx\u001b[0m\u001b[0;34m=\u001b[0m\u001b[0;36m0\u001b[0m\u001b[0;34m,\u001b[0m \u001b[0my\u001b[0m\u001b[0;34m=\u001b[0m\u001b[0;34m-\u001b[0m\u001b[0;36m6\u001b[0m\u001b[0;34m)\u001b[0m\u001b[0;34m\u001b[0m\u001b[0;34m\u001b[0m\u001b[0m\n\u001b[0;32m---> 14\u001b[0;31m \u001b[0meprint\u001b[0m\u001b[0;34m(\u001b[0m\u001b[0mlist\u001b[0m\u001b[0;34m(\u001b[0m\u001b[0mmap\u001b[0m\u001b[0;34m(\u001b[0m\u001b[0mf1\u001b[0m\u001b[0;34m,\u001b[0m \u001b[0mzz\u001b[0m\u001b[0;34m)\u001b[0m\u001b[0;34m)\u001b[0m\u001b[0;34m)\u001b[0m\u001b[0;34m\u001b[0m\u001b[0;34m\u001b[0m\u001b[0m\n\u001b[0m",
      "\u001b[0;31mTypeError\u001b[0m: baz() got multiple values for argument 'x'"
     ]
    }
   ],
   "source": [
    "# Testing example from stackoverflow where functools version acts weirdly. \n",
    "# https://stackoverflow.com/questions/38975975/python-partial-with-keyword-arguments\n",
    "def baz(x=1, y=2, z=3):\n",
    "    return f'x:{x}, y:{y}, z:{z}'\n",
    "\n",
    "# Looks like my Partial works as expected here and functools.partial still\n",
    "# does not.\n",
    "zz = range(10)\n",
    "f0 = Partial(baz, x=0, y=-6)\n",
    "eprint(list(map(f0, zz)))\n",
    "print(spacer())\n",
    "\n",
    "f1 = partial(baz, x=0, y=-6)\n",
    "eprint(list(map(f1, zz)))"
   ]
  },
  {
   "cell_type": "code",
   "execution_count": 1356,
   "metadata": {
    "ExecuteTime": {
     "end_time": "2021-05-03T01:07:56.706373Z",
     "start_time": "2021-05-03T01:07:56.676633Z"
    }
   },
   "outputs": [
    {
     "data": {
      "text/plain": [
       "<Signature (z=3, *, x=0, y=-6)>"
      ]
     },
     "execution_count": 1356,
     "metadata": {},
     "output_type": "execute_result"
    }
   ],
   "source": [
    "signature(f0)"
   ]
  }
 ],
 "metadata": {
  "kernelspec": {
   "display_name": "Python 3",
   "language": "python",
   "name": "python3"
  },
  "language_info": {
   "codemirror_mode": {
    "name": "ipython",
    "version": 3
   },
   "file_extension": ".py",
   "mimetype": "text/x-python",
   "name": "python",
   "nbconvert_exporter": "python",
   "pygments_lexer": "ipython3",
   "version": "3.7.3"
  }
 },
 "nbformat": 4,
 "nbformat_minor": 2
}
