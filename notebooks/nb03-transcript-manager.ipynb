{
 "cells": [
  {
   "cell_type": "markdown",
   "metadata": {},
   "source": [
    "# Summary\n",
    "\n",
    "Start tying openai and youtube functionality together to manage the punctuation process."
   ]
  },
  {
   "cell_type": "code",
   "execution_count": 1,
   "metadata": {
    "ExecuteTime": {
     "end_time": "2021-04-24T20:44:46.290749Z",
     "start_time": "2021-04-24T20:44:46.250880Z"
    }
   },
   "outputs": [],
   "source": [
    "%load_ext autoreload\n",
    "%autoreload 2"
   ]
  },
  {
   "cell_type": "code",
   "execution_count": 15,
   "metadata": {
    "ExecuteTime": {
     "end_time": "2021-04-24T20:58:25.316377Z",
     "start_time": "2021-04-24T20:58:25.257986Z"
    }
   },
   "outputs": [],
   "source": [
    "import matplotlib.pyplot as plt\n",
    "import numpy as np\n",
    "import os\n",
    "import pandas as pd\n",
    "from pathlib import Path\n",
    "from youtube_transcript_api import YouTubeTranscriptApi, NoTranscriptFound\n",
    "\n",
    "from jabberwocky.config import C\n",
    "from jabberwocky.openai_utils import query_gpt3\n",
    "from jabberwocky.utils import load_prompt\n",
    "from jabberwocky.youtube import realign_punctuated_text, get_transcripts, \\\n",
    "    text_segment, video_id\n",
    "from htools import *"
   ]
  },
  {
   "cell_type": "code",
   "execution_count": 3,
   "metadata": {
    "ExecuteTime": {
     "end_time": "2021-04-24T20:46:32.729227Z",
     "start_time": "2021-04-24T20:46:32.701229Z"
    }
   },
   "outputs": [
    {
     "name": "stdout",
     "output_type": "stream",
     "text": [
      "Current directory: /Users/hmamin/jabberwocky\n"
     ]
    }
   ],
   "source": [
    "cd_root()"
   ]
  },
  {
   "cell_type": "code",
   "execution_count": 264,
   "metadata": {
    "ExecuteTime": {
     "end_time": "2021-04-26T00:09:50.838655Z",
     "start_time": "2021-04-26T00:09:50.722361Z"
    }
   },
   "outputs": [],
   "source": [
    "class UnpunctuatedTranscript:\n",
    "    \n",
    "    def __init__(self, df_gen, **kwargs):\n",
    "        self.df_gen = df_gen\n",
    "        self.df_punct = self.df_gen.copy()\n",
    "        self.df_punct['text'] = np.nan\n",
    "        # TODO: adjust so prompt template saved separately from prompt_kwargs.\n",
    "        # TODO: adjust load_prompt to have option to skip .format call \n",
    "        # if no text passed in.\n",
    "        self.prompt_kwargs = load_prompt('punctuate')\n",
    "        self.prompt_fmt = self.prompt_kwargs.pop('prompt')\n",
    "        self.prompt_kwargs.update(kwargs)\n",
    "        \n",
    "    @property\n",
    "    def df(self):\n",
    "        # TODO: maybe should return self.df_punct, possibly after punct query? \n",
    "        # Unsure.\n",
    "        return self.df_gen\n",
    "    \n",
    "    # Not sure yet about this interface.\n",
    "    def _punctuate_chunk(self, df_chunk, **kwargs):\n",
    "        text = ' '.join(df_chunk.text)\n",
    "        prompt = self.prompt_fmt.format(text).rstrip()\n",
    "        # n_tokens is roughly 1.33 * n_words. Add buffer for punctuation.\n",
    "        prompt_kwargs = {**self.prompt_kwargs,\n",
    "                         **kwargs, \n",
    "                         'max_tokens': int(len(text.split()) * 2)}\n",
    "        _, text_punct = query_gpt3(prompt, **prompt_kwargs)\n",
    "        return text_punct\n",
    "    \n",
    "    def punctuated_chunk(self, start_idx, end_idx, align_kwargs=None, \n",
    "                        **query_kwargs):\n",
    "        df_chunk = self.df_gen.loc[start_idx:end_idx]\n",
    "        text_punct = self._punctuate_chunk(df_chunk, **query_kwargs)\n",
    "        df_chunk_punct = realign_punctuated_text(df_chunk, text_punct, \n",
    "                                                 **ifnone(align_kwargs, {}))\n",
    "        self.df_punct.loc[start_idx:end_idx, 'text'] = df_chunk_punct.text\n",
    "#         return self.df_punct.loc[start_idx:end_idx, :], df_chunk, text_punct, df_chunk_punct\n",
    "        # TODO: seems we're getting bit by a settingwithcopyerror here.\n",
    "        # Not sure why since I think I'm using loc everywhere.\n",
    "        return self.df_punct.loc[start_idx:end_idx, :]"
   ]
  },
  {
   "cell_type": "code",
   "execution_count": 244,
   "metadata": {
    "ExecuteTime": {
     "end_time": "2021-04-26T00:02:29.252797Z",
     "start_time": "2021-04-26T00:02:29.215031Z"
    }
   },
   "outputs": [],
   "source": [
    "class PunctuatedTranscript:\n",
    "    \n",
    "    def __init__(self, df_gen, df_punct, **kwargs):\n",
    "        \"\"\"\n",
    "        kwargs:\n",
    "            Just for compatibility with UnpunctuatedTranscript, which needs\n",
    "            these to specify args like 'rstrip' when loading a prompt.\n",
    "        \"\"\"\n",
    "        self.df_gen = df_gen\n",
    "        self.df_punct = df_punct\n",
    "        \n",
    "    @property\n",
    "    def df(self):\n",
    "        return self.df_punct\n",
    "    \n",
    "    def punctuated_chunk(self, start_idx, end_idx, **kwargs):\n",
    "        return self.df_punct.loc[start_idx:end_idx, :]"
   ]
  },
  {
   "cell_type": "code",
   "execution_count": 245,
   "metadata": {
    "ExecuteTime": {
     "end_time": "2021-04-26T00:02:29.551968Z",
     "start_time": "2021-04-26T00:02:29.432278Z"
    }
   },
   "outputs": [],
   "source": [
    "@auto_repr\n",
    "class Transcript:\n",
    "    \n",
    "    def __init__(self, url, **kwargs):\n",
    "        self.url = url\n",
    "        self.id = video_id(url)\n",
    "        self._transcript = self._fetch_transcripts(url, **kwargs)\n",
    "        self.is_generated = isinstance(self._transcript,\n",
    "                                       UnpunctuatedTranscript)\n",
    "        self.start_time, self.end_time = self.df.start.ends(1)\n",
    "            \n",
    "    def _time_range(self, start, end, full_sentences=True):\n",
    "        assert end > start, 'End time must be later than start time.'\n",
    "        assert start >= 0 and end >= 0, 'Times must be non-negative.'\n",
    "\n",
    "        df = self.df\n",
    "        if start < self.start_time:\n",
    "            start_idx = 0\n",
    "        else:\n",
    "            start_idx = df.loc[df.start <= start].index[-1]\n",
    "\n",
    "        if end > df.start.iloc[-1]:\n",
    "            end_idx = df.tail(1).index[0]\n",
    "        else:\n",
    "            end_idx = df.loc[df.start >= end].index[0]\n",
    "        return df.iloc[start_idx:end_idx+1]\n",
    "    \n",
    "    def time_range(self, start, end, full_sentences=True, align_kwargs=None, \n",
    "                   **query_kwargs):\n",
    "        chunk = self._time_range(start, end, full_sentences=full_sentences)\n",
    "        return self._transcript.punctuated_chunk(*chunk.ends(1).index, \n",
    "                                                 align_kwargs=align_kwargs,\n",
    "                                                 **query_kwargs)\n",
    "    \n",
    "    @property\n",
    "    def df(self):\n",
    "        return self._transcript.df\n",
    "    \n",
    "    def _fetch_transcripts(self, url, **kwargs):\n",
    "        \"\"\"Wrapper to fetch youtube transcripts and create the appropriate\n",
    "        transcript object depending on whether a manually generated (i.e.\n",
    "        punctuated) transcript was retrieved.\n",
    "        \n",
    "        Parameters\n",
    "        ----------\n",
    "        url: str\n",
    "        verbose: bool\n",
    "        \"\"\"\n",
    "        df_gen, df_man, _ = self.get_transcripts(\n",
    "            url, verbose=kwargs.get('verbose', True)\n",
    "        )\n",
    "        if df_man is None:\n",
    "            return UnpunctuatedTranscript(df_gen, **kwargs)\n",
    "        else:\n",
    "            return PunctuatedTranscript(df_gen, df_man, **kwargs)\n",
    "        \n",
    "    @staticmethod\n",
    "    def get_transcripts(url, verbose=True):\n",
    "        \"\"\"Fetch one or more transcripts for a youtube video given its URL.\n",
    "\n",
    "        Parameters\n",
    "        ----------\n",
    "        url: str\n",
    "            Don't include any channel-related suffix. E.G. use\n",
    "            https://www.youtube.com/watch?v=OZbCRN3C_Hs, not\n",
    "            https://www.youtube.com/watch?v=OZbCRN3C_Hs&ab_channel=BBC.\n",
    "        verbose: bool\n",
    "            Warn\n",
    "\n",
    "        Returns\n",
    "        -------\n",
    "        DotDict: Contains keys 'id' (maps to video ID str), 'generated',\n",
    "        and 'manual' (the latter two lap to pandas dfs or None if no \n",
    "        transcript was found). Manual transcripts are human-created.\n",
    "        Generated transcripts are a bit lower quality and tend to lack\n",
    "        punctuation.\n",
    "        \"\"\"\n",
    "        langs = ['en', 'en-GB']\n",
    "        id_ = video_id(url)\n",
    "        res = {'generated': None, 'manual': None}\n",
    "        trans_list = YouTubeTranscriptApi.list_transcripts(id_)\n",
    "        res['generated'] = trans_list.find_generated_transcript(langs)\n",
    "        try:\n",
    "            res['manual'] = trans_list.find_manually_created_transcript(langs)\n",
    "        except NoTranscriptFound:\n",
    "            if verbose: warnings.warn('No manual transcript found.')\n",
    "        if verbose:\n",
    "            non_eng = [k for k, v in res.items()\n",
    "                       if v and ('United Kingdom' in v.language)]\n",
    "            if non_eng:\n",
    "                warnings.warn(\n",
    "                    f'{non_eng} {\"has\" if len(non_eng) == 1 else \"have\"} '\n",
    "                    'language en-GB, not en.'\n",
    "                )\n",
    "        return Args(**{k: pd.DataFrame(v.fetch()) if v else v \n",
    "                       for k, v in res.items()},\n",
    "                    id=id_)\n",
    "    \n",
    "    def __str__(self):\n",
    "        return f'{type(self).__name__}(url={self.url}, '\\\n",
    "               f'is_generated={self.is_generated})'"
   ]
  },
  {
   "cell_type": "code",
   "execution_count": 246,
   "metadata": {
    "ExecuteTime": {
     "end_time": "2021-04-26T00:02:30.806278Z",
     "start_time": "2021-04-26T00:02:30.746757Z"
    }
   },
   "outputs": [],
   "source": [
    "gen_url = 'https://www.youtube.com/watch?v=AtTsn1Ia4JY&ab_channel=LukeThomas'\n",
    "man_url = 'https://www.youtube.com/watch?v=NNnIGh9g6fA'"
   ]
  },
  {
   "cell_type": "code",
   "execution_count": 247,
   "metadata": {
    "ExecuteTime": {
     "end_time": "2021-04-26T00:02:32.104956Z",
     "start_time": "2021-04-26T00:02:30.939649Z"
    }
   },
   "outputs": [
    {
     "name": "stderr",
     "output_type": "stream",
     "text": [
      "/Users/hmamin/anaconda3/lib/python3.7/site-packages/ipykernel_launcher.py:86: UserWarning: No manual transcript found.\n"
     ]
    },
    {
     "name": "stdout",
     "output_type": "stream",
     "text": [
      "You should probably adjust max_tokens based on the length of the input. Bumping up to engine 2 or 3 might help a little, but engine 1 is serviceable (probably best to avoid 0 though). You should probably try training a huggingface model to add punctuation instead of using gpt3 credits though.\n",
      "-------------------------------------------------------------------------------\n",
      "\n"
     ]
    },
    {
     "data": {
      "text/plain": [
       "Transcript(url='https://www.youtube.com/watch?v=AtTsn1Ia4JY&ab_channel=LukeThomas')"
      ]
     },
     "execution_count": 247,
     "metadata": {},
     "output_type": "execute_result"
    }
   ],
   "source": [
    "trans_gen = Transcript(gen_url)\n",
    "trans_gen"
   ]
  },
  {
   "cell_type": "code",
   "execution_count": 240,
   "metadata": {
    "ExecuteTime": {
     "end_time": "2021-04-26T00:00:46.245273Z",
     "start_time": "2021-04-26T00:00:44.894502Z"
    }
   },
   "outputs": [
    {
     "data": {
      "text/plain": [
       "Transcript(url='https://www.youtube.com/watch?v=NNnIGh9g6fA')"
      ]
     },
     "execution_count": 240,
     "metadata": {},
     "output_type": "execute_result"
    }
   ],
   "source": [
    "trans_man = Transcript(man_url)\n",
    "trans_man"
   ]
  },
  {
   "cell_type": "code",
   "execution_count": 141,
   "metadata": {
    "ExecuteTime": {
     "end_time": "2021-04-25T23:36:37.041072Z",
     "start_time": "2021-04-25T23:36:36.937063Z"
    }
   },
   "outputs": [
    {
     "data": {
      "text/html": [
       "<div>\n",
       "<style scoped>\n",
       "    .dataframe tbody tr th:only-of-type {\n",
       "        vertical-align: middle;\n",
       "    }\n",
       "\n",
       "    .dataframe tbody tr th {\n",
       "        vertical-align: top;\n",
       "    }\n",
       "\n",
       "    .dataframe thead th {\n",
       "        text-align: right;\n",
       "    }\n",
       "</style>\n",
       "<table border=\"1\" class=\"dataframe\">\n",
       "  <thead>\n",
       "    <tr style=\"text-align: right;\">\n",
       "      <th></th>\n",
       "      <th>text</th>\n",
       "      <th>start</th>\n",
       "      <th>duration</th>\n",
       "    </tr>\n",
       "  </thead>\n",
       "  <tbody>\n",
       "    <tr>\n",
       "      <th>1</th>\n",
       "      <td>Stanford University.</td>\n",
       "      <td>4.94</td>\n",
       "      <td>0.92</td>\n",
       "    </tr>\n",
       "    <tr>\n",
       "      <th>2</th>\n",
       "      <td>This is BIO 150, isn't it?</td>\n",
       "      <td>9.36</td>\n",
       "      <td>3.37</td>\n",
       "    </tr>\n",
       "    <tr>\n",
       "      <th>3</th>\n",
       "      <td>OK, just wanted to make sure.</td>\n",
       "      <td>12.73</td>\n",
       "      <td>2.74</td>\n",
       "    </tr>\n",
       "    <tr>\n",
       "      <th>4</th>\n",
       "      <td>So we start off with a scenario.</td>\n",
       "      <td>15.47</td>\n",
       "      <td>3.42</td>\n",
       "    </tr>\n",
       "    <tr>\n",
       "      <th>5</th>\n",
       "      <td>40-year-old guy--\\nquiet, suburban life.</td>\n",
       "      <td>18.89</td>\n",
       "      <td>4.06</td>\n",
       "    </tr>\n",
       "  </tbody>\n",
       "</table>\n",
       "</div>"
      ],
      "text/plain": [
       "                                       text  start  duration\n",
       "1                      Stanford University.   4.94      0.92\n",
       "2                This is BIO 150, isn't it?   9.36      3.37\n",
       "3             OK, just wanted to make sure.  12.73      2.74\n",
       "4          So we start off with a scenario.  15.47      3.42\n",
       "5  40-year-old guy--\\nquiet, suburban life.  18.89      4.06"
      ]
     },
     "execution_count": 141,
     "metadata": {},
     "output_type": "execute_result"
    }
   ],
   "source": [
    "trans_man._time_range(7, 16)"
   ]
  },
  {
   "cell_type": "code",
   "execution_count": 208,
   "metadata": {
    "ExecuteTime": {
     "end_time": "2021-04-25T23:54:38.668974Z",
     "start_time": "2021-04-25T23:54:38.609526Z"
    }
   },
   "outputs": [
    {
     "data": {
      "text/plain": [
       "40"
      ]
     },
     "execution_count": 208,
     "metadata": {},
     "output_type": "execute_result"
    }
   ],
   "source": [
    "len(' '.join(trans_gen._time_range(7, 16).text).split())"
   ]
  },
  {
   "cell_type": "code",
   "execution_count": 202,
   "metadata": {
    "ExecuteTime": {
     "end_time": "2021-04-25T23:54:06.779870Z",
     "start_time": "2021-04-25T23:54:06.729831Z"
    }
   },
   "outputs": [
    {
     "data": {
      "text/html": [
       "<div>\n",
       "<style scoped>\n",
       "    .dataframe tbody tr th:only-of-type {\n",
       "        vertical-align: middle;\n",
       "    }\n",
       "\n",
       "    .dataframe tbody tr th {\n",
       "        vertical-align: top;\n",
       "    }\n",
       "\n",
       "    .dataframe thead th {\n",
       "        text-align: right;\n",
       "    }\n",
       "</style>\n",
       "<table border=\"1\" class=\"dataframe\">\n",
       "  <thead>\n",
       "    <tr style=\"text-align: right;\">\n",
       "      <th></th>\n",
       "      <th>text</th>\n",
       "      <th>start</th>\n",
       "      <th>duration</th>\n",
       "    </tr>\n",
       "  </thead>\n",
       "  <tbody>\n",
       "    <tr>\n",
       "      <th>1</th>\n",
       "      <td>Stanford University.</td>\n",
       "      <td>4.94</td>\n",
       "      <td>0.92</td>\n",
       "    </tr>\n",
       "    <tr>\n",
       "      <th>2</th>\n",
       "      <td>This is BIO 150, isn't it?</td>\n",
       "      <td>9.36</td>\n",
       "      <td>3.37</td>\n",
       "    </tr>\n",
       "    <tr>\n",
       "      <th>3</th>\n",
       "      <td>OK, just wanted to make sure.</td>\n",
       "      <td>12.73</td>\n",
       "      <td>2.74</td>\n",
       "    </tr>\n",
       "    <tr>\n",
       "      <th>4</th>\n",
       "      <td>So we start off with a scenario.</td>\n",
       "      <td>15.47</td>\n",
       "      <td>3.42</td>\n",
       "    </tr>\n",
       "    <tr>\n",
       "      <th>5</th>\n",
       "      <td>40-year-old guy--\\nquiet, suburban life.</td>\n",
       "      <td>18.89</td>\n",
       "      <td>4.06</td>\n",
       "    </tr>\n",
       "  </tbody>\n",
       "</table>\n",
       "</div>"
      ],
      "text/plain": [
       "                                       text  start  duration\n",
       "1                      Stanford University.   4.94      0.92\n",
       "2                This is BIO 150, isn't it?   9.36      3.37\n",
       "3             OK, just wanted to make sure.  12.73      2.74\n",
       "4          So we start off with a scenario.  15.47      3.42\n",
       "5  40-year-old guy--\\nquiet, suburban life.  18.89      4.06"
      ]
     },
     "execution_count": 202,
     "metadata": {},
     "output_type": "execute_result"
    }
   ],
   "source": [
    "trans_man.time_range(7, 16)"
   ]
  },
  {
   "cell_type": "code",
   "execution_count": 224,
   "metadata": {
    "ExecuteTime": {
     "end_time": "2021-04-25T23:57:32.943616Z",
     "start_time": "2021-04-25T23:57:32.901310Z"
    }
   },
   "outputs": [
    {
     "data": {
      "text/html": [
       "<div>\n",
       "<style scoped>\n",
       "    .dataframe tbody tr th:only-of-type {\n",
       "        vertical-align: middle;\n",
       "    }\n",
       "\n",
       "    .dataframe tbody tr th {\n",
       "        vertical-align: top;\n",
       "    }\n",
       "\n",
       "    .dataframe thead th {\n",
       "        text-align: right;\n",
       "    }\n",
       "</style>\n",
       "<table border=\"1\" class=\"dataframe\">\n",
       "  <thead>\n",
       "    <tr style=\"text-align: right;\">\n",
       "      <th></th>\n",
       "      <th>text</th>\n",
       "      <th>start</th>\n",
       "      <th>duration</th>\n",
       "    </tr>\n",
       "  </thead>\n",
       "  <tbody>\n",
       "    <tr>\n",
       "      <th>4</th>\n",
       "      <td>absolutely spectacular fashion knocking</td>\n",
       "      <td>6.879</td>\n",
       "      <td>5.521</td>\n",
       "    </tr>\n",
       "    <tr>\n",
       "      <th>5</th>\n",
       "      <td>out dan hooker in just over a couple of</td>\n",
       "      <td>10.160</td>\n",
       "      <td>2.800</td>\n",
       "    </tr>\n",
       "    <tr>\n",
       "      <th>6</th>\n",
       "      <td>minutes</td>\n",
       "      <td>12.400</td>\n",
       "      <td>3.359</td>\n",
       "    </tr>\n",
       "    <tr>\n",
       "      <th>7</th>\n",
       "      <td>at ufc 257 in the co-main event you want</td>\n",
       "      <td>12.960</td>\n",
       "      <td>5.520</td>\n",
       "    </tr>\n",
       "    <tr>\n",
       "      <th>8</th>\n",
       "      <td>to talk about ufc debuts wow but</td>\n",
       "      <td>15.759</td>\n",
       "      <td>4.561</td>\n",
       "    </tr>\n",
       "    <tr>\n",
       "      <th>9</th>\n",
       "      <td>how did he do it yes of course a big</td>\n",
       "      <td>18.480</td>\n",
       "      <td>3.360</td>\n",
       "    </tr>\n",
       "  </tbody>\n",
       "</table>\n",
       "</div>"
      ],
      "text/plain": [
       "                                       text   start  duration\n",
       "4   absolutely spectacular fashion knocking   6.879     5.521\n",
       "5   out dan hooker in just over a couple of  10.160     2.800\n",
       "6                                   minutes  12.400     3.359\n",
       "7  at ufc 257 in the co-main event you want  12.960     5.520\n",
       "8          to talk about ufc debuts wow but  15.759     4.561\n",
       "9      how did he do it yes of course a big  18.480     3.360"
      ]
     },
     "execution_count": 224,
     "metadata": {},
     "output_type": "execute_result"
    }
   ],
   "source": [
    "trans_gen._time_range(7, 16)"
   ]
  },
  {
   "cell_type": "code",
   "execution_count": 241,
   "metadata": {
    "ExecuteTime": {
     "end_time": "2021-04-26T00:00:53.728454Z",
     "start_time": "2021-04-26T00:00:52.767042Z"
    }
   },
   "outputs": [
    {
     "data": {
      "text/html": [
       "<div>\n",
       "<style scoped>\n",
       "    .dataframe tbody tr th:only-of-type {\n",
       "        vertical-align: middle;\n",
       "    }\n",
       "\n",
       "    .dataframe tbody tr th {\n",
       "        vertical-align: top;\n",
       "    }\n",
       "\n",
       "    .dataframe thead th {\n",
       "        text-align: right;\n",
       "    }\n",
       "</style>\n",
       "<table border=\"1\" class=\"dataframe\">\n",
       "  <thead>\n",
       "    <tr style=\"text-align: right;\">\n",
       "      <th></th>\n",
       "      <th>text</th>\n",
       "      <th>start</th>\n",
       "      <th>duration</th>\n",
       "    </tr>\n",
       "  </thead>\n",
       "  <tbody>\n",
       "    <tr>\n",
       "      <th>4</th>\n",
       "      <td>to talk about ufc debuts. Wow, but</td>\n",
       "      <td>6.879</td>\n",
       "      <td>5.521</td>\n",
       "    </tr>\n",
       "    <tr>\n",
       "      <th>5</th>\n",
       "      <td>how did he do it? Of course, a big</td>\n",
       "      <td>10.160</td>\n",
       "      <td>2.800</td>\n",
       "    </tr>\n",
       "    <tr>\n",
       "      <th>6</th>\n",
       "      <td>NaN</td>\n",
       "      <td>12.400</td>\n",
       "      <td>3.359</td>\n",
       "    </tr>\n",
       "    <tr>\n",
       "      <th>7</th>\n",
       "      <td>NaN</td>\n",
       "      <td>12.960</td>\n",
       "      <td>5.520</td>\n",
       "    </tr>\n",
       "    <tr>\n",
       "      <th>8</th>\n",
       "      <td>NaN</td>\n",
       "      <td>15.759</td>\n",
       "      <td>4.561</td>\n",
       "    </tr>\n",
       "    <tr>\n",
       "      <th>9</th>\n",
       "      <td>NaN</td>\n",
       "      <td>18.480</td>\n",
       "      <td>3.360</td>\n",
       "    </tr>\n",
       "  </tbody>\n",
       "</table>\n",
       "</div>"
      ],
      "text/plain": [
       "                                 text   start  duration\n",
       "4  to talk about ufc debuts. Wow, but   6.879     5.521\n",
       "5  how did he do it? Of course, a big  10.160     2.800\n",
       "6                                 NaN  12.400     3.359\n",
       "7                                 NaN  12.960     5.520\n",
       "8                                 NaN  15.759     4.561\n",
       "9                                 NaN  18.480     3.360"
      ]
     },
     "execution_count": 241,
     "metadata": {},
     "output_type": "execute_result"
    }
   ],
   "source": [
    "trans_gen.time_range(7, 16)"
   ]
  },
  {
   "cell_type": "code",
   "execution_count": 226,
   "metadata": {
    "ExecuteTime": {
     "end_time": "2021-04-25T23:57:40.582667Z",
     "start_time": "2021-04-25T23:57:40.518653Z"
    }
   },
   "outputs": [
    {
     "data": {
      "text/html": [
       "<div>\n",
       "<style scoped>\n",
       "    .dataframe tbody tr th:only-of-type {\n",
       "        vertical-align: middle;\n",
       "    }\n",
       "\n",
       "    .dataframe tbody tr th {\n",
       "        vertical-align: top;\n",
       "    }\n",
       "\n",
       "    .dataframe thead th {\n",
       "        text-align: right;\n",
       "    }\n",
       "</style>\n",
       "<table border=\"1\" class=\"dataframe\">\n",
       "  <thead>\n",
       "    <tr style=\"text-align: right;\">\n",
       "      <th></th>\n",
       "      <th>text</th>\n",
       "      <th>start</th>\n",
       "      <th>duration</th>\n",
       "    </tr>\n",
       "  </thead>\n",
       "  <tbody>\n",
       "    <tr>\n",
       "      <th>4</th>\n",
       "      <td>absolutely spectacular fashion knocking</td>\n",
       "      <td>6.879</td>\n",
       "      <td>5.521</td>\n",
       "    </tr>\n",
       "    <tr>\n",
       "      <th>5</th>\n",
       "      <td>out dan hooker in just over a couple of</td>\n",
       "      <td>10.160</td>\n",
       "      <td>2.800</td>\n",
       "    </tr>\n",
       "    <tr>\n",
       "      <th>6</th>\n",
       "      <td>minutes</td>\n",
       "      <td>12.400</td>\n",
       "      <td>3.359</td>\n",
       "    </tr>\n",
       "    <tr>\n",
       "      <th>7</th>\n",
       "      <td>at ufc 257 in the co-main event you want</td>\n",
       "      <td>12.960</td>\n",
       "      <td>5.520</td>\n",
       "    </tr>\n",
       "    <tr>\n",
       "      <th>8</th>\n",
       "      <td>to talk about ufc debuts wow but</td>\n",
       "      <td>15.759</td>\n",
       "      <td>4.561</td>\n",
       "    </tr>\n",
       "    <tr>\n",
       "      <th>9</th>\n",
       "      <td>how did he do it yes of course a big</td>\n",
       "      <td>18.480</td>\n",
       "      <td>3.360</td>\n",
       "    </tr>\n",
       "  </tbody>\n",
       "</table>\n",
       "</div>"
      ],
      "text/plain": [
       "                                       text   start  duration\n",
       "4   absolutely spectacular fashion knocking   6.879     5.521\n",
       "5   out dan hooker in just over a couple of  10.160     2.800\n",
       "6                                   minutes  12.400     3.359\n",
       "7  at ufc 257 in the co-main event you want  12.960     5.520\n",
       "8          to talk about ufc debuts wow but  15.759     4.561\n",
       "9      how did he do it yes of course a big  18.480     3.360"
      ]
     },
     "execution_count": 226,
     "metadata": {},
     "output_type": "execute_result"
    }
   ],
   "source": [
    "x"
   ]
  },
  {
   "cell_type": "code",
   "execution_count": 228,
   "metadata": {
    "ExecuteTime": {
     "end_time": "2021-04-25T23:58:09.009190Z",
     "start_time": "2021-04-25T23:58:08.931699Z"
    }
   },
   "outputs": [
    {
     "data": {
      "text/html": [
       "<div>\n",
       "<style scoped>\n",
       "    .dataframe tbody tr th:only-of-type {\n",
       "        vertical-align: middle;\n",
       "    }\n",
       "\n",
       "    .dataframe tbody tr th {\n",
       "        vertical-align: top;\n",
       "    }\n",
       "\n",
       "    .dataframe thead th {\n",
       "        text-align: right;\n",
       "    }\n",
       "</style>\n",
       "<table border=\"1\" class=\"dataframe\">\n",
       "  <thead>\n",
       "    <tr style=\"text-align: right;\">\n",
       "      <th></th>\n",
       "      <th>text</th>\n",
       "      <th>start</th>\n",
       "      <th>duration</th>\n",
       "    </tr>\n",
       "  </thead>\n",
       "  <tbody>\n",
       "    <tr>\n",
       "      <th>0</th>\n",
       "      <td>absolutely spectacular fashion knocking</td>\n",
       "      <td>6.879</td>\n",
       "      <td>5.521</td>\n",
       "    </tr>\n",
       "    <tr>\n",
       "      <th>1</th>\n",
       "      <td>out dan hooker in just over a couple of</td>\n",
       "      <td>10.160</td>\n",
       "      <td>2.800</td>\n",
       "    </tr>\n",
       "    <tr>\n",
       "      <th>2</th>\n",
       "      <td>minutes at</td>\n",
       "      <td>12.400</td>\n",
       "      <td>3.359</td>\n",
       "    </tr>\n",
       "    <tr>\n",
       "      <th>3</th>\n",
       "      <td>ufc 257 in the co-main event you want</td>\n",
       "      <td>12.960</td>\n",
       "      <td>5.520</td>\n",
       "    </tr>\n",
       "    <tr>\n",
       "      <th>4</th>\n",
       "      <td>to talk about ufc debuts. Wow, but</td>\n",
       "      <td>15.759</td>\n",
       "      <td>4.561</td>\n",
       "    </tr>\n",
       "    <tr>\n",
       "      <th>5</th>\n",
       "      <td>how did he do it? Of course, a big</td>\n",
       "      <td>18.480</td>\n",
       "      <td>3.360</td>\n",
       "    </tr>\n",
       "  </tbody>\n",
       "</table>\n",
       "</div>"
      ],
      "text/plain": [
       "                                      text   start  duration\n",
       "0  absolutely spectacular fashion knocking   6.879     5.521\n",
       "1  out dan hooker in just over a couple of  10.160     2.800\n",
       "2                               minutes at  12.400     3.359\n",
       "3    ufc 257 in the co-main event you want  12.960     5.520\n",
       "4       to talk about ufc debuts. Wow, but  15.759     4.561\n",
       "5       how did he do it? Of course, a big  18.480     3.360"
      ]
     },
     "execution_count": 228,
     "metadata": {},
     "output_type": "execute_result"
    }
   ],
   "source": [
    "realign_punctuated_text(x, y)"
   ]
  },
  {
   "cell_type": "code",
   "execution_count": 189,
   "metadata": {
    "ExecuteTime": {
     "end_time": "2021-04-25T23:49:33.833338Z",
     "start_time": "2021-04-25T23:49:29.358808Z"
    }
   },
   "outputs": [
    {
     "data": {
      "text/html": [
       "<div>\n",
       "<style scoped>\n",
       "    .dataframe tbody tr th:only-of-type {\n",
       "        vertical-align: middle;\n",
       "    }\n",
       "\n",
       "    .dataframe tbody tr th {\n",
       "        vertical-align: top;\n",
       "    }\n",
       "\n",
       "    .dataframe thead th {\n",
       "        text-align: right;\n",
       "    }\n",
       "</style>\n",
       "<table border=\"1\" class=\"dataframe\">\n",
       "  <thead>\n",
       "    <tr style=\"text-align: right;\">\n",
       "      <th></th>\n",
       "      <th>text</th>\n",
       "      <th>start</th>\n",
       "      <th>duration</th>\n",
       "    </tr>\n",
       "  </thead>\n",
       "  <tbody>\n",
       "    <tr>\n",
       "      <th>4</th>\n",
       "      <td>to talk about UFC debuts? Wow. But</td>\n",
       "      <td>6.879</td>\n",
       "      <td>5.521</td>\n",
       "    </tr>\n",
       "    <tr>\n",
       "      <th>5</th>\n",
       "      <td>how did he do it? Yes, of course. A big</td>\n",
       "      <td>10.160</td>\n",
       "      <td>2.800</td>\n",
       "    </tr>\n",
       "    <tr>\n",
       "      <th>6</th>\n",
       "      <td>NaN</td>\n",
       "      <td>12.400</td>\n",
       "      <td>3.359</td>\n",
       "    </tr>\n",
       "    <tr>\n",
       "      <th>7</th>\n",
       "      <td>NaN</td>\n",
       "      <td>12.960</td>\n",
       "      <td>5.520</td>\n",
       "    </tr>\n",
       "    <tr>\n",
       "      <th>8</th>\n",
       "      <td>NaN</td>\n",
       "      <td>15.759</td>\n",
       "      <td>4.561</td>\n",
       "    </tr>\n",
       "    <tr>\n",
       "      <th>9</th>\n",
       "      <td>NaN</td>\n",
       "      <td>18.480</td>\n",
       "      <td>3.360</td>\n",
       "    </tr>\n",
       "  </tbody>\n",
       "</table>\n",
       "</div>"
      ],
      "text/plain": [
       "                                      text   start  duration\n",
       "4       to talk about UFC debuts? Wow. But   6.879     5.521\n",
       "5  how did he do it? Yes, of course. A big  10.160     2.800\n",
       "6                                      NaN  12.400     3.359\n",
       "7                                      NaN  12.960     5.520\n",
       "8                                      NaN  15.759     4.561\n",
       "9                                      NaN  18.480     3.360"
      ]
     },
     "execution_count": 189,
     "metadata": {},
     "output_type": "execute_result"
    }
   ],
   "source": [
    "trans_gen.time_range(7, 16, engine_i=3)"
   ]
  },
  {
   "cell_type": "code",
   "execution_count": 248,
   "metadata": {
    "ExecuteTime": {
     "end_time": "2021-04-26T00:02:46.823845Z",
     "start_time": "2021-04-26T00:02:46.772225Z"
    }
   },
   "outputs": [
    {
     "data": {
      "text/html": [
       "<div>\n",
       "<style scoped>\n",
       "    .dataframe tbody tr th:only-of-type {\n",
       "        vertical-align: middle;\n",
       "    }\n",
       "\n",
       "    .dataframe tbody tr th {\n",
       "        vertical-align: top;\n",
       "    }\n",
       "\n",
       "    .dataframe thead th {\n",
       "        text-align: right;\n",
       "    }\n",
       "</style>\n",
       "<table border=\"1\" class=\"dataframe\">\n",
       "  <thead>\n",
       "    <tr style=\"text-align: right;\">\n",
       "      <th></th>\n",
       "      <th>text</th>\n",
       "      <th>start</th>\n",
       "      <th>duration</th>\n",
       "    </tr>\n",
       "  </thead>\n",
       "  <tbody>\n",
       "    <tr>\n",
       "      <th>4</th>\n",
       "      <td>absolutely spectacular fashion knocking</td>\n",
       "      <td>6.879</td>\n",
       "      <td>5.521</td>\n",
       "    </tr>\n",
       "    <tr>\n",
       "      <th>5</th>\n",
       "      <td>out dan hooker in just over a couple of</td>\n",
       "      <td>10.160</td>\n",
       "      <td>2.800</td>\n",
       "    </tr>\n",
       "    <tr>\n",
       "      <th>6</th>\n",
       "      <td>minutes</td>\n",
       "      <td>12.400</td>\n",
       "      <td>3.359</td>\n",
       "    </tr>\n",
       "    <tr>\n",
       "      <th>7</th>\n",
       "      <td>at ufc 257 in the co-main event you want</td>\n",
       "      <td>12.960</td>\n",
       "      <td>5.520</td>\n",
       "    </tr>\n",
       "    <tr>\n",
       "      <th>8</th>\n",
       "      <td>to talk about ufc debuts wow but</td>\n",
       "      <td>15.759</td>\n",
       "      <td>4.561</td>\n",
       "    </tr>\n",
       "    <tr>\n",
       "      <th>9</th>\n",
       "      <td>how did he do it yes of course a big</td>\n",
       "      <td>18.480</td>\n",
       "      <td>3.360</td>\n",
       "    </tr>\n",
       "    <tr>\n",
       "      <th>10</th>\n",
       "      <td>punch but there's always more to the</td>\n",
       "      <td>20.320</td>\n",
       "      <td>2.320</td>\n",
       "    </tr>\n",
       "    <tr>\n",
       "      <th>11</th>\n",
       "      <td>story</td>\n",
       "      <td>21.840</td>\n",
       "      <td>2.560</td>\n",
       "    </tr>\n",
       "    <tr>\n",
       "      <th>12</th>\n",
       "      <td>i'm going to tell you what it is it's</td>\n",
       "      <td>22.640</td>\n",
       "      <td>4.559</td>\n",
       "    </tr>\n",
       "    <tr>\n",
       "      <th>13</th>\n",
       "      <td>time for technical difficulties</td>\n",
       "      <td>24.400</td>\n",
       "      <td>4.719</td>\n",
       "    </tr>\n",
       "    <tr>\n",
       "      <th>14</th>\n",
       "      <td>i came straight from hell with a pitch</td>\n",
       "      <td>27.199</td>\n",
       "      <td>4.400</td>\n",
       "    </tr>\n",
       "    <tr>\n",
       "      <th>15</th>\n",
       "      <td>black force with a black pitch fork</td>\n",
       "      <td>29.119</td>\n",
       "      <td>5.041</td>\n",
       "    </tr>\n",
       "    <tr>\n",
       "      <th>16</th>\n",
       "      <td>and a pitch black porsche all right</td>\n",
       "      <td>31.599</td>\n",
       "      <td>4.241</td>\n",
       "    </tr>\n",
       "  </tbody>\n",
       "</table>\n",
       "</div>"
      ],
      "text/plain": [
       "                                        text   start  duration\n",
       "4    absolutely spectacular fashion knocking   6.879     5.521\n",
       "5    out dan hooker in just over a couple of  10.160     2.800\n",
       "6                                    minutes  12.400     3.359\n",
       "7   at ufc 257 in the co-main event you want  12.960     5.520\n",
       "8           to talk about ufc debuts wow but  15.759     4.561\n",
       "9       how did he do it yes of course a big  18.480     3.360\n",
       "10      punch but there's always more to the  20.320     2.320\n",
       "11                                     story  21.840     2.560\n",
       "12     i'm going to tell you what it is it's  22.640     4.559\n",
       "13           time for technical difficulties  24.400     4.719\n",
       "14    i came straight from hell with a pitch  27.199     4.400\n",
       "15       black force with a black pitch fork  29.119     5.041\n",
       "16       and a pitch black porsche all right  31.599     4.241"
      ]
     },
     "execution_count": 248,
     "metadata": {},
     "output_type": "execute_result"
    }
   ],
   "source": [
    "trans_gen._time_range(10, 30)"
   ]
  },
  {
   "cell_type": "code",
   "execution_count": 249,
   "metadata": {
    "ExecuteTime": {
     "end_time": "2021-04-26T00:02:50.503505Z",
     "start_time": "2021-04-26T00:02:48.998375Z"
    }
   },
   "outputs": [
    {
     "name": "stderr",
     "output_type": "stream",
     "text": [
      "/Users/hmamin/jabberwocky/lib/jabberwocky/youtube.py:164: UserWarning: Max score < 80. Your rows may have gotten misaligned at row 11: story\n",
      "  'Max score < 80. Your rows may have gotten misaligned '\n"
     ]
    }
   ],
   "source": [
    "res = trans_gen.time_range(10, 30)"
   ]
  },
  {
   "cell_type": "code",
   "execution_count": 250,
   "metadata": {
    "ExecuteTime": {
     "end_time": "2021-04-26T00:02:52.533510Z",
     "start_time": "2021-04-26T00:02:52.478686Z"
    }
   },
   "outputs": [
    {
     "data": {
      "text/plain": [
       "4"
      ]
     },
     "execution_count": 250,
     "metadata": {},
     "output_type": "execute_result"
    }
   ],
   "source": [
    "len(res)"
   ]
  },
  {
   "cell_type": "code",
   "execution_count": 251,
   "metadata": {
    "ExecuteTime": {
     "end_time": "2021-04-26T00:02:57.857557Z",
     "start_time": "2021-04-26T00:02:57.776827Z"
    }
   },
   "outputs": [
    {
     "data": {
      "text/html": [
       "<div>\n",
       "<style scoped>\n",
       "    .dataframe tbody tr th:only-of-type {\n",
       "        vertical-align: middle;\n",
       "    }\n",
       "\n",
       "    .dataframe tbody tr th {\n",
       "        vertical-align: top;\n",
       "    }\n",
       "\n",
       "    .dataframe thead th {\n",
       "        text-align: right;\n",
       "    }\n",
       "</style>\n",
       "<table border=\"1\" class=\"dataframe\">\n",
       "  <thead>\n",
       "    <tr style=\"text-align: right;\">\n",
       "      <th></th>\n",
       "      <th>text</th>\n",
       "      <th>start</th>\n",
       "      <th>duration</th>\n",
       "    </tr>\n",
       "  </thead>\n",
       "  <tbody>\n",
       "    <tr>\n",
       "      <th>4</th>\n",
       "      <td>to talk about ufc debuts. Wow. But</td>\n",
       "      <td>6.879</td>\n",
       "      <td>5.521</td>\n",
       "    </tr>\n",
       "    <tr>\n",
       "      <th>5</th>\n",
       "      <td>how did he do it? Of course, a big</td>\n",
       "      <td>10.160</td>\n",
       "      <td>2.800</td>\n",
       "    </tr>\n",
       "    <tr>\n",
       "      <th>6</th>\n",
       "      <td>punch. But there's always more to the</td>\n",
       "      <td>12.400</td>\n",
       "      <td>3.359</td>\n",
       "    </tr>\n",
       "    <tr>\n",
       "      <th>7</th>\n",
       "      <td>story. I'm</td>\n",
       "      <td>12.960</td>\n",
       "      <td>5.520</td>\n",
       "    </tr>\n",
       "    <tr>\n",
       "      <th>8</th>\n",
       "      <td>going to tell you what it is. It's</td>\n",
       "      <td>15.759</td>\n",
       "      <td>4.561</td>\n",
       "    </tr>\n",
       "    <tr>\n",
       "      <th>9</th>\n",
       "      <td>time for technical difficulties.</td>\n",
       "      <td>18.480</td>\n",
       "      <td>3.360</td>\n",
       "    </tr>\n",
       "    <tr>\n",
       "      <th>10</th>\n",
       "      <td>I came straight from hell with a pitch</td>\n",
       "      <td>20.320</td>\n",
       "      <td>2.320</td>\n",
       "    </tr>\n",
       "    <tr>\n",
       "      <th>11</th>\n",
       "      <td>black force with a black pitch fork</td>\n",
       "      <td>21.840</td>\n",
       "      <td>2.560</td>\n",
       "    </tr>\n",
       "    <tr>\n",
       "      <th>12</th>\n",
       "      <td>and a pitch black Porsche. All right.</td>\n",
       "      <td>22.640</td>\n",
       "      <td>4.559</td>\n",
       "    </tr>\n",
       "    <tr>\n",
       "      <th>13</th>\n",
       "      <td>NaN</td>\n",
       "      <td>24.400</td>\n",
       "      <td>4.719</td>\n",
       "    </tr>\n",
       "    <tr>\n",
       "      <th>14</th>\n",
       "      <td>NaN</td>\n",
       "      <td>27.199</td>\n",
       "      <td>4.400</td>\n",
       "    </tr>\n",
       "    <tr>\n",
       "      <th>15</th>\n",
       "      <td>NaN</td>\n",
       "      <td>29.119</td>\n",
       "      <td>5.041</td>\n",
       "    </tr>\n",
       "    <tr>\n",
       "      <th>16</th>\n",
       "      <td>NaN</td>\n",
       "      <td>31.599</td>\n",
       "      <td>4.241</td>\n",
       "    </tr>\n",
       "  </tbody>\n",
       "</table>\n",
       "</div>"
      ],
      "text/plain": [
       "                                      text   start  duration\n",
       "4       to talk about ufc debuts. Wow. But   6.879     5.521\n",
       "5       how did he do it? Of course, a big  10.160     2.800\n",
       "6    punch. But there's always more to the  12.400     3.359\n",
       "7                               story. I'm  12.960     5.520\n",
       "8       going to tell you what it is. It's  15.759     4.561\n",
       "9         time for technical difficulties.  18.480     3.360\n",
       "10  I came straight from hell with a pitch  20.320     2.320\n",
       "11     black force with a black pitch fork  21.840     2.560\n",
       "12   and a pitch black Porsche. All right.  22.640     4.559\n",
       "13                                     NaN  24.400     4.719\n",
       "14                                     NaN  27.199     4.400\n",
       "15                                     NaN  29.119     5.041\n",
       "16                                     NaN  31.599     4.241"
      ]
     },
     "execution_count": 251,
     "metadata": {},
     "output_type": "execute_result"
    }
   ],
   "source": [
    "# Method output\n",
    "res[0]"
   ]
  },
  {
   "cell_type": "code",
   "execution_count": 252,
   "metadata": {
    "ExecuteTime": {
     "end_time": "2021-04-26T00:03:08.829755Z",
     "start_time": "2021-04-26T00:03:08.756747Z"
    }
   },
   "outputs": [
    {
     "data": {
      "text/html": [
       "<div>\n",
       "<style scoped>\n",
       "    .dataframe tbody tr th:only-of-type {\n",
       "        vertical-align: middle;\n",
       "    }\n",
       "\n",
       "    .dataframe tbody tr th {\n",
       "        vertical-align: top;\n",
       "    }\n",
       "\n",
       "    .dataframe thead th {\n",
       "        text-align: right;\n",
       "    }\n",
       "</style>\n",
       "<table border=\"1\" class=\"dataframe\">\n",
       "  <thead>\n",
       "    <tr style=\"text-align: right;\">\n",
       "      <th></th>\n",
       "      <th>text</th>\n",
       "      <th>start</th>\n",
       "      <th>duration</th>\n",
       "    </tr>\n",
       "  </thead>\n",
       "  <tbody>\n",
       "    <tr>\n",
       "      <th>4</th>\n",
       "      <td>absolutely spectacular fashion knocking</td>\n",
       "      <td>6.879</td>\n",
       "      <td>5.521</td>\n",
       "    </tr>\n",
       "    <tr>\n",
       "      <th>5</th>\n",
       "      <td>out dan hooker in just over a couple of</td>\n",
       "      <td>10.160</td>\n",
       "      <td>2.800</td>\n",
       "    </tr>\n",
       "    <tr>\n",
       "      <th>6</th>\n",
       "      <td>minutes</td>\n",
       "      <td>12.400</td>\n",
       "      <td>3.359</td>\n",
       "    </tr>\n",
       "    <tr>\n",
       "      <th>7</th>\n",
       "      <td>at ufc 257 in the co-main event you want</td>\n",
       "      <td>12.960</td>\n",
       "      <td>5.520</td>\n",
       "    </tr>\n",
       "    <tr>\n",
       "      <th>8</th>\n",
       "      <td>to talk about ufc debuts wow but</td>\n",
       "      <td>15.759</td>\n",
       "      <td>4.561</td>\n",
       "    </tr>\n",
       "    <tr>\n",
       "      <th>9</th>\n",
       "      <td>how did he do it yes of course a big</td>\n",
       "      <td>18.480</td>\n",
       "      <td>3.360</td>\n",
       "    </tr>\n",
       "    <tr>\n",
       "      <th>10</th>\n",
       "      <td>punch but there's always more to the</td>\n",
       "      <td>20.320</td>\n",
       "      <td>2.320</td>\n",
       "    </tr>\n",
       "    <tr>\n",
       "      <th>11</th>\n",
       "      <td>story</td>\n",
       "      <td>21.840</td>\n",
       "      <td>2.560</td>\n",
       "    </tr>\n",
       "    <tr>\n",
       "      <th>12</th>\n",
       "      <td>i'm going to tell you what it is it's</td>\n",
       "      <td>22.640</td>\n",
       "      <td>4.559</td>\n",
       "    </tr>\n",
       "    <tr>\n",
       "      <th>13</th>\n",
       "      <td>time for technical difficulties</td>\n",
       "      <td>24.400</td>\n",
       "      <td>4.719</td>\n",
       "    </tr>\n",
       "    <tr>\n",
       "      <th>14</th>\n",
       "      <td>i came straight from hell with a pitch</td>\n",
       "      <td>27.199</td>\n",
       "      <td>4.400</td>\n",
       "    </tr>\n",
       "    <tr>\n",
       "      <th>15</th>\n",
       "      <td>black force with a black pitch fork</td>\n",
       "      <td>29.119</td>\n",
       "      <td>5.041</td>\n",
       "    </tr>\n",
       "    <tr>\n",
       "      <th>16</th>\n",
       "      <td>and a pitch black porsche all right</td>\n",
       "      <td>31.599</td>\n",
       "      <td>4.241</td>\n",
       "    </tr>\n",
       "  </tbody>\n",
       "</table>\n",
       "</div>"
      ],
      "text/plain": [
       "                                        text   start  duration\n",
       "4    absolutely spectacular fashion knocking   6.879     5.521\n",
       "5    out dan hooker in just over a couple of  10.160     2.800\n",
       "6                                    minutes  12.400     3.359\n",
       "7   at ufc 257 in the co-main event you want  12.960     5.520\n",
       "8           to talk about ufc debuts wow but  15.759     4.561\n",
       "9       how did he do it yes of course a big  18.480     3.360\n",
       "10      punch but there's always more to the  20.320     2.320\n",
       "11                                     story  21.840     2.560\n",
       "12     i'm going to tell you what it is it's  22.640     4.559\n",
       "13           time for technical difficulties  24.400     4.719\n",
       "14    i came straight from hell with a pitch  27.199     4.400\n",
       "15       black force with a black pitch fork  29.119     5.041\n",
       "16       and a pitch black porsche all right  31.599     4.241"
      ]
     },
     "execution_count": 252,
     "metadata": {},
     "output_type": "execute_result"
    }
   ],
   "source": [
    "# unpunct df\n",
    "res[1]"
   ]
  },
  {
   "cell_type": "code",
   "execution_count": 254,
   "metadata": {
    "ExecuteTime": {
     "end_time": "2021-04-26T00:03:35.702434Z",
     "start_time": "2021-04-26T00:03:35.635879Z"
    }
   },
   "outputs": [
    {
     "data": {
      "text/plain": [
       "\"absolutely spectacular fashion knocking out dan hooker in just over a couple of minutes at ufc 257 in the co-main event. You want to talk about ufc debuts. Wow. But how did he do it? Of course, a big punch. But there's always more to the story. I'm going to tell you what it is. It's time for technical difficulties. I came straight from hell with a pitch black force with a black pitch fork and a pitch black Porsche. All right.\""
      ]
     },
     "execution_count": 254,
     "metadata": {},
     "output_type": "execute_result"
    }
   ],
   "source": [
    "# punct text\n",
    "res[2]"
   ]
  },
  {
   "cell_type": "code",
   "execution_count": 255,
   "metadata": {
    "ExecuteTime": {
     "end_time": "2021-04-26T00:03:40.563257Z",
     "start_time": "2021-04-26T00:03:40.495451Z"
    }
   },
   "outputs": [
    {
     "data": {
      "text/html": [
       "<div>\n",
       "<style scoped>\n",
       "    .dataframe tbody tr th:only-of-type {\n",
       "        vertical-align: middle;\n",
       "    }\n",
       "\n",
       "    .dataframe tbody tr th {\n",
       "        vertical-align: top;\n",
       "    }\n",
       "\n",
       "    .dataframe thead th {\n",
       "        text-align: right;\n",
       "    }\n",
       "</style>\n",
       "<table border=\"1\" class=\"dataframe\">\n",
       "  <thead>\n",
       "    <tr style=\"text-align: right;\">\n",
       "      <th></th>\n",
       "      <th>text</th>\n",
       "      <th>start</th>\n",
       "      <th>duration</th>\n",
       "    </tr>\n",
       "  </thead>\n",
       "  <tbody>\n",
       "    <tr>\n",
       "      <th>0</th>\n",
       "      <td>absolutely spectacular fashion knocking</td>\n",
       "      <td>6.879</td>\n",
       "      <td>5.521</td>\n",
       "    </tr>\n",
       "    <tr>\n",
       "      <th>1</th>\n",
       "      <td>out dan hooker in just over a couple of</td>\n",
       "      <td>10.160</td>\n",
       "      <td>2.800</td>\n",
       "    </tr>\n",
       "    <tr>\n",
       "      <th>2</th>\n",
       "      <td>minutes at</td>\n",
       "      <td>12.400</td>\n",
       "      <td>3.359</td>\n",
       "    </tr>\n",
       "    <tr>\n",
       "      <th>3</th>\n",
       "      <td>ufc 257 in the co-main event. You want</td>\n",
       "      <td>12.960</td>\n",
       "      <td>5.520</td>\n",
       "    </tr>\n",
       "    <tr>\n",
       "      <th>4</th>\n",
       "      <td>to talk about ufc debuts. Wow. But</td>\n",
       "      <td>15.759</td>\n",
       "      <td>4.561</td>\n",
       "    </tr>\n",
       "    <tr>\n",
       "      <th>5</th>\n",
       "      <td>how did he do it? Of course, a big</td>\n",
       "      <td>18.480</td>\n",
       "      <td>3.360</td>\n",
       "    </tr>\n",
       "    <tr>\n",
       "      <th>6</th>\n",
       "      <td>punch. But there's always more to the</td>\n",
       "      <td>20.320</td>\n",
       "      <td>2.320</td>\n",
       "    </tr>\n",
       "    <tr>\n",
       "      <th>7</th>\n",
       "      <td>story. I'm</td>\n",
       "      <td>21.840</td>\n",
       "      <td>2.560</td>\n",
       "    </tr>\n",
       "    <tr>\n",
       "      <th>8</th>\n",
       "      <td>going to tell you what it is. It's</td>\n",
       "      <td>22.640</td>\n",
       "      <td>4.559</td>\n",
       "    </tr>\n",
       "    <tr>\n",
       "      <th>9</th>\n",
       "      <td>time for technical difficulties.</td>\n",
       "      <td>24.400</td>\n",
       "      <td>4.719</td>\n",
       "    </tr>\n",
       "    <tr>\n",
       "      <th>10</th>\n",
       "      <td>I came straight from hell with a pitch</td>\n",
       "      <td>27.199</td>\n",
       "      <td>4.400</td>\n",
       "    </tr>\n",
       "    <tr>\n",
       "      <th>11</th>\n",
       "      <td>black force with a black pitch fork</td>\n",
       "      <td>29.119</td>\n",
       "      <td>5.041</td>\n",
       "    </tr>\n",
       "    <tr>\n",
       "      <th>12</th>\n",
       "      <td>and a pitch black Porsche. All right.</td>\n",
       "      <td>31.599</td>\n",
       "      <td>4.241</td>\n",
       "    </tr>\n",
       "  </tbody>\n",
       "</table>\n",
       "</div>"
      ],
      "text/plain": [
       "                                       text   start  duration\n",
       "0   absolutely spectacular fashion knocking   6.879     5.521\n",
       "1   out dan hooker in just over a couple of  10.160     2.800\n",
       "2                                minutes at  12.400     3.359\n",
       "3    ufc 257 in the co-main event. You want  12.960     5.520\n",
       "4        to talk about ufc debuts. Wow. But  15.759     4.561\n",
       "5        how did he do it? Of course, a big  18.480     3.360\n",
       "6     punch. But there's always more to the  20.320     2.320\n",
       "7                                story. I'm  21.840     2.560\n",
       "8        going to tell you what it is. It's  22.640     4.559\n",
       "9          time for technical difficulties.  24.400     4.719\n",
       "10   I came straight from hell with a pitch  27.199     4.400\n",
       "11      black force with a black pitch fork  29.119     5.041\n",
       "12    and a pitch black Porsche. All right.  31.599     4.241"
      ]
     },
     "execution_count": 255,
     "metadata": {},
     "output_type": "execute_result"
    }
   ],
   "source": [
    "# punct df\n",
    "res[3]"
   ]
  },
  {
   "cell_type": "code",
   "execution_count": 263,
   "metadata": {
    "ExecuteTime": {
     "end_time": "2021-04-26T00:07:23.603125Z",
     "start_time": "2021-04-26T00:07:23.534991Z"
    }
   },
   "outputs": [
    {
     "data": {
      "text/html": [
       "<div>\n",
       "<style scoped>\n",
       "    .dataframe tbody tr th:only-of-type {\n",
       "        vertical-align: middle;\n",
       "    }\n",
       "\n",
       "    .dataframe tbody tr th {\n",
       "        vertical-align: top;\n",
       "    }\n",
       "\n",
       "    .dataframe thead th {\n",
       "        text-align: right;\n",
       "    }\n",
       "</style>\n",
       "<table border=\"1\" class=\"dataframe\">\n",
       "  <thead>\n",
       "    <tr style=\"text-align: right;\">\n",
       "      <th></th>\n",
       "      <th>text</th>\n",
       "      <th>start</th>\n",
       "      <th>duration</th>\n",
       "    </tr>\n",
       "  </thead>\n",
       "  <tbody>\n",
       "    <tr>\n",
       "      <th>4</th>\n",
       "      <td>to talk about ufc debuts. Wow. But</td>\n",
       "      <td>6.879</td>\n",
       "      <td>5.521</td>\n",
       "    </tr>\n",
       "    <tr>\n",
       "      <th>5</th>\n",
       "      <td>how did he do it? Of course, a big</td>\n",
       "      <td>10.160</td>\n",
       "      <td>2.800</td>\n",
       "    </tr>\n",
       "    <tr>\n",
       "      <th>6</th>\n",
       "      <td>punch. But there's always more to the</td>\n",
       "      <td>12.400</td>\n",
       "      <td>3.359</td>\n",
       "    </tr>\n",
       "    <tr>\n",
       "      <th>7</th>\n",
       "      <td>story. I'm</td>\n",
       "      <td>12.960</td>\n",
       "      <td>5.520</td>\n",
       "    </tr>\n",
       "    <tr>\n",
       "      <th>8</th>\n",
       "      <td>going to tell you what it is. It's</td>\n",
       "      <td>15.759</td>\n",
       "      <td>4.561</td>\n",
       "    </tr>\n",
       "    <tr>\n",
       "      <th>9</th>\n",
       "      <td>time for technical difficulties.</td>\n",
       "      <td>18.480</td>\n",
       "      <td>3.360</td>\n",
       "    </tr>\n",
       "    <tr>\n",
       "      <th>10</th>\n",
       "      <td>I came straight from hell with a pitch</td>\n",
       "      <td>20.320</td>\n",
       "      <td>2.320</td>\n",
       "    </tr>\n",
       "    <tr>\n",
       "      <th>11</th>\n",
       "      <td>black force with a black pitch fork</td>\n",
       "      <td>21.840</td>\n",
       "      <td>2.560</td>\n",
       "    </tr>\n",
       "    <tr>\n",
       "      <th>12</th>\n",
       "      <td>and a pitch black Porsche. All right.</td>\n",
       "      <td>22.640</td>\n",
       "      <td>4.559</td>\n",
       "    </tr>\n",
       "    <tr>\n",
       "      <th>13</th>\n",
       "      <td>NaN</td>\n",
       "      <td>24.400</td>\n",
       "      <td>4.719</td>\n",
       "    </tr>\n",
       "    <tr>\n",
       "      <th>14</th>\n",
       "      <td>NaN</td>\n",
       "      <td>27.199</td>\n",
       "      <td>4.400</td>\n",
       "    </tr>\n",
       "    <tr>\n",
       "      <th>15</th>\n",
       "      <td>NaN</td>\n",
       "      <td>29.119</td>\n",
       "      <td>5.041</td>\n",
       "    </tr>\n",
       "    <tr>\n",
       "      <th>16</th>\n",
       "      <td>NaN</td>\n",
       "      <td>31.599</td>\n",
       "      <td>4.241</td>\n",
       "    </tr>\n",
       "  </tbody>\n",
       "</table>\n",
       "</div>"
      ],
      "text/plain": [
       "                                      text   start  duration\n",
       "4       to talk about ufc debuts. Wow. But   6.879     5.521\n",
       "5       how did he do it? Of course, a big  10.160     2.800\n",
       "6    punch. But there's always more to the  12.400     3.359\n",
       "7                               story. I'm  12.960     5.520\n",
       "8       going to tell you what it is. It's  15.759     4.561\n",
       "9         time for technical difficulties.  18.480     3.360\n",
       "10  I came straight from hell with a pitch  20.320     2.320\n",
       "11     black force with a black pitch fork  21.840     2.560\n",
       "12   and a pitch black Porsche. All right.  22.640     4.559\n",
       "13                                     NaN  24.400     4.719\n",
       "14                                     NaN  27.199     4.400\n",
       "15                                     NaN  29.119     5.041\n",
       "16                                     NaN  31.599     4.241"
      ]
     },
     "execution_count": 263,
     "metadata": {},
     "output_type": "execute_result"
    }
   ],
   "source": [
    "res[0]"
   ]
  },
  {
   "cell_type": "code",
   "execution_count": 262,
   "metadata": {
    "ExecuteTime": {
     "end_time": "2021-04-26T00:07:05.718568Z",
     "start_time": "2021-04-26T00:07:05.677676Z"
    }
   },
   "outputs": [
    {
     "name": "stderr",
     "output_type": "stream",
     "text": [
      "/Users/hmamin/anaconda3/lib/python3.7/site-packages/pandas/core/indexing.py:494: SettingWithCopyWarning: \n",
      "A value is trying to be set on a copy of a slice from a DataFrame.\n",
      "Try using .loc[row_indexer,col_indexer] = value instead\n",
      "\n",
      "See the caveats in the documentation: http://pandas.pydata.org/pandas-docs/stable/user_guide/indexing.html#returning-a-view-versus-a-copy\n",
      "  self.obj[item] = s\n"
     ]
    }
   ],
   "source": [
    "res[0].loc[4:16, 'text'] = res[-1].loc[:, 'text']"
   ]
  },
  {
   "cell_type": "code",
   "execution_count": 261,
   "metadata": {
    "ExecuteTime": {
     "end_time": "2021-04-26T00:05:40.417025Z",
     "start_time": "2021-04-26T00:05:40.367725Z"
    }
   },
   "outputs": [
    {
     "data": {
      "text/html": [
       "<div>\n",
       "<style scoped>\n",
       "    .dataframe tbody tr th:only-of-type {\n",
       "        vertical-align: middle;\n",
       "    }\n",
       "\n",
       "    .dataframe tbody tr th {\n",
       "        vertical-align: top;\n",
       "    }\n",
       "\n",
       "    .dataframe thead th {\n",
       "        text-align: right;\n",
       "    }\n",
       "</style>\n",
       "<table border=\"1\" class=\"dataframe\">\n",
       "  <thead>\n",
       "    <tr style=\"text-align: right;\">\n",
       "      <th></th>\n",
       "      <th>text</th>\n",
       "      <th>start</th>\n",
       "      <th>duration</th>\n",
       "    </tr>\n",
       "  </thead>\n",
       "  <tbody>\n",
       "    <tr>\n",
       "      <th>4</th>\n",
       "      <td>absolutely spectacular fashion knocking</td>\n",
       "      <td>6.879</td>\n",
       "      <td>5.521</td>\n",
       "    </tr>\n",
       "    <tr>\n",
       "      <th>5</th>\n",
       "      <td>out dan hooker in just over a couple of</td>\n",
       "      <td>10.160</td>\n",
       "      <td>2.800</td>\n",
       "    </tr>\n",
       "    <tr>\n",
       "      <th>6</th>\n",
       "      <td>minutes at</td>\n",
       "      <td>12.400</td>\n",
       "      <td>3.359</td>\n",
       "    </tr>\n",
       "    <tr>\n",
       "      <th>7</th>\n",
       "      <td>ufc 257 in the co-main event. You want</td>\n",
       "      <td>12.960</td>\n",
       "      <td>5.520</td>\n",
       "    </tr>\n",
       "    <tr>\n",
       "      <th>8</th>\n",
       "      <td>to talk about ufc debuts. Wow. But</td>\n",
       "      <td>15.759</td>\n",
       "      <td>4.561</td>\n",
       "    </tr>\n",
       "    <tr>\n",
       "      <th>9</th>\n",
       "      <td>how did he do it? Of course, a big</td>\n",
       "      <td>18.480</td>\n",
       "      <td>3.360</td>\n",
       "    </tr>\n",
       "    <tr>\n",
       "      <th>10</th>\n",
       "      <td>punch. But there's always more to the</td>\n",
       "      <td>20.320</td>\n",
       "      <td>2.320</td>\n",
       "    </tr>\n",
       "    <tr>\n",
       "      <th>11</th>\n",
       "      <td>story. I'm</td>\n",
       "      <td>21.840</td>\n",
       "      <td>2.560</td>\n",
       "    </tr>\n",
       "    <tr>\n",
       "      <th>12</th>\n",
       "      <td>going to tell you what it is. It's</td>\n",
       "      <td>22.640</td>\n",
       "      <td>4.559</td>\n",
       "    </tr>\n",
       "    <tr>\n",
       "      <th>13</th>\n",
       "      <td>time for technical difficulties.</td>\n",
       "      <td>24.400</td>\n",
       "      <td>4.719</td>\n",
       "    </tr>\n",
       "    <tr>\n",
       "      <th>14</th>\n",
       "      <td>I came straight from hell with a pitch</td>\n",
       "      <td>27.199</td>\n",
       "      <td>4.400</td>\n",
       "    </tr>\n",
       "    <tr>\n",
       "      <th>15</th>\n",
       "      <td>black force with a black pitch fork</td>\n",
       "      <td>29.119</td>\n",
       "      <td>5.041</td>\n",
       "    </tr>\n",
       "    <tr>\n",
       "      <th>16</th>\n",
       "      <td>and a pitch black Porsche. All right.</td>\n",
       "      <td>31.599</td>\n",
       "      <td>4.241</td>\n",
       "    </tr>\n",
       "  </tbody>\n",
       "</table>\n",
       "</div>"
      ],
      "text/plain": [
       "                                       text   start  duration\n",
       "4   absolutely spectacular fashion knocking   6.879     5.521\n",
       "5   out dan hooker in just over a couple of  10.160     2.800\n",
       "6                                minutes at  12.400     3.359\n",
       "7    ufc 257 in the co-main event. You want  12.960     5.520\n",
       "8        to talk about ufc debuts. Wow. But  15.759     4.561\n",
       "9        how did he do it? Of course, a big  18.480     3.360\n",
       "10    punch. But there's always more to the  20.320     2.320\n",
       "11                               story. I'm  21.840     2.560\n",
       "12       going to tell you what it is. It's  22.640     4.559\n",
       "13         time for technical difficulties.  24.400     4.719\n",
       "14   I came straight from hell with a pitch  27.199     4.400\n",
       "15      black force with a black pitch fork  29.119     5.041\n",
       "16    and a pitch black Porsche. All right.  31.599     4.241"
      ]
     },
     "execution_count": 261,
     "metadata": {},
     "output_type": "execute_result"
    }
   ],
   "source": [
    "res[0]"
   ]
  },
  {
   "cell_type": "code",
   "execution_count": 234,
   "metadata": {
    "ExecuteTime": {
     "end_time": "2021-04-25T23:59:13.912587Z",
     "start_time": "2021-04-25T23:59:13.869979Z"
    }
   },
   "outputs": [
    {
     "name": "stderr",
     "output_type": "stream",
     "text": [
      "/Users/hmamin/jabberwocky/lib/jabberwocky/youtube.py:164: UserWarning: Max score < 80. Your rows may have gotten misaligned at row 11: story\n",
      "  'Max score < 80. Your rows may have gotten misaligned '\n"
     ]
    },
    {
     "data": {
      "text/html": [
       "<div>\n",
       "<style scoped>\n",
       "    .dataframe tbody tr th:only-of-type {\n",
       "        vertical-align: middle;\n",
       "    }\n",
       "\n",
       "    .dataframe tbody tr th {\n",
       "        vertical-align: top;\n",
       "    }\n",
       "\n",
       "    .dataframe thead th {\n",
       "        text-align: right;\n",
       "    }\n",
       "</style>\n",
       "<table border=\"1\" class=\"dataframe\">\n",
       "  <thead>\n",
       "    <tr style=\"text-align: right;\">\n",
       "      <th></th>\n",
       "      <th>text</th>\n",
       "      <th>start</th>\n",
       "      <th>duration</th>\n",
       "    </tr>\n",
       "  </thead>\n",
       "  <tbody>\n",
       "    <tr>\n",
       "      <th>0</th>\n",
       "      <td>absolutely spectacular fashion, knocking</td>\n",
       "      <td>6.879</td>\n",
       "      <td>5.521</td>\n",
       "    </tr>\n",
       "    <tr>\n",
       "      <th>1</th>\n",
       "      <td>out Dan Hooker in just over a couple of</td>\n",
       "      <td>10.160</td>\n",
       "      <td>2.800</td>\n",
       "    </tr>\n",
       "    <tr>\n",
       "      <th>2</th>\n",
       "      <td>minutes at</td>\n",
       "      <td>12.400</td>\n",
       "      <td>3.359</td>\n",
       "    </tr>\n",
       "    <tr>\n",
       "      <th>3</th>\n",
       "      <td>UFC 257 in the co-main event, you want</td>\n",
       "      <td>12.960</td>\n",
       "      <td>5.520</td>\n",
       "    </tr>\n",
       "    <tr>\n",
       "      <th>4</th>\n",
       "      <td>to talk about UFC debuts, wow, but</td>\n",
       "      <td>15.759</td>\n",
       "      <td>4.561</td>\n",
       "    </tr>\n",
       "    <tr>\n",
       "      <th>5</th>\n",
       "      <td>how did he do it? Of course, a big</td>\n",
       "      <td>18.480</td>\n",
       "      <td>3.360</td>\n",
       "    </tr>\n",
       "    <tr>\n",
       "      <th>6</th>\n",
       "      <td>punch, but there's always more to the</td>\n",
       "      <td>20.320</td>\n",
       "      <td>2.320</td>\n",
       "    </tr>\n",
       "    <tr>\n",
       "      <th>7</th>\n",
       "      <td>story. I'm</td>\n",
       "      <td>21.840</td>\n",
       "      <td>2.560</td>\n",
       "    </tr>\n",
       "    <tr>\n",
       "      <th>8</th>\n",
       "      <td>going to tell you what it is. It's</td>\n",
       "      <td>22.640</td>\n",
       "      <td>4.559</td>\n",
       "    </tr>\n",
       "    <tr>\n",
       "      <th>9</th>\n",
       "      <td>time for technical difficulties.</td>\n",
       "      <td>24.400</td>\n",
       "      <td>4.719</td>\n",
       "    </tr>\n",
       "    <tr>\n",
       "      <th>10</th>\n",
       "      <td>I came straight from hell with a pitch</td>\n",
       "      <td>27.199</td>\n",
       "      <td>4.400</td>\n",
       "    </tr>\n",
       "    <tr>\n",
       "      <th>11</th>\n",
       "      <td>black force with a black pitch fork</td>\n",
       "      <td>29.119</td>\n",
       "      <td>5.041</td>\n",
       "    </tr>\n",
       "    <tr>\n",
       "      <th>12</th>\n",
       "      <td>and a pitch black Porsche. All right.</td>\n",
       "      <td>31.599</td>\n",
       "      <td>4.241</td>\n",
       "    </tr>\n",
       "  </tbody>\n",
       "</table>\n",
       "</div>"
      ],
      "text/plain": [
       "                                        text   start  duration\n",
       "0   absolutely spectacular fashion, knocking   6.879     5.521\n",
       "1    out Dan Hooker in just over a couple of  10.160     2.800\n",
       "2                                 minutes at  12.400     3.359\n",
       "3     UFC 257 in the co-main event, you want  12.960     5.520\n",
       "4         to talk about UFC debuts, wow, but  15.759     4.561\n",
       "5         how did he do it? Of course, a big  18.480     3.360\n",
       "6      punch, but there's always more to the  20.320     2.320\n",
       "7                                 story. I'm  21.840     2.560\n",
       "8         going to tell you what it is. It's  22.640     4.559\n",
       "9           time for technical difficulties.  24.400     4.719\n",
       "10    I came straight from hell with a pitch  27.199     4.400\n",
       "11       black force with a black pitch fork  29.119     5.041\n",
       "12     and a pitch black Porsche. All right.  31.599     4.241"
      ]
     },
     "execution_count": 234,
     "metadata": {},
     "output_type": "execute_result"
    }
   ],
   "source": [
    "realign_punctuated_text(x, y)"
   ]
  },
  {
   "cell_type": "code",
   "execution_count": null,
   "metadata": {},
   "outputs": [],
   "source": []
  }
 ],
 "metadata": {
  "kernelspec": {
   "display_name": "Python 3",
   "language": "python",
   "name": "python3"
  },
  "language_info": {
   "codemirror_mode": {
    "name": "ipython",
    "version": 3
   },
   "file_extension": ".py",
   "mimetype": "text/x-python",
   "name": "python",
   "nbconvert_exporter": "python",
   "pygments_lexer": "ipython3",
   "version": "3.7.3"
  }
 },
 "nbformat": 4,
 "nbformat_minor": 2
}
