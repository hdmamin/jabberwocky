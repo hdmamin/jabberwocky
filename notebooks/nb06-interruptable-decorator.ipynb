{
 "cells": [
  {
   "cell_type": "markdown",
   "metadata": {},
   "source": [
    "# Summary\n",
    "\n",
    "Make decorator to make function handle keyboard interrupt more easily. Hoping to use this on Speaker.speak() in GUI.\n",
    "\n",
    "UPDATE: realized I already wrote a serviceable version of this. Made a few htools tweaks, no need to use the rest of this notebook."
   ]
  },
  {
   "cell_type": "code",
   "execution_count": 1,
   "metadata": {
    "ExecuteTime": {
     "end_time": "2021-05-29T23:34:46.134418Z",
     "start_time": "2021-05-29T23:34:46.119679Z"
    }
   },
   "outputs": [
    {
     "name": "stdout",
     "output_type": "stream",
     "text": [
      "The autoreload extension is already loaded. To reload it, use:\n",
      "  %reload_ext autoreload\n"
     ]
    }
   ],
   "source": [
    "%load_ext autoreload\n",
    "%autoreload 2"
   ]
  },
  {
   "cell_type": "code",
   "execution_count": 5,
   "metadata": {
    "ExecuteTime": {
     "end_time": "2021-05-29T23:35:37.502540Z",
     "start_time": "2021-05-29T23:35:37.450886Z"
    }
   },
   "outputs": [],
   "source": [
    "from functools import wraps\n",
    "import matplotlib.pyplot as plt\n",
    "import numpy as np\n",
    "import os\n",
    "import pandas as pd\n",
    "from pathlib import Path\n",
    "import time\n",
    "\n",
    "from jabberwocky.config import C\n",
    "from jabberwocky.openai_utils import load_prompt, load_openai_api_key\n",
    "from htools import *"
   ]
  },
  {
   "cell_type": "code",
   "execution_count": 3,
   "metadata": {
    "ExecuteTime": {
     "end_time": "2021-05-29T23:34:56.186774Z",
     "start_time": "2021-05-29T23:34:56.156227Z"
    }
   },
   "outputs": [
    {
     "name": "stdout",
     "output_type": "stream",
     "text": [
      "Current directory: /Users/hmamin/jabberwocky\n"
     ]
    }
   ],
   "source": [
    "cd_root()"
   ]
  },
  {
   "cell_type": "code",
   "execution_count": 17,
   "metadata": {
    "ExecuteTime": {
     "end_time": "2021-05-29T23:41:41.613509Z",
     "start_time": "2021-05-29T23:41:41.557638Z"
    }
   },
   "outputs": [],
   "source": [
    "def interruptable(func):\n",
    "    func.status_code = 0\n",
    "    @wraps(func)\n",
    "    def wrapper(*args, **kwargs):\n",
    "        try:\n",
    "            res = func(*args, **kwargs)\n",
    "            wrapper.status_code = 0\n",
    "        except KeyboardInterrupt:\n",
    "            res = RuntimeWarning('Exited early due to KeyboardInterrupt.')\n",
    "            wrapper.status_code = 1\n",
    "        return res\n",
    "    return wrapper"
   ]
  },
  {
   "cell_type": "code",
   "execution_count": 10,
   "metadata": {
    "ExecuteTime": {
     "end_time": "2021-05-29T23:37:09.197332Z",
     "start_time": "2021-05-29T23:37:09.146446Z"
    }
   },
   "outputs": [],
   "source": [
    "@interruptable\n",
    "def foo(n):\n",
    "    res = n\n",
    "    for i in range(n):\n",
    "        print(i)\n",
    "        time.sleep(1)\n",
    "        res *= (i + 1)\n",
    "    return res"
   ]
  },
  {
   "cell_type": "code",
   "execution_count": 11,
   "metadata": {
    "ExecuteTime": {
     "end_time": "2021-05-29T23:37:12.719275Z",
     "start_time": "2021-05-29T23:37:09.670812Z"
    },
    "run_control": {
     "marked": false
    }
   },
   "outputs": [
    {
     "name": "stdout",
     "output_type": "stream",
     "text": [
      "0\n",
      "1\n",
      "2\n",
      "res: 18\n",
      "status_code 0\n"
     ]
    }
   ],
   "source": [
    "res = foo(3)\n",
    "print('res:', res)\n",
    "print('status_code', foo.status_code)"
   ]
  },
  {
   "cell_type": "code",
   "execution_count": 12,
   "metadata": {
    "ExecuteTime": {
     "end_time": "2021-05-29T23:37:25.285930Z",
     "start_time": "2021-05-29T23:37:22.407444Z"
    },
    "run_control": {
     "marked": false
    }
   },
   "outputs": [
    {
     "name": "stdout",
     "output_type": "stream",
     "text": [
      "0\n",
      "1\n",
      "2\n",
      "res: Exited early due to KeyboardInterrupt.\n",
      "status_code 1\n"
     ]
    }
   ],
   "source": [
    "res = foo(3)\n",
    "print('res:', res)\n",
    "print('status_code', foo.status_code)"
   ]
  },
  {
   "cell_type": "code",
   "execution_count": 13,
   "metadata": {
    "ExecuteTime": {
     "end_time": "2021-05-29T23:37:48.034315Z",
     "start_time": "2021-05-29T23:37:47.989839Z"
    }
   },
   "outputs": [
    {
     "data": {
      "text/plain": [
       "RuntimeWarning('Exited early due to KeyboardInterrupt.')"
      ]
     },
     "execution_count": 13,
     "metadata": {},
     "output_type": "execute_result"
    }
   ],
   "source": [
    "res"
   ]
  },
  {
   "cell_type": "code",
   "execution_count": 14,
   "metadata": {
    "ExecuteTime": {
     "end_time": "2021-05-29T23:37:56.523830Z",
     "start_time": "2021-05-29T23:37:56.473927Z"
    }
   },
   "outputs": [
    {
     "data": {
      "text/plain": [
       "True"
      ]
     },
     "execution_count": 14,
     "metadata": {},
     "output_type": "execute_result"
    }
   ],
   "source": [
    "isinstance(res, Exception)"
   ]
  },
  {
   "cell_type": "markdown",
   "metadata": {},
   "source": [
    "## Callbacks\n",
    "\n",
    "Toyed with idea of integrating callbacks, but using @callback internally isn't ideal since on_end is effectively treated as part of the wrapped function's execution and therefore won't run if the function is interrupted. We could stick these inside else/finally after the try/except but I'm starting to question how useful any of this is considering the overhead of writing callbacks (an issue I should probably address)."
   ]
  },
  {
   "cell_type": "code",
   "execution_count": 44,
   "metadata": {
    "ExecuteTime": {
     "end_time": "2021-05-29T23:52:27.431717Z",
     "start_time": "2021-05-29T23:52:27.385138Z"
    }
   },
   "outputs": [],
   "source": [
    "class ConditionalCallback(Callback):\n",
    "    \n",
    "    def setup(self, func):\n",
    "        pass\n",
    "    \n",
    "    def on_begin(self, func, inputs, output=None):\n",
    "        pass\n",
    "    \n",
    "    def on_end(self, func, inputs, output=None):\n",
    "        if func.status_code == 0:\n",
    "            print('in on_end (success)')\n",
    "            return output / 10\n",
    "        else:\n",
    "            print('in on_end (failure)')\n",
    "            return -1"
   ]
  },
  {
   "cell_type": "code",
   "execution_count": 45,
   "metadata": {
    "ExecuteTime": {
     "end_time": "2021-05-29T23:52:27.716154Z",
     "start_time": "2021-05-29T23:52:27.686407Z"
    }
   },
   "outputs": [],
   "source": [
    "class AlwaysCallback(Callback):\n",
    "    \n",
    "    def setup(self, func):\n",
    "        pass\n",
    "    \n",
    "    def on_begin(self, func, inputs, output=None):\n",
    "        pass\n",
    "    \n",
    "    def on_end(self, func, inputs, output=None):\n",
    "        print('always callback:', func.__name__)"
   ]
  },
  {
   "cell_type": "code",
   "execution_count": 52,
   "metadata": {
    "ExecuteTime": {
     "end_time": "2021-05-29T23:58:41.254993Z",
     "start_time": "2021-05-29T23:58:41.208884Z"
    }
   },
   "outputs": [],
   "source": [
    "def interruptable(func=None, *, cbs=()):\n",
    "    if func is None: \n",
    "        return partial(interruptable, cbs=cbs)\n",
    "    func.status_code = 0\n",
    "    if cbs:\n",
    "        func = callbacks(tolist(cbs))(func)\n",
    "    @wraps(func)\n",
    "    def wrapper(*args, **kwargs):\n",
    "        try:\n",
    "            res = func(*args, **kwargs)\n",
    "            wrapper.status_code = 0\n",
    "        except KeyboardInterrupt:\n",
    "            res = RuntimeWarning('Exited early due to KeyboardInterrupt.')\n",
    "            wrapper.status_code = 1\n",
    "        return res\n",
    "    return wrapper"
   ]
  },
  {
   "cell_type": "code",
   "execution_count": 53,
   "metadata": {
    "ExecuteTime": {
     "end_time": "2021-05-29T23:58:41.430981Z",
     "start_time": "2021-05-29T23:58:41.394311Z"
    }
   },
   "outputs": [],
   "source": [
    "@interruptable(cbs=[ConditionalCallback(), AlwaysCallback()])\n",
    "def foo(n):\n",
    "    res = n\n",
    "    for i in range(n):\n",
    "        print(i)\n",
    "        time.sleep(1)\n",
    "        res *= (i + 1)\n",
    "    print('foo res:', res)\n",
    "    return res"
   ]
  },
  {
   "cell_type": "code",
   "execution_count": 48,
   "metadata": {
    "ExecuteTime": {
     "end_time": "2021-05-29T23:52:30.675419Z",
     "start_time": "2021-05-29T23:52:28.636316Z"
    }
   },
   "outputs": [
    {
     "name": "stdout",
     "output_type": "stream",
     "text": [
      "0\n",
      "1\n",
      "foo res: 4\n",
      "in on_end (success)\n",
      "always callback: foo\n",
      "res: 4\n",
      "status: 0\n"
     ]
    }
   ],
   "source": [
    "res = foo(2)\n",
    "print('res:', res)\n",
    "print('status:', foo.status_code)"
   ]
  },
  {
   "cell_type": "code",
   "execution_count": 49,
   "metadata": {
    "ExecuteTime": {
     "end_time": "2021-05-29T23:53:15.022357Z",
     "start_time": "2021-05-29T23:53:14.040997Z"
    },
    "scrolled": true
   },
   "outputs": [
    {
     "name": "stdout",
     "output_type": "stream",
     "text": [
      "0\n",
      "res: Exited early due to KeyboardInterrupt.\n",
      "status: 1\n"
     ]
    }
   ],
   "source": [
    "res = foo(2)\n",
    "print('res:', res)\n",
    "print('status:', foo.status_code)"
   ]
  },
  {
   "cell_type": "code",
   "execution_count": 52,
   "metadata": {
    "ExecuteTime": {
     "end_time": "2021-05-29T23:58:41.254993Z",
     "start_time": "2021-05-29T23:58:41.208884Z"
    }
   },
   "outputs": [],
   "source": [
    "def interruptable(func=None, *, cbs=()):\n",
    "    if func is None: \n",
    "        return partial(interruptable, cbs=cbs)\n",
    "    func.status_code = 0\n",
    "    if cbs:\n",
    "        cbs = tolist(cbs)\n",
    "        func = callbacks(cbs)(func)\n",
    "    @wraps(func)\n",
    "    def wrapper(*args, **kwargs):\n",
    "        try:\n",
    "            res = func(*args, **kwargs)\n",
    "            wrapper.status_code = 0\n",
    "        except KeyboardInterrupt:\n",
    "            res = RuntimeWarning('Exited early due to KeyboardInterrupt.')\n",
    "            wrapper.status_code = 1\n",
    "            for cb in cbs:\n",
    "                cb.on_end(func, _, res)\n",
    "        return res\n",
    "    return wrapper"
   ]
  },
  {
   "cell_type": "code",
   "execution_count": 53,
   "metadata": {
    "ExecuteTime": {
     "end_time": "2021-05-29T23:58:41.430981Z",
     "start_time": "2021-05-29T23:58:41.394311Z"
    }
   },
   "outputs": [],
   "source": [
    "@interruptable(cbs=[ConditionalCallback(), AlwaysCallback()])\n",
    "def foo(n):\n",
    "    res = n\n",
    "    for i in range(n):\n",
    "        print(i)\n",
    "        time.sleep(1)\n",
    "        res *= (i + 1)\n",
    "    print('foo res:', res)\n",
    "    return res"
   ]
  },
  {
   "cell_type": "code",
   "execution_count": 59,
   "metadata": {
    "ExecuteTime": {
     "end_time": "2021-05-30T00:00:03.041700Z",
     "start_time": "2021-05-30T00:00:02.987941Z"
    },
    "scrolled": true
   },
   "outputs": [
    {
     "data": {
      "text/plain": [
       "(['@interruptable(cbs=[ConditionalCallback(), AlwaysCallback()])\\n',\n",
       "  'def foo(n):\\n',\n",
       "  '    res = n\\n',\n",
       "  '    for i in range(n):\\n',\n",
       "  '        print(i)\\n',\n",
       "  '        time.sleep(1)\\n',\n",
       "  '        res *= (i + 1)\\n',\n",
       "  \"    print('foo res:', res)\\n\",\n",
       "  '    return res\\n'],\n",
       " 1)"
      ]
     },
     "execution_count": 59,
     "metadata": {},
     "output_type": "execute_result"
    }
   ],
   "source": [
    "inspect.getsourcelines(foo)"
   ]
  }
 ],
 "metadata": {
  "kernelspec": {
   "display_name": "Python 3",
   "language": "python",
   "name": "python3"
  },
  "language_info": {
   "codemirror_mode": {
    "name": "ipython",
    "version": 3
   },
   "file_extension": ".py",
   "mimetype": "text/x-python",
   "name": "python",
   "nbconvert_exporter": "python",
   "pygments_lexer": "ipython3",
   "version": "3.7.3"
  }
 },
 "nbformat": 4,
 "nbformat_minor": 2
}
