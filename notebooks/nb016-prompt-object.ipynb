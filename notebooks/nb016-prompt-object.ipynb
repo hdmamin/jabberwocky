{
 "cells": [
  {
   "cell_type": "markdown",
   "metadata": {},
   "source": [
    "# Summary\n",
    "\n",
    "Experimenting with making a Prompt object. Goals:\n",
    "- simplify the call to resolve template + arg(s)\n",
    "- allow computed values? (e.g. accept arg x and then fill another field with x+3 or x.upper()}\n",
    "- maybe define postprocessing/completion validation steps?"
   ]
  },
  {
   "cell_type": "code",
   "execution_count": 1,
   "metadata": {
    "ExecuteTime": {
     "end_time": "2022-05-14T03:57:26.567855Z",
     "start_time": "2022-05-14T03:57:26.550149Z"
    }
   },
   "outputs": [
    {
     "name": "stdout",
     "output_type": "stream",
     "text": [
      "The autoreload extension is already loaded. To reload it, use:\n",
      "  %reload_ext autoreload\n"
     ]
    }
   ],
   "source": [
    "%load_ext autoreload\n",
    "%autoreload 2"
   ]
  },
  {
   "cell_type": "code",
   "execution_count": 74,
   "metadata": {
    "ExecuteTime": {
     "end_time": "2022-05-14T04:43:17.175436Z",
     "start_time": "2022-05-14T04:43:17.126566Z"
    }
   },
   "outputs": [],
   "source": [
    "import importlib\n",
    "import keyword\n",
    "import matplotlib.pyplot as plt\n",
    "import numpy as np\n",
    "import os\n",
    "import pandas as pd\n",
    "from pathlib import Path\n",
    "import string\n",
    "import warnings\n",
    "\n",
    "from jabberwocky.config import C\n",
    "from jabberwocky.openai_utils import load_prompt, load_openai_api_key, GPT\n",
    "from jabberwocky.utils import load_yaml\n",
    "from htools import *"
   ]
  },
  {
   "cell_type": "code",
   "execution_count": 4,
   "metadata": {
    "ExecuteTime": {
     "end_time": "2022-05-14T04:13:05.217447Z",
     "start_time": "2022-05-14T04:13:05.186586Z"
    }
   },
   "outputs": [
    {
     "name": "stdout",
     "output_type": "stream",
     "text": [
      "Current directory: /Users/hmamin/jabberwocky\n"
     ]
    }
   ],
   "source": [
    "cd_root()"
   ]
  },
  {
   "cell_type": "code",
   "execution_count": 84,
   "metadata": {
    "ExecuteTime": {
     "end_time": "2022-05-14T05:00:12.822683Z",
     "start_time": "2022-05-14T05:00:12.788603Z"
    }
   },
   "outputs": [],
   "source": [
    "def import_function(qualname):\n",
    "    module_name, _, func_name = qualname.rpartition('.')\n",
    "    module = importlib.import_module(module_name)\n",
    "    return getattr(module, func_name)"
   ]
  },
  {
   "cell_type": "code",
   "execution_count": 134,
   "metadata": {
    "ExecuteTime": {
     "end_time": "2022-05-14T05:13:15.192524Z",
     "start_time": "2022-05-14T05:13:15.120209Z"
    }
   },
   "outputs": [],
   "source": [
    "# @delegate('template', iter_magics=True) # TODO rm?\n",
    "class Prompt:\n",
    "    def __init__(self, template, name='', **kwargs):\n",
    "        self.name = name\n",
    "        self.defaults = kwargs.pop('defaults', {})\n",
    "        self.postprocessors = kwargs.pop('postprocessors', [])\n",
    "        self.validators = kwargs.pop('validators', [])\n",
    "        self.kwargs = kwargs\n",
    "        self.template, self.fields = self.parse_fields(template)\n",
    "        self.n_fields = len(self.fields)\n",
    "        if not isinstance(self.defaults, dict):\n",
    "            raise TypeError('`defaults` must be a dict. If your prompt only '\n",
    "                            'has one arg, name it \"arg\".')\n",
    "            \n",
    "    def postprocess(self, text):\n",
    "        for func in self.postprocessors:\n",
    "            text = func(text)\n",
    "        return text\n",
    "    \n",
    "    def validate(self, text):\n",
    "        return all(func(text) for func in self.validators)\n",
    "            \n",
    "    @classmethod\n",
    "    def load(cls, name, prompt_dir=C.root/'data/prompts', **kwargs):\n",
    "        config = load_prompt(name, prompt_dir=prompt_dir, **kwargs)\n",
    "        template = config.pop('prompt')\n",
    "        config['validators'] = cls.functions_from_config(config, \n",
    "                                                         'validators')\n",
    "        config['postprocessors'] = cls.functions_from_config(\n",
    "            config, 'postprocessors'\n",
    "        )\n",
    "        return cls(template, name=name, **config)\n",
    "\n",
    "    @staticmethod\n",
    "    def functions_from_config(config, key):\n",
    "        return [partial(import_function(row.pop('name')), **row) \n",
    "                for row in config.get(key, [])]\n",
    "    \n",
    "    def parse_fields(self, template):\n",
    "        parser = string.Formatter()\n",
    "        fields = set(x[1] for x in parser.parse(template) if x[1] is not None)\n",
    "        if '' in fields:\n",
    "            fields.discard('')\n",
    "            fields.add('arg')\n",
    "            template = template.replace('{}', '{arg}')\n",
    "        return template, fields\n",
    "\n",
    "    def resolve(self, data=None):\n",
    "        if data and not isinstance(data, (str, dict)):\n",
    "            raise TypeError(f'data should have type str, dict, or NoneType. '\n",
    "                            f' Got type {type(data)} instead.')\n",
    "        if isinstance(data, str):\n",
    "            data = {'arg': data}\n",
    "        data = data or {}\n",
    "        data = {**self.defaults, **data}\n",
    "        if self.n_fields > len(data):\n",
    "            raise ValueError(\n",
    "                f'Your prompt takes args: {self.fields}. '\n",
    "                'Between default values and arguments to format(), we were '\n",
    "                f'only able to resolve args: {data}.'\n",
    "            )\n",
    "        if len(data) > self.n_fields:\n",
    "            warnings.warn(\n",
    "                'You provided more args than your template expects. '\n",
    "                f'Expected to see args: {self.fields}. Got args: {data}.'\n",
    "            )\n",
    "        return self.template.format(**data)\n",
    "\n",
    "    def __repr__(self):\n",
    "        return f'{type(self).__name__}(\\n\\tname={repr(self.name)},'\\\n",
    "               f'\\n\\tprompt={repr(self.template)},'\\\n",
    "               f'\\n\\tdefaults={self.defaults}'\\\n",
    "               f'\\n\\t{repr(self.kwargs)}\\n)'\n",
    "\n",
    "    def __str__(self):\n",
    "        return str(self.template)\n",
    "    \n",
    "    def __getitem__(self, key):\n",
    "        return self.kwargs[key]"
   ]
  },
  {
   "cell_type": "code",
   "execution_count": 135,
   "metadata": {
    "ExecuteTime": {
     "end_time": "2022-05-14T05:13:15.872682Z",
     "start_time": "2022-05-14T05:13:15.816308Z"
    }
   },
   "outputs": [
    {
     "name": "stdout",
     "output_type": "stream",
     "text": [
      "tmp: Max_tokens probably should change as a result of the prompt args but this is just for testing purposes. Should probably delete eventually.\n",
      "-------------------------------------------------------------------------------\n",
      "\n"
     ]
    },
    {
     "data": {
      "text/plain": [
       "Prompt(\n",
       "\tname='tmp',\n",
       "\tprompt='Make a list of {n} names that sound {quality}:\\n\\n1.',\n",
       "\tdefaults={'n': 3, 'quality': 'old'}\n",
       "\t{'engine': 0, 'max_tokens': 15, 'stop': ['1.', '\\n1.', '\\n1. ']}\n",
       ")"
      ]
     },
     "execution_count": 135,
     "metadata": {},
     "output_type": "execute_result"
    }
   ],
   "source": [
    "tmp = Prompt.load('tmp')\n",
    "tmp"
   ]
  },
  {
   "cell_type": "code",
   "execution_count": 136,
   "metadata": {
    "ExecuteTime": {
     "end_time": "2022-05-14T05:13:16.852981Z",
     "start_time": "2022-05-14T05:13:16.808452Z"
    }
   },
   "outputs": [
    {
     "data": {
      "text/plain": [
       "[functools.partial(<function reattach_1 at 0x12f15c950>),\n",
       " functools.partial(<function indent at 0x12f15c6a8>, broken=False),\n",
       " functools.partial(<function swapcase at 0x12f15c8c8>)]"
      ]
     },
     "execution_count": 136,
     "metadata": {},
     "output_type": "execute_result"
    }
   ],
   "source": [
    "tmp.postprocessors"
   ]
  },
  {
   "cell_type": "code",
   "execution_count": 137,
   "metadata": {
    "ExecuteTime": {
     "end_time": "2022-05-14T05:13:17.334647Z",
     "start_time": "2022-05-14T05:13:17.301319Z"
    }
   },
   "outputs": [
    {
     "data": {
      "text/plain": [
       "[functools.partial(<function test_indented at 0x12f15c840>, mode='all')]"
      ]
     },
     "execution_count": 137,
     "metadata": {},
     "output_type": "execute_result"
    }
   ],
   "source": [
    "tmp.validators"
   ]
  },
  {
   "cell_type": "code",
   "execution_count": 138,
   "metadata": {
    "ExecuteTime": {
     "end_time": "2022-05-14T05:13:18.934425Z",
     "start_time": "2022-05-14T05:13:18.898581Z"
    }
   },
   "outputs": [
    {
     "data": {
      "text/plain": [
       "{'engine': 0, 'max_tokens': 15, 'stop': ['1.', '\\n1.', '\\n1. ']}"
      ]
     },
     "execution_count": 138,
     "metadata": {},
     "output_type": "execute_result"
    }
   ],
   "source": [
    "tmp.kwargs"
   ]
  },
  {
   "cell_type": "code",
   "execution_count": 139,
   "metadata": {
    "ExecuteTime": {
     "end_time": "2022-05-14T05:13:25.594131Z",
     "start_time": "2022-05-14T05:13:25.540866Z"
    }
   },
   "outputs": [
    {
     "data": {
      "text/plain": [
       "'Make a list of 3 names that sound old:\\n\\n1.'"
      ]
     },
     "execution_count": 139,
     "metadata": {},
     "output_type": "execute_result"
    }
   ],
   "source": [
    "tmp.resolve()"
   ]
  },
  {
   "cell_type": "code",
   "execution_count": 141,
   "metadata": {
    "ExecuteTime": {
     "end_time": "2022-05-14T05:13:40.683763Z",
     "start_time": "2022-05-14T05:13:40.595291Z"
    }
   },
   "outputs": [
    {
     "data": {
      "text/plain": [
       "'Make a list of 9 names that sound old:\\n\\n1.'"
      ]
     },
     "execution_count": 141,
     "metadata": {},
     "output_type": "execute_result"
    }
   ],
   "source": [
    "tmp.resolve({'n': 9})"
   ]
  },
  {
   "cell_type": "code",
   "execution_count": 142,
   "metadata": {
    "ExecuteTime": {
     "end_time": "2022-05-14T05:13:54.167884Z",
     "start_time": "2022-05-14T05:13:54.105981Z"
    }
   },
   "outputs": [
    {
     "data": {
      "text/plain": [
       "'Make a list of 3 names that sound happy:\\n\\n1.'"
      ]
     },
     "execution_count": 142,
     "metadata": {},
     "output_type": "execute_result"
    }
   ],
   "source": [
    "tmp.resolve({'quality': 'happy'})"
   ]
  },
  {
   "cell_type": "code",
   "execution_count": null,
   "metadata": {},
   "outputs": [],
   "source": []
  },
  {
   "cell_type": "code",
   "execution_count": 99,
   "metadata": {
    "ExecuteTime": {
     "end_time": "2022-05-14T05:03:47.068918Z",
     "start_time": "2022-05-14T05:03:46.337352Z"
    }
   },
   "outputs": [
    {
     "name": "stdout",
     "output_type": "stream",
     "text": [
      "Switching openai backend to \"openai\".\n",
      "{'engine': 0, 'max_tokens': 15, 'stop': ['1.', '\\n1.', '\\n1. '], 'prompt': 'Make a list of 3 names that sound spacy:\\n\\n1.', 'meta': {'backend_name': 'openai', 'query_func': 'query_gpt3', 'datetime': 'Fri May 13 22:03:46 2022'}}\n",
      "Switching  backend back to \"openai\".\n",
      "(['invincibility\\n2. invincibility\\n3. invincibility'], [{'text': ' invincibility\\n2. invincibility\\n3. invincibility', 'index': 0, 'logprobs': None, 'finish_reason': 'length', 'prompt_index': 0}])\n"
     ]
    }
   ],
   "source": [
    "with GPT('openai'):\n",
    "    res = GPT.query(tmp.resolve({'n': 3, 'quality': 'spacy'}), \n",
    "                    **tmp.kwargs)\n",
    "print(res)"
   ]
  },
  {
   "cell_type": "code",
   "execution_count": 127,
   "metadata": {
    "ExecuteTime": {
     "end_time": "2022-05-14T05:09:15.318719Z",
     "start_time": "2022-05-14T05:09:15.272291Z"
    }
   },
   "outputs": [
    {
     "name": "stdout",
     "output_type": "stream",
     "text": [
      "\t1. INVINCIBILITY\n",
      "\t2. INVINCIBILITY\n",
      "\t3. INVINCIBILITY\n"
     ]
    }
   ],
   "source": [
    "postprocessed = tmp.postprocess(res[0][0])\n",
    "print(postprocessed)"
   ]
  },
  {
   "cell_type": "code",
   "execution_count": 128,
   "metadata": {
    "ExecuteTime": {
     "end_time": "2022-05-14T05:09:16.550400Z",
     "start_time": "2022-05-14T05:09:16.504920Z"
    }
   },
   "outputs": [
    {
     "data": {
      "text/plain": [
       "True"
      ]
     },
     "execution_count": 128,
     "metadata": {},
     "output_type": "execute_result"
    }
   ],
   "source": [
    "tmp.validate(postprocessed)"
   ]
  },
  {
   "cell_type": "code",
   "execution_count": null,
   "metadata": {},
   "outputs": [],
   "source": []
  },
  {
   "cell_type": "code",
   "execution_count": null,
   "metadata": {},
   "outputs": [],
   "source": []
  },
  {
   "cell_type": "code",
   "execution_count": 37,
   "metadata": {
    "ExecuteTime": {
     "end_time": "2022-05-14T04:24:03.079355Z",
     "start_time": "2022-05-14T04:24:03.006264Z"
    }
   },
   "outputs": [
    {
     "name": "stdout",
     "output_type": "stream",
     "text": [
      "test_professional: This doesn't actually work very well but the settings are a good example of what is needed for my envisioned natural language tests.\n",
      "-------------------------------------------------------------------------------\n",
      "\n"
     ]
    },
    {
     "data": {
      "text/plain": [
       "{'engine': 1,\n",
       " 'temperature': 0.0,\n",
       " 'max_tokens': 1,\n",
       " 'presence_penalty': 2,\n",
       " 'frequency_penalty': 2,\n",
       " 'logprobs': 2,\n",
       " 'stop': ['\\n'],\n",
       " 'logit_bias': {3763: 100, 645: 100},\n",
       " 'validation': [{'name': 'tmp.is_yes_or_no', 'strip': True, 'lower': False},\n",
       "  {'name': 'requests.get'}],\n",
       " 'prompt': 'Does the following email maintain a professional tone? (Yes/No)\\n\\nEmail:\\n{} \\nAnswer:'}"
      ]
     },
     "execution_count": 37,
     "metadata": {},
     "output_type": "execute_result"
    }
   ],
   "source": [
    "config = load_prompt('test_professional')\n",
    "config"
   ]
  },
  {
   "cell_type": "code",
   "execution_count": null,
   "metadata": {},
   "outputs": [],
   "source": []
  },
  {
   "cell_type": "code",
   "execution_count": null,
   "metadata": {},
   "outputs": [],
   "source": []
  },
  {
   "cell_type": "code",
   "execution_count": null,
   "metadata": {},
   "outputs": [],
   "source": []
  },
  {
   "cell_type": "code",
   "execution_count": 45,
   "metadata": {
    "ExecuteTime": {
     "end_time": "2022-05-14T04:26:28.799021Z",
     "start_time": "2022-05-14T04:26:28.717973Z"
    }
   },
   "outputs": [],
   "source": [
    "template = '{age} is younger than {age+1}'"
   ]
  },
  {
   "cell_type": "code",
   "execution_count": 47,
   "metadata": {
    "ExecuteTime": {
     "end_time": "2022-05-14T04:26:38.376230Z",
     "start_time": "2022-05-14T04:26:38.324619Z"
    }
   },
   "outputs": [
    {
     "ename": "KeyError",
     "evalue": "'age+1'",
     "output_type": "error",
     "traceback": [
      "\u001b[0;31m---------------------------------------------------------------------------\u001b[0m",
      "\u001b[0;31mKeyError\u001b[0m                                  Traceback (most recent call last)",
      "\u001b[0;32m<ipython-input-47-a7f253ef1833>\u001b[0m in \u001b[0;36m<module>\u001b[0;34m\u001b[0m\n\u001b[0;32m----> 1\u001b[0;31m \u001b[0mtemplate\u001b[0m\u001b[0;34m.\u001b[0m\u001b[0mformat\u001b[0m\u001b[0;34m(\u001b[0m\u001b[0mage\u001b[0m\u001b[0;34m=\u001b[0m\u001b[0;36m9\u001b[0m\u001b[0;34m)\u001b[0m\u001b[0;34m\u001b[0m\u001b[0;34m\u001b[0m\u001b[0m\n\u001b[0m",
      "\u001b[0;31mKeyError\u001b[0m: 'age+1'"
     ]
    }
   ],
   "source": [
    "template.format(age=9)"
   ]
  }
 ],
 "metadata": {
  "kernelspec": {
   "display_name": "Python 3",
   "language": "python",
   "name": "python3"
  },
  "language_info": {
   "codemirror_mode": {
    "name": "ipython",
    "version": 3
   },
   "file_extension": ".py",
   "mimetype": "text/x-python",
   "name": "python",
   "nbconvert_exporter": "python",
   "pygments_lexer": "ipython3",
   "version": "3.7.3"
  }
 },
 "nbformat": 4,
 "nbformat_minor": 2
}
