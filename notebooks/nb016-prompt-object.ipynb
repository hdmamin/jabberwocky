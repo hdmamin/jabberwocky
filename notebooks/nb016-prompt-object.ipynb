{
 "cells": [
  {
   "cell_type": "markdown",
   "metadata": {},
   "source": [
    "# Summary\n",
    "\n",
    "Experimenting with making a Prompt object. Goals:\n",
    "- simplify the call to resolve template + arg(s)\n",
    "- allow computed values? (e.g. accept arg x and then fill another field with x+3 or x.upper()}\n",
    "- maybe define postprocessing/completion validation steps?"
   ]
  },
  {
   "cell_type": "code",
   "execution_count": 1,
   "metadata": {
    "ExecuteTime": {
     "end_time": "2022-05-14T03:57:26.567855Z",
     "start_time": "2022-05-14T03:57:26.550149Z"
    }
   },
   "outputs": [
    {
     "name": "stdout",
     "output_type": "stream",
     "text": [
      "The autoreload extension is already loaded. To reload it, use:\n",
      "  %reload_ext autoreload\n"
     ]
    }
   ],
   "source": [
    "%load_ext autoreload\n",
    "%autoreload 2"
   ]
  },
  {
   "cell_type": "code",
   "execution_count": 228,
   "metadata": {
    "ExecuteTime": {
     "end_time": "2022-05-15T01:10:34.649000Z",
     "start_time": "2022-05-15T01:10:34.575600Z"
    }
   },
   "outputs": [],
   "source": [
    "from copy import deepcopy\n",
    "import importlib\n",
    "from inspect import Parameter, Signature\n",
    "import keyword\n",
    "import matplotlib.pyplot as plt\n",
    "import numpy as np\n",
    "import os\n",
    "import pandas as pd\n",
    "from pathlib import Path\n",
    "import string\n",
    "import warnings\n",
    "\n",
    "from jabberwocky.config import C\n",
    "from jabberwocky.openai_utils import load_prompt, load_openai_api_key, GPT\n",
    "from jabberwocky.utils import load_yaml\n",
    "from htools import *"
   ]
  },
  {
   "cell_type": "code",
   "execution_count": 4,
   "metadata": {
    "ExecuteTime": {
     "end_time": "2022-05-14T04:13:05.217447Z",
     "start_time": "2022-05-14T04:13:05.186586Z"
    }
   },
   "outputs": [
    {
     "name": "stdout",
     "output_type": "stream",
     "text": [
      "Current directory: /Users/hmamin/jabberwocky\n"
     ]
    }
   ],
   "source": [
    "cd_root()"
   ]
  },
  {
   "cell_type": "code",
   "execution_count": 84,
   "metadata": {
    "ExecuteTime": {
     "end_time": "2022-05-14T05:00:12.822683Z",
     "start_time": "2022-05-14T05:00:12.788603Z"
    }
   },
   "outputs": [],
   "source": [
    "def import_function(qualname):\n",
    "    module_name, _, func_name = qualname.rpartition('.')\n",
    "    module = importlib.import_module(module_name)\n",
    "    return getattr(module, func_name)"
   ]
  },
  {
   "cell_type": "code",
   "execution_count": 435,
   "metadata": {
    "ExecuteTime": {
     "end_time": "2022-05-15T20:47:20.015866Z",
     "start_time": "2022-05-15T20:47:19.933143Z"
    }
   },
   "outputs": [],
   "source": [
    "# @delegate('template', iter_magics=True) # TODO rm?\n",
    "class Prompt:\n",
    "    \n",
    "    def __init__(self, template, name='', **kwargs):\n",
    "        self.name = name\n",
    "        self.defaults = kwargs.pop('defaults', {})\n",
    "        if not isinstance(self.defaults, dict):\n",
    "            raise TypeError('`defaults` must be a dict. If your prompt only '\n",
    "                            'has one arg, name it \"prompt\".')\n",
    "            \n",
    "        self.postprocessors = kwargs.pop('postprocessors', [])\n",
    "        self.validators = kwargs.pop('validators', [])\n",
    "        self._kwargs = kwargs\n",
    "        self.template, self.fields = self.parse_fields(template)\n",
    "        self.signature = self.make_signature(self.fields, self.defaults)\n",
    "        self.n_fields = len(self.fields)\n",
    "        self.fully_resolved = ''\n",
    "            \n",
    "    def make_signature(self, fields, defaults):\n",
    "        if set(defaults) - set(fields):\n",
    "            raise ValueError(f'You provided defaults for fields that do not '\n",
    "                             f'exist. Defaults={defaults}, fields={fields}.')\n",
    "        if len(fields) == 1:\n",
    "            kind = Parameter.POSITIONAL_OR_KEYWORD\n",
    "        else:\n",
    "            kind = Parameter.KEYWORD_ONLY\n",
    "        parameters = [Parameter(name=field, kind=kind,\n",
    "                                default=defaults.get(field, Parameter.empty))\n",
    "                      for field in fields]\n",
    "        return Signature(parameters)\n",
    "    \n",
    "    def _resolve_kwargs(self, *args, **kwargs):\n",
    "        error_base = f'Prompt {self.name} has {self.n_fields} fields: ' \\\n",
    "            f'{self.fields}.'\n",
    "        if args and self.n_fields > 1:\n",
    "            raise RuntimeError(\n",
    "                'You must use keyword arguments when n_fields > 1 but you '\n",
    "                f'specified 1 or more positional args: {args}. ' + error_base\n",
    "            )\n",
    "        try:\n",
    "            sig = self.signature.bind(*args, **kwargs)\n",
    "        except TypeError as e:\n",
    "            raise RuntimeError(\n",
    "                'You provided 1 or more unexpected kwargs: '\n",
    "                f'{set(kwargs) - self.fields}. {error_base}'\n",
    "            ) from e\n",
    "\n",
    "        sig.apply_defaults()\n",
    "        return sig.arguments\n",
    "            \n",
    "    def postprocess(self, text):\n",
    "        for func in self.postprocessors:\n",
    "            text = func(text)\n",
    "        return text\n",
    "    \n",
    "    def validate(self, text):\n",
    "        return all(func(text) for func in self.validators)\n",
    "            \n",
    "    @classmethod\n",
    "    def load(cls, name, prompt_dir=C.root/'data/prompts', **kwargs):\n",
    "        config = load_prompt(name, prompt_dir=prompt_dir, **kwargs)\n",
    "        template = config.pop('prompt')\n",
    "        config['validators'] = cls.functions_from_config(config, \n",
    "                                                         'validators')\n",
    "        config['postprocessors'] = cls.functions_from_config(\n",
    "            config, 'postprocessors'\n",
    "        )\n",
    "        return cls(template, name=name, **config)\n",
    "\n",
    "    @staticmethod\n",
    "    def functions_from_config(config, key):\n",
    "        return [partial(import_function(row.pop('name')), **row) \n",
    "                for row in config.get(key, [])]\n",
    "    \n",
    "    def parse_fields(self, template):\n",
    "        parser = string.Formatter()\n",
    "        fields = [x[1] for x in parser.parse(template) if x[1] is not None]\n",
    "        unique_fields = set(fields)\n",
    "        default = 'prompt'\n",
    "        if '' in fields:\n",
    "            if len(unique_fields) > 1:\n",
    "                raise RuntimeError(\n",
    "                    'Found unnamed arg in prompt template. This is only '\n",
    "                    'valid when a prompt expects <=1 unique fields but yours '\n",
    "                    f'expects {len(unique_fields)}.'\n",
    "                )\n",
    "            template = template.replace('{}', '{' + default + '}')\n",
    "            unique_fields.discard('')\n",
    "            unique_fields.add(default)\n",
    "        if len(fields) > 1 and all(field == default \n",
    "                                   for field in unique_fields):\n",
    "            warnings.warn('Found multiple fields to fill but all have the '\n",
    "                          'same name. Are you sure that\\'s intentional?')\n",
    "        return template, unique_fields\n",
    "    \n",
    "    def kwargs(self, extra_kwargs=None, **kwargs):\n",
    "        base_kwargs = {**self._kwargs, **kwargs}\n",
    "        for k, v in (extra_kwargs or {}).items():\n",
    "            try:\n",
    "                base_val = deepcopy(base_kwargs[k])\n",
    "            except KeyError as e:\n",
    "                raise KeyError(f'Extra kwarg {k} not present in default '\n",
    "                               'kwargs.')\n",
    "            \n",
    "            if isinstance(base_val, Iterable):\n",
    "                assert listlike(v), f'Extra kwargs for {k} should be ' \\\n",
    "                    f'list-like, not {type(v)}.'\n",
    "                base_val = list(base_val)\n",
    "                base_val.extend(v)\n",
    "            elif isinstance(base_val, Mapping):\n",
    "                assert isinstance(v, Mapping), f'Extra kwargs for {k} should'\\\n",
    "                    f' be dict-like, not {type(v)}.'\n",
    "                base_val.update(v)\n",
    "            else:\n",
    "                raise TypeError(\n",
    "                    'Extra_kwargs are only available for args that are lists '\n",
    "                    f'or dicts, but you tried to use them with `{k}` which '\n",
    "                    f'has type {type(base_val)}'\n",
    "                )\n",
    "            base_kwargs[k] = base_val\n",
    "        return base_kwargs\n",
    "\n",
    "#     def resolve(self, *args, **kwargs):\n",
    "#         resolved_kwargs = self._resolve_kwargs(*args, **kwargs)\n",
    "#         resolved = self.template.format(**resolved_kwargs)\n",
    "#         self.last_resolved = resolved\n",
    "#         return resolved\n",
    "\n",
    "    def resolve_template(self, *args, **kwargs):\n",
    "        resolved_kwargs = self._resolve_kwargs(*args, **kwargs)\n",
    "        resolved = self.template.format(**resolved_kwargs)\n",
    "        self.fully_resolved = resolved\n",
    "        return resolved\n",
    "    \n",
    "    def resolve(self, *args, **kwargs):\n",
    "        _ = self.resolve_template(*args, **kwargs)\n",
    "        return self\n",
    "        \n",
    "    def __repr__(self):\n",
    "        return f'{type(self).__name__}(\\n\\tname={repr(self.name)},'\\\n",
    "               f'\\n\\tprompt={repr(self.template)},'\\\n",
    "               f'\\n\\tdefaults={self.defaults},'\\\n",
    "               f'\\n\\t_kwargs={repr(self._kwargs)}\\n)'\n",
    "\n",
    "    def __str__(self):\n",
    "        return str(self.template)\n",
    "    \n",
    "    def __getattr__(self, key):\n",
    "        return self._kwargs[key]"
   ]
  },
  {
   "cell_type": "code",
   "execution_count": 436,
   "metadata": {
    "ExecuteTime": {
     "end_time": "2022-05-15T20:47:20.605948Z",
     "start_time": "2022-05-15T20:47:20.536709Z"
    }
   },
   "outputs": [],
   "source": [
    "class ResolvedPrompt(Prompt):\n",
    "    \n",
    "    def __init__(self, prompt, query_kwargs):\n",
    "        self.prompt = prompt\n",
    "        self.query_kwargs = query_kwargs\n",
    "        \n",
    "    def postprocess(self, text):\n",
    "        return self.prompt.postprocess(text)\n",
    "    \n",
    "    def validate(self, text):\n",
    "        return self.prompt.validate(text)\n",
    "    "
   ]
  },
  {
   "cell_type": "code",
   "execution_count": 437,
   "metadata": {
    "ExecuteTime": {
     "end_time": "2022-05-15T20:47:20.753660Z",
     "start_time": "2022-05-15T20:47:20.718386Z"
    }
   },
   "outputs": [
    {
     "name": "stderr",
     "output_type": "stream",
     "text": [
      "/Users/hmamin/anaconda3/lib/python3.7/site-packages/ipykernel_launcher.py:92: UserWarning: Found multiple fields to fill but all have the same name. Are you sure that's intentional?\n"
     ]
    },
    {
     "data": {
      "text/plain": [
       "Prompt(\n",
       "\tname='',\n",
       "\tprompt='Who are {prompt}? {prompt}',\n",
       "\tdefaults={},\n",
       "\t_kwargs={}\n",
       ")"
      ]
     },
     "execution_count": 437,
     "metadata": {},
     "output_type": "execute_result"
    }
   ],
   "source": [
    "Prompt('Who are {}? {}')"
   ]
  },
  {
   "cell_type": "code",
   "execution_count": 438,
   "metadata": {
    "ExecuteTime": {
     "end_time": "2022-05-15T20:47:20.934168Z",
     "start_time": "2022-05-15T20:47:20.897894Z"
    }
   },
   "outputs": [
    {
     "data": {
      "text/plain": [
       "Prompt(\n",
       "\tname='',\n",
       "\tprompt='Who are {prompt}?',\n",
       "\tdefaults={},\n",
       "\t_kwargs={}\n",
       ")"
      ]
     },
     "execution_count": 438,
     "metadata": {},
     "output_type": "execute_result"
    }
   ],
   "source": [
    "Prompt('Who are {}?')"
   ]
  },
  {
   "cell_type": "code",
   "execution_count": 439,
   "metadata": {
    "ExecuteTime": {
     "end_time": "2022-05-15T20:47:21.111995Z",
     "start_time": "2022-05-15T20:47:21.078040Z"
    }
   },
   "outputs": [
    {
     "name": "stdout",
     "output_type": "stream",
     "text": [
      "As expected, got Exception(You provided defaults for fields that do not exist. Defaults={'fake': 3}, fields={'prompt'}.).\n"
     ]
    }
   ],
   "source": [
    "with assert_raises(Exception):\n",
    "    Prompt('Who are {}?', defaults={'fake': 3})"
   ]
  },
  {
   "cell_type": "code",
   "execution_count": 440,
   "metadata": {
    "ExecuteTime": {
     "end_time": "2022-05-15T20:47:21.617411Z",
     "start_time": "2022-05-15T20:47:21.578552Z"
    }
   },
   "outputs": [
    {
     "name": "stdout",
     "output_type": "stream",
     "text": [
      "As expected, got Exception(Found unnamed arg in prompt template. This is only valid when a prompt expects <=1 unique fields but yours expects 2.).\n"
     ]
    }
   ],
   "source": [
    "with assert_raises(Exception):\n",
    "    Prompt('Who are {}? {name}')"
   ]
  },
  {
   "cell_type": "code",
   "execution_count": 441,
   "metadata": {
    "ExecuteTime": {
     "end_time": "2022-05-15T20:47:22.076202Z",
     "start_time": "2022-05-15T20:47:22.027945Z"
    }
   },
   "outputs": [
    {
     "name": "stdout",
     "output_type": "stream",
     "text": [
      "tmp: Max_tokens probably should change as a result of the prompt args but this is just for testing purposes. Should probably delete eventually.\n",
      "-------------------------------------------------------------------------------\n",
      "\n"
     ]
    },
    {
     "data": {
      "text/plain": [
       "Prompt(\n",
       "\tname='tmp',\n",
       "\tprompt='Make a list of {n} names that sound {quality}:\\n\\n1.',\n",
       "\tdefaults={'n': 3, 'quality': 'old'},\n",
       "\t_kwargs={'engine': 0, 'max_tokens': 15, 'stop': ['1.', '\\n1.', '\\n1. ']}\n",
       ")"
      ]
     },
     "execution_count": 441,
     "metadata": {},
     "output_type": "execute_result"
    }
   ],
   "source": [
    "tmp = Prompt.load('tmp')\n",
    "tmp"
   ]
  },
  {
   "cell_type": "code",
   "execution_count": 442,
   "metadata": {
    "ExecuteTime": {
     "end_time": "2022-05-15T20:47:22.601014Z",
     "start_time": "2022-05-15T20:47:22.565701Z"
    }
   },
   "outputs": [
    {
     "data": {
      "text/plain": [
       "{'engine': 0, 'max_tokens': 15, 'stop': ['1.', '\\n1.', '\\n1. ']}"
      ]
     },
     "execution_count": 442,
     "metadata": {},
     "output_type": "execute_result"
    }
   ],
   "source": [
    "tmp.kwargs()"
   ]
  },
  {
   "cell_type": "code",
   "execution_count": 443,
   "metadata": {
    "ExecuteTime": {
     "end_time": "2022-05-15T20:47:23.080202Z",
     "start_time": "2022-05-15T20:47:23.035841Z"
    }
   },
   "outputs": [
    {
     "data": {
      "text/plain": [
       "{'engine': 0, 'max_tokens': 15, 'stop': ['3', '4']}"
      ]
     },
     "execution_count": 443,
     "metadata": {},
     "output_type": "execute_result"
    }
   ],
   "source": [
    "tmp.kwargs(stop=['3', '4'])"
   ]
  },
  {
   "cell_type": "code",
   "execution_count": 444,
   "metadata": {
    "ExecuteTime": {
     "end_time": "2022-05-15T20:47:23.242238Z",
     "start_time": "2022-05-15T20:47:23.197442Z"
    }
   },
   "outputs": [
    {
     "data": {
      "text/plain": [
       "{'engine': 0, 'max_tokens': 15, 'stop': ['1.', '\\n1.', '\\n1. ', '\\n\\n\\n333']}"
      ]
     },
     "execution_count": 444,
     "metadata": {},
     "output_type": "execute_result"
    }
   ],
   "source": [
    "tmp.kwargs(extra_kwargs={'stop': ['\\n\\n\\n333']})"
   ]
  },
  {
   "cell_type": "code",
   "execution_count": 445,
   "metadata": {
    "ExecuteTime": {
     "end_time": "2022-05-15T20:47:23.427710Z",
     "start_time": "2022-05-15T20:47:23.376878Z"
    }
   },
   "outputs": [
    {
     "name": "stdout",
     "output_type": "stream",
     "text": [
      "As expected, got Exception(Extra kwargs for stop should be list-like, not <class 'dict'>.).\n"
     ]
    }
   ],
   "source": [
    "with assert_raises(Exception):\n",
    "    tmp.kwargs(extra_kwargs={'stop': {'wrong_type': '\\n\\n\\n333'}})"
   ]
  },
  {
   "cell_type": "code",
   "execution_count": 446,
   "metadata": {
    "ExecuteTime": {
     "end_time": "2022-05-15T20:47:23.581020Z",
     "start_time": "2022-05-15T20:47:23.532699Z"
    }
   },
   "outputs": [
    {
     "name": "stdout",
     "output_type": "stream",
     "text": [
      "As expected, got KeyError('Extra kwarg logprobs not present in default kwargs.').\n"
     ]
    }
   ],
   "source": [
    "with assert_raises(KeyError):\n",
    "    tmp.kwargs(temperature=.99, extra_kwargs={'logprobs': True})"
   ]
  },
  {
   "cell_type": "code",
   "execution_count": 447,
   "metadata": {
    "ExecuteTime": {
     "end_time": "2022-05-15T20:47:23.939750Z",
     "start_time": "2022-05-15T20:47:23.897276Z"
    }
   },
   "outputs": [
    {
     "data": {
      "text/plain": [
       "{'engine': 0,\n",
       " 'max_tokens': 15,\n",
       " 'stop': ['1.', '\\n1.', '\\n1. '],\n",
       " 'temperature': 0.99,\n",
       " 'logit_bias': {200: 1}}"
      ]
     },
     "execution_count": 447,
     "metadata": {},
     "output_type": "execute_result"
    }
   ],
   "source": [
    "tmp.kwargs(temperature=.99, logit_bias={200: 1})"
   ]
  },
  {
   "cell_type": "code",
   "execution_count": 448,
   "metadata": {
    "ExecuteTime": {
     "end_time": "2022-05-15T20:47:24.419630Z",
     "start_time": "2022-05-15T20:47:24.384124Z"
    }
   },
   "outputs": [
    {
     "data": {
      "text/plain": [
       "{'engine': 0,\n",
       " 'max_tokens': 15,\n",
       " 'stop': ['1.', '\\n1.', '\\n1. '],\n",
       " 'temperature': 0.3}"
      ]
     },
     "execution_count": 448,
     "metadata": {},
     "output_type": "execute_result"
    }
   ],
   "source": [
    "tmp.kwargs(temperature=.3)"
   ]
  },
  {
   "cell_type": "code",
   "execution_count": 449,
   "metadata": {
    "ExecuteTime": {
     "end_time": "2022-05-15T20:47:25.323565Z",
     "start_time": "2022-05-15T20:47:25.288653Z"
    }
   },
   "outputs": [
    {
     "name": "stdout",
     "output_type": "stream",
     "text": [
      "As expected, got RuntimeError(You must use keyword arguments when n_fields > 1 but you specified 1 or more positional args: (4,). Prompt tmp has 2 fields: {'quality', 'n'}.).\n"
     ]
    }
   ],
   "source": [
    "with assert_raises(RuntimeError):\n",
    "    tmp.resolve(4)"
   ]
  },
  {
   "cell_type": "code",
   "execution_count": 450,
   "metadata": {
    "ExecuteTime": {
     "end_time": "2022-05-15T20:47:25.482346Z",
     "start_time": "2022-05-15T20:47:25.448003Z"
    }
   },
   "outputs": [
    {
     "name": "stdout",
     "output_type": "stream",
     "text": [
      "As expected, got RuntimeError(You provided 1 or more unexpected kwargs: {'z'}. Prompt tmp has 2 fields: {'quality', 'n'}.).\n"
     ]
    }
   ],
   "source": [
    "with assert_raises(RuntimeError):\n",
    "    tmp.resolve(z=4)"
   ]
  },
  {
   "cell_type": "code",
   "execution_count": 451,
   "metadata": {
    "ExecuteTime": {
     "end_time": "2022-05-15T20:47:26.400051Z",
     "start_time": "2022-05-15T20:47:26.341808Z"
    }
   },
   "outputs": [
    {
     "data": {
      "text/plain": [
       "[functools.partial(<function reattach_1 at 0x12f191bf8>),\n",
       " functools.partial(<function indent at 0x12f191ea0>, broken=False),\n",
       " functools.partial(<function swapcase at 0x12f191c80>)]"
      ]
     },
     "execution_count": 451,
     "metadata": {},
     "output_type": "execute_result"
    }
   ],
   "source": [
    "tmp.postprocessors"
   ]
  },
  {
   "cell_type": "code",
   "execution_count": 452,
   "metadata": {
    "ExecuteTime": {
     "end_time": "2022-05-15T20:47:26.970642Z",
     "start_time": "2022-05-15T20:47:26.930858Z"
    }
   },
   "outputs": [
    {
     "data": {
      "text/plain": [
       "[functools.partial(<function test_indented at 0x12f191048>, mode='all')]"
      ]
     },
     "execution_count": 452,
     "metadata": {},
     "output_type": "execute_result"
    }
   ],
   "source": [
    "tmp.validators"
   ]
  },
  {
   "cell_type": "code",
   "execution_count": 453,
   "metadata": {
    "ExecuteTime": {
     "end_time": "2022-05-15T20:47:27.483209Z",
     "start_time": "2022-05-15T20:47:27.449792Z"
    }
   },
   "outputs": [
    {
     "data": {
      "text/plain": [
       "{'engine': 0, 'max_tokens': 15, 'stop': ['1.', '\\n1.', '\\n1. ']}"
      ]
     },
     "execution_count": 453,
     "metadata": {},
     "output_type": "execute_result"
    }
   ],
   "source": [
    "tmp.kwargs()"
   ]
  },
  {
   "cell_type": "code",
   "execution_count": 454,
   "metadata": {
    "ExecuteTime": {
     "end_time": "2022-05-15T20:47:28.054992Z",
     "start_time": "2022-05-15T20:47:28.010716Z"
    }
   },
   "outputs": [
    {
     "data": {
      "text/plain": [
       "Prompt(\n",
       "\tname='tmp',\n",
       "\tprompt='Make a list of {n} names that sound {quality}:\\n\\n1.',\n",
       "\tdefaults={'n': 3, 'quality': 'old'},\n",
       "\t_kwargs={'engine': 0, 'max_tokens': 15, 'stop': ['1.', '\\n1.', '\\n1. ']}\n",
       ")"
      ]
     },
     "execution_count": 454,
     "metadata": {},
     "output_type": "execute_result"
    }
   ],
   "source": [
    "tmp.resolve()"
   ]
  },
  {
   "cell_type": "code",
   "execution_count": 455,
   "metadata": {
    "ExecuteTime": {
     "end_time": "2022-05-15T20:47:33.610167Z",
     "start_time": "2022-05-15T20:47:33.571141Z"
    }
   },
   "outputs": [
    {
     "data": {
      "text/plain": [
       "Prompt(\n",
       "\tname='tmp',\n",
       "\tprompt='Make a list of {n} names that sound {quality}:\\n\\n1.',\n",
       "\tdefaults={'n': 3, 'quality': 'old'},\n",
       "\t_kwargs={'engine': 0, 'max_tokens': 15, 'stop': ['1.', '\\n1.', '\\n1. ']}\n",
       ")"
      ]
     },
     "execution_count": 455,
     "metadata": {},
     "output_type": "execute_result"
    }
   ],
   "source": [
    "tmp.resolve(n=9)"
   ]
  },
  {
   "cell_type": "code",
   "execution_count": 457,
   "metadata": {
    "ExecuteTime": {
     "end_time": "2022-05-15T20:47:42.740995Z",
     "start_time": "2022-05-15T20:47:42.703239Z"
    }
   },
   "outputs": [
    {
     "data": {
      "text/plain": [
       "Prompt(\n",
       "\tname='tmp',\n",
       "\tprompt='Make a list of {n} names that sound {quality}:\\n\\n1.',\n",
       "\tdefaults={'n': 3, 'quality': 'old'},\n",
       "\t_kwargs={'engine': 0, 'max_tokens': 15, 'stop': ['1.', '\\n1.', '\\n1. ']}\n",
       ")"
      ]
     },
     "execution_count": 457,
     "metadata": {},
     "output_type": "execute_result"
    }
   ],
   "source": [
    "tmp.resolve(quality='happy')"
   ]
  },
  {
   "cell_type": "code",
   "execution_count": 458,
   "metadata": {
    "ExecuteTime": {
     "end_time": "2022-05-15T20:47:44.162340Z",
     "start_time": "2022-05-15T20:47:44.099486Z"
    }
   },
   "outputs": [
    {
     "data": {
      "text/plain": [
       "Prompt(\n",
       "\tname='tmp',\n",
       "\tprompt='Make a list of {n} names that sound {quality}:\\n\\n1.',\n",
       "\tdefaults={'n': 3, 'quality': 'old'},\n",
       "\t_kwargs={'engine': 0, 'max_tokens': 15, 'stop': ['1.', '\\n1.', '\\n1. ']}\n",
       ")"
      ]
     },
     "execution_count": 458,
     "metadata": {},
     "output_type": "execute_result"
    }
   ],
   "source": [
    "tmp.resolve(n=2, quality='happy')"
   ]
  },
  {
   "cell_type": "code",
   "execution_count": 396,
   "metadata": {
    "ExecuteTime": {
     "end_time": "2022-05-15T20:18:43.000413Z",
     "start_time": "2022-05-15T20:18:42.957560Z"
    }
   },
   "outputs": [
    {
     "name": "stdout",
     "output_type": "stream",
     "text": [
      "As expected, got Exception(You provided 1 or more unexpected kwargs: {'dense'}. Prompt tmp has 2 fields: {'quality', 'n'}.).\n"
     ]
    }
   ],
   "source": [
    "with assert_raises(Exception):\n",
    "    tmp.resolve(n=2, quality='happy', dense=True)"
   ]
  },
  {
   "cell_type": "code",
   "execution_count": 406,
   "metadata": {
    "ExecuteTime": {
     "end_time": "2022-05-15T20:23:05.343946Z",
     "start_time": "2022-05-15T20:23:03.448710Z"
    }
   },
   "outputs": [
    {
     "name": "stdout",
     "output_type": "stream",
     "text": [
      "Switching openai backend to \"banana\".\n",
      "{'engine': 0, 'max_tokens': 15, 'stop': ['1.', '\\n1.', '\\n1. '], 'prompt': 'Make a list of 5 names that sound spacy:\\n\\n1.', 'meta': {'backend_name': 'banana', 'query_func': 'query_gpt_banana', 'datetime': 'Sun May 15 13:23:03 2022'}}\n",
      "Switching  backend back to \"openai\".\n"
     ]
    }
   ],
   "source": [
    "with GPT('banana'):\n",
    "    res = GPT.query(tmp.resolve(n=5, quality='spacy'), \n",
    "                    **tmp.kwargs(), \n",
    "                    strip_output=False)"
   ]
  },
  {
   "cell_type": "code",
   "execution_count": 405,
   "metadata": {
    "ExecuteTime": {
     "end_time": "2022-05-15T20:19:37.428104Z",
     "start_time": "2022-05-15T20:19:37.389383Z"
    }
   },
   "outputs": [
    {
     "name": "stdout",
     "output_type": "stream",
     "text": [
      "Make a list of 5 names that sound spacy:\n",
      "\n",
      "1.Brine\n",
      "\n",
      "2. Clay\n",
      "\n",
      "3. Kaya\n"
     ]
    }
   ],
   "source": [
    "print(tmp.last_resolved + res[0][0])"
   ]
  },
  {
   "cell_type": "code",
   "execution_count": 407,
   "metadata": {
    "ExecuteTime": {
     "end_time": "2022-05-15T20:23:06.435395Z",
     "start_time": "2022-05-15T20:23:06.398410Z"
    }
   },
   "outputs": [
    {
     "name": "stdout",
     "output_type": "stream",
     "text": [
      "Make a list of 5 names that sound spacy:\n",
      "\n",
      "1. Ayn Rand\n",
      "\n",
      "2. JK Rowling\n",
      "\n",
      "3. Stephen\n"
     ]
    }
   ],
   "source": [
    "print(tmp.last_resolved + res[0][0])"
   ]
  },
  {
   "cell_type": "code",
   "execution_count": 408,
   "metadata": {
    "ExecuteTime": {
     "end_time": "2022-05-15T20:25:10.789093Z",
     "start_time": "2022-05-15T20:25:10.714322Z"
    }
   },
   "outputs": [
    {
     "data": {
      "text/plain": [
       "OrderedDict([('strip_output', True),\n",
       "             ('log', True),\n",
       "             ('optimize_cost', False),\n",
       "             ('subwords', True),\n",
       "             ('drop_fragment', False),\n",
       "             ('engine', 0),\n",
       "             ('temperature', 0.7),\n",
       "             ('top_p', 1.0),\n",
       "             ('frequency_penalty', 0.0),\n",
       "             ('presence_penalty', 0.0),\n",
       "             ('max_tokens', 50),\n",
       "             ('logprobs', None),\n",
       "             ('n', 1),\n",
       "             ('stream', False),\n",
       "             ('logit_bias', None)])"
      ]
     },
     "execution_count": 408,
     "metadata": {},
     "output_type": "execute_result"
    }
   ],
   "source": [
    "bound_args(GPT.query, [], {})"
   ]
  },
  {
   "cell_type": "code",
   "execution_count": 371,
   "metadata": {
    "ExecuteTime": {
     "end_time": "2022-05-15T20:16:18.435161Z",
     "start_time": "2022-05-15T20:16:18.381349Z"
    }
   },
   "outputs": [
    {
     "name": "stdout",
     "output_type": "stream",
     "text": [
      "\t1. wHAT DO YOU DO FOR A LIVING?\n",
      "\t\n",
      "\t2.\n"
     ]
    }
   ],
   "source": [
    "postprocessed = tmp.postprocess(res[0][0])\n",
    "print(postprocessed)"
   ]
  },
  {
   "cell_type": "code",
   "execution_count": 219,
   "metadata": {
    "ExecuteTime": {
     "end_time": "2022-05-15T01:05:37.950282Z",
     "start_time": "2022-05-15T01:05:37.903841Z"
    }
   },
   "outputs": [
    {
     "data": {
      "text/plain": [
       "True"
      ]
     },
     "execution_count": 219,
     "metadata": {},
     "output_type": "execute_result"
    }
   ],
   "source": [
    "tmp.validate(postprocessed)"
   ]
  },
  {
   "cell_type": "code",
   "execution_count": null,
   "metadata": {},
   "outputs": [],
   "source": []
  },
  {
   "cell_type": "code",
   "execution_count": null,
   "metadata": {},
   "outputs": [],
   "source": []
  },
  {
   "cell_type": "code",
   "execution_count": 37,
   "metadata": {
    "ExecuteTime": {
     "end_time": "2022-05-14T04:24:03.079355Z",
     "start_time": "2022-05-14T04:24:03.006264Z"
    }
   },
   "outputs": [
    {
     "name": "stdout",
     "output_type": "stream",
     "text": [
      "test_professional: This doesn't actually work very well but the settings are a good example of what is needed for my envisioned natural language tests.\n",
      "-------------------------------------------------------------------------------\n",
      "\n"
     ]
    },
    {
     "data": {
      "text/plain": [
       "{'engine': 1,\n",
       " 'temperature': 0.0,\n",
       " 'max_tokens': 1,\n",
       " 'presence_penalty': 2,\n",
       " 'frequency_penalty': 2,\n",
       " 'logprobs': 2,\n",
       " 'stop': ['\\n'],\n",
       " 'logit_bias': {3763: 100, 645: 100},\n",
       " 'validation': [{'name': 'tmp.is_yes_or_no', 'strip': True, 'lower': False},\n",
       "  {'name': 'requests.get'}],\n",
       " 'prompt': 'Does the following email maintain a professional tone? (Yes/No)\\n\\nEmail:\\n{} \\nAnswer:'}"
      ]
     },
     "execution_count": 37,
     "metadata": {},
     "output_type": "execute_result"
    }
   ],
   "source": [
    "config = load_prompt('test_professional')\n",
    "config"
   ]
  },
  {
   "cell_type": "code",
   "execution_count": null,
   "metadata": {},
   "outputs": [],
   "source": []
  },
  {
   "cell_type": "code",
   "execution_count": null,
   "metadata": {},
   "outputs": [],
   "source": []
  },
  {
   "cell_type": "code",
   "execution_count": null,
   "metadata": {},
   "outputs": [],
   "source": []
  },
  {
   "cell_type": "code",
   "execution_count": 45,
   "metadata": {
    "ExecuteTime": {
     "end_time": "2022-05-14T04:26:28.799021Z",
     "start_time": "2022-05-14T04:26:28.717973Z"
    }
   },
   "outputs": [],
   "source": [
    "template = '{age} is younger than {age+1}'"
   ]
  },
  {
   "cell_type": "code",
   "execution_count": 47,
   "metadata": {
    "ExecuteTime": {
     "end_time": "2022-05-14T04:26:38.376230Z",
     "start_time": "2022-05-14T04:26:38.324619Z"
    }
   },
   "outputs": [
    {
     "ename": "KeyError",
     "evalue": "'age+1'",
     "output_type": "error",
     "traceback": [
      "\u001b[0;31m---------------------------------------------------------------------------\u001b[0m",
      "\u001b[0;31mKeyError\u001b[0m                                  Traceback (most recent call last)",
      "\u001b[0;32m<ipython-input-47-a7f253ef1833>\u001b[0m in \u001b[0;36m<module>\u001b[0;34m\u001b[0m\n\u001b[0;32m----> 1\u001b[0;31m \u001b[0mtemplate\u001b[0m\u001b[0;34m.\u001b[0m\u001b[0mformat\u001b[0m\u001b[0;34m(\u001b[0m\u001b[0mage\u001b[0m\u001b[0;34m=\u001b[0m\u001b[0;36m9\u001b[0m\u001b[0;34m)\u001b[0m\u001b[0;34m\u001b[0m\u001b[0;34m\u001b[0m\u001b[0m\n\u001b[0m",
      "\u001b[0;31mKeyError\u001b[0m: 'age+1'"
     ]
    }
   ],
   "source": [
    "template.format(age=9)"
   ]
  }
 ],
 "metadata": {
  "kernelspec": {
   "display_name": "Python 3",
   "language": "python",
   "name": "python3"
  },
  "language_info": {
   "codemirror_mode": {
    "name": "ipython",
    "version": 3
   },
   "file_extension": ".py",
   "mimetype": "text/x-python",
   "name": "python",
   "nbconvert_exporter": "python",
   "pygments_lexer": "ipython3",
   "version": "3.7.3"
  }
 },
 "nbformat": 4,
 "nbformat_minor": 2
}
