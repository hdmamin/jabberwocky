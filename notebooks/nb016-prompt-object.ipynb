{
 "cells": [
  {
   "cell_type": "markdown",
   "metadata": {},
   "source": [
    "# Summary\n",
    "\n",
    "Experimenting with making a Prompt object. Goals:\n",
    "- simplify the call to resolve template + arg(s)\n",
    "- allow computed values? (e.g. accept arg x and then fill another field with x+3 or x.upper()}\n",
    "- maybe define postprocessing/completion validation steps?"
   ]
  },
  {
   "cell_type": "code",
   "execution_count": 1,
   "metadata": {
    "ExecuteTime": {
     "end_time": "2022-05-14T03:57:26.567855Z",
     "start_time": "2022-05-14T03:57:26.550149Z"
    }
   },
   "outputs": [
    {
     "name": "stdout",
     "output_type": "stream",
     "text": [
      "The autoreload extension is already loaded. To reload it, use:\n",
      "  %reload_ext autoreload\n"
     ]
    }
   ],
   "source": [
    "%load_ext autoreload\n",
    "%autoreload 2"
   ]
  },
  {
   "cell_type": "code",
   "execution_count": 228,
   "metadata": {
    "ExecuteTime": {
     "end_time": "2022-05-15T01:10:34.649000Z",
     "start_time": "2022-05-15T01:10:34.575600Z"
    }
   },
   "outputs": [],
   "source": [
    "from copy import deepcopy\n",
    "import importlib\n",
    "from inspect import Parameter, Signature\n",
    "import keyword\n",
    "import matplotlib.pyplot as plt\n",
    "import numpy as np\n",
    "import os\n",
    "import pandas as pd\n",
    "from pathlib import Path\n",
    "import string\n",
    "import warnings\n",
    "\n",
    "from jabberwocky.config import C\n",
    "from jabberwocky.openai_utils import load_prompt, load_openai_api_key, GPT\n",
    "from jabberwocky.utils import load_yaml\n",
    "from htools import *"
   ]
  },
  {
   "cell_type": "code",
   "execution_count": 4,
   "metadata": {
    "ExecuteTime": {
     "end_time": "2022-05-14T04:13:05.217447Z",
     "start_time": "2022-05-14T04:13:05.186586Z"
    }
   },
   "outputs": [
    {
     "name": "stdout",
     "output_type": "stream",
     "text": [
      "Current directory: /Users/hmamin/jabberwocky\n"
     ]
    }
   ],
   "source": [
    "cd_root()"
   ]
  },
  {
   "cell_type": "code",
   "execution_count": 84,
   "metadata": {
    "ExecuteTime": {
     "end_time": "2022-05-14T05:00:12.822683Z",
     "start_time": "2022-05-14T05:00:12.788603Z"
    }
   },
   "outputs": [],
   "source": [
    "def import_function(qualname):\n",
    "    module_name, _, func_name = qualname.rpartition('.')\n",
    "    module = importlib.import_module(module_name)\n",
    "    return getattr(module, func_name)"
   ]
  },
  {
   "cell_type": "markdown",
   "metadata": {},
   "source": [
    "WIP: prompt class that lets us specify postprocessing and validation steps in our prompt.yaml. Issues:\n",
    "\n",
    "- using this to create multiple queries (i.e. equivalent to passing a list of strings to GPT.query which will then be passed to `_query_batch`) was a little clunky. Still figuring the best way to handle this.\n",
    "- right now, resolving a prompt (passing in fields to fill in the template) always appends to self.cache, which GPT.query would then use to retrieve the fully resolved prompts. But it's not clear when we should clear the cache, when we should add to it (currently always, but what if we just want to test out a resolution for debugging or sanity checks?), etc.\n",
    "- Should strip_output option still be in gpt.query? Or should that be specified in prompt.yaml when we want it?\n",
    "\n",
    "TLDR: I think in the interest of wrapping up the alexa portion of the project in a timely manner, I should put this on hold. There's no immediate need for it and rewriting my openai wrapper library is honestly a whole project in itself (admittedly, one I've already done a lot on - all that gpt.query refactoring falls into that category IMO)."
   ]
  },
  {
   "cell_type": "code",
   "execution_count": 514,
   "metadata": {
    "ExecuteTime": {
     "end_time": "2022-05-15T21:40:16.483945Z",
     "start_time": "2022-05-15T21:40:16.003404Z"
    },
    "run_control": {
     "marked": false
    }
   },
   "outputs": [
    {
     "name": "stdout",
     "output_type": "stream",
     "text": [
      "Object loaded from /Users/hmamin/jabberwocky/data/misc/sample_response.pkl.\n",
      "Object loaded from /Users/hmamin/jabberwocky/data/misc/sample_stream_response.pkl.\n",
      "Object loaded from /Users/hmamin/jabberwocky/data/misc/gooseai_sample_responses.pkl.\n"
     ]
    }
   ],
   "source": [
    "class Prompt:\n",
    "    \"\"\"\n",
    "    WIP. Was still figuring out how to incorporate this into GPT.query. This\n",
    "    was what I had for a start but it would need more tweaking.\n",
    "    \n",
    "    ```\n",
    "    if isinstance(prompt, Prompt):\n",
    "        kwargs = prompt.kwargs(**kwargs)\n",
    "        kwargs['prompt'] = prompt.get_cache()\n",
    "    else:\n",
    "        kwargs['prompt'] = prompt\n",
    "    if listlike(kwargs['prompt']) and len(kwargs['prompt']) == 1:\n",
    "        kwargs['prompt'] = kwargs['prompt'][0]\n",
    "    ```\n",
    "    \"\"\"\n",
    "    \n",
    "    def __init__(self, template, name='', **kwargs):\n",
    "        self.name = name\n",
    "        self.defaults = kwargs.pop('defaults', {})\n",
    "        if not isinstance(self.defaults, dict):\n",
    "            raise TypeError('`defaults` must be a dict. If your prompt only '\n",
    "                            'has one arg, name it \"prompt\".')\n",
    "            \n",
    "        self.postprocessors = kwargs.pop('postprocessors', [])\n",
    "        self.validators = kwargs.pop('validators', [])\n",
    "        self._kwargs = kwargs\n",
    "        self.template, self.fields = self.parse_fields(template)\n",
    "        self.signature = self.make_signature(self.fields, self.defaults)\n",
    "        self.n_fields = len(self.fields)\n",
    "        \n",
    "        # TODO testing\n",
    "        self.cache = []\n",
    "            \n",
    "    def make_signature(self, fields, defaults):\n",
    "        if set(defaults) - set(fields):\n",
    "            raise ValueError(f'You provided defaults for fields that do not '\n",
    "                             f'exist. Defaults={defaults}, fields={fields}.')\n",
    "        if len(fields) == 1:\n",
    "            kind = Parameter.POSITIONAL_OR_KEYWORD\n",
    "        else:\n",
    "            kind = Parameter.KEYWORD_ONLY\n",
    "        parameters = [Parameter(name=field, kind=kind,\n",
    "                                default=defaults.get(field, Parameter.empty))\n",
    "                      for field in fields]\n",
    "        return Signature(parameters)\n",
    "    \n",
    "    def _resolve_fields(self, *args, **kwargs):\n",
    "        \"\"\"Combine user-specified args/kwargs with default field values and\n",
    "        return dict of resolved key-value pairs.\n",
    "        \"\"\"\n",
    "        error_base = f'Prompt {self.name} has {self.n_fields} fields: ' \\\n",
    "            f'{self.fields}.'\n",
    "        if args and self.n_fields > 1:\n",
    "            raise RuntimeError(\n",
    "                'You must use keyword arguments when n_fields > 1 but you '\n",
    "                f'specified 1 or more positional args: {args}. ' + error_base\n",
    "            )\n",
    "        try:\n",
    "            sig = self.signature.bind(*args, **kwargs)\n",
    "        except TypeError as e:\n",
    "            raise RuntimeError(\n",
    "                'You provided 1 or more unexpected kwargs: '\n",
    "                f'{set(kwargs) - self.fields}. {error_base}'\n",
    "            ) from e\n",
    "\n",
    "        sig.apply_defaults()\n",
    "        return sig.arguments\n",
    "            \n",
    "    def postprocess(self, text):\n",
    "        for func in self.postprocessors:\n",
    "            text = func(text)\n",
    "        return text\n",
    "    \n",
    "    def validate(self, text):\n",
    "        return all(func(text) for func in self.validators)\n",
    "            \n",
    "    @classmethod\n",
    "    def load(cls, name, prompt_dir=C.root/'data/prompts', **kwargs):\n",
    "        config = load_prompt(name, prompt_dir=prompt_dir, **kwargs)\n",
    "        template = config.pop('prompt')\n",
    "        config['validators'] = cls.functions_from_config(config, \n",
    "                                                         'validators')\n",
    "        config['postprocessors'] = cls.functions_from_config(\n",
    "            config, 'postprocessors'\n",
    "        )\n",
    "        return cls(template, name=name, **config)\n",
    "\n",
    "    @staticmethod\n",
    "    def functions_from_config(config, key):\n",
    "        return [partial(import_function(row.pop('name')), **row) \n",
    "                for row in config.get(key, [])]\n",
    "    \n",
    "    def parse_fields(self, template):\n",
    "        parser = string.Formatter()\n",
    "        fields = [x[1] for x in parser.parse(template) if x[1] is not None]\n",
    "        unique_fields = set(fields)\n",
    "        default = 'prompt'\n",
    "        if '' in fields:\n",
    "            if len(unique_fields) > 1:\n",
    "                raise RuntimeError(\n",
    "                    'Found unnamed arg in prompt template. This is only '\n",
    "                    'valid when a prompt expects <=1 unique fields but yours '\n",
    "                    f'expects {len(unique_fields)}.'\n",
    "                )\n",
    "            template = template.replace('{}', '{' + default + '}')\n",
    "            unique_fields.discard('')\n",
    "            unique_fields.add(default)\n",
    "        if len(fields) > 1 and all(field == default \n",
    "                                   for field in unique_fields):\n",
    "            warnings.warn('Found multiple fields to fill but all have the '\n",
    "                          'same name. Are you sure that\\'s intentional?')\n",
    "        return template, unique_fields\n",
    "    \n",
    "    def kwargs(self, extra_kwargs=None, \n",
    "#                return_prompt=False, # TODO\n",
    "               **kwargs):\n",
    "        base_kwargs = {**self._kwargs, **kwargs}\n",
    "        for k, v in (extra_kwargs or {}).items():\n",
    "            try:\n",
    "                base_val = deepcopy(base_kwargs[k])\n",
    "            except KeyError as e:\n",
    "                raise KeyError(f'Extra kwarg {k} not present in default '\n",
    "                               'kwargs.')\n",
    "            \n",
    "            if isinstance(base_val, Iterable):\n",
    "                assert listlike(v), f'Extra kwargs for {k} should be ' \\\n",
    "                    f'list-like, not {type(v)}.'\n",
    "                base_val = list(base_val)\n",
    "                base_val.extend(v)\n",
    "            elif isinstance(base_val, Mapping):\n",
    "                assert isinstance(v, Mapping), f'Extra kwargs for {k} should'\\\n",
    "                    f' be dict-like, not {type(v)}.'\n",
    "                base_val.update(v)\n",
    "            else:\n",
    "                raise TypeError(\n",
    "                    'Extra_kwargs are only available for args that are lists '\n",
    "                    f'or dicts, but you tried to use them with `{k}` which '\n",
    "                    f'has type {type(base_val)}'\n",
    "                )\n",
    "            base_kwargs[k] = base_val\n",
    "            \n",
    "        # TODO\n",
    "#         if return_prompt:\n",
    "#             assert self.ever_resolved, \\\n",
    "#                 'Return_prompt=True is only valid if you\\'ve previously ' \\\n",
    "#                 'resolved your prompt, i.e. prompt.resolve().'\n",
    "#             base_kwargs['prompt'] = self.fully_resolved\n",
    "        return base_kwargs\n",
    "\n",
    "    def resolve_template(self, *args, **kwargs):\n",
    "        \"\"\"Fill template fields with user-specified args/kwargs and return \n",
    "        string containing fully resolved template.\n",
    "        \"\"\"\n",
    "        resolved_fields = self._resolve_fields(*args, **kwargs)\n",
    "        resolved = self.template.format(**resolved_fields)\n",
    "        self.cache.append(resolved)\n",
    "        return resolved\n",
    "    \n",
    "    def resolve_templates(self, rows=(None,)):\n",
    "        for row in rows:\n",
    "            if listlike(row):\n",
    "                raise TypeError('Each row must be a dict or primitive.')\n",
    "            if isinstance(row, Mapping):\n",
    "                _ = self.resolve_template(**row)\n",
    "            else:\n",
    "                _ = self.resolve_template(row)\n",
    "        return list(self.cache)\n",
    "    \n",
    "    def resolve(self, *args, **kwargs):\n",
    "        \"\"\"Resolve template and return the prompt instance itself. This\n",
    "        retains access to query kwargs, postprocessors, and validators.\n",
    "        \n",
    "        For a sample prompt with one field (\"name\"), you can create a single\n",
    "        resolution like this:\n",
    "        prompt.resolve(\"casey\")\n",
    "        prompt.resolve(name=\"casey\")\n",
    "        \n",
    "        Or multiple resolutions like this:\n",
    "        prompt.resolve([\"casey\", \"jamie\"])\n",
    "        prompt.resolve([{\"name\": \"casey\"}, {\"name\": \"jamie\"}])\n",
    "        \n",
    "        \n",
    "        For a sample prompt with two fields (\"name\" and \"age\"), you can create\n",
    "        a single resolution like this:\n",
    "        prompt.resolve(name=\"casey\", age=40)\n",
    "        \n",
    "        Or multiple resolutions like this:\n",
    "        prompt.resolve([{\"name\": \"casey\", \"age\": 40}, \n",
    "                        {\"name\": \"jamie\", \"age\": 10}])\n",
    "        \"\"\"\n",
    "        # TODO: what if user wants to cache a query 1 at a time but not use\n",
    "        # immediately, sort of like in conv manager's query_later? Might want\n",
    "        # clearing to be optional.\n",
    "        self.cache.clear()\n",
    "        if listlike(args[0]):\n",
    "            self.resolve_templates(args[0])\n",
    "        else:\n",
    "            self.resolve_template(*args, **kwargs)\n",
    "        return self\n",
    "        \n",
    "    def get_cache(self):\n",
    "        res = list(self.cache)\n",
    "        self.cache.clear()\n",
    "        return res\n",
    "    \n",
    "    def __repr__(self):\n",
    "        return f'{type(self).__name__}(\\n\\tname={repr(self.name)},'\\\n",
    "               f'\\n\\tprompt={repr(self.template)},'\\\n",
    "               f'\\n\\tdefaults={self.defaults},'\\\n",
    "               f'\\n\\t_kwargs={repr(self._kwargs)}\\n)'\n",
    "\n",
    "    def __str__(self):\n",
    "        return str(self.template)\n",
    "    \n",
    "    def __getattr__(self, key):\n",
    "        return self._kwargs[key]"
   ]
  },
  {
   "cell_type": "code",
   "execution_count": 503,
   "metadata": {
    "ExecuteTime": {
     "end_time": "2022-05-15T21:21:28.160784Z",
     "start_time": "2022-05-15T21:21:28.108696Z"
    }
   },
   "outputs": [
    {
     "name": "stderr",
     "output_type": "stream",
     "text": [
      "/Users/hmamin/anaconda3/lib/python3.7/site-packages/ipykernel_launcher.py:102: UserWarning: Found multiple fields to fill but all have the same name. Are you sure that's intentional?\n"
     ]
    },
    {
     "data": {
      "text/plain": [
       "Prompt(\n",
       "\tname='',\n",
       "\tprompt='Who are {prompt}? {prompt}',\n",
       "\tdefaults={},\n",
       "\t_kwargs={}\n",
       ")"
      ]
     },
     "execution_count": 503,
     "metadata": {},
     "output_type": "execute_result"
    }
   ],
   "source": [
    "Prompt('Who are {}? {}')"
   ]
  },
  {
   "cell_type": "code",
   "execution_count": 504,
   "metadata": {
    "ExecuteTime": {
     "end_time": "2022-05-15T21:21:28.355843Z",
     "start_time": "2022-05-15T21:21:28.315692Z"
    }
   },
   "outputs": [
    {
     "data": {
      "text/plain": [
       "Prompt(\n",
       "\tname='',\n",
       "\tprompt='Who are {prompt}?',\n",
       "\tdefaults={},\n",
       "\t_kwargs={}\n",
       ")"
      ]
     },
     "execution_count": 504,
     "metadata": {},
     "output_type": "execute_result"
    }
   ],
   "source": [
    "Prompt('Who are {}?')"
   ]
  },
  {
   "cell_type": "code",
   "execution_count": 505,
   "metadata": {
    "ExecuteTime": {
     "end_time": "2022-05-15T21:21:28.886128Z",
     "start_time": "2022-05-15T21:21:28.815413Z"
    }
   },
   "outputs": [
    {
     "name": "stdout",
     "output_type": "stream",
     "text": [
      "As expected, got Exception(You provided defaults for fields that do not exist. Defaults={'fake': 3}, fields={'prompt'}.).\n"
     ]
    }
   ],
   "source": [
    "with assert_raises(Exception):\n",
    "    Prompt('Who are {}?', defaults={'fake': 3})"
   ]
  },
  {
   "cell_type": "code",
   "execution_count": 506,
   "metadata": {
    "ExecuteTime": {
     "end_time": "2022-05-15T21:21:29.312894Z",
     "start_time": "2022-05-15T21:21:29.257461Z"
    }
   },
   "outputs": [
    {
     "name": "stdout",
     "output_type": "stream",
     "text": [
      "As expected, got Exception(Found unnamed arg in prompt template. This is only valid when a prompt expects <=1 unique fields but yours expects 2.).\n"
     ]
    }
   ],
   "source": [
    "with assert_raises(Exception):\n",
    "    Prompt('Who are {}? {name}')"
   ]
  },
  {
   "cell_type": "code",
   "execution_count": 507,
   "metadata": {
    "ExecuteTime": {
     "end_time": "2022-05-15T21:21:29.657475Z",
     "start_time": "2022-05-15T21:21:29.612496Z"
    }
   },
   "outputs": [
    {
     "name": "stdout",
     "output_type": "stream",
     "text": [
      "tmp: Max_tokens probably should change as a result of the prompt args but this is just for testing purposes. Should probably delete eventually.\n",
      "-------------------------------------------------------------------------------\n",
      "\n"
     ]
    },
    {
     "data": {
      "text/plain": [
       "Prompt(\n",
       "\tname='tmp',\n",
       "\tprompt='Make a list of {n} names that sound {quality}:\\n\\n1.',\n",
       "\tdefaults={'n': 3, 'quality': 'old'},\n",
       "\t_kwargs={'engine': 0, 'max_tokens': 15, 'stop': ['1.', '\\n1.', '\\n1. ']}\n",
       ")"
      ]
     },
     "execution_count": 507,
     "metadata": {},
     "output_type": "execute_result"
    }
   ],
   "source": [
    "tmp = Prompt.load('tmp')\n",
    "tmp"
   ]
  },
  {
   "cell_type": "code",
   "execution_count": 508,
   "metadata": {
    "ExecuteTime": {
     "end_time": "2022-05-15T21:21:30.098751Z",
     "start_time": "2022-05-15T21:21:30.062698Z"
    }
   },
   "outputs": [
    {
     "data": {
      "text/plain": [
       "['Make a list of 4 names that sound old:\\n\\n1.',\n",
       " 'Make a list of 9 names that sound zany:\\n\\n1.']"
      ]
     },
     "execution_count": 508,
     "metadata": {},
     "output_type": "execute_result"
    }
   ],
   "source": [
    "tmp.resolve_templates([{'n': 4}, {'n': 9, 'quality': 'zany'}])"
   ]
  },
  {
   "cell_type": "code",
   "execution_count": 509,
   "metadata": {
    "ExecuteTime": {
     "end_time": "2022-05-15T21:21:30.737740Z",
     "start_time": "2022-05-15T21:21:30.700083Z"
    }
   },
   "outputs": [
    {
     "data": {
      "text/plain": [
       "{'engine': 0, 'max_tokens': 15, 'stop': ['1.', '\\n1.', '\\n1. ']}"
      ]
     },
     "execution_count": 509,
     "metadata": {},
     "output_type": "execute_result"
    }
   ],
   "source": [
    "tmp.kwargs()"
   ]
  },
  {
   "cell_type": "code",
   "execution_count": 510,
   "metadata": {
    "ExecuteTime": {
     "end_time": "2022-05-15T21:21:30.889874Z",
     "start_time": "2022-05-15T21:21:30.851342Z"
    }
   },
   "outputs": [
    {
     "data": {
      "text/plain": [
       "{'engine': 0, 'max_tokens': 15, 'stop': ['3', '4']}"
      ]
     },
     "execution_count": 510,
     "metadata": {},
     "output_type": "execute_result"
    }
   ],
   "source": [
    "tmp.kwargs(stop=['3', '4'])"
   ]
  },
  {
   "cell_type": "code",
   "execution_count": 511,
   "metadata": {
    "ExecuteTime": {
     "end_time": "2022-05-15T21:21:31.655285Z",
     "start_time": "2022-05-15T21:21:31.619296Z"
    }
   },
   "outputs": [
    {
     "data": {
      "text/plain": [
       "{'engine': 0, 'max_tokens': 15, 'stop': ['1.', '\\n1.', '\\n1. ', '\\n\\n\\n333']}"
      ]
     },
     "execution_count": 511,
     "metadata": {},
     "output_type": "execute_result"
    }
   ],
   "source": [
    "tmp.kwargs(extra_kwargs={'stop': ['\\n\\n\\n333']})"
   ]
  },
  {
   "cell_type": "code",
   "execution_count": 472,
   "metadata": {
    "ExecuteTime": {
     "end_time": "2022-05-15T20:55:51.870343Z",
     "start_time": "2022-05-15T20:55:51.815746Z"
    }
   },
   "outputs": [
    {
     "name": "stdout",
     "output_type": "stream",
     "text": [
      "As expected, got Exception(Return_prompt=True is only valid if you've previously resolved your prompt, i.e. prompt.resolve().).\n"
     ]
    }
   ],
   "source": [
    "with assert_raises(Exception):\n",
    "    tmp.kwargs(extra_kwargs={'stop': ['\\n\\n\\n333']}, return_prompt=True)"
   ]
  },
  {
   "cell_type": "code",
   "execution_count": 473,
   "metadata": {
    "ExecuteTime": {
     "end_time": "2022-05-15T20:55:53.563598Z",
     "start_time": "2022-05-15T20:55:53.522118Z"
    }
   },
   "outputs": [
    {
     "name": "stdout",
     "output_type": "stream",
     "text": [
      "As expected, got Exception(Extra kwargs for stop should be list-like, not <class 'dict'>.).\n"
     ]
    }
   ],
   "source": [
    "with assert_raises(Exception):\n",
    "    tmp.kwargs(extra_kwargs={'stop': {'wrong_type': '\\n\\n\\n333'}})"
   ]
  },
  {
   "cell_type": "code",
   "execution_count": 474,
   "metadata": {
    "ExecuteTime": {
     "end_time": "2022-05-15T20:55:53.823605Z",
     "start_time": "2022-05-15T20:55:53.789059Z"
    }
   },
   "outputs": [
    {
     "name": "stdout",
     "output_type": "stream",
     "text": [
      "As expected, got KeyError('Extra kwarg logprobs not present in default kwargs.').\n"
     ]
    }
   ],
   "source": [
    "with assert_raises(KeyError):\n",
    "    tmp.kwargs(temperature=.99, extra_kwargs={'logprobs': True})"
   ]
  },
  {
   "cell_type": "code",
   "execution_count": 475,
   "metadata": {
    "ExecuteTime": {
     "end_time": "2022-05-15T20:55:54.483854Z",
     "start_time": "2022-05-15T20:55:54.446037Z"
    }
   },
   "outputs": [
    {
     "data": {
      "text/plain": [
       "{'engine': 0,\n",
       " 'max_tokens': 15,\n",
       " 'stop': ['1.', '\\n1.', '\\n1. '],\n",
       " 'temperature': 0.99,\n",
       " 'logit_bias': {200: 1}}"
      ]
     },
     "execution_count": 475,
     "metadata": {},
     "output_type": "execute_result"
    }
   ],
   "source": [
    "tmp.kwargs(temperature=.99, logit_bias={200: 1})"
   ]
  },
  {
   "cell_type": "code",
   "execution_count": 476,
   "metadata": {
    "ExecuteTime": {
     "end_time": "2022-05-15T20:55:55.021323Z",
     "start_time": "2022-05-15T20:55:54.986738Z"
    }
   },
   "outputs": [
    {
     "data": {
      "text/plain": [
       "{'engine': 0,\n",
       " 'max_tokens': 15,\n",
       " 'stop': ['1.', '\\n1.', '\\n1. '],\n",
       " 'temperature': 0.3}"
      ]
     },
     "execution_count": 476,
     "metadata": {},
     "output_type": "execute_result"
    }
   ],
   "source": [
    "tmp.kwargs(temperature=.3)"
   ]
  },
  {
   "cell_type": "code",
   "execution_count": 477,
   "metadata": {
    "ExecuteTime": {
     "end_time": "2022-05-15T20:55:56.153824Z",
     "start_time": "2022-05-15T20:55:56.096882Z"
    }
   },
   "outputs": [
    {
     "name": "stdout",
     "output_type": "stream",
     "text": [
      "As expected, got RuntimeError(You must use keyword arguments when n_fields > 1 but you specified 1 or more positional args: (4,). Prompt tmp has 2 fields: {'quality', 'n'}.).\n"
     ]
    }
   ],
   "source": [
    "with assert_raises(RuntimeError):\n",
    "    tmp.resolve(4)"
   ]
  },
  {
   "cell_type": "code",
   "execution_count": 478,
   "metadata": {
    "ExecuteTime": {
     "end_time": "2022-05-15T20:55:56.325254Z",
     "start_time": "2022-05-15T20:55:56.271463Z"
    }
   },
   "outputs": [
    {
     "name": "stdout",
     "output_type": "stream",
     "text": [
      "As expected, got RuntimeError(You provided 1 or more unexpected kwargs: {'z'}. Prompt tmp has 2 fields: {'quality', 'n'}.).\n"
     ]
    }
   ],
   "source": [
    "with assert_raises(RuntimeError):\n",
    "    tmp.resolve(z=4)"
   ]
  },
  {
   "cell_type": "code",
   "execution_count": 480,
   "metadata": {
    "ExecuteTime": {
     "end_time": "2022-05-15T20:56:06.410041Z",
     "start_time": "2022-05-15T20:56:06.371101Z"
    }
   },
   "outputs": [
    {
     "data": {
      "text/plain": [
       "{'engine': 0, 'max_tokens': 15, 'stop': ['1.', '\\n1.', '\\n1. ']}"
      ]
     },
     "execution_count": 480,
     "metadata": {},
     "output_type": "execute_result"
    }
   ],
   "source": [
    "tmp.kwargs()"
   ]
  },
  {
   "cell_type": "code",
   "execution_count": 481,
   "metadata": {
    "ExecuteTime": {
     "end_time": "2022-05-15T20:56:06.606032Z",
     "start_time": "2022-05-15T20:56:06.572843Z"
    }
   },
   "outputs": [
    {
     "data": {
      "text/plain": [
       "Prompt(\n",
       "\tname='tmp',\n",
       "\tprompt='Make a list of {n} names that sound {quality}:\\n\\n1.',\n",
       "\tdefaults={'n': 3, 'quality': 'old'},\n",
       "\t_kwargs={'engine': 0, 'max_tokens': 15, 'stop': ['1.', '\\n1.', '\\n1. ']}\n",
       ")"
      ]
     },
     "execution_count": 481,
     "metadata": {},
     "output_type": "execute_result"
    }
   ],
   "source": [
    "tmp.resolve()"
   ]
  },
  {
   "cell_type": "code",
   "execution_count": 482,
   "metadata": {
    "ExecuteTime": {
     "end_time": "2022-05-15T20:56:15.018203Z",
     "start_time": "2022-05-15T20:56:14.953600Z"
    }
   },
   "outputs": [
    {
     "data": {
      "text/plain": [
       "{'engine': 0,\n",
       " 'max_tokens': 15,\n",
       " 'stop': ['1.', '\\n1.', '\\n1. '],\n",
       " 'prompt': 'Make a list of 3 names that sound old:\\n\\n1.'}"
      ]
     },
     "execution_count": 482,
     "metadata": {},
     "output_type": "execute_result"
    }
   ],
   "source": [
    "tmp.kwargs(return_prompt=True)"
   ]
  },
  {
   "cell_type": "code",
   "execution_count": 455,
   "metadata": {
    "ExecuteTime": {
     "end_time": "2022-05-15T20:47:33.610167Z",
     "start_time": "2022-05-15T20:47:33.571141Z"
    }
   },
   "outputs": [
    {
     "data": {
      "text/plain": [
       "Prompt(\n",
       "\tname='tmp',\n",
       "\tprompt='Make a list of {n} names that sound {quality}:\\n\\n1.',\n",
       "\tdefaults={'n': 3, 'quality': 'old'},\n",
       "\t_kwargs={'engine': 0, 'max_tokens': 15, 'stop': ['1.', '\\n1.', '\\n1. ']}\n",
       ")"
      ]
     },
     "execution_count": 455,
     "metadata": {},
     "output_type": "execute_result"
    }
   ],
   "source": [
    "tmp.resolve(n=9)"
   ]
  },
  {
   "cell_type": "code",
   "execution_count": 457,
   "metadata": {
    "ExecuteTime": {
     "end_time": "2022-05-15T20:47:42.740995Z",
     "start_time": "2022-05-15T20:47:42.703239Z"
    }
   },
   "outputs": [
    {
     "data": {
      "text/plain": [
       "Prompt(\n",
       "\tname='tmp',\n",
       "\tprompt='Make a list of {n} names that sound {quality}:\\n\\n1.',\n",
       "\tdefaults={'n': 3, 'quality': 'old'},\n",
       "\t_kwargs={'engine': 0, 'max_tokens': 15, 'stop': ['1.', '\\n1.', '\\n1. ']}\n",
       ")"
      ]
     },
     "execution_count": 457,
     "metadata": {},
     "output_type": "execute_result"
    }
   ],
   "source": [
    "tmp.resolve(quality='happy')"
   ]
  },
  {
   "cell_type": "code",
   "execution_count": 458,
   "metadata": {
    "ExecuteTime": {
     "end_time": "2022-05-15T20:47:44.162340Z",
     "start_time": "2022-05-15T20:47:44.099486Z"
    }
   },
   "outputs": [
    {
     "data": {
      "text/plain": [
       "Prompt(\n",
       "\tname='tmp',\n",
       "\tprompt='Make a list of {n} names that sound {quality}:\\n\\n1.',\n",
       "\tdefaults={'n': 3, 'quality': 'old'},\n",
       "\t_kwargs={'engine': 0, 'max_tokens': 15, 'stop': ['1.', '\\n1.', '\\n1. ']}\n",
       ")"
      ]
     },
     "execution_count": 458,
     "metadata": {},
     "output_type": "execute_result"
    }
   ],
   "source": [
    "tmp.resolve(n=2, quality='happy')"
   ]
  },
  {
   "cell_type": "code",
   "execution_count": 396,
   "metadata": {
    "ExecuteTime": {
     "end_time": "2022-05-15T20:18:43.000413Z",
     "start_time": "2022-05-15T20:18:42.957560Z"
    }
   },
   "outputs": [
    {
     "name": "stdout",
     "output_type": "stream",
     "text": [
      "As expected, got Exception(You provided 1 or more unexpected kwargs: {'dense'}. Prompt tmp has 2 fields: {'quality', 'n'}.).\n"
     ]
    }
   ],
   "source": [
    "with assert_raises(Exception):\n",
    "    tmp.resolve(n=2, quality='happy', dense=True)"
   ]
  },
  {
   "cell_type": "code",
   "execution_count": 479,
   "metadata": {
    "ExecuteTime": {
     "end_time": "2022-05-15T20:55:59.349305Z",
     "start_time": "2022-05-15T20:55:59.293587Z"
    }
   },
   "outputs": [
    {
     "data": {
      "text/plain": [
       "[functools.partial(<function reattach_1 at 0x12f191bf8>),\n",
       " functools.partial(<function indent at 0x12f191ea0>, broken=False),\n",
       " functools.partial(<function swapcase at 0x12f191c80>)]"
      ]
     },
     "execution_count": 479,
     "metadata": {},
     "output_type": "execute_result"
    }
   ],
   "source": [
    "tmp.postprocessors"
   ]
  },
  {
   "cell_type": "code",
   "execution_count": 452,
   "metadata": {
    "ExecuteTime": {
     "end_time": "2022-05-15T20:47:26.970642Z",
     "start_time": "2022-05-15T20:47:26.930858Z"
    }
   },
   "outputs": [
    {
     "data": {
      "text/plain": [
       "[functools.partial(<function test_indented at 0x12f191048>, mode='all')]"
      ]
     },
     "execution_count": 452,
     "metadata": {},
     "output_type": "execute_result"
    }
   ],
   "source": [
    "tmp.validators"
   ]
  },
  {
   "cell_type": "code",
   "execution_count": 406,
   "metadata": {
    "ExecuteTime": {
     "end_time": "2022-05-15T20:23:05.343946Z",
     "start_time": "2022-05-15T20:23:03.448710Z"
    }
   },
   "outputs": [
    {
     "name": "stdout",
     "output_type": "stream",
     "text": [
      "Switching openai backend to \"banana\".\n",
      "{'engine': 0, 'max_tokens': 15, 'stop': ['1.', '\\n1.', '\\n1. '], 'prompt': 'Make a list of 5 names that sound spacy:\\n\\n1.', 'meta': {'backend_name': 'banana', 'query_func': 'query_gpt_banana', 'datetime': 'Sun May 15 13:23:03 2022'}}\n",
      "Switching  backend back to \"openai\".\n"
     ]
    }
   ],
   "source": [
    "with GPT('banana'):\n",
    "    res = GPT.query(tmp.resolve(n=5, quality='spacy'), \n",
    "                    **tmp.kwargs(), \n",
    "                    strip_output=False)"
   ]
  },
  {
   "cell_type": "code",
   "execution_count": 405,
   "metadata": {
    "ExecuteTime": {
     "end_time": "2022-05-15T20:19:37.428104Z",
     "start_time": "2022-05-15T20:19:37.389383Z"
    }
   },
   "outputs": [
    {
     "name": "stdout",
     "output_type": "stream",
     "text": [
      "Make a list of 5 names that sound spacy:\n",
      "\n",
      "1.Brine\n",
      "\n",
      "2. Clay\n",
      "\n",
      "3. Kaya\n"
     ]
    }
   ],
   "source": [
    "print(tmp.last_resolved + res[0][0])"
   ]
  },
  {
   "cell_type": "code",
   "execution_count": 407,
   "metadata": {
    "ExecuteTime": {
     "end_time": "2022-05-15T20:23:06.435395Z",
     "start_time": "2022-05-15T20:23:06.398410Z"
    }
   },
   "outputs": [
    {
     "name": "stdout",
     "output_type": "stream",
     "text": [
      "Make a list of 5 names that sound spacy:\n",
      "\n",
      "1. Ayn Rand\n",
      "\n",
      "2. JK Rowling\n",
      "\n",
      "3. Stephen\n"
     ]
    }
   ],
   "source": [
    "print(tmp.last_resolved + res[0][0])"
   ]
  },
  {
   "cell_type": "code",
   "execution_count": 408,
   "metadata": {
    "ExecuteTime": {
     "end_time": "2022-05-15T20:25:10.789093Z",
     "start_time": "2022-05-15T20:25:10.714322Z"
    }
   },
   "outputs": [
    {
     "data": {
      "text/plain": [
       "OrderedDict([('strip_output', True),\n",
       "             ('log', True),\n",
       "             ('optimize_cost', False),\n",
       "             ('subwords', True),\n",
       "             ('drop_fragment', False),\n",
       "             ('engine', 0),\n",
       "             ('temperature', 0.7),\n",
       "             ('top_p', 1.0),\n",
       "             ('frequency_penalty', 0.0),\n",
       "             ('presence_penalty', 0.0),\n",
       "             ('max_tokens', 50),\n",
       "             ('logprobs', None),\n",
       "             ('n', 1),\n",
       "             ('stream', False),\n",
       "             ('logit_bias', None)])"
      ]
     },
     "execution_count": 408,
     "metadata": {},
     "output_type": "execute_result"
    }
   ],
   "source": [
    "bound_args(GPT.query, [], {})"
   ]
  },
  {
   "cell_type": "code",
   "execution_count": 371,
   "metadata": {
    "ExecuteTime": {
     "end_time": "2022-05-15T20:16:18.435161Z",
     "start_time": "2022-05-15T20:16:18.381349Z"
    }
   },
   "outputs": [
    {
     "name": "stdout",
     "output_type": "stream",
     "text": [
      "\t1. wHAT DO YOU DO FOR A LIVING?\n",
      "\t\n",
      "\t2.\n"
     ]
    }
   ],
   "source": [
    "postprocessed = tmp.postprocess(res[0][0])\n",
    "print(postprocessed)"
   ]
  },
  {
   "cell_type": "code",
   "execution_count": 219,
   "metadata": {
    "ExecuteTime": {
     "end_time": "2022-05-15T01:05:37.950282Z",
     "start_time": "2022-05-15T01:05:37.903841Z"
    }
   },
   "outputs": [
    {
     "data": {
      "text/plain": [
       "True"
      ]
     },
     "execution_count": 219,
     "metadata": {},
     "output_type": "execute_result"
    }
   ],
   "source": [
    "tmp.validate(postprocessed)"
   ]
  },
  {
   "cell_type": "code",
   "execution_count": null,
   "metadata": {},
   "outputs": [],
   "source": []
  },
  {
   "cell_type": "code",
   "execution_count": null,
   "metadata": {},
   "outputs": [],
   "source": []
  },
  {
   "cell_type": "code",
   "execution_count": 37,
   "metadata": {
    "ExecuteTime": {
     "end_time": "2022-05-14T04:24:03.079355Z",
     "start_time": "2022-05-14T04:24:03.006264Z"
    }
   },
   "outputs": [
    {
     "name": "stdout",
     "output_type": "stream",
     "text": [
      "test_professional: This doesn't actually work very well but the settings are a good example of what is needed for my envisioned natural language tests.\n",
      "-------------------------------------------------------------------------------\n",
      "\n"
     ]
    },
    {
     "data": {
      "text/plain": [
       "{'engine': 1,\n",
       " 'temperature': 0.0,\n",
       " 'max_tokens': 1,\n",
       " 'presence_penalty': 2,\n",
       " 'frequency_penalty': 2,\n",
       " 'logprobs': 2,\n",
       " 'stop': ['\\n'],\n",
       " 'logit_bias': {3763: 100, 645: 100},\n",
       " 'validation': [{'name': 'tmp.is_yes_or_no', 'strip': True, 'lower': False},\n",
       "  {'name': 'requests.get'}],\n",
       " 'prompt': 'Does the following email maintain a professional tone? (Yes/No)\\n\\nEmail:\\n{} \\nAnswer:'}"
      ]
     },
     "execution_count": 37,
     "metadata": {},
     "output_type": "execute_result"
    }
   ],
   "source": [
    "config = load_prompt('test_professional')\n",
    "config"
   ]
  },
  {
   "cell_type": "code",
   "execution_count": null,
   "metadata": {},
   "outputs": [],
   "source": []
  },
  {
   "cell_type": "code",
   "execution_count": null,
   "metadata": {},
   "outputs": [],
   "source": []
  },
  {
   "cell_type": "code",
   "execution_count": null,
   "metadata": {},
   "outputs": [],
   "source": []
  },
  {
   "cell_type": "code",
   "execution_count": 45,
   "metadata": {
    "ExecuteTime": {
     "end_time": "2022-05-14T04:26:28.799021Z",
     "start_time": "2022-05-14T04:26:28.717973Z"
    }
   },
   "outputs": [],
   "source": [
    "template = '{age} is younger than {age+1}'"
   ]
  },
  {
   "cell_type": "code",
   "execution_count": 47,
   "metadata": {
    "ExecuteTime": {
     "end_time": "2022-05-14T04:26:38.376230Z",
     "start_time": "2022-05-14T04:26:38.324619Z"
    }
   },
   "outputs": [
    {
     "ename": "KeyError",
     "evalue": "'age+1'",
     "output_type": "error",
     "traceback": [
      "\u001b[0;31m---------------------------------------------------------------------------\u001b[0m",
      "\u001b[0;31mKeyError\u001b[0m                                  Traceback (most recent call last)",
      "\u001b[0;32m<ipython-input-47-a7f253ef1833>\u001b[0m in \u001b[0;36m<module>\u001b[0;34m\u001b[0m\n\u001b[0;32m----> 1\u001b[0;31m \u001b[0mtemplate\u001b[0m\u001b[0;34m.\u001b[0m\u001b[0mformat\u001b[0m\u001b[0;34m(\u001b[0m\u001b[0mage\u001b[0m\u001b[0;34m=\u001b[0m\u001b[0;36m9\u001b[0m\u001b[0;34m)\u001b[0m\u001b[0;34m\u001b[0m\u001b[0;34m\u001b[0m\u001b[0m\n\u001b[0m",
      "\u001b[0;31mKeyError\u001b[0m: 'age+1'"
     ]
    }
   ],
   "source": [
    "template.format(age=9)"
   ]
  },
  {
   "cell_type": "markdown",
   "metadata": {},
   "source": [
    "## V2\n",
    "\n",
    "Trying to allow us to specify defaults directly inside the curly braces rather than having a separate defaults section in the yaml file."
   ]
  },
  {
   "cell_type": "code",
   "execution_count": 519,
   "metadata": {
    "ExecuteTime": {
     "end_time": "2022-05-27T21:26:17.174051Z",
     "start_time": "2022-05-27T21:26:17.129086Z"
    }
   },
   "outputs": [
    {
     "data": {
      "text/plain": [
       "'WIP: revised attempt at allowing a string to provide default values to fallback on\\nwhen str.format() is called. For gpt prompts I think a real DSL would be useful thought -\\ne.g. something like\\n{name} - a regular str provided by user\\n{age=3} - optional arg, can be user provided or not\\n{bio=<jabberwocky.external_data.wiki_data(name, age)>} - syntax is a wip but here the slot is filled with a python function output.\\n{examples=[how_to(task)]} - syntax also wip but slot is filled with another gpt completion\\n'"
      ]
     },
     "execution_count": 519,
     "metadata": {},
     "output_type": "execute_result"
    }
   ],
   "source": [
    "\"\"\"WIP: revised attempt at allowing a string to provide default values to fallback on\n",
    "when str.format() is called. For gpt prompts I think a real DSL would be useful thought -\n",
    "e.g. something like\n",
    "{name} - a regular str provided by user\n",
    "{age=3} - optional arg, can be user provided or not\n",
    "{bio=<jabberwocky.external_data.wiki_data(name, age)>} - syntax is a wip but here the slot is filled with a python function output.\n",
    "{examples=[how_to(task)]} - syntax also wip but slot is filled with another gpt completion\n",
    "\"\"\""
   ]
  },
  {
   "cell_type": "code",
   "execution_count": 521,
   "metadata": {
    "ExecuteTime": {
     "end_time": "2022-05-27T21:26:25.618767Z",
     "start_time": "2022-05-27T21:26:25.550082Z"
    }
   },
   "outputs": [],
   "source": [
    "import inspect"
   ]
  },
  {
   "cell_type": "code",
   "execution_count": 523,
   "metadata": {
    "ExecuteTime": {
     "end_time": "2022-05-27T21:26:30.299792Z",
     "start_time": "2022-05-27T21:26:30.233659Z"
    }
   },
   "outputs": [],
   "source": [
    "class Prompt:\n",
    "    def __init__(self, template, default_key='arg'):\n",
    "        self.raw_template = template\n",
    "        self.template, self.sig = self._parse(template, \n",
    "                                              default_key=default_key)\n",
    "        \n",
    "    def format(self, *args, **kwargs):\n",
    "        resolved_kwargs = self._resolve_args(*args, **kwargs)\n",
    "        return self.template.format(**resolved_kwargs)\n",
    "        \n",
    "    def _resolve_args(self, *args, **kwargs):\n",
    "        sig = self.sig.bind(*args, **kwargs)\n",
    "        sig.apply_defaults()\n",
    "        return sig.arguments\n",
    "        \n",
    "    def _parse(self, fmt, default_key='arg'):\n",
    "        fields = {}\n",
    "        new_fmt = fmt\n",
    "        used_unnamed = False\n",
    "        used_default = False\n",
    "        error_msg = 'You have both an unnamed field and  ' \\\n",
    "                    f'a field with the default name {default_key}. ' \\\n",
    "                    'Either provide a name for the unnamed field or ' \\\n",
    "                    'rename the default one to avoid a collision.'\n",
    "        for _, field, *_ in F.parse(fmt):\n",
    "            if field is None: continue\n",
    "            parts = field.split('=')\n",
    "            key, val, *_ = parts + [inspect.Parameter.empty]\n",
    "            if val != inspect.Parameter.empty:\n",
    "                new_fmt = new_fmt.replace('='.join(parts), key)\n",
    "            if key == default_key:\n",
    "                if used_unnamed:\n",
    "                    raise ValueError(error_msg)\n",
    "                used_default = True\n",
    "            if not key:\n",
    "                if used_default:\n",
    "                    raise ValueError(error_msg)\n",
    "                else:\n",
    "                    used_unnamed = True\n",
    "                    key = default_key\n",
    "                    new_fmt = new_fmt.replace('{}', '{' + key + '}')\n",
    "            if key in fields:\n",
    "                assert val == fields[key], \\\n",
    "                    'Each field can only have 1 default value. '\\\n",
    "                    f'Field \"{key}\" has\"{val}\" and \"{field[key]}\".'           \n",
    "            fields[key] = val\n",
    "        if len(fields) <= 1:\n",
    "            kind = inspect.Parameter.POSITIONAL_OR_KEYWORD\n",
    "        else:\n",
    "            kind = inspect.Parameter.KEYWORD_ONLY        \n",
    "        return new_fmt, inspect.Signature(inspect.Parameter(name=k, kind=kind, default=v)\n",
    "                                          for k, v in fields.items())\n",
    "                                      \n",
    "    def __str__(self):\n",
    "        return self.raw_template"
   ]
  },
  {
   "cell_type": "markdown",
   "metadata": {},
   "source": [
    "## V3\n",
    "\n",
    "Experimenting with jinja to see if this could be a good way to do this."
   ]
  },
  {
   "cell_type": "code",
   "execution_count": 582,
   "metadata": {
    "ExecuteTime": {
     "end_time": "2022-05-27T21:52:19.892714Z",
     "start_time": "2022-05-27T21:52:19.828808Z"
    }
   },
   "outputs": [],
   "source": [
    "from jinja2 import Template, StrictUndefined, meta, Environment"
   ]
  },
  {
   "cell_type": "code",
   "execution_count": 550,
   "metadata": {
    "ExecuteTime": {
     "end_time": "2022-05-27T21:40:06.571610Z",
     "start_time": "2022-05-27T21:40:06.452770Z"
    }
   },
   "outputs": [
    {
     "data": {
      "text/plain": [
       "<Template memory:13ab5e198>"
      ]
     },
     "execution_count": 550,
     "metadata": {},
     "output_type": "execute_result"
    }
   ],
   "source": [
    "fmt = \"\"\"\n",
    "This is a conversation with {{ name }}. {{ name }} is {{ age }} years old.\n",
    "In 2000 {{ pronoun }} was {{ age - 22 }} years old.\n",
    "\"\"\".strip()\n",
    "\n",
    "temp = Template(fmt, undefined=StrictUndefined)\n",
    "temp"
   ]
  },
  {
   "cell_type": "code",
   "execution_count": 539,
   "metadata": {
    "ExecuteTime": {
     "end_time": "2022-05-27T21:35:04.807090Z",
     "start_time": "2022-05-27T21:35:04.762263Z"
    }
   },
   "outputs": [
    {
     "name": "stdout",
     "output_type": "stream",
     "text": [
      "As expected, got Exception('age' is undefined).\n"
     ]
    }
   ],
   "source": [
    "with assert_raises(Exception):\n",
    "    temp.render()"
   ]
  },
  {
   "cell_type": "code",
   "execution_count": 540,
   "metadata": {
    "ExecuteTime": {
     "end_time": "2022-05-27T21:35:05.002888Z",
     "start_time": "2022-05-27T21:35:04.964049Z"
    }
   },
   "outputs": [
    {
     "data": {
      "text/plain": [
       "'This is a conversation with Julia. Julia is 23 years old.\\nIn 2000 she was 1 years old.'"
      ]
     },
     "execution_count": 540,
     "metadata": {},
     "output_type": "execute_result"
    }
   ],
   "source": [
    "temp.render(name='Julia', age=23, pronoun='she')"
   ]
  },
  {
   "cell_type": "code",
   "execution_count": 570,
   "metadata": {
    "ExecuteTime": {
     "end_time": "2022-05-27T21:46:46.982892Z",
     "start_time": "2022-05-27T21:46:46.924121Z"
    }
   },
   "outputs": [],
   "source": [
    "def generate_synonyms(n, word):\n",
    "    # Mock/placeholder for something like\n",
    "    # prompt_manager.query(task='generate_synonyms', \n",
    "    #                      prompt={'n': n, 'word': word})\n",
    "    return '\\n'.join('- ' + word[i:] for i in range(1, n + 1))"
   ]
  },
  {
   "cell_type": "code",
   "execution_count": 571,
   "metadata": {
    "ExecuteTime": {
     "end_time": "2022-05-27T21:46:47.167061Z",
     "start_time": "2022-05-27T21:46:47.110392Z"
    }
   },
   "outputs": [
    {
     "name": "stdout",
     "output_type": "stream",
     "text": [
      "- luid\n",
      "- uid\n",
      "- id\n",
      "- d\n"
     ]
    }
   ],
   "source": [
    "print(generate_synonyms(4, 'fluid'))"
   ]
  },
  {
   "cell_type": "code",
   "execution_count": 644,
   "metadata": {
    "ExecuteTime": {
     "end_time": "2022-05-27T22:19:51.935038Z",
     "start_time": "2022-05-27T22:19:51.869091Z"
    }
   },
   "outputs": [
    {
     "data": {
      "text/plain": [
       "<Template memory:13ab71f28>"
      ]
     },
     "execution_count": 644,
     "metadata": {},
     "output_type": "execute_result"
    }
   ],
   "source": [
    "# Seems we need to provide default value every time an arg appears rather than\n",
    "# defining it once - not ideal.\n",
    "fmt = \"\"\"\n",
    "This is a list of {{ n | default(5) }} synonyms for the word \"{{ word }}\":\n",
    "\n",
    "{{ generate_synonyms(n, word) }}\n",
    "\n",
    "Reorder the list by similarity to the original word, with the most similar \n",
    "word coming first. {% if n > top_n|default(3) %} Keep only the {{ top_n|default(3) }} most similar synonyms. {% endif %}\n",
    "\"\"\".strip()\n",
    "\n",
    "temp = Template(fmt, undefined=StrictUndefined)\n",
    "temp"
   ]
  },
  {
   "cell_type": "code",
   "execution_count": 645,
   "metadata": {
    "ExecuteTime": {
     "end_time": "2022-05-27T22:19:52.480322Z",
     "start_time": "2022-05-27T22:19:52.414402Z"
    },
    "run_control": {
     "marked": false
    },
    "scrolled": true
   },
   "outputs": [
    {
     "ename": "UndefinedError",
     "evalue": "'generate_synonyms' is undefined",
     "output_type": "error",
     "traceback": [
      "\u001b[0;31m---------------------------------------------------------------------------\u001b[0m",
      "\u001b[0;31mUndefinedError\u001b[0m                            Traceback (most recent call last)",
      "\u001b[0;32m<ipython-input-645-bc1836b4cf34>\u001b[0m in \u001b[0;36m<module>\u001b[0;34m\u001b[0m\n\u001b[0;32m----> 1\u001b[0;31m \u001b[0mtemp\u001b[0m\u001b[0;34m.\u001b[0m\u001b[0mrender\u001b[0m\u001b[0;34m(\u001b[0m\u001b[0;34m)\u001b[0m\u001b[0;34m\u001b[0m\u001b[0;34m\u001b[0m\u001b[0m\n\u001b[0m",
      "\u001b[0;32m~/anaconda3/lib/python3.7/site-packages/jinja2/asyncsupport.py\u001b[0m in \u001b[0;36mrender\u001b[0;34m(self, *args, **kwargs)\u001b[0m\n\u001b[1;32m     74\u001b[0m     \u001b[0;32mdef\u001b[0m \u001b[0mrender\u001b[0m\u001b[0;34m(\u001b[0m\u001b[0mself\u001b[0m\u001b[0;34m,\u001b[0m \u001b[0;34m*\u001b[0m\u001b[0margs\u001b[0m\u001b[0;34m,\u001b[0m \u001b[0;34m**\u001b[0m\u001b[0mkwargs\u001b[0m\u001b[0;34m)\u001b[0m\u001b[0;34m:\u001b[0m\u001b[0;34m\u001b[0m\u001b[0;34m\u001b[0m\u001b[0m\n\u001b[1;32m     75\u001b[0m         \u001b[0;32mif\u001b[0m \u001b[0;32mnot\u001b[0m \u001b[0mself\u001b[0m\u001b[0;34m.\u001b[0m\u001b[0menvironment\u001b[0m\u001b[0;34m.\u001b[0m\u001b[0mis_async\u001b[0m\u001b[0;34m:\u001b[0m\u001b[0;34m\u001b[0m\u001b[0;34m\u001b[0m\u001b[0m\n\u001b[0;32m---> 76\u001b[0;31m             \u001b[0;32mreturn\u001b[0m \u001b[0moriginal_render\u001b[0m\u001b[0;34m(\u001b[0m\u001b[0mself\u001b[0m\u001b[0;34m,\u001b[0m \u001b[0;34m*\u001b[0m\u001b[0margs\u001b[0m\u001b[0;34m,\u001b[0m \u001b[0;34m**\u001b[0m\u001b[0mkwargs\u001b[0m\u001b[0;34m)\u001b[0m\u001b[0;34m\u001b[0m\u001b[0;34m\u001b[0m\u001b[0m\n\u001b[0m\u001b[1;32m     77\u001b[0m         \u001b[0mloop\u001b[0m \u001b[0;34m=\u001b[0m \u001b[0masyncio\u001b[0m\u001b[0;34m.\u001b[0m\u001b[0mget_event_loop\u001b[0m\u001b[0;34m(\u001b[0m\u001b[0;34m)\u001b[0m\u001b[0;34m\u001b[0m\u001b[0;34m\u001b[0m\u001b[0m\n\u001b[1;32m     78\u001b[0m         \u001b[0;32mreturn\u001b[0m \u001b[0mloop\u001b[0m\u001b[0;34m.\u001b[0m\u001b[0mrun_until_complete\u001b[0m\u001b[0;34m(\u001b[0m\u001b[0mself\u001b[0m\u001b[0;34m.\u001b[0m\u001b[0mrender_async\u001b[0m\u001b[0;34m(\u001b[0m\u001b[0;34m*\u001b[0m\u001b[0margs\u001b[0m\u001b[0;34m,\u001b[0m \u001b[0;34m**\u001b[0m\u001b[0mkwargs\u001b[0m\u001b[0;34m)\u001b[0m\u001b[0;34m)\u001b[0m\u001b[0;34m\u001b[0m\u001b[0;34m\u001b[0m\u001b[0m\n",
      "\u001b[0;32m~/anaconda3/lib/python3.7/site-packages/jinja2/environment.py\u001b[0m in \u001b[0;36mrender\u001b[0;34m(self, *args, **kwargs)\u001b[0m\n\u001b[1;32m   1006\u001b[0m         \u001b[0;32mexcept\u001b[0m \u001b[0mException\u001b[0m\u001b[0;34m:\u001b[0m\u001b[0;34m\u001b[0m\u001b[0;34m\u001b[0m\u001b[0m\n\u001b[1;32m   1007\u001b[0m             \u001b[0mexc_info\u001b[0m \u001b[0;34m=\u001b[0m \u001b[0msys\u001b[0m\u001b[0;34m.\u001b[0m\u001b[0mexc_info\u001b[0m\u001b[0;34m(\u001b[0m\u001b[0;34m)\u001b[0m\u001b[0;34m\u001b[0m\u001b[0;34m\u001b[0m\u001b[0m\n\u001b[0;32m-> 1008\u001b[0;31m         \u001b[0;32mreturn\u001b[0m \u001b[0mself\u001b[0m\u001b[0;34m.\u001b[0m\u001b[0menvironment\u001b[0m\u001b[0;34m.\u001b[0m\u001b[0mhandle_exception\u001b[0m\u001b[0;34m(\u001b[0m\u001b[0mexc_info\u001b[0m\u001b[0;34m,\u001b[0m \u001b[0;32mTrue\u001b[0m\u001b[0;34m)\u001b[0m\u001b[0;34m\u001b[0m\u001b[0;34m\u001b[0m\u001b[0m\n\u001b[0m\u001b[1;32m   1009\u001b[0m \u001b[0;34m\u001b[0m\u001b[0m\n\u001b[1;32m   1010\u001b[0m     \u001b[0;32mdef\u001b[0m \u001b[0mrender_async\u001b[0m\u001b[0;34m(\u001b[0m\u001b[0mself\u001b[0m\u001b[0;34m,\u001b[0m \u001b[0;34m*\u001b[0m\u001b[0margs\u001b[0m\u001b[0;34m,\u001b[0m \u001b[0;34m**\u001b[0m\u001b[0mkwargs\u001b[0m\u001b[0;34m)\u001b[0m\u001b[0;34m:\u001b[0m\u001b[0;34m\u001b[0m\u001b[0;34m\u001b[0m\u001b[0m\n",
      "\u001b[0;32m~/anaconda3/lib/python3.7/site-packages/jinja2/environment.py\u001b[0m in \u001b[0;36mhandle_exception\u001b[0;34m(self, exc_info, rendered, source_hint)\u001b[0m\n\u001b[1;32m    778\u001b[0m             \u001b[0mself\u001b[0m\u001b[0;34m.\u001b[0m\u001b[0mexception_handler\u001b[0m\u001b[0;34m(\u001b[0m\u001b[0mtraceback\u001b[0m\u001b[0;34m)\u001b[0m\u001b[0;34m\u001b[0m\u001b[0;34m\u001b[0m\u001b[0m\n\u001b[1;32m    779\u001b[0m         \u001b[0mexc_type\u001b[0m\u001b[0;34m,\u001b[0m \u001b[0mexc_value\u001b[0m\u001b[0;34m,\u001b[0m \u001b[0mtb\u001b[0m \u001b[0;34m=\u001b[0m \u001b[0mtraceback\u001b[0m\u001b[0;34m.\u001b[0m\u001b[0mstandard_exc_info\u001b[0m\u001b[0;34m\u001b[0m\u001b[0;34m\u001b[0m\u001b[0m\n\u001b[0;32m--> 780\u001b[0;31m         \u001b[0mreraise\u001b[0m\u001b[0;34m(\u001b[0m\u001b[0mexc_type\u001b[0m\u001b[0;34m,\u001b[0m \u001b[0mexc_value\u001b[0m\u001b[0;34m,\u001b[0m \u001b[0mtb\u001b[0m\u001b[0;34m)\u001b[0m\u001b[0;34m\u001b[0m\u001b[0;34m\u001b[0m\u001b[0m\n\u001b[0m\u001b[1;32m    781\u001b[0m \u001b[0;34m\u001b[0m\u001b[0m\n\u001b[1;32m    782\u001b[0m     \u001b[0;32mdef\u001b[0m \u001b[0mjoin_path\u001b[0m\u001b[0;34m(\u001b[0m\u001b[0mself\u001b[0m\u001b[0;34m,\u001b[0m \u001b[0mtemplate\u001b[0m\u001b[0;34m,\u001b[0m \u001b[0mparent\u001b[0m\u001b[0;34m)\u001b[0m\u001b[0;34m:\u001b[0m\u001b[0;34m\u001b[0m\u001b[0;34m\u001b[0m\u001b[0m\n",
      "\u001b[0;32m~/anaconda3/lib/python3.7/site-packages/jinja2/_compat.py\u001b[0m in \u001b[0;36mreraise\u001b[0;34m(tp, value, tb)\u001b[0m\n\u001b[1;32m     35\u001b[0m     \u001b[0;32mdef\u001b[0m \u001b[0mreraise\u001b[0m\u001b[0;34m(\u001b[0m\u001b[0mtp\u001b[0m\u001b[0;34m,\u001b[0m \u001b[0mvalue\u001b[0m\u001b[0;34m,\u001b[0m \u001b[0mtb\u001b[0m\u001b[0;34m=\u001b[0m\u001b[0;32mNone\u001b[0m\u001b[0;34m)\u001b[0m\u001b[0;34m:\u001b[0m\u001b[0;34m\u001b[0m\u001b[0;34m\u001b[0m\u001b[0m\n\u001b[1;32m     36\u001b[0m         \u001b[0;32mif\u001b[0m \u001b[0mvalue\u001b[0m\u001b[0;34m.\u001b[0m\u001b[0m__traceback__\u001b[0m \u001b[0;32mis\u001b[0m \u001b[0;32mnot\u001b[0m \u001b[0mtb\u001b[0m\u001b[0;34m:\u001b[0m\u001b[0;34m\u001b[0m\u001b[0;34m\u001b[0m\u001b[0m\n\u001b[0;32m---> 37\u001b[0;31m             \u001b[0;32mraise\u001b[0m \u001b[0mvalue\u001b[0m\u001b[0;34m.\u001b[0m\u001b[0mwith_traceback\u001b[0m\u001b[0;34m(\u001b[0m\u001b[0mtb\u001b[0m\u001b[0;34m)\u001b[0m\u001b[0;34m\u001b[0m\u001b[0;34m\u001b[0m\u001b[0m\n\u001b[0m\u001b[1;32m     38\u001b[0m         \u001b[0;32mraise\u001b[0m \u001b[0mvalue\u001b[0m\u001b[0;34m\u001b[0m\u001b[0;34m\u001b[0m\u001b[0m\n\u001b[1;32m     39\u001b[0m \u001b[0;34m\u001b[0m\u001b[0m\n",
      "\u001b[0;32m<template>\u001b[0m in \u001b[0;36mtop-level template code\u001b[0;34m()\u001b[0m\n",
      "\u001b[0;31mUndefinedError\u001b[0m: 'generate_synonyms' is undefined"
     ]
    }
   ],
   "source": [
    "temp.render()"
   ]
  },
  {
   "cell_type": "code",
   "execution_count": 647,
   "metadata": {
    "ExecuteTime": {
     "end_time": "2022-05-27T22:20:03.477555Z",
     "start_time": "2022-05-27T22:20:03.427945Z"
    }
   },
   "outputs": [
    {
     "name": "stdout",
     "output_type": "stream",
     "text": [
      "This is a list of 5 synonyms for the word \"scrupulous\":\n",
      "\n",
      "- crupulous\n",
      "- rupulous\n",
      "- upulous\n",
      "- pulous\n",
      "- ulous\n",
      "\n",
      "Reorder the list by similarity to the original word, with the most similar \n",
      "word coming first.  Keep only the 3 most similar synonyms. \n"
     ]
    }
   ],
   "source": [
    "res = temp.render(n=5, word='scrupulous',\n",
    "                  generate_synonyms=generate_synonyms)\n",
    "print(res)"
   ]
  },
  {
   "cell_type": "code",
   "execution_count": 648,
   "metadata": {
    "ExecuteTime": {
     "end_time": "2022-05-27T22:20:09.584615Z",
     "start_time": "2022-05-27T22:20:09.547507Z"
    }
   },
   "outputs": [
    {
     "name": "stdout",
     "output_type": "stream",
     "text": [
      "This is a list of 2 synonyms for the word \"scrupulous\":\n",
      "\n",
      "- crupulous\n",
      "- rupulous\n",
      "\n",
      "Reorder the list by similarity to the original word, with the most similar \n",
      "word coming first. \n"
     ]
    }
   ],
   "source": [
    "# Notice no warning to keep only the top n because n < top_n.\n",
    "res = temp.render(n=2, word='scrupulous', generate_synonyms=generate_synonyms)\n",
    "print(res)"
   ]
  },
  {
   "cell_type": "code",
   "execution_count": 587,
   "metadata": {
    "ExecuteTime": {
     "end_time": "2022-05-27T21:54:02.449032Z",
     "start_time": "2022-05-27T21:54:02.395899Z"
    }
   },
   "outputs": [],
   "source": [
    "def jinja_template_fields(fmt):\n",
    "    ast = Environment().parse(fmt)\n",
    "    return list(meta.find_undeclared_variables(ast))"
   ]
  },
  {
   "cell_type": "code",
   "execution_count": 588,
   "metadata": {
    "ExecuteTime": {
     "end_time": "2022-05-27T21:54:07.588039Z",
     "start_time": "2022-05-27T21:54:07.508843Z"
    }
   },
   "outputs": [
    {
     "data": {
      "text/plain": [
       "['word', 'generate_synonyms', 'n']"
      ]
     },
     "execution_count": 588,
     "metadata": {},
     "output_type": "execute_result"
    }
   ],
   "source": [
    "jinja_template_fields(fmt)"
   ]
  },
  {
   "cell_type": "markdown",
   "metadata": {},
   "source": [
    "**Takeaways**\n",
    "\n",
    "Not bad but default values work poorly and error messages could be better. Maybe resolved with some custom subclasses."
   ]
  },
  {
   "cell_type": "markdown",
   "metadata": {},
   "source": [
    "## V4\n",
    "\n",
    "Mako - another templating engine that seems to natively support more logic than jinja."
   ]
  },
  {
   "cell_type": "code",
   "execution_count": 589,
   "metadata": {
    "ExecuteTime": {
     "end_time": "2022-05-27T22:04:04.038426Z",
     "start_time": "2022-05-27T22:04:03.806772Z"
    }
   },
   "outputs": [],
   "source": [
    "from mako.template import Template as MTemplate"
   ]
  },
  {
   "cell_type": "code",
   "execution_count": 685,
   "metadata": {
    "ExecuteTime": {
     "end_time": "2022-05-27T22:25:53.150829Z",
     "start_time": "2022-05-27T22:25:53.070876Z"
    }
   },
   "outputs": [],
   "source": [
    "mfmt = \"\"\"\n",
    "<%page args=\"n, word, top_n=3\"/>\n",
    "This is a list of ${n} synonyms for the word \"${word}\":\n",
    "\n",
    "${generate_synonyms(n, word)}\n",
    "\n",
    "Reorder the list by similarity to the original word, with the most similar \n",
    "word coming first. \n",
    "% if n > top_n:\n",
    "Keep only the ${top_n} most similar synonyms.\n",
    "% endif\n",
    "\"\"\".strip()"
   ]
  },
  {
   "cell_type": "code",
   "execution_count": 686,
   "metadata": {
    "ExecuteTime": {
     "end_time": "2022-05-27T22:25:53.395641Z",
     "start_time": "2022-05-27T22:25:53.356868Z"
    }
   },
   "outputs": [],
   "source": [
    "mtemp = MTemplate(mfmt)"
   ]
  },
  {
   "cell_type": "code",
   "execution_count": 687,
   "metadata": {
    "ExecuteTime": {
     "end_time": "2022-05-27T22:25:53.733055Z",
     "start_time": "2022-05-27T22:25:53.678023Z"
    },
    "scrolled": true
   },
   "outputs": [
    {
     "ename": "TypeError",
     "evalue": "render_body() missing 2 required positional arguments: 'n' and 'word'",
     "output_type": "error",
     "traceback": [
      "\u001b[0;31m---------------------------------------------------------------------------\u001b[0m",
      "\u001b[0;31mTypeError\u001b[0m                                 Traceback (most recent call last)",
      "\u001b[0;32m<ipython-input-687-1f98af5d8ff1>\u001b[0m in \u001b[0;36m<module>\u001b[0;34m\u001b[0m\n\u001b[1;32m      1\u001b[0m \u001b[0;31m# Error message here is much more vague than jinja's.\u001b[0m\u001b[0;34m\u001b[0m\u001b[0;34m\u001b[0m\u001b[0;34m\u001b[0m\u001b[0m\n\u001b[0;32m----> 2\u001b[0;31m \u001b[0mres\u001b[0m \u001b[0;34m=\u001b[0m \u001b[0mmtemp\u001b[0m\u001b[0;34m.\u001b[0m\u001b[0mrender\u001b[0m\u001b[0;34m(\u001b[0m\u001b[0;34m)\u001b[0m\u001b[0;34m\u001b[0m\u001b[0;34m\u001b[0m\u001b[0m\n\u001b[0m",
      "\u001b[0;32m~/anaconda3/lib/python3.7/site-packages/mako/template.py\u001b[0m in \u001b[0;36mrender\u001b[0;34m(self, *args, **data)\u001b[0m\n\u001b[1;32m    474\u001b[0m \u001b[0;34m\u001b[0m\u001b[0m\n\u001b[1;32m    475\u001b[0m         \"\"\"\n\u001b[0;32m--> 476\u001b[0;31m         \u001b[0;32mreturn\u001b[0m \u001b[0mruntime\u001b[0m\u001b[0;34m.\u001b[0m\u001b[0m_render\u001b[0m\u001b[0;34m(\u001b[0m\u001b[0mself\u001b[0m\u001b[0;34m,\u001b[0m \u001b[0mself\u001b[0m\u001b[0;34m.\u001b[0m\u001b[0mcallable_\u001b[0m\u001b[0;34m,\u001b[0m \u001b[0margs\u001b[0m\u001b[0;34m,\u001b[0m \u001b[0mdata\u001b[0m\u001b[0;34m)\u001b[0m\u001b[0;34m\u001b[0m\u001b[0;34m\u001b[0m\u001b[0m\n\u001b[0m\u001b[1;32m    477\u001b[0m \u001b[0;34m\u001b[0m\u001b[0m\n\u001b[1;32m    478\u001b[0m     \u001b[0;32mdef\u001b[0m \u001b[0mrender_unicode\u001b[0m\u001b[0;34m(\u001b[0m\u001b[0mself\u001b[0m\u001b[0;34m,\u001b[0m \u001b[0;34m*\u001b[0m\u001b[0margs\u001b[0m\u001b[0;34m,\u001b[0m \u001b[0;34m**\u001b[0m\u001b[0mdata\u001b[0m\u001b[0;34m)\u001b[0m\u001b[0;34m:\u001b[0m\u001b[0;34m\u001b[0m\u001b[0;34m\u001b[0m\u001b[0m\n",
      "\u001b[0;32m~/anaconda3/lib/python3.7/site-packages/mako/runtime.py\u001b[0m in \u001b[0;36m_render\u001b[0;34m(template, callable_, args, data, as_unicode)\u001b[0m\n\u001b[1;32m    881\u001b[0m         \u001b[0mcontext\u001b[0m\u001b[0;34m,\u001b[0m\u001b[0;34m\u001b[0m\u001b[0;34m\u001b[0m\u001b[0m\n\u001b[1;32m    882\u001b[0m         \u001b[0;34m*\u001b[0m\u001b[0margs\u001b[0m\u001b[0;34m,\u001b[0m\u001b[0;34m\u001b[0m\u001b[0;34m\u001b[0m\u001b[0m\n\u001b[0;32m--> 883\u001b[0;31m         \u001b[0;34m**\u001b[0m\u001b[0m_kwargs_for_callable\u001b[0m\u001b[0;34m(\u001b[0m\u001b[0mcallable_\u001b[0m\u001b[0;34m,\u001b[0m \u001b[0mdata\u001b[0m\u001b[0;34m)\u001b[0m\u001b[0;34m\u001b[0m\u001b[0;34m\u001b[0m\u001b[0m\n\u001b[0m\u001b[1;32m    884\u001b[0m     )\n\u001b[1;32m    885\u001b[0m     \u001b[0;32mreturn\u001b[0m \u001b[0mcontext\u001b[0m\u001b[0;34m.\u001b[0m\u001b[0m_pop_buffer\u001b[0m\u001b[0;34m(\u001b[0m\u001b[0;34m)\u001b[0m\u001b[0;34m.\u001b[0m\u001b[0mgetvalue\u001b[0m\u001b[0;34m(\u001b[0m\u001b[0;34m)\u001b[0m\u001b[0;34m\u001b[0m\u001b[0;34m\u001b[0m\u001b[0m\n",
      "\u001b[0;32m~/anaconda3/lib/python3.7/site-packages/mako/runtime.py\u001b[0m in \u001b[0;36m_render_context\u001b[0;34m(tmpl, callable_, context, *args, **kwargs)\u001b[0m\n\u001b[1;32m    918\u001b[0m         \u001b[0;31m# if main render method, call from the base of the inheritance stack\u001b[0m\u001b[0;34m\u001b[0m\u001b[0;34m\u001b[0m\u001b[0;34m\u001b[0m\u001b[0m\n\u001b[1;32m    919\u001b[0m         \u001b[0;34m(\u001b[0m\u001b[0minherit\u001b[0m\u001b[0;34m,\u001b[0m \u001b[0mlclcontext\u001b[0m\u001b[0;34m)\u001b[0m \u001b[0;34m=\u001b[0m \u001b[0m_populate_self_namespace\u001b[0m\u001b[0;34m(\u001b[0m\u001b[0mcontext\u001b[0m\u001b[0;34m,\u001b[0m \u001b[0mtmpl\u001b[0m\u001b[0;34m)\u001b[0m\u001b[0;34m\u001b[0m\u001b[0;34m\u001b[0m\u001b[0m\n\u001b[0;32m--> 920\u001b[0;31m         \u001b[0m_exec_template\u001b[0m\u001b[0;34m(\u001b[0m\u001b[0minherit\u001b[0m\u001b[0;34m,\u001b[0m \u001b[0mlclcontext\u001b[0m\u001b[0;34m,\u001b[0m \u001b[0margs\u001b[0m\u001b[0;34m=\u001b[0m\u001b[0margs\u001b[0m\u001b[0;34m,\u001b[0m \u001b[0mkwargs\u001b[0m\u001b[0;34m=\u001b[0m\u001b[0mkwargs\u001b[0m\u001b[0;34m)\u001b[0m\u001b[0;34m\u001b[0m\u001b[0;34m\u001b[0m\u001b[0m\n\u001b[0m\u001b[1;32m    921\u001b[0m     \u001b[0;32melse\u001b[0m\u001b[0;34m:\u001b[0m\u001b[0;34m\u001b[0m\u001b[0;34m\u001b[0m\u001b[0m\n\u001b[1;32m    922\u001b[0m         \u001b[0;31m# otherwise, call the actual rendering method specified\u001b[0m\u001b[0;34m\u001b[0m\u001b[0;34m\u001b[0m\u001b[0;34m\u001b[0m\u001b[0m\n",
      "\u001b[0;32m~/anaconda3/lib/python3.7/site-packages/mako/runtime.py\u001b[0m in \u001b[0;36m_exec_template\u001b[0;34m(callable_, context, args, kwargs)\u001b[0m\n\u001b[1;32m    945\u001b[0m             \u001b[0m_render_error\u001b[0m\u001b[0;34m(\u001b[0m\u001b[0mtemplate\u001b[0m\u001b[0;34m,\u001b[0m \u001b[0mcontext\u001b[0m\u001b[0;34m,\u001b[0m \u001b[0me\u001b[0m\u001b[0;34m)\u001b[0m\u001b[0;34m\u001b[0m\u001b[0;34m\u001b[0m\u001b[0m\n\u001b[1;32m    946\u001b[0m     \u001b[0;32melse\u001b[0m\u001b[0;34m:\u001b[0m\u001b[0;34m\u001b[0m\u001b[0;34m\u001b[0m\u001b[0m\n\u001b[0;32m--> 947\u001b[0;31m         \u001b[0mcallable_\u001b[0m\u001b[0;34m(\u001b[0m\u001b[0mcontext\u001b[0m\u001b[0;34m,\u001b[0m \u001b[0;34m*\u001b[0m\u001b[0margs\u001b[0m\u001b[0;34m,\u001b[0m \u001b[0;34m**\u001b[0m\u001b[0mkwargs\u001b[0m\u001b[0;34m)\u001b[0m\u001b[0;34m\u001b[0m\u001b[0;34m\u001b[0m\u001b[0m\n\u001b[0m\u001b[1;32m    948\u001b[0m \u001b[0;34m\u001b[0m\u001b[0m\n\u001b[1;32m    949\u001b[0m \u001b[0;34m\u001b[0m\u001b[0m\n",
      "\u001b[0;31mTypeError\u001b[0m: render_body() missing 2 required positional arguments: 'n' and 'word'"
     ]
    }
   ],
   "source": [
    "# Error message here is much more vague than jinja's.\n",
    "res = mtemp.render()"
   ]
  },
  {
   "cell_type": "code",
   "execution_count": 689,
   "metadata": {
    "ExecuteTime": {
     "end_time": "2022-05-27T22:25:57.456194Z",
     "start_time": "2022-05-27T22:25:57.395037Z"
    }
   },
   "outputs": [
    {
     "name": "stdout",
     "output_type": "stream",
     "text": [
      "\n",
      "This is a list of 4 synonyms for the word \"alacrity\":\n",
      "\n",
      "- lacrity\n",
      "- acrity\n",
      "- crity\n",
      "- rity\n",
      "\n",
      "Reorder the list by similarity to the original word, with the most similar \n",
      "word coming first. \n",
      "Keep only the 3 most similar synonyms.\n",
      "\n"
     ]
    }
   ],
   "source": [
    "res = mtemp.render(word='alacrity', n=4,\n",
    "                   generate_synonyms=generate_synonyms)\n",
    "print(res)"
   ]
  },
  {
   "cell_type": "markdown",
   "metadata": {},
   "source": [
    "**Takeaways**\n",
    "\n",
    "Having more logic support is cool but it's hard to get spacing right, which can be important for prompts, and error messages are much less informative than I'd like."
   ]
  },
  {
   "cell_type": "code",
   "execution_count": null,
   "metadata": {},
   "outputs": [],
   "source": []
  }
 ],
 "metadata": {
  "kernelspec": {
   "display_name": "Python 3",
   "language": "python",
   "name": "python3"
  },
  "language_info": {
   "codemirror_mode": {
    "name": "ipython",
    "version": 3
   },
   "file_extension": ".py",
   "mimetype": "text/x-python",
   "name": "python",
   "nbconvert_exporter": "python",
   "pygments_lexer": "ipython3",
   "version": "3.7.3"
  }
 },
 "nbformat": 4,
 "nbformat_minor": 2
}
