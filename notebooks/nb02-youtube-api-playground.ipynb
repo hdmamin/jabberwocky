{
 "cells": [
  {
   "cell_type": "markdown",
   "metadata": {},
   "source": [
    "# Summary\n",
    "\n",
    "Get a feel for the youtube transcript API. Some questions to address:\n",
    "\n",
    "- Do all/most videos have transcripts available?\n",
    "- How good is transcript quality?\n",
    "- How long are time chunks? Do they correspond to sentence start/ends?\n",
    "- For videos with multiple people, do we know who's talking when?"
   ]
  },
  {
   "cell_type": "code",
   "execution_count": 1,
   "metadata": {
    "ExecuteTime": {
     "end_time": "2021-04-17T03:10:39.492375Z",
     "start_time": "2021-04-17T03:10:39.476567Z"
    }
   },
   "outputs": [],
   "source": [
    "%load_ext autoreload\n",
    "%autoreload 2"
   ]
  },
  {
   "cell_type": "code",
   "execution_count": 156,
   "metadata": {
    "ExecuteTime": {
     "end_time": "2021-04-17T21:37:34.122552Z",
     "start_time": "2021-04-17T21:37:34.051224Z"
    }
   },
   "outputs": [],
   "source": [
    "import matplotlib.pyplot as plt\n",
    "import numpy as np\n",
    "import os\n",
    "import pandas as pd\n",
    "from pathlib import Path\n",
    "from youtube_transcript_api import YouTubeTranscriptApi\n",
    "\n",
    "from jabberwocky.config import C\n",
    "from jabberwocky.openai_utils import query_gpt3\n",
    "from jabberwocky.utils import load_prompt, load_api_key, print_response\n",
    "from jabberwocky.youtube import text_segment\n",
    "from htools import *"
   ]
  },
  {
   "cell_type": "code",
   "execution_count": 3,
   "metadata": {
    "ExecuteTime": {
     "end_time": "2021-04-17T03:10:43.557180Z",
     "start_time": "2021-04-17T03:10:43.506771Z"
    }
   },
   "outputs": [
    {
     "name": "stdout",
     "output_type": "stream",
     "text": [
      "Current directory: /Users/hmamin/jabberwocky\n"
     ]
    }
   ],
   "source": [
    "cd_root()"
   ]
  },
  {
   "cell_type": "code",
   "execution_count": 12,
   "metadata": {
    "ExecuteTime": {
     "end_time": "2021-04-17T03:15:19.405786Z",
     "start_time": "2021-04-17T03:15:19.346807Z"
    }
   },
   "outputs": [],
   "source": [
    "def video_id(url):\n",
    "    parts = url.split('watch?v=')\n",
    "    assert len(parts) == 2, 'Unrecognized url format. URL should look like ' \\\n",
    "                            'https://www.youtube.com/watch?v=asjasdjfh'\n",
    "    return parts[-1]"
   ]
  },
  {
   "cell_type": "code",
   "execution_count": 15,
   "metadata": {
    "ExecuteTime": {
     "end_time": "2021-04-17T03:15:38.294339Z",
     "start_time": "2021-04-17T03:15:38.260356Z"
    }
   },
   "outputs": [],
   "source": [
    "gan_url = 'https://www.youtube.com/watch?v=9JpdAg6uMXs'\n",
    "gan_id = video_id(gan_url)"
   ]
  },
  {
   "cell_type": "code",
   "execution_count": 18,
   "metadata": {
    "ExecuteTime": {
     "end_time": "2021-04-17T03:16:02.342615Z",
     "start_time": "2021-04-17T03:16:01.017222Z"
    }
   },
   "outputs": [
    {
     "data": {
      "text/plain": [
       "809"
      ]
     },
     "execution_count": 18,
     "metadata": {},
     "output_type": "execute_result"
    }
   ],
   "source": [
    "chunks = YouTubeTranscriptApi.get_transcript(gan_id)\n",
    "len(chunks)"
   ]
  },
  {
   "cell_type": "code",
   "execution_count": 20,
   "metadata": {
    "ExecuteTime": {
     "end_time": "2021-04-17T03:16:36.515076Z",
     "start_time": "2021-04-17T03:16:36.443798Z"
    }
   },
   "outputs": [
    {
     "data": {
      "text/html": [
       "<div>\n",
       "<style scoped>\n",
       "    .dataframe tbody tr th:only-of-type {\n",
       "        vertical-align: middle;\n",
       "    }\n",
       "\n",
       "    .dataframe tbody tr th {\n",
       "        vertical-align: top;\n",
       "    }\n",
       "\n",
       "    .dataframe thead th {\n",
       "        text-align: right;\n",
       "    }\n",
       "</style>\n",
       "<table border=\"1\" class=\"dataframe\">\n",
       "  <thead>\n",
       "    <tr style=\"text-align: right;\">\n",
       "      <th></th>\n",
       "      <th>text</th>\n",
       "      <th>start</th>\n",
       "      <th>duration</th>\n",
       "    </tr>\n",
       "  </thead>\n",
       "  <tbody>\n",
       "    <tr>\n",
       "      <th>0</th>\n",
       "      <td>um thank you all for coming this is a</td>\n",
       "      <td>0.00</td>\n",
       "      <td>6.660</td>\n",
       "    </tr>\n",
       "    <tr>\n",
       "      <th>1</th>\n",
       "      <td>massive room so today we will have six</td>\n",
       "      <td>1.92</td>\n",
       "      <td>8.219</td>\n",
       "    </tr>\n",
       "    <tr>\n",
       "      <th>807</th>\n",
       "      <td>[Music]</td>\n",
       "      <td>1881.41</td>\n",
       "      <td>3.470</td>\n",
       "    </tr>\n",
       "    <tr>\n",
       "      <th>808</th>\n",
       "      <td>you</td>\n",
       "      <td>1882.82</td>\n",
       "      <td>2.060</td>\n",
       "    </tr>\n",
       "  </tbody>\n",
       "</table>\n",
       "</div>"
      ],
      "text/plain": [
       "                                       text    start  duration\n",
       "0     um thank you all for coming this is a     0.00     6.660\n",
       "1    massive room so today we will have six     1.92     8.219\n",
       "807                                 [Music]  1881.41     3.470\n",
       "808                                     you  1882.82     2.060"
      ]
     },
     "execution_count": 20,
     "metadata": {},
     "output_type": "execute_result"
    }
   ],
   "source": [
    "df = pd.DataFrame(chunks)\n",
    "df.ends()"
   ]
  },
  {
   "cell_type": "code",
   "execution_count": 25,
   "metadata": {
    "ExecuteTime": {
     "end_time": "2021-04-17T03:17:40.920428Z",
     "start_time": "2021-04-17T03:17:40.603606Z"
    }
   },
   "outputs": [
    {
     "data": {
      "image/png": "[encoded data removed]",
      "text/plain": [
       "<Figure size 432x288 with 1 Axes>"
      ]
     },
     "metadata": {
      "needs_background": "light"
     },
     "output_type": "display_data"
    }
   ],
   "source": [
    "df.duration.plot.hist()\n",
    "plt.xlabel('Duration (s)')\n",
    "plt.title('Distribution of Text Chunk Durations')\n",
    "plt.show()"
   ]
  },
  {
   "cell_type": "code",
   "execution_count": 32,
   "metadata": {
    "ExecuteTime": {
     "end_time": "2021-04-17T03:20:16.206112Z",
     "start_time": "2021-04-17T03:20:16.142817Z"
    }
   },
   "outputs": [
    {
     "data": {
      "text/plain": [
       "\"provided either by another model or by an optimization algorithm so the phrase episode training now applies to lots of ideas that are both new and old the way that we use the phrase adverse sail training now it could apply to things like and an agent playing a game against a copy of itself like Arthur Samuels checkers player back in the 1950s so it's important to recognize that when we use the phrase adversarial training today we're not only referring to things that were invented recently but the usage has expanded to encompass a lot of older things that also had other names like robust optimization most of the day's workshop is about a specific kind of adverse ale training which is training of generative adversarial networks in the context of generative adversarial networks both both players in the game are neural networks and the goal is to learn to generate data that resembles the data that was in the training set the reason that we call the training process for generative adverse cell network adversarial training is that the worst case input for one of these networks is generated by the other player and so one of the players is always trained to do as well as possible on the worst possible input it's worth mentioning that there are other works going on in the space of adversarial training where the goal is still to train on adversarial examples inputs that were maybe created by an optimization algorithm to confuse the model and you will see some posters about that here there's also some work about that in the reliable ml workshop but I hope that clears up any confusion about the term adversarial training so generative adversarial networks are mostly intended to solve the task of generative modeling the idea behind generative modeling is that we have a collection of training examples usually of large high dimensional examples such as images or audio waveforms most of the time we'll use images as the running scenario that we\""
      ]
     },
     "execution_count": 32,
     "metadata": {},
     "output_type": "execute_result"
    }
   ],
   "source": [
    "text_segment(df, 120, 240)"
   ]
  },
  {
   "cell_type": "code",
   "execution_count": 35,
   "metadata": {
    "ExecuteTime": {
     "end_time": "2021-04-17T03:22:54.773071Z",
     "start_time": "2021-04-17T03:22:53.844705Z"
    }
   },
   "outputs": [],
   "source": [
    "transcripts = YouTubeTranscriptApi.list_transcripts(gan_id)"
   ]
  },
  {
   "cell_type": "code",
   "execution_count": 36,
   "metadata": {
    "ExecuteTime": {
     "end_time": "2021-04-17T03:23:29.969502Z",
     "start_time": "2021-04-17T03:23:29.916013Z"
    }
   },
   "outputs": [
    {
     "ename": "NoTranscriptFound",
     "evalue": "\nCould not retrieve a transcript for the video https://www.youtube.com/watch?v=9JpdAg6uMXs! This is most likely caused by:\n\nNo transcripts were found for any of the requested language codes: ['en']\n\nFor this video (9JpdAg6uMXs) transcripts are available in the following languages:\n\n(MANUALLY CREATED)\nNone\n\n(GENERATED)\n - en (\"English (auto-generated)\")[TRANSLATABLE]\n\n(TRANSLATION LANGUAGES)\n - af (\"Afrikaans\")\n - sq (\"Albanian\")\n - am (\"Amharic\")\n - ar (\"Arabic\")\n - hy (\"Armenian\")\n - az (\"Azerbaijani\")\n - bn (\"Bangla\")\n - eu (\"Basque\")\n - be (\"Belarusian\")\n - bs (\"Bosnian\")\n - bg (\"Bulgarian\")\n - my (\"Burmese\")\n - ca (\"Catalan\")\n - ceb (\"Cebuano\")\n - zh-Hans (\"Chinese (Simplified)\")\n - zh-Hant (\"Chinese (Traditional)\")\n - co (\"Corsican\")\n - hr (\"Croatian\")\n - cs (\"Czech\")\n - da (\"Danish\")\n - nl (\"Dutch\")\n - en (\"English\")\n - eo (\"Esperanto\")\n - et (\"Estonian\")\n - fil (\"Filipino\")\n - fi (\"Finnish\")\n - fr (\"French\")\n - gl (\"Galician\")\n - ka (\"Georgian\")\n - de (\"German\")\n - el (\"Greek\")\n - gu (\"Gujarati\")\n - ht (\"Haitian Creole\")\n - ha (\"Hausa\")\n - haw (\"Hawaiian\")\n - iw (\"Hebrew\")\n - hi (\"Hindi\")\n - hmn (\"Hmong\")\n - hu (\"Hungarian\")\n - is (\"Icelandic\")\n - ig (\"Igbo\")\n - id (\"Indonesian\")\n - ga (\"Irish\")\n - it (\"Italian\")\n - ja (\"Japanese\")\n - jv (\"Javanese\")\n - kn (\"Kannada\")\n - kk (\"Kazakh\")\n - km (\"Khmer\")\n - rw (\"Kinyarwanda\")\n - ko (\"Korean\")\n - ku (\"Kurdish\")\n - ky (\"Kyrgyz\")\n - lo (\"Lao\")\n - la (\"Latin\")\n - lv (\"Latvian\")\n - lt (\"Lithuanian\")\n - lb (\"Luxembourgish\")\n - mk (\"Macedonian\")\n - mg (\"Malagasy\")\n - ms (\"Malay\")\n - ml (\"Malayalam\")\n - mt (\"Maltese\")\n - mi (\"Maori\")\n - mr (\"Marathi\")\n - mn (\"Mongolian\")\n - ne (\"Nepali\")\n - no (\"Norwegian\")\n - ny (\"Nyanja\")\n - or (\"Odia\")\n - ps (\"Pashto\")\n - fa (\"Persian\")\n - pl (\"Polish\")\n - pt (\"Portuguese\")\n - pa (\"Punjabi\")\n - ro (\"Romanian\")\n - ru (\"Russian\")\n - sm (\"Samoan\")\n - gd (\"Scottish Gaelic\")\n - sr (\"Serbian\")\n - sn (\"Shona\")\n - sd (\"Sindhi\")\n - si (\"Sinhala\")\n - sk (\"Slovak\")\n - sl (\"Slovenian\")\n - so (\"Somali\")\n - st (\"Southern Sotho\")\n - es (\"Spanish\")\n - su (\"Sundanese\")\n - sw (\"Swahili\")\n - sv (\"Swedish\")\n - tg (\"Tajik\")\n - ta (\"Tamil\")\n - tt (\"Tatar\")\n - te (\"Telugu\")\n - th (\"Thai\")\n - tr (\"Turkish\")\n - tk (\"Turkmen\")\n - uk (\"Ukrainian\")\n - ur (\"Urdu\")\n - ug (\"Uyghur\")\n - uz (\"Uzbek\")\n - vi (\"Vietnamese\")\n - cy (\"Welsh\")\n - fy (\"Western Frisian\")\n - xh (\"Xhosa\")\n - yi (\"Yiddish\")\n - yo (\"Yoruba\")\n - zu (\"Zulu\")\n\nIf you are sure that the described cause is not responsible for this error and that a transcript should be retrievable, please create an issue at https://github.com/jdepoix/youtube-transcript-api/issues. Please add which version of youtube_transcript_api you are using and provide the information needed to replicate the error. Also make sure that there are no open issues which already describe your problem!",
     "output_type": "error",
     "traceback": [
      "\u001b[0;31m---------------------------------------------------------------------------\u001b[0m",
      "\u001b[0;31mNoTranscriptFound\u001b[0m                         Traceback (most recent call last)",
      "\u001b[0;32m<ipython-input-36-fd4a86ff8787>\u001b[0m in \u001b[0;36m<module>\u001b[0;34m()\u001b[0m\n\u001b[0;32m----> 1\u001b[0;31m \u001b[0mtrans\u001b[0m \u001b[0;34m=\u001b[0m \u001b[0mtranscripts\u001b[0m\u001b[0;34m.\u001b[0m\u001b[0mfind_manually_created_transcript\u001b[0m\u001b[0;34m(\u001b[0m\u001b[0;34m[\u001b[0m\u001b[0;34m'en'\u001b[0m\u001b[0;34m]\u001b[0m\u001b[0;34m)\u001b[0m\u001b[0;34m\u001b[0m\u001b[0;34m\u001b[0m\u001b[0m\n\u001b[0m",
      "\u001b[0;32m/Users/hmamin/anaconda3/lib/python3.7/site-packages/youtube_transcript_api/_transcripts.py\u001b[0m in \u001b[0;36mfind_manually_created_transcript\u001b[0;34m(self, language_codes)\u001b[0m\n\u001b[1;32m    195\u001b[0m         \u001b[0;34m:\u001b[0m\u001b[0mraises\u001b[0m\u001b[0;34m:\u001b[0m \u001b[0mNoTranscriptFound\u001b[0m\u001b[0;34m\u001b[0m\u001b[0;34m\u001b[0m\u001b[0m\n\u001b[1;32m    196\u001b[0m         \"\"\"\n\u001b[0;32m--> 197\u001b[0;31m         \u001b[0;32mreturn\u001b[0m \u001b[0mself\u001b[0m\u001b[0;34m.\u001b[0m\u001b[0m_find_transcript\u001b[0m\u001b[0;34m(\u001b[0m\u001b[0mlanguage_codes\u001b[0m\u001b[0;34m,\u001b[0m \u001b[0;34m[\u001b[0m\u001b[0mself\u001b[0m\u001b[0;34m.\u001b[0m\u001b[0m_manually_created_transcripts\u001b[0m\u001b[0;34m,\u001b[0m\u001b[0;34m]\u001b[0m\u001b[0;34m)\u001b[0m\u001b[0;34m\u001b[0m\u001b[0;34m\u001b[0m\u001b[0m\n\u001b[0m\u001b[1;32m    198\u001b[0m \u001b[0;34m\u001b[0m\u001b[0m\n\u001b[1;32m    199\u001b[0m     \u001b[0;32mdef\u001b[0m \u001b[0m_find_transcript\u001b[0m\u001b[0;34m(\u001b[0m\u001b[0mself\u001b[0m\u001b[0;34m,\u001b[0m \u001b[0mlanguage_codes\u001b[0m\u001b[0;34m,\u001b[0m \u001b[0mtranscript_dicts\u001b[0m\u001b[0;34m)\u001b[0m\u001b[0;34m:\u001b[0m\u001b[0;34m\u001b[0m\u001b[0;34m\u001b[0m\u001b[0m\n",
      "\u001b[0;32m/Users/hmamin/anaconda3/lib/python3.7/site-packages/youtube_transcript_api/_transcripts.py\u001b[0m in \u001b[0;36m_find_transcript\u001b[0;34m(self, language_codes, transcript_dicts)\u001b[0m\n\u001b[1;32m    206\u001b[0m             \u001b[0mself\u001b[0m\u001b[0;34m.\u001b[0m\u001b[0mvideo_id\u001b[0m\u001b[0;34m,\u001b[0m\u001b[0;34m\u001b[0m\u001b[0;34m\u001b[0m\u001b[0m\n\u001b[1;32m    207\u001b[0m             \u001b[0mlanguage_codes\u001b[0m\u001b[0;34m,\u001b[0m\u001b[0;34m\u001b[0m\u001b[0;34m\u001b[0m\u001b[0m\n\u001b[0;32m--> 208\u001b[0;31m             \u001b[0mself\u001b[0m\u001b[0;34m\u001b[0m\u001b[0;34m\u001b[0m\u001b[0m\n\u001b[0m\u001b[1;32m    209\u001b[0m         )\n\u001b[1;32m    210\u001b[0m \u001b[0;34m\u001b[0m\u001b[0m\n",
      "\u001b[0;31mNoTranscriptFound\u001b[0m: \nCould not retrieve a transcript for the video https://www.youtube.com/watch?v=9JpdAg6uMXs! This is most likely caused by:\n\nNo transcripts were found for any of the requested language codes: ['en']\n\nFor this video (9JpdAg6uMXs) transcripts are available in the following languages:\n\n(MANUALLY CREATED)\nNone\n\n(GENERATED)\n - en (\"English (auto-generated)\")[TRANSLATABLE]\n\n(TRANSLATION LANGUAGES)\n - af (\"Afrikaans\")\n - sq (\"Albanian\")\n - am (\"Amharic\")\n - ar (\"Arabic\")\n - hy (\"Armenian\")\n - az (\"Azerbaijani\")\n - bn (\"Bangla\")\n - eu (\"Basque\")\n - be (\"Belarusian\")\n - bs (\"Bosnian\")\n - bg (\"Bulgarian\")\n - my (\"Burmese\")\n - ca (\"Catalan\")\n - ceb (\"Cebuano\")\n - zh-Hans (\"Chinese (Simplified)\")\n - zh-Hant (\"Chinese (Traditional)\")\n - co (\"Corsican\")\n - hr (\"Croatian\")\n - cs (\"Czech\")\n - da (\"Danish\")\n - nl (\"Dutch\")\n - en (\"English\")\n - eo (\"Esperanto\")\n - et (\"Estonian\")\n - fil (\"Filipino\")\n - fi (\"Finnish\")\n - fr (\"French\")\n - gl (\"Galician\")\n - ka (\"Georgian\")\n - de (\"German\")\n - el (\"Greek\")\n - gu (\"Gujarati\")\n - ht (\"Haitian Creole\")\n - ha (\"Hausa\")\n - haw (\"Hawaiian\")\n - iw (\"Hebrew\")\n - hi (\"Hindi\")\n - hmn (\"Hmong\")\n - hu (\"Hungarian\")\n - is (\"Icelandic\")\n - ig (\"Igbo\")\n - id (\"Indonesian\")\n - ga (\"Irish\")\n - it (\"Italian\")\n - ja (\"Japanese\")\n - jv (\"Javanese\")\n - kn (\"Kannada\")\n - kk (\"Kazakh\")\n - km (\"Khmer\")\n - rw (\"Kinyarwanda\")\n - ko (\"Korean\")\n - ku (\"Kurdish\")\n - ky (\"Kyrgyz\")\n - lo (\"Lao\")\n - la (\"Latin\")\n - lv (\"Latvian\")\n - lt (\"Lithuanian\")\n - lb (\"Luxembourgish\")\n - mk (\"Macedonian\")\n - mg (\"Malagasy\")\n - ms (\"Malay\")\n - ml (\"Malayalam\")\n - mt (\"Maltese\")\n - mi (\"Maori\")\n - mr (\"Marathi\")\n - mn (\"Mongolian\")\n - ne (\"Nepali\")\n - no (\"Norwegian\")\n - ny (\"Nyanja\")\n - or (\"Odia\")\n - ps (\"Pashto\")\n - fa (\"Persian\")\n - pl (\"Polish\")\n - pt (\"Portuguese\")\n - pa (\"Punjabi\")\n - ro (\"Romanian\")\n - ru (\"Russian\")\n - sm (\"Samoan\")\n - gd (\"Scottish Gaelic\")\n - sr (\"Serbian\")\n - sn (\"Shona\")\n - sd (\"Sindhi\")\n - si (\"Sinhala\")\n - sk (\"Slovak\")\n - sl (\"Slovenian\")\n - so (\"Somali\")\n - st (\"Southern Sotho\")\n - es (\"Spanish\")\n - su (\"Sundanese\")\n - sw (\"Swahili\")\n - sv (\"Swedish\")\n - tg (\"Tajik\")\n - ta (\"Tamil\")\n - tt (\"Tatar\")\n - te (\"Telugu\")\n - th (\"Thai\")\n - tr (\"Turkish\")\n - tk (\"Turkmen\")\n - uk (\"Ukrainian\")\n - ur (\"Urdu\")\n - ug (\"Uyghur\")\n - uz (\"Uzbek\")\n - vi (\"Vietnamese\")\n - cy (\"Welsh\")\n - fy (\"Western Frisian\")\n - xh (\"Xhosa\")\n - yi (\"Yiddish\")\n - yo (\"Yoruba\")\n - zu (\"Zulu\")\n\nIf you are sure that the described cause is not responsible for this error and that a transcript should be retrievable, please create an issue at https://github.com/jdepoix/youtube-transcript-api/issues. Please add which version of youtube_transcript_api you are using and provide the information needed to replicate the error. Also make sure that there are no open issues which already describe your problem!"
     ]
    }
   ],
   "source": [
    "trans = transcripts.find_manually_created_transcript(['en'])"
   ]
  },
  {
   "cell_type": "code",
   "execution_count": 38,
   "metadata": {
    "ExecuteTime": {
     "end_time": "2021-04-17T03:24:07.820817Z",
     "start_time": "2021-04-17T03:24:07.735035Z"
    }
   },
   "outputs": [],
   "source": [
    "trans = transcripts.find_generated_transcript(['en'])"
   ]
  },
  {
   "cell_type": "code",
   "execution_count": 40,
   "metadata": {
    "ExecuteTime": {
     "end_time": "2021-04-17T03:24:13.875252Z",
     "start_time": "2021-04-17T03:24:13.824712Z"
    }
   },
   "outputs": [
    {
     "data": {
      "text/plain": [
       "{'_http_client': <requests.sessions.Session at 0x11f6adfd0>,\n",
       " '_translation_languages_dict': {'af': 'Afrikaans',\n",
       "  'am': 'Amharic',\n",
       "  'ar': 'Arabic',\n",
       "  'az': 'Azerbaijani',\n",
       "  'be': 'Belarusian',\n",
       "  'bg': 'Bulgarian',\n",
       "  'bn': 'Bangla',\n",
       "  'bs': 'Bosnian',\n",
       "  'ca': 'Catalan',\n",
       "  'ceb': 'Cebuano',\n",
       "  'co': 'Corsican',\n",
       "  'cs': 'Czech',\n",
       "  'cy': 'Welsh',\n",
       "  'da': 'Danish',\n",
       "  'de': 'German',\n",
       "  'el': 'Greek',\n",
       "  'en': 'English',\n",
       "  'eo': 'Esperanto',\n",
       "  'es': 'Spanish',\n",
       "  'et': 'Estonian',\n",
       "  'eu': 'Basque',\n",
       "  'fa': 'Persian',\n",
       "  'fi': 'Finnish',\n",
       "  'fil': 'Filipino',\n",
       "  'fr': 'French',\n",
       "  'fy': 'Western Frisian',\n",
       "  'ga': 'Irish',\n",
       "  'gd': 'Scottish Gaelic',\n",
       "  'gl': 'Galician',\n",
       "  'gu': 'Gujarati',\n",
       "  'ha': 'Hausa',\n",
       "  'haw': 'Hawaiian',\n",
       "  'hi': 'Hindi',\n",
       "  'hmn': 'Hmong',\n",
       "  'hr': 'Croatian',\n",
       "  'ht': 'Haitian Creole',\n",
       "  'hu': 'Hungarian',\n",
       "  'hy': 'Armenian',\n",
       "  'id': 'Indonesian',\n",
       "  'ig': 'Igbo',\n",
       "  'is': 'Icelandic',\n",
       "  'it': 'Italian',\n",
       "  'iw': 'Hebrew',\n",
       "  'ja': 'Japanese',\n",
       "  'jv': 'Javanese',\n",
       "  'ka': 'Georgian',\n",
       "  'kk': 'Kazakh',\n",
       "  'km': 'Khmer',\n",
       "  'kn': 'Kannada',\n",
       "  'ko': 'Korean',\n",
       "  'ku': 'Kurdish',\n",
       "  'ky': 'Kyrgyz',\n",
       "  'la': 'Latin',\n",
       "  'lb': 'Luxembourgish',\n",
       "  'lo': 'Lao',\n",
       "  'lt': 'Lithuanian',\n",
       "  'lv': 'Latvian',\n",
       "  'mg': 'Malagasy',\n",
       "  'mi': 'Maori',\n",
       "  'mk': 'Macedonian',\n",
       "  'ml': 'Malayalam',\n",
       "  'mn': 'Mongolian',\n",
       "  'mr': 'Marathi',\n",
       "  'ms': 'Malay',\n",
       "  'mt': 'Maltese',\n",
       "  'my': 'Burmese',\n",
       "  'ne': 'Nepali',\n",
       "  'nl': 'Dutch',\n",
       "  'no': 'Norwegian',\n",
       "  'ny': 'Nyanja',\n",
       "  'or': 'Odia',\n",
       "  'pa': 'Punjabi',\n",
       "  'pl': 'Polish',\n",
       "  'ps': 'Pashto',\n",
       "  'pt': 'Portuguese',\n",
       "  'ro': 'Romanian',\n",
       "  'ru': 'Russian',\n",
       "  'rw': 'Kinyarwanda',\n",
       "  'sd': 'Sindhi',\n",
       "  'si': 'Sinhala',\n",
       "  'sk': 'Slovak',\n",
       "  'sl': 'Slovenian',\n",
       "  'sm': 'Samoan',\n",
       "  'sn': 'Shona',\n",
       "  'so': 'Somali',\n",
       "  'sq': 'Albanian',\n",
       "  'sr': 'Serbian',\n",
       "  'st': 'Southern Sotho',\n",
       "  'su': 'Sundanese',\n",
       "  'sv': 'Swedish',\n",
       "  'sw': 'Swahili',\n",
       "  'ta': 'Tamil',\n",
       "  'te': 'Telugu',\n",
       "  'tg': 'Tajik',\n",
       "  'th': 'Thai',\n",
       "  'tk': 'Turkmen',\n",
       "  'tr': 'Turkish',\n",
       "  'tt': 'Tatar',\n",
       "  'ug': 'Uyghur',\n",
       "  'uk': 'Ukrainian',\n",
       "  'ur': 'Urdu',\n",
       "  'uz': 'Uzbek',\n",
       "  'vi': 'Vietnamese',\n",
       "  'xh': 'Xhosa',\n",
       "  'yi': 'Yiddish',\n",
       "  'yo': 'Yoruba',\n",
       "  'zh-Hans': 'Chinese (Simplified)',\n",
       "  'zh-Hant': 'Chinese (Traditional)',\n",
       "  'zu': 'Zulu'},\n",
       " '_url': 'https://www.youtube.com/api/timedtext?v=9JpdAg6uMXs&asr_langs=de,en,es,fr,it,ja,ko,nl,pt,ru&caps=asr&exp=xftt&xorp=true&xoaf=5&hl=en&ip=0.0.0.0&ipbits=0&expire=1618654974&sparams=ip,ipbits,expire,v,asr_langs,caps,exp,xorp,xoaf&signature=392B2755E806E7D06D7BC11580C30CA71C3CFC.41685D9DF3714D187D83853A2F8E9A072D1D9AE4&key=yt8&kind=asr&lang=en',\n",
       " 'is_generated': True,\n",
       " 'language': 'English (auto-generated)',\n",
       " 'language_code': 'en',\n",
       " 'translation_languages': [{'language': 'Afrikaans', 'language_code': 'af'},\n",
       "  {'language': 'Albanian', 'language_code': 'sq'},\n",
       "  {'language': 'Amharic', 'language_code': 'am'},\n",
       "  {'language': 'Arabic', 'language_code': 'ar'},\n",
       "  {'language': 'Armenian', 'language_code': 'hy'},\n",
       "  {'language': 'Azerbaijani', 'language_code': 'az'},\n",
       "  {'language': 'Bangla', 'language_code': 'bn'},\n",
       "  {'language': 'Basque', 'language_code': 'eu'},\n",
       "  {'language': 'Belarusian', 'language_code': 'be'},\n",
       "  {'language': 'Bosnian', 'language_code': 'bs'},\n",
       "  {'language': 'Bulgarian', 'language_code': 'bg'},\n",
       "  {'language': 'Burmese', 'language_code': 'my'},\n",
       "  {'language': 'Catalan', 'language_code': 'ca'},\n",
       "  {'language': 'Cebuano', 'language_code': 'ceb'},\n",
       "  {'language': 'Chinese (Simplified)', 'language_code': 'zh-Hans'},\n",
       "  {'language': 'Chinese (Traditional)', 'language_code': 'zh-Hant'},\n",
       "  {'language': 'Corsican', 'language_code': 'co'},\n",
       "  {'language': 'Croatian', 'language_code': 'hr'},\n",
       "  {'language': 'Czech', 'language_code': 'cs'},\n",
       "  {'language': 'Danish', 'language_code': 'da'},\n",
       "  {'language': 'Dutch', 'language_code': 'nl'},\n",
       "  {'language': 'English', 'language_code': 'en'},\n",
       "  {'language': 'Esperanto', 'language_code': 'eo'},\n",
       "  {'language': 'Estonian', 'language_code': 'et'},\n",
       "  {'language': 'Filipino', 'language_code': 'fil'},\n",
       "  {'language': 'Finnish', 'language_code': 'fi'},\n",
       "  {'language': 'French', 'language_code': 'fr'},\n",
       "  {'language': 'Galician', 'language_code': 'gl'},\n",
       "  {'language': 'Georgian', 'language_code': 'ka'},\n",
       "  {'language': 'German', 'language_code': 'de'},\n",
       "  {'language': 'Greek', 'language_code': 'el'},\n",
       "  {'language': 'Gujarati', 'language_code': 'gu'},\n",
       "  {'language': 'Haitian Creole', 'language_code': 'ht'},\n",
       "  {'language': 'Hausa', 'language_code': 'ha'},\n",
       "  {'language': 'Hawaiian', 'language_code': 'haw'},\n",
       "  {'language': 'Hebrew', 'language_code': 'iw'},\n",
       "  {'language': 'Hindi', 'language_code': 'hi'},\n",
       "  {'language': 'Hmong', 'language_code': 'hmn'},\n",
       "  {'language': 'Hungarian', 'language_code': 'hu'},\n",
       "  {'language': 'Icelandic', 'language_code': 'is'},\n",
       "  {'language': 'Igbo', 'language_code': 'ig'},\n",
       "  {'language': 'Indonesian', 'language_code': 'id'},\n",
       "  {'language': 'Irish', 'language_code': 'ga'},\n",
       "  {'language': 'Italian', 'language_code': 'it'},\n",
       "  {'language': 'Japanese', 'language_code': 'ja'},\n",
       "  {'language': 'Javanese', 'language_code': 'jv'},\n",
       "  {'language': 'Kannada', 'language_code': 'kn'},\n",
       "  {'language': 'Kazakh', 'language_code': 'kk'},\n",
       "  {'language': 'Khmer', 'language_code': 'km'},\n",
       "  {'language': 'Kinyarwanda', 'language_code': 'rw'},\n",
       "  {'language': 'Korean', 'language_code': 'ko'},\n",
       "  {'language': 'Kurdish', 'language_code': 'ku'},\n",
       "  {'language': 'Kyrgyz', 'language_code': 'ky'},\n",
       "  {'language': 'Lao', 'language_code': 'lo'},\n",
       "  {'language': 'Latin', 'language_code': 'la'},\n",
       "  {'language': 'Latvian', 'language_code': 'lv'},\n",
       "  {'language': 'Lithuanian', 'language_code': 'lt'},\n",
       "  {'language': 'Luxembourgish', 'language_code': 'lb'},\n",
       "  {'language': 'Macedonian', 'language_code': 'mk'},\n",
       "  {'language': 'Malagasy', 'language_code': 'mg'},\n",
       "  {'language': 'Malay', 'language_code': 'ms'},\n",
       "  {'language': 'Malayalam', 'language_code': 'ml'},\n",
       "  {'language': 'Maltese', 'language_code': 'mt'},\n",
       "  {'language': 'Maori', 'language_code': 'mi'},\n",
       "  {'language': 'Marathi', 'language_code': 'mr'},\n",
       "  {'language': 'Mongolian', 'language_code': 'mn'},\n",
       "  {'language': 'Nepali', 'language_code': 'ne'},\n",
       "  {'language': 'Norwegian', 'language_code': 'no'},\n",
       "  {'language': 'Nyanja', 'language_code': 'ny'},\n",
       "  {'language': 'Odia', 'language_code': 'or'},\n",
       "  {'language': 'Pashto', 'language_code': 'ps'},\n",
       "  {'language': 'Persian', 'language_code': 'fa'},\n",
       "  {'language': 'Polish', 'language_code': 'pl'},\n",
       "  {'language': 'Portuguese', 'language_code': 'pt'},\n",
       "  {'language': 'Punjabi', 'language_code': 'pa'},\n",
       "  {'language': 'Romanian', 'language_code': 'ro'},\n",
       "  {'language': 'Russian', 'language_code': 'ru'},\n",
       "  {'language': 'Samoan', 'language_code': 'sm'},\n",
       "  {'language': 'Scottish Gaelic', 'language_code': 'gd'},\n",
       "  {'language': 'Serbian', 'language_code': 'sr'},\n",
       "  {'language': 'Shona', 'language_code': 'sn'},\n",
       "  {'language': 'Sindhi', 'language_code': 'sd'},\n",
       "  {'language': 'Sinhala', 'language_code': 'si'},\n",
       "  {'language': 'Slovak', 'language_code': 'sk'},\n",
       "  {'language': 'Slovenian', 'language_code': 'sl'},\n",
       "  {'language': 'Somali', 'language_code': 'so'},\n",
       "  {'language': 'Southern Sotho', 'language_code': 'st'},\n",
       "  {'language': 'Spanish', 'language_code': 'es'},\n",
       "  {'language': 'Sundanese', 'language_code': 'su'},\n",
       "  {'language': 'Swahili', 'language_code': 'sw'},\n",
       "  {'language': 'Swedish', 'language_code': 'sv'},\n",
       "  {'language': 'Tajik', 'language_code': 'tg'},\n",
       "  {'language': 'Tamil', 'language_code': 'ta'},\n",
       "  {'language': 'Tatar', 'language_code': 'tt'},\n",
       "  {'language': 'Telugu', 'language_code': 'te'},\n",
       "  {'language': 'Thai', 'language_code': 'th'},\n",
       "  {'language': 'Turkish', 'language_code': 'tr'},\n",
       "  {'language': 'Turkmen', 'language_code': 'tk'},\n",
       "  {'language': 'Ukrainian', 'language_code': 'uk'},\n",
       "  {'language': 'Urdu', 'language_code': 'ur'},\n",
       "  {'language': 'Uyghur', 'language_code': 'ug'},\n",
       "  {'language': 'Uzbek', 'language_code': 'uz'},\n",
       "  {'language': 'Vietnamese', 'language_code': 'vi'},\n",
       "  {'language': 'Welsh', 'language_code': 'cy'},\n",
       "  {'language': 'Western Frisian', 'language_code': 'fy'},\n",
       "  {'language': 'Xhosa', 'language_code': 'xh'},\n",
       "  {'language': 'Yiddish', 'language_code': 'yi'},\n",
       "  {'language': 'Yoruba', 'language_code': 'yo'},\n",
       "  {'language': 'Zulu', 'language_code': 'zu'}],\n",
       " 'video_id': '9JpdAg6uMXs'}"
      ]
     },
     "execution_count": 40,
     "metadata": {},
     "output_type": "execute_result"
    }
   ],
   "source": [
    "vars(trans)"
   ]
  },
  {
   "cell_type": "code",
   "execution_count": 41,
   "metadata": {
    "ExecuteTime": {
     "end_time": "2021-04-17T03:24:54.556515Z",
     "start_time": "2021-04-17T03:24:54.516389Z"
    }
   },
   "outputs": [
    {
     "data": {
      "text/plain": [
       "True"
      ]
     },
     "execution_count": 41,
     "metadata": {},
     "output_type": "execute_result"
    }
   ],
   "source": [
    "trans.is_generated"
   ]
  },
  {
   "cell_type": "code",
   "execution_count": 42,
   "metadata": {
    "ExecuteTime": {
     "end_time": "2021-04-17T03:25:07.818318Z",
     "start_time": "2021-04-17T03:25:07.777880Z"
    }
   },
   "outputs": [
    {
     "data": {
      "text/plain": [
       "True"
      ]
     },
     "execution_count": 42,
     "metadata": {},
     "output_type": "execute_result"
    }
   ],
   "source": [
    "trans.is_translatable"
   ]
  },
  {
   "cell_type": "code",
   "execution_count": 43,
   "metadata": {
    "ExecuteTime": {
     "end_time": "2021-04-17T03:26:44.743627Z",
     "start_time": "2021-04-17T03:26:44.684911Z"
    }
   },
   "outputs": [],
   "source": [
    "bio_url = 'https://www.youtube.com/watch?v=NNnIGh9g6fA'"
   ]
  },
  {
   "cell_type": "code",
   "execution_count": 44,
   "metadata": {
    "ExecuteTime": {
     "end_time": "2021-04-17T03:27:26.891596Z",
     "start_time": "2021-04-17T03:27:26.327173Z"
    }
   },
   "outputs": [],
   "source": [
    "transcripts = YouTubeTranscriptApi.list_transcripts(video_id(bio_url))"
   ]
  },
  {
   "cell_type": "code",
   "execution_count": 59,
   "metadata": {
    "ExecuteTime": {
     "end_time": "2021-04-17T03:34:15.394987Z",
     "start_time": "2021-04-17T03:34:15.326149Z"
    }
   },
   "outputs": [
    {
     "data": {
      "text/plain": [
       "{'en': <youtube_transcript_api._transcripts.Transcript at 0x11eb6c6a0>}"
      ]
     },
     "execution_count": 59,
     "metadata": {},
     "output_type": "execute_result"
    }
   ],
   "source": [
    "transcripts._generated_transcripts"
   ]
  },
  {
   "cell_type": "code",
   "execution_count": 60,
   "metadata": {
    "ExecuteTime": {
     "end_time": "2021-04-17T03:34:27.751281Z",
     "start_time": "2021-04-17T03:34:27.716134Z"
    }
   },
   "outputs": [
    {
     "data": {
      "text/plain": [
       "{'en': <youtube_transcript_api._transcripts.Transcript at 0x11eb6c6d8>}"
      ]
     },
     "execution_count": 60,
     "metadata": {},
     "output_type": "execute_result"
    }
   ],
   "source": [
    "transcripts._manually_created_transcripts"
   ]
  },
  {
   "cell_type": "code",
   "execution_count": 55,
   "metadata": {
    "ExecuteTime": {
     "end_time": "2021-04-17T03:33:32.978268Z",
     "start_time": "2021-04-17T03:33:32.918290Z"
    }
   },
   "outputs": [
    {
     "name": "stdout",
     "output_type": "stream",
     "text": [
      "False\n",
      "en\n",
      "True\n",
      "en\n"
     ]
    }
   ],
   "source": [
    "for t in transcripts:\n",
    "    print(t.is_generated)\n",
    "    print(t.language_code)"
   ]
  },
  {
   "cell_type": "code",
   "execution_count": 48,
   "metadata": {
    "ExecuteTime": {
     "end_time": "2021-04-17T03:28:22.513428Z",
     "start_time": "2021-04-17T03:28:22.465910Z"
    }
   },
   "outputs": [
    {
     "data": {
      "text/plain": [
       "False"
      ]
     },
     "execution_count": 48,
     "metadata": {},
     "output_type": "execute_result"
    }
   ],
   "source": [
    "trans = transcripts.find_transcript(['en'])\n",
    "trans.is_generated"
   ]
  },
  {
   "cell_type": "code",
   "execution_count": 50,
   "metadata": {
    "ExecuteTime": {
     "end_time": "2021-04-17T03:28:58.037880Z",
     "start_time": "2021-04-17T03:28:57.603427Z"
    }
   },
   "outputs": [],
   "source": [
    "rows = trans.fetch()"
   ]
  },
  {
   "cell_type": "code",
   "execution_count": 52,
   "metadata": {
    "ExecuteTime": {
     "end_time": "2021-04-17T03:29:05.843151Z",
     "start_time": "2021-04-17T03:29:05.743280Z"
    }
   },
   "outputs": [
    {
     "data": {
      "text/html": [
       "<div>\n",
       "<style scoped>\n",
       "    .dataframe tbody tr th:only-of-type {\n",
       "        vertical-align: middle;\n",
       "    }\n",
       "\n",
       "    .dataframe tbody tr th {\n",
       "        vertical-align: top;\n",
       "    }\n",
       "\n",
       "    .dataframe thead th {\n",
       "        text-align: right;\n",
       "    }\n",
       "</style>\n",
       "<table border=\"1\" class=\"dataframe\">\n",
       "  <thead>\n",
       "    <tr style=\"text-align: right;\">\n",
       "      <th></th>\n",
       "      <th>text</th>\n",
       "      <th>start</th>\n",
       "      <th>duration</th>\n",
       "    </tr>\n",
       "  </thead>\n",
       "  <tbody>\n",
       "    <tr>\n",
       "      <th>0</th>\n",
       "      <td>[MUSIC PLAYING]</td>\n",
       "      <td>0.000</td>\n",
       "      <td>4.940</td>\n",
       "    </tr>\n",
       "    <tr>\n",
       "      <th>1</th>\n",
       "      <td>Stanford University.</td>\n",
       "      <td>4.940</td>\n",
       "      <td>0.920</td>\n",
       "    </tr>\n",
       "    <tr>\n",
       "      <th>2</th>\n",
       "      <td>This is BIO 150, isn't it?</td>\n",
       "      <td>9.360</td>\n",
       "      <td>3.370</td>\n",
       "    </tr>\n",
       "    <tr>\n",
       "      <th>3</th>\n",
       "      <td>OK, just wanted to make sure.</td>\n",
       "      <td>12.730</td>\n",
       "      <td>2.740</td>\n",
       "    </tr>\n",
       "    <tr>\n",
       "      <th>4</th>\n",
       "      <td>So we start off with a scenario.</td>\n",
       "      <td>15.470</td>\n",
       "      <td>3.420</td>\n",
       "    </tr>\n",
       "    <tr>\n",
       "      <th>...</th>\n",
       "      <td>...</td>\n",
       "      <td>...</td>\n",
       "      <td>...</td>\n",
       "    </tr>\n",
       "    <tr>\n",
       "      <th>1344</th>\n",
       "      <td>[LAUGHTER]</td>\n",
       "      <td>3414.670</td>\n",
       "      <td>6.527</td>\n",
       "    </tr>\n",
       "    <tr>\n",
       "      <th>1345</th>\n",
       "      <td>Just to get that up there.</td>\n",
       "      <td>3421.197</td>\n",
       "      <td>1.083</td>\n",
       "    </tr>\n",
       "    <tr>\n",
       "      <th>1346</th>\n",
       "      <td>12:15.</td>\n",
       "      <td>3422.280</td>\n",
       "      <td>0.805</td>\n",
       "    </tr>\n",
       "    <tr>\n",
       "      <th>1347</th>\n",
       "      <td>More questions?</td>\n",
       "      <td>3423.085</td>\n",
       "      <td>0.625</td>\n",
       "    </tr>\n",
       "    <tr>\n",
       "      <th>1348</th>\n",
       "      <td>For more, please visit\\nus at standord.edu.</td>\n",
       "      <td>3430.070</td>\n",
       "      <td>3.260</td>\n",
       "    </tr>\n",
       "  </tbody>\n",
       "</table>\n",
       "<p>1349 rows × 3 columns</p>\n",
       "</div>"
      ],
      "text/plain": [
       "                                             text     start  duration\n",
       "0                                 [MUSIC PLAYING]     0.000     4.940\n",
       "1                            Stanford University.     4.940     0.920\n",
       "2                      This is BIO 150, isn't it?     9.360     3.370\n",
       "3                   OK, just wanted to make sure.    12.730     2.740\n",
       "4                So we start off with a scenario.    15.470     3.420\n",
       "...                                           ...       ...       ...\n",
       "1344                                   [LAUGHTER]  3414.670     6.527\n",
       "1345                   Just to get that up there.  3421.197     1.083\n",
       "1346                                       12:15.  3422.280     0.805\n",
       "1347                              More questions?  3423.085     0.625\n",
       "1348  For more, please visit\\nus at standord.edu.  3430.070     3.260\n",
       "\n",
       "[1349 rows x 3 columns]"
      ]
     },
     "execution_count": 52,
     "metadata": {},
     "output_type": "execute_result"
    }
   ],
   "source": [
    "pd.DataFrame(rows)"
   ]
  },
  {
   "cell_type": "code",
   "execution_count": 114,
   "metadata": {
    "ExecuteTime": {
     "end_time": "2021-04-17T03:54:20.573180Z",
     "start_time": "2021-04-17T03:54:20.523294Z"
    }
   },
   "outputs": [],
   "source": [
    "def get_transcripts(url):\n",
    "    id_ = video_id(url)\n",
    "    types = {True: 'generated', False: 'manual'}\n",
    "    results = dict.fromkeys(types.values())\n",
    "    for trans in YouTubeTranscriptApi.list_transcripts(id_):\n",
    "        if trans.language_code == 'en':\n",
    "            rows = trans.fetch()\n",
    "            results[types[trans.is_generated]] = pd.DataFrame(rows)\n",
    "    return DotDict(**results, id=id_)"
   ]
  },
  {
   "cell_type": "code",
   "execution_count": 115,
   "metadata": {
    "ExecuteTime": {
     "end_time": "2021-04-17T03:54:22.212169Z",
     "start_time": "2021-04-17T03:54:21.031929Z"
    }
   },
   "outputs": [],
   "source": [
    "res = get_transcripts(bio_url)"
   ]
  },
  {
   "cell_type": "code",
   "execution_count": 116,
   "metadata": {
    "ExecuteTime": {
     "end_time": "2021-04-17T03:54:22.866607Z",
     "start_time": "2021-04-17T03:54:22.831352Z"
    }
   },
   "outputs": [
    {
     "data": {
      "text/html": [
       "<div>\n",
       "<style scoped>\n",
       "    .dataframe tbody tr th:only-of-type {\n",
       "        vertical-align: middle;\n",
       "    }\n",
       "\n",
       "    .dataframe tbody tr th {\n",
       "        vertical-align: top;\n",
       "    }\n",
       "\n",
       "    .dataframe thead th {\n",
       "        text-align: right;\n",
       "    }\n",
       "</style>\n",
       "<table border=\"1\" class=\"dataframe\">\n",
       "  <thead>\n",
       "    <tr style=\"text-align: right;\">\n",
       "      <th></th>\n",
       "      <th>text</th>\n",
       "      <th>start</th>\n",
       "      <th>duration</th>\n",
       "    </tr>\n",
       "  </thead>\n",
       "  <tbody>\n",
       "    <tr>\n",
       "      <th>0</th>\n",
       "      <td>[MUSIC PLAYING]</td>\n",
       "      <td>0.000</td>\n",
       "      <td>4.940</td>\n",
       "    </tr>\n",
       "    <tr>\n",
       "      <th>1</th>\n",
       "      <td>Stanford University.</td>\n",
       "      <td>4.940</td>\n",
       "      <td>0.920</td>\n",
       "    </tr>\n",
       "    <tr>\n",
       "      <th>1347</th>\n",
       "      <td>More questions?</td>\n",
       "      <td>3423.085</td>\n",
       "      <td>0.625</td>\n",
       "    </tr>\n",
       "    <tr>\n",
       "      <th>1348</th>\n",
       "      <td>For more, please visit\\nus at standord.edu.</td>\n",
       "      <td>3430.070</td>\n",
       "      <td>3.260</td>\n",
       "    </tr>\n",
       "  </tbody>\n",
       "</table>\n",
       "</div>"
      ],
      "text/plain": [
       "                                             text     start  duration\n",
       "0                                 [MUSIC PLAYING]     0.000     4.940\n",
       "1                            Stanford University.     4.940     0.920\n",
       "1347                              More questions?  3423.085     0.625\n",
       "1348  For more, please visit\\nus at standord.edu.  3430.070     3.260"
      ]
     },
     "execution_count": 116,
     "metadata": {},
     "output_type": "execute_result"
    }
   ],
   "source": [
    "res.manual.ends()"
   ]
  },
  {
   "cell_type": "code",
   "execution_count": 117,
   "metadata": {
    "ExecuteTime": {
     "end_time": "2021-04-17T03:54:23.486879Z",
     "start_time": "2021-04-17T03:54:23.452229Z"
    }
   },
   "outputs": [
    {
     "data": {
      "text/html": [
       "<div>\n",
       "<style scoped>\n",
       "    .dataframe tbody tr th:only-of-type {\n",
       "        vertical-align: middle;\n",
       "    }\n",
       "\n",
       "    .dataframe tbody tr th {\n",
       "        vertical-align: top;\n",
       "    }\n",
       "\n",
       "    .dataframe thead th {\n",
       "        text-align: right;\n",
       "    }\n",
       "</style>\n",
       "<table border=\"1\" class=\"dataframe\">\n",
       "  <thead>\n",
       "    <tr style=\"text-align: right;\">\n",
       "      <th></th>\n",
       "      <th>text</th>\n",
       "      <th>start</th>\n",
       "      <th>duration</th>\n",
       "    </tr>\n",
       "  </thead>\n",
       "  <tbody>\n",
       "    <tr>\n",
       "      <th>0</th>\n",
       "      <td>[Music]</td>\n",
       "      <td>0.67</td>\n",
       "      <td>3.31</td>\n",
       "    </tr>\n",
       "    <tr>\n",
       "      <th>1</th>\n",
       "      <td>Stanford University</td>\n",
       "      <td>4.43</td>\n",
       "      <td>3.09</td>\n",
       "    </tr>\n",
       "    <tr>\n",
       "      <th>1349</th>\n",
       "      <td>twelve fifteen more questions any are</td>\n",
       "      <td>3422.39</td>\n",
       "      <td>11.69</td>\n",
       "    </tr>\n",
       "    <tr>\n",
       "      <th>1350</th>\n",
       "      <td>for more please visit us at stanford.edu</td>\n",
       "      <td>3429.25</td>\n",
       "      <td>4.83</td>\n",
       "    </tr>\n",
       "  </tbody>\n",
       "</table>\n",
       "</div>"
      ],
      "text/plain": [
       "                                          text    start  duration\n",
       "0                                      [Music]     0.67      3.31\n",
       "1                          Stanford University     4.43      3.09\n",
       "1349     twelve fifteen more questions any are  3422.39     11.69\n",
       "1350  for more please visit us at stanford.edu  3429.25      4.83"
      ]
     },
     "execution_count": 117,
     "metadata": {},
     "output_type": "execute_result"
    }
   ],
   "source": [
    "res.generated.ends()"
   ]
  },
  {
   "cell_type": "code",
   "execution_count": 89,
   "metadata": {
    "ExecuteTime": {
     "end_time": "2021-04-17T03:43:11.895205Z",
     "start_time": "2021-04-17T03:43:11.858423Z"
    }
   },
   "outputs": [
    {
     "data": {
      "text/plain": [
       "'NNnIGh9g6fA'"
      ]
     },
     "execution_count": 89,
     "metadata": {},
     "output_type": "execute_result"
    }
   ],
   "source": [
    "res.id"
   ]
  },
  {
   "cell_type": "markdown",
   "metadata": {},
   "source": [
    "Chunks are definitely not perfectly aligned but I'm hoping they're both granular enough that my text_segment() function can extract roughly aligned segments."
   ]
  },
  {
   "cell_type": "code",
   "execution_count": 92,
   "metadata": {
    "ExecuteTime": {
     "end_time": "2021-04-17T03:44:45.070230Z",
     "start_time": "2021-04-17T03:44:44.785525Z"
    }
   },
   "outputs": [
    {
     "data": {
      "image/png": "[encoded data removed]",
      "text/plain": [
       "<Figure size 432x288 with 1 Axes>"
      ]
     },
     "metadata": {
      "needs_background": "light"
     },
     "output_type": "display_data"
    }
   ],
   "source": [
    "nrows = min(res.manual.shape[0], res.generated.shape[0])\n",
    "plt.plot(res.manual.start.iloc[:nrows], res.generated.start.iloc[:nrows])\n",
    "plt.show()"
   ]
  },
  {
   "cell_type": "code",
   "execution_count": 101,
   "metadata": {
    "ExecuteTime": {
     "end_time": "2021-04-17T03:49:13.290183Z",
     "start_time": "2021-04-17T03:49:13.015822Z"
    }
   },
   "outputs": [
    {
     "data": {
      "image/png": "[encoded data removed]",
      "text/plain": [
       "<Figure size 432x288 with 1 Axes>"
      ]
     },
     "metadata": {
      "needs_background": "light"
     },
     "output_type": "display_data"
    }
   ],
   "source": [
    "plt.plot(res.generated.start.iloc[:nrows] - res.manual.start.iloc[:nrows])\n",
    "plt.xlabel('Chunk Index')\n",
    "plt.ylabel('Generated Start Times - Manual Start Times')\n",
    "plt.show()"
   ]
  },
  {
   "cell_type": "code",
   "execution_count": 99,
   "metadata": {
    "ExecuteTime": {
     "end_time": "2021-04-17T03:47:49.925925Z",
     "start_time": "2021-04-17T03:47:49.879095Z"
    }
   },
   "outputs": [
    {
     "data": {
      "text/html": [
       "<div>\n",
       "<style scoped>\n",
       "    .dataframe tbody tr th:only-of-type {\n",
       "        vertical-align: middle;\n",
       "    }\n",
       "\n",
       "    .dataframe tbody tr th {\n",
       "        vertical-align: top;\n",
       "    }\n",
       "\n",
       "    .dataframe thead th {\n",
       "        text-align: right;\n",
       "    }\n",
       "</style>\n",
       "<table border=\"1\" class=\"dataframe\">\n",
       "  <thead>\n",
       "    <tr style=\"text-align: right;\">\n",
       "      <th></th>\n",
       "      <th>text</th>\n",
       "      <th>start</th>\n",
       "      <th>duration</th>\n",
       "    </tr>\n",
       "  </thead>\n",
       "  <tbody>\n",
       "    <tr>\n",
       "      <th>1200</th>\n",
       "      <td>there will be a Q&amp;A there will be course</td>\n",
       "      <td>3013.579</td>\n",
       "      <td>4.740</td>\n",
       "    </tr>\n",
       "    <tr>\n",
       "      <th>1201</th>\n",
       "      <td>logistics some of the slides will be put</td>\n",
       "      <td>3015.680</td>\n",
       "      <td>4.919</td>\n",
       "    </tr>\n",
       "    <tr>\n",
       "      <th>1202</th>\n",
       "      <td>up in there make use of that there will</td>\n",
       "      <td>3018.319</td>\n",
       "      <td>4.800</td>\n",
       "    </tr>\n",
       "    <tr>\n",
       "      <th>1203</th>\n",
       "      <td>be announcements about time changing for</td>\n",
       "      <td>3020.599</td>\n",
       "      <td>4.951</td>\n",
       "    </tr>\n",
       "    <tr>\n",
       "      <th>1204</th>\n",
       "      <td>office hours and things like that make</td>\n",
       "      <td>3023.119</td>\n",
       "      <td>4.561</td>\n",
       "    </tr>\n",
       "  </tbody>\n",
       "</table>\n",
       "</div>"
      ],
      "text/plain": [
       "                                          text     start  duration\n",
       "1200  there will be a Q&A there will be course  3013.579     4.740\n",
       "1201  logistics some of the slides will be put  3015.680     4.919\n",
       "1202   up in there make use of that there will  3018.319     4.800\n",
       "1203  be announcements about time changing for  3020.599     4.951\n",
       "1204    office hours and things like that make  3023.119     4.561"
      ]
     },
     "execution_count": 99,
     "metadata": {},
     "output_type": "execute_result"
    }
   ],
   "source": [
    "res.generated.iloc[1200:1205]"
   ]
  },
  {
   "cell_type": "code",
   "execution_count": 100,
   "metadata": {
    "ExecuteTime": {
     "end_time": "2021-04-17T03:47:53.877899Z",
     "start_time": "2021-04-17T03:47:53.823942Z"
    }
   },
   "outputs": [
    {
     "data": {
      "text/html": [
       "<div>\n",
       "<style scoped>\n",
       "    .dataframe tbody tr th:only-of-type {\n",
       "        vertical-align: middle;\n",
       "    }\n",
       "\n",
       "    .dataframe tbody tr th {\n",
       "        vertical-align: top;\n",
       "    }\n",
       "\n",
       "    .dataframe thead th {\n",
       "        text-align: right;\n",
       "    }\n",
       "</style>\n",
       "<table border=\"1\" class=\"dataframe\">\n",
       "  <thead>\n",
       "    <tr style=\"text-align: right;\">\n",
       "      <th></th>\n",
       "      <th>text</th>\n",
       "      <th>start</th>\n",
       "      <th>duration</th>\n",
       "    </tr>\n",
       "  </thead>\n",
       "  <tbody>\n",
       "    <tr>\n",
       "      <th>1200</th>\n",
       "      <td>the class before\\nhere is humongous,</td>\n",
       "      <td>3095.74</td>\n",
       "      <td>2.39</td>\n",
       "    </tr>\n",
       "    <tr>\n",
       "      <th>1201</th>\n",
       "      <td>and thus we have the\\nimpossible problem</td>\n",
       "      <td>3098.13</td>\n",
       "      <td>2.21</td>\n",
       "    </tr>\n",
       "    <tr>\n",
       "      <th>1202</th>\n",
       "      <td>of a lot of people\\ntrying to get out</td>\n",
       "      <td>3100.34</td>\n",
       "      <td>1.77</td>\n",
       "    </tr>\n",
       "    <tr>\n",
       "      <th>1203</th>\n",
       "      <td>of that while a lot of people\\nare trying to g...</td>\n",
       "      <td>3102.11</td>\n",
       "      <td>2.48</td>\n",
       "    </tr>\n",
       "    <tr>\n",
       "      <th>1204</th>\n",
       "      <td>It might work best for everybody\\nto come in f...</td>\n",
       "      <td>3104.59</td>\n",
       "      <td>2.95</td>\n",
       "    </tr>\n",
       "  </tbody>\n",
       "</table>\n",
       "</div>"
      ],
      "text/plain": [
       "                                                   text    start  duration\n",
       "1200               the class before\\nhere is humongous,  3095.74      2.39\n",
       "1201           and thus we have the\\nimpossible problem  3098.13      2.21\n",
       "1202              of a lot of people\\ntrying to get out  3100.34      1.77\n",
       "1203  of that while a lot of people\\nare trying to g...  3102.11      2.48\n",
       "1204  It might work best for everybody\\nto come in f...  3104.59      2.95"
      ]
     },
     "execution_count": 100,
     "metadata": {},
     "output_type": "execute_result"
    }
   ],
   "source": [
    "res.manual.iloc[1200:1205]"
   ]
  },
  {
   "cell_type": "code",
   "execution_count": 102,
   "metadata": {
    "ExecuteTime": {
     "end_time": "2021-04-17T03:50:22.189328Z",
     "start_time": "2021-04-17T03:50:21.843346Z"
    }
   },
   "outputs": [
    {
     "data": {
      "text/plain": [
       "<matplotlib.axes._subplots.AxesSubplot at 0x120350470>"
      ]
     },
     "execution_count": 102,
     "metadata": {},
     "output_type": "execute_result"
    },
    {
     "data": {
      "image/png": "[encoded data removed]",
      "text/plain": [
       "<Figure size 432x288 with 1 Axes>"
      ]
     },
     "metadata": {
      "needs_background": "light"
     },
     "output_type": "display_data"
    }
   ],
   "source": [
    "res.generated.duration.plot.hist()"
   ]
  },
  {
   "cell_type": "code",
   "execution_count": 103,
   "metadata": {
    "ExecuteTime": {
     "end_time": "2021-04-17T03:50:32.290770Z",
     "start_time": "2021-04-17T03:50:31.822711Z"
    }
   },
   "outputs": [
    {
     "data": {
      "text/plain": [
       "<matplotlib.axes._subplots.AxesSubplot at 0x12043df60>"
      ]
     },
     "execution_count": 103,
     "metadata": {},
     "output_type": "execute_result"
    },
    {
     "data": {
      "image/png": "[encoded data removed]",
      "text/plain": [
       "<Figure size 432x288 with 1 Axes>"
      ]
     },
     "metadata": {
      "needs_background": "light"
     },
     "output_type": "display_data"
    }
   ],
   "source": [
    "res.manual.duration.plot.hist()"
   ]
  },
  {
   "cell_type": "markdown",
   "metadata": {},
   "source": [
    "Manual transcript's durations tend to be a bit shorter."
   ]
  },
  {
   "cell_type": "code",
   "execution_count": 105,
   "metadata": {
    "ExecuteTime": {
     "end_time": "2021-04-17T03:50:56.235538Z",
     "start_time": "2021-04-17T03:50:56.168623Z"
    }
   },
   "outputs": [
    {
     "name": "stdout",
     "output_type": "stream",
     "text": [
      "was part of what a jury said led\n",
      "them to exonerate the person. A literature showing that\n",
      "a disproportionate share of female aggression comes\n",
      "around the time of menses. Next one-- there is an area of\n",
      "the brain you will know so much about over the next three\n",
      "months called the amygdala that has something\n",
      "to do with aggression and has something\n",
      "to do with fear. And you get a brain tumor\n",
      "there, and in a number of cases, you get someone who is\n",
      "uncontrollably violent. And this has also been used\n",
      "successfully in a court of law. Junk food-- any of you who are\n",
      "San Francisco history buffs\n"
     ]
    }
   ],
   "source": [
    "print(text_segment(res.manual, 300, 330))"
   ]
  },
  {
   "cell_type": "code",
   "execution_count": 106,
   "metadata": {
    "ExecuteTime": {
     "end_time": "2021-04-17T03:51:04.802604Z",
     "start_time": "2021-04-17T03:51:04.737742Z"
    }
   },
   "outputs": [
    {
     "name": "stdout",
     "output_type": "stream",
     "text": [
      "them to exonerate the person a literature showing that a disproportionate share of female aggression comes around the time of menses next one there is an area the brain you will know so much about over the next three months called the amygdala that has something to do with aggression and has something to do with fear and you get a brain tumor there and in a number of cases you get someone who is uncontrollably violent and this has also been used successfully in a court of law junk food any of you who are San\n"
     ]
    }
   ],
   "source": [
    "print(text_segment(res.generated, 300, 330))"
   ]
  },
  {
   "cell_type": "markdown",
   "metadata": {},
   "source": [
    "Not bad. These are actually aligned fairly well."
   ]
  },
  {
   "cell_type": "code",
   "execution_count": 118,
   "metadata": {
    "ExecuteTime": {
     "end_time": "2021-04-17T03:54:29.435480Z",
     "start_time": "2021-04-17T03:54:28.105318Z"
    }
   },
   "outputs": [],
   "source": [
    "gan_res = get_transcripts(gan_url)"
   ]
  },
  {
   "cell_type": "code",
   "execution_count": 120,
   "metadata": {
    "ExecuteTime": {
     "end_time": "2021-04-17T03:54:39.188577Z",
     "start_time": "2021-04-17T03:54:39.145449Z"
    }
   },
   "outputs": [
    {
     "data": {
      "text/plain": [
       "True"
      ]
     },
     "execution_count": 120,
     "metadata": {},
     "output_type": "execute_result"
    }
   ],
   "source": [
    "gan_res.manual is None"
   ]
  },
  {
   "cell_type": "code",
   "execution_count": 127,
   "metadata": {
    "ExecuteTime": {
     "end_time": "2021-04-17T04:02:42.301812Z",
     "start_time": "2021-04-17T04:02:42.224164Z"
    }
   },
   "outputs": [
    {
     "data": {
      "text/html": [
       "<div>\n",
       "<style scoped>\n",
       "    .dataframe tbody tr th:only-of-type {\n",
       "        vertical-align: middle;\n",
       "    }\n",
       "\n",
       "    .dataframe tbody tr th {\n",
       "        vertical-align: top;\n",
       "    }\n",
       "\n",
       "    .dataframe thead th {\n",
       "        text-align: right;\n",
       "    }\n",
       "</style>\n",
       "<table border=\"1\" class=\"dataframe\">\n",
       "  <thead>\n",
       "    <tr style=\"text-align: right;\">\n",
       "      <th></th>\n",
       "      <th>text</th>\n",
       "      <th>start</th>\n",
       "      <th>duration</th>\n",
       "    </tr>\n",
       "  </thead>\n",
       "  <tbody>\n",
       "    <tr>\n",
       "      <th>0</th>\n",
       "      <td>um thank you all for coming this is a</td>\n",
       "      <td>0.00</td>\n",
       "      <td>6.660</td>\n",
       "    </tr>\n",
       "    <tr>\n",
       "      <th>1</th>\n",
       "      <td>massive room so today we will have six</td>\n",
       "      <td>1.92</td>\n",
       "      <td>8.219</td>\n",
       "    </tr>\n",
       "    <tr>\n",
       "      <th>807</th>\n",
       "      <td>[Music]</td>\n",
       "      <td>1881.41</td>\n",
       "      <td>3.470</td>\n",
       "    </tr>\n",
       "    <tr>\n",
       "      <th>808</th>\n",
       "      <td>you</td>\n",
       "      <td>1882.82</td>\n",
       "      <td>2.060</td>\n",
       "    </tr>\n",
       "  </tbody>\n",
       "</table>\n",
       "</div>"
      ],
      "text/plain": [
       "                                       text    start  duration\n",
       "0     um thank you all for coming this is a     0.00     6.660\n",
       "1    massive room so today we will have six     1.92     8.219\n",
       "807                                 [Music]  1881.41     3.470\n",
       "808                                     you  1882.82     2.060"
      ]
     },
     "execution_count": 127,
     "metadata": {},
     "output_type": "execute_result"
    }
   ],
   "source": [
    "gan_res.generated.ends()"
   ]
  },
  {
   "cell_type": "code",
   "execution_count": 122,
   "metadata": {
    "ExecuteTime": {
     "end_time": "2021-04-17T04:02:11.823837Z",
     "start_time": "2021-04-17T04:02:10.062253Z"
    }
   },
   "outputs": [],
   "source": [
    "lex_url = 'https://www.youtube.com/watch?v=9EN_HoEk3KY'\n",
    "lex_res = get_transcripts(lex_url)"
   ]
  },
  {
   "cell_type": "code",
   "execution_count": 124,
   "metadata": {
    "ExecuteTime": {
     "end_time": "2021-04-17T04:02:23.775223Z",
     "start_time": "2021-04-17T04:02:23.722694Z"
    }
   },
   "outputs": [
    {
     "data": {
      "text/plain": [
       "True"
      ]
     },
     "execution_count": 124,
     "metadata": {},
     "output_type": "execute_result"
    }
   ],
   "source": [
    "lex_res.manual is None"
   ]
  },
  {
   "cell_type": "code",
   "execution_count": 126,
   "metadata": {
    "ExecuteTime": {
     "end_time": "2021-04-17T04:02:36.331661Z",
     "start_time": "2021-04-17T04:02:36.285949Z"
    }
   },
   "outputs": [
    {
     "data": {
      "text/html": [
       "<div>\n",
       "<style scoped>\n",
       "    .dataframe tbody tr th:only-of-type {\n",
       "        vertical-align: middle;\n",
       "    }\n",
       "\n",
       "    .dataframe tbody tr th {\n",
       "        vertical-align: top;\n",
       "    }\n",
       "\n",
       "    .dataframe thead th {\n",
       "        text-align: right;\n",
       "    }\n",
       "</style>\n",
       "<table border=\"1\" class=\"dataframe\">\n",
       "  <thead>\n",
       "    <tr style=\"text-align: right;\">\n",
       "      <th></th>\n",
       "      <th>text</th>\n",
       "      <th>start</th>\n",
       "      <th>duration</th>\n",
       "    </tr>\n",
       "  </thead>\n",
       "  <tbody>\n",
       "    <tr>\n",
       "      <th>0</th>\n",
       "      <td>welcome back to 6 SZ row 99 artificial</td>\n",
       "      <td>0.030</td>\n",
       "      <td>5.910</td>\n",
       "    </tr>\n",
       "    <tr>\n",
       "      <th>1</th>\n",
       "      <td>general intelligence today we have Ilya</td>\n",
       "      <td>2.939</td>\n",
       "      <td>8.881</td>\n",
       "    </tr>\n",
       "    <tr>\n",
       "      <th>1368</th>\n",
       "      <td>[Applause]</td>\n",
       "      <td>3595.130</td>\n",
       "      <td>5.139</td>\n",
       "    </tr>\n",
       "    <tr>\n",
       "      <th>1369</th>\n",
       "      <td>you</td>\n",
       "      <td>3605.800</td>\n",
       "      <td>2.060</td>\n",
       "    </tr>\n",
       "  </tbody>\n",
       "</table>\n",
       "</div>"
      ],
      "text/plain": [
       "                                         text     start  duration\n",
       "0      welcome back to 6 SZ row 99 artificial     0.030     5.910\n",
       "1     general intelligence today we have Ilya     2.939     8.881\n",
       "1368                               [Applause]  3595.130     5.139\n",
       "1369                                      you  3605.800     2.060"
      ]
     },
     "execution_count": 126,
     "metadata": {},
     "output_type": "execute_result"
    }
   ],
   "source": [
    "lex_res.generated.ends()"
   ]
  },
  {
   "cell_type": "code",
   "execution_count": 133,
   "metadata": {
    "ExecuteTime": {
     "end_time": "2021-04-17T21:21:57.760762Z",
     "start_time": "2021-04-17T21:21:56.834391Z"
    }
   },
   "outputs": [],
   "source": [
    "meta_url = 'https://www.youtube.com/watch?v=DRBREvFL19g'\n",
    "meta_res = get_transcripts(meta_url)"
   ]
  },
  {
   "cell_type": "code",
   "execution_count": 138,
   "metadata": {
    "ExecuteTime": {
     "end_time": "2021-04-17T21:22:28.162985Z",
     "start_time": "2021-04-17T21:22:28.113534Z"
    }
   },
   "outputs": [
    {
     "name": "stdout",
     "output_type": "stream",
     "text": [
      "So you need a primer here, and\n",
      "the primer is made by primase. Once primase makes a primer,\n",
      "polymerase can chug along and do it just fine. Let's check out the\n",
      "other strand. Primer here, polymerase\n",
      "chugs along. But now as this double\n",
      "helix opens up, what happens over here? The synthesis going this way. So what do I have to do here? AUDIENCE: [INAUDIBLE]. ERIC LANDER: Another primer. Need another primer. Then as it opens up more,\n",
      "what do I need? AUDIENCE: Another primer. ERIC LANDER: Another primer. So the two strands are\n",
      "experiencing very different kind of replication. In one place, one primer in the\n",
      "five prime to three prime direction is enough\n",
      "to keep going. In the other strand, as it keeps\n",
      "opening up, you gotta keep making primers. You have all these little\n",
      "fragments there. Now, those little fragments were\n",
      "discovered by Okazaki, and they are called\n",
      "Okazaki fragments. Again, I just mention\n",
      "these things. They are known to molecular\n",
      "biologists. But these little guys are\n",
      "Okazaki fragments, and they tell you that you're on\n",
      "the right track here. This is indeed how\n",
      "it's working. You can see those little\n",
      "fragments there. But now, what's the problem with\n",
      "the Okazaki fragments? They're not connected, right? The primase makes a primer. The polymerase copies the DNA,\n",
      "it bumps into the next primer, but you've got to\n",
      "connect them. So that's a problem. That's a real problem. I'll redraw that here. Here was my primer. I got a new primer over here. I got a new primer over here. Right there. Right there. They're not contiguous\n",
      "connected. The word we use for connecting\n",
      "two pieces of DNA, which is a standard English word not used\n",
      "that often is to ligate two things together. Ligature, for example,\n",
      "in music. You ligate things together. How do you think the cell deals\n",
      "with ligating these\n"
     ]
    }
   ],
   "source": [
    "print(text_segment(meta_res.manual, 600, 750))"
   ]
  },
  {
   "cell_type": "code",
   "execution_count": 160,
   "metadata": {
    "ExecuteTime": {
     "end_time": "2021-04-17T21:39:19.669161Z",
     "start_time": "2021-04-17T21:39:19.597596Z"
    }
   },
   "outputs": [
    {
     "name": "stdout",
     "output_type": "stream",
     "text": [
      "My fifth grader asked me what this passage means. I rephrased it for him, in plain language a fifth grader can understand.\n",
      "\n",
      "Passage:\n",
      "Here we show that scaling up language models greatly improves task-agnostic, few-shot performance, sometimes even reaching competitiveness with prior state-of-the-art finetuning approaches. Specifically, we train GPT-3, an autoregressive language model with 175 billion parameters, 10x more than any previous non-sparse language model, and test its performance in the few shot setting. For all tasks, GPT-3 is applied with any gradient updates or fine-tuning, with tasks and few-shot demonstrations specified purely via text interaction with the model.\n",
      "Summary:\n",
      "Larger language models can do well on new tasks they weren't trained on. We trained the biggest language model ever and tested it on new tasks, and it did really well. This model can perform new tasks without any extra training.\n",
      "\n",
      "Passage:\n",
      "Second, the potential to exploit spurious correlations in training data fundamentally grows with the expressiveness of the model and the narrowness of the training distribution. This can create problems for the pre-training plus fine-tuning paradigm, where models are designed to be large to absorb information during pre-training, but are then fine-tuned on very narrow task distributions. For instance observe that larger models do not necessarily generalize better out-of-distribution. There is evidence that suggests that the generalization achieved under this paradigm can be poor because the model is overly specific to the training distribution and does not generalize well outside it. Thus, the performance of fine-tuned models on specific benchmarks, even when it is nominally at human-level, may exaggerate actual performance on the underlying task.\n",
      "Summary:\n",
      "Big models work well on data they've see but don't always work well on new data. This problem is worse when the training dataset is small. Fine-tuning big language models on new tasks may appear to work well, but their performance may look better than it really is.\n",
      "\n",
      "Passage:\n",
      "Learning reusable feature representations from large unlabeled datasets has been an area of active research. In the context of computer vision, one can leverage the practically unlimited amount of unlabeled images and videos to learn good intermediate representations, which can then be used on a variety of supervised learning tasks such as image classification. We propose that one way to build good image representations is by training Generative Adversarial Networks (GANs), and later reusing parts of the generator and discriminator networks as feature extractors for supervised tasks. We propose and evaluate a set of constraints on the architectural topology of Convolutional GANs that make them stable to train in most settings.\n",
      "Summary:\n",
      "Learning from unlabeled data is useful because it's easy to collect large amounts. GANs use these to learn good representations of images, and parts of the trained models can be reused for other tasks. We built a new model architecture that makes them easier to train.\n",
      "\n",
      "Passage:\n",
      "Adversarial training has been shown effective at endowing the learned representations with stronger generalization ability. However, it typically requires expensive computation to determine the direction of the injected perturbations. In this paper, we introduce a set of simple yet effective data augmentation strategies dubbed cutoff, where part of the information within an input sentence is erased to yield its restricted views (during the fine-tuning stage). Notably, this process relies merely on stochastic sampling and thus adds little computational overhead. To verify the effectiveness of the proposed strategies, we apply cutoff to natural language understanding, text classification, and text generation.\n",
      "Summary:\n",
      "Adversarial training is a way to improve the generalization of learned models. We found a simple data augmentation method that helps models generalize without slowing down training. This is helpful for many natural language processing tasks.\n",
      "\n",
      "Passage:\n",
      "{}\n",
      "Summary:\n"
     ]
    }
   ],
   "source": [
    "ml = load_prompt('simplify_ml')\n",
    "print(ml)"
   ]
  },
  {
   "cell_type": "code",
   "execution_count": 167,
   "metadata": {
    "ExecuteTime": {
     "end_time": "2021-04-17T21:43:28.970114Z",
     "start_time": "2021-04-17T21:43:28.941593Z"
    }
   },
   "outputs": [],
   "source": [
    "txt = \"\"\"The problem of answering questions using knowledge from pre-trained\n",
    "language models (LMs) and knowledge graphs (KGs) presents\n",
    "two challenges: given a QA context (question\n",
    "and answer choice), methods need to (i)\n",
    "identify relevant knowledge from large KGs,\n",
    "and (ii) perform joint reasoning over the QA\n",
    "context and KG. Here we propose a new\n",
    "model which addresses the above\n",
    "challenges through two key innovations: (i)\n",
    "relevance scoring, where we use LMs to estimate the importance of KG nodes\n",
    "relative to the given QA context, and (ii) joint reasoning,\n",
    "where we connect the QA context and KG\n",
    "to form a joint graph, and mutually update\n",
    "their representations through graph-based\n",
    "message passing.\"\"\".replace('\\n', ' ')\n",
    "prompt = ml.format(txt)"
   ]
  },
  {
   "cell_type": "code",
   "execution_count": 162,
   "metadata": {
    "ExecuteTime": {
     "end_time": "2021-04-17T21:39:24.262266Z",
     "start_time": "2021-04-17T21:39:24.232561Z"
    }
   },
   "outputs": [
    {
     "name": "stdout",
     "output_type": "stream",
     "text": [
      "My fifth grader asked me what this passage means. I rephrased it for him, in plain language a fifth grader can understand.\n",
      "\n",
      "Passage:\n",
      "Here we show that scaling up language models greatly improves task-agnostic, few-shot performance, sometimes even reaching competitiveness with prior state-of-the-art finetuning approaches. Specifically, we train GPT-3, an autoregressive language model with 175 billion parameters, 10x more than any previous non-sparse language model, and test its performance in the few shot setting. For all tasks, GPT-3 is applied with any gradient updates or fine-tuning, with tasks and few-shot demonstrations specified purely via text interaction with the model.\n",
      "Summary:\n",
      "Larger language models can do well on new tasks they weren't trained on. We trained the biggest language model ever and tested it on new tasks, and it did really well. This model can perform new tasks without any extra training.\n",
      "\n",
      "Passage:\n",
      "Second, the potential to exploit spurious correlations in training data fundamentally grows with the expressiveness of the model and the narrowness of the training distribution. This can create problems for the pre-training plus fine-tuning paradigm, where models are designed to be large to absorb information during pre-training, but are then fine-tuned on very narrow task distributions. For instance observe that larger models do not necessarily generalize better out-of-distribution. There is evidence that suggests that the generalization achieved under this paradigm can be poor because the model is overly specific to the training distribution and does not generalize well outside it. Thus, the performance of fine-tuned models on specific benchmarks, even when it is nominally at human-level, may exaggerate actual performance on the underlying task.\n",
      "Summary:\n",
      "Big models work well on data they've see but don't always work well on new data. This problem is worse when the training dataset is small. Fine-tuning big language models on new tasks may appear to work well, but their performance may look better than it really is.\n",
      "\n",
      "Passage:\n",
      "Learning reusable feature representations from large unlabeled datasets has been an area of active research. In the context of computer vision, one can leverage the practically unlimited amount of unlabeled images and videos to learn good intermediate representations, which can then be used on a variety of supervised learning tasks such as image classification. We propose that one way to build good image representations is by training Generative Adversarial Networks (GANs), and later reusing parts of the generator and discriminator networks as feature extractors for supervised tasks. We propose and evaluate a set of constraints on the architectural topology of Convolutional GANs that make them stable to train in most settings.\n",
      "Summary:\n",
      "Learning from unlabeled data is useful because it's easy to collect large amounts. GANs use these to learn good representations of images, and parts of the trained models can be reused for other tasks. We built a new model architecture that makes them easier to train.\n",
      "\n",
      "Passage:\n",
      "Adversarial training has been shown effective at endowing the learned representations with stronger generalization ability. However, it typically requires expensive computation to determine the direction of the injected perturbations. In this paper, we introduce a set of simple yet effective data augmentation strategies dubbed cutoff, where part of the information within an input sentence is erased to yield its restricted views (during the fine-tuning stage). Notably, this process relies merely on stochastic sampling and thus adds little computational overhead. To verify the effectiveness of the proposed strategies, we apply cutoff to natural language understanding, text classification, and text generation.\n",
      "Summary:\n",
      "Adversarial training is a way to improve the generalization of learned models. We found a simple data augmentation method that helps models generalize without slowing down training. This is helpful for many natural language processing tasks.\n",
      "\n",
      "Passage:\n",
      "The problem of answering questions using knowledge from pre-trained  language models (LMs) and knowledge graphs (KGs) presents two challenges: given a QA context (question and answer choice), methods need to (i) identify relevant knowledge from large KGs, and (ii) perform joint reasoning over the QA context and KG. Here we propose a new model which addresses the above challenges through two key innovations: (i) relevance scoring, where we use LMs to estimate the importance of KG nodes relative to the given QA context, and (ii) joint reasoning, where we connect the QA context and KG to form a joint graph, and mutually update their representations through graph-based message passing.\n",
      "Summary:\n"
     ]
    }
   ],
   "source": [
    "print(prompt)"
   ]
  },
  {
   "cell_type": "code",
   "execution_count": 165,
   "metadata": {
    "ExecuteTime": {
     "end_time": "2021-04-17T21:42:57.802035Z",
     "start_time": "2021-04-17T21:42:54.493174Z"
    }
   },
   "outputs": [],
   "source": [
    "res = query_gpt3(prompt, engine_i=3, temperature=.3, max_tokens=100, \n",
    "                 stop='Passage:')"
   ]
  },
  {
   "cell_type": "code",
   "execution_count": 166,
   "metadata": {
    "ExecuteTime": {
     "end_time": "2021-04-17T21:42:58.494613Z",
     "start_time": "2021-04-17T21:42:58.457608Z"
    }
   },
   "outputs": [
    {
     "name": "stdout",
     "output_type": "stream",
     "text": [
      "\u001b[1mMy fifth grader asked me what this passage means. I rephrased it for him, in plain language a fifth grader can understand.\n",
      "\n",
      "Passage:\n",
      "Here we show that scaling up language models greatly improves task-agnostic, few-shot performance, sometimes even reaching competitiveness with prior state-of-the-art finetuning approaches. Specifically, we train GPT-3, an autoregressive language model with 175 billion parameters, 10x more than any previous non-sparse language model, and test its performance in the few shot setting. For all tasks, GPT-3 is applied with any gradient updates or fine-tuning, with tasks and few-shot demonstrations specified purely via text interaction with the model.\n",
      "Summary:\n",
      "Larger language models can do well on new tasks they weren't trained on. We trained the biggest language model ever and tested it on new tasks, and it did really well. This model can perform new tasks without any extra training.\n",
      "\n",
      "Passage:\n",
      "Second, the potential to exploit spurious correlations in training data fundamentally grows with the expressiveness of the model and the narrowness of the training distribution. This can create problems for the pre-training plus fine-tuning paradigm, where models are designed to be large to absorb information during pre-training, but are then fine-tuned on very narrow task distributions. For instance observe that larger models do not necessarily generalize better out-of-distribution. There is evidence that suggests that the generalization achieved under this paradigm can be poor because the model is overly specific to the training distribution and does not generalize well outside it. Thus, the performance of fine-tuned models on specific benchmarks, even when it is nominally at human-level, may exaggerate actual performance on the underlying task.\n",
      "Summary:\n",
      "Big models work well on data they've see but don't always work well on new data. This problem is worse when the training dataset is small. Fine-tuning big language models on new tasks may appear to work well, but their performance may look better than it really is.\n",
      "\n",
      "Passage:\n",
      "Learning reusable feature representations from large unlabeled datasets has been an area of active research. In the context of computer vision, one can leverage the practically unlimited amount of unlabeled images and videos to learn good intermediate representations, which can then be used on a variety of supervised learning tasks such as image classification. We propose that one way to build good image representations is by training Generative Adversarial Networks (GANs), and later reusing parts of the generator and discriminator networks as feature extractors for supervised tasks. We propose and evaluate a set of constraints on the architectural topology of Convolutional GANs that make them stable to train in most settings.\n",
      "Summary:\n",
      "Learning from unlabeled data is useful because it's easy to collect large amounts. GANs use these to learn good representations of images, and parts of the trained models can be reused for other tasks. We built a new model architecture that makes them easier to train.\n",
      "\n",
      "Passage:\n",
      "Adversarial training has been shown effective at endowing the learned representations with stronger generalization ability. However, it typically requires expensive computation to determine the direction of the injected perturbations. In this paper, we introduce a set of simple yet effective data augmentation strategies dubbed cutoff, where part of the information within an input sentence is erased to yield its restricted views (during the fine-tuning stage). Notably, this process relies merely on stochastic sampling and thus adds little computational overhead. To verify the effectiveness of the proposed strategies, we apply cutoff to natural language understanding, text classification, and text generation.\n",
      "Summary:\n",
      "Adversarial training is a way to improve the generalization of learned models. We found a simple data augmentation method that helps models generalize without slowing down training. This is helpful for many natural language processing tasks.\n",
      "\n",
      "Passage:\n",
      "The problem of answering questions using knowledge from pre-trained  language models (LMs) and knowledge graphs (KGs) presents two challenges: given a QA context (question and answer choice), methods need to (i) identify relevant knowledge from large KGs, and (ii) perform joint reasoning over the QA context and KG. Here we propose a new model which addresses the above challenges through two key innovations: (i) relevance scoring, where we use LMs to estimate the importance of KG nodes relative to the given QA context, and (ii) joint reasoning, where we connect the QA context and KG to form a joint graph, and mutually update their representations through graph-based message passing.\n",
      "Summary:\u001b[0m\n",
      "We built a new model that can answer questions using knowledge from large knowledge graphs. This model can answer questions by finding relevant knowledge from large knowledge graphs, and by using the knowledge to reason about the question.\n",
      "\n",
      "\n"
     ]
    }
   ],
   "source": [
    "print_response(*res)"
   ]
  },
  {
   "cell_type": "code",
   "execution_count": null,
   "metadata": {},
   "outputs": [],
   "source": []
  }
 ],
 "metadata": {
  "kernelspec": {
   "display_name": "Python 3",
   "language": "python",
   "name": "python3"
  },
  "language_info": {
   "codemirror_mode": {
    "name": "ipython",
    "version": 3
   },
   "file_extension": ".py",
   "mimetype": "text/x-python",
   "name": "python",
   "nbconvert_exporter": "python",
   "pygments_lexer": "ipython3",
   "version": "3.7.3"
  }
 },
 "nbformat": 4,
 "nbformat_minor": 2
}
