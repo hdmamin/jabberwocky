{
 "cells": [
  {
   "cell_type": "markdown",
   "metadata": {},
   "source": [
    "# Summary\n",
    "\n",
    "Try out openai api and test out a few utility functions for the project."
   ]
  },
  {
   "cell_type": "code",
   "execution_count": 20,
   "metadata": {
    "ExecuteTime": {
     "end_time": "2021-04-13T03:02:38.862707Z",
     "start_time": "2021-04-13T03:02:38.763915Z"
    }
   },
   "outputs": [
    {
     "name": "stdout",
     "output_type": "stream",
     "text": [
      "The autoreload extension is already loaded. To reload it, use:\n",
      "  %reload_ext autoreload\n"
     ]
    }
   ],
   "source": [
    "%load_ext autoreload\n",
    "%autoreload 2"
   ]
  },
  {
   "cell_type": "code",
   "execution_count": 21,
   "metadata": {
    "ExecuteTime": {
     "end_time": "2021-04-13T03:02:39.111333Z",
     "start_time": "2021-04-13T03:02:39.062382Z"
    }
   },
   "outputs": [],
   "source": [
    "from enum import IntEnum, Enum\n",
    "from functools import total_ordering\n",
    "import matplotlib.pyplot as plt\n",
    "from multipledispatch import dispatch\n",
    "import numpy as np\n",
    "import openai\n",
    "import os\n",
    "import pandas as pd\n",
    "from pathlib import Path\n",
    "\n",
    "from htools import *\n",
    "from jabberwocky.config import C\n",
    "from jabberwocky.utils import load_api_key, load_prompt, openai_auth, \\\n",
    "    bold, print_response"
   ]
  },
  {
   "cell_type": "code",
   "execution_count": 22,
   "metadata": {
    "ExecuteTime": {
     "end_time": "2021-04-13T03:02:40.054955Z",
     "start_time": "2021-04-13T03:02:40.018726Z"
    }
   },
   "outputs": [
    {
     "name": "stdout",
     "output_type": "stream",
     "text": [
      "Current directory: /Users/hmamin/jabberwocky\n"
     ]
    }
   ],
   "source": [
    "cd_root()"
   ]
  },
  {
   "cell_type": "code",
   "execution_count": 41,
   "metadata": {
    "ExecuteTime": {
     "end_time": "2021-04-13T03:11:33.489842Z",
     "start_time": "2021-04-13T03:11:33.452551Z"
    }
   },
   "outputs": [],
   "source": [
    "openai_auth()"
   ]
  },
  {
   "cell_type": "code",
   "execution_count": 43,
   "metadata": {
    "ExecuteTime": {
     "end_time": "2021-04-13T03:11:36.662861Z",
     "start_time": "2021-04-13T03:11:36.622979Z"
    }
   },
   "outputs": [
    {
     "data": {
      "text/plain": [
       "'ada'"
      ]
     },
     "execution_count": 43,
     "metadata": {},
     "output_type": "execute_result"
    }
   ],
   "source": [
    "C.engines[0]"
   ]
  },
  {
   "cell_type": "code",
   "execution_count": 26,
   "metadata": {
    "ExecuteTime": {
     "end_time": "2021-04-13T03:05:37.327376Z",
     "start_time": "2021-04-13T03:05:37.284230Z"
    }
   },
   "outputs": [
    {
     "data": {
      "text/plain": [
       "(0.006, 0.006)"
      ]
     },
     "execution_count": 26,
     "metadata": {},
     "output_type": "execute_result"
    }
   ],
   "source": [
    "C.prices['curie'], C.prices[2]"
   ]
  },
  {
   "cell_type": "code",
   "execution_count": 8,
   "metadata": {
    "ExecuteTime": {
     "end_time": "2021-04-11T19:38:17.433016Z",
     "start_time": "2021-04-11T19:38:17.349786Z"
    }
   },
   "outputs": [
    {
     "name": "stdout",
     "output_type": "stream",
     "text": [
      "How to change a lightbulb:\n",
      "1. Turn off the light switch. \n",
      "2. Using a cloth, push the bulb in, furn anti clockwise and remove it.\n",
      "3. Insert the new bulb and twist to find the right fit. Push it in and turn clockwise.\n",
      "4. Turn on the light to test it.\n",
      "\n",
      "How to tie a tie:\n",
      "1. Place tie around your neck.\n",
      "2. Cross the wide end over the thinner end.\n",
      "3. Run wide end under tie and pull it across again.\n",
      "4. Pull the wide end through the center.\n",
      "5. Loop through the knot.\n",
      "6. Tighten the knot.\n",
      "\n",
      "How to fry an egg:\n",
      "1. Crack the Eggs. \n",
      "2. Add the Eggs to the Pan. \n",
      "3. Cover When the Edges Turn White.\n",
      "4. Wait until it's done.\n",
      "5. Serve.\n",
      "\n",
      "How to\n"
     ]
    }
   ],
   "source": [
    "prompt = load_prompt('how_to')\n",
    "print(prompt)"
   ]
  },
  {
   "cell_type": "code",
   "execution_count": 196,
   "metadata": {
    "ExecuteTime": {
     "end_time": "2021-04-14T03:34:33.195741Z",
     "start_time": "2021-04-14T03:34:33.083756Z"
    }
   },
   "outputs": [],
   "source": [
    "def query_gpt3(prompt, engine_i=0, temperature=0.7, max_tokens=50, \n",
    "               logprobs=3, mock=False, return_full=False, **kwargs):\n",
    "    if mock:\n",
    "        response = f\"<MOCK>{' '.join(prompt.split()[-max_tokens:])}</MOCK>\"\n",
    "        assert not return_full, 'Can\\'t return full response in mock mode.'\n",
    "        \n",
    "    else:\n",
    "        res = openai.Completion.create(\n",
    "            engine=C.engines[engine_i],\n",
    "            prompt=prompt,\n",
    "            temperature=temperature,\n",
    "            max_tokens=max_tokens,\n",
    "            logprobs=logprobs,\n",
    "            **kwargs\n",
    "        )\n",
    "        response = res.choices[0].text\n",
    "    result = (prompt, response)\n",
    "    if return_full: result = (*result, res)\n",
    "    return result"
   ]
  },
  {
   "cell_type": "code",
   "execution_count": 197,
   "metadata": {
    "ExecuteTime": {
     "end_time": "2021-04-14T03:34:34.926112Z",
     "start_time": "2021-04-14T03:34:34.886203Z"
    },
    "run_control": {
     "marked": false
    }
   },
   "outputs": [
    {
     "name": "stdout",
     "output_type": "stream",
     "text": [
      "\u001b[1mInput: 3/1/20\n",
      "Output: March 1, 2020\n",
      "\n",
      "Input: 09-04-99\n",
      "Output: September 4, 1999\n",
      "\n",
      "Input: 11/01/2017\n",
      "Output: November 1, 2017\n",
      "\n",
      "Input: 04/11/21\n",
      "Output:\u001b[0m<MOCK>Input: 3/1/20 Output: March 1, 2020 Input: 09-04-99 Output: September 4, 1999 Input: 11/01/2017 Output: November 1, 2017 Input: 04/11/21 Output:</MOCK>\n"
     ]
    }
   ],
   "source": [
    "prompt, res = query_gpt3(load_prompt('short_dates'), mock=True)\n",
    "print_response(prompt, res)"
   ]
  },
  {
   "cell_type": "code",
   "execution_count": 199,
   "metadata": {
    "ExecuteTime": {
     "end_time": "2021-04-14T03:34:59.730267Z",
     "start_time": "2021-04-14T03:34:59.651659Z"
    },
    "run_control": {
     "marked": false
    }
   },
   "outputs": [
    {
     "name": "stdout",
     "output_type": "stream",
     "text": [
      "As expected, got AssertionError(Can't return full response in mock mode.).\n"
     ]
    }
   ],
   "source": [
    "with assert_raises(AssertionError):\n",
    "    query_gpt3(load_prompt('short_dates'), mock=True, return_full=True)"
   ]
  },
  {
   "cell_type": "code",
   "execution_count": 182,
   "metadata": {
    "ExecuteTime": {
     "end_time": "2021-04-14T03:30:23.242076Z",
     "start_time": "2021-04-14T03:30:21.197440Z"
    },
    "run_control": {
     "marked": false
    }
   },
   "outputs": [
    {
     "name": "stdout",
     "output_type": "stream",
     "text": [
      "\u001b[1m1+1=\u001b[0m1+1+1\n"
     ]
    }
   ],
   "source": [
    "prompt, res = query_gpt3(load_prompt('shortest'), max_tokens=5)\n",
    "print_response(prompt, res)"
   ]
  },
  {
   "cell_type": "code",
   "execution_count": 191,
   "metadata": {
    "ExecuteTime": {
     "end_time": "2021-04-14T03:32:03.538550Z",
     "start_time": "2021-04-14T03:32:03.411825Z"
    }
   },
   "outputs": [],
   "source": [
    "res = openai.Completion.create(\n",
    "            engine=C.engines[0],\n",
    "            prompt=load_prompt('shortest'),\n",
    "            max_tokens=2,\n",
    "            logprobs=3\n",
    ")"
   ]
  },
  {
   "cell_type": "code",
   "execution_count": 192,
   "metadata": {
    "ExecuteTime": {
     "end_time": "2021-04-14T03:32:06.526299Z",
     "start_time": "2021-04-14T03:32:06.482234Z"
    }
   },
   "outputs": [
    {
     "data": {
      "text/plain": [
       "dict_keys(['tokens', 'token_logprobs', 'top_logprobs', 'text_offset'])"
      ]
     },
     "execution_count": 192,
     "metadata": {},
     "output_type": "execute_result"
    }
   ],
   "source": [
    "res.choices[0].logprobs.keys()"
   ]
  },
  {
   "cell_type": "code",
   "execution_count": 193,
   "metadata": {
    "ExecuteTime": {
     "end_time": "2021-04-14T03:32:07.446182Z",
     "start_time": "2021-04-14T03:32:07.408036Z"
    }
   },
   "outputs": [
    {
     "data": {
      "text/plain": [
       "['0', '.']"
      ]
     },
     "execution_count": 193,
     "metadata": {},
     "output_type": "execute_result"
    }
   ],
   "source": [
    "res.choices[0].logprobs.tokens"
   ]
  },
  {
   "cell_type": "code",
   "execution_count": 194,
   "metadata": {
    "ExecuteTime": {
     "end_time": "2021-04-14T03:32:08.365810Z",
     "start_time": "2021-04-14T03:32:08.314538Z"
    }
   },
   "outputs": [
    {
     "data": {
      "text/plain": [
       "[-2.1797945, -0.9931051]"
      ]
     },
     "execution_count": 194,
     "metadata": {},
     "output_type": "execute_result"
    }
   ],
   "source": [
    "res.choices[0].logprobs.token_logprobs"
   ]
  },
  {
   "cell_type": "code",
   "execution_count": 195,
   "metadata": {
    "ExecuteTime": {
     "end_time": "2021-04-14T03:32:09.520590Z",
     "start_time": "2021-04-14T03:32:09.480416Z"
    }
   },
   "outputs": [
    {
     "data": {
      "text/plain": [
       "[<OpenAIObject at 0x120c40048> JSON: {\n",
       "  \"0\": -2.1797945,\n",
       "  \"1\": -1.97355,\n",
       "  \"2\": -1.8083305\n",
       "},\n",
       " <OpenAIObject at 0x120c400a0> JSON: {\n",
       "  \"\\n\": -2.8806696,\n",
       "  \",\": -2.796979,\n",
       "  \".\": -0.9931051\n",
       "}]"
      ]
     },
     "execution_count": 195,
     "metadata": {},
     "output_type": "execute_result"
    }
   ],
   "source": [
    "# list has length=num_tokens. Each item has length=logprobs (func arg).\n",
    "res.choices[0].logprobs.top_logprobs"
   ]
  },
  {
   "cell_type": "code",
   "execution_count": 168,
   "metadata": {
    "ExecuteTime": {
     "end_time": "2021-04-14T03:17:52.281496Z",
     "start_time": "2021-04-14T03:17:52.194480Z"
    }
   },
   "outputs": [
    {
     "data": {
      "text/plain": [
       "[4, 5, 6, 7, 8]"
      ]
     },
     "execution_count": 168,
     "metadata": {},
     "output_type": "execute_result"
    }
   ],
   "source": [
    "res.choices[0].logprobs.text_offset"
   ]
  },
  {
   "cell_type": "code",
   "execution_count": 212,
   "metadata": {
    "ExecuteTime": {
     "end_time": "2021-04-14T03:45:54.180391Z",
     "start_time": "2021-04-14T03:45:52.706100Z"
    }
   },
   "outputs": [
    {
     "name": "stdout",
     "output_type": "stream",
     "text": [
      " April\n",
      " 11\n",
      ",\n",
      " 2021\n",
      "\n",
      "\n",
      "\n",
      "\n",
      "Output\n",
      ":\n",
      " August\n",
      " 31\n",
      ",\n",
      " 2017\n",
      "\n",
      "\n",
      "\n",
      "\n",
      "__\n",
      "Tw\n",
      "ice\n",
      "_\n",
      "\n",
      "\n",
      "Notes\n",
      ":\n",
      "\n",
      "\n",
      "\n",
      "\n",
      "Jim\n",
      " Trin\n"
     ]
    }
   ],
   "source": [
    "for chunk in openai.Completion.create(\n",
    "    engine=C.engines[0],\n",
    "    prompt=load_prompt('short_dates'),\n",
    "    max_tokens=25,\n",
    "    stream=True\n",
    "):\n",
    "    print(chunk.choices[0].text)"
   ]
  },
  {
   "cell_type": "code",
   "execution_count": 213,
   "metadata": {
    "ExecuteTime": {
     "end_time": "2021-04-14T03:46:36.152028Z",
     "start_time": "2021-04-14T03:46:35.108540Z"
    }
   },
   "outputs": [
    {
     "data": {
      "text/plain": [
       "<OpenAIObject text_completion id=cmpl-2oQm3qC5HBXJ7DX5xqtemiHq0TS7v at 0x120c3a7d8> JSON: {\n",
       "  \"choices\": [\n",
       "    {\n",
       "      \"finish_reason\": \"length\",\n",
       "      \"index\": 0,\n",
       "      \"logprobs\": null,\n",
       "      \"text\": \" April 11, 2100\\n\\nThis product incorporates the fundamentals of the 3-Magnet principle and mechanical resonation. However\"\n",
       "    }\n",
       "  ],\n",
       "  \"created\": 1618371995,\n",
       "  \"id\": \"cmpl-2oQm3qC5HBXJ7DX5xqtemiHq0TS7v\",\n",
       "  \"model\": \"ada:2020-05-03\",\n",
       "  \"object\": \"text_completion\"\n",
       "}"
      ]
     },
     "execution_count": 213,
     "metadata": {},
     "output_type": "execute_result"
    }
   ],
   "source": [
    "openai.Completion.create(\n",
    "    engine=C.engines[0],\n",
    "    prompt=load_prompt('short_dates'),\n",
    "    max_tokens=25\n",
    ")"
   ]
  },
  {
   "cell_type": "code",
   "execution_count": 163,
   "metadata": {
    "ExecuteTime": {
     "end_time": "2021-04-11T19:34:08.967656Z",
     "start_time": "2021-04-11T19:34:06.298502Z"
    }
   },
   "outputs": [],
   "source": [
    "res = openai.Completion.create(engine=C.engines[0],\n",
    "                               prompt=prompt, temperature=.4,\n",
    "                               max_tokens=100)"
   ]
  },
  {
   "cell_type": "code",
   "execution_count": 196,
   "metadata": {
    "ExecuteTime": {
     "end_time": "2021-04-11T19:37:25.719649Z",
     "start_time": "2021-04-11T19:37:25.656105Z"
    }
   },
   "outputs": [
    {
     "name": "stdout",
     "output_type": "stream",
     "text": [
      " make a cake:\n",
      "1. Cut the Cake.\n",
      "2. Roll it out.\n",
      "3. Cut out the Design.\n",
      "4. Cut out the Cake.\n",
      "5. Roll it out again.\n",
      "6. Cut out the design.\n",
      "7. Roll it out again.\n",
      "\n",
      "How to make a cake:\n",
      "1. Cut the Cake.\n",
      "2. Roll it out.\n",
      "3. Cut out the Design.\n",
      "4. Roll it out again.\n",
      "5. Cut\n"
     ]
    }
   ],
   "source": [
    "text = res['choices'][0]['text']\n",
    "print(text)"
   ]
  },
  {
   "cell_type": "code",
   "execution_count": 197,
   "metadata": {
    "ExecuteTime": {
     "end_time": "2021-04-11T19:37:59.018905Z",
     "start_time": "2021-04-11T19:37:52.915099Z"
    }
   },
   "outputs": [],
   "source": [
    "res = openai.Completion.create(engine=C.engines[-1],\n",
    "                               prompt=prompt, temperature=.4,\n",
    "                               max_tokens=100)"
   ]
  },
  {
   "cell_type": "code",
   "execution_count": 198,
   "metadata": {
    "ExecuteTime": {
     "end_time": "2021-04-11T19:38:00.151460Z",
     "start_time": "2021-04-11T19:38:00.082805Z"
    }
   },
   "outputs": [
    {
     "name": "stdout",
     "output_type": "stream",
     "text": [
      " make a cake:\n",
      "1. Preheat the Oven.\n",
      "2. Add the Ingredients in the Right Order.\n",
      "3. Bake in the Oven.\n",
      "4. Wait until it's done.\n",
      "5. Serve.\n",
      "\n",
      "How to make a pizza:\n",
      "1. Preheat the Oven.\n",
      "2. Add the Ingredients in the Right Order.\n",
      "3. Bake in the Oven.\n",
      "4. Wait until it's done.\n",
      "5. Serve.\n",
      "\n",
      "\n"
     ]
    }
   ],
   "source": [
    "text = res['choices'][0]['text']\n",
    "print(text)"
   ]
  },
  {
   "cell_type": "code",
   "execution_count": 202,
   "metadata": {
    "ExecuteTime": {
     "end_time": "2021-04-11T19:43:22.326736Z",
     "start_time": "2021-04-11T19:43:20.905538Z"
    }
   },
   "outputs": [],
   "source": [
    "res_dates = openai.Completion.create(\n",
    "    engine=C.engines[0],\n",
    "    prompt=load_prompt('short_dates'),\n",
    "    temperature=.4,\n",
    "    max_tokens=30,\n",
    "    logprobs=10\n",
    ")"
   ]
  },
  {
   "cell_type": "code",
   "execution_count": 206,
   "metadata": {
    "ExecuteTime": {
     "end_time": "2021-04-11T19:43:54.845084Z",
     "start_time": "2021-04-11T19:43:54.765543Z"
    }
   },
   "outputs": [
    {
     "name": "stdout",
     "output_type": "stream",
     "text": [
      "Input: 3/1/20\n",
      "Output: March 1, 2020\n",
      "\n",
      "Input: 09-04-99\n",
      "Output: September 4, 1999\n",
      "\n",
      "Input: 11/01/2017\n",
      "Output: November 1, 2017\n",
      "\n",
      "Input: 04/11/21\n",
      "Output:\n",
      " November 11, 2017\n",
      "\n",
      "Input: 04/11/21\n",
      "Output: November 11, 2017\n",
      "\n",
      "Input: 04/11/21\n",
      "\n"
     ]
    }
   ],
   "source": [
    "print(load_prompt('short_dates'))\n",
    "print(res_dates['choices'][0]['text'])"
   ]
  },
  {
   "cell_type": "code",
   "execution_count": 12,
   "metadata": {},
   "outputs": [
    {
     "name": "stdout",
     "output_type": "stream",
     "text": [
      "\u001b[1mInput: 3/1/20\n",
      "Output: March 1, 2020\n",
      "\n",
      "Input: 09-04-99\n",
      "Output: September 4, 1999\n",
      "\n",
      "Input: 11/01/2017\n",
      "Output: November 1, 2017\n",
      "\n",
      "Input: 04/11/21\n",
      "Output:\u001b[0mInput: 04/11/21\n",
      "Output: November 11, 2017\n",
      "\n",
      "Input: 04/11/21\n"
     ]
    }
   ],
   "source": [
    "# Moved to test paperspace but don't want to save API credits.\n",
    "prompt = load_prompt('short_dates')\n",
    "res = \"\"\"Input: 04/11/21\n",
    "Output: November 11, 2017\n",
    "\n",
    "Input: 04/11/21\"\"\"\n",
    "print_response(prompt, res)"
   ]
  },
  {
   "cell_type": "code",
   "execution_count": 45,
   "metadata": {
    "ExecuteTime": {
     "end_time": "2021-04-13T03:11:46.084316Z",
     "start_time": "2021-04-13T03:11:43.906438Z"
    }
   },
   "outputs": [],
   "source": [
    "sensitive_txt = 'I\\'m going to kill myself.'\n",
    "sensitive_resp = openai.Completion.create(\n",
    "    engine='content-filter-alpha-c4', \n",
    "    prompt='<|end-of-text|>' + sensitive_txt + '\\n--\\nLabel:',\n",
    "    temperature=0,\n",
    "    max_tokens=1,\n",
    "    top_p=1,\n",
    "    frequency_penalty=0,\n",
    "    presence_penalty=0,\n",
    "    logprobs=10\n",
    ")"
   ]
  },
  {
   "cell_type": "code",
   "execution_count": 116,
   "metadata": {
    "ExecuteTime": {
     "end_time": "2021-04-13T03:40:59.314508Z",
     "start_time": "2021-04-13T03:40:59.258691Z"
    }
   },
   "outputs": [],
   "source": [
    "def query_content_filter(text):\n",
    "    \"\"\"Wrapper to determine if a piece of text is safe, sensitive, or unsafe.\n",
    "    Details on these categories are here:\n",
    "    https://beta.openai.com/docs/engines/content-filter\n",
    "    This endpoint is free.\n",
    "    \n",
    "    Returns\n",
    "    -------\n",
    "    tuple[int, float]: First value is predicted class, where 0 is safe,\n",
    "    1 is sensitive (politics/religion/race/suicide etc.), and 2 is unsafe \n",
    "    (profane/prejudiced/otherwise NSFW).\n",
    "    \"\"\"\n",
    "    res = openai.Completion.create(\n",
    "        engine='content-filter-alpha-c4', \n",
    "        prompt='<|end-of-text|>' + text + '\\n--\\nLabel:',\n",
    "        temperature=0,\n",
    "        max_tokens=1,\n",
    "        top_p=1,\n",
    "        frequency_penalty=0,\n",
    "        presence_penalty=0,\n",
    "        logprobs=10\n",
    "    )\n",
    "    label = res.choices[0].text\n",
    "    cls2logp = {x: res.choices[0].logprobs.top_logprobs[0]\n",
    "                      .get(x, float('-inf'))\n",
    "                for x in ['0', '1', '2']}\n",
    "    logp = cls2logp.pop(label)\n",
    "    # If model is not confident in prediction of 2, choose the next most \n",
    "    # likely class. See https://beta.openai.com/docs/engines/content-filter.\n",
    "    if label == '2' and logp < -.355 and cls2logp:\n",
    "        label, logp = max(cls2logp.items(), key=lambda x: x[-1])\n",
    "    return int(label), np.exp(logp)"
   ]
  },
  {
   "cell_type": "code",
   "execution_count": 115,
   "metadata": {
    "ExecuteTime": {
     "end_time": "2021-04-13T03:38:40.728407Z",
     "start_time": "2021-04-13T03:38:39.422271Z"
    }
   },
   "outputs": [
    {
     "data": {
      "text/plain": [
       "(1, 0.6920572815388716)"
      ]
     },
     "execution_count": 115,
     "metadata": {},
     "output_type": "execute_result"
    }
   ],
   "source": [
    "query_content_filter(sensitive_txt)"
   ]
  },
  {
   "cell_type": "markdown",
   "metadata": {},
   "source": [
    "## Scratch\n",
    "\n",
    "Experimented with more complex solutions below but these were ridiculously over-complicated for my intended use case. Just trying stuff out for fun."
   ]
  },
  {
   "cell_type": "code",
   "execution_count": 125,
   "metadata": {
    "ExecuteTime": {
     "end_time": "2021-04-11T01:42:30.436701Z",
     "start_time": "2021-04-11T01:42:30.362868Z"
    }
   },
   "outputs": [],
   "source": [
    "@total_ordering\n",
    "@auto_repr\n",
    "class Engine:\n",
    "    \n",
    "    def __init__(self, name, index, price):\n",
    "        self.name = name\n",
    "        self.index = index\n",
    "        self.price = price\n",
    "        \n",
    "    def __eq__(self, other):\n",
    "        return self.index == other.index\n",
    "    \n",
    "    def __lt__(self, other):\n",
    "        return self.index < other.index\n",
    "    \n",
    "    def __str__(self):\n",
    "        return self.name"
   ]
  },
  {
   "cell_type": "code",
   "execution_count": 126,
   "metadata": {
    "ExecuteTime": {
     "end_time": "2021-04-11T01:42:30.709968Z",
     "start_time": "2021-04-11T01:42:30.662539Z"
    }
   },
   "outputs": [],
   "source": [
    "class Engines:\n",
    "    \n",
    "#     i2eng = ['ada', 'babbage', 'curie', 'davinci']\n",
    "#     eng2price = {'ada': .0008,\n",
    "#                  'babbage': .0012,\n",
    "#                  'curie': .006,\n",
    "#                  'davinci': .06}\n",
    "    \n",
    "    i2eng = ['ada', 'babbage', 'curie', 'davinci']\n",
    "    engines = [Engine(name, i, price) for i, (name, price) in \n",
    "               enumerate(zip(i2eng, [.0008, .0012, .006, .06]))]\n",
    "    \n",
    "    @dispatch(int)\n",
    "    def __getitem__(self, i):\n",
    "        return self.i2eng[i]\n",
    "    \n",
    "    @dispatch((list, tuple))\n",
    "    def __getitem__(self, idx):\n",
    "        return [self[i] for i in idx]\n",
    "    \n",
    "#     @dispatch(int)\n",
    "#     def price(self, i):\n",
    "#         return self.eng2price[self[i]]\n",
    "    \n",
    "#     @dispatch(str)\n",
    "#     def price(self, name):\n",
    "#         return self.eng2price[name]\n",
    "    \n",
    "#     def prices(self):\n",
    "#         return self.eng2price"
   ]
  },
  {
   "cell_type": "code",
   "execution_count": 127,
   "metadata": {
    "ExecuteTime": {
     "end_time": "2021-04-11T01:42:31.192843Z",
     "start_time": "2021-04-11T01:42:31.149671Z"
    }
   },
   "outputs": [],
   "source": [
    "ENGINES = Engines()"
   ]
  },
  {
   "cell_type": "code",
   "execution_count": 128,
   "metadata": {
    "ExecuteTime": {
     "end_time": "2021-04-11T01:42:31.784606Z",
     "start_time": "2021-04-11T01:42:31.750587Z"
    }
   },
   "outputs": [
    {
     "data": {
      "text/plain": [
       "[Engine(name='ada', index=0, price=0.0008),\n",
       " Engine(name='babbage', index=1, price=0.0012),\n",
       " Engine(name='curie', index=2, price=0.006),\n",
       " Engine(name='davinci', index=3, price=0.06)]"
      ]
     },
     "execution_count": 128,
     "metadata": {},
     "output_type": "execute_result"
    }
   ],
   "source": [
    "ENGINES.engines"
   ]
  },
  {
   "cell_type": "code",
   "execution_count": 129,
   "metadata": {
    "ExecuteTime": {
     "end_time": "2021-04-11T01:42:32.489817Z",
     "start_time": "2021-04-11T01:42:32.457383Z"
    }
   },
   "outputs": [
    {
     "data": {
      "text/plain": [
       "True"
      ]
     },
     "execution_count": 129,
     "metadata": {},
     "output_type": "execute_result"
    }
   ],
   "source": [
    "ENGINES[0] < ENGINES[2]"
   ]
  },
  {
   "cell_type": "code",
   "execution_count": 130,
   "metadata": {
    "ExecuteTime": {
     "end_time": "2021-04-11T01:42:33.360029Z",
     "start_time": "2021-04-11T01:42:33.325462Z"
    }
   },
   "outputs": [
    {
     "data": {
      "text/plain": [
       "['ada', 'curie']"
      ]
     },
     "execution_count": 130,
     "metadata": {},
     "output_type": "execute_result"
    }
   ],
   "source": [
    "ENGINES[[0, 2]]"
   ]
  },
  {
   "cell_type": "code",
   "execution_count": 131,
   "metadata": {
    "ExecuteTime": {
     "end_time": "2021-04-11T01:42:34.004301Z",
     "start_time": "2021-04-11T01:42:33.964513Z"
    }
   },
   "outputs": [
    {
     "data": {
      "text/plain": [
       "['ada', 'curie']"
      ]
     },
     "execution_count": 131,
     "metadata": {},
     "output_type": "execute_result"
    }
   ],
   "source": [
    "ENGINES[0, 2]"
   ]
  },
  {
   "cell_type": "code",
   "execution_count": 132,
   "metadata": {
    "ExecuteTime": {
     "end_time": "2021-04-11T01:42:35.052831Z",
     "start_time": "2021-04-11T01:42:35.020273Z"
    }
   },
   "outputs": [
    {
     "name": "stdout",
     "output_type": "stream",
     "text": [
      "ada\n",
      "babbage\n",
      "curie\n",
      "davinci\n"
     ]
    }
   ],
   "source": [
    "for e in ENGINES:\n",
    "    print(e)"
   ]
  }
 ],
 "metadata": {
  "kernelspec": {
   "display_name": "Python 3",
   "language": "python",
   "name": "python3"
  },
  "language_info": {
   "codemirror_mode": {
    "name": "ipython",
    "version": 3
   },
   "file_extension": ".py",
   "mimetype": "text/x-python",
   "name": "python",
   "nbconvert_exporter": "python",
   "pygments_lexer": "ipython3",
   "version": "3.7.3"
  }
 },
 "nbformat": 4,
 "nbformat_minor": 2
}
