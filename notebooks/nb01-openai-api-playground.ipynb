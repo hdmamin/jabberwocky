{
 "cells": [
  {
   "cell_type": "markdown",
   "metadata": {},
   "source": [
    "# Summary\n",
    "\n",
    "Try out openai api and test out a few utility functions for the project."
   ]
  },
  {
   "cell_type": "code",
   "execution_count": 1,
   "metadata": {
    "ExecuteTime": {
     "end_time": "2021-04-11T00:58:45.047498Z",
     "start_time": "2021-04-11T00:58:45.014328Z"
    }
   },
   "outputs": [],
   "source": [
    "%load_ext autoreload\n",
    "%autoreload 2"
   ]
  },
  {
   "cell_type": "code",
   "execution_count": 114,
   "metadata": {
    "ExecuteTime": {
     "end_time": "2021-04-11T01:40:31.836004Z",
     "start_time": "2021-04-11T01:40:31.798412Z"
    }
   },
   "outputs": [],
   "source": [
    "from enum import IntEnum, Enum\n",
    "from functools import total_ordering\n",
    "import matplotlib.pyplot as plt\n",
    "from multipledispatch import dispatch\n",
    "import numpy as np\n",
    "import openai\n",
    "import os\n",
    "import pandas as pd\n",
    "from pathlib import Path\n",
    "\n",
    "from htools import *\n",
    "from jabberwocky.utils import load_api_key, ENGINES, PRICES"
   ]
  },
  {
   "cell_type": "code",
   "execution_count": 115,
   "metadata": {
    "ExecuteTime": {
     "end_time": "2021-04-11T01:40:32.962853Z",
     "start_time": "2021-04-11T01:40:32.902663Z"
    }
   },
   "outputs": [
    {
     "name": "stdout",
     "output_type": "stream",
     "text": [
      "Current directory: /Users/hmamin/jabberwocky\n"
     ]
    }
   ],
   "source": [
    "cd_root()"
   ]
  },
  {
   "cell_type": "code",
   "execution_count": 116,
   "metadata": {
    "ExecuteTime": {
     "end_time": "2021-04-11T01:40:33.743973Z",
     "start_time": "2021-04-11T01:40:33.688035Z"
    }
   },
   "outputs": [],
   "source": [
    "API_KEY = load_api_key()"
   ]
  },
  {
   "cell_type": "code",
   "execution_count": 119,
   "metadata": {
    "ExecuteTime": {
     "end_time": "2021-04-11T01:40:40.452530Z",
     "start_time": "2021-04-11T01:40:40.409503Z"
    }
   },
   "outputs": [
    {
     "data": {
      "text/plain": [
       "'ada'"
      ]
     },
     "execution_count": 119,
     "metadata": {},
     "output_type": "execute_result"
    }
   ],
   "source": [
    "ENGINES[0]"
   ]
  },
  {
   "cell_type": "code",
   "execution_count": 135,
   "metadata": {
    "ExecuteTime": {
     "end_time": "2021-04-11T01:42:59.845591Z",
     "start_time": "2021-04-11T01:42:59.816062Z"
    }
   },
   "outputs": [
    {
     "data": {
      "text/plain": [
       "(0.006, 0.006)"
      ]
     },
     "execution_count": 135,
     "metadata": {},
     "output_type": "execute_result"
    }
   ],
   "source": [
    "PRICES['curie'], PRICES[2]"
   ]
  },
  {
   "cell_type": "code",
   "execution_count": 117,
   "metadata": {
    "ExecuteTime": {
     "end_time": "2021-04-11T01:40:36.418839Z",
     "start_time": "2021-04-11T01:40:36.377240Z"
    }
   },
   "outputs": [],
   "source": [
    "engine = openai.Completion(api_key=API_KEY)"
   ]
  },
  {
   "cell_type": "markdown",
   "metadata": {},
   "source": [
    "## Scratch\n",
    "\n",
    "Experimented with more complex solutions below but these were ridiculously over-complicated for my intended use case. Just trying stuff out for fun."
   ]
  },
  {
   "cell_type": "code",
   "execution_count": 125,
   "metadata": {
    "ExecuteTime": {
     "end_time": "2021-04-11T01:42:30.436701Z",
     "start_time": "2021-04-11T01:42:30.362868Z"
    }
   },
   "outputs": [],
   "source": [
    "@total_ordering\n",
    "@auto_repr\n",
    "class Engine:\n",
    "    \n",
    "    def __init__(self, name, index, price):\n",
    "        self.name = name\n",
    "        self.index = index\n",
    "        self.price = price\n",
    "        \n",
    "    def __eq__(self, other):\n",
    "        return self.index == other.index\n",
    "    \n",
    "    def __lt__(self, other):\n",
    "        return self.index < other.index\n",
    "    \n",
    "    def __str__(self):\n",
    "        return self.name"
   ]
  },
  {
   "cell_type": "code",
   "execution_count": 126,
   "metadata": {
    "ExecuteTime": {
     "end_time": "2021-04-11T01:42:30.709968Z",
     "start_time": "2021-04-11T01:42:30.662539Z"
    }
   },
   "outputs": [],
   "source": [
    "class Engines:\n",
    "    \n",
    "#     i2eng = ['ada', 'babbage', 'curie', 'davinci']\n",
    "#     eng2price = {'ada': .0008,\n",
    "#                  'babbage': .0012,\n",
    "#                  'curie': .006,\n",
    "#                  'davinci': .06}\n",
    "    \n",
    "    i2eng = ['ada', 'babbage', 'curie', 'davinci']\n",
    "    engines = [Engine(name, i, price) for i, (name, price) in \n",
    "               enumerate(zip(i2eng, [.0008, .0012, .006, .06]))]\n",
    "    \n",
    "    @dispatch(int)\n",
    "    def __getitem__(self, i):\n",
    "        return self.i2eng[i]\n",
    "    \n",
    "    @dispatch((list, tuple))\n",
    "    def __getitem__(self, idx):\n",
    "        return [self[i] for i in idx]\n",
    "    \n",
    "#     @dispatch(int)\n",
    "#     def price(self, i):\n",
    "#         return self.eng2price[self[i]]\n",
    "    \n",
    "#     @dispatch(str)\n",
    "#     def price(self, name):\n",
    "#         return self.eng2price[name]\n",
    "    \n",
    "#     def prices(self):\n",
    "#         return self.eng2price"
   ]
  },
  {
   "cell_type": "code",
   "execution_count": 127,
   "metadata": {
    "ExecuteTime": {
     "end_time": "2021-04-11T01:42:31.192843Z",
     "start_time": "2021-04-11T01:42:31.149671Z"
    }
   },
   "outputs": [],
   "source": [
    "ENGINES = Engines()"
   ]
  },
  {
   "cell_type": "code",
   "execution_count": 128,
   "metadata": {
    "ExecuteTime": {
     "end_time": "2021-04-11T01:42:31.784606Z",
     "start_time": "2021-04-11T01:42:31.750587Z"
    }
   },
   "outputs": [
    {
     "data": {
      "text/plain": [
       "[Engine(name='ada', index=0, price=0.0008),\n",
       " Engine(name='babbage', index=1, price=0.0012),\n",
       " Engine(name='curie', index=2, price=0.006),\n",
       " Engine(name='davinci', index=3, price=0.06)]"
      ]
     },
     "execution_count": 128,
     "metadata": {},
     "output_type": "execute_result"
    }
   ],
   "source": [
    "ENGINES.engines"
   ]
  },
  {
   "cell_type": "code",
   "execution_count": 129,
   "metadata": {
    "ExecuteTime": {
     "end_time": "2021-04-11T01:42:32.489817Z",
     "start_time": "2021-04-11T01:42:32.457383Z"
    }
   },
   "outputs": [
    {
     "data": {
      "text/plain": [
       "True"
      ]
     },
     "execution_count": 129,
     "metadata": {},
     "output_type": "execute_result"
    }
   ],
   "source": [
    "ENGINES[0] < ENGINES[2]"
   ]
  },
  {
   "cell_type": "code",
   "execution_count": 130,
   "metadata": {
    "ExecuteTime": {
     "end_time": "2021-04-11T01:42:33.360029Z",
     "start_time": "2021-04-11T01:42:33.325462Z"
    }
   },
   "outputs": [
    {
     "data": {
      "text/plain": [
       "['ada', 'curie']"
      ]
     },
     "execution_count": 130,
     "metadata": {},
     "output_type": "execute_result"
    }
   ],
   "source": [
    "ENGINES[[0, 2]]"
   ]
  },
  {
   "cell_type": "code",
   "execution_count": 131,
   "metadata": {
    "ExecuteTime": {
     "end_time": "2021-04-11T01:42:34.004301Z",
     "start_time": "2021-04-11T01:42:33.964513Z"
    }
   },
   "outputs": [
    {
     "data": {
      "text/plain": [
       "['ada', 'curie']"
      ]
     },
     "execution_count": 131,
     "metadata": {},
     "output_type": "execute_result"
    }
   ],
   "source": [
    "ENGINES[0, 2]"
   ]
  },
  {
   "cell_type": "code",
   "execution_count": 132,
   "metadata": {
    "ExecuteTime": {
     "end_time": "2021-04-11T01:42:35.052831Z",
     "start_time": "2021-04-11T01:42:35.020273Z"
    }
   },
   "outputs": [
    {
     "name": "stdout",
     "output_type": "stream",
     "text": [
      "ada\n",
      "babbage\n",
      "curie\n",
      "davinci\n"
     ]
    }
   ],
   "source": [
    "for e in ENGINES:\n",
    "    print(e)"
   ]
  }
 ],
 "metadata": {
  "kernelspec": {
   "display_name": "Python 3",
   "language": "python",
   "name": "python3"
  },
  "language_info": {
   "codemirror_mode": {
    "name": "ipython",
    "version": 3
   },
   "file_extension": ".py",
   "mimetype": "text/x-python",
   "name": "python",
   "nbconvert_exporter": "python",
   "pygments_lexer": "ipython3",
   "version": "3.7.3"
  }
 },
 "nbformat": 4,
 "nbformat_minor": 2
}
