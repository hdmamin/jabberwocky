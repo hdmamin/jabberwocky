{
 "cells": [
  {
   "cell_type": "markdown",
   "metadata": {},
   "source": [
    "# Summary\n",
    "\n",
    "Try out openai api and test out a few utility functions for the project."
   ]
  },
  {
   "cell_type": "code",
   "execution_count": 20,
   "metadata": {
    "ExecuteTime": {
     "end_time": "2021-04-13T03:02:38.862707Z",
     "start_time": "2021-04-13T03:02:38.763915Z"
    }
   },
   "outputs": [
    {
     "name": "stdout",
     "output_type": "stream",
     "text": [
      "The autoreload extension is already loaded. To reload it, use:\n",
      "  %reload_ext autoreload\n"
     ]
    }
   ],
   "source": [
    "%load_ext autoreload\n",
    "%autoreload 2"
   ]
  },
  {
   "cell_type": "code",
   "execution_count": 21,
   "metadata": {
    "ExecuteTime": {
     "end_time": "2021-04-13T03:02:39.111333Z",
     "start_time": "2021-04-13T03:02:39.062382Z"
    }
   },
   "outputs": [],
   "source": [
    "from enum import IntEnum, Enum\n",
    "from functools import total_ordering\n",
    "import matplotlib.pyplot as plt\n",
    "from multipledispatch import dispatch\n",
    "import numpy as np\n",
    "import openai\n",
    "import os\n",
    "import pandas as pd\n",
    "from pathlib import Path\n",
    "\n",
    "from htools import *\n",
    "from jabberwocky.config import C\n",
    "from jabberwocky.utils import load_api_key, load_prompt, openai_auth, \\\n",
    "    bold, print_response"
   ]
  },
  {
   "cell_type": "code",
   "execution_count": 22,
   "metadata": {
    "ExecuteTime": {
     "end_time": "2021-04-13T03:02:40.054955Z",
     "start_time": "2021-04-13T03:02:40.018726Z"
    }
   },
   "outputs": [
    {
     "name": "stdout",
     "output_type": "stream",
     "text": [
      "Current directory: /Users/hmamin/jabberwocky\n"
     ]
    }
   ],
   "source": [
    "cd_root()"
   ]
  },
  {
   "cell_type": "code",
   "execution_count": 41,
   "metadata": {
    "ExecuteTime": {
     "end_time": "2021-04-13T03:11:33.489842Z",
     "start_time": "2021-04-13T03:11:33.452551Z"
    }
   },
   "outputs": [],
   "source": [
    "openai_auth()"
   ]
  },
  {
   "cell_type": "code",
   "execution_count": 43,
   "metadata": {
    "ExecuteTime": {
     "end_time": "2021-04-13T03:11:36.662861Z",
     "start_time": "2021-04-13T03:11:36.622979Z"
    }
   },
   "outputs": [
    {
     "data": {
      "text/plain": [
       "'ada'"
      ]
     },
     "execution_count": 43,
     "metadata": {},
     "output_type": "execute_result"
    }
   ],
   "source": [
    "C.engines[0]"
   ]
  },
  {
   "cell_type": "code",
   "execution_count": 26,
   "metadata": {
    "ExecuteTime": {
     "end_time": "2021-04-13T03:05:37.327376Z",
     "start_time": "2021-04-13T03:05:37.284230Z"
    }
   },
   "outputs": [
    {
     "data": {
      "text/plain": [
       "(0.006, 0.006)"
      ]
     },
     "execution_count": 26,
     "metadata": {},
     "output_type": "execute_result"
    }
   ],
   "source": [
    "C.prices['curie'], C.prices[2]"
   ]
  },
  {
   "cell_type": "code",
   "execution_count": 8,
   "metadata": {
    "ExecuteTime": {
     "end_time": "2021-04-11T19:38:17.433016Z",
     "start_time": "2021-04-11T19:38:17.349786Z"
    }
   },
   "outputs": [
    {
     "name": "stdout",
     "output_type": "stream",
     "text": [
      "How to change a lightbulb:\n",
      "1. Turn off the light switch. \n",
      "2. Using a cloth, push the bulb in, furn anti clockwise and remove it.\n",
      "3. Insert the new bulb and twist to find the right fit. Push it in and turn clockwise.\n",
      "4. Turn on the light to test it.\n",
      "\n",
      "How to tie a tie:\n",
      "1. Place tie around your neck.\n",
      "2. Cross the wide end over the thinner end.\n",
      "3. Run wide end under tie and pull it across again.\n",
      "4. Pull the wide end through the center.\n",
      "5. Loop through the knot.\n",
      "6. Tighten the knot.\n",
      "\n",
      "How to fry an egg:\n",
      "1. Crack the Eggs. \n",
      "2. Add the Eggs to the Pan. \n",
      "3. Cover When the Edges Turn White.\n",
      "4. Wait until it's done.\n",
      "5. Serve.\n",
      "\n",
      "How to\n"
     ]
    }
   ],
   "source": [
    "prompt = load_prompt('how_to')\n",
    "print(prompt)"
   ]
  },
  {
   "cell_type": "code",
   "execution_count": 153,
   "metadata": {
    "ExecuteTime": {
     "end_time": "2021-04-13T04:03:15.780428Z",
     "start_time": "2021-04-13T04:03:15.705453Z"
    }
   },
   "outputs": [],
   "source": [
    "def query_gpt3(prompt, engine_i=0, temperature=0.7, max_tokens=50, \n",
    "               logprobs=3, mock=False, **kwargs):\n",
    "    if mock:\n",
    "        return '<MOCK>' + ' '.join(prompt.split()[-max_tokens:]) + '</MOCK>'\n",
    "    res = openai.Completion.create(\n",
    "        engine=C.engines[engine_i],\n",
    "        prompt=prompt,\n",
    "        temperature=temperature,\n",
    "        max_tokens=max_tokens,\n",
    "        logprobs=logprobs,\n",
    "        **kwargs\n",
    "    )\n",
    "    # TODO: figure out what to return (what to do about logprobs?)\n",
    "    return res, res.choices[0].text"
   ]
  },
  {
   "cell_type": "code",
   "execution_count": 154,
   "metadata": {
    "ExecuteTime": {
     "end_time": "2021-04-13T04:03:16.177383Z",
     "start_time": "2021-04-13T04:03:16.137169Z"
    }
   },
   "outputs": [
    {
     "data": {
      "text/plain": [
       "'<MOCK>Input: 3/1/20 Output: March 1, 2020 Input: 09-04-99 Output: September 4, 1999 Input: 11/01/2017 Output: November 1, 2017 Input: 04/11/21 Output:</MOCK>'"
      ]
     },
     "execution_count": 154,
     "metadata": {},
     "output_type": "execute_result"
    }
   ],
   "source": [
    "# res, text = \n",
    "query_gpt3(load_prompt('short_dates'), mock=True)"
   ]
  },
  {
   "cell_type": "code",
   "execution_count": 126,
   "metadata": {
    "ExecuteTime": {
     "end_time": "2021-04-13T03:54:27.581114Z",
     "start_time": "2021-04-13T03:54:27.501855Z"
    }
   },
   "outputs": [
    {
     "name": "stdout",
     "output_type": "stream",
     "text": [
      " November 11, 2017\n",
      "\n",
      "Input: 09/25/22\n",
      "Output: September 25, 2017\n",
      "\n",
      "Input: 05/07/23\n",
      "Output: May 7, 2018\n",
      "\n",
      "Input: 12/18/29\n",
      "Output: February 18\n"
     ]
    }
   ],
   "source": [
    "print(text)"
   ]
  },
  {
   "cell_type": "code",
   "execution_count": 145,
   "metadata": {
    "ExecuteTime": {
     "end_time": "2021-04-13T03:57:27.368853Z",
     "start_time": "2021-04-13T03:57:27.300314Z"
    }
   },
   "outputs": [
    {
     "data": {
      "text/plain": [
       "[(' November', -0.91182953),\n",
       " (' 11', -0.13010749),\n",
       " (',', -0.011717963),\n",
       " (' 2017', -0.7044595),\n",
       " ('\\n', -0.09376717),\n",
       " ('\\n', -0.07376648),\n",
       " ('Input', -0.2312145),\n",
       " (':', -0.00809512),\n",
       " (' 09', -2.6386774),\n",
       " ('/', -0.16320924),\n",
       " ('25', -3.823998),\n",
       " ('/', -0.010530671),\n",
       " ('22', -3.178068),\n",
       " ('\\n', -0.022007989),\n",
       " ('Output', -0.053815383),\n",
       " (':', -0.0014988222),\n",
       " (' September', -0.7938273),\n",
       " (' 25', -0.04676999),\n",
       " (',', -0.0053353934),\n",
       " (' 2017', -0.9754968),\n",
       " ('\\n', -0.064693555),\n",
       " ('\\n', -0.060031462),\n",
       " ('Input', -0.20693709),\n",
       " (':', -0.0063874256),\n",
       " (' 05', -2.7446625),\n",
       " ('/', -0.011502205),\n",
       " ('07', -3.5464058),\n",
       " ('/', -0.0055869846),\n",
       " ('23', -0.4102455),\n",
       " ('\\n', -0.010846776),\n",
       " ('Output', -0.039312214),\n",
       " (':', -0.0011452552),\n",
       " (' May', -0.34696928),\n",
       " (' 7', -0.09478703),\n",
       " (',', -0.0046168054),\n",
       " (' 2018', -0.47485164),\n",
       " ('\\n', -0.06269102),\n",
       " ('\\n', -0.05785082),\n",
       " ('Input', -0.28975904),\n",
       " (':', -0.0064514945),\n",
       " (' 12', -2.6183612),\n",
       " ('/', -0.0096223075),\n",
       " ('18', -3.4610615),\n",
       " ('/', -0.003823817),\n",
       " ('29', -4.4417586),\n",
       " ('\\n', -0.015871562),\n",
       " ('Output', -0.120677136),\n",
       " (':', -0.0012529118),\n",
       " (' February', -4.70235),\n",
       " (' 18', -0.11773417)]"
      ]
     },
     "execution_count": 145,
     "metadata": {},
     "output_type": "execute_result"
    }
   ],
   "source": [
    "list(zip(res.choices[0].logprobs.tokens, res.choices[0].logprobs.token_logprobs))"
   ]
  },
  {
   "cell_type": "code",
   "execution_count": 131,
   "metadata": {
    "ExecuteTime": {
     "end_time": "2021-04-13T03:55:23.444701Z",
     "start_time": "2021-04-13T03:55:23.336286Z"
    }
   },
   "outputs": [
    {
     "data": {
      "text/plain": [
       "[-0.91182953,\n",
       " -0.13010749,\n",
       " -0.011717963,\n",
       " -0.7044595,\n",
       " -0.09376717,\n",
       " -0.07376648,\n",
       " -0.2312145,\n",
       " -0.00809512,\n",
       " -2.6386774,\n",
       " -0.16320924,\n",
       " -3.823998,\n",
       " -0.010530671,\n",
       " -3.178068,\n",
       " -0.022007989,\n",
       " -0.053815383,\n",
       " -0.0014988222,\n",
       " -0.7938273,\n",
       " -0.04676999,\n",
       " -0.0053353934,\n",
       " -0.9754968,\n",
       " -0.064693555,\n",
       " -0.060031462,\n",
       " -0.20693709,\n",
       " -0.0063874256,\n",
       " -2.7446625,\n",
       " -0.011502205,\n",
       " -3.5464058,\n",
       " -0.0055869846,\n",
       " -0.4102455,\n",
       " -0.010846776,\n",
       " -0.039312214,\n",
       " -0.0011452552,\n",
       " -0.34696928,\n",
       " -0.09478703,\n",
       " -0.0046168054,\n",
       " -0.47485164,\n",
       " -0.06269102,\n",
       " -0.05785082,\n",
       " -0.28975904,\n",
       " -0.0064514945,\n",
       " -2.6183612,\n",
       " -0.0096223075,\n",
       " -3.4610615,\n",
       " -0.003823817,\n",
       " -4.4417586,\n",
       " -0.015871562,\n",
       " -0.120677136,\n",
       " -0.0012529118,\n",
       " -4.70235,\n",
       " -0.11773417]"
      ]
     },
     "execution_count": 131,
     "metadata": {},
     "output_type": "execute_result"
    }
   ],
   "source": [
    "res.choices[0].logprobs.token_logprobs"
   ]
  },
  {
   "cell_type": "code",
   "execution_count": 163,
   "metadata": {
    "ExecuteTime": {
     "end_time": "2021-04-11T19:34:08.967656Z",
     "start_time": "2021-04-11T19:34:06.298502Z"
    }
   },
   "outputs": [],
   "source": [
    "res = openai.Completion.create(engine=C.engines[0],\n",
    "                               prompt=prompt, temperature=.4,\n",
    "                               max_tokens=100)"
   ]
  },
  {
   "cell_type": "code",
   "execution_count": 196,
   "metadata": {
    "ExecuteTime": {
     "end_time": "2021-04-11T19:37:25.719649Z",
     "start_time": "2021-04-11T19:37:25.656105Z"
    }
   },
   "outputs": [
    {
     "name": "stdout",
     "output_type": "stream",
     "text": [
      " make a cake:\n",
      "1. Cut the Cake.\n",
      "2. Roll it out.\n",
      "3. Cut out the Design.\n",
      "4. Cut out the Cake.\n",
      "5. Roll it out again.\n",
      "6. Cut out the design.\n",
      "7. Roll it out again.\n",
      "\n",
      "How to make a cake:\n",
      "1. Cut the Cake.\n",
      "2. Roll it out.\n",
      "3. Cut out the Design.\n",
      "4. Roll it out again.\n",
      "5. Cut\n"
     ]
    }
   ],
   "source": [
    "text = res['choices'][0]['text']\n",
    "print(text)"
   ]
  },
  {
   "cell_type": "code",
   "execution_count": 197,
   "metadata": {
    "ExecuteTime": {
     "end_time": "2021-04-11T19:37:59.018905Z",
     "start_time": "2021-04-11T19:37:52.915099Z"
    }
   },
   "outputs": [],
   "source": [
    "res = openai.Completion.create(engine=C.engines[-1],\n",
    "                               prompt=prompt, temperature=.4,\n",
    "                               max_tokens=100)"
   ]
  },
  {
   "cell_type": "code",
   "execution_count": 198,
   "metadata": {
    "ExecuteTime": {
     "end_time": "2021-04-11T19:38:00.151460Z",
     "start_time": "2021-04-11T19:38:00.082805Z"
    }
   },
   "outputs": [
    {
     "name": "stdout",
     "output_type": "stream",
     "text": [
      " make a cake:\n",
      "1. Preheat the Oven.\n",
      "2. Add the Ingredients in the Right Order.\n",
      "3. Bake in the Oven.\n",
      "4. Wait until it's done.\n",
      "5. Serve.\n",
      "\n",
      "How to make a pizza:\n",
      "1. Preheat the Oven.\n",
      "2. Add the Ingredients in the Right Order.\n",
      "3. Bake in the Oven.\n",
      "4. Wait until it's done.\n",
      "5. Serve.\n",
      "\n",
      "\n"
     ]
    }
   ],
   "source": [
    "text = res['choices'][0]['text']\n",
    "print(text)"
   ]
  },
  {
   "cell_type": "code",
   "execution_count": 202,
   "metadata": {
    "ExecuteTime": {
     "end_time": "2021-04-11T19:43:22.326736Z",
     "start_time": "2021-04-11T19:43:20.905538Z"
    }
   },
   "outputs": [],
   "source": [
    "res_dates = openai.Completion.create(\n",
    "    engine=C.engines[0],\n",
    "    prompt=load_prompt('short_dates'),\n",
    "    temperature=.4,\n",
    "    max_tokens=30,\n",
    "    logprobs=10\n",
    ")"
   ]
  },
  {
   "cell_type": "code",
   "execution_count": 206,
   "metadata": {
    "ExecuteTime": {
     "end_time": "2021-04-11T19:43:54.845084Z",
     "start_time": "2021-04-11T19:43:54.765543Z"
    }
   },
   "outputs": [
    {
     "name": "stdout",
     "output_type": "stream",
     "text": [
      "Input: 3/1/20\n",
      "Output: March 1, 2020\n",
      "\n",
      "Input: 09-04-99\n",
      "Output: September 4, 1999\n",
      "\n",
      "Input: 11/01/2017\n",
      "Output: November 1, 2017\n",
      "\n",
      "Input: 04/11/21\n",
      "Output:\n",
      " November 11, 2017\n",
      "\n",
      "Input: 04/11/21\n",
      "Output: November 11, 2017\n",
      "\n",
      "Input: 04/11/21\n",
      "\n"
     ]
    }
   ],
   "source": [
    "print(load_prompt('short_dates'))\n",
    "print(res_dates['choices'][0]['text'])"
   ]
  },
  {
   "cell_type": "code",
   "execution_count": 12,
   "metadata": {},
   "outputs": [
    {
     "name": "stdout",
     "output_type": "stream",
     "text": [
      "\u001b[1mInput: 3/1/20\n",
      "Output: March 1, 2020\n",
      "\n",
      "Input: 09-04-99\n",
      "Output: September 4, 1999\n",
      "\n",
      "Input: 11/01/2017\n",
      "Output: November 1, 2017\n",
      "\n",
      "Input: 04/11/21\n",
      "Output:\u001b[0mInput: 04/11/21\n",
      "Output: November 11, 2017\n",
      "\n",
      "Input: 04/11/21\n"
     ]
    }
   ],
   "source": [
    "# Moved to test paperspace but don't want to save API credits.\n",
    "prompt = load_prompt('short_dates')\n",
    "res = \"\"\"Input: 04/11/21\n",
    "Output: November 11, 2017\n",
    "\n",
    "Input: 04/11/21\"\"\"\n",
    "print_response(prompt, res)"
   ]
  },
  {
   "cell_type": "code",
   "execution_count": 45,
   "metadata": {
    "ExecuteTime": {
     "end_time": "2021-04-13T03:11:46.084316Z",
     "start_time": "2021-04-13T03:11:43.906438Z"
    }
   },
   "outputs": [],
   "source": [
    "sensitive_txt = 'I\\'m going to kill myself.'\n",
    "sensitive_resp = openai.Completion.create(\n",
    "    engine='content-filter-alpha-c4', \n",
    "    prompt='<|end-of-text|>' + sensitive_txt + '\\n--\\nLabel:',\n",
    "    temperature=0,\n",
    "    max_tokens=1,\n",
    "    top_p=1,\n",
    "    frequency_penalty=0,\n",
    "    presence_penalty=0,\n",
    "    logprobs=10\n",
    ")"
   ]
  },
  {
   "cell_type": "code",
   "execution_count": 116,
   "metadata": {
    "ExecuteTime": {
     "end_time": "2021-04-13T03:40:59.314508Z",
     "start_time": "2021-04-13T03:40:59.258691Z"
    }
   },
   "outputs": [],
   "source": [
    "def query_content_filter(text):\n",
    "    \"\"\"Wrapper to determine if a piece of text is safe, sensitive, or unsafe.\n",
    "    Details on these categories are here:\n",
    "    https://beta.openai.com/docs/engines/content-filter\n",
    "    This endpoint is free.\n",
    "    \n",
    "    Returns\n",
    "    -------\n",
    "    tuple[int, float]: First value is predicted class, where 0 is safe,\n",
    "    1 is sensitive (politics/religion/race/suicide etc.), and 2 is unsafe \n",
    "    (profane/prejudiced/otherwise NSFW).\n",
    "    \"\"\"\n",
    "    res = openai.Completion.create(\n",
    "        engine='content-filter-alpha-c4', \n",
    "        prompt='<|end-of-text|>' + text + '\\n--\\nLabel:',\n",
    "        temperature=0,\n",
    "        max_tokens=1,\n",
    "        top_p=1,\n",
    "        frequency_penalty=0,\n",
    "        presence_penalty=0,\n",
    "        logprobs=10\n",
    "    )\n",
    "    label = res.choices[0].text\n",
    "    cls2logp = {x: res.choices[0].logprobs.top_logprobs[0]\n",
    "                      .get(x, float('-inf'))\n",
    "                for x in ['0', '1', '2']}\n",
    "    logp = cls2logp.pop(label)\n",
    "    # If model is not confident in prediction of 2, choose the next most \n",
    "    # likely class. See https://beta.openai.com/docs/engines/content-filter.\n",
    "    if label == '2' and logp < -.355 and cls2logp:\n",
    "        label, logp = max(cls2logp.items(), key=lambda x: x[-1])\n",
    "    return int(label), np.exp(logp)"
   ]
  },
  {
   "cell_type": "code",
   "execution_count": 115,
   "metadata": {
    "ExecuteTime": {
     "end_time": "2021-04-13T03:38:40.728407Z",
     "start_time": "2021-04-13T03:38:39.422271Z"
    }
   },
   "outputs": [
    {
     "data": {
      "text/plain": [
       "(1, 0.6920572815388716)"
      ]
     },
     "execution_count": 115,
     "metadata": {},
     "output_type": "execute_result"
    }
   ],
   "source": [
    "query_content_filter(sensitive_txt)"
   ]
  },
  {
   "cell_type": "markdown",
   "metadata": {},
   "source": [
    "## Scratch\n",
    "\n",
    "Experimented with more complex solutions below but these were ridiculously over-complicated for my intended use case. Just trying stuff out for fun."
   ]
  },
  {
   "cell_type": "code",
   "execution_count": 125,
   "metadata": {
    "ExecuteTime": {
     "end_time": "2021-04-11T01:42:30.436701Z",
     "start_time": "2021-04-11T01:42:30.362868Z"
    }
   },
   "outputs": [],
   "source": [
    "@total_ordering\n",
    "@auto_repr\n",
    "class Engine:\n",
    "    \n",
    "    def __init__(self, name, index, price):\n",
    "        self.name = name\n",
    "        self.index = index\n",
    "        self.price = price\n",
    "        \n",
    "    def __eq__(self, other):\n",
    "        return self.index == other.index\n",
    "    \n",
    "    def __lt__(self, other):\n",
    "        return self.index < other.index\n",
    "    \n",
    "    def __str__(self):\n",
    "        return self.name"
   ]
  },
  {
   "cell_type": "code",
   "execution_count": 126,
   "metadata": {
    "ExecuteTime": {
     "end_time": "2021-04-11T01:42:30.709968Z",
     "start_time": "2021-04-11T01:42:30.662539Z"
    }
   },
   "outputs": [],
   "source": [
    "class Engines:\n",
    "    \n",
    "#     i2eng = ['ada', 'babbage', 'curie', 'davinci']\n",
    "#     eng2price = {'ada': .0008,\n",
    "#                  'babbage': .0012,\n",
    "#                  'curie': .006,\n",
    "#                  'davinci': .06}\n",
    "    \n",
    "    i2eng = ['ada', 'babbage', 'curie', 'davinci']\n",
    "    engines = [Engine(name, i, price) for i, (name, price) in \n",
    "               enumerate(zip(i2eng, [.0008, .0012, .006, .06]))]\n",
    "    \n",
    "    @dispatch(int)\n",
    "    def __getitem__(self, i):\n",
    "        return self.i2eng[i]\n",
    "    \n",
    "    @dispatch((list, tuple))\n",
    "    def __getitem__(self, idx):\n",
    "        return [self[i] for i in idx]\n",
    "    \n",
    "#     @dispatch(int)\n",
    "#     def price(self, i):\n",
    "#         return self.eng2price[self[i]]\n",
    "    \n",
    "#     @dispatch(str)\n",
    "#     def price(self, name):\n",
    "#         return self.eng2price[name]\n",
    "    \n",
    "#     def prices(self):\n",
    "#         return self.eng2price"
   ]
  },
  {
   "cell_type": "code",
   "execution_count": 127,
   "metadata": {
    "ExecuteTime": {
     "end_time": "2021-04-11T01:42:31.192843Z",
     "start_time": "2021-04-11T01:42:31.149671Z"
    }
   },
   "outputs": [],
   "source": [
    "ENGINES = Engines()"
   ]
  },
  {
   "cell_type": "code",
   "execution_count": 128,
   "metadata": {
    "ExecuteTime": {
     "end_time": "2021-04-11T01:42:31.784606Z",
     "start_time": "2021-04-11T01:42:31.750587Z"
    }
   },
   "outputs": [
    {
     "data": {
      "text/plain": [
       "[Engine(name='ada', index=0, price=0.0008),\n",
       " Engine(name='babbage', index=1, price=0.0012),\n",
       " Engine(name='curie', index=2, price=0.006),\n",
       " Engine(name='davinci', index=3, price=0.06)]"
      ]
     },
     "execution_count": 128,
     "metadata": {},
     "output_type": "execute_result"
    }
   ],
   "source": [
    "ENGINES.engines"
   ]
  },
  {
   "cell_type": "code",
   "execution_count": 129,
   "metadata": {
    "ExecuteTime": {
     "end_time": "2021-04-11T01:42:32.489817Z",
     "start_time": "2021-04-11T01:42:32.457383Z"
    }
   },
   "outputs": [
    {
     "data": {
      "text/plain": [
       "True"
      ]
     },
     "execution_count": 129,
     "metadata": {},
     "output_type": "execute_result"
    }
   ],
   "source": [
    "ENGINES[0] < ENGINES[2]"
   ]
  },
  {
   "cell_type": "code",
   "execution_count": 130,
   "metadata": {
    "ExecuteTime": {
     "end_time": "2021-04-11T01:42:33.360029Z",
     "start_time": "2021-04-11T01:42:33.325462Z"
    }
   },
   "outputs": [
    {
     "data": {
      "text/plain": [
       "['ada', 'curie']"
      ]
     },
     "execution_count": 130,
     "metadata": {},
     "output_type": "execute_result"
    }
   ],
   "source": [
    "ENGINES[[0, 2]]"
   ]
  },
  {
   "cell_type": "code",
   "execution_count": 131,
   "metadata": {
    "ExecuteTime": {
     "end_time": "2021-04-11T01:42:34.004301Z",
     "start_time": "2021-04-11T01:42:33.964513Z"
    }
   },
   "outputs": [
    {
     "data": {
      "text/plain": [
       "['ada', 'curie']"
      ]
     },
     "execution_count": 131,
     "metadata": {},
     "output_type": "execute_result"
    }
   ],
   "source": [
    "ENGINES[0, 2]"
   ]
  },
  {
   "cell_type": "code",
   "execution_count": 132,
   "metadata": {
    "ExecuteTime": {
     "end_time": "2021-04-11T01:42:35.052831Z",
     "start_time": "2021-04-11T01:42:35.020273Z"
    }
   },
   "outputs": [
    {
     "name": "stdout",
     "output_type": "stream",
     "text": [
      "ada\n",
      "babbage\n",
      "curie\n",
      "davinci\n"
     ]
    }
   ],
   "source": [
    "for e in ENGINES:\n",
    "    print(e)"
   ]
  }
 ],
 "metadata": {
  "kernelspec": {
   "display_name": "Python 3",
   "language": "python",
   "name": "python3"
  },
  "language_info": {
   "codemirror_mode": {
    "name": "ipython",
    "version": 3
   },
   "file_extension": ".py",
   "mimetype": "text/x-python",
   "name": "python",
   "nbconvert_exporter": "python",
   "pygments_lexer": "ipython3",
   "version": "3.7.3"
  }
 },
 "nbformat": 4,
 "nbformat_minor": 2
}
