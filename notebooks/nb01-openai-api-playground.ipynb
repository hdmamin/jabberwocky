{
 "cells": [
  {
   "cell_type": "markdown",
   "metadata": {},
   "source": [
    "# Summary\n",
    "\n",
    "Try out openai api and test out a few utility functions for the project."
   ]
  },
  {
   "cell_type": "code",
   "execution_count": 1,
   "metadata": {
    "ExecuteTime": {
     "end_time": "2021-04-11T19:54:23.259973Z",
     "start_time": "2021-04-11T19:54:23.230475Z"
    }
   },
   "outputs": [],
   "source": [
    "%load_ext autoreload\n",
    "%autoreload 2"
   ]
  },
  {
   "cell_type": "code",
   "execution_count": 10,
   "metadata": {
    "ExecuteTime": {
     "end_time": "2021-04-11T19:55:21.874665Z",
     "start_time": "2021-04-11T19:55:21.833702Z"
    }
   },
   "outputs": [],
   "source": [
    "from enum import IntEnum, Enum\n",
    "from functools import total_ordering\n",
    "import matplotlib.pyplot as plt\n",
    "from multipledispatch import dispatch\n",
    "import numpy as np\n",
    "import openai\n",
    "import os\n",
    "import pandas as pd\n",
    "from pathlib import Path\n",
    "\n",
    "from htools import *\n",
    "from jabberwocky.config import C\n",
    "from jabberwocky.utils import load_api_key, load_prompt, openai_auth, \\\n",
    "    bold, print_response"
   ]
  },
  {
   "cell_type": "code",
   "execution_count": 3,
   "metadata": {
    "ExecuteTime": {
     "end_time": "2021-04-11T19:54:26.066025Z",
     "start_time": "2021-04-11T19:54:25.991104Z"
    }
   },
   "outputs": [
    {
     "name": "stdout",
     "output_type": "stream",
     "text": [
      "Current directory: /storage/jabberwocky\n"
     ]
    }
   ],
   "source": [
    "cd_root()"
   ]
  },
  {
   "cell_type": "code",
   "execution_count": 4,
   "metadata": {
    "ExecuteTime": {
     "end_time": "2021-04-11T19:54:27.706398Z",
     "start_time": "2021-04-11T19:54:27.662725Z"
    }
   },
   "outputs": [],
   "source": [
    "openai_auth()"
   ]
  },
  {
   "cell_type": "code",
   "execution_count": 6,
   "metadata": {
    "ExecuteTime": {
     "end_time": "2021-04-11T19:55:23.337545Z",
     "start_time": "2021-04-11T19:55:23.293063Z"
    }
   },
   "outputs": [
    {
     "data": {
      "text/plain": [
       "'ada'"
      ]
     },
     "execution_count": 6,
     "metadata": {},
     "output_type": "execute_result"
    }
   ],
   "source": [
    "C.engines[0]"
   ]
  },
  {
   "cell_type": "code",
   "execution_count": 7,
   "metadata": {
    "ExecuteTime": {
     "end_time": "2021-04-11T19:55:41.422065Z",
     "start_time": "2021-04-11T19:55:41.322479Z"
    }
   },
   "outputs": [
    {
     "data": {
      "text/plain": [
       "(0.006, 0.006)"
      ]
     },
     "execution_count": 7,
     "metadata": {},
     "output_type": "execute_result"
    }
   ],
   "source": [
    "C.prices['curie'], C.prices[2]"
   ]
  },
  {
   "cell_type": "code",
   "execution_count": 8,
   "metadata": {
    "ExecuteTime": {
     "end_time": "2021-04-11T19:38:17.433016Z",
     "start_time": "2021-04-11T19:38:17.349786Z"
    }
   },
   "outputs": [
    {
     "name": "stdout",
     "output_type": "stream",
     "text": [
      "How to change a lightbulb:\n",
      "1. Turn off the light switch. \n",
      "2. Using a cloth, push the bulb in, furn anti clockwise and remove it.\n",
      "3. Insert the new bulb and twist to find the right fit. Push it in and turn clockwise.\n",
      "4. Turn on the light to test it.\n",
      "\n",
      "How to tie a tie:\n",
      "1. Place tie around your neck.\n",
      "2. Cross the wide end over the thinner end.\n",
      "3. Run wide end under tie and pull it across again.\n",
      "4. Pull the wide end through the center.\n",
      "5. Loop through the knot.\n",
      "6. Tighten the knot.\n",
      "\n",
      "How to fry an egg:\n",
      "1. Crack the Eggs. \n",
      "2. Add the Eggs to the Pan. \n",
      "3. Cover When the Edges Turn White.\n",
      "4. Wait until it's done.\n",
      "5. Serve.\n",
      "\n",
      "How to\n"
     ]
    }
   ],
   "source": [
    "prompt = load_prompt('how_to')\n",
    "print(prompt)"
   ]
  },
  {
   "cell_type": "code",
   "execution_count": 147,
   "metadata": {
    "ExecuteTime": {
     "end_time": "2021-04-11T19:28:47.466115Z",
     "start_time": "2021-04-11T19:28:47.398953Z"
    }
   },
   "outputs": [],
   "source": [
    "openai.api_key = load_api_key()"
   ]
  },
  {
   "cell_type": "code",
   "execution_count": 163,
   "metadata": {
    "ExecuteTime": {
     "end_time": "2021-04-11T19:34:08.967656Z",
     "start_time": "2021-04-11T19:34:06.298502Z"
    }
   },
   "outputs": [],
   "source": [
    "res = openai.Completion.create(engine=C.engines[0],\n",
    "                               prompt=prompt, temperature=.4,\n",
    "                               max_tokens=100)"
   ]
  },
  {
   "cell_type": "code",
   "execution_count": 196,
   "metadata": {
    "ExecuteTime": {
     "end_time": "2021-04-11T19:37:25.719649Z",
     "start_time": "2021-04-11T19:37:25.656105Z"
    }
   },
   "outputs": [
    {
     "name": "stdout",
     "output_type": "stream",
     "text": [
      " make a cake:\n",
      "1. Cut the Cake.\n",
      "2. Roll it out.\n",
      "3. Cut out the Design.\n",
      "4. Cut out the Cake.\n",
      "5. Roll it out again.\n",
      "6. Cut out the design.\n",
      "7. Roll it out again.\n",
      "\n",
      "How to make a cake:\n",
      "1. Cut the Cake.\n",
      "2. Roll it out.\n",
      "3. Cut out the Design.\n",
      "4. Roll it out again.\n",
      "5. Cut\n"
     ]
    }
   ],
   "source": [
    "text = res['choices'][0]['text']\n",
    "print(text)"
   ]
  },
  {
   "cell_type": "code",
   "execution_count": 197,
   "metadata": {
    "ExecuteTime": {
     "end_time": "2021-04-11T19:37:59.018905Z",
     "start_time": "2021-04-11T19:37:52.915099Z"
    }
   },
   "outputs": [],
   "source": [
    "res = openai.Completion.create(engine=C.engines[-1],\n",
    "                               prompt=prompt, temperature=.4,\n",
    "                               max_tokens=100)"
   ]
  },
  {
   "cell_type": "code",
   "execution_count": 198,
   "metadata": {
    "ExecuteTime": {
     "end_time": "2021-04-11T19:38:00.151460Z",
     "start_time": "2021-04-11T19:38:00.082805Z"
    }
   },
   "outputs": [
    {
     "name": "stdout",
     "output_type": "stream",
     "text": [
      " make a cake:\n",
      "1. Preheat the Oven.\n",
      "2. Add the Ingredients in the Right Order.\n",
      "3. Bake in the Oven.\n",
      "4. Wait until it's done.\n",
      "5. Serve.\n",
      "\n",
      "How to make a pizza:\n",
      "1. Preheat the Oven.\n",
      "2. Add the Ingredients in the Right Order.\n",
      "3. Bake in the Oven.\n",
      "4. Wait until it's done.\n",
      "5. Serve.\n",
      "\n",
      "\n"
     ]
    }
   ],
   "source": [
    "text = res['choices'][0]['text']\n",
    "print(text)"
   ]
  },
  {
   "cell_type": "code",
   "execution_count": 202,
   "metadata": {
    "ExecuteTime": {
     "end_time": "2021-04-11T19:43:22.326736Z",
     "start_time": "2021-04-11T19:43:20.905538Z"
    }
   },
   "outputs": [],
   "source": [
    "res_dates = openai.Completion.create(\n",
    "    engine=C.engines[0],\n",
    "    prompt=load_prompt('short_dates'),\n",
    "    temperature=.4,\n",
    "    max_tokens=30,\n",
    "    logprobs=10\n",
    ")"
   ]
  },
  {
   "cell_type": "code",
   "execution_count": 206,
   "metadata": {
    "ExecuteTime": {
     "end_time": "2021-04-11T19:43:54.845084Z",
     "start_time": "2021-04-11T19:43:54.765543Z"
    }
   },
   "outputs": [
    {
     "name": "stdout",
     "output_type": "stream",
     "text": [
      "Input: 3/1/20\n",
      "Output: March 1, 2020\n",
      "\n",
      "Input: 09-04-99\n",
      "Output: September 4, 1999\n",
      "\n",
      "Input: 11/01/2017\n",
      "Output: November 1, 2017\n",
      "\n",
      "Input: 04/11/21\n",
      "Output:\n",
      " November 11, 2017\n",
      "\n",
      "Input: 04/11/21\n",
      "Output: November 11, 2017\n",
      "\n",
      "Input: 04/11/21\n",
      "\n"
     ]
    }
   ],
   "source": [
    "print(load_prompt('short_dates'))\n",
    "print(res_dates['choices'][0]['text'])"
   ]
  },
  {
   "cell_type": "code",
   "execution_count": 12,
   "metadata": {},
   "outputs": [
    {
     "name": "stdout",
     "output_type": "stream",
     "text": [
      "\u001b[1mInput: 3/1/20\n",
      "Output: March 1, 2020\n",
      "\n",
      "Input: 09-04-99\n",
      "Output: September 4, 1999\n",
      "\n",
      "Input: 11/01/2017\n",
      "Output: November 1, 2017\n",
      "\n",
      "Input: 04/11/21\n",
      "Output:\u001b[0mInput: 04/11/21\n",
      "Output: November 11, 2017\n",
      "\n",
      "Input: 04/11/21\n"
     ]
    }
   ],
   "source": [
    "# Moved to test paperspace but don't want to save API credits.\n",
    "prompt = load_prompt('short_dates')\n",
    "res = \"\"\"Input: 04/11/21\n",
    "Output: November 11, 2017\n",
    "\n",
    "Input: 04/11/21\"\"\"\n",
    "print_response(prompt, res)"
   ]
  },
  {
   "cell_type": "markdown",
   "metadata": {},
   "source": [
    "## Scratch\n",
    "\n",
    "Experimented with more complex solutions below but these were ridiculously over-complicated for my intended use case. Just trying stuff out for fun."
   ]
  },
  {
   "cell_type": "code",
   "execution_count": 125,
   "metadata": {
    "ExecuteTime": {
     "end_time": "2021-04-11T01:42:30.436701Z",
     "start_time": "2021-04-11T01:42:30.362868Z"
    }
   },
   "outputs": [],
   "source": [
    "@total_ordering\n",
    "@auto_repr\n",
    "class Engine:\n",
    "    \n",
    "    def __init__(self, name, index, price):\n",
    "        self.name = name\n",
    "        self.index = index\n",
    "        self.price = price\n",
    "        \n",
    "    def __eq__(self, other):\n",
    "        return self.index == other.index\n",
    "    \n",
    "    def __lt__(self, other):\n",
    "        return self.index < other.index\n",
    "    \n",
    "    def __str__(self):\n",
    "        return self.name"
   ]
  },
  {
   "cell_type": "code",
   "execution_count": 126,
   "metadata": {
    "ExecuteTime": {
     "end_time": "2021-04-11T01:42:30.709968Z",
     "start_time": "2021-04-11T01:42:30.662539Z"
    }
   },
   "outputs": [],
   "source": [
    "class Engines:\n",
    "    \n",
    "#     i2eng = ['ada', 'babbage', 'curie', 'davinci']\n",
    "#     eng2price = {'ada': .0008,\n",
    "#                  'babbage': .0012,\n",
    "#                  'curie': .006,\n",
    "#                  'davinci': .06}\n",
    "    \n",
    "    i2eng = ['ada', 'babbage', 'curie', 'davinci']\n",
    "    engines = [Engine(name, i, price) for i, (name, price) in \n",
    "               enumerate(zip(i2eng, [.0008, .0012, .006, .06]))]\n",
    "    \n",
    "    @dispatch(int)\n",
    "    def __getitem__(self, i):\n",
    "        return self.i2eng[i]\n",
    "    \n",
    "    @dispatch((list, tuple))\n",
    "    def __getitem__(self, idx):\n",
    "        return [self[i] for i in idx]\n",
    "    \n",
    "#     @dispatch(int)\n",
    "#     def price(self, i):\n",
    "#         return self.eng2price[self[i]]\n",
    "    \n",
    "#     @dispatch(str)\n",
    "#     def price(self, name):\n",
    "#         return self.eng2price[name]\n",
    "    \n",
    "#     def prices(self):\n",
    "#         return self.eng2price"
   ]
  },
  {
   "cell_type": "code",
   "execution_count": 127,
   "metadata": {
    "ExecuteTime": {
     "end_time": "2021-04-11T01:42:31.192843Z",
     "start_time": "2021-04-11T01:42:31.149671Z"
    }
   },
   "outputs": [],
   "source": [
    "ENGINES = Engines()"
   ]
  },
  {
   "cell_type": "code",
   "execution_count": 128,
   "metadata": {
    "ExecuteTime": {
     "end_time": "2021-04-11T01:42:31.784606Z",
     "start_time": "2021-04-11T01:42:31.750587Z"
    }
   },
   "outputs": [
    {
     "data": {
      "text/plain": [
       "[Engine(name='ada', index=0, price=0.0008),\n",
       " Engine(name='babbage', index=1, price=0.0012),\n",
       " Engine(name='curie', index=2, price=0.006),\n",
       " Engine(name='davinci', index=3, price=0.06)]"
      ]
     },
     "execution_count": 128,
     "metadata": {},
     "output_type": "execute_result"
    }
   ],
   "source": [
    "ENGINES.engines"
   ]
  },
  {
   "cell_type": "code",
   "execution_count": 129,
   "metadata": {
    "ExecuteTime": {
     "end_time": "2021-04-11T01:42:32.489817Z",
     "start_time": "2021-04-11T01:42:32.457383Z"
    }
   },
   "outputs": [
    {
     "data": {
      "text/plain": [
       "True"
      ]
     },
     "execution_count": 129,
     "metadata": {},
     "output_type": "execute_result"
    }
   ],
   "source": [
    "ENGINES[0] < ENGINES[2]"
   ]
  },
  {
   "cell_type": "code",
   "execution_count": 130,
   "metadata": {
    "ExecuteTime": {
     "end_time": "2021-04-11T01:42:33.360029Z",
     "start_time": "2021-04-11T01:42:33.325462Z"
    }
   },
   "outputs": [
    {
     "data": {
      "text/plain": [
       "['ada', 'curie']"
      ]
     },
     "execution_count": 130,
     "metadata": {},
     "output_type": "execute_result"
    }
   ],
   "source": [
    "ENGINES[[0, 2]]"
   ]
  },
  {
   "cell_type": "code",
   "execution_count": 131,
   "metadata": {
    "ExecuteTime": {
     "end_time": "2021-04-11T01:42:34.004301Z",
     "start_time": "2021-04-11T01:42:33.964513Z"
    }
   },
   "outputs": [
    {
     "data": {
      "text/plain": [
       "['ada', 'curie']"
      ]
     },
     "execution_count": 131,
     "metadata": {},
     "output_type": "execute_result"
    }
   ],
   "source": [
    "ENGINES[0, 2]"
   ]
  },
  {
   "cell_type": "code",
   "execution_count": 132,
   "metadata": {
    "ExecuteTime": {
     "end_time": "2021-04-11T01:42:35.052831Z",
     "start_time": "2021-04-11T01:42:35.020273Z"
    }
   },
   "outputs": [
    {
     "name": "stdout",
     "output_type": "stream",
     "text": [
      "ada\n",
      "babbage\n",
      "curie\n",
      "davinci\n"
     ]
    }
   ],
   "source": [
    "for e in ENGINES:\n",
    "    print(e)"
   ]
  }
 ],
 "metadata": {
  "kernelspec": {
   "display_name": "Python 3",
   "language": "python",
   "name": "python3"
  },
  "language_info": {
   "codemirror_mode": {
    "name": "ipython",
    "version": 3
   },
   "file_extension": ".py",
   "mimetype": "text/x-python",
   "name": "python",
   "nbconvert_exporter": "python",
   "pygments_lexer": "ipython3",
   "version": "3.8.6"
  }
 },
 "nbformat": 4,
 "nbformat_minor": 2
}
