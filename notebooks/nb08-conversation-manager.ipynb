{
 "cells": [
  {
   "cell_type": "markdown",
   "metadata": {},
   "source": [
    "# Summary\n",
    "\n",
    "Trying to figure out how ConversationManager will work. Having a hard time planning this out so I'm thinking it may be best to try one approach to building it, see what issues arise, and then it will be easier to fix them. Start by trying to subclass PromptManager."
   ]
  },
  {
   "cell_type": "code",
   "execution_count": 1,
   "metadata": {
    "ExecuteTime": {
     "end_time": "2021-06-20T20:15:11.199653Z",
     "start_time": "2021-06-20T20:15:11.160589Z"
    }
   },
   "outputs": [
    {
     "name": "stdout",
     "output_type": "stream",
     "text": [
      "The autoreload extension is already loaded. To reload it, use:\n",
      "  %reload_ext autoreload\n"
     ]
    }
   ],
   "source": [
    "%load_ext autoreload\n",
    "%autoreload 2"
   ]
  },
  {
   "cell_type": "code",
   "execution_count": 27,
   "metadata": {
    "ExecuteTime": {
     "end_time": "2021-06-20T20:48:36.363864Z",
     "start_time": "2021-06-20T20:48:36.215932Z"
    }
   },
   "outputs": [],
   "source": [
    "import matplotlib.pyplot as plt\n",
    "import numpy as np\n",
    "import os\n",
    "import pandas as pd\n",
    "from pathlib import Path\n",
    "\n",
    "from jabberwocky.config import C\n",
    "from jabberwocky.external_data import wiki_data\n",
    "from jabberwocky.openai_utils import load_prompt, load_openai_api_key, \\\n",
    "    PromptManager, print_response\n",
    "from htools import *"
   ]
  },
  {
   "cell_type": "code",
   "execution_count": 3,
   "metadata": {
    "ExecuteTime": {
     "end_time": "2021-06-20T20:15:14.165964Z",
     "start_time": "2021-06-20T20:15:14.102768Z"
    }
   },
   "outputs": [
    {
     "name": "stdout",
     "output_type": "stream",
     "text": [
      "Current directory: /Users/hmamin/jabberwocky\n"
     ]
    }
   ],
   "source": [
    "cd_root()"
   ]
  },
  {
   "cell_type": "code",
   "execution_count": 4,
   "metadata": {
    "ExecuteTime": {
     "end_time": "2021-06-20T20:15:14.210509Z",
     "start_time": "2021-06-20T20:15:14.168155Z"
    }
   },
   "outputs": [],
   "source": [
    "@auto_repr\n",
    "class ConversationManager(PromptManager):\n",
    "    \n",
    "    def __init__(self, verbose=True, log_dir='data/logs'):\n",
    "        super().__init__('conversation', verbose=verbose, log_dir=log_dir)\n",
    "        \n",
    "    def query(self, text, debug=False, extra_kwargs=None, **kwargs):\n",
    "        # TODO: reconsider later but trying to simplify things for now.\n",
    "        assert not extra_kwargs or \\\n",
    "            all(arg not in extra_kwargs for arg in ('stream', 'return_full'))\n",
    "        assert all (arg not in kwargs for arg in ('stream', 'return_full'))\n",
    "        \n",
    "        prompt, resp = super().query('conversation', text, debug=debug, \n",
    "                                     extra_kwargs=extra_kwargs, **kwargs)\n",
    "        return prompt, resp"
   ]
  },
  {
   "cell_type": "code",
   "execution_count": 5,
   "metadata": {
    "ExecuteTime": {
     "end_time": "2021-06-20T20:15:14.257825Z",
     "start_time": "2021-06-20T20:15:14.212823Z"
    }
   },
   "outputs": [
    {
     "name": "stdout",
     "output_type": "stream",
     "text": [
      "conversation: Your message must start with 'Hi {name}.'. Might want to try tweaking frequency penalty.\n",
      "-------------------------------------------------------------------------------\n",
      "\n"
     ]
    },
    {
     "data": {
      "text/plain": [
       "ConversationManager(verbose=True, log_dir='data/logs')"
      ]
     },
     "execution_count": 5,
     "metadata": {},
     "output_type": "execute_result"
    }
   ],
   "source": [
    "conv = ConversationManager()\n",
    "conv"
   ]
  },
  {
   "cell_type": "code",
   "execution_count": 6,
   "metadata": {
    "ExecuteTime": {
     "end_time": "2021-06-20T20:15:15.230750Z",
     "start_time": "2021-06-20T20:15:15.171299Z"
    }
   },
   "outputs": [
    {
     "data": {
      "text/plain": [
       "{'conversation': {'engine_i': 3,\n",
       "  'frequency_penalty': 0.1,\n",
       "  'max_tokens': 250,\n",
       "  'prompt': 'This is a conversation with {name}. {summary}\\n\\nMe: {message}\\n\\n{name}:',\n",
       "  'stop': ['Me:', 'This is a conversation with'],\n",
       "  'temperature': 0.5}}"
      ]
     },
     "execution_count": 6,
     "metadata": {},
     "output_type": "execute_result"
    }
   ],
   "source": [
    "conv.prompts"
   ]
  },
  {
   "cell_type": "code",
   "execution_count": 7,
   "metadata": {
    "ExecuteTime": {
     "end_time": "2021-06-20T20:16:16.577375Z",
     "start_time": "2021-06-20T20:15:15.872844Z"
    }
   },
   "outputs": [
    {
     "name": "stdout",
     "output_type": "stream",
     "text": [
      "Writing data to data/logs/query_kwargs.json.\n"
     ]
    }
   ],
   "source": [
    "txt = 'Hi Michael Jordan. Who are some athletes from other sports who you ' \\\n",
    "      'most respect, and why?'\n",
    "prompt, resp = conv.query(txt)"
   ]
  },
  {
   "cell_type": "code",
   "execution_count": 10,
   "metadata": {
    "ExecuteTime": {
     "end_time": "2021-06-20T20:16:53.149844Z",
     "start_time": "2021-06-20T20:16:53.102306Z"
    }
   },
   "outputs": [
    {
     "name": "stdout",
     "output_type": "stream",
     "text": [
      "\u001b[1mThis is a conversation with Michael Jordan. Michael Jeffrey Jordan (born February 17, 1963), also known by his initials MJ, is an American businessman and former professional basketball player. He is the principal owner and chairman of the Charlotte Hornets of the National Basketball Association (NBA) and of 23XI Racing in the NASCAR Cup Series. He played 15 seasons in the NBA, winning six championships with the Chicago Bulls. His biography on the official NBA website states: \"By acclamation, Michael Jordan is the greatest basketball player of all time.\" He was integral in helping to popularize the NBA around the world in the 1980s and 1990s, becoming a global cultural icon in the process.Jordan played college basketball for three seasons under coach Dean Smith with the North Carolina Tar Heels. As a freshman, he was a member of the Tar Heels' national championship team in 1982. Jordan joined the Bulls in 1984 as the third overall draft pick, and quickly emerged as a league star, entertaining crowds with his prolific scoring while gaining a reputation as one of the game's best defensive players. His leaping ability, demonstrated by performing slam dunks from the free throw line in Slam Dunk Contests, earned him the nicknames \"Air Jordan\" and \"His Airness\". Jordan won his first NBA championship with the Bulls in 1991, and followed that achievement with titles in 1992 and 1993, securing a \"three-peat\". Jordan abruptly retired from basketball before the 1993–94 NBA season to play Minor League Baseball but returned to the Bulls in March 1995 and led them to three more championships in 1996, 1997, and 1998 as well as a then-record 72 regular season wins in the 1995–96 NBA season. He retired for a second time in January 1999 but returned for two more NBA seasons from 2001 to 2003 as a member of the Washington Wizards.\n",
      "\n",
      "Me: Hi Michael Jordan. Who are some athletes from other sports who you most respect, and why?\n",
      "\n",
      "Michael Jordan:\u001b[0mI’ve always been a big fan of Muhammad Ali. He’s a great athlete. He’s a great person. He’s a great leader. He’s got a great personality. He’s got a lot of great qualities that I admire.\n"
     ]
    }
   ],
   "source": [
    "print_response(prompt, resp)"
   ]
  },
  {
   "cell_type": "code",
   "execution_count": 14,
   "metadata": {
    "ExecuteTime": {
     "end_time": "2021-06-20T20:19:33.481022Z",
     "start_time": "2021-06-20T20:19:33.395674Z"
    }
   },
   "outputs": [
    {
     "data": {
      "text/plain": [
       "{'engine_i': 3,\n",
       " 'frequency_penalty': 0.1,\n",
       " 'logprobs': None,\n",
       " 'max_tokens': 250,\n",
       " 'mock': False,\n",
       " 'mock_func': None,\n",
       " 'mock_mode': 'raise',\n",
       " 'return_full': False,\n",
       " 'stop': ['Me:', 'This is a conversation with'],\n",
       " 'stream': False,\n",
       " 'strip_output': True,\n",
       " 'temperature': 0.5}"
      ]
     },
     "execution_count": 14,
     "metadata": {},
     "output_type": "execute_result"
    }
   ],
   "source": [
    "conv.kwargs('conversation')"
   ]
  },
  {
   "cell_type": "code",
   "execution_count": 13,
   "metadata": {
    "ExecuteTime": {
     "end_time": "2021-06-20T20:18:01.333567Z",
     "start_time": "2021-06-20T20:18:01.249776Z"
    }
   },
   "outputs": [
    {
     "data": {
      "text/plain": [
       "<Signature (task, fully_resolved=True, return_prompt=False, extra_kwargs=None, **kwargs)>"
      ]
     },
     "execution_count": 13,
     "metadata": {},
     "output_type": "execute_result"
    }
   ],
   "source": [
    "# Minor Issue: kwargs method expects 'task' param but I'd like that to be \n",
    "# automatic. But if we create some sort of partial method there then \n",
    "# PromptManager.query() will break.\n",
    "inspect.signature(conv.kwargs)"
   ]
  },
  {
   "cell_type": "markdown",
   "metadata": {},
   "source": [
    "First task  \n",
    "- construct person-specific prompt  \n",
    "base_prompt = \"This is a conversation with {Michael Jordan}. {wiki bio}\"\n",
    "\n",
    "Second task  \n",
    "- query w/ user text  \n",
    "GET gpt3_response  \n",
    "UPDATE running_prompt := base_prompt + 'Me: {user_input}' + gpt3_response  \n",
    "RETURN running_prompt"
   ]
  },
  {
   "cell_type": "code",
   "execution_count": 32,
   "metadata": {
    "ExecuteTime": {
     "end_time": "2021-06-20T21:09:58.180602Z",
     "start_time": "2021-06-20T21:09:58.063038Z"
    }
   },
   "outputs": [],
   "source": [
    "class ConversationManager:\n",
    "    img_exts = {'.jpg', '.jpeg', '.png'}\n",
    "    \n",
    "    def __init__(self, verbose=True, data_dir='./data'):\n",
    "        self.verbose = verbose\n",
    "        self.data_dir = Path(data_dir)\n",
    "        self.log_dir = self.data_dir/'logs'\n",
    "        self.persona_dir = self.data_dir/'conversation_personas'\n",
    "        \n",
    "        self._kwargs = load_prompt('conv_proto')\n",
    "        self._base_prompt = self._kwargs.pop('prompt')\n",
    "        self.name2summary, self.name2img_path = self.load_personas()\n",
    "        self.name2base = {k: self._base_prompt.format(name=k, summary=v)\n",
    "                          for k, v in self.name2summary.items()}\n",
    "\n",
    "    def load_personas(self):\n",
    "        name2summary = {}\n",
    "        name2img_path = {}\n",
    "        for path in self.persona_dir.iterdir():\n",
    "            if not path.is_dir(): continue\n",
    "            name2summary[path.stem] = load(path/'summary.txt')\n",
    "            name2img_path[path.stem] = [p for p in path.iterdir() \n",
    "                                        if p.suffix in self.img_exts][0]\n",
    "        return name2summary, name2img_path\n",
    "        \n",
    "    def load_persona(self, name, download_if_necessary=False):\n",
    "        try:\n",
    "            self.name2base[self.process_name(name)]\n",
    "        except KeyError as e:\n",
    "            if not download_if_necessary:\n",
    "                raise e\n",
    "        return self.add_persona(name, return_data=True)\n",
    "        \n",
    "    def add_persona(self, name, return_data=False):\n",
    "        processed_name = self.process_name(name)\n",
    "        summary, _, img_path = wiki_data(\n",
    "            name, img_dir=self.persona_dir/processed_name, fname='profile'\n",
    "        )\n",
    "        save(summary, self.persona_dir/processed_name/'summary.txt')\n",
    "        self.name2summary[processed_name] = summary\n",
    "        self.name2img_path[processed_name] = img_path\n",
    "        self.name2base[processed_name] = self._base_prompt.format(\n",
    "            name=processed_name, summary=summary\n",
    "        )\n",
    "        if return_data: return summary, img_path\n",
    "        \n",
    "    def process_name(self, name):\n",
    "        return name.lower().replace(' ', '_')\n",
    "    \n",
    "    def __contains__(self, name):\n",
    "        return self.process_name(name) in self.name2base"
   ]
  },
  {
   "cell_type": "code",
   "execution_count": 33,
   "metadata": {
    "ExecuteTime": {
     "end_time": "2021-06-20T21:09:58.466376Z",
     "start_time": "2021-06-20T21:09:58.408819Z"
    }
   },
   "outputs": [
    {
     "name": "stdout",
     "output_type": "stream",
     "text": [
      "conv_proto: Your message must start with 'Hi {name}.'. Might want to try tweaking frequency penalty.\n",
      "-------------------------------------------------------------------------------\n",
      "\n"
     ]
    },
    {
     "data": {
      "text/plain": [
       "<__main__.ConversationManager at 0x12a7259b0>"
      ]
     },
     "execution_count": 33,
     "metadata": {},
     "output_type": "execute_result"
    }
   ],
   "source": [
    "conv = ConversationManager()\n",
    "conv"
   ]
  },
  {
   "cell_type": "code",
   "execution_count": 34,
   "metadata": {
    "ExecuteTime": {
     "end_time": "2021-06-20T21:10:54.966509Z",
     "start_time": "2021-06-20T21:10:00.577502Z"
    }
   },
   "outputs": [
    {
     "name": "stdout",
     "output_type": "stream",
     "text": [
      "Writing data to data/conversation_personas/bill_gates/summary.txt.\n"
     ]
    },
    {
     "data": {
      "text/plain": [
       "('William Henry Gates III (born October 28, 1955) is an American business magnate, software developer, investor, author, and philanthropist. He is the co-founder of Microsoft Corporation. During his career at Microsoft, Gates held the positions of chairman, chief executive officer (CEO), president and chief software architect, while also being the largest individual shareholder until May 2014. He is considered one of the best known entrepreneurs of the microcomputer revolution of the 1970s and 1980s.',\n",
       " 'data/conversation_personas/bill_gates/profile.jpg')"
      ]
     },
     "execution_count": 34,
     "metadata": {},
     "output_type": "execute_result"
    }
   ],
   "source": [
    "conv.load_persona('Bill Gates', download_if_necessary=True)"
   ]
  },
  {
   "cell_type": "code",
   "execution_count": null,
   "metadata": {},
   "outputs": [],
   "source": []
  }
 ],
 "metadata": {
  "kernelspec": {
   "display_name": "Python 3",
   "language": "python",
   "name": "python3"
  },
  "language_info": {
   "codemirror_mode": {
    "name": "ipython",
    "version": 3
   },
   "file_extension": ".py",
   "mimetype": "text/x-python",
   "name": "python",
   "nbconvert_exporter": "python",
   "pygments_lexer": "ipython3",
   "version": "3.7.3"
  }
 },
 "nbformat": 4,
 "nbformat_minor": 2
}
