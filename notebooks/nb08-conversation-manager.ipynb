{
 "cells": [
  {
   "cell_type": "markdown",
   "metadata": {},
   "source": [
    "# Summary\n",
    "\n",
    "Trying to figure out how ConversationManager will work. Having a hard time planning this out so I'm thinking it may be best to try one approach to building it, see what issues arise, and then it will be easier to fix them. Start by trying to subclass PromptManager."
   ]
  },
  {
   "cell_type": "code",
   "execution_count": 1,
   "metadata": {
    "ExecuteTime": {
     "end_time": "2021-06-20T20:15:11.199653Z",
     "start_time": "2021-06-20T20:15:11.160589Z"
    }
   },
   "outputs": [
    {
     "name": "stdout",
     "output_type": "stream",
     "text": [
      "The autoreload extension is already loaded. To reload it, use:\n",
      "  %reload_ext autoreload\n"
     ]
    }
   ],
   "source": [
    "%load_ext autoreload\n",
    "%autoreload 2"
   ]
  },
  {
   "cell_type": "code",
   "execution_count": 212,
   "metadata": {
    "ExecuteTime": {
     "end_time": "2021-06-23T02:46:58.753652Z",
     "start_time": "2021-06-23T02:46:58.664388Z"
    }
   },
   "outputs": [],
   "source": [
    "import matplotlib.pyplot as plt\n",
    "import numpy as np\n",
    "import os\n",
    "import pandas as pd\n",
    "from pathlib import Path\n",
    "import re\n",
    "\n",
    "from jabberwocky.config import C\n",
    "from jabberwocky.external_data import wiki_data, _wiki_text_cleanup\n",
    "from jabberwocky.openai_utils import load_prompt, load_openai_api_key, \\\n",
    "    PromptManager, print_response, query_gpt3\n",
    "from htools import *"
   ]
  },
  {
   "cell_type": "code",
   "execution_count": 3,
   "metadata": {
    "ExecuteTime": {
     "end_time": "2021-06-20T20:15:14.165964Z",
     "start_time": "2021-06-20T20:15:14.102768Z"
    }
   },
   "outputs": [
    {
     "name": "stdout",
     "output_type": "stream",
     "text": [
      "Current directory: /Users/hmamin/jabberwocky\n"
     ]
    }
   ],
   "source": [
    "cd_root()"
   ]
  },
  {
   "cell_type": "code",
   "execution_count": 4,
   "metadata": {
    "ExecuteTime": {
     "end_time": "2021-06-20T20:15:14.210509Z",
     "start_time": "2021-06-20T20:15:14.168155Z"
    }
   },
   "outputs": [],
   "source": [
    "@auto_repr\n",
    "class ConversationManager(PromptManager):\n",
    "    \n",
    "    def __init__(self, verbose=True, log_dir='data/logs'):\n",
    "        super().__init__('conversation', verbose=verbose, log_dir=log_dir)\n",
    "        \n",
    "    def query(self, text, debug=False, extra_kwargs=None, **kwargs):\n",
    "        # TODO: reconsider later but trying to simplify things for now.\n",
    "        assert not extra_kwargs or \\\n",
    "            all(arg not in extra_kwargs for arg in ('stream', 'return_full'))\n",
    "        assert all (arg not in kwargs for arg in ('stream', 'return_full'))\n",
    "        \n",
    "        prompt, resp = super().query('conversation', text, debug=debug, \n",
    "                                     extra_kwargs=extra_kwargs, **kwargs)\n",
    "        return prompt, resp"
   ]
  },
  {
   "cell_type": "code",
   "execution_count": 5,
   "metadata": {
    "ExecuteTime": {
     "end_time": "2021-06-20T20:15:14.257825Z",
     "start_time": "2021-06-20T20:15:14.212823Z"
    }
   },
   "outputs": [
    {
     "name": "stdout",
     "output_type": "stream",
     "text": [
      "conversation: Your message must start with 'Hi {name}.'. Might want to try tweaking frequency penalty.\n",
      "-------------------------------------------------------------------------------\n",
      "\n"
     ]
    },
    {
     "data": {
      "text/plain": [
       "ConversationManager(verbose=True, log_dir='data/logs')"
      ]
     },
     "execution_count": 5,
     "metadata": {},
     "output_type": "execute_result"
    }
   ],
   "source": [
    "conv = ConversationManager()\n",
    "conv"
   ]
  },
  {
   "cell_type": "code",
   "execution_count": 6,
   "metadata": {
    "ExecuteTime": {
     "end_time": "2021-06-20T20:15:15.230750Z",
     "start_time": "2021-06-20T20:15:15.171299Z"
    }
   },
   "outputs": [
    {
     "data": {
      "text/plain": [
       "{'conversation': {'engine_i': 3,\n",
       "  'frequency_penalty': 0.1,\n",
       "  'max_tokens': 250,\n",
       "  'prompt': 'This is a conversation with {name}. {summary}\\n\\nMe: {message}\\n\\n{name}:',\n",
       "  'stop': ['Me:', 'This is a conversation with'],\n",
       "  'temperature': 0.5}}"
      ]
     },
     "execution_count": 6,
     "metadata": {},
     "output_type": "execute_result"
    }
   ],
   "source": [
    "conv.prompts"
   ]
  },
  {
   "cell_type": "code",
   "execution_count": 7,
   "metadata": {
    "ExecuteTime": {
     "end_time": "2021-06-20T20:16:16.577375Z",
     "start_time": "2021-06-20T20:15:15.872844Z"
    }
   },
   "outputs": [
    {
     "name": "stdout",
     "output_type": "stream",
     "text": [
      "Writing data to data/logs/query_kwargs.json.\n"
     ]
    }
   ],
   "source": [
    "txt = 'Hi Michael Jordan. Who are some athletes from other sports who you ' \\\n",
    "      'most respect, and why?'\n",
    "prompt, resp = conv.query(txt)"
   ]
  },
  {
   "cell_type": "code",
   "execution_count": 10,
   "metadata": {
    "ExecuteTime": {
     "end_time": "2021-06-20T20:16:53.149844Z",
     "start_time": "2021-06-20T20:16:53.102306Z"
    }
   },
   "outputs": [
    {
     "name": "stdout",
     "output_type": "stream",
     "text": [
      "\u001b[1mThis is a conversation with Michael Jordan. Michael Jeffrey Jordan (born February 17, 1963), also known by his initials MJ, is an American businessman and former professional basketball player. He is the principal owner and chairman of the Charlotte Hornets of the National Basketball Association (NBA) and of 23XI Racing in the NASCAR Cup Series. He played 15 seasons in the NBA, winning six championships with the Chicago Bulls. His biography on the official NBA website states: \"By acclamation, Michael Jordan is the greatest basketball player of all time.\" He was integral in helping to popularize the NBA around the world in the 1980s and 1990s, becoming a global cultural icon in the process.Jordan played college basketball for three seasons under coach Dean Smith with the North Carolina Tar Heels. As a freshman, he was a member of the Tar Heels' national championship team in 1982. Jordan joined the Bulls in 1984 as the third overall draft pick, and quickly emerged as a league star, entertaining crowds with his prolific scoring while gaining a reputation as one of the game's best defensive players. His leaping ability, demonstrated by performing slam dunks from the free throw line in Slam Dunk Contests, earned him the nicknames \"Air Jordan\" and \"His Airness\". Jordan won his first NBA championship with the Bulls in 1991, and followed that achievement with titles in 1992 and 1993, securing a \"three-peat\". Jordan abruptly retired from basketball before the 1993–94 NBA season to play Minor League Baseball but returned to the Bulls in March 1995 and led them to three more championships in 1996, 1997, and 1998 as well as a then-record 72 regular season wins in the 1995–96 NBA season. He retired for a second time in January 1999 but returned for two more NBA seasons from 2001 to 2003 as a member of the Washington Wizards.\n",
      "\n",
      "Me: Hi Michael Jordan. Who are some athletes from other sports who you most respect, and why?\n",
      "\n",
      "Michael Jordan:\u001b[0mI’ve always been a big fan of Muhammad Ali. He’s a great athlete. He’s a great person. He’s a great leader. He’s got a great personality. He’s got a lot of great qualities that I admire.\n"
     ]
    }
   ],
   "source": [
    "print_response(prompt, resp)"
   ]
  },
  {
   "cell_type": "code",
   "execution_count": 14,
   "metadata": {
    "ExecuteTime": {
     "end_time": "2021-06-20T20:19:33.481022Z",
     "start_time": "2021-06-20T20:19:33.395674Z"
    }
   },
   "outputs": [
    {
     "data": {
      "text/plain": [
       "{'engine_i': 3,\n",
       " 'frequency_penalty': 0.1,\n",
       " 'logprobs': None,\n",
       " 'max_tokens': 250,\n",
       " 'mock': False,\n",
       " 'mock_func': None,\n",
       " 'mock_mode': 'raise',\n",
       " 'return_full': False,\n",
       " 'stop': ['Me:', 'This is a conversation with'],\n",
       " 'stream': False,\n",
       " 'strip_output': True,\n",
       " 'temperature': 0.5}"
      ]
     },
     "execution_count": 14,
     "metadata": {},
     "output_type": "execute_result"
    }
   ],
   "source": [
    "conv.kwargs('conversation')"
   ]
  },
  {
   "cell_type": "code",
   "execution_count": 13,
   "metadata": {
    "ExecuteTime": {
     "end_time": "2021-06-20T20:18:01.333567Z",
     "start_time": "2021-06-20T20:18:01.249776Z"
    }
   },
   "outputs": [
    {
     "data": {
      "text/plain": [
       "<Signature (task, fully_resolved=True, return_prompt=False, extra_kwargs=None, **kwargs)>"
      ]
     },
     "execution_count": 13,
     "metadata": {},
     "output_type": "execute_result"
    }
   ],
   "source": [
    "# Minor Issue: kwargs method expects 'task' param but I'd like that to be \n",
    "# automatic. But if we create some sort of partial method there then \n",
    "# PromptManager.query() will break.\n",
    "inspect.signature(conv.kwargs)"
   ]
  },
  {
   "cell_type": "markdown",
   "metadata": {},
   "source": [
    "First task  \n",
    "- construct person-specific prompt  \n",
    "base_prompt = \"This is a conversation with {Michael Jordan}. {wiki bio}\"\n",
    "\n",
    "Second task  \n",
    "- query w/ user text  \n",
    "GET gpt3_response  \n",
    "UPDATE running_prompt := base_prompt + 'Me: {user_input}' + gpt3_response  \n",
    "RETURN running_prompt"
   ]
  },
  {
   "cell_type": "code",
   "execution_count": 104,
   "metadata": {
    "ExecuteTime": {
     "end_time": "2021-06-22T03:13:42.609100Z",
     "start_time": "2021-06-22T03:13:42.549506Z"
    }
   },
   "outputs": [],
   "source": [
    "def _wiki_text_cleanup(text):\n",
    "    text = re.sub('\\[\\d*\\]', '', text)\n",
    "    match = re.search('\\(.*\\)', text)\n",
    "    if match: \n",
    "        match = match.group()\n",
    "        match_parts = [x for x in match.partition(';') if x]\n",
    "        if len(match_parts) > 1:\n",
    "            text = text.replace(match, '(' + match_parts[-1].strip())\n",
    "    return re.sub('\\s{2,}', ' ', text)"
   ]
  },
  {
   "cell_type": "code",
   "execution_count": 105,
   "metadata": {
    "ExecuteTime": {
     "end_time": "2021-06-22T03:13:42.771381Z",
     "start_time": "2021-06-22T03:13:42.716853Z"
    }
   },
   "outputs": [],
   "source": [
    "txts = [\n",
    "\"Barack Hussein Obama II (bə-RAHK hoo-SAYN oh-BAH-mə;[1] born August 4, 1961) is an American politician and attorney who served as the 44th president of the United States from 2009 to 2017. A member of the Democratic Party, Obama was the first African-American president of the United States. He previously served as a U.S. senator from Illinois from 2005 to 2008 and as an Illinois state senator from 1997 to 2004.\",\n",
    "\"Joanne Rowling ( ROH-ling;[1] born 31 July 1965), better known by her pen name J. K. Rowling, is a British author, philanthropist, film producer, television producer, and screenwriter. She is best known for writing the Harry Potter fantasy series, which has won multiple awards and sold more than 500 million copies,[2][3] becoming the best-selling book series in history.[4] The books are the basis of a popular film series, over which Rowling had overall approval on the scripts[5] and was a producer on the final films.[6] She also writes crime fiction under the pen name Robert Galbraith.\",\n",
    "\"Michael Herbert Schur[1] (born c.  1975/1976)[1] is an American television producer, writer, and character actor. He was a producer and writer for the comedy series The Office, and co-created Parks and Recreation with Office producer Greg Daniels. He created The Good Place, co-created the comedy series Brooklyn Nine-Nine and was a producer on the series Master of None. He also played Mose Schrute in The Office. In 2021, he co-created a comedy series Rutherford Falls.\"\n",
    "]"
   ]
  },
  {
   "cell_type": "code",
   "execution_count": 107,
   "metadata": {
    "ExecuteTime": {
     "end_time": "2021-06-22T03:13:48.639457Z",
     "start_time": "2021-06-22T03:13:48.582346Z"
    }
   },
   "outputs": [
    {
     "name": "stdout",
     "output_type": "stream",
     "text": [
      "Barack Hussein Obama II (born August 4, 1961) is an American politician and attorney who served as the 44th president of the United States from 2009 to 2017. A member of the Democratic Party, Obama was the first African-American president of the United States. He previously served as a U.S. senator from Illinois from 2005 to 2008 and as an Illinois state senator from 1997 to 2004.\n",
      "\n",
      "Joanne Rowling (born 31 July 1965), better known by her pen name J. K. Rowling, is a British author, philanthropist, film producer, television producer, and screenwriter. She is best known for writing the Harry Potter fantasy series, which has won multiple awards and sold more than 500 million copies, becoming the best-selling book series in history. The books are the basis of a popular film series, over which Rowling had overall approval on the scripts and was a producer on the final films. She also writes crime fiction under the pen name Robert Galbraith.\n",
      "\n",
      "Michael Herbert Schur (born c. 1975/1976) is an American television producer, writer, and character actor. He was a producer and writer for the comedy series The Office, and co-created Parks and Recreation with Office producer Greg Daniels. He created The Good Place, co-created the comedy series Brooklyn Nine-Nine and was a producer on the series Master of None. He also played Mose Schrute in The Office. In 2021, he co-created a comedy series Rutherford Falls.\n",
      "\n"
     ]
    }
   ],
   "source": [
    "for t in txts:\n",
    "    print(_wiki_text_cleanup(t))\n",
    "    print()"
   ]
  },
  {
   "cell_type": "code",
   "execution_count": 73,
   "metadata": {
    "ExecuteTime": {
     "end_time": "2021-06-22T03:03:35.424279Z",
     "start_time": "2021-06-22T03:03:35.367625Z"
    }
   },
   "outputs": [
    {
     "name": "stdout",
     "output_type": "stream",
     "text": [
      "before (born 1892; died 1900). Still\n"
     ]
    }
   ],
   "source": [
    "tmp = 'before (pronounced abc; born 1892; died 1900). Still'\n",
    "match = re.search('\\(.*\\)', tmp)\n",
    "if match: \n",
    "    match = match.group()\n",
    "    print(tmp.replace(match, '(' + match.partition(';')[-1].strip()))"
   ]
  },
  {
   "cell_type": "code",
   "execution_count": 273,
   "metadata": {
    "ExecuteTime": {
     "end_time": "2021-06-23T03:25:47.369540Z",
     "start_time": "2021-06-23T03:25:47.131118Z"
    }
   },
   "outputs": [],
   "source": [
    "class ConversationManager:\n",
    "    img_exts = {'.jpg', '.jpeg', '.png'}\n",
    "    \n",
    "    def __init__(self, verbose=True, data_dir='./data'):\n",
    "        # Set directories for data storage, logging, etc.\n",
    "        self.verbose = verbose\n",
    "        self.data_dir = Path(data_dir)\n",
    "        self.persona_dir = self.data_dir/'conversation_personas'\n",
    "        self.log_dir = self.data_dir/'logs'\n",
    "        os.makedirs(self.log_dir, exist_ok=True)\n",
    "        self.log_path = Path(self.log_dir)/'conversation_query_kwargs.json'\n",
    "        \n",
    "        # Load prompt, default query kwargs, and existing personas.\n",
    "        self._kwargs = load_prompt('conv_proto')\n",
    "        self._base_prompt = self._kwargs.pop('prompt')\n",
    "        self.name2summary, self.name2img_path = self.load_personas()\n",
    "        self.name2base = {}\n",
    "        self.name2wiki_name = {}\n",
    "        self.running_prompt = ''\n",
    "        for k, v in self.name2summary.items():\n",
    "            self.update_persona_dicts(k, v, self.name2img_path[k])\n",
    "\n",
    "    def load_personas(self):\n",
    "        name2summary = {}\n",
    "        name2img_path = {}\n",
    "        for path in self.persona_dir.iterdir():\n",
    "            if not path.is_dir(): continue\n",
    "            name2summary[path.stem] = load(path/'summary.txt')\n",
    "            name2img_path[path.stem] = [p for p in path.iterdir() \n",
    "                                        if p.suffix in self.img_exts][0]\n",
    "        return name2summary, name2img_path\n",
    "        \n",
    "    def load_persona(self, name, download_if_necessary=False):\n",
    "        processed_name = self.process_name(name)\n",
    "        try:\n",
    "            summary = self.name2summary[processed_name]\n",
    "            path = self.name2img_path[processed_name]\n",
    "        except KeyError as e:\n",
    "            if not download_if_necessary:\n",
    "                raise e\n",
    "            summary, path = self.add_persona(name, return_data=True)\n",
    "        self.running_prompt = self.name2base[processed_name]\n",
    "        return summary, path\n",
    "        \n",
    "    def add_persona(self, name, download=True, return_data=False,\n",
    "                    strict=True):\n",
    "        processed_name = self.process_name(name)\n",
    "        summary, _, img_path = wiki_data(\n",
    "            name, img_dir=self.persona_dir/processed_name, fname='profile'\n",
    "        )\n",
    "        if strict and '(born' not in summary:\n",
    "            raise ValueError('Expected summary to contain \"(born\". Summary '\n",
    "                             f'may be malformed: {summary}')\n",
    "        save(summary, self.persona_dir/processed_name/'summary.txt')\n",
    "        self.update_persona_dicts(processed_name, summary, img_path)\n",
    "        if return_data: return summary, img_path\n",
    "        \n",
    "    def update_persona_dicts(self, processed_name, summary, img_path):\n",
    "        \"\"\"Helper to update our various name2{something} dicts.\n",
    "        \"\"\"\n",
    "        self.name2wiki_name[processed_name] = self._name_from_summary(summary)\n",
    "        self.name2summary[processed_name] = summary\n",
    "        self.name2img_path[processed_name] = img_path\n",
    "        self.name2base[processed_name] = self._base_prompt.format(\n",
    "            name=self.name2wiki_name[processed_name],\n",
    "            summary=summary\n",
    "        )\n",
    "        \n",
    "    def _name_from_summary(self, summary):\n",
    "        return summary.partition('(born')[0].strip()\n",
    "        \n",
    "    def process_name(self, name, inverse=False):\n",
    "        if inverse:\n",
    "            return name.replace('_', ' ').title()\n",
    "        return name.lower().replace(' ', '_')\n",
    "    \n",
    "    def personas(self, pretty=True):\n",
    "        names = list(self.name2base)\n",
    "        if pretty: return [self.process_name(name, True) for name in names]\n",
    "        return names\n",
    "    \n",
    "    def kwargs(self, name='', fully_resolved=True, return_prompt=False, \n",
    "               extra_kwargs=None, **kwargs):\n",
    "        # Name param should be pretty version, i.e. no underscores. Only \n",
    "        # needed when return_prompt is True.\n",
    "        if 'prompt' in kwargs:\n",
    "            raise RuntimeError(\n",
    "                'Arg \"prompt\" should not be in query kwargs. It will be ' \n",
    "                'constructed within this method and passing it in will '\n",
    "                'override the new version.'\n",
    "            )\n",
    "        kwargs = {**self._kwargs, **kwargs}\n",
    "        for k, v in (extra_kwargs or {}).items():\n",
    "            v_cls = type(v)\n",
    "            # Make a new object instead of just using get() or setdefault\n",
    "            # since the latter two methods both mutate our default kwargs.\n",
    "            curr_val = v_cls(kwargs.get(k, v_cls()))\n",
    "            if isinstance(v, Iterable):\n",
    "                curr_val.extend(v)\n",
    "            elif isinstance(v, Mapping):\n",
    "                curr_val.update(v)\n",
    "            else:\n",
    "                raise TypeError(f'Key {k} has unrecognized type {v_cls} in '\n",
    "                                '`extra_kwargs`.')\n",
    "            kwargs[k] = curr_val\n",
    "\n",
    "        if fully_resolved: kwargs = dict(bound_args(query_gpt3, [], kwargs))\n",
    "        if name and return_prompt:\n",
    "            kwargs['prompt'] = self.name2base[self.process_name(name)]\n",
    "        return kwargs\n",
    "    \n",
    "    def query(self, name, text, debug=False, extra_kwargs=None, **kwargs):\n",
    "        kwargs = self.kwargs(name, fully_resolved=False, return_prompt=True,\n",
    "                             extra_kwargs=extra_kwargs, **kwargs)\n",
    "        prompt = self.format_prompt(name, kwargs.pop('prompt'), \n",
    "                                    user_text=text)\n",
    "        if debug:\n",
    "            print('prompt:\\n' + prompt)\n",
    "            print(spacer())\n",
    "            print('kwargs:\\n', kwargs)\n",
    "            print(spacer())\n",
    "            print('fully resolved kwargs:\\n',\n",
    "                  dict(bound_args(query_gpt3, [], kwargs)))\n",
    "            return\n",
    "        save({'prompt': prompt, **kwargs}, self.log_path)\n",
    "        prompt, resp = query_gpt3(prompt, **kwargs)\n",
    "        # GPT3 prefers prompts that don't end with spaces and query_gpt3()\n",
    "        # strips output, but we want a space after the colon.\n",
    "        self.running_prompt = prompt + ' ' + resp\n",
    "        return prompt, resp\n",
    "    \n",
    "    def end_conversation(self):\n",
    "        self.running_prompt = ''\n",
    "    \n",
    "    def format_prompt(self, name, prompt, user_text):\n",
    "#         return prompt + f'\\n\\nMe: {user_text.strip()}\\n\\n'\\\n",
    "#                         f'{self.name2wiki_name[name]}:'\n",
    "        return prompt + f'\\n\\nMe: {user_text.strip()}\\n\\n'\\\n",
    "                        f'{self.process_name(name, inverse=True)}:'\n",
    "    \n",
    "    def __contains__(self, name):\n",
    "        return self.process_name(name) in self.name2base"
   ]
  },
  {
   "cell_type": "code",
   "execution_count": 274,
   "metadata": {
    "ExecuteTime": {
     "end_time": "2021-06-23T03:25:47.712314Z",
     "start_time": "2021-06-23T03:25:47.658947Z"
    }
   },
   "outputs": [
    {
     "name": "stdout",
     "output_type": "stream",
     "text": [
      "conv_proto: Your message must start with 'Hi {name}.'. Might want to try tweaking frequency penalty.\n",
      "-------------------------------------------------------------------------------\n",
      "\n"
     ]
    },
    {
     "data": {
      "text/plain": [
       "<__main__.ConversationManager at 0x12a7cdd68>"
      ]
     },
     "execution_count": 274,
     "metadata": {},
     "output_type": "execute_result"
    }
   ],
   "source": [
    "conv = ConversationManager()\n",
    "conv"
   ]
  },
  {
   "cell_type": "code",
   "execution_count": 266,
   "metadata": {
    "ExecuteTime": {
     "end_time": "2021-06-23T03:19:16.339922Z",
     "start_time": "2021-06-23T03:19:14.490359Z"
    }
   },
   "outputs": [
    {
     "name": "stdout",
     "output_type": "stream",
     "text": [
      "Writing data to data/logs/conversation_query_kwargs.json.\n",
      "\u001b[1mThis is a conversation with Barack Hussein Obama II. Barack Hussein Obama II (born August 4, 1961) is an American politician and attorney who served as the 44th president of the United States from 2009 to 2017. A member of the Democratic Party, Obama was the first African-American president of the United States. He previously served as a U.S. senator from Illinois from 2005 to 2008 and as an Illinois state senator from 1997 to 2004.\n",
      "\n",
      "Me: What's your favorite flavor of coffee?\n",
      "\n",
      "Barack Obama:\u001b[0mI don't drink coffee.\n"
     ]
    }
   ],
   "source": [
    "print_response(\n",
    "    *conv.query('barack obama', 'What\\'s your favorite flavor of coffee?')\n",
    ")"
   ]
  },
  {
   "cell_type": "code",
   "execution_count": 275,
   "metadata": {
    "ExecuteTime": {
     "end_time": "2021-06-23T03:26:19.874722Z",
     "start_time": "2021-06-23T03:26:12.863759Z"
    }
   },
   "outputs": [
    {
     "name": "stdout",
     "output_type": "stream",
     "text": [
      "Writing data to data/logs/conversation_query_kwargs.json.\n",
      "\u001b[1mThis is a conversation with Robert Morris Sapolsky. Robert Morris Sapolsky (born April 6, 1957) is an American neuroendocrinology researcher and author. He is currently a professor of biology, and professor of neurology and neurological sciences and, by courtesy, neurosurgery, at Stanford University. In addition, he is a research associate at the National Museums of Kenya.\n",
      "\n",
      "Me: What's your favorite type of music?\n",
      "\n",
      "Robert Sapolsky:\u001b[0mI love all kinds of music. I love music that is about the moment, like jazz, and I love music that is about the past, like classical music.\n"
     ]
    }
   ],
   "source": [
    "print_response(\n",
    "    *conv.query('Robert Sapolsky', 'What\\'s your favorite type of music?')\n",
    ")"
   ]
  },
  {
   "cell_type": "code",
   "execution_count": 276,
   "metadata": {
    "ExecuteTime": {
     "end_time": "2021-06-23T03:26:20.990258Z",
     "start_time": "2021-06-23T03:26:20.916820Z"
    }
   },
   "outputs": [
    {
     "name": "stdout",
     "output_type": "stream",
     "text": [
      "This is a conversation with Robert Morris Sapolsky. Robert Morris Sapolsky (born April 6, 1957) is an American neuroendocrinology researcher and author. He is currently a professor of biology, and professor of neurology and neurological sciences and, by courtesy, neurosurgery, at Stanford University. In addition, he is a research associate at the National Museums of Kenya.\n",
      "\n",
      "Me: What's your favorite type of music?\n",
      "\n",
      "Robert Sapolsky: I love all kinds of music. I love music that is about the moment, like jazz, and I love music that is about the past, like classical music.\n"
     ]
    }
   ],
   "source": [
    "print(conv.running_prompt)"
   ]
  },
  {
   "cell_type": "code",
   "execution_count": 226,
   "metadata": {
    "ExecuteTime": {
     "end_time": "2021-06-23T02:49:02.567665Z",
     "start_time": "2021-06-23T02:49:02.533752Z"
    }
   },
   "outputs": [
    {
     "data": {
      "text/plain": [
       "['Jk Rowling', 'Barack Obama', 'Robert Sapolsky', 'Bill Gates']"
      ]
     },
     "execution_count": 226,
     "metadata": {},
     "output_type": "execute_result"
    }
   ],
   "source": [
    "conv.personas()"
   ]
  },
  {
   "cell_type": "code",
   "execution_count": 169,
   "metadata": {
    "ExecuteTime": {
     "end_time": "2021-06-22T03:47:15.197808Z",
     "start_time": "2021-06-22T03:47:15.137458Z"
    }
   },
   "outputs": [
    {
     "data": {
      "text/plain": [
       "['jk_rowling', 'barack_obama', 'robert_sapolsky', 'bill_gates']"
      ]
     },
     "execution_count": 169,
     "metadata": {},
     "output_type": "execute_result"
    }
   ],
   "source": [
    "conv.personas(pretty=False)"
   ]
  },
  {
   "cell_type": "code",
   "execution_count": 152,
   "metadata": {
    "ExecuteTime": {
     "end_time": "2021-06-22T03:43:38.869050Z",
     "start_time": "2021-06-22T03:43:38.834675Z"
    }
   },
   "outputs": [
    {
     "data": {
      "text/plain": [
       "('William Henry Gates III (born October 28, 1955) is an American business magnate, software developer, investor, author, and philanthropist. He is the co-founder of Microsoft Corporation. During his career at Microsoft, Gates held the positions of chairman, chief executive officer (CEO), president and chief software architect, while also being the largest individual shareholder until May 2014. He is considered one of the best known entrepreneurs of the microcomputer revolution of the 1970s and 1980s.',\n",
       " PosixPath('data/conversation_personas/bill_gates/profile.jpg'))"
      ]
     },
     "execution_count": 152,
     "metadata": {},
     "output_type": "execute_result"
    }
   ],
   "source": [
    "conv.load_persona('Bill Gates', download_if_necessary=True)"
   ]
  },
  {
   "cell_type": "code",
   "execution_count": 153,
   "metadata": {
    "ExecuteTime": {
     "end_time": "2021-06-22T03:43:48.391825Z",
     "start_time": "2021-06-22T03:43:48.358785Z"
    }
   },
   "outputs": [
    {
     "data": {
      "text/plain": [
       "('Barack Hussein Obama II (born August 4, 1961) is an American politician and attorney who served as the 44th president of the United States from 2009 to 2017. A member of the Democratic Party, Obama was the first African-American president of the United States. He previously served as a U.S. senator from Illinois from 2005 to 2008 and as an Illinois state senator from 1997 to 2004.',\n",
       " PosixPath('data/conversation_personas/barack_obama/profile.jpg'))"
      ]
     },
     "execution_count": 153,
     "metadata": {},
     "output_type": "execute_result"
    }
   ],
   "source": [
    "conv.load_persona('Barack Obama', download_if_necessary=True)"
   ]
  },
  {
   "cell_type": "code",
   "execution_count": 154,
   "metadata": {
    "ExecuteTime": {
     "end_time": "2021-06-22T03:43:50.517211Z",
     "start_time": "2021-06-22T03:43:50.452580Z"
    }
   },
   "outputs": [
    {
     "data": {
      "text/plain": [
       "('Joanne Rowling (born 31 July 1965), better known by her pen name J. K. Rowling, is a British author, philanthropist, film producer, television producer, and screenwriter. She is best known for writing the Harry Potter fantasy series, which has won multiple awards and sold more than 500 million copies, becoming the best-selling book series in history. The books are the basis of a popular film series, over which Rowling had overall approval on the scripts and was a producer on the final films. She also writes crime fiction under the pen name Robert Galbraith.',\n",
       " PosixPath('data/conversation_personas/jk_rowling/profile.jpg'))"
      ]
     },
     "execution_count": 154,
     "metadata": {},
     "output_type": "execute_result"
    }
   ],
   "source": [
    "conv.load_persona('JK Rowling', download_if_necessary=True)"
   ]
  },
  {
   "cell_type": "code",
   "execution_count": 156,
   "metadata": {
    "ExecuteTime": {
     "end_time": "2021-06-22T03:44:11.152161Z",
     "start_time": "2021-06-22T03:44:09.305694Z"
    }
   },
   "outputs": [
    {
     "name": "stdout",
     "output_type": "stream",
     "text": [
      "Writing data to data/conversation_personas/robert_sapolsky/summary.txt.\n"
     ]
    },
    {
     "data": {
      "text/plain": [
       "('Robert Morris Sapolsky (born April 6, 1957) is an American neuroendocrinology researcher and author. He is currently a professor of biology, and professor of neurology and neurological sciences and, by courtesy, neurosurgery, at Stanford University. In addition, he is a research associate at the National Museums of Kenya.',\n",
       " 'data/conversation_personas/robert_sapolsky/profile.jpg')"
      ]
     },
     "execution_count": 156,
     "metadata": {},
     "output_type": "execute_result"
    }
   ],
   "source": [
    "conv.load_persona('Robert Sapolsky', download_if_necessary=True)"
   ]
  },
  {
   "cell_type": "code",
   "execution_count": 159,
   "metadata": {
    "ExecuteTime": {
     "end_time": "2021-06-22T03:44:45.185134Z",
     "start_time": "2021-06-22T03:44:45.119048Z"
    }
   },
   "outputs": [
    {
     "name": "stdout",
     "output_type": "stream",
     "text": [
      "As expected, got KeyError('michael_phelps').\n"
     ]
    }
   ],
   "source": [
    "with assert_raises(KeyError):\n",
    "    _ = conv.load_persona('Michael Phelps', download_if_necessary=False)"
   ]
  },
  {
   "cell_type": "code",
   "execution_count": 136,
   "metadata": {
    "ExecuteTime": {
     "end_time": "2021-06-22T03:29:04.124364Z",
     "start_time": "2021-06-22T03:29:04.058253Z"
    }
   },
   "outputs": [
    {
     "data": {
      "text/plain": [
       "'Barack Hussein Obama II'"
      ]
     },
     "execution_count": 136,
     "metadata": {},
     "output_type": "execute_result"
    }
   ],
   "source": []
  },
  {
   "cell_type": "code",
   "execution_count": null,
   "metadata": {},
   "outputs": [],
   "source": []
  },
  {
   "cell_type": "markdown",
   "metadata": {},
   "source": [
    "## OwnerAccess metaclass\n",
    "\n",
    "Unrelated: working on this for htools.meta module."
   ]
  },
  {
   "cell_type": "code",
   "execution_count": 171,
   "metadata": {
    "ExecuteTime": {
     "end_time": "2021-06-22T03:51:42.954353Z",
     "start_time": "2021-06-22T03:51:42.898731Z"
    }
   },
   "outputs": [],
   "source": [
    "import warnings"
   ]
  },
  {
   "cell_type": "code",
   "execution_count": 280,
   "metadata": {
    "ExecuteTime": {
     "end_time": "2021-06-23T03:29:22.843493Z",
     "start_time": "2021-06-23T03:29:22.768523Z"
    }
   },
   "outputs": [],
   "source": [
    "class OwnerAccess(type):\n",
    "    \n",
    "    def __new__(cls, name, bases, methods, **meta_kwargs):\n",
    "        print('meta kwargs', meta_kwargs)\n",
    "        class_ = type.__new__(cls, name, bases, methods)\n",
    "        class_._meta_attrs = meta_kwargs.get('attrs', [])\n",
    "        return class_\n",
    "        \n",
    "    def __call__(cls, *args, **kwargs):\n",
    "        inst = cls.__new__(cls, *args, **kwargs)\n",
    "        inst.__init__(*args, **kwargs)\n",
    "        \n",
    "        # If user specified some subset of 'attrs' to give owner access, only\n",
    "        # give those access. Otherwise, try to give all instance attrs access.\n",
    "        inst_dict = vars(inst)\n",
    "        inst._meta_attrs = inst._meta_attrs or [k for k in inst_dict\n",
    "                                                if k != '_meta_attrs']\n",
    "        \n",
    "        for k in inst._meta_attrs:\n",
    "            v = inst_dict[k]\n",
    "            try:\n",
    "                v.owner = inst\n",
    "            except Exception as e:\n",
    "                # Eventually revert to warning, but print is cleaner for now.\n",
    "                print(f'Failed to give owner access to {k}.')\n",
    "#                 warnings.warn(f'Failed to give owner access to {k}.')\n",
    "        return inst"
   ]
  },
  {
   "cell_type": "code",
   "execution_count": 281,
   "metadata": {
    "ExecuteTime": {
     "end_time": "2021-06-23T03:29:23.486396Z",
     "start_time": "2021-06-23T03:29:23.451419Z"
    }
   },
   "outputs": [],
   "source": [
    "class Bar:\n",
    "    def __init__(self, x):\n",
    "        self.x = x"
   ]
  },
  {
   "cell_type": "code",
   "execution_count": 282,
   "metadata": {
    "ExecuteTime": {
     "end_time": "2021-06-23T03:29:23.727200Z",
     "start_time": "2021-06-23T03:29:23.684063Z"
    }
   },
   "outputs": [
    {
     "name": "stdout",
     "output_type": "stream",
     "text": [
      "meta kwargs {}\n"
     ]
    }
   ],
   "source": [
    "class Foo(metaclass=OwnerAccess):\n",
    "    \n",
    "    def __init__(self, a, *args, b=3, c=None, **kwargs):\n",
    "        self.a = a\n",
    "        self.b = b\n",
    "        self.new_name = c\n",
    "        self.nums = list(args)\n",
    "        self.kwargs = dict(kwargs)"
   ]
  },
  {
   "cell_type": "code",
   "execution_count": 283,
   "metadata": {
    "ExecuteTime": {
     "end_time": "2021-06-23T03:29:24.278996Z",
     "start_time": "2021-06-23T03:29:24.240068Z"
    }
   },
   "outputs": [
    {
     "name": "stdout",
     "output_type": "stream",
     "text": [
      "Failed to give owner access to a.\n",
      "Failed to give owner access to b.\n",
      "Failed to give owner access to nums.\n",
      "Failed to give owner access to kwargs.\n"
     ]
    }
   ],
   "source": [
    "f = Foo('abc', z=False, c=Bar(444))"
   ]
  },
  {
   "cell_type": "code",
   "execution_count": 284,
   "metadata": {
    "ExecuteTime": {
     "end_time": "2021-06-23T03:29:25.685017Z",
     "start_time": "2021-06-23T03:29:25.650331Z"
    }
   },
   "outputs": [
    {
     "data": {
      "text/plain": [
       "(444, <__main__.Foo at 0x11cc1bcc0>)"
      ]
     },
     "execution_count": 284,
     "metadata": {},
     "output_type": "execute_result"
    }
   ],
   "source": [
    "f.new_name.x, f.new_name.owner"
   ]
  },
  {
   "cell_type": "code",
   "execution_count": 286,
   "metadata": {
    "ExecuteTime": {
     "end_time": "2021-06-23T03:29:38.830359Z",
     "start_time": "2021-06-23T03:29:38.745642Z"
    }
   },
   "outputs": [
    {
     "name": "stdout",
     "output_type": "stream",
     "text": [
      "meta kwargs {'attrs': ['a']}\n"
     ]
    }
   ],
   "source": [
    "class Foo(metaclass=OwnerAccess, attrs=['a']):\n",
    "    \n",
    "    def __init__(self, a, *args, b=3, c=None, **kwargs):\n",
    "        self.a = a\n",
    "        self.b = b\n",
    "        self.new_name = c\n",
    "        self.nums = list(args)\n",
    "        self.kwargs = dict(kwargs)"
   ]
  },
  {
   "cell_type": "code",
   "execution_count": 287,
   "metadata": {
    "ExecuteTime": {
     "end_time": "2021-06-23T03:29:39.848296Z",
     "start_time": "2021-06-23T03:29:39.814922Z"
    }
   },
   "outputs": [],
   "source": [
    "f = Foo(a=Bar(99), z=False, c=Bar(444))"
   ]
  },
  {
   "cell_type": "code",
   "execution_count": 288,
   "metadata": {
    "ExecuteTime": {
     "end_time": "2021-06-23T03:29:40.577480Z",
     "start_time": "2021-06-23T03:29:40.536766Z"
    }
   },
   "outputs": [
    {
     "data": {
      "text/plain": [
       "['a']"
      ]
     },
     "execution_count": 288,
     "metadata": {},
     "output_type": "execute_result"
    }
   ],
   "source": [
    "f._meta_attrs"
   ]
  },
  {
   "cell_type": "code",
   "execution_count": 289,
   "metadata": {
    "ExecuteTime": {
     "end_time": "2021-06-23T03:29:44.159218Z",
     "start_time": "2021-06-23T03:29:44.124938Z"
    }
   },
   "outputs": [
    {
     "data": {
      "text/plain": [
       "(<__main__.Bar at 0x11cc29e80>, <__main__.Foo at 0x11cc29b00>)"
      ]
     },
     "execution_count": 289,
     "metadata": {},
     "output_type": "execute_result"
    }
   ],
   "source": [
    "f.a, f.a.owner"
   ]
  },
  {
   "cell_type": "code",
   "execution_count": 290,
   "metadata": {
    "ExecuteTime": {
     "end_time": "2021-06-23T03:29:45.024756Z",
     "start_time": "2021-06-23T03:29:44.989540Z"
    }
   },
   "outputs": [
    {
     "data": {
      "text/plain": [
       "(444, False)"
      ]
     },
     "execution_count": 290,
     "metadata": {},
     "output_type": "execute_result"
    }
   ],
   "source": [
    "f.new_name.x, hasattr(f.new_name, 'owner')"
   ]
  },
  {
   "cell_type": "code",
   "execution_count": 293,
   "metadata": {
    "ExecuteTime": {
     "end_time": "2021-06-23T03:30:47.842281Z",
     "start_time": "2021-06-23T03:30:47.775449Z"
    }
   },
   "outputs": [
    {
     "name": "stdout",
     "output_type": "stream",
     "text": [
      "meta kwargs {'attrs': ['a', 'new_name']}\n"
     ]
    }
   ],
   "source": [
    "class Foo(metaclass=OwnerAccess, attrs=['a', 'new_name']):\n",
    "    \n",
    "    def __init__(self, a, *args, b=3, c=None, **kwargs):\n",
    "        self.a = a\n",
    "        self.b = b\n",
    "        self.new_name = c\n",
    "        self.nums = list(args)\n",
    "        self.kwargs = dict(kwargs)"
   ]
  },
  {
   "cell_type": "code",
   "execution_count": 294,
   "metadata": {
    "ExecuteTime": {
     "end_time": "2021-06-23T03:30:48.160037Z",
     "start_time": "2021-06-23T03:30:48.122305Z"
    }
   },
   "outputs": [],
   "source": [
    "f = Foo(a=Bar(99), z=False, c=Bar(444))"
   ]
  },
  {
   "cell_type": "code",
   "execution_count": 295,
   "metadata": {
    "ExecuteTime": {
     "end_time": "2021-06-23T03:30:50.250458Z",
     "start_time": "2021-06-23T03:30:50.206028Z"
    }
   },
   "outputs": [
    {
     "data": {
      "text/plain": [
       "['a', 'new_name']"
      ]
     },
     "execution_count": 295,
     "metadata": {},
     "output_type": "execute_result"
    }
   ],
   "source": [
    "f._meta_attrs"
   ]
  },
  {
   "cell_type": "code",
   "execution_count": 296,
   "metadata": {
    "ExecuteTime": {
     "end_time": "2021-06-23T03:30:51.690423Z",
     "start_time": "2021-06-23T03:30:51.637112Z"
    }
   },
   "outputs": [
    {
     "data": {
      "text/plain": [
       "(<__main__.Bar at 0x11cc11630>, <__main__.Foo at 0x11cc116a0>)"
      ]
     },
     "execution_count": 296,
     "metadata": {},
     "output_type": "execute_result"
    }
   ],
   "source": [
    "f.a, f.a.owner"
   ]
  },
  {
   "cell_type": "code",
   "execution_count": 298,
   "metadata": {
    "ExecuteTime": {
     "end_time": "2021-06-23T03:30:58.898775Z",
     "start_time": "2021-06-23T03:30:58.833046Z"
    }
   },
   "outputs": [
    {
     "data": {
      "text/plain": [
       "(444, <__main__.Foo at 0x11cc116a0>)"
      ]
     },
     "execution_count": 298,
     "metadata": {},
     "output_type": "execute_result"
    }
   ],
   "source": [
    "f.new_name.x, f.new_name.owner"
   ]
  },
  {
   "cell_type": "code",
   "execution_count": 300,
   "metadata": {
    "ExecuteTime": {
     "end_time": "2021-06-23T03:31:15.610854Z",
     "start_time": "2021-06-23T03:31:15.538824Z"
    }
   },
   "outputs": [
    {
     "data": {
      "text/plain": [
       "444"
      ]
     },
     "execution_count": 300,
     "metadata": {},
     "output_type": "execute_result"
    }
   ],
   "source": [
    "f.a.owner.new_name.x"
   ]
  },
  {
   "cell_type": "code",
   "execution_count": 324,
   "metadata": {
    "ExecuteTime": {
     "end_time": "2021-06-23T03:46:14.879402Z",
     "start_time": "2021-06-23T03:46:14.841573Z"
    }
   },
   "outputs": [],
   "source": [
    "def owner_access(cls=None, *, attrs=()):\n",
    "    if cls is None: return partial(owner_access, attrs=attrs)\n",
    "    old_init = cls.__init__\n",
    "    def _init(self, *args, **kwargs):\n",
    "        old_init(self, *args, **kwargs)\n",
    "        for k in attrs or vars(self):\n",
    "            v = getattr(self, k)\n",
    "            try:\n",
    "                v.owner = self\n",
    "            except Exception as e:\n",
    "                # Eventually revert to warning, but print is cleaner for now.\n",
    "                print(f'Failed to give owner access to {k}.')\n",
    "#                 warnings.warn(f'Failed to give owner access to {k}.')\n",
    "        \n",
    "    cls.__init__ = _init\n",
    "    return cls"
   ]
  },
  {
   "cell_type": "code",
   "execution_count": 325,
   "metadata": {
    "ExecuteTime": {
     "end_time": "2021-06-23T03:46:15.151553Z",
     "start_time": "2021-06-23T03:46:15.103753Z"
    }
   },
   "outputs": [],
   "source": [
    "@owner_access(attrs=['a', 'new_name'])\n",
    "class Foo:\n",
    "    \n",
    "    def __init__(self, a, *args, b=3, c=None, **kwargs):\n",
    "        self.a = a\n",
    "        self.b = b\n",
    "        self.new_name = c\n",
    "        self.nums = list(args)\n",
    "        self.kwargs = dict(kwargs)"
   ]
  },
  {
   "cell_type": "code",
   "execution_count": 326,
   "metadata": {
    "ExecuteTime": {
     "end_time": "2021-06-23T03:46:15.782182Z",
     "start_time": "2021-06-23T03:46:15.752548Z"
    }
   },
   "outputs": [],
   "source": [
    "f = Foo(Bar(999), b=Bar(77), c=Bar(3333333))"
   ]
  },
  {
   "cell_type": "code",
   "execution_count": 329,
   "metadata": {
    "ExecuteTime": {
     "end_time": "2021-06-23T03:46:33.982540Z",
     "start_time": "2021-06-23T03:46:33.945949Z"
    }
   },
   "outputs": [
    {
     "data": {
      "text/plain": [
       "(<__main__.Foo at 0x11cd3dda0>, <__main__.Foo at 0x11cd3dda0>)"
      ]
     },
     "execution_count": 329,
     "metadata": {},
     "output_type": "execute_result"
    }
   ],
   "source": [
    "f.a.owner, f.new_name.owner"
   ]
  },
  {
   "cell_type": "code",
   "execution_count": 331,
   "metadata": {
    "ExecuteTime": {
     "end_time": "2021-06-23T03:46:50.626541Z",
     "start_time": "2021-06-23T03:46:50.549205Z"
    }
   },
   "outputs": [],
   "source": [
    "assert not hasattr(f.b, 'owner')"
   ]
  },
  {
   "cell_type": "code",
   "execution_count": null,
   "metadata": {},
   "outputs": [],
   "source": []
  }
 ],
 "metadata": {
  "kernelspec": {
   "display_name": "Python 3",
   "language": "python",
   "name": "python3"
  },
  "language_info": {
   "codemirror_mode": {
    "name": "ipython",
    "version": 3
   },
   "file_extension": ".py",
   "mimetype": "text/x-python",
   "name": "python",
   "nbconvert_exporter": "python",
   "pygments_lexer": "ipython3",
   "version": "3.7.3"
  }
 },
 "nbformat": 4,
 "nbformat_minor": 2
}
