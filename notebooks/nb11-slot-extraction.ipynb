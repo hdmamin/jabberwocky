{
 "cells": [
  {
   "cell_type": "markdown",
   "metadata": {},
   "source": [
    "# Summary\n",
    "\n",
    "Trying to extract slots when alexa fails to recognize the desired intent."
   ]
  },
  {
   "cell_type": "code",
   "execution_count": 1,
   "metadata": {
    "ExecuteTime": {
     "end_time": "2022-03-20T21:52:49.016909Z",
     "start_time": "2022-03-20T21:52:48.999489Z"
    }
   },
   "outputs": [
    {
     "name": "stdout",
     "output_type": "stream",
     "text": [
      "The autoreload extension is already loaded. To reload it, use:\n",
      "  %reload_ext autoreload\n"
     ]
    }
   ],
   "source": [
    "%load_ext autoreload\n",
    "%autoreload 2"
   ]
  },
  {
   "cell_type": "code",
   "execution_count": 103,
   "metadata": {
    "ExecuteTime": {
     "end_time": "2022-03-20T22:30:56.231772Z",
     "start_time": "2022-03-20T22:30:56.148503Z"
    }
   },
   "outputs": [],
   "source": [
    "import eng_to_ipa\n",
    "from fuzzywuzzy import fuzz, process\n",
    "from g2p_en import G2p\n",
    "import matplotlib.pyplot as plt\n",
    "import numpy as np\n",
    "import os\n",
    "from itertools import product\n",
    "import pandas as pd\n",
    "from pathlib import Path\n",
    "import spacy\n",
    "import spacy\n",
    "from spacy import displacy\n",
    "from spacy.matcher import PhraseMatcher\n",
    "\n",
    "from alexa.utils import infer_intent, get_backend\n",
    "from jabberwocky.config import C\n",
    "from jabberwocky.openai_utils import load_prompt, load_openai_api_key\n",
    "from htools import *"
   ]
  },
  {
   "cell_type": "code",
   "execution_count": 4,
   "metadata": {
    "ExecuteTime": {
     "end_time": "2022-03-20T21:54:02.611722Z",
     "start_time": "2022-03-20T21:54:02.541820Z"
    }
   },
   "outputs": [
    {
     "name": "stdout",
     "output_type": "stream",
     "text": [
      "Current directory: /Users/hmamin/jabberwocky\n"
     ]
    }
   ],
   "source": [
    "cd_root()"
   ]
  },
  {
   "cell_type": "markdown",
   "metadata": {},
   "source": [
    "## Data"
   ]
  },
  {
   "cell_type": "code",
   "execution_count": 143,
   "metadata": {
    "ExecuteTime": {
     "end_time": "2022-03-20T22:48:35.586194Z",
     "start_time": "2022-03-20T22:48:35.482686Z"
    }
   },
   "outputs": [],
   "source": [
    "def build_utterance_map(model_json, fuzzy=True,\n",
    "                        exclude_types=('AMAZON.Person', 'AMAZON.SearchQuery')):\n",
    "    \"\"\"Given a dictionary copied from Alexa's JSON Editor, return a\n",
    "    dict or FuzzyKeyDict mapping each possible sample utterance to its\n",
    "    corresponding intent. This allows our delegate() function to do some\n",
    "    utterance validation before blindly forwarding an utterance to _reply() or\n",
    "    the next queued function.\n",
    "\n",
    "    Warning: because each intent may have several utterances and\n",
    "    each utterance may contain multiple slots and each slot may have multiple\n",
    "    sample values, the dimensionality can blow up quickly here.\n",
    "\n",
    "    Parameters\n",
    "    ----------\n",
    "    model_json\n",
    "    exclude_types: Iterable[str]\n",
    "        One or more slot types where we want to exclude intents that contain\n",
    "        any of them from the output map. For example, AMAZON.SearchQuery is\n",
    "        meant to capture whole utterances matching no particular format as a\n",
    "        fallback intent, so it wouldn't make sense to try to fuzzy match\n",
    "        these utterances to an intent. I could see AMAZON.Person being included\n",
    "        in some contexts but in this skill, we only use it for the choosePerson\n",
    "        utterance which consists solely of a name. There really shouldn't be a\n",
    "        reason to fuzzy match that.\n",
    "\n",
    "    Returns\n",
    "    -------\n",
    "\n",
    "    \"\"\"\n",
    "    exclude_types = set(exclude_types)\n",
    "    model = model_json['interactionModel']['languageModel']\n",
    "    type2vals = {type_['name']: [row['name']['value']\n",
    "                                 for row in type_['values']]\n",
    "                 for type_ in model['types']}\n",
    "    type2vals['AMAZON.NUMBER'] = list(map(str, range(10)))\n",
    "    utt2meta = {}\n",
    "    for intent in model['intents']:\n",
    "        slot2vals = {}\n",
    "        try:\n",
    "            for slot_ in intent.get('slots', []):\n",
    "                assert slot_['type'] not in exclude_types\n",
    "                slot2vals[slot_['name']] = type2vals[slot_['type']]\n",
    "        except AssertionError:\n",
    "            continue\n",
    "\n",
    "        # Replace all slot names with common slot values.\n",
    "        for row in intent['samples']:\n",
    "            for args in product(*slot2vals.values()):\n",
    "                kwargs = dict(zip(slot2vals, args))\n",
    "                utt2meta[row.format(**kwargs)] = {'intent': intent['name'],\n",
    "                                                  'slots': kwargs}\n",
    "    return FuzzyKeyDict(utt2meta) if fuzzy else utt2meta"
   ]
  },
  {
   "cell_type": "code",
   "execution_count": 144,
   "metadata": {
    "ExecuteTime": {
     "end_time": "2022-03-20T22:48:38.335533Z",
     "start_time": "2022-03-20T22:48:38.270472Z"
    }
   },
   "outputs": [
    {
     "name": "stdout",
     "output_type": "stream",
     "text": [
      "Object loaded from data/alexa/dialog_model.json.\n"
     ]
    }
   ],
   "source": [
    "j = load('data/alexa/dialog_model.json')\n",
    "model = j['interactionModel']['languageModel']"
   ]
  },
  {
   "cell_type": "code",
   "execution_count": 145,
   "metadata": {
    "ExecuteTime": {
     "end_time": "2022-03-20T22:48:55.397070Z",
     "start_time": "2022-03-20T22:48:55.279439Z"
    }
   },
   "outputs": [
    {
     "name": "stdout",
     "output_type": "stream",
     "text": [
      "Writing data to data/alexa/utterance2meta.pkl.\n"
     ]
    }
   ],
   "source": [
    "utt2meta = build_utterance_map(j)\n",
    "save(utt2meta, 'data/alexa/utterance2meta.pkl')"
   ]
  },
  {
   "cell_type": "code",
   "execution_count": 149,
   "metadata": {
    "ExecuteTime": {
     "end_time": "2022-03-20T22:49:29.168083Z",
     "start_time": "2022-03-20T22:49:29.051502Z"
    }
   },
   "outputs": [
    {
     "data": {
      "text/plain": [
       "70"
      ]
     },
     "execution_count": 149,
     "metadata": {},
     "output_type": "execute_result"
    }
   ],
   "source": [
    "backend_utts = [k for k, v in utt2meta.items() \n",
    "                if v['intent'] == 'changeBackend']\n",
    "len(backend_utts)"
   ]
  },
  {
   "cell_type": "code",
   "execution_count": 150,
   "metadata": {
    "ExecuteTime": {
     "end_time": "2022-03-20T22:49:30.597062Z",
     "start_time": "2022-03-20T22:49:30.526022Z"
    }
   },
   "outputs": [
    {
     "data": {
      "text/plain": [
       "{'name': 'BackendType',\n",
       " 'values': [{'name': {'value': 'hobby'}},\n",
       "  {'name': {'value': 'hugging face'}},\n",
       "  {'name': {'value': 'huggingface'}},\n",
       "  {'name': {'value': 'gooseai'}},\n",
       "  {'name': {'value': 'Goose AI'}},\n",
       "  {'name': {'value': 'Open AI'}},\n",
       "  {'name': {'value': 'openai'}}]}"
      ]
     },
     "execution_count": 150,
     "metadata": {},
     "output_type": "execute_result"
    }
   ],
   "source": [
    "model['types'][-1]"
   ]
  },
  {
   "cell_type": "code",
   "execution_count": 121,
   "metadata": {
    "ExecuteTime": {
     "end_time": "2022-03-20T22:35:14.243183Z",
     "start_time": "2022-03-20T22:35:14.156590Z"
    }
   },
   "outputs": [
    {
     "data": {
      "text/plain": [
       "['Lou please change backend to {backend}',\n",
       " 'Lou please switch backend to {backend}',\n",
       " 'Lou please use {backend} backend',\n",
       " 'Lou please change to {backend} backend',\n",
       " 'Lou please switch to {backend} backend',\n",
       " 'Lou switch to {backend} backend',\n",
       " 'Lou change to {backend} backend',\n",
       " 'Lou use {backend} backend',\n",
       " 'Lou switch backend to {backend}',\n",
       " 'Lou change backend to {backend}']"
      ]
     },
     "execution_count": 121,
     "metadata": {},
     "output_type": "execute_result"
    }
   ],
   "source": [
    "# Notice templates still have filler {backend} rather than sample values.\n",
    "backend_intent = model['intents'][-1]\n",
    "backend_templates = backend_intent['samples']\n",
    "backend_templates"
   ]
  },
  {
   "cell_type": "markdown",
   "metadata": {},
   "source": [
    "**Observations**\n",
    "- Looks like pattern \"to {VALUE} back\" may work pretty well.\n",
    "- Another option: store mapping of sample utterance to template or sample utterance to slot vals, then just use the slot vals for the closest overall match."
   ]
  },
  {
   "cell_type": "markdown",
   "metadata": {},
   "source": [
    "## Try method 2 (use slots for closest fuzzy str match)"
   ]
  },
  {
   "cell_type": "code",
   "execution_count": 233,
   "metadata": {
    "ExecuteTime": {
     "end_time": "2022-03-22T03:00:01.289881Z",
     "start_time": "2022-03-22T03:00:01.208957Z"
    }
   },
   "outputs": [],
   "source": [
    "def infer_intent(utt, fuzzy_dict, n_keys=5, top_1_thresh=.9,\n",
    "                 weighted_thresh=.8):\n",
    "    \"\"\"Try to infer the user's intent from an utterance. Alexa should detect\n",
    "    this automatically but it sometimes messes up. This also helps if the user\n",
    "    gets the utterance slightly wrong, e.g. \"Lou, set backend to goose ai\"\n",
    "    rather than \"Lou, switch backend to goose ai\".\n",
    "\n",
    "    Parameters\n",
    "    ----------\n",
    "    utt\n",
    "    fuzzy_dict\n",
    "    n_keys\n",
    "    top_1_thresh\n",
    "    weighted_thresh\n",
    "\n",
    "    Returns\n",
    "    -------\n",
    "    dict: Contains keys \"intent\", \"confidence\", \"reason\", and \"res\".\n",
    "    Intent is the name of the closest matching intent if one was sufficiently\n",
    "    close (empty string otherwise), confidence is a float between 0 and 1\n",
    "    indicating our confidence in this being correct (sort of, not anything\n",
    "    rigorous though; -1 if no matching intent is found), and reason is a string\n",
    "    indicating our method for determining this ('top_1' means we found 1 sample\n",
    "    utterance that was very close to the input, 'weighted' means that most of\n",
    "    the nearest matching utterances tended to belong to the same intent, empty\n",
    "    string means no matching intent was found). Res is always just the raw\n",
    "    results of our fuzzy_dict similar() method call, a list of tuples\n",
    "    containing all n_keys matching utterances, their corresponding intents,\n",
    "    and similarity scores.\n",
    "    \"\"\"\n",
    "    res = fuzzy_dict.similar(utt, n_keys=n_keys,\n",
    "                             mode='keys_values_similarities')\n",
    "    top_1_pct = res[0][-1] / 100\n",
    "    if top_1_pct >= top_1_thresh:\n",
    "        return {'intent': res[0][1]['intent'],\n",
    "                'slots': res[0][1]['slots'],\n",
    "                'confidence': top_1_pct,\n",
    "                'reason': 'top_1',\n",
    "                'res': res}\n",
    "    df = pd.DataFrame(res, columns=['txt', 'intent', 'score'])\\\n",
    "        .assign(slots=lambda df_: df_.intent.apply(lambda x: x['slots']),\n",
    "                intent=lambda df_: df_.intent.apply(lambda x: x['intent']))\n",
    "    weighted = df.groupby('intent').score.sum()\\\n",
    "        .to_frame()\\\n",
    "        .assign(pct=lambda x: x / x.sum())\n",
    "    if weighted.pct.iloc[0] > weighted_thresh:\n",
    "        intent = weighted.iloc[0].name\n",
    "        slots = df.loc[df.intent == intent, 'slots'].iloc[0]\n",
    "        return {'intent': intent,\n",
    "                'slots': slots,\n",
    "                'confidence': weighted.iloc[0].pct,\n",
    "                'reason': 'weighted',\n",
    "                'res': res}\n",
    "    return {'intent': '',\n",
    "            'slots': {},\n",
    "            'confidence': -1,\n",
    "            'reason': '',\n",
    "            'res': res}"
   ]
  },
  {
   "cell_type": "code",
   "execution_count": 234,
   "metadata": {
    "ExecuteTime": {
     "end_time": "2022-03-22T03:00:07.091019Z",
     "start_time": "2022-03-22T03:00:06.923162Z"
    }
   },
   "outputs": [],
   "source": [
    "text = 'lou switch to open i back in'"
   ]
  },
  {
   "cell_type": "code",
   "execution_count": 235,
   "metadata": {
    "ExecuteTime": {
     "end_time": "2022-03-22T03:00:13.225009Z",
     "start_time": "2022-03-22T03:00:13.132880Z"
    }
   },
   "outputs": [
    {
     "data": {
      "text/plain": [
       "{'intent': 'changeBackend',\n",
       " 'slots': {'backend': 'Open AI'},\n",
       " 'confidence': 0.91,\n",
       " 'reason': 'top_1',\n",
       " 'res': [('Lou switch to Open AI backend',\n",
       "   {'intent': 'changeBackend', 'slots': {'backend': 'Open AI'}},\n",
       "   91),\n",
       "  ('Lou switch to openai backend',\n",
       "   {'intent': 'changeBackend', 'slots': {'backend': 'openai'}},\n",
       "   89),\n",
       "  ('Lou switch to Goose AI backend',\n",
       "   {'intent': 'changeBackend', 'slots': {'backend': 'Goose AI'}},\n",
       "   83),\n",
       "  ('Lou please switch to Open AI backend',\n",
       "   {'intent': 'changeBackend', 'slots': {'backend': 'Open AI'}},\n",
       "   81),\n",
       "  ('Lou switch to gooseai backend',\n",
       "   {'intent': 'changeBackend', 'slots': {'backend': 'gooseai'}},\n",
       "   81)]}"
      ]
     },
     "execution_count": 235,
     "metadata": {},
     "output_type": "execute_result"
    }
   ],
   "source": [
    "inferred = infer_intent(text, utt2meta)\n",
    "inferred"
   ]
  },
  {
   "cell_type": "code",
   "execution_count": 237,
   "metadata": {
    "ExecuteTime": {
     "end_time": "2022-03-22T03:01:22.255102Z",
     "start_time": "2022-03-22T03:01:21.309270Z"
    }
   },
   "outputs": [
    {
     "data": {
      "text/plain": [
       "{'intent': 'changeBackend',\n",
       " 'slots': {'backend': 'gooseai'},\n",
       " 'confidence': 1.0,\n",
       " 'reason': 'weighted',\n",
       " 'res': [('Lou switch backend to gooseai',\n",
       "   {'intent': 'changeBackend', 'slots': {'backend': 'gooseai'}},\n",
       "   81),\n",
       "  ('Lou switch backend to Goose AI',\n",
       "   {'intent': 'changeBackend', 'slots': {'backend': 'Goose AI'}},\n",
       "   80),\n",
       "  ('Lou change backend to gooseai',\n",
       "   {'intent': 'changeBackend', 'slots': {'backend': 'gooseai'}},\n",
       "   78),\n",
       "  ('Lou change backend to Goose AI',\n",
       "   {'intent': 'changeBackend', 'slots': {'backend': 'Goose AI'}},\n",
       "   76),\n",
       "  ('Lou please switch backend to gooseai',\n",
       "   {'intent': 'changeBackend', 'slots': {'backend': 'gooseai'}},\n",
       "   75)]}"
      ]
     },
     "execution_count": 237,
     "metadata": {},
     "output_type": "execute_result"
    }
   ],
   "source": [
    "infer_intent('lou set back and to goose', utt2meta)"
   ]
  },
  {
   "cell_type": "code",
   "execution_count": 238,
   "metadata": {
    "ExecuteTime": {
     "end_time": "2022-03-22T03:01:34.747896Z",
     "start_time": "2022-03-22T03:01:34.626381Z"
    }
   },
   "outputs": [
    {
     "data": {
      "text/plain": [
       "{'intent': 'changeBackend',\n",
       " 'slots': {'backend': 'hugging face'},\n",
       " 'confidence': 1.0,\n",
       " 'reason': 'weighted',\n",
       " 'res': [('Lou switch backend to hugging face',\n",
       "   {'intent': 'changeBackend', 'slots': {'backend': 'hugging face'}},\n",
       "   84),\n",
       "  ('Lou switch backend to huggingface',\n",
       "   {'intent': 'changeBackend', 'slots': {'backend': 'huggingface'}},\n",
       "   82),\n",
       "  ('Lou please switch backend to hugging face',\n",
       "   {'intent': 'changeBackend', 'slots': {'backend': 'hugging face'}},\n",
       "   76),\n",
       "  ('Lou please switch backend to huggingface',\n",
       "   {'intent': 'changeBackend', 'slots': {'backend': 'huggingface'}},\n",
       "   75),\n",
       "  ('Lou switch backend to Open AI',\n",
       "   {'intent': 'changeBackend', 'slots': {'backend': 'Open AI'}},\n",
       "   75)]}"
      ]
     },
     "execution_count": 238,
     "metadata": {},
     "output_type": "execute_result"
    }
   ],
   "source": [
    "infer_intent('lou switch back and to hug and fate', utt2meta)"
   ]
  },
  {
   "cell_type": "markdown",
   "metadata": {},
   "source": [
    "## Phonetic str similarity\n",
    "\n",
    "Try to encode texts phonetically, then find similar utterances. Trying to account better for certain types of poor transcriptions: e.g. \"hug end faze\" isn't as similar to \"huggingface\" as we'd like for string similarity methods."
   ]
  },
  {
   "cell_type": "code",
   "execution_count": 151,
   "metadata": {
    "ExecuteTime": {
     "end_time": "2022-03-20T22:49:48.865063Z",
     "start_time": "2022-03-20T22:49:47.889202Z"
    }
   },
   "outputs": [],
   "source": [
    "g2p = G2p()"
   ]
  },
  {
   "cell_type": "code",
   "execution_count": 152,
   "metadata": {
    "ExecuteTime": {
     "end_time": "2022-03-20T22:49:48.923348Z",
     "start_time": "2022-03-20T22:49:48.868589Z"
    }
   },
   "outputs": [],
   "source": [
    "def phonetic_str(text):\n",
    "    return ''.join(g2p(text))"
   ]
  },
  {
   "cell_type": "code",
   "execution_count": 155,
   "metadata": {
    "ExecuteTime": {
     "end_time": "2022-03-20T22:50:00.767786Z",
     "start_time": "2022-03-20T22:50:00.352020Z"
    }
   },
   "outputs": [],
   "source": [
    "pho2utt = {phonetic_str(k): k for k, v in utt2meta.items()}\n",
    "utt2pho = {v: k for k, v in pho2utt.items()}"
   ]
  },
  {
   "cell_type": "code",
   "execution_count": 156,
   "metadata": {
    "ExecuteTime": {
     "end_time": "2022-03-20T22:50:01.665956Z",
     "start_time": "2022-03-20T22:50:01.588118Z"
    },
    "scrolled": true
   },
   "outputs": [
    {
     "data": {
      "text/plain": [
       "{'LUW1 CHEY1NJH KAA2NVER0SEY1SHAH0N TEH1MP TUW1 ZIH1ROW0': 'Lou change conversation temp to 0',\n",
       " 'LUW1 CHEY1NJH PER1SAH0N TEH1MP TUW1 ZIH1ROW0': 'Lou change person temp to 0',\n",
       " 'LUW1 CHEY1NJH GLOW1BAH0L TEH1MP TUW1 ZIH1ROW0': 'Lou change global temp to 0',\n",
       " 'LUW1 CHEY1NJH KAA2NVER0SEY1SHAH0N TEH1MP TUW1 WAH1N': 'Lou change conversation temp to 1',\n",
       " 'LUW1 CHEY1NJH PER1SAH0N TEH1MP TUW1 WAH1N': 'Lou change person temp to 1',\n",
       " 'LUW1 CHEY1NJH GLOW1BAH0L TEH1MP TUW1 WAH1N': 'Lou change global temp to 1',\n",
       " 'LUW1 CHEY1NJH KAA2NVER0SEY1SHAH0N TEH1MP TUW1 TUW1': 'Lou change conversation temp to 2',\n",
       " 'LUW1 CHEY1NJH PER1SAH0N TEH1MP TUW1 TUW1': 'Lou change person temp to 2',\n",
       " 'LUW1 CHEY1NJH GLOW1BAH0L TEH1MP TUW1 TUW1': 'Lou change global temp to 2',\n",
       " 'LUW1 CHEY1NJH KAA2NVER0SEY1SHAH0N TEH1MP TUW1 THRIY1': 'Lou change conversation temp to 3',\n",
       " 'LUW1 CHEY1NJH PER1SAH0N TEH1MP TUW1 THRIY1': 'Lou change person temp to 3',\n",
       " 'LUW1 CHEY1NJH GLOW1BAH0L TEH1MP TUW1 THRIY1': 'Lou change global temp to 3',\n",
       " 'LUW1 CHEY1NJH KAA2NVER0SEY1SHAH0N TEH1MP TUW1 FAO1R': 'Lou change conversation temp to 4',\n",
       " 'LUW1 CHEY1NJH PER1SAH0N TEH1MP TUW1 FAO1R': 'Lou change person temp to 4',\n",
       " 'LUW1 CHEY1NJH GLOW1BAH0L TEH1MP TUW1 FAO1R': 'Lou change global temp to 4',\n",
       " 'LUW1 CHEY1NJH KAA2NVER0SEY1SHAH0N TEH1MP TUW1 FAY1V': 'Lou change conversation temp to 5',\n",
       " 'LUW1 CHEY1NJH PER1SAH0N TEH1MP TUW1 FAY1V': 'Lou change person temp to 5',\n",
       " 'LUW1 CHEY1NJH GLOW1BAH0L TEH1MP TUW1 FAY1V': 'Lou change global temp to 5',\n",
       " 'LUW1 CHEY1NJH KAA2NVER0SEY1SHAH0N TEH1MP TUW1 SIH1KS': 'Lou change conversation temp to 6',\n",
       " 'LUW1 CHEY1NJH PER1SAH0N TEH1MP TUW1 SIH1KS': 'Lou change person temp to 6',\n",
       " 'LUW1 CHEY1NJH GLOW1BAH0L TEH1MP TUW1 SIH1KS': 'Lou change global temp to 6',\n",
       " 'LUW1 CHEY1NJH KAA2NVER0SEY1SHAH0N TEH1MP TUW1 SEH1VAH0N': 'Lou change conversation temp to 7',\n",
       " 'LUW1 CHEY1NJH PER1SAH0N TEH1MP TUW1 SEH1VAH0N': 'Lou change person temp to 7',\n",
       " 'LUW1 CHEY1NJH GLOW1BAH0L TEH1MP TUW1 SEH1VAH0N': 'Lou change global temp to 7',\n",
       " 'LUW1 CHEY1NJH KAA2NVER0SEY1SHAH0N TEH1MP TUW1 EY1T': 'Lou change conversation temp to 8',\n",
       " 'LUW1 CHEY1NJH PER1SAH0N TEH1MP TUW1 EY1T': 'Lou change person temp to 8',\n",
       " 'LUW1 CHEY1NJH GLOW1BAH0L TEH1MP TUW1 EY1T': 'Lou change global temp to 8',\n",
       " 'LUW1 CHEY1NJH KAA2NVER0SEY1SHAH0N TEH1MP TUW1 NAY1N': 'Lou change conversation temp to 9',\n",
       " 'LUW1 CHEY1NJH PER1SAH0N TEH1MP TUW1 NAY1N': 'Lou change person temp to 9',\n",
       " 'LUW1 CHEY1NJH GLOW1BAH0L TEH1MP TUW1 NAY1N': 'Lou change global temp to 9',\n",
       " 'LUW1 SEH1T KAA2NVER0SEY1SHAH0N TEH1MP TUW1 ZIH1ROW0': 'Lou set conversation temp to 0',\n",
       " 'LUW1 SEH1T PER1SAH0N TEH1MP TUW1 ZIH1ROW0': 'Lou set person temp to 0',\n",
       " 'LUW1 SEH1T GLOW1BAH0L TEH1MP TUW1 ZIH1ROW0': 'Lou set global temp to 0',\n",
       " 'LUW1 SEH1T KAA2NVER0SEY1SHAH0N TEH1MP TUW1 WAH1N': 'Lou set conversation temp to 1',\n",
       " 'LUW1 SEH1T PER1SAH0N TEH1MP TUW1 WAH1N': 'Lou set person temp to 1',\n",
       " 'LUW1 SEH1T GLOW1BAH0L TEH1MP TUW1 WAH1N': 'Lou set global temp to 1',\n",
       " 'LUW1 SEH1T KAA2NVER0SEY1SHAH0N TEH1MP TUW1 TUW1': 'Lou set conversation temp to 2',\n",
       " 'LUW1 SEH1T PER1SAH0N TEH1MP TUW1 TUW1': 'Lou set person temp to 2',\n",
       " 'LUW1 SEH1T GLOW1BAH0L TEH1MP TUW1 TUW1': 'Lou set global temp to 2',\n",
       " 'LUW1 SEH1T KAA2NVER0SEY1SHAH0N TEH1MP TUW1 THRIY1': 'Lou set conversation temp to 3',\n",
       " 'LUW1 SEH1T PER1SAH0N TEH1MP TUW1 THRIY1': 'Lou set person temp to 3',\n",
       " 'LUW1 SEH1T GLOW1BAH0L TEH1MP TUW1 THRIY1': 'Lou set global temp to 3',\n",
       " 'LUW1 SEH1T KAA2NVER0SEY1SHAH0N TEH1MP TUW1 FAO1R': 'Lou set conversation temp to 4',\n",
       " 'LUW1 SEH1T PER1SAH0N TEH1MP TUW1 FAO1R': 'Lou set person temp to 4',\n",
       " 'LUW1 SEH1T GLOW1BAH0L TEH1MP TUW1 FAO1R': 'Lou set global temp to 4',\n",
       " 'LUW1 SEH1T KAA2NVER0SEY1SHAH0N TEH1MP TUW1 FAY1V': 'Lou set conversation temp to 5',\n",
       " 'LUW1 SEH1T PER1SAH0N TEH1MP TUW1 FAY1V': 'Lou set person temp to 5',\n",
       " 'LUW1 SEH1T GLOW1BAH0L TEH1MP TUW1 FAY1V': 'Lou set global temp to 5',\n",
       " 'LUW1 SEH1T KAA2NVER0SEY1SHAH0N TEH1MP TUW1 SIH1KS': 'Lou set conversation temp to 6',\n",
       " 'LUW1 SEH1T PER1SAH0N TEH1MP TUW1 SIH1KS': 'Lou set person temp to 6',\n",
       " 'LUW1 SEH1T GLOW1BAH0L TEH1MP TUW1 SIH1KS': 'Lou set global temp to 6',\n",
       " 'LUW1 SEH1T KAA2NVER0SEY1SHAH0N TEH1MP TUW1 SEH1VAH0N': 'Lou set conversation temp to 7',\n",
       " 'LUW1 SEH1T PER1SAH0N TEH1MP TUW1 SEH1VAH0N': 'Lou set person temp to 7',\n",
       " 'LUW1 SEH1T GLOW1BAH0L TEH1MP TUW1 SEH1VAH0N': 'Lou set global temp to 7',\n",
       " 'LUW1 SEH1T KAA2NVER0SEY1SHAH0N TEH1MP TUW1 EY1T': 'Lou set conversation temp to 8',\n",
       " 'LUW1 SEH1T PER1SAH0N TEH1MP TUW1 EY1T': 'Lou set person temp to 8',\n",
       " 'LUW1 SEH1T GLOW1BAH0L TEH1MP TUW1 EY1T': 'Lou set global temp to 8',\n",
       " 'LUW1 SEH1T KAA2NVER0SEY1SHAH0N TEH1MP TUW1 NAY1N': 'Lou set conversation temp to 9',\n",
       " 'LUW1 SEH1T PER1SAH0N TEH1MP TUW1 NAY1N': 'Lou set person temp to 9',\n",
       " 'LUW1 SEH1T GLOW1BAH0L TEH1MP TUW1 NAY1N': 'Lou set global temp to 9',\n",
       " 'LUW1 CHEY1NJH KAA2NVER0SEY1SHAH0N TEH1MPRAH0CHER0 TUW1 ZIH1ROW0': 'Lou change conversation temperature to 0',\n",
       " 'LUW1 CHEY1NJH PER1SAH0N TEH1MPRAH0CHER0 TUW1 ZIH1ROW0': 'Lou change person temperature to 0',\n",
       " 'LUW1 CHEY1NJH GLOW1BAH0L TEH1MPRAH0CHER0 TUW1 ZIH1ROW0': 'Lou change global temperature to 0',\n",
       " 'LUW1 CHEY1NJH KAA2NVER0SEY1SHAH0N TEH1MPRAH0CHER0 TUW1 WAH1N': 'Lou change conversation temperature to 1',\n",
       " 'LUW1 CHEY1NJH PER1SAH0N TEH1MPRAH0CHER0 TUW1 WAH1N': 'Lou change person temperature to 1',\n",
       " 'LUW1 CHEY1NJH GLOW1BAH0L TEH1MPRAH0CHER0 TUW1 WAH1N': 'Lou change global temperature to 1',\n",
       " 'LUW1 CHEY1NJH KAA2NVER0SEY1SHAH0N TEH1MPRAH0CHER0 TUW1 TUW1': 'Lou change conversation temperature to 2',\n",
       " 'LUW1 CHEY1NJH PER1SAH0N TEH1MPRAH0CHER0 TUW1 TUW1': 'Lou change person temperature to 2',\n",
       " 'LUW1 CHEY1NJH GLOW1BAH0L TEH1MPRAH0CHER0 TUW1 TUW1': 'Lou change global temperature to 2',\n",
       " 'LUW1 CHEY1NJH KAA2NVER0SEY1SHAH0N TEH1MPRAH0CHER0 TUW1 THRIY1': 'Lou change conversation temperature to 3',\n",
       " 'LUW1 CHEY1NJH PER1SAH0N TEH1MPRAH0CHER0 TUW1 THRIY1': 'Lou change person temperature to 3',\n",
       " 'LUW1 CHEY1NJH GLOW1BAH0L TEH1MPRAH0CHER0 TUW1 THRIY1': 'Lou change global temperature to 3',\n",
       " 'LUW1 CHEY1NJH KAA2NVER0SEY1SHAH0N TEH1MPRAH0CHER0 TUW1 FAO1R': 'Lou change conversation temperature to 4',\n",
       " 'LUW1 CHEY1NJH PER1SAH0N TEH1MPRAH0CHER0 TUW1 FAO1R': 'Lou change person temperature to 4',\n",
       " 'LUW1 CHEY1NJH GLOW1BAH0L TEH1MPRAH0CHER0 TUW1 FAO1R': 'Lou change global temperature to 4',\n",
       " 'LUW1 CHEY1NJH KAA2NVER0SEY1SHAH0N TEH1MPRAH0CHER0 TUW1 FAY1V': 'Lou change conversation temperature to 5',\n",
       " 'LUW1 CHEY1NJH PER1SAH0N TEH1MPRAH0CHER0 TUW1 FAY1V': 'Lou change person temperature to 5',\n",
       " 'LUW1 CHEY1NJH GLOW1BAH0L TEH1MPRAH0CHER0 TUW1 FAY1V': 'Lou change global temperature to 5',\n",
       " 'LUW1 CHEY1NJH KAA2NVER0SEY1SHAH0N TEH1MPRAH0CHER0 TUW1 SIH1KS': 'Lou change conversation temperature to 6',\n",
       " 'LUW1 CHEY1NJH PER1SAH0N TEH1MPRAH0CHER0 TUW1 SIH1KS': 'Lou change person temperature to 6',\n",
       " 'LUW1 CHEY1NJH GLOW1BAH0L TEH1MPRAH0CHER0 TUW1 SIH1KS': 'Lou change global temperature to 6',\n",
       " 'LUW1 CHEY1NJH KAA2NVER0SEY1SHAH0N TEH1MPRAH0CHER0 TUW1 SEH1VAH0N': 'Lou change conversation temperature to 7',\n",
       " 'LUW1 CHEY1NJH PER1SAH0N TEH1MPRAH0CHER0 TUW1 SEH1VAH0N': 'Lou change person temperature to 7',\n",
       " 'LUW1 CHEY1NJH GLOW1BAH0L TEH1MPRAH0CHER0 TUW1 SEH1VAH0N': 'Lou change global temperature to 7',\n",
       " 'LUW1 CHEY1NJH KAA2NVER0SEY1SHAH0N TEH1MPRAH0CHER0 TUW1 EY1T': 'Lou change conversation temperature to 8',\n",
       " 'LUW1 CHEY1NJH PER1SAH0N TEH1MPRAH0CHER0 TUW1 EY1T': 'Lou change person temperature to 8',\n",
       " 'LUW1 CHEY1NJH GLOW1BAH0L TEH1MPRAH0CHER0 TUW1 EY1T': 'Lou change global temperature to 8',\n",
       " 'LUW1 CHEY1NJH KAA2NVER0SEY1SHAH0N TEH1MPRAH0CHER0 TUW1 NAY1N': 'Lou change conversation temperature to 9',\n",
       " 'LUW1 CHEY1NJH PER1SAH0N TEH1MPRAH0CHER0 TUW1 NAY1N': 'Lou change person temperature to 9',\n",
       " 'LUW1 CHEY1NJH GLOW1BAH0L TEH1MPRAH0CHER0 TUW1 NAY1N': 'Lou change global temperature to 9',\n",
       " 'LUW1 SEH1T KAA2NVER0SEY1SHAH0N TEH1MPRAH0CHER0 TUW1 ZIH1ROW0': 'Lou set conversation temperature to 0',\n",
       " 'LUW1 SEH1T PER1SAH0N TEH1MPRAH0CHER0 TUW1 ZIH1ROW0': 'Lou set person temperature to 0',\n",
       " 'LUW1 SEH1T GLOW1BAH0L TEH1MPRAH0CHER0 TUW1 ZIH1ROW0': 'Lou set global temperature to 0',\n",
       " 'LUW1 SEH1T KAA2NVER0SEY1SHAH0N TEH1MPRAH0CHER0 TUW1 WAH1N': 'Lou set conversation temperature to 1',\n",
       " 'LUW1 SEH1T PER1SAH0N TEH1MPRAH0CHER0 TUW1 WAH1N': 'Lou set person temperature to 1',\n",
       " 'LUW1 SEH1T GLOW1BAH0L TEH1MPRAH0CHER0 TUW1 WAH1N': 'Lou set global temperature to 1',\n",
       " 'LUW1 SEH1T KAA2NVER0SEY1SHAH0N TEH1MPRAH0CHER0 TUW1 TUW1': 'Lou set conversation temperature to 2',\n",
       " 'LUW1 SEH1T PER1SAH0N TEH1MPRAH0CHER0 TUW1 TUW1': 'Lou set person temperature to 2',\n",
       " 'LUW1 SEH1T GLOW1BAH0L TEH1MPRAH0CHER0 TUW1 TUW1': 'Lou set global temperature to 2',\n",
       " 'LUW1 SEH1T KAA2NVER0SEY1SHAH0N TEH1MPRAH0CHER0 TUW1 THRIY1': 'Lou set conversation temperature to 3',\n",
       " 'LUW1 SEH1T PER1SAH0N TEH1MPRAH0CHER0 TUW1 THRIY1': 'Lou set person temperature to 3',\n",
       " 'LUW1 SEH1T GLOW1BAH0L TEH1MPRAH0CHER0 TUW1 THRIY1': 'Lou set global temperature to 3',\n",
       " 'LUW1 SEH1T KAA2NVER0SEY1SHAH0N TEH1MPRAH0CHER0 TUW1 FAO1R': 'Lou set conversation temperature to 4',\n",
       " 'LUW1 SEH1T PER1SAH0N TEH1MPRAH0CHER0 TUW1 FAO1R': 'Lou set person temperature to 4',\n",
       " 'LUW1 SEH1T GLOW1BAH0L TEH1MPRAH0CHER0 TUW1 FAO1R': 'Lou set global temperature to 4',\n",
       " 'LUW1 SEH1T KAA2NVER0SEY1SHAH0N TEH1MPRAH0CHER0 TUW1 FAY1V': 'Lou set conversation temperature to 5',\n",
       " 'LUW1 SEH1T PER1SAH0N TEH1MPRAH0CHER0 TUW1 FAY1V': 'Lou set person temperature to 5',\n",
       " 'LUW1 SEH1T GLOW1BAH0L TEH1MPRAH0CHER0 TUW1 FAY1V': 'Lou set global temperature to 5',\n",
       " 'LUW1 SEH1T KAA2NVER0SEY1SHAH0N TEH1MPRAH0CHER0 TUW1 SIH1KS': 'Lou set conversation temperature to 6',\n",
       " 'LUW1 SEH1T PER1SAH0N TEH1MPRAH0CHER0 TUW1 SIH1KS': 'Lou set person temperature to 6',\n",
       " 'LUW1 SEH1T GLOW1BAH0L TEH1MPRAH0CHER0 TUW1 SIH1KS': 'Lou set global temperature to 6',\n",
       " 'LUW1 SEH1T KAA2NVER0SEY1SHAH0N TEH1MPRAH0CHER0 TUW1 SEH1VAH0N': 'Lou set conversation temperature to 7',\n",
       " 'LUW1 SEH1T PER1SAH0N TEH1MPRAH0CHER0 TUW1 SEH1VAH0N': 'Lou set person temperature to 7',\n",
       " 'LUW1 SEH1T GLOW1BAH0L TEH1MPRAH0CHER0 TUW1 SEH1VAH0N': 'Lou set global temperature to 7',\n",
       " 'LUW1 SEH1T KAA2NVER0SEY1SHAH0N TEH1MPRAH0CHER0 TUW1 EY1T': 'Lou set conversation temperature to 8',\n",
       " 'LUW1 SEH1T PER1SAH0N TEH1MPRAH0CHER0 TUW1 EY1T': 'Lou set person temperature to 8',\n",
       " 'LUW1 SEH1T GLOW1BAH0L TEH1MPRAH0CHER0 TUW1 EY1T': 'Lou set global temperature to 8',\n",
       " 'LUW1 SEH1T KAA2NVER0SEY1SHAH0N TEH1MPRAH0CHER0 TUW1 NAY1N': 'Lou set conversation temperature to 9',\n",
       " 'LUW1 SEH1T PER1SAH0N TEH1MPRAH0CHER0 TUW1 NAY1N': 'Lou set person temperature to 9',\n",
       " 'LUW1 SEH1T GLOW1BAH0L TEH1MPRAH0CHER0 TUW1 NAY1N': 'Lou set global temperature to 9',\n",
       " 'LUW1 SEH1T TEH1MP TUW1 ZIH1ROW0': 'Lou set temp to 0',\n",
       " 'LUW1 SEH1T TEH1MP TUW1 WAH1N': 'Lou set temp to 1',\n",
       " 'LUW1 SEH1T TEH1MP TUW1 TUW1': 'Lou set temp to 2',\n",
       " 'LUW1 SEH1T TEH1MP TUW1 THRIY1': 'Lou set temp to 3',\n",
       " 'LUW1 SEH1T TEH1MP TUW1 FAO1R': 'Lou set temp to 4',\n",
       " 'LUW1 SEH1T TEH1MP TUW1 FAY1V': 'Lou set temp to 5',\n",
       " 'LUW1 SEH1T TEH1MP TUW1 SIH1KS': 'Lou set temp to 6',\n",
       " 'LUW1 SEH1T TEH1MP TUW1 SEH1VAH0N': 'Lou set temp to 7',\n",
       " 'LUW1 SEH1T TEH1MP TUW1 EY1T': 'Lou set temp to 8',\n",
       " 'LUW1 SEH1T TEH1MP TUW1 NAY1N': 'Lou set temp to 9',\n",
       " 'LUW1 CHEY1NJH TEH1MP TUW1 ZIH1ROW0': 'Lou change temp to 0',\n",
       " 'LUW1 CHEY1NJH TEH1MP TUW1 WAH1N': 'Lou change temp to 1',\n",
       " 'LUW1 CHEY1NJH TEH1MP TUW1 TUW1': 'Lou change temp to 2',\n",
       " 'LUW1 CHEY1NJH TEH1MP TUW1 THRIY1': 'Lou change temp to 3',\n",
       " 'LUW1 CHEY1NJH TEH1MP TUW1 FAO1R': 'Lou change temp to 4',\n",
       " 'LUW1 CHEY1NJH TEH1MP TUW1 FAY1V': 'Lou change temp to 5',\n",
       " 'LUW1 CHEY1NJH TEH1MP TUW1 SIH1KS': 'Lou change temp to 6',\n",
       " 'LUW1 CHEY1NJH TEH1MP TUW1 SEH1VAH0N': 'Lou change temp to 7',\n",
       " 'LUW1 CHEY1NJH TEH1MP TUW1 EY1T': 'Lou change temp to 8',\n",
       " 'LUW1 CHEY1NJH TEH1MP TUW1 NAY1N': 'Lou change temp to 9',\n",
       " 'LUW1 CHEY1NJH TEH1MPRAH0CHER0 TUW1 ZIH1ROW0': 'Lou change temperature to 0',\n",
       " 'LUW1 CHEY1NJH TEH1MPRAH0CHER0 TUW1 WAH1N': 'Lou change temperature to 1',\n",
       " 'LUW1 CHEY1NJH TEH1MPRAH0CHER0 TUW1 TUW1': 'Lou change temperature to 2',\n",
       " 'LUW1 CHEY1NJH TEH1MPRAH0CHER0 TUW1 THRIY1': 'Lou change temperature to 3',\n",
       " 'LUW1 CHEY1NJH TEH1MPRAH0CHER0 TUW1 FAO1R': 'Lou change temperature to 4',\n",
       " 'LUW1 CHEY1NJH TEH1MPRAH0CHER0 TUW1 FAY1V': 'Lou change temperature to 5',\n",
       " 'LUW1 CHEY1NJH TEH1MPRAH0CHER0 TUW1 SIH1KS': 'Lou change temperature to 6',\n",
       " 'LUW1 CHEY1NJH TEH1MPRAH0CHER0 TUW1 SEH1VAH0N': 'Lou change temperature to 7',\n",
       " 'LUW1 CHEY1NJH TEH1MPRAH0CHER0 TUW1 EY1T': 'Lou change temperature to 8',\n",
       " 'LUW1 CHEY1NJH TEH1MPRAH0CHER0 TUW1 NAY1N': 'Lou change temperature to 9',\n",
       " 'LUW1 SEH1T TEH1MPRAH0CHER0 TUW1 ZIH1ROW0': 'Lou set temperature to 0',\n",
       " 'LUW1 SEH1T TEH1MPRAH0CHER0 TUW1 WAH1N': 'Lou set temperature to 1',\n",
       " 'LUW1 SEH1T TEH1MPRAH0CHER0 TUW1 TUW1': 'Lou set temperature to 2',\n",
       " 'LUW1 SEH1T TEH1MPRAH0CHER0 TUW1 THRIY1': 'Lou set temperature to 3',\n",
       " 'LUW1 SEH1T TEH1MPRAH0CHER0 TUW1 FAO1R': 'Lou set temperature to 4',\n",
       " 'LUW1 SEH1T TEH1MPRAH0CHER0 TUW1 FAY1V': 'Lou set temperature to 5',\n",
       " 'LUW1 SEH1T TEH1MPRAH0CHER0 TUW1 SIH1KS': 'Lou set temperature to 6',\n",
       " 'LUW1 SEH1T TEH1MPRAH0CHER0 TUW1 SEH1VAH0N': 'Lou set temperature to 7',\n",
       " 'LUW1 SEH1T TEH1MPRAH0CHER0 TUW1 EY1T': 'Lou set temperature to 8',\n",
       " 'LUW1 SEH1T TEH1MPRAH0CHER0 TUW1 NAY1N': 'Lou set temperature to 9',\n",
       " 'LUW1 CHEY1NJH KAA2NVER0SEY1SHAH0N MAE1KS TOW1KAH0NZ TUW1 ZIH1ROW0': 'Lou change conversation max tokens to 0',\n",
       " 'LUW1 CHEY1NJH PER1SAH0N MAE1KS TOW1KAH0NZ TUW1 ZIH1ROW0': 'Lou change person max tokens to 0',\n",
       " 'LUW1 CHEY1NJH GLOW1BAH0L MAE1KS TOW1KAH0NZ TUW1 ZIH1ROW0': 'Lou change global max tokens to 0',\n",
       " 'LUW1 CHEY1NJH KAA2NVER0SEY1SHAH0N MAE1KS TOW1KAH0NZ TUW1 WAH1N': 'Lou change conversation max tokens to 1',\n",
       " 'LUW1 CHEY1NJH PER1SAH0N MAE1KS TOW1KAH0NZ TUW1 WAH1N': 'Lou change person max tokens to 1',\n",
       " 'LUW1 CHEY1NJH GLOW1BAH0L MAE1KS TOW1KAH0NZ TUW1 WAH1N': 'Lou change global max tokens to 1',\n",
       " 'LUW1 CHEY1NJH KAA2NVER0SEY1SHAH0N MAE1KS TOW1KAH0NZ TUW1 TUW1': 'Lou change conversation max tokens to 2',\n",
       " 'LUW1 CHEY1NJH PER1SAH0N MAE1KS TOW1KAH0NZ TUW1 TUW1': 'Lou change person max tokens to 2',\n",
       " 'LUW1 CHEY1NJH GLOW1BAH0L MAE1KS TOW1KAH0NZ TUW1 TUW1': 'Lou change global max tokens to 2',\n",
       " 'LUW1 CHEY1NJH KAA2NVER0SEY1SHAH0N MAE1KS TOW1KAH0NZ TUW1 THRIY1': 'Lou change conversation max tokens to 3',\n",
       " 'LUW1 CHEY1NJH PER1SAH0N MAE1KS TOW1KAH0NZ TUW1 THRIY1': 'Lou change person max tokens to 3',\n",
       " 'LUW1 CHEY1NJH GLOW1BAH0L MAE1KS TOW1KAH0NZ TUW1 THRIY1': 'Lou change global max tokens to 3',\n",
       " 'LUW1 CHEY1NJH KAA2NVER0SEY1SHAH0N MAE1KS TOW1KAH0NZ TUW1 FAO1R': 'Lou change conversation max tokens to 4',\n",
       " 'LUW1 CHEY1NJH PER1SAH0N MAE1KS TOW1KAH0NZ TUW1 FAO1R': 'Lou change person max tokens to 4',\n",
       " 'LUW1 CHEY1NJH GLOW1BAH0L MAE1KS TOW1KAH0NZ TUW1 FAO1R': 'Lou change global max tokens to 4',\n",
       " 'LUW1 CHEY1NJH KAA2NVER0SEY1SHAH0N MAE1KS TOW1KAH0NZ TUW1 FAY1V': 'Lou change conversation max tokens to 5',\n",
       " 'LUW1 CHEY1NJH PER1SAH0N MAE1KS TOW1KAH0NZ TUW1 FAY1V': 'Lou change person max tokens to 5',\n",
       " 'LUW1 CHEY1NJH GLOW1BAH0L MAE1KS TOW1KAH0NZ TUW1 FAY1V': 'Lou change global max tokens to 5',\n",
       " 'LUW1 CHEY1NJH KAA2NVER0SEY1SHAH0N MAE1KS TOW1KAH0NZ TUW1 SIH1KS': 'Lou change conversation max tokens to 6',\n",
       " 'LUW1 CHEY1NJH PER1SAH0N MAE1KS TOW1KAH0NZ TUW1 SIH1KS': 'Lou change person max tokens to 6',\n",
       " 'LUW1 CHEY1NJH GLOW1BAH0L MAE1KS TOW1KAH0NZ TUW1 SIH1KS': 'Lou change global max tokens to 6',\n",
       " 'LUW1 CHEY1NJH KAA2NVER0SEY1SHAH0N MAE1KS TOW1KAH0NZ TUW1 SEH1VAH0N': 'Lou change conversation max tokens to 7',\n",
       " 'LUW1 CHEY1NJH PER1SAH0N MAE1KS TOW1KAH0NZ TUW1 SEH1VAH0N': 'Lou change person max tokens to 7',\n",
       " 'LUW1 CHEY1NJH GLOW1BAH0L MAE1KS TOW1KAH0NZ TUW1 SEH1VAH0N': 'Lou change global max tokens to 7',\n",
       " 'LUW1 CHEY1NJH KAA2NVER0SEY1SHAH0N MAE1KS TOW1KAH0NZ TUW1 EY1T': 'Lou change conversation max tokens to 8',\n",
       " 'LUW1 CHEY1NJH PER1SAH0N MAE1KS TOW1KAH0NZ TUW1 EY1T': 'Lou change person max tokens to 8',\n",
       " 'LUW1 CHEY1NJH GLOW1BAH0L MAE1KS TOW1KAH0NZ TUW1 EY1T': 'Lou change global max tokens to 8',\n",
       " 'LUW1 CHEY1NJH KAA2NVER0SEY1SHAH0N MAE1KS TOW1KAH0NZ TUW1 NAY1N': 'Lou change conversation max tokens to 9',\n",
       " 'LUW1 CHEY1NJH PER1SAH0N MAE1KS TOW1KAH0NZ TUW1 NAY1N': 'Lou change person max tokens to 9',\n",
       " 'LUW1 CHEY1NJH GLOW1BAH0L MAE1KS TOW1KAH0NZ TUW1 NAY1N': 'Lou change global max tokens to 9',\n",
       " 'LUW1 SEH1T KAA2NVER0SEY1SHAH0N MAE1KS TOW1KAH0NZ TUW1 ZIH1ROW0': 'Lou set conversation max tokens to 0',\n",
       " 'LUW1 SEH1T PER1SAH0N MAE1KS TOW1KAH0NZ TUW1 ZIH1ROW0': 'Lou set person max tokens to 0',\n",
       " 'LUW1 SEH1T GLOW1BAH0L MAE1KS TOW1KAH0NZ TUW1 ZIH1ROW0': 'Lou set global max tokens to 0',\n",
       " 'LUW1 SEH1T KAA2NVER0SEY1SHAH0N MAE1KS TOW1KAH0NZ TUW1 WAH1N': 'Lou set conversation max tokens to 1',\n",
       " 'LUW1 SEH1T PER1SAH0N MAE1KS TOW1KAH0NZ TUW1 WAH1N': 'Lou set person max tokens to 1',\n",
       " 'LUW1 SEH1T GLOW1BAH0L MAE1KS TOW1KAH0NZ TUW1 WAH1N': 'Lou set global max tokens to 1',\n",
       " 'LUW1 SEH1T KAA2NVER0SEY1SHAH0N MAE1KS TOW1KAH0NZ TUW1 TUW1': 'Lou set conversation max tokens to 2',\n",
       " 'LUW1 SEH1T PER1SAH0N MAE1KS TOW1KAH0NZ TUW1 TUW1': 'Lou set person max tokens to 2',\n",
       " 'LUW1 SEH1T GLOW1BAH0L MAE1KS TOW1KAH0NZ TUW1 TUW1': 'Lou set global max tokens to 2',\n",
       " 'LUW1 SEH1T KAA2NVER0SEY1SHAH0N MAE1KS TOW1KAH0NZ TUW1 THRIY1': 'Lou set conversation max tokens to 3',\n",
       " 'LUW1 SEH1T PER1SAH0N MAE1KS TOW1KAH0NZ TUW1 THRIY1': 'Lou set person max tokens to 3',\n",
       " 'LUW1 SEH1T GLOW1BAH0L MAE1KS TOW1KAH0NZ TUW1 THRIY1': 'Lou set global max tokens to 3',\n",
       " 'LUW1 SEH1T KAA2NVER0SEY1SHAH0N MAE1KS TOW1KAH0NZ TUW1 FAO1R': 'Lou set conversation max tokens to 4',\n",
       " 'LUW1 SEH1T PER1SAH0N MAE1KS TOW1KAH0NZ TUW1 FAO1R': 'Lou set person max tokens to 4',\n",
       " 'LUW1 SEH1T GLOW1BAH0L MAE1KS TOW1KAH0NZ TUW1 FAO1R': 'Lou set global max tokens to 4',\n",
       " 'LUW1 SEH1T KAA2NVER0SEY1SHAH0N MAE1KS TOW1KAH0NZ TUW1 FAY1V': 'Lou set conversation max tokens to 5',\n",
       " 'LUW1 SEH1T PER1SAH0N MAE1KS TOW1KAH0NZ TUW1 FAY1V': 'Lou set person max tokens to 5',\n",
       " 'LUW1 SEH1T GLOW1BAH0L MAE1KS TOW1KAH0NZ TUW1 FAY1V': 'Lou set global max tokens to 5',\n",
       " 'LUW1 SEH1T KAA2NVER0SEY1SHAH0N MAE1KS TOW1KAH0NZ TUW1 SIH1KS': 'Lou set conversation max tokens to 6',\n",
       " 'LUW1 SEH1T PER1SAH0N MAE1KS TOW1KAH0NZ TUW1 SIH1KS': 'Lou set person max tokens to 6',\n",
       " 'LUW1 SEH1T GLOW1BAH0L MAE1KS TOW1KAH0NZ TUW1 SIH1KS': 'Lou set global max tokens to 6',\n",
       " 'LUW1 SEH1T KAA2NVER0SEY1SHAH0N MAE1KS TOW1KAH0NZ TUW1 SEH1VAH0N': 'Lou set conversation max tokens to 7',\n",
       " 'LUW1 SEH1T PER1SAH0N MAE1KS TOW1KAH0NZ TUW1 SEH1VAH0N': 'Lou set person max tokens to 7',\n",
       " 'LUW1 SEH1T GLOW1BAH0L MAE1KS TOW1KAH0NZ TUW1 SEH1VAH0N': 'Lou set global max tokens to 7',\n",
       " 'LUW1 SEH1T KAA2NVER0SEY1SHAH0N MAE1KS TOW1KAH0NZ TUW1 EY1T': 'Lou set conversation max tokens to 8',\n",
       " 'LUW1 SEH1T PER1SAH0N MAE1KS TOW1KAH0NZ TUW1 EY1T': 'Lou set person max tokens to 8',\n",
       " 'LUW1 SEH1T GLOW1BAH0L MAE1KS TOW1KAH0NZ TUW1 EY1T': 'Lou set global max tokens to 8',\n",
       " 'LUW1 SEH1T KAA2NVER0SEY1SHAH0N MAE1KS TOW1KAH0NZ TUW1 NAY1N': 'Lou set conversation max tokens to 9',\n",
       " 'LUW1 SEH1T PER1SAH0N MAE1KS TOW1KAH0NZ TUW1 NAY1N': 'Lou set person max tokens to 9',\n",
       " 'LUW1 SEH1T GLOW1BAH0L MAE1KS TOW1KAH0NZ TUW1 NAY1N': 'Lou set global max tokens to 9',\n",
       " 'LUW1 CHEY1NJH KAA2NVER0SEY1SHAH0N MAE1KS LEH1NGKTH TUW1 ZIH1ROW0': 'Lou change conversation max length to 0',\n",
       " 'LUW1 CHEY1NJH PER1SAH0N MAE1KS LEH1NGKTH TUW1 ZIH1ROW0': 'Lou change person max length to 0',\n",
       " 'LUW1 CHEY1NJH GLOW1BAH0L MAE1KS LEH1NGKTH TUW1 ZIH1ROW0': 'Lou change global max length to 0',\n",
       " 'LUW1 CHEY1NJH KAA2NVER0SEY1SHAH0N MAE1KS LEH1NGKTH TUW1 WAH1N': 'Lou change conversation max length to 1',\n",
       " 'LUW1 CHEY1NJH PER1SAH0N MAE1KS LEH1NGKTH TUW1 WAH1N': 'Lou change person max length to 1',\n",
       " 'LUW1 CHEY1NJH GLOW1BAH0L MAE1KS LEH1NGKTH TUW1 WAH1N': 'Lou change global max length to 1',\n",
       " 'LUW1 CHEY1NJH KAA2NVER0SEY1SHAH0N MAE1KS LEH1NGKTH TUW1 TUW1': 'Lou change conversation max length to 2',\n",
       " 'LUW1 CHEY1NJH PER1SAH0N MAE1KS LEH1NGKTH TUW1 TUW1': 'Lou change person max length to 2',\n",
       " 'LUW1 CHEY1NJH GLOW1BAH0L MAE1KS LEH1NGKTH TUW1 TUW1': 'Lou change global max length to 2',\n",
       " 'LUW1 CHEY1NJH KAA2NVER0SEY1SHAH0N MAE1KS LEH1NGKTH TUW1 THRIY1': 'Lou change conversation max length to 3',\n",
       " 'LUW1 CHEY1NJH PER1SAH0N MAE1KS LEH1NGKTH TUW1 THRIY1': 'Lou change person max length to 3',\n",
       " 'LUW1 CHEY1NJH GLOW1BAH0L MAE1KS LEH1NGKTH TUW1 THRIY1': 'Lou change global max length to 3',\n",
       " 'LUW1 CHEY1NJH KAA2NVER0SEY1SHAH0N MAE1KS LEH1NGKTH TUW1 FAO1R': 'Lou change conversation max length to 4',\n",
       " 'LUW1 CHEY1NJH PER1SAH0N MAE1KS LEH1NGKTH TUW1 FAO1R': 'Lou change person max length to 4',\n",
       " 'LUW1 CHEY1NJH GLOW1BAH0L MAE1KS LEH1NGKTH TUW1 FAO1R': 'Lou change global max length to 4',\n",
       " 'LUW1 CHEY1NJH KAA2NVER0SEY1SHAH0N MAE1KS LEH1NGKTH TUW1 FAY1V': 'Lou change conversation max length to 5',\n",
       " 'LUW1 CHEY1NJH PER1SAH0N MAE1KS LEH1NGKTH TUW1 FAY1V': 'Lou change person max length to 5',\n",
       " 'LUW1 CHEY1NJH GLOW1BAH0L MAE1KS LEH1NGKTH TUW1 FAY1V': 'Lou change global max length to 5',\n",
       " 'LUW1 CHEY1NJH KAA2NVER0SEY1SHAH0N MAE1KS LEH1NGKTH TUW1 SIH1KS': 'Lou change conversation max length to 6',\n",
       " 'LUW1 CHEY1NJH PER1SAH0N MAE1KS LEH1NGKTH TUW1 SIH1KS': 'Lou change person max length to 6',\n",
       " 'LUW1 CHEY1NJH GLOW1BAH0L MAE1KS LEH1NGKTH TUW1 SIH1KS': 'Lou change global max length to 6',\n",
       " 'LUW1 CHEY1NJH KAA2NVER0SEY1SHAH0N MAE1KS LEH1NGKTH TUW1 SEH1VAH0N': 'Lou change conversation max length to 7',\n",
       " 'LUW1 CHEY1NJH PER1SAH0N MAE1KS LEH1NGKTH TUW1 SEH1VAH0N': 'Lou change person max length to 7',\n",
       " 'LUW1 CHEY1NJH GLOW1BAH0L MAE1KS LEH1NGKTH TUW1 SEH1VAH0N': 'Lou change global max length to 7',\n",
       " 'LUW1 CHEY1NJH KAA2NVER0SEY1SHAH0N MAE1KS LEH1NGKTH TUW1 EY1T': 'Lou change conversation max length to 8',\n",
       " 'LUW1 CHEY1NJH PER1SAH0N MAE1KS LEH1NGKTH TUW1 EY1T': 'Lou change person max length to 8',\n",
       " 'LUW1 CHEY1NJH GLOW1BAH0L MAE1KS LEH1NGKTH TUW1 EY1T': 'Lou change global max length to 8',\n",
       " 'LUW1 CHEY1NJH KAA2NVER0SEY1SHAH0N MAE1KS LEH1NGKTH TUW1 NAY1N': 'Lou change conversation max length to 9',\n",
       " 'LUW1 CHEY1NJH PER1SAH0N MAE1KS LEH1NGKTH TUW1 NAY1N': 'Lou change person max length to 9',\n",
       " 'LUW1 CHEY1NJH GLOW1BAH0L MAE1KS LEH1NGKTH TUW1 NAY1N': 'Lou change global max length to 9',\n",
       " 'LUW1 SEH1T KAA2NVER0SEY1SHAH0N MAE1KS LEH1NGKTH TUW1 ZIH1ROW0': 'Lou set conversation  max length to 0',\n",
       " 'LUW1 SEH1T PER1SAH0N MAE1KS LEH1NGKTH TUW1 ZIH1ROW0': 'Lou set person  max length to 0',\n",
       " 'LUW1 SEH1T GLOW1BAH0L MAE1KS LEH1NGKTH TUW1 ZIH1ROW0': 'Lou set global  max length to 0',\n",
       " 'LUW1 SEH1T KAA2NVER0SEY1SHAH0N MAE1KS LEH1NGKTH TUW1 WAH1N': 'Lou set conversation  max length to 1',\n",
       " 'LUW1 SEH1T PER1SAH0N MAE1KS LEH1NGKTH TUW1 WAH1N': 'Lou set person  max length to 1',\n",
       " 'LUW1 SEH1T GLOW1BAH0L MAE1KS LEH1NGKTH TUW1 WAH1N': 'Lou set global  max length to 1',\n",
       " 'LUW1 SEH1T KAA2NVER0SEY1SHAH0N MAE1KS LEH1NGKTH TUW1 TUW1': 'Lou set conversation  max length to 2',\n",
       " 'LUW1 SEH1T PER1SAH0N MAE1KS LEH1NGKTH TUW1 TUW1': 'Lou set person  max length to 2',\n",
       " 'LUW1 SEH1T GLOW1BAH0L MAE1KS LEH1NGKTH TUW1 TUW1': 'Lou set global  max length to 2',\n",
       " 'LUW1 SEH1T KAA2NVER0SEY1SHAH0N MAE1KS LEH1NGKTH TUW1 THRIY1': 'Lou set conversation  max length to 3',\n",
       " 'LUW1 SEH1T PER1SAH0N MAE1KS LEH1NGKTH TUW1 THRIY1': 'Lou set person  max length to 3',\n",
       " 'LUW1 SEH1T GLOW1BAH0L MAE1KS LEH1NGKTH TUW1 THRIY1': 'Lou set global  max length to 3',\n",
       " 'LUW1 SEH1T KAA2NVER0SEY1SHAH0N MAE1KS LEH1NGKTH TUW1 FAO1R': 'Lou set conversation  max length to 4',\n",
       " 'LUW1 SEH1T PER1SAH0N MAE1KS LEH1NGKTH TUW1 FAO1R': 'Lou set person  max length to 4',\n",
       " 'LUW1 SEH1T GLOW1BAH0L MAE1KS LEH1NGKTH TUW1 FAO1R': 'Lou set global  max length to 4',\n",
       " 'LUW1 SEH1T KAA2NVER0SEY1SHAH0N MAE1KS LEH1NGKTH TUW1 FAY1V': 'Lou set conversation  max length to 5',\n",
       " 'LUW1 SEH1T PER1SAH0N MAE1KS LEH1NGKTH TUW1 FAY1V': 'Lou set person  max length to 5',\n",
       " 'LUW1 SEH1T GLOW1BAH0L MAE1KS LEH1NGKTH TUW1 FAY1V': 'Lou set global  max length to 5',\n",
       " 'LUW1 SEH1T KAA2NVER0SEY1SHAH0N MAE1KS LEH1NGKTH TUW1 SIH1KS': 'Lou set conversation  max length to 6',\n",
       " 'LUW1 SEH1T PER1SAH0N MAE1KS LEH1NGKTH TUW1 SIH1KS': 'Lou set person  max length to 6',\n",
       " 'LUW1 SEH1T GLOW1BAH0L MAE1KS LEH1NGKTH TUW1 SIH1KS': 'Lou set global  max length to 6',\n",
       " 'LUW1 SEH1T KAA2NVER0SEY1SHAH0N MAE1KS LEH1NGKTH TUW1 SEH1VAH0N': 'Lou set conversation  max length to 7',\n",
       " 'LUW1 SEH1T PER1SAH0N MAE1KS LEH1NGKTH TUW1 SEH1VAH0N': 'Lou set person  max length to 7',\n",
       " 'LUW1 SEH1T GLOW1BAH0L MAE1KS LEH1NGKTH TUW1 SEH1VAH0N': 'Lou set global  max length to 7',\n",
       " 'LUW1 SEH1T KAA2NVER0SEY1SHAH0N MAE1KS LEH1NGKTH TUW1 EY1T': 'Lou set conversation  max length to 8',\n",
       " 'LUW1 SEH1T PER1SAH0N MAE1KS LEH1NGKTH TUW1 EY1T': 'Lou set person  max length to 8',\n",
       " 'LUW1 SEH1T GLOW1BAH0L MAE1KS LEH1NGKTH TUW1 EY1T': 'Lou set global  max length to 8',\n",
       " 'LUW1 SEH1T KAA2NVER0SEY1SHAH0N MAE1KS LEH1NGKTH TUW1 NAY1N': 'Lou set conversation  max length to 9',\n",
       " 'LUW1 SEH1T PER1SAH0N MAE1KS LEH1NGKTH TUW1 NAY1N': 'Lou set person  max length to 9',\n",
       " 'LUW1 SEH1T GLOW1BAH0L MAE1KS LEH1NGKTH TUW1 NAY1N': 'Lou set global  max length to 9',\n",
       " 'LUW1 SEH1T MAE1KS TOW1KAH0NZ TUW1 ZIH1ROW0': 'Lou set max tokens to 0',\n",
       " 'LUW1 SEH1T MAE1KS TOW1KAH0NZ TUW1 WAH1N': 'Lou set max tokens to 1',\n",
       " 'LUW1 SEH1T MAE1KS TOW1KAH0NZ TUW1 TUW1': 'Lou set max tokens to 2',\n",
       " 'LUW1 SEH1T MAE1KS TOW1KAH0NZ TUW1 THRIY1': 'Lou set max tokens to 3',\n",
       " 'LUW1 SEH1T MAE1KS TOW1KAH0NZ TUW1 FAO1R': 'Lou set max tokens to 4',\n",
       " 'LUW1 SEH1T MAE1KS TOW1KAH0NZ TUW1 FAY1V': 'Lou set max tokens to 5',\n",
       " 'LUW1 SEH1T MAE1KS TOW1KAH0NZ TUW1 SIH1KS': 'Lou set max tokens to 6',\n",
       " 'LUW1 SEH1T MAE1KS TOW1KAH0NZ TUW1 SEH1VAH0N': 'Lou set max tokens to 7',\n",
       " 'LUW1 SEH1T MAE1KS TOW1KAH0NZ TUW1 EY1T': 'Lou set max tokens to 8',\n",
       " 'LUW1 SEH1T MAE1KS TOW1KAH0NZ TUW1 NAY1N': 'Lou set max tokens to 9',\n",
       " 'LUW1 CHEY1NJH MAE1KS TOW1KAH0NZ TUW1 ZIH1ROW0': 'Lou change max tokens to 0',\n",
       " 'LUW1 CHEY1NJH MAE1KS TOW1KAH0NZ TUW1 WAH1N': 'Lou change max tokens to 1',\n",
       " 'LUW1 CHEY1NJH MAE1KS TOW1KAH0NZ TUW1 TUW1': 'Lou change max tokens to 2',\n",
       " 'LUW1 CHEY1NJH MAE1KS TOW1KAH0NZ TUW1 THRIY1': 'Lou change max tokens to 3',\n",
       " 'LUW1 CHEY1NJH MAE1KS TOW1KAH0NZ TUW1 FAO1R': 'Lou change max tokens to 4',\n",
       " 'LUW1 CHEY1NJH MAE1KS TOW1KAH0NZ TUW1 FAY1V': 'Lou change max tokens to 5',\n",
       " 'LUW1 CHEY1NJH MAE1KS TOW1KAH0NZ TUW1 SIH1KS': 'Lou change max tokens to 6',\n",
       " 'LUW1 CHEY1NJH MAE1KS TOW1KAH0NZ TUW1 SEH1VAH0N': 'Lou change max tokens to 7',\n",
       " 'LUW1 CHEY1NJH MAE1KS TOW1KAH0NZ TUW1 EY1T': 'Lou change max tokens to 8',\n",
       " 'LUW1 CHEY1NJH MAE1KS TOW1KAH0NZ TUW1 NAY1N': 'Lou change max tokens to 9',\n",
       " 'LUW1 CHEY1NJH MAE1KS LEH1NGKTH TUW1 ZIH1ROW0': 'Lou change max length to 0',\n",
       " 'LUW1 CHEY1NJH MAE1KS LEH1NGKTH TUW1 WAH1N': 'Lou change max length to 1',\n",
       " 'LUW1 CHEY1NJH MAE1KS LEH1NGKTH TUW1 TUW1': 'Lou change max length to 2',\n",
       " 'LUW1 CHEY1NJH MAE1KS LEH1NGKTH TUW1 THRIY1': 'Lou change max length to 3',\n",
       " 'LUW1 CHEY1NJH MAE1KS LEH1NGKTH TUW1 FAO1R': 'Lou change max length to 4',\n",
       " 'LUW1 CHEY1NJH MAE1KS LEH1NGKTH TUW1 FAY1V': 'Lou change max length to 5',\n",
       " 'LUW1 CHEY1NJH MAE1KS LEH1NGKTH TUW1 SIH1KS': 'Lou change max length to 6',\n",
       " 'LUW1 CHEY1NJH MAE1KS LEH1NGKTH TUW1 SEH1VAH0N': 'Lou change max length to 7',\n",
       " 'LUW1 CHEY1NJH MAE1KS LEH1NGKTH TUW1 EY1T': 'Lou change max length to 8',\n",
       " 'LUW1 CHEY1NJH MAE1KS LEH1NGKTH TUW1 NAY1N': 'Lou change max length to 9',\n",
       " 'LUW1 SEH1T MAE1KS LEH1NGKTH TUW1 ZIH1ROW0': 'Lou set max length to 0',\n",
       " 'LUW1 SEH1T MAE1KS LEH1NGKTH TUW1 WAH1N': 'Lou set max length to 1',\n",
       " 'LUW1 SEH1T MAE1KS LEH1NGKTH TUW1 TUW1': 'Lou set max length to 2',\n",
       " 'LUW1 SEH1T MAE1KS LEH1NGKTH TUW1 THRIY1': 'Lou set max length to 3',\n",
       " 'LUW1 SEH1T MAE1KS LEH1NGKTH TUW1 FAO1R': 'Lou set max length to 4',\n",
       " 'LUW1 SEH1T MAE1KS LEH1NGKTH TUW1 FAY1V': 'Lou set max length to 5',\n",
       " 'LUW1 SEH1T MAE1KS LEH1NGKTH TUW1 SIH1KS': 'Lou set max length to 6',\n",
       " 'LUW1 SEH1T MAE1KS LEH1NGKTH TUW1 SEH1VAH0N': 'Lou set max length to 7',\n",
       " 'LUW1 SEH1T MAE1KS LEH1NGKTH TUW1 EY1T': 'Lou set max length to 8',\n",
       " 'LUW1 SEH1T MAE1KS LEH1NGKTH TUW1 NAY1N': 'Lou set max length to 9',\n",
       " 'LUW1 SWIH1CH MAA1DAH0L TUW1 ZIH1ROW0': 'Lou switch model to 0',\n",
       " 'LUW1 SWIH1CH MAA1DAH0L TUW1 WAH1N': 'Lou switch model to 1',\n",
       " 'LUW1 SWIH1CH MAA1DAH0L TUW1 TUW1': 'Lou switch model to 2',\n",
       " 'LUW1 SWIH1CH MAA1DAH0L TUW1 THRIY1': 'Lou switch model to 3',\n",
       " 'LUW1 SWIH1CH MAA1DAH0L TUW1 FAO1R': 'Lou switch model to 4',\n",
       " 'LUW1 SWIH1CH MAA1DAH0L TUW1 FAY1V': 'Lou switch model to 5',\n",
       " 'LUW1 SWIH1CH MAA1DAH0L TUW1 SIH1KS': 'Lou switch model to 6',\n",
       " 'LUW1 SWIH1CH MAA1DAH0L TUW1 SEH1VAH0N': 'Lou switch model to 7',\n",
       " 'LUW1 SWIH1CH MAA1DAH0L TUW1 EY1T': 'Lou switch model to 8',\n",
       " 'LUW1 SWIH1CH MAA1DAH0L TUW1 NAY1N': 'Lou switch model to 9',\n",
       " 'LUW1 CHEY1NJH MAA1DAH0L TUW1 ZIH1ROW0': 'Lou change model to 0',\n",
       " 'LUW1 CHEY1NJH MAA1DAH0L TUW1 WAH1N': 'Lou change model to 1',\n",
       " 'LUW1 CHEY1NJH MAA1DAH0L TUW1 TUW1': 'Lou change model to 2',\n",
       " 'LUW1 CHEY1NJH MAA1DAH0L TUW1 THRIY1': 'Lou change model to 3',\n",
       " 'LUW1 CHEY1NJH MAA1DAH0L TUW1 FAO1R': 'Lou change model to 4',\n",
       " 'LUW1 CHEY1NJH MAA1DAH0L TUW1 FAY1V': 'Lou change model to 5',\n",
       " 'LUW1 CHEY1NJH MAA1DAH0L TUW1 SIH1KS': 'Lou change model to 6',\n",
       " 'LUW1 CHEY1NJH MAA1DAH0L TUW1 SEH1VAH0N': 'Lou change model to 7',\n",
       " 'LUW1 CHEY1NJH MAA1DAH0L TUW1 EY1T': 'Lou change model to 8',\n",
       " 'LUW1 CHEY1NJH MAA1DAH0L TUW1 NAY1N': 'Lou change model to 9',\n",
       " 'LUW1 SWIH1CH KAA2NVER0SEY1SHAH0N MAA1DAH0L TUW1 ZIH1ROW0': 'Lou switch conversation model to 0',\n",
       " 'LUW1 SWIH1CH PER1SAH0N MAA1DAH0L TUW1 ZIH1ROW0': 'Lou switch person model to 0',\n",
       " 'LUW1 SWIH1CH GLOW1BAH0L MAA1DAH0L TUW1 ZIH1ROW0': 'Lou switch global model to 0',\n",
       " 'LUW1 SWIH1CH KAA2NVER0SEY1SHAH0N MAA1DAH0L TUW1 WAH1N': 'Lou switch conversation model to 1',\n",
       " 'LUW1 SWIH1CH PER1SAH0N MAA1DAH0L TUW1 WAH1N': 'Lou switch person model to 1',\n",
       " 'LUW1 SWIH1CH GLOW1BAH0L MAA1DAH0L TUW1 WAH1N': 'Lou switch global model to 1',\n",
       " 'LUW1 SWIH1CH KAA2NVER0SEY1SHAH0N MAA1DAH0L TUW1 TUW1': 'Lou switch conversation model to 2',\n",
       " 'LUW1 SWIH1CH PER1SAH0N MAA1DAH0L TUW1 TUW1': 'Lou switch person model to 2',\n",
       " 'LUW1 SWIH1CH GLOW1BAH0L MAA1DAH0L TUW1 TUW1': 'Lou switch global model to 2',\n",
       " 'LUW1 SWIH1CH KAA2NVER0SEY1SHAH0N MAA1DAH0L TUW1 THRIY1': 'Lou switch conversation model to 3',\n",
       " 'LUW1 SWIH1CH PER1SAH0N MAA1DAH0L TUW1 THRIY1': 'Lou switch person model to 3',\n",
       " 'LUW1 SWIH1CH GLOW1BAH0L MAA1DAH0L TUW1 THRIY1': 'Lou switch global model to 3',\n",
       " 'LUW1 SWIH1CH KAA2NVER0SEY1SHAH0N MAA1DAH0L TUW1 FAO1R': 'Lou switch conversation model to 4',\n",
       " 'LUW1 SWIH1CH PER1SAH0N MAA1DAH0L TUW1 FAO1R': 'Lou switch person model to 4',\n",
       " 'LUW1 SWIH1CH GLOW1BAH0L MAA1DAH0L TUW1 FAO1R': 'Lou switch global model to 4',\n",
       " 'LUW1 SWIH1CH KAA2NVER0SEY1SHAH0N MAA1DAH0L TUW1 FAY1V': 'Lou switch conversation model to 5',\n",
       " 'LUW1 SWIH1CH PER1SAH0N MAA1DAH0L TUW1 FAY1V': 'Lou switch person model to 5',\n",
       " 'LUW1 SWIH1CH GLOW1BAH0L MAA1DAH0L TUW1 FAY1V': 'Lou switch global model to 5',\n",
       " 'LUW1 SWIH1CH KAA2NVER0SEY1SHAH0N MAA1DAH0L TUW1 SIH1KS': 'Lou switch conversation model to 6',\n",
       " 'LUW1 SWIH1CH PER1SAH0N MAA1DAH0L TUW1 SIH1KS': 'Lou switch person model to 6',\n",
       " 'LUW1 SWIH1CH GLOW1BAH0L MAA1DAH0L TUW1 SIH1KS': 'Lou switch global model to 6',\n",
       " 'LUW1 SWIH1CH KAA2NVER0SEY1SHAH0N MAA1DAH0L TUW1 SEH1VAH0N': 'Lou switch conversation model to 7',\n",
       " 'LUW1 SWIH1CH PER1SAH0N MAA1DAH0L TUW1 SEH1VAH0N': 'Lou switch person model to 7',\n",
       " 'LUW1 SWIH1CH GLOW1BAH0L MAA1DAH0L TUW1 SEH1VAH0N': 'Lou switch global model to 7',\n",
       " 'LUW1 SWIH1CH KAA2NVER0SEY1SHAH0N MAA1DAH0L TUW1 EY1T': 'Lou switch conversation model to 8',\n",
       " 'LUW1 SWIH1CH PER1SAH0N MAA1DAH0L TUW1 EY1T': 'Lou switch person model to 8',\n",
       " 'LUW1 SWIH1CH GLOW1BAH0L MAA1DAH0L TUW1 EY1T': 'Lou switch global model to 8',\n",
       " 'LUW1 SWIH1CH KAA2NVER0SEY1SHAH0N MAA1DAH0L TUW1 NAY1N': 'Lou switch conversation model to 9',\n",
       " 'LUW1 SWIH1CH PER1SAH0N MAA1DAH0L TUW1 NAY1N': 'Lou switch person model to 9',\n",
       " 'LUW1 SWIH1CH GLOW1BAH0L MAA1DAH0L TUW1 NAY1N': 'Lou switch global model to 9',\n",
       " 'LUW1 CHEY1NJH KAA2NVER0SEY1SHAH0N MAA1DAH0L TUW1 ZIH1ROW0': 'Lou change conversation model to 0',\n",
       " 'LUW1 CHEY1NJH PER1SAH0N MAA1DAH0L TUW1 ZIH1ROW0': 'Lou change person model to 0',\n",
       " 'LUW1 CHEY1NJH GLOW1BAH0L MAA1DAH0L TUW1 ZIH1ROW0': 'Lou change global model to 0',\n",
       " 'LUW1 CHEY1NJH KAA2NVER0SEY1SHAH0N MAA1DAH0L TUW1 WAH1N': 'Lou change conversation model to 1',\n",
       " 'LUW1 CHEY1NJH PER1SAH0N MAA1DAH0L TUW1 WAH1N': 'Lou change person model to 1',\n",
       " 'LUW1 CHEY1NJH GLOW1BAH0L MAA1DAH0L TUW1 WAH1N': 'Lou change global model to 1',\n",
       " 'LUW1 CHEY1NJH KAA2NVER0SEY1SHAH0N MAA1DAH0L TUW1 TUW1': 'Lou change conversation model to 2',\n",
       " 'LUW1 CHEY1NJH PER1SAH0N MAA1DAH0L TUW1 TUW1': 'Lou change person model to 2',\n",
       " 'LUW1 CHEY1NJH GLOW1BAH0L MAA1DAH0L TUW1 TUW1': 'Lou change global model to 2',\n",
       " 'LUW1 CHEY1NJH KAA2NVER0SEY1SHAH0N MAA1DAH0L TUW1 THRIY1': 'Lou change conversation model to 3',\n",
       " 'LUW1 CHEY1NJH PER1SAH0N MAA1DAH0L TUW1 THRIY1': 'Lou change person model to 3',\n",
       " 'LUW1 CHEY1NJH GLOW1BAH0L MAA1DAH0L TUW1 THRIY1': 'Lou change global model to 3',\n",
       " 'LUW1 CHEY1NJH KAA2NVER0SEY1SHAH0N MAA1DAH0L TUW1 FAO1R': 'Lou change conversation model to 4',\n",
       " 'LUW1 CHEY1NJH PER1SAH0N MAA1DAH0L TUW1 FAO1R': 'Lou change person model to 4',\n",
       " 'LUW1 CHEY1NJH GLOW1BAH0L MAA1DAH0L TUW1 FAO1R': 'Lou change global model to 4',\n",
       " 'LUW1 CHEY1NJH KAA2NVER0SEY1SHAH0N MAA1DAH0L TUW1 FAY1V': 'Lou change conversation model to 5',\n",
       " 'LUW1 CHEY1NJH PER1SAH0N MAA1DAH0L TUW1 FAY1V': 'Lou change person model to 5',\n",
       " 'LUW1 CHEY1NJH GLOW1BAH0L MAA1DAH0L TUW1 FAY1V': 'Lou change global model to 5',\n",
       " 'LUW1 CHEY1NJH KAA2NVER0SEY1SHAH0N MAA1DAH0L TUW1 SIH1KS': 'Lou change conversation model to 6',\n",
       " 'LUW1 CHEY1NJH PER1SAH0N MAA1DAH0L TUW1 SIH1KS': 'Lou change person model to 6',\n",
       " 'LUW1 CHEY1NJH GLOW1BAH0L MAA1DAH0L TUW1 SIH1KS': 'Lou change global model to 6',\n",
       " 'LUW1 CHEY1NJH KAA2NVER0SEY1SHAH0N MAA1DAH0L TUW1 SEH1VAH0N': 'Lou change conversation model to 7',\n",
       " 'LUW1 CHEY1NJH PER1SAH0N MAA1DAH0L TUW1 SEH1VAH0N': 'Lou change person model to 7',\n",
       " 'LUW1 CHEY1NJH GLOW1BAH0L MAA1DAH0L TUW1 SEH1VAH0N': 'Lou change global model to 7',\n",
       " 'LUW1 CHEY1NJH KAA2NVER0SEY1SHAH0N MAA1DAH0L TUW1 EY1T': 'Lou change conversation model to 8',\n",
       " 'LUW1 CHEY1NJH PER1SAH0N MAA1DAH0L TUW1 EY1T': 'Lou change person model to 8',\n",
       " 'LUW1 CHEY1NJH GLOW1BAH0L MAA1DAH0L TUW1 EY1T': 'Lou change global model to 8',\n",
       " 'LUW1 CHEY1NJH KAA2NVER0SEY1SHAH0N MAA1DAH0L TUW1 NAY1N': 'Lou change conversation model to 9',\n",
       " 'LUW1 CHEY1NJH PER1SAH0N MAA1DAH0L TUW1 NAY1N': 'Lou change person model to 9',\n",
       " 'LUW1 CHEY1NJH GLOW1BAH0L MAA1DAH0L TUW1 NAY1N': 'Lou change global model to 9',\n",
       " 'LUW1 CHEY1NJH TUW1 KAA2NVER0SEY1SHAH0N MAA1DAH0L ZIH1ROW0': 'Lou change to conversation model 0',\n",
       " 'LUW1 CHEY1NJH TUW1 PER1SAH0N MAA1DAH0L ZIH1ROW0': 'Lou change to person model 0',\n",
       " 'LUW1 CHEY1NJH TUW1 GLOW1BAH0L MAA1DAH0L ZIH1ROW0': 'Lou change to global model 0',\n",
       " 'LUW1 CHEY1NJH TUW1 KAA2NVER0SEY1SHAH0N MAA1DAH0L WAH1N': 'Lou change to conversation model 1',\n",
       " 'LUW1 CHEY1NJH TUW1 PER1SAH0N MAA1DAH0L WAH1N': 'Lou change to person model 1',\n",
       " 'LUW1 CHEY1NJH TUW1 GLOW1BAH0L MAA1DAH0L WAH1N': 'Lou change to global model 1',\n",
       " 'LUW1 CHEY1NJH TUW1 KAA2NVER0SEY1SHAH0N MAA1DAH0L TUW1': 'Lou change to conversation model 2',\n",
       " 'LUW1 CHEY1NJH TUW1 PER1SAH0N MAA1DAH0L TUW1': 'Lou change to person model 2',\n",
       " 'LUW1 CHEY1NJH TUW1 GLOW1BAH0L MAA1DAH0L TUW1': 'Lou change to global model 2',\n",
       " 'LUW1 CHEY1NJH TUW1 KAA2NVER0SEY1SHAH0N MAA1DAH0L THRIY1': 'Lou change to conversation model 3',\n",
       " 'LUW1 CHEY1NJH TUW1 PER1SAH0N MAA1DAH0L THRIY1': 'Lou change to person model 3',\n",
       " 'LUW1 CHEY1NJH TUW1 GLOW1BAH0L MAA1DAH0L THRIY1': 'Lou change to global model 3',\n",
       " 'LUW1 CHEY1NJH TUW1 KAA2NVER0SEY1SHAH0N MAA1DAH0L FAO1R': 'Lou change to conversation model 4',\n",
       " 'LUW1 CHEY1NJH TUW1 PER1SAH0N MAA1DAH0L FAO1R': 'Lou change to person model 4',\n",
       " 'LUW1 CHEY1NJH TUW1 GLOW1BAH0L MAA1DAH0L FAO1R': 'Lou change to global model 4',\n",
       " 'LUW1 CHEY1NJH TUW1 KAA2NVER0SEY1SHAH0N MAA1DAH0L FAY1V': 'Lou change to conversation model 5',\n",
       " 'LUW1 CHEY1NJH TUW1 PER1SAH0N MAA1DAH0L FAY1V': 'Lou change to person model 5',\n",
       " 'LUW1 CHEY1NJH TUW1 GLOW1BAH0L MAA1DAH0L FAY1V': 'Lou change to global model 5',\n",
       " 'LUW1 CHEY1NJH TUW1 KAA2NVER0SEY1SHAH0N MAA1DAH0L SIH1KS': 'Lou change to conversation model 6',\n",
       " 'LUW1 CHEY1NJH TUW1 PER1SAH0N MAA1DAH0L SIH1KS': 'Lou change to person model 6',\n",
       " 'LUW1 CHEY1NJH TUW1 GLOW1BAH0L MAA1DAH0L SIH1KS': 'Lou change to global model 6',\n",
       " 'LUW1 CHEY1NJH TUW1 KAA2NVER0SEY1SHAH0N MAA1DAH0L SEH1VAH0N': 'Lou change to conversation model 7',\n",
       " 'LUW1 CHEY1NJH TUW1 PER1SAH0N MAA1DAH0L SEH1VAH0N': 'Lou change to person model 7',\n",
       " 'LUW1 CHEY1NJH TUW1 GLOW1BAH0L MAA1DAH0L SEH1VAH0N': 'Lou change to global model 7',\n",
       " 'LUW1 CHEY1NJH TUW1 KAA2NVER0SEY1SHAH0N MAA1DAH0L EY1T': 'Lou change to conversation model 8',\n",
       " 'LUW1 CHEY1NJH TUW1 PER1SAH0N MAA1DAH0L EY1T': 'Lou change to person model 8',\n",
       " 'LUW1 CHEY1NJH TUW1 GLOW1BAH0L MAA1DAH0L EY1T': 'Lou change to global model 8',\n",
       " 'LUW1 CHEY1NJH TUW1 KAA2NVER0SEY1SHAH0N MAA1DAH0L NAY1N': 'Lou change to conversation model 9',\n",
       " 'LUW1 CHEY1NJH TUW1 PER1SAH0N MAA1DAH0L NAY1N': 'Lou change to person model 9',\n",
       " 'LUW1 CHEY1NJH TUW1 GLOW1BAH0L MAA1DAH0L NAY1N': 'Lou change to global model 9',\n",
       " 'LUW1 YUW1S KAA2NVER0SEY1SHAH0N MAA1DAH0L ZIH1ROW0': 'Lou use conversation model 0',\n",
       " 'LUW1 YUW1S PER1SAH0N MAA1DAH0L ZIH1ROW0': 'Lou use person model 0',\n",
       " 'LUW1 YUW1S GLOW1BAH0L MAA1DAH0L ZIH1ROW0': 'Lou use global model 0',\n",
       " 'LUW1 YUW1S KAA2NVER0SEY1SHAH0N MAA1DAH0L WAH1N': 'Lou use conversation model 1',\n",
       " 'LUW1 YUW1S PER1SAH0N MAA1DAH0L WAH1N': 'Lou use person model 1',\n",
       " 'LUW1 YUW1S GLOW1BAH0L MAA1DAH0L WAH1N': 'Lou use global model 1',\n",
       " 'LUW1 YUW1S KAA2NVER0SEY1SHAH0N MAA1DAH0L TUW1': 'Lou use conversation model 2',\n",
       " 'LUW1 YUW1S PER1SAH0N MAA1DAH0L TUW1': 'Lou use person model 2',\n",
       " 'LUW1 YUW1S GLOW1BAH0L MAA1DAH0L TUW1': 'Lou use global model 2',\n",
       " 'LUW1 YUW1S KAA2NVER0SEY1SHAH0N MAA1DAH0L THRIY1': 'Lou use conversation model 3',\n",
       " 'LUW1 YUW1S PER1SAH0N MAA1DAH0L THRIY1': 'Lou use person model 3',\n",
       " 'LUW1 YUW1S GLOW1BAH0L MAA1DAH0L THRIY1': 'Lou use global model 3',\n",
       " 'LUW1 YUW1S KAA2NVER0SEY1SHAH0N MAA1DAH0L FAO1R': 'Lou use conversation model 4',\n",
       " 'LUW1 YUW1S PER1SAH0N MAA1DAH0L FAO1R': 'Lou use person model 4',\n",
       " 'LUW1 YUW1S GLOW1BAH0L MAA1DAH0L FAO1R': 'Lou use global model 4',\n",
       " 'LUW1 YUW1S KAA2NVER0SEY1SHAH0N MAA1DAH0L FAY1V': 'Lou use conversation model 5',\n",
       " 'LUW1 YUW1S PER1SAH0N MAA1DAH0L FAY1V': 'Lou use person model 5',\n",
       " 'LUW1 YUW1S GLOW1BAH0L MAA1DAH0L FAY1V': 'Lou use global model 5',\n",
       " 'LUW1 YUW1S KAA2NVER0SEY1SHAH0N MAA1DAH0L SIH1KS': 'Lou use conversation model 6',\n",
       " 'LUW1 YUW1S PER1SAH0N MAA1DAH0L SIH1KS': 'Lou use person model 6',\n",
       " 'LUW1 YUW1S GLOW1BAH0L MAA1DAH0L SIH1KS': 'Lou use global model 6',\n",
       " 'LUW1 YUW1S KAA2NVER0SEY1SHAH0N MAA1DAH0L SEH1VAH0N': 'Lou use conversation model 7',\n",
       " 'LUW1 YUW1S PER1SAH0N MAA1DAH0L SEH1VAH0N': 'Lou use person model 7',\n",
       " 'LUW1 YUW1S GLOW1BAH0L MAA1DAH0L SEH1VAH0N': 'Lou use global model 7',\n",
       " 'LUW1 YUW1S KAA2NVER0SEY1SHAH0N MAA1DAH0L EY1T': 'Lou use conversation model 8',\n",
       " 'LUW1 YUW1S PER1SAH0N MAA1DAH0L EY1T': 'Lou use person model 8',\n",
       " 'LUW1 YUW1S GLOW1BAH0L MAA1DAH0L EY1T': 'Lou use global model 8',\n",
       " 'LUW1 YUW1S KAA2NVER0SEY1SHAH0N MAA1DAH0L NAY1N': 'Lou use conversation model 9',\n",
       " 'LUW1 YUW1S PER1SAH0N MAA1DAH0L NAY1N': 'Lou use person model 9',\n",
       " 'LUW1 YUW1S GLOW1BAH0L MAA1DAH0L NAY1N': 'Lou use global model 9',\n",
       " 'LUW1 SWIH1CH TUW1 KAA2NVER0SEY1SHAH0N MAA1DAH0L ZIH1ROW0': 'Lou switch to conversation model 0 ',\n",
       " 'LUW1 SWIH1CH TUW1 PER1SAH0N MAA1DAH0L ZIH1ROW0': 'Lou switch to person model 0 ',\n",
       " 'LUW1 SWIH1CH TUW1 GLOW1BAH0L MAA1DAH0L ZIH1ROW0': 'Lou switch to global model 0 ',\n",
       " 'LUW1 SWIH1CH TUW1 KAA2NVER0SEY1SHAH0N MAA1DAH0L WAH1N': 'Lou switch to conversation model 1 ',\n",
       " 'LUW1 SWIH1CH TUW1 PER1SAH0N MAA1DAH0L WAH1N': 'Lou switch to person model 1 ',\n",
       " 'LUW1 SWIH1CH TUW1 GLOW1BAH0L MAA1DAH0L WAH1N': 'Lou switch to global model 1 ',\n",
       " 'LUW1 SWIH1CH TUW1 KAA2NVER0SEY1SHAH0N MAA1DAH0L TUW1': 'Lou switch to conversation model 2 ',\n",
       " 'LUW1 SWIH1CH TUW1 PER1SAH0N MAA1DAH0L TUW1': 'Lou switch to person model 2 ',\n",
       " 'LUW1 SWIH1CH TUW1 GLOW1BAH0L MAA1DAH0L TUW1': 'Lou switch to global model 2 ',\n",
       " 'LUW1 SWIH1CH TUW1 KAA2NVER0SEY1SHAH0N MAA1DAH0L THRIY1': 'Lou switch to conversation model 3 ',\n",
       " 'LUW1 SWIH1CH TUW1 PER1SAH0N MAA1DAH0L THRIY1': 'Lou switch to person model 3 ',\n",
       " 'LUW1 SWIH1CH TUW1 GLOW1BAH0L MAA1DAH0L THRIY1': 'Lou switch to global model 3 ',\n",
       " 'LUW1 SWIH1CH TUW1 KAA2NVER0SEY1SHAH0N MAA1DAH0L FAO1R': 'Lou switch to conversation model 4 ',\n",
       " 'LUW1 SWIH1CH TUW1 PER1SAH0N MAA1DAH0L FAO1R': 'Lou switch to person model 4 ',\n",
       " 'LUW1 SWIH1CH TUW1 GLOW1BAH0L MAA1DAH0L FAO1R': 'Lou switch to global model 4 ',\n",
       " 'LUW1 SWIH1CH TUW1 KAA2NVER0SEY1SHAH0N MAA1DAH0L FAY1V': 'Lou switch to conversation model 5 ',\n",
       " 'LUW1 SWIH1CH TUW1 PER1SAH0N MAA1DAH0L FAY1V': 'Lou switch to person model 5 ',\n",
       " 'LUW1 SWIH1CH TUW1 GLOW1BAH0L MAA1DAH0L FAY1V': 'Lou switch to global model 5 ',\n",
       " 'LUW1 SWIH1CH TUW1 KAA2NVER0SEY1SHAH0N MAA1DAH0L SIH1KS': 'Lou switch to conversation model 6 ',\n",
       " 'LUW1 SWIH1CH TUW1 PER1SAH0N MAA1DAH0L SIH1KS': 'Lou switch to person model 6 ',\n",
       " 'LUW1 SWIH1CH TUW1 GLOW1BAH0L MAA1DAH0L SIH1KS': 'Lou switch to global model 6 ',\n",
       " 'LUW1 SWIH1CH TUW1 KAA2NVER0SEY1SHAH0N MAA1DAH0L SEH1VAH0N': 'Lou switch to conversation model 7 ',\n",
       " 'LUW1 SWIH1CH TUW1 PER1SAH0N MAA1DAH0L SEH1VAH0N': 'Lou switch to person model 7 ',\n",
       " 'LUW1 SWIH1CH TUW1 GLOW1BAH0L MAA1DAH0L SEH1VAH0N': 'Lou switch to global model 7 ',\n",
       " 'LUW1 SWIH1CH TUW1 KAA2NVER0SEY1SHAH0N MAA1DAH0L EY1T': 'Lou switch to conversation model 8 ',\n",
       " 'LUW1 SWIH1CH TUW1 PER1SAH0N MAA1DAH0L EY1T': 'Lou switch to person model 8 ',\n",
       " 'LUW1 SWIH1CH TUW1 GLOW1BAH0L MAA1DAH0L EY1T': 'Lou switch to global model 8 ',\n",
       " 'LUW1 SWIH1CH TUW1 KAA2NVER0SEY1SHAH0N MAA1DAH0L NAY1N': 'Lou switch to conversation model 9 ',\n",
       " 'LUW1 SWIH1CH TUW1 PER1SAH0N MAA1DAH0L NAY1N': 'Lou switch to person model 9 ',\n",
       " 'LUW1 SWIH1CH TUW1 GLOW1BAH0L MAA1DAH0L NAY1N': 'Lou switch to global model 9 ',\n",
       " 'LUW1 SWIH1CH TUW1 MAA1DAH0L ZIH1ROW0': 'Lou switch to model 0',\n",
       " 'LUW1 SWIH1CH TUW1 MAA1DAH0L WAH1N': 'Lou switch to model 1',\n",
       " 'LUW1 SWIH1CH TUW1 MAA1DAH0L TUW1': 'Lou switch to model 2',\n",
       " 'LUW1 SWIH1CH TUW1 MAA1DAH0L THRIY1': 'Lou switch to model 3',\n",
       " 'LUW1 SWIH1CH TUW1 MAA1DAH0L FAO1R': 'Lou switch to model 4',\n",
       " 'LUW1 SWIH1CH TUW1 MAA1DAH0L FAY1V': 'Lou switch to model 5',\n",
       " 'LUW1 SWIH1CH TUW1 MAA1DAH0L SIH1KS': 'Lou switch to model 6',\n",
       " 'LUW1 SWIH1CH TUW1 MAA1DAH0L SEH1VAH0N': 'Lou switch to model 7',\n",
       " 'LUW1 SWIH1CH TUW1 MAA1DAH0L EY1T': 'Lou switch to model 8',\n",
       " 'LUW1 SWIH1CH TUW1 MAA1DAH0L NAY1N': 'Lou switch to model 9',\n",
       " 'LUW1 CHEY1NJH TUW1 MAA1DAH0L ZIH1ROW0': 'Lou change to model 0',\n",
       " 'LUW1 CHEY1NJH TUW1 MAA1DAH0L WAH1N': 'Lou change to model 1',\n",
       " 'LUW1 CHEY1NJH TUW1 MAA1DAH0L TUW1': 'Lou change to model 2',\n",
       " 'LUW1 CHEY1NJH TUW1 MAA1DAH0L THRIY1': 'Lou change to model 3',\n",
       " 'LUW1 CHEY1NJH TUW1 MAA1DAH0L FAO1R': 'Lou change to model 4',\n",
       " 'LUW1 CHEY1NJH TUW1 MAA1DAH0L FAY1V': 'Lou change to model 5',\n",
       " 'LUW1 CHEY1NJH TUW1 MAA1DAH0L SIH1KS': 'Lou change to model 6',\n",
       " 'LUW1 CHEY1NJH TUW1 MAA1DAH0L SEH1VAH0N': 'Lou change to model 7',\n",
       " 'LUW1 CHEY1NJH TUW1 MAA1DAH0L EY1T': 'Lou change to model 8',\n",
       " 'LUW1 CHEY1NJH TUW1 MAA1DAH0L NAY1N': 'Lou change to model 9',\n",
       " 'LUW1 YUW1S MAA1DAH0L ZIH1ROW0': 'Lou use model 0',\n",
       " 'LUW1 YUW1S MAA1DAH0L WAH1N': 'Lou use model 1',\n",
       " 'LUW1 YUW1S MAA1DAH0L TUW1': 'Lou use model 2',\n",
       " 'LUW1 YUW1S MAA1DAH0L THRIY1': 'Lou use model 3',\n",
       " 'LUW1 YUW1S MAA1DAH0L FAO1R': 'Lou use model 4',\n",
       " 'LUW1 YUW1S MAA1DAH0L FAY1V': 'Lou use model 5',\n",
       " 'LUW1 YUW1S MAA1DAH0L SIH1KS': 'Lou use model 6',\n",
       " 'LUW1 YUW1S MAA1DAH0L SEH1VAH0N': 'Lou use model 7',\n",
       " 'LUW1 YUW1S MAA1DAH0L EY1T': 'Lou use model 8',\n",
       " 'LUW1 YUW1S MAA1DAH0L NAY1N': 'Lou use model 9',\n",
       " 'LUW1 PLIY1Z TEH1L MIY1 MAY1 KAA1NTAE2KTS': 'Lou please tell me my contacts',\n",
       " 'LUW1 TEH1L MIY1 MAY1 KAA1NTAE2KTS': 'Lou tell me my contacts',\n",
       " 'LUW1 KAE1N YUW1 REH1D AO1L MAY1 KAA1NTAE2KTS': 'Lou can you read all my contacts',\n",
       " 'LUW1 PLIY1Z REH1D AO1L MAY1 KAA1NTAE2KTS': 'Lou please read all my contacts',\n",
       " 'LUW1 PLIY1Z REH1D MIY1 MAY1 KAA1NTAE2KTS': 'Lou please read me my contacts',\n",
       " 'LUW1 REH1D AO1L MAY1 KAA1NTAE2KTS': 'Lou read all my contacts',\n",
       " 'LUW1 PLIY1Z REH1D AH0 LIH1ST AH1V MAY1 KAA1NTAE2KTS': 'Lou please read a list of my contacts',\n",
       " 'LUW1 KAE1N YUW1 REH1D MIY1 MAY1 KAA1NTAE2KTS': 'Lou can you read me my contacts',\n",
       " 'LUW1 HHUW1 AA1R MAY1 KAA1NTAE2KTS': 'Lou who are my contacts',\n",
       " 'LUW1 REH1D MIY1 MAY1 KAA1NTAE2KTS': 'Lou read me my contacts',\n",
       " 'LUW1 TEH1L MIY1 MAY1 SEH1TIH0NGZ': 'lou tell me my settings',\n",
       " 'LUW1 REH1D MAY1 SEH1TIH0NGZ': 'lou read my settings',\n",
       " 'LUW1 REH1D MIY1 MAY1 SEH1TIH0NGZ': 'lou read me my settings',\n",
       " 'LUW1 WAH1T AA1R MAY1 SEH1TIH0NGZ': 'lou what are my settings',\n",
       " 'LUW1 HHAE1NG AH1P': 'Lou hang up',\n",
       " 'LUW1 EH1ND CHAE1T': 'Lou end chat',\n",
       " 'LUW1 PLIY1Z TER1N AA1N AO2TAH0MAE1TIH0K PAH2NGKCHUW0EY1SHAH0N': 'lou please turn on automatic punctuation',\n",
       " 'LUW1 TER1N AA1N AO2TAH0MAE1TIH0K PAH2NGKCHUW0EY1SHAH0N': 'lou turn on automatic punctuation',\n",
       " 'LUW1 PLIY1Z TER1N AA1N AO1TOW0 PAH2NGKCHUW0EY1SHAH0N': 'lou please turn on auto punctuation',\n",
       " 'LUW1 TER1N AA1N AO1TOW0 PAH2NGKCHUW0EY1SHAH0N': 'lou turn on auto punctuation',\n",
       " 'LUW1 EH0NEY1BAH0L AO2TAH0MAE1TIH0K PAH2NGKCHUW0EY1SHAH0N': 'lou enable automatic punctuation',\n",
       " 'LUW1 PLIY1Z YUW1Z AO2TAH0MAE1TIH0K PAH2NGKCHUW0EY1SHAH0N': 'lou please use automatic punctuationn',\n",
       " 'LUW1 YUW1S AO2TAH0MAE1TIH0K PAH2NGKCHUW0EY1SHAH0N': 'lou use automatic punctuation',\n",
       " 'LUW1 PLIY1Z YUW1S AO1TOW0 PAH2NGKCHUW0EY1SHAH0N': 'lou please use auto punctuation',\n",
       " 'LUW1 PLIY1Z EH0NEY1BAH0L AO2TAH0MAE1TIH0K PAH2NGKCHUW0EY1SHAH0N': 'lou please enable automatic punctuation',\n",
       " 'LUW1 PLIY1Z EH0NEY1BAH0L AO1TOW0 PAH2NGKCHUW0EY1SHAH0N': 'lou please enable auto punctuation',\n",
       " 'LUW1 EH0NEY1BAH0L AO1TOW0 PAH2NGKCHUW0EY1SHAH0N': 'lou enable auto punctuation',\n",
       " 'LUW1 YUW1S AO1TOW0 PAH2NGKCHUW0EY1SHAH0N': 'lou use auto punctuation',\n",
       " 'LUW1 PLIY1Z STAA1P YUW1ZIH0NG AO2TAH0MAE1TIH0K PAH2NGKCHUW0EY1SHAH0N': 'lou please stop using automatic punctuation',\n",
       " 'LUW1 PLIY1Z TER1N AO1F AO2TAH0MAE1TIH0K PAH2NGKCHUW0EY1SHAH0N': 'lou please turn off automatic punctuation',\n",
       " 'LUW1 TER1N AO1F AO2TAH0MAE1TIH0K PAH2NGKCHUW0EY1SHAH0N': 'lou turn off automatic punctuation',\n",
       " 'LUW1 PLIY1Z TER1N AO1F AO1TOW0 PAH2NGKCHUW0EY1SHAH0N': 'lou please turn off auto punctuation',\n",
       " 'LUW1 TER1N AO1F AO1TOW0 PAH2NGKCHUW0EY1SHAH0N': 'lou turn off auto punctuation',\n",
       " 'LUW1 DIH0SEY1BAH0L AO2TAH0MAE1TIH0K PAH2NGKCHUW0EY1SHAH0N': 'lou disable automatic punctuation',\n",
       " 'LUW1 STAA1P YUW1ZIH0NG AO2TAH0MAE1TIH0K PAH2NGKCHUW0EY1SHAH0N': 'lou stop using automatic punctuation',\n",
       " 'LUW1 PLIY1Z STAA1P YUW1ZIH0NG AO1TOW0 PAH2NGKCHUW0EY1SHAH0N': 'lou please stop using auto punctuation',\n",
       " 'LUW1 PLIY1Z DIH0SEY1BAH0L AO2TAH0MAE1TIH0K PAH2NGKCHUW0EY1SHAH0N': 'lou please disable automatic punctuation',\n",
       " 'LUW1 PLIY1Z DIH0SEY1BAH0L AO1TOW0 PAH2NGKCHUW0EY1SHAH0N': 'lou please disable auto punctuation',\n",
       " 'LUW1 DIH0SEY1BAH0L AO1TOW0 PAH2NGKCHUW0EY1SHAH0N': 'lou disable auto punctuation',\n",
       " 'LUW1 STAA1P YUW1ZIH0NG AO1TOW0 PAH2NGKCHUW0EY1SHAH0N': 'lou stop using auto punctuation',\n",
       " 'IY0MEY1L MIY1': 'Email me',\n",
       " 'LUW1 PLIY1Z CHEY1NJH BAE2KEH1ND TUW1 HHAA1BIY0': 'Lou please change backend to hobby',\n",
       " 'LUW1 PLIY1Z CHEY1NJH BAE2KEH1ND TUW1 HHAH1GIH0NG FEY1S': 'Lou please change backend to hugging face',\n",
       " 'LUW1 PLIY1Z CHEY1NJH BAE2KEH1ND TUW1 HHAH1GIH0NGFEY2S': 'Lou please change backend to huggingface',\n",
       " 'LUW1 PLIY1Z CHEY1NJH BAE2KEH1ND TUW1 GUW2SIY1': 'Lou please change backend to gooseai',\n",
       " 'LUW1 PLIY1Z CHEY1NJH BAE2KEH1ND TUW1 GUW1S AY1': 'Lou please change backend to Goose AI',\n",
       " 'LUW1 PLIY1Z CHEY1NJH BAE2KEH1ND TUW1 OW1PAH0N AY1': 'Lou please change backend to Open AI',\n",
       " 'LUW1 PLIY1Z CHEY1NJH BAE2KEH1ND TUW1 OW0PEY0NAA1': 'Lou please change backend to openai',\n",
       " 'LUW1 PLIY1Z SWIH1CH BAE2KEH1ND TUW1 HHAA1BIY0': 'Lou please switch backend to hobby',\n",
       " 'LUW1 PLIY1Z SWIH1CH BAE2KEH1ND TUW1 HHAH1GIH0NG FEY1S': 'Lou please switch backend to hugging face',\n",
       " 'LUW1 PLIY1Z SWIH1CH BAE2KEH1ND TUW1 HHAH1GIH0NGFEY2S': 'Lou please switch backend to huggingface',\n",
       " 'LUW1 PLIY1Z SWIH1CH BAE2KEH1ND TUW1 GUW2SIY1': 'Lou please switch backend to gooseai',\n",
       " 'LUW1 PLIY1Z SWIH1CH BAE2KEH1ND TUW1 GUW1S AY1': 'Lou please switch backend to Goose AI',\n",
       " 'LUW1 PLIY1Z SWIH1CH BAE2KEH1ND TUW1 OW1PAH0N AY1': 'Lou please switch backend to Open AI',\n",
       " 'LUW1 PLIY1Z SWIH1CH BAE2KEH1ND TUW1 OW0PEY0NAA1': 'Lou please switch backend to openai',\n",
       " 'LUW1 PLIY1Z YUW1S HHAA1BIY0 BAE2KEH1ND': 'Lou please use hobby backend',\n",
       " 'LUW1 PLIY1Z YUW1S HHAH1GIH0NG FEY1S BAE2KEH1ND': 'Lou please use hugging face backend',\n",
       " 'LUW1 PLIY1Z YUW1Z HHAH1GIH0NGFEY2S BAE2KEH1ND': 'Lou please use huggingface backend',\n",
       " 'LUW1 PLIY1Z YUW1S GUW2SIY1 BAE2KEH1ND': 'Lou please use gooseai backend',\n",
       " 'LUW1 PLIY1Z YUW1S GUW1S AY1 BAE2KEH1ND': 'Lou please use Goose AI backend',\n",
       " 'LUW1 PLIY1Z YUW1S OW1PAH0N AY1 BAE2KEH1ND': 'Lou please use Open AI backend',\n",
       " 'LUW1 PLIY1Z YUW1S OW0PEY0NAA1 BAE2KEH1ND': 'Lou please use openai backend',\n",
       " 'LUW1 PLIY1Z CHEY1NJH TUW1 HHAA1BIY0 BAE2KEH1ND': 'Lou please change to hobby backend',\n",
       " 'LUW1 PLIY1Z CHEY1NJH TUW1 HHAH1GIH0NG FEY1S BAE2KEH1ND': 'Lou please change to hugging face backend',\n",
       " 'LUW1 PLIY1Z CHEY1NJH TUW1 HHAH1GIH0NGFEY2S BAE2KEH1ND': 'Lou please change to huggingface backend',\n",
       " 'LUW1 PLIY1Z CHEY1NJH TUW1 GUW2SIY1 BAE2KEH1ND': 'Lou please change to gooseai backend',\n",
       " 'LUW1 PLIY1Z CHEY1NJH TUW1 GUW1S AY1 BAE2KEH1ND': 'Lou please change to Goose AI backend',\n",
       " 'LUW1 PLIY1Z CHEY1NJH TUW1 OW1PAH0N AY1 BAE2KEH1ND': 'Lou please change to Open AI backend',\n",
       " 'LUW1 PLIY1Z CHEY1NJH TUW1 OW0PEY0NAA1 BAE2KEH1ND': 'Lou please change to openai backend',\n",
       " 'LUW1 PLIY1Z SWIH1CH TUW1 HHAA1BIY0 BAE2KEH1ND': 'Lou please switch to hobby backend',\n",
       " 'LUW1 PLIY1Z SWIH1CH TUW1 HHAH1GIH0NG FEY1S BAE2KEH1ND': 'Lou please switch to hugging face backend',\n",
       " 'LUW1 PLIY1Z SWIH1CH TUW1 HHAH1GIH0NGFEY2S BAE2KEH1ND': 'Lou please switch to huggingface backend',\n",
       " 'LUW1 PLIY1Z SWIH1CH TUW1 GUW2SIY1 BAE2KEH1ND': 'Lou please switch to gooseai backend',\n",
       " 'LUW1 PLIY1Z SWIH1CH TUW1 GUW1S AY1 BAE2KEH1ND': 'Lou please switch to Goose AI backend',\n",
       " 'LUW1 PLIY1Z SWIH1CH TUW1 OW1PAH0N AY1 BAE2KEH1ND': 'Lou please switch to Open AI backend',\n",
       " 'LUW1 PLIY1Z SWIH1CH TUW1 OW0PEY0NAA1 BAE2KEH1ND': 'Lou please switch to openai backend',\n",
       " 'LUW1 SWIH1CH TUW1 HHAA1BIY0 BAE2KEH1ND': 'Lou switch to hobby backend',\n",
       " 'LUW1 SWIH1CH TUW1 HHAH1GIH0NG FEY1S BAE2KEH1ND': 'Lou switch to hugging face backend',\n",
       " 'LUW1 SWIH1CH TUW1 HHAH1GIH0NGFEY2S BAE2KEH1ND': 'Lou switch to huggingface backend',\n",
       " 'LUW1 SWIH1CH TUW1 GUW2SIY1 BAE2KEH1ND': 'Lou switch to gooseai backend',\n",
       " 'LUW1 SWIH1CH TUW1 GUW1S AY1 BAE2KEH1ND': 'Lou switch to Goose AI backend',\n",
       " 'LUW1 SWIH1CH TUW1 OW1PAH0N AY1 BAE2KEH1ND': 'Lou switch to Open AI backend',\n",
       " 'LUW1 SWIH1CH TUW1 OW0PEY0NAA1 BAE2KEH1ND': 'Lou switch to openai backend',\n",
       " 'LUW1 CHEY1NJH TUW1 HHAA1BIY0 BAE2KEH1ND': 'Lou change to hobby backend',\n",
       " 'LUW1 CHEY1NJH TUW1 HHAH1GIH0NG FEY1S BAE2KEH1ND': 'Lou change to hugging face backend',\n",
       " 'LUW1 CHEY1NJH TUW1 HHAH1GIH0NGFEY2S BAE2KEH1ND': 'Lou change to huggingface backend',\n",
       " 'LUW1 CHEY1NJH TUW1 GUW2SIY1 BAE2KEH1ND': 'Lou change to gooseai backend',\n",
       " 'LUW1 CHEY1NJH TUW1 GUW1S AY1 BAE2KEH1ND': 'Lou change to Goose AI backend',\n",
       " 'LUW1 CHEY1NJH TUW1 OW1PAH0N AY1 BAE2KEH1ND': 'Lou change to Open AI backend',\n",
       " 'LUW1 CHEY1NJH TUW1 OW0PEY0NAA1 BAE2KEH1ND': 'Lou change to openai backend',\n",
       " 'LUW1 YUW1S HHAA1BIY0 BAE2KEH1ND': 'Lou use hobby backend',\n",
       " 'LUW1 YUW1S HHAH1GIH0NG FEY1S BAE2KEH1ND': 'Lou use hugging face backend',\n",
       " 'LUW1 YUW1S HHAH1GIH0NGFEY2S BAE2KEH1ND': 'Lou use huggingface backend',\n",
       " 'LUW1 YUW1S GUW2SIY1 BAE2KEH1ND': 'Lou use gooseai backend',\n",
       " 'LUW1 YUW1S GUW1S AY1 BAE2KEH1ND': 'Lou use Goose AI backend',\n",
       " 'LUW1 YUW1S OW1PAH0N AY1 BAE2KEH1ND': 'Lou use Open AI backend',\n",
       " 'LUW1 YUW1S OW0PEY0NAA1 BAE2KEH1ND': 'Lou use openai backend',\n",
       " 'LUW1 SWIH1CH BAE2KEH1ND TUW1 HHAA1BIY0': 'Lou switch backend to hobby',\n",
       " 'LUW1 SWIH1CH BAE2KEH1ND TUW1 HHAH1GIH0NG FEY1S': 'Lou switch backend to hugging face',\n",
       " 'LUW1 SWIH1CH BAE2KEH1ND TUW1 HHAH1GIH0NGFEY2S': 'Lou switch backend to huggingface',\n",
       " 'LUW1 SWIH1CH BAE2KEH1ND TUW1 GUW2SIY1': 'Lou switch backend to gooseai',\n",
       " 'LUW1 SWIH1CH BAE2KEH1ND TUW1 GUW1S AY1': 'Lou switch backend to Goose AI',\n",
       " 'LUW1 SWIH1CH BAE2KEH1ND TUW1 OW1PAH0N AY1': 'Lou switch backend to Open AI',\n",
       " 'LUW1 SWIH1CH BAE2KEH1ND TUW1 OW0PEY0NAA1': 'Lou switch backend to openai',\n",
       " 'LUW1 CHEY1NJH BAE2KEH1ND TUW1 HHAA1BIY0': 'Lou change backend to hobby',\n",
       " 'LUW1 CHEY1NJH BAE2KEH1ND TUW1 HHAH1GIH0NG FEY1S': 'Lou change backend to hugging face',\n",
       " 'LUW1 CHEY1NJH BAE2KEH1ND TUW1 HHAH1GIH0NGFEY2S': 'Lou change backend to huggingface',\n",
       " 'LUW1 CHEY1NJH BAE2KEH1ND TUW1 GUW2SIY1': 'Lou change backend to gooseai',\n",
       " 'LUW1 CHEY1NJH BAE2KEH1ND TUW1 GUW1S AY1': 'Lou change backend to Goose AI',\n",
       " 'LUW1 CHEY1NJH BAE2KEH1ND TUW1 OW1PAH0N AY1': 'Lou change backend to Open AI',\n",
       " 'LUW1 CHEY1NJH BAE2KEH1ND TUW1 OW0PEY0NAA1': 'Lou change backend to openai'}"
      ]
     },
     "execution_count": 156,
     "metadata": {},
     "output_type": "execute_result"
    }
   ],
   "source": [
    "pho2utt"
   ]
  },
  {
   "cell_type": "code",
   "execution_count": 158,
   "metadata": {
    "ExecuteTime": {
     "end_time": "2022-03-20T22:50:27.278940Z",
     "start_time": "2022-03-20T22:50:27.212309Z"
    },
    "run_control": {
     "marked": false
    }
   },
   "outputs": [
    {
     "data": {
      "text/plain": [
       "'LUW1 SWIH1CH TUW1 OW1PAH0N AY1 BAE1K IH0N'"
      ]
     },
     "execution_count": 158,
     "metadata": {},
     "output_type": "execute_result"
    }
   ],
   "source": [
    "pho = phonetic_str(text)\n",
    "pho"
   ]
  },
  {
   "cell_type": "code",
   "execution_count": 161,
   "metadata": {
    "ExecuteTime": {
     "end_time": "2022-03-20T22:50:52.110279Z",
     "start_time": "2022-03-20T22:50:52.034990Z"
    },
    "run_control": {
     "marked": false
    }
   },
   "outputs": [
    {
     "data": {
      "text/plain": [
       "{'Lou switch to Open AI backend': 'LUW1 SWIH1CH TUW1 OW1PAH0N AY1 BAE2KEH1ND',\n",
       " 'Lou switch to openai backend': 'LUW1 SWIH1CH TUW1 OW0PEY0NAA1 BAE2KEH1ND',\n",
       " 'Lou switch to Goose AI backend': 'LUW1 SWIH1CH TUW1 GUW1S AY1 BAE2KEH1ND',\n",
       " 'Lou please switch to Open AI backend': 'LUW1 PLIY1Z SWIH1CH TUW1 OW1PAH0N AY1 BAE2KEH1ND',\n",
       " 'Lou switch to gooseai backend': 'LUW1 SWIH1CH TUW1 GUW2SIY1 BAE2KEH1ND'}"
      ]
     },
     "execution_count": 161,
     "metadata": {},
     "output_type": "execute_result"
    }
   ],
   "source": [
    "candidate_utts = select(utt2pho, keep=[row[0] for row in inferred['res']])\n",
    "candidate_utts"
   ]
  },
  {
   "cell_type": "code",
   "execution_count": 51,
   "metadata": {
    "ExecuteTime": {
     "end_time": "2022-03-20T22:11:39.341591Z",
     "start_time": "2022-03-20T22:11:39.276225Z"
    }
   },
   "outputs": [
    {
     "data": {
      "text/plain": [
       "[('LUW1 SWIH1CH TUW1 OW1PAH0N AY1 BAE2KEH1ND', 90),\n",
       " ('LUW1 PLIY1Z SWIH1CH TUW1 OW1PAH0N AY1 BAE2KEH1ND', 83),\n",
       " ('LUW1 SWIH1CH TUW1 OW0PEY0NAA1 BAE2KEH1ND', 79),\n",
       " ('LUW1 SWIH1CH TUW1 GUW1S AY1 BAE2KEH1ND', 78),\n",
       " ('LUW1 SWIH1CH TUW1 GUW2SIY1 BAE2KEH1ND', 72)]"
      ]
     },
     "execution_count": 51,
     "metadata": {},
     "output_type": "execute_result"
    }
   ],
   "source": [
    "process.extract(pho, candidate_utts.values())"
   ]
  },
  {
   "cell_type": "code",
   "execution_count": 68,
   "metadata": {
    "ExecuteTime": {
     "end_time": "2022-03-20T22:18:27.253694Z",
     "start_time": "2022-03-20T22:18:25.197855Z"
    }
   },
   "outputs": [
    {
     "name": "stdout",
     "output_type": "stream",
     "text": [
      " to open i back in\n"
     ]
    },
    {
     "data": {
      "text/plain": [
       "[('open ai', [('open i', 92)]),\n",
       " ('openai', [('open', 80)]),\n",
       " ('goose ai', [('open i', 57)]),\n",
       " ('hugging face', [('i back', 44)]),\n",
       " ('gooseai', [('open', 36)]),\n",
       " ('huggingface', [('in', 31)]),\n",
       " ('hobby', [('to', 29)])]"
      ]
     },
     "execution_count": 68,
     "metadata": {},
     "output_type": "execute_result"
    }
   ],
   "source": [
    "tmp = get_backend(text)\n",
    "tmp"
   ]
  },
  {
   "cell_type": "markdown",
   "metadata": {
    "ExecuteTime": {
     "end_time": "2022-03-20T21:58:05.410782Z",
     "start_time": "2022-03-20T21:58:05.083666Z"
    }
   },
   "source": [
    "## Looking for patterns for PhraseMatcher\n",
    "\n",
    "Rather than testing all possible 1-grams and 2-grams in utterance, we should be able to use our knowledge of the expected structure to test ony good candidates. Trying to figure out what logic defines this - I imagine dependency parsing may help."
   ]
  },
  {
   "cell_type": "code",
   "execution_count": 69,
   "metadata": {
    "ExecuteTime": {
     "end_time": "2022-03-20T22:20:56.633728Z",
     "start_time": "2022-03-20T22:20:56.001392Z"
    }
   },
   "outputs": [],
   "source": [
    "nlp = spacy.load('en_core_web_sm')"
   ]
  },
  {
   "cell_type": "code",
   "execution_count": 162,
   "metadata": {
    "ExecuteTime": {
     "end_time": "2022-03-20T22:52:06.067198Z",
     "start_time": "2022-03-20T22:52:05.878804Z"
    }
   },
   "outputs": [],
   "source": [
    "# docs = [nlp(utt) for utt in backend_utts]\n",
    "docs = [nlp(utt.replace('{', '').replace('}', ''))\n",
    "        for utt in backend_templates]"
   ]
  },
  {
   "cell_type": "code",
   "execution_count": 163,
   "metadata": {
    "ExecuteTime": {
     "end_time": "2022-03-20T22:52:06.842943Z",
     "start_time": "2022-03-20T22:52:06.723865Z"
    }
   },
   "outputs": [
    {
     "data": {
      "text/html": [
       "<span class=\"tex2jax_ignore\"><svg xmlns=\"http://www.w3.org/2000/svg\" xmlns:xlink=\"http://www.w3.org/1999/xlink\" xml:lang=\"en\" id=\"4d8d7611d1a042cd97c6f22a29f41194-0\" class=\"displacy\" width=\"1100\" height=\"312.0\" direction=\"ltr\" style=\"max-width: none; height: 312.0px; color: #000000; background: #ffffff; font-family: Arial; direction: ltr\">\n",
       "<text class=\"displacy-token\" fill=\"currentColor\" text-anchor=\"middle\" y=\"222.0\">\n",
       "    <tspan class=\"displacy-word\" fill=\"currentColor\" x=\"50\">Lou</tspan>\n",
       "    <tspan class=\"displacy-tag\" dy=\"2em\" fill=\"currentColor\" x=\"50\">INTJ</tspan>\n",
       "</text>\n",
       "\n",
       "<text class=\"displacy-token\" fill=\"currentColor\" text-anchor=\"middle\" y=\"222.0\">\n",
       "    <tspan class=\"displacy-word\" fill=\"currentColor\" x=\"225\">please</tspan>\n",
       "    <tspan class=\"displacy-tag\" dy=\"2em\" fill=\"currentColor\" x=\"225\">INTJ</tspan>\n",
       "</text>\n",
       "\n",
       "<text class=\"displacy-token\" fill=\"currentColor\" text-anchor=\"middle\" y=\"222.0\">\n",
       "    <tspan class=\"displacy-word\" fill=\"currentColor\" x=\"400\">change</tspan>\n",
       "    <tspan class=\"displacy-tag\" dy=\"2em\" fill=\"currentColor\" x=\"400\">VERB</tspan>\n",
       "</text>\n",
       "\n",
       "<text class=\"displacy-token\" fill=\"currentColor\" text-anchor=\"middle\" y=\"222.0\">\n",
       "    <tspan class=\"displacy-word\" fill=\"currentColor\" x=\"575\">backend</tspan>\n",
       "    <tspan class=\"displacy-tag\" dy=\"2em\" fill=\"currentColor\" x=\"575\">ADJ</tspan>\n",
       "</text>\n",
       "\n",
       "<text class=\"displacy-token\" fill=\"currentColor\" text-anchor=\"middle\" y=\"222.0\">\n",
       "    <tspan class=\"displacy-word\" fill=\"currentColor\" x=\"750\">to</tspan>\n",
       "    <tspan class=\"displacy-tag\" dy=\"2em\" fill=\"currentColor\" x=\"750\">PART</tspan>\n",
       "</text>\n",
       "\n",
       "<text class=\"displacy-token\" fill=\"currentColor\" text-anchor=\"middle\" y=\"222.0\">\n",
       "    <tspan class=\"displacy-word\" fill=\"currentColor\" x=\"925\">backend</tspan>\n",
       "    <tspan class=\"displacy-tag\" dy=\"2em\" fill=\"currentColor\" x=\"925\">VERB</tspan>\n",
       "</text>\n",
       "\n",
       "<g class=\"displacy-arrow\">\n",
       "    <path class=\"displacy-arc\" id=\"arrow-4d8d7611d1a042cd97c6f22a29f41194-0-0\" stroke-width=\"2px\" d=\"M70,177.0 C70,2.0 400.0,2.0 400.0,177.0\" fill=\"none\" stroke=\"currentColor\"/>\n",
       "    <text dy=\"1.25em\" style=\"font-size: 0.8em; letter-spacing: 1px\">\n",
       "        <textPath xlink:href=\"#arrow-4d8d7611d1a042cd97c6f22a29f41194-0-0\" class=\"displacy-label\" startOffset=\"50%\" side=\"left\" fill=\"currentColor\" text-anchor=\"middle\">intj</textPath>\n",
       "    </text>\n",
       "    <path class=\"displacy-arrowhead\" d=\"M70,179.0 L62,167.0 78,167.0\" fill=\"currentColor\"/>\n",
       "</g>\n",
       "\n",
       "<g class=\"displacy-arrow\">\n",
       "    <path class=\"displacy-arc\" id=\"arrow-4d8d7611d1a042cd97c6f22a29f41194-0-1\" stroke-width=\"2px\" d=\"M245,177.0 C245,89.5 395.0,89.5 395.0,177.0\" fill=\"none\" stroke=\"currentColor\"/>\n",
       "    <text dy=\"1.25em\" style=\"font-size: 0.8em; letter-spacing: 1px\">\n",
       "        <textPath xlink:href=\"#arrow-4d8d7611d1a042cd97c6f22a29f41194-0-1\" class=\"displacy-label\" startOffset=\"50%\" side=\"left\" fill=\"currentColor\" text-anchor=\"middle\">intj</textPath>\n",
       "    </text>\n",
       "    <path class=\"displacy-arrowhead\" d=\"M245,179.0 L237,167.0 253,167.0\" fill=\"currentColor\"/>\n",
       "</g>\n",
       "\n",
       "<g class=\"displacy-arrow\">\n",
       "    <path class=\"displacy-arc\" id=\"arrow-4d8d7611d1a042cd97c6f22a29f41194-0-2\" stroke-width=\"2px\" d=\"M420,177.0 C420,89.5 570.0,89.5 570.0,177.0\" fill=\"none\" stroke=\"currentColor\"/>\n",
       "    <text dy=\"1.25em\" style=\"font-size: 0.8em; letter-spacing: 1px\">\n",
       "        <textPath xlink:href=\"#arrow-4d8d7611d1a042cd97c6f22a29f41194-0-2\" class=\"displacy-label\" startOffset=\"50%\" side=\"left\" fill=\"currentColor\" text-anchor=\"middle\">dobj</textPath>\n",
       "    </text>\n",
       "    <path class=\"displacy-arrowhead\" d=\"M570.0,179.0 L578.0,167.0 562.0,167.0\" fill=\"currentColor\"/>\n",
       "</g>\n",
       "\n",
       "<g class=\"displacy-arrow\">\n",
       "    <path class=\"displacy-arc\" id=\"arrow-4d8d7611d1a042cd97c6f22a29f41194-0-3\" stroke-width=\"2px\" d=\"M770,177.0 C770,89.5 920.0,89.5 920.0,177.0\" fill=\"none\" stroke=\"currentColor\"/>\n",
       "    <text dy=\"1.25em\" style=\"font-size: 0.8em; letter-spacing: 1px\">\n",
       "        <textPath xlink:href=\"#arrow-4d8d7611d1a042cd97c6f22a29f41194-0-3\" class=\"displacy-label\" startOffset=\"50%\" side=\"left\" fill=\"currentColor\" text-anchor=\"middle\">aux</textPath>\n",
       "    </text>\n",
       "    <path class=\"displacy-arrowhead\" d=\"M770,179.0 L762,167.0 778,167.0\" fill=\"currentColor\"/>\n",
       "</g>\n",
       "\n",
       "<g class=\"displacy-arrow\">\n",
       "    <path class=\"displacy-arc\" id=\"arrow-4d8d7611d1a042cd97c6f22a29f41194-0-4\" stroke-width=\"2px\" d=\"M595,177.0 C595,2.0 925.0,2.0 925.0,177.0\" fill=\"none\" stroke=\"currentColor\"/>\n",
       "    <text dy=\"1.25em\" style=\"font-size: 0.8em; letter-spacing: 1px\">\n",
       "        <textPath xlink:href=\"#arrow-4d8d7611d1a042cd97c6f22a29f41194-0-4\" class=\"displacy-label\" startOffset=\"50%\" side=\"left\" fill=\"currentColor\" text-anchor=\"middle\">xcomp</textPath>\n",
       "    </text>\n",
       "    <path class=\"displacy-arrowhead\" d=\"M925.0,179.0 L933.0,167.0 917.0,167.0\" fill=\"currentColor\"/>\n",
       "</g>\n",
       "</svg></span>"
      ],
      "text/plain": [
       "<IPython.core.display.HTML object>"
      ]
     },
     "metadata": {},
     "output_type": "display_data"
    },
    {
     "data": {
      "text/html": [
       "<span class=\"tex2jax_ignore\"><svg xmlns=\"http://www.w3.org/2000/svg\" xmlns:xlink=\"http://www.w3.org/1999/xlink\" xml:lang=\"en\" id=\"ec850f57b5c746e3b09f17ee754af38b-0\" class=\"displacy\" width=\"1100\" height=\"399.5\" direction=\"ltr\" style=\"max-width: none; height: 399.5px; color: #000000; background: #ffffff; font-family: Arial; direction: ltr\">\n",
       "<text class=\"displacy-token\" fill=\"currentColor\" text-anchor=\"middle\" y=\"309.5\">\n",
       "    <tspan class=\"displacy-word\" fill=\"currentColor\" x=\"50\">Lou</tspan>\n",
       "    <tspan class=\"displacy-tag\" dy=\"2em\" fill=\"currentColor\" x=\"50\">INTJ</tspan>\n",
       "</text>\n",
       "\n",
       "<text class=\"displacy-token\" fill=\"currentColor\" text-anchor=\"middle\" y=\"309.5\">\n",
       "    <tspan class=\"displacy-word\" fill=\"currentColor\" x=\"225\">please</tspan>\n",
       "    <tspan class=\"displacy-tag\" dy=\"2em\" fill=\"currentColor\" x=\"225\">INTJ</tspan>\n",
       "</text>\n",
       "\n",
       "<text class=\"displacy-token\" fill=\"currentColor\" text-anchor=\"middle\" y=\"309.5\">\n",
       "    <tspan class=\"displacy-word\" fill=\"currentColor\" x=\"400\">switch</tspan>\n",
       "    <tspan class=\"displacy-tag\" dy=\"2em\" fill=\"currentColor\" x=\"400\">VERB</tspan>\n",
       "</text>\n",
       "\n",
       "<text class=\"displacy-token\" fill=\"currentColor\" text-anchor=\"middle\" y=\"309.5\">\n",
       "    <tspan class=\"displacy-word\" fill=\"currentColor\" x=\"575\">backend</tspan>\n",
       "    <tspan class=\"displacy-tag\" dy=\"2em\" fill=\"currentColor\" x=\"575\">ADJ</tspan>\n",
       "</text>\n",
       "\n",
       "<text class=\"displacy-token\" fill=\"currentColor\" text-anchor=\"middle\" y=\"309.5\">\n",
       "    <tspan class=\"displacy-word\" fill=\"currentColor\" x=\"750\">to</tspan>\n",
       "    <tspan class=\"displacy-tag\" dy=\"2em\" fill=\"currentColor\" x=\"750\">PART</tspan>\n",
       "</text>\n",
       "\n",
       "<text class=\"displacy-token\" fill=\"currentColor\" text-anchor=\"middle\" y=\"309.5\">\n",
       "    <tspan class=\"displacy-word\" fill=\"currentColor\" x=\"925\">backend</tspan>\n",
       "    <tspan class=\"displacy-tag\" dy=\"2em\" fill=\"currentColor\" x=\"925\">VERB</tspan>\n",
       "</text>\n",
       "\n",
       "<g class=\"displacy-arrow\">\n",
       "    <path class=\"displacy-arc\" id=\"arrow-ec850f57b5c746e3b09f17ee754af38b-0-0\" stroke-width=\"2px\" d=\"M70,264.5 C70,89.5 395.0,89.5 395.0,264.5\" fill=\"none\" stroke=\"currentColor\"/>\n",
       "    <text dy=\"1.25em\" style=\"font-size: 0.8em; letter-spacing: 1px\">\n",
       "        <textPath xlink:href=\"#arrow-ec850f57b5c746e3b09f17ee754af38b-0-0\" class=\"displacy-label\" startOffset=\"50%\" side=\"left\" fill=\"currentColor\" text-anchor=\"middle\">nsubj</textPath>\n",
       "    </text>\n",
       "    <path class=\"displacy-arrowhead\" d=\"M70,266.5 L62,254.5 78,254.5\" fill=\"currentColor\"/>\n",
       "</g>\n",
       "\n",
       "<g class=\"displacy-arrow\">\n",
       "    <path class=\"displacy-arc\" id=\"arrow-ec850f57b5c746e3b09f17ee754af38b-0-1\" stroke-width=\"2px\" d=\"M245,264.5 C245,177.0 390.0,177.0 390.0,264.5\" fill=\"none\" stroke=\"currentColor\"/>\n",
       "    <text dy=\"1.25em\" style=\"font-size: 0.8em; letter-spacing: 1px\">\n",
       "        <textPath xlink:href=\"#arrow-ec850f57b5c746e3b09f17ee754af38b-0-1\" class=\"displacy-label\" startOffset=\"50%\" side=\"left\" fill=\"currentColor\" text-anchor=\"middle\">intj</textPath>\n",
       "    </text>\n",
       "    <path class=\"displacy-arrowhead\" d=\"M245,266.5 L237,254.5 253,254.5\" fill=\"currentColor\"/>\n",
       "</g>\n",
       "\n",
       "<g class=\"displacy-arrow\">\n",
       "    <path class=\"displacy-arc\" id=\"arrow-ec850f57b5c746e3b09f17ee754af38b-0-2\" stroke-width=\"2px\" d=\"M420,264.5 C420,177.0 565.0,177.0 565.0,264.5\" fill=\"none\" stroke=\"currentColor\"/>\n",
       "    <text dy=\"1.25em\" style=\"font-size: 0.8em; letter-spacing: 1px\">\n",
       "        <textPath xlink:href=\"#arrow-ec850f57b5c746e3b09f17ee754af38b-0-2\" class=\"displacy-label\" startOffset=\"50%\" side=\"left\" fill=\"currentColor\" text-anchor=\"middle\">dobj</textPath>\n",
       "    </text>\n",
       "    <path class=\"displacy-arrowhead\" d=\"M565.0,266.5 L573.0,254.5 557.0,254.5\" fill=\"currentColor\"/>\n",
       "</g>\n",
       "\n",
       "<g class=\"displacy-arrow\">\n",
       "    <path class=\"displacy-arc\" id=\"arrow-ec850f57b5c746e3b09f17ee754af38b-0-3\" stroke-width=\"2px\" d=\"M770,264.5 C770,177.0 915.0,177.0 915.0,264.5\" fill=\"none\" stroke=\"currentColor\"/>\n",
       "    <text dy=\"1.25em\" style=\"font-size: 0.8em; letter-spacing: 1px\">\n",
       "        <textPath xlink:href=\"#arrow-ec850f57b5c746e3b09f17ee754af38b-0-3\" class=\"displacy-label\" startOffset=\"50%\" side=\"left\" fill=\"currentColor\" text-anchor=\"middle\">aux</textPath>\n",
       "    </text>\n",
       "    <path class=\"displacy-arrowhead\" d=\"M770,266.5 L762,254.5 778,254.5\" fill=\"currentColor\"/>\n",
       "</g>\n",
       "\n",
       "<g class=\"displacy-arrow\">\n",
       "    <path class=\"displacy-arc\" id=\"arrow-ec850f57b5c746e3b09f17ee754af38b-0-4\" stroke-width=\"2px\" d=\"M420,264.5 C420,2.0 925.0,2.0 925.0,264.5\" fill=\"none\" stroke=\"currentColor\"/>\n",
       "    <text dy=\"1.25em\" style=\"font-size: 0.8em; letter-spacing: 1px\">\n",
       "        <textPath xlink:href=\"#arrow-ec850f57b5c746e3b09f17ee754af38b-0-4\" class=\"displacy-label\" startOffset=\"50%\" side=\"left\" fill=\"currentColor\" text-anchor=\"middle\">xcomp</textPath>\n",
       "    </text>\n",
       "    <path class=\"displacy-arrowhead\" d=\"M925.0,266.5 L933.0,254.5 917.0,254.5\" fill=\"currentColor\"/>\n",
       "</g>\n",
       "</svg></span>"
      ],
      "text/plain": [
       "<IPython.core.display.HTML object>"
      ]
     },
     "metadata": {},
     "output_type": "display_data"
    },
    {
     "data": {
      "text/html": [
       "<span class=\"tex2jax_ignore\"><svg xmlns=\"http://www.w3.org/2000/svg\" xmlns:xlink=\"http://www.w3.org/1999/xlink\" xml:lang=\"en\" id=\"138cec886b8d461c8ca81bb74c57d1f8-0\" class=\"displacy\" width=\"925\" height=\"312.0\" direction=\"ltr\" style=\"max-width: none; height: 312.0px; color: #000000; background: #ffffff; font-family: Arial; direction: ltr\">\n",
       "<text class=\"displacy-token\" fill=\"currentColor\" text-anchor=\"middle\" y=\"222.0\">\n",
       "    <tspan class=\"displacy-word\" fill=\"currentColor\" x=\"50\">Lou</tspan>\n",
       "    <tspan class=\"displacy-tag\" dy=\"2em\" fill=\"currentColor\" x=\"50\">INTJ</tspan>\n",
       "</text>\n",
       "\n",
       "<text class=\"displacy-token\" fill=\"currentColor\" text-anchor=\"middle\" y=\"222.0\">\n",
       "    <tspan class=\"displacy-word\" fill=\"currentColor\" x=\"225\">please</tspan>\n",
       "    <tspan class=\"displacy-tag\" dy=\"2em\" fill=\"currentColor\" x=\"225\">INTJ</tspan>\n",
       "</text>\n",
       "\n",
       "<text class=\"displacy-token\" fill=\"currentColor\" text-anchor=\"middle\" y=\"222.0\">\n",
       "    <tspan class=\"displacy-word\" fill=\"currentColor\" x=\"400\">use</tspan>\n",
       "    <tspan class=\"displacy-tag\" dy=\"2em\" fill=\"currentColor\" x=\"400\">VERB</tspan>\n",
       "</text>\n",
       "\n",
       "<text class=\"displacy-token\" fill=\"currentColor\" text-anchor=\"middle\" y=\"222.0\">\n",
       "    <tspan class=\"displacy-word\" fill=\"currentColor\" x=\"575\">backend</tspan>\n",
       "    <tspan class=\"displacy-tag\" dy=\"2em\" fill=\"currentColor\" x=\"575\">ADJ</tspan>\n",
       "</text>\n",
       "\n",
       "<text class=\"displacy-token\" fill=\"currentColor\" text-anchor=\"middle\" y=\"222.0\">\n",
       "    <tspan class=\"displacy-word\" fill=\"currentColor\" x=\"750\">backend</tspan>\n",
       "    <tspan class=\"displacy-tag\" dy=\"2em\" fill=\"currentColor\" x=\"750\">NOUN</tspan>\n",
       "</text>\n",
       "\n",
       "<g class=\"displacy-arrow\">\n",
       "    <path class=\"displacy-arc\" id=\"arrow-138cec886b8d461c8ca81bb74c57d1f8-0-0\" stroke-width=\"2px\" d=\"M70,177.0 C70,2.0 400.0,2.0 400.0,177.0\" fill=\"none\" stroke=\"currentColor\"/>\n",
       "    <text dy=\"1.25em\" style=\"font-size: 0.8em; letter-spacing: 1px\">\n",
       "        <textPath xlink:href=\"#arrow-138cec886b8d461c8ca81bb74c57d1f8-0-0\" class=\"displacy-label\" startOffset=\"50%\" side=\"left\" fill=\"currentColor\" text-anchor=\"middle\">intj</textPath>\n",
       "    </text>\n",
       "    <path class=\"displacy-arrowhead\" d=\"M70,179.0 L62,167.0 78,167.0\" fill=\"currentColor\"/>\n",
       "</g>\n",
       "\n",
       "<g class=\"displacy-arrow\">\n",
       "    <path class=\"displacy-arc\" id=\"arrow-138cec886b8d461c8ca81bb74c57d1f8-0-1\" stroke-width=\"2px\" d=\"M245,177.0 C245,89.5 395.0,89.5 395.0,177.0\" fill=\"none\" stroke=\"currentColor\"/>\n",
       "    <text dy=\"1.25em\" style=\"font-size: 0.8em; letter-spacing: 1px\">\n",
       "        <textPath xlink:href=\"#arrow-138cec886b8d461c8ca81bb74c57d1f8-0-1\" class=\"displacy-label\" startOffset=\"50%\" side=\"left\" fill=\"currentColor\" text-anchor=\"middle\">intj</textPath>\n",
       "    </text>\n",
       "    <path class=\"displacy-arrowhead\" d=\"M245,179.0 L237,167.0 253,167.0\" fill=\"currentColor\"/>\n",
       "</g>\n",
       "\n",
       "<g class=\"displacy-arrow\">\n",
       "    <path class=\"displacy-arc\" id=\"arrow-138cec886b8d461c8ca81bb74c57d1f8-0-2\" stroke-width=\"2px\" d=\"M595,177.0 C595,89.5 745.0,89.5 745.0,177.0\" fill=\"none\" stroke=\"currentColor\"/>\n",
       "    <text dy=\"1.25em\" style=\"font-size: 0.8em; letter-spacing: 1px\">\n",
       "        <textPath xlink:href=\"#arrow-138cec886b8d461c8ca81bb74c57d1f8-0-2\" class=\"displacy-label\" startOffset=\"50%\" side=\"left\" fill=\"currentColor\" text-anchor=\"middle\">amod</textPath>\n",
       "    </text>\n",
       "    <path class=\"displacy-arrowhead\" d=\"M595,179.0 L587,167.0 603,167.0\" fill=\"currentColor\"/>\n",
       "</g>\n",
       "\n",
       "<g class=\"displacy-arrow\">\n",
       "    <path class=\"displacy-arc\" id=\"arrow-138cec886b8d461c8ca81bb74c57d1f8-0-3\" stroke-width=\"2px\" d=\"M420,177.0 C420,2.0 750.0,2.0 750.0,177.0\" fill=\"none\" stroke=\"currentColor\"/>\n",
       "    <text dy=\"1.25em\" style=\"font-size: 0.8em; letter-spacing: 1px\">\n",
       "        <textPath xlink:href=\"#arrow-138cec886b8d461c8ca81bb74c57d1f8-0-3\" class=\"displacy-label\" startOffset=\"50%\" side=\"left\" fill=\"currentColor\" text-anchor=\"middle\">dobj</textPath>\n",
       "    </text>\n",
       "    <path class=\"displacy-arrowhead\" d=\"M750.0,179.0 L758.0,167.0 742.0,167.0\" fill=\"currentColor\"/>\n",
       "</g>\n",
       "</svg></span>"
      ],
      "text/plain": [
       "<IPython.core.display.HTML object>"
      ]
     },
     "metadata": {},
     "output_type": "display_data"
    },
    {
     "data": {
      "text/html": [
       "<span class=\"tex2jax_ignore\"><svg xmlns=\"http://www.w3.org/2000/svg\" xmlns:xlink=\"http://www.w3.org/1999/xlink\" xml:lang=\"en\" id=\"4fccb0e5cd534aa3b223ff6b4c854946-0\" class=\"displacy\" width=\"1100\" height=\"312.0\" direction=\"ltr\" style=\"max-width: none; height: 312.0px; color: #000000; background: #ffffff; font-family: Arial; direction: ltr\">\n",
       "<text class=\"displacy-token\" fill=\"currentColor\" text-anchor=\"middle\" y=\"222.0\">\n",
       "    <tspan class=\"displacy-word\" fill=\"currentColor\" x=\"50\">Lou</tspan>\n",
       "    <tspan class=\"displacy-tag\" dy=\"2em\" fill=\"currentColor\" x=\"50\">INTJ</tspan>\n",
       "</text>\n",
       "\n",
       "<text class=\"displacy-token\" fill=\"currentColor\" text-anchor=\"middle\" y=\"222.0\">\n",
       "    <tspan class=\"displacy-word\" fill=\"currentColor\" x=\"225\">please</tspan>\n",
       "    <tspan class=\"displacy-tag\" dy=\"2em\" fill=\"currentColor\" x=\"225\">INTJ</tspan>\n",
       "</text>\n",
       "\n",
       "<text class=\"displacy-token\" fill=\"currentColor\" text-anchor=\"middle\" y=\"222.0\">\n",
       "    <tspan class=\"displacy-word\" fill=\"currentColor\" x=\"400\">change</tspan>\n",
       "    <tspan class=\"displacy-tag\" dy=\"2em\" fill=\"currentColor\" x=\"400\">VERB</tspan>\n",
       "</text>\n",
       "\n",
       "<text class=\"displacy-token\" fill=\"currentColor\" text-anchor=\"middle\" y=\"222.0\">\n",
       "    <tspan class=\"displacy-word\" fill=\"currentColor\" x=\"575\">to</tspan>\n",
       "    <tspan class=\"displacy-tag\" dy=\"2em\" fill=\"currentColor\" x=\"575\">PART</tspan>\n",
       "</text>\n",
       "\n",
       "<text class=\"displacy-token\" fill=\"currentColor\" text-anchor=\"middle\" y=\"222.0\">\n",
       "    <tspan class=\"displacy-word\" fill=\"currentColor\" x=\"750\">backend</tspan>\n",
       "    <tspan class=\"displacy-tag\" dy=\"2em\" fill=\"currentColor\" x=\"750\">VERB</tspan>\n",
       "</text>\n",
       "\n",
       "<text class=\"displacy-token\" fill=\"currentColor\" text-anchor=\"middle\" y=\"222.0\">\n",
       "    <tspan class=\"displacy-word\" fill=\"currentColor\" x=\"925\">backend</tspan>\n",
       "    <tspan class=\"displacy-tag\" dy=\"2em\" fill=\"currentColor\" x=\"925\">ADJ</tspan>\n",
       "</text>\n",
       "\n",
       "<g class=\"displacy-arrow\">\n",
       "    <path class=\"displacy-arc\" id=\"arrow-4fccb0e5cd534aa3b223ff6b4c854946-0-0\" stroke-width=\"2px\" d=\"M70,177.0 C70,2.0 400.0,2.0 400.0,177.0\" fill=\"none\" stroke=\"currentColor\"/>\n",
       "    <text dy=\"1.25em\" style=\"font-size: 0.8em; letter-spacing: 1px\">\n",
       "        <textPath xlink:href=\"#arrow-4fccb0e5cd534aa3b223ff6b4c854946-0-0\" class=\"displacy-label\" startOffset=\"50%\" side=\"left\" fill=\"currentColor\" text-anchor=\"middle\">nsubj</textPath>\n",
       "    </text>\n",
       "    <path class=\"displacy-arrowhead\" d=\"M70,179.0 L62,167.0 78,167.0\" fill=\"currentColor\"/>\n",
       "</g>\n",
       "\n",
       "<g class=\"displacy-arrow\">\n",
       "    <path class=\"displacy-arc\" id=\"arrow-4fccb0e5cd534aa3b223ff6b4c854946-0-1\" stroke-width=\"2px\" d=\"M245,177.0 C245,89.5 395.0,89.5 395.0,177.0\" fill=\"none\" stroke=\"currentColor\"/>\n",
       "    <text dy=\"1.25em\" style=\"font-size: 0.8em; letter-spacing: 1px\">\n",
       "        <textPath xlink:href=\"#arrow-4fccb0e5cd534aa3b223ff6b4c854946-0-1\" class=\"displacy-label\" startOffset=\"50%\" side=\"left\" fill=\"currentColor\" text-anchor=\"middle\">intj</textPath>\n",
       "    </text>\n",
       "    <path class=\"displacy-arrowhead\" d=\"M245,179.0 L237,167.0 253,167.0\" fill=\"currentColor\"/>\n",
       "</g>\n",
       "\n",
       "<g class=\"displacy-arrow\">\n",
       "    <path class=\"displacy-arc\" id=\"arrow-4fccb0e5cd534aa3b223ff6b4c854946-0-2\" stroke-width=\"2px\" d=\"M595,177.0 C595,89.5 745.0,89.5 745.0,177.0\" fill=\"none\" stroke=\"currentColor\"/>\n",
       "    <text dy=\"1.25em\" style=\"font-size: 0.8em; letter-spacing: 1px\">\n",
       "        <textPath xlink:href=\"#arrow-4fccb0e5cd534aa3b223ff6b4c854946-0-2\" class=\"displacy-label\" startOffset=\"50%\" side=\"left\" fill=\"currentColor\" text-anchor=\"middle\">aux</textPath>\n",
       "    </text>\n",
       "    <path class=\"displacy-arrowhead\" d=\"M595,179.0 L587,167.0 603,167.0\" fill=\"currentColor\"/>\n",
       "</g>\n",
       "\n",
       "<g class=\"displacy-arrow\">\n",
       "    <path class=\"displacy-arc\" id=\"arrow-4fccb0e5cd534aa3b223ff6b4c854946-0-3\" stroke-width=\"2px\" d=\"M420,177.0 C420,2.0 750.0,2.0 750.0,177.0\" fill=\"none\" stroke=\"currentColor\"/>\n",
       "    <text dy=\"1.25em\" style=\"font-size: 0.8em; letter-spacing: 1px\">\n",
       "        <textPath xlink:href=\"#arrow-4fccb0e5cd534aa3b223ff6b4c854946-0-3\" class=\"displacy-label\" startOffset=\"50%\" side=\"left\" fill=\"currentColor\" text-anchor=\"middle\">advcl</textPath>\n",
       "    </text>\n",
       "    <path class=\"displacy-arrowhead\" d=\"M750.0,179.0 L758.0,167.0 742.0,167.0\" fill=\"currentColor\"/>\n",
       "</g>\n",
       "\n",
       "<g class=\"displacy-arrow\">\n",
       "    <path class=\"displacy-arc\" id=\"arrow-4fccb0e5cd534aa3b223ff6b4c854946-0-4\" stroke-width=\"2px\" d=\"M770,177.0 C770,89.5 920.0,89.5 920.0,177.0\" fill=\"none\" stroke=\"currentColor\"/>\n",
       "    <text dy=\"1.25em\" style=\"font-size: 0.8em; letter-spacing: 1px\">\n",
       "        <textPath xlink:href=\"#arrow-4fccb0e5cd534aa3b223ff6b4c854946-0-4\" class=\"displacy-label\" startOffset=\"50%\" side=\"left\" fill=\"currentColor\" text-anchor=\"middle\">dobj</textPath>\n",
       "    </text>\n",
       "    <path class=\"displacy-arrowhead\" d=\"M920.0,179.0 L928.0,167.0 912.0,167.0\" fill=\"currentColor\"/>\n",
       "</g>\n",
       "</svg></span>"
      ],
      "text/plain": [
       "<IPython.core.display.HTML object>"
      ]
     },
     "metadata": {},
     "output_type": "display_data"
    },
    {
     "data": {
      "text/html": [
       "<span class=\"tex2jax_ignore\"><svg xmlns=\"http://www.w3.org/2000/svg\" xmlns:xlink=\"http://www.w3.org/1999/xlink\" xml:lang=\"en\" id=\"a745ca5fc91c4f728aaec6e3a505afcc-0\" class=\"displacy\" width=\"1100\" height=\"312.0\" direction=\"ltr\" style=\"max-width: none; height: 312.0px; color: #000000; background: #ffffff; font-family: Arial; direction: ltr\">\n",
       "<text class=\"displacy-token\" fill=\"currentColor\" text-anchor=\"middle\" y=\"222.0\">\n",
       "    <tspan class=\"displacy-word\" fill=\"currentColor\" x=\"50\">Lou</tspan>\n",
       "    <tspan class=\"displacy-tag\" dy=\"2em\" fill=\"currentColor\" x=\"50\">INTJ</tspan>\n",
       "</text>\n",
       "\n",
       "<text class=\"displacy-token\" fill=\"currentColor\" text-anchor=\"middle\" y=\"222.0\">\n",
       "    <tspan class=\"displacy-word\" fill=\"currentColor\" x=\"225\">please</tspan>\n",
       "    <tspan class=\"displacy-tag\" dy=\"2em\" fill=\"currentColor\" x=\"225\">INTJ</tspan>\n",
       "</text>\n",
       "\n",
       "<text class=\"displacy-token\" fill=\"currentColor\" text-anchor=\"middle\" y=\"222.0\">\n",
       "    <tspan class=\"displacy-word\" fill=\"currentColor\" x=\"400\">switch</tspan>\n",
       "    <tspan class=\"displacy-tag\" dy=\"2em\" fill=\"currentColor\" x=\"400\">VERB</tspan>\n",
       "</text>\n",
       "\n",
       "<text class=\"displacy-token\" fill=\"currentColor\" text-anchor=\"middle\" y=\"222.0\">\n",
       "    <tspan class=\"displacy-word\" fill=\"currentColor\" x=\"575\">to</tspan>\n",
       "    <tspan class=\"displacy-tag\" dy=\"2em\" fill=\"currentColor\" x=\"575\">PART</tspan>\n",
       "</text>\n",
       "\n",
       "<text class=\"displacy-token\" fill=\"currentColor\" text-anchor=\"middle\" y=\"222.0\">\n",
       "    <tspan class=\"displacy-word\" fill=\"currentColor\" x=\"750\">backend</tspan>\n",
       "    <tspan class=\"displacy-tag\" dy=\"2em\" fill=\"currentColor\" x=\"750\">VERB</tspan>\n",
       "</text>\n",
       "\n",
       "<text class=\"displacy-token\" fill=\"currentColor\" text-anchor=\"middle\" y=\"222.0\">\n",
       "    <tspan class=\"displacy-word\" fill=\"currentColor\" x=\"925\">backend</tspan>\n",
       "    <tspan class=\"displacy-tag\" dy=\"2em\" fill=\"currentColor\" x=\"925\">ADJ</tspan>\n",
       "</text>\n",
       "\n",
       "<g class=\"displacy-arrow\">\n",
       "    <path class=\"displacy-arc\" id=\"arrow-a745ca5fc91c4f728aaec6e3a505afcc-0-0\" stroke-width=\"2px\" d=\"M70,177.0 C70,2.0 400.0,2.0 400.0,177.0\" fill=\"none\" stroke=\"currentColor\"/>\n",
       "    <text dy=\"1.25em\" style=\"font-size: 0.8em; letter-spacing: 1px\">\n",
       "        <textPath xlink:href=\"#arrow-a745ca5fc91c4f728aaec6e3a505afcc-0-0\" class=\"displacy-label\" startOffset=\"50%\" side=\"left\" fill=\"currentColor\" text-anchor=\"middle\">nsubj</textPath>\n",
       "    </text>\n",
       "    <path class=\"displacy-arrowhead\" d=\"M70,179.0 L62,167.0 78,167.0\" fill=\"currentColor\"/>\n",
       "</g>\n",
       "\n",
       "<g class=\"displacy-arrow\">\n",
       "    <path class=\"displacy-arc\" id=\"arrow-a745ca5fc91c4f728aaec6e3a505afcc-0-1\" stroke-width=\"2px\" d=\"M245,177.0 C245,89.5 395.0,89.5 395.0,177.0\" fill=\"none\" stroke=\"currentColor\"/>\n",
       "    <text dy=\"1.25em\" style=\"font-size: 0.8em; letter-spacing: 1px\">\n",
       "        <textPath xlink:href=\"#arrow-a745ca5fc91c4f728aaec6e3a505afcc-0-1\" class=\"displacy-label\" startOffset=\"50%\" side=\"left\" fill=\"currentColor\" text-anchor=\"middle\">intj</textPath>\n",
       "    </text>\n",
       "    <path class=\"displacy-arrowhead\" d=\"M245,179.0 L237,167.0 253,167.0\" fill=\"currentColor\"/>\n",
       "</g>\n",
       "\n",
       "<g class=\"displacy-arrow\">\n",
       "    <path class=\"displacy-arc\" id=\"arrow-a745ca5fc91c4f728aaec6e3a505afcc-0-2\" stroke-width=\"2px\" d=\"M595,177.0 C595,89.5 745.0,89.5 745.0,177.0\" fill=\"none\" stroke=\"currentColor\"/>\n",
       "    <text dy=\"1.25em\" style=\"font-size: 0.8em; letter-spacing: 1px\">\n",
       "        <textPath xlink:href=\"#arrow-a745ca5fc91c4f728aaec6e3a505afcc-0-2\" class=\"displacy-label\" startOffset=\"50%\" side=\"left\" fill=\"currentColor\" text-anchor=\"middle\">aux</textPath>\n",
       "    </text>\n",
       "    <path class=\"displacy-arrowhead\" d=\"M595,179.0 L587,167.0 603,167.0\" fill=\"currentColor\"/>\n",
       "</g>\n",
       "\n",
       "<g class=\"displacy-arrow\">\n",
       "    <path class=\"displacy-arc\" id=\"arrow-a745ca5fc91c4f728aaec6e3a505afcc-0-3\" stroke-width=\"2px\" d=\"M420,177.0 C420,2.0 750.0,2.0 750.0,177.0\" fill=\"none\" stroke=\"currentColor\"/>\n",
       "    <text dy=\"1.25em\" style=\"font-size: 0.8em; letter-spacing: 1px\">\n",
       "        <textPath xlink:href=\"#arrow-a745ca5fc91c4f728aaec6e3a505afcc-0-3\" class=\"displacy-label\" startOffset=\"50%\" side=\"left\" fill=\"currentColor\" text-anchor=\"middle\">xcomp</textPath>\n",
       "    </text>\n",
       "    <path class=\"displacy-arrowhead\" d=\"M750.0,179.0 L758.0,167.0 742.0,167.0\" fill=\"currentColor\"/>\n",
       "</g>\n",
       "\n",
       "<g class=\"displacy-arrow\">\n",
       "    <path class=\"displacy-arc\" id=\"arrow-a745ca5fc91c4f728aaec6e3a505afcc-0-4\" stroke-width=\"2px\" d=\"M770,177.0 C770,89.5 920.0,89.5 920.0,177.0\" fill=\"none\" stroke=\"currentColor\"/>\n",
       "    <text dy=\"1.25em\" style=\"font-size: 0.8em; letter-spacing: 1px\">\n",
       "        <textPath xlink:href=\"#arrow-a745ca5fc91c4f728aaec6e3a505afcc-0-4\" class=\"displacy-label\" startOffset=\"50%\" side=\"left\" fill=\"currentColor\" text-anchor=\"middle\">dobj</textPath>\n",
       "    </text>\n",
       "    <path class=\"displacy-arrowhead\" d=\"M920.0,179.0 L928.0,167.0 912.0,167.0\" fill=\"currentColor\"/>\n",
       "</g>\n",
       "</svg></span>"
      ],
      "text/plain": [
       "<IPython.core.display.HTML object>"
      ]
     },
     "metadata": {},
     "output_type": "display_data"
    },
    {
     "data": {
      "text/html": [
       "<span class=\"tex2jax_ignore\"><svg xmlns=\"http://www.w3.org/2000/svg\" xmlns:xlink=\"http://www.w3.org/1999/xlink\" xml:lang=\"en\" id=\"603db62d5dfc49689df24d70480546ed-0\" class=\"displacy\" width=\"925\" height=\"312.0\" direction=\"ltr\" style=\"max-width: none; height: 312.0px; color: #000000; background: #ffffff; font-family: Arial; direction: ltr\">\n",
       "<text class=\"displacy-token\" fill=\"currentColor\" text-anchor=\"middle\" y=\"222.0\">\n",
       "    <tspan class=\"displacy-word\" fill=\"currentColor\" x=\"50\">Lou</tspan>\n",
       "    <tspan class=\"displacy-tag\" dy=\"2em\" fill=\"currentColor\" x=\"50\">PROPN</tspan>\n",
       "</text>\n",
       "\n",
       "<text class=\"displacy-token\" fill=\"currentColor\" text-anchor=\"middle\" y=\"222.0\">\n",
       "    <tspan class=\"displacy-word\" fill=\"currentColor\" x=\"225\">switch</tspan>\n",
       "    <tspan class=\"displacy-tag\" dy=\"2em\" fill=\"currentColor\" x=\"225\">NOUN</tspan>\n",
       "</text>\n",
       "\n",
       "<text class=\"displacy-token\" fill=\"currentColor\" text-anchor=\"middle\" y=\"222.0\">\n",
       "    <tspan class=\"displacy-word\" fill=\"currentColor\" x=\"400\">to</tspan>\n",
       "    <tspan class=\"displacy-tag\" dy=\"2em\" fill=\"currentColor\" x=\"400\">PART</tspan>\n",
       "</text>\n",
       "\n",
       "<text class=\"displacy-token\" fill=\"currentColor\" text-anchor=\"middle\" y=\"222.0\">\n",
       "    <tspan class=\"displacy-word\" fill=\"currentColor\" x=\"575\">backend</tspan>\n",
       "    <tspan class=\"displacy-tag\" dy=\"2em\" fill=\"currentColor\" x=\"575\">VERB</tspan>\n",
       "</text>\n",
       "\n",
       "<text class=\"displacy-token\" fill=\"currentColor\" text-anchor=\"middle\" y=\"222.0\">\n",
       "    <tspan class=\"displacy-word\" fill=\"currentColor\" x=\"750\">backend</tspan>\n",
       "    <tspan class=\"displacy-tag\" dy=\"2em\" fill=\"currentColor\" x=\"750\">ADJ</tspan>\n",
       "</text>\n",
       "\n",
       "<g class=\"displacy-arrow\">\n",
       "    <path class=\"displacy-arc\" id=\"arrow-603db62d5dfc49689df24d70480546ed-0-0\" stroke-width=\"2px\" d=\"M70,177.0 C70,89.5 220.0,89.5 220.0,177.0\" fill=\"none\" stroke=\"currentColor\"/>\n",
       "    <text dy=\"1.25em\" style=\"font-size: 0.8em; letter-spacing: 1px\">\n",
       "        <textPath xlink:href=\"#arrow-603db62d5dfc49689df24d70480546ed-0-0\" class=\"displacy-label\" startOffset=\"50%\" side=\"left\" fill=\"currentColor\" text-anchor=\"middle\">compound</textPath>\n",
       "    </text>\n",
       "    <path class=\"displacy-arrowhead\" d=\"M70,179.0 L62,167.0 78,167.0\" fill=\"currentColor\"/>\n",
       "</g>\n",
       "\n",
       "<g class=\"displacy-arrow\">\n",
       "    <path class=\"displacy-arc\" id=\"arrow-603db62d5dfc49689df24d70480546ed-0-1\" stroke-width=\"2px\" d=\"M420,177.0 C420,89.5 570.0,89.5 570.0,177.0\" fill=\"none\" stroke=\"currentColor\"/>\n",
       "    <text dy=\"1.25em\" style=\"font-size: 0.8em; letter-spacing: 1px\">\n",
       "        <textPath xlink:href=\"#arrow-603db62d5dfc49689df24d70480546ed-0-1\" class=\"displacy-label\" startOffset=\"50%\" side=\"left\" fill=\"currentColor\" text-anchor=\"middle\">aux</textPath>\n",
       "    </text>\n",
       "    <path class=\"displacy-arrowhead\" d=\"M420,179.0 L412,167.0 428,167.0\" fill=\"currentColor\"/>\n",
       "</g>\n",
       "\n",
       "<g class=\"displacy-arrow\">\n",
       "    <path class=\"displacy-arc\" id=\"arrow-603db62d5dfc49689df24d70480546ed-0-2\" stroke-width=\"2px\" d=\"M245,177.0 C245,2.0 575.0,2.0 575.0,177.0\" fill=\"none\" stroke=\"currentColor\"/>\n",
       "    <text dy=\"1.25em\" style=\"font-size: 0.8em; letter-spacing: 1px\">\n",
       "        <textPath xlink:href=\"#arrow-603db62d5dfc49689df24d70480546ed-0-2\" class=\"displacy-label\" startOffset=\"50%\" side=\"left\" fill=\"currentColor\" text-anchor=\"middle\">advcl</textPath>\n",
       "    </text>\n",
       "    <path class=\"displacy-arrowhead\" d=\"M575.0,179.0 L583.0,167.0 567.0,167.0\" fill=\"currentColor\"/>\n",
       "</g>\n",
       "\n",
       "<g class=\"displacy-arrow\">\n",
       "    <path class=\"displacy-arc\" id=\"arrow-603db62d5dfc49689df24d70480546ed-0-3\" stroke-width=\"2px\" d=\"M595,177.0 C595,89.5 745.0,89.5 745.0,177.0\" fill=\"none\" stroke=\"currentColor\"/>\n",
       "    <text dy=\"1.25em\" style=\"font-size: 0.8em; letter-spacing: 1px\">\n",
       "        <textPath xlink:href=\"#arrow-603db62d5dfc49689df24d70480546ed-0-3\" class=\"displacy-label\" startOffset=\"50%\" side=\"left\" fill=\"currentColor\" text-anchor=\"middle\">dobj</textPath>\n",
       "    </text>\n",
       "    <path class=\"displacy-arrowhead\" d=\"M745.0,179.0 L753.0,167.0 737.0,167.0\" fill=\"currentColor\"/>\n",
       "</g>\n",
       "</svg></span>"
      ],
      "text/plain": [
       "<IPython.core.display.HTML object>"
      ]
     },
     "metadata": {},
     "output_type": "display_data"
    },
    {
     "data": {
      "text/html": [
       "<span class=\"tex2jax_ignore\"><svg xmlns=\"http://www.w3.org/2000/svg\" xmlns:xlink=\"http://www.w3.org/1999/xlink\" xml:lang=\"en\" id=\"7ff77b59447543568a0a070c0701e980-0\" class=\"displacy\" width=\"925\" height=\"312.0\" direction=\"ltr\" style=\"max-width: none; height: 312.0px; color: #000000; background: #ffffff; font-family: Arial; direction: ltr\">\n",
       "<text class=\"displacy-token\" fill=\"currentColor\" text-anchor=\"middle\" y=\"222.0\">\n",
       "    <tspan class=\"displacy-word\" fill=\"currentColor\" x=\"50\">Lou</tspan>\n",
       "    <tspan class=\"displacy-tag\" dy=\"2em\" fill=\"currentColor\" x=\"50\">PROPN</tspan>\n",
       "</text>\n",
       "\n",
       "<text class=\"displacy-token\" fill=\"currentColor\" text-anchor=\"middle\" y=\"222.0\">\n",
       "    <tspan class=\"displacy-word\" fill=\"currentColor\" x=\"225\">change</tspan>\n",
       "    <tspan class=\"displacy-tag\" dy=\"2em\" fill=\"currentColor\" x=\"225\">NOUN</tspan>\n",
       "</text>\n",
       "\n",
       "<text class=\"displacy-token\" fill=\"currentColor\" text-anchor=\"middle\" y=\"222.0\">\n",
       "    <tspan class=\"displacy-word\" fill=\"currentColor\" x=\"400\">to</tspan>\n",
       "    <tspan class=\"displacy-tag\" dy=\"2em\" fill=\"currentColor\" x=\"400\">PART</tspan>\n",
       "</text>\n",
       "\n",
       "<text class=\"displacy-token\" fill=\"currentColor\" text-anchor=\"middle\" y=\"222.0\">\n",
       "    <tspan class=\"displacy-word\" fill=\"currentColor\" x=\"575\">backend</tspan>\n",
       "    <tspan class=\"displacy-tag\" dy=\"2em\" fill=\"currentColor\" x=\"575\">VERB</tspan>\n",
       "</text>\n",
       "\n",
       "<text class=\"displacy-token\" fill=\"currentColor\" text-anchor=\"middle\" y=\"222.0\">\n",
       "    <tspan class=\"displacy-word\" fill=\"currentColor\" x=\"750\">backend</tspan>\n",
       "    <tspan class=\"displacy-tag\" dy=\"2em\" fill=\"currentColor\" x=\"750\">ADJ</tspan>\n",
       "</text>\n",
       "\n",
       "<g class=\"displacy-arrow\">\n",
       "    <path class=\"displacy-arc\" id=\"arrow-7ff77b59447543568a0a070c0701e980-0-0\" stroke-width=\"2px\" d=\"M70,177.0 C70,89.5 220.0,89.5 220.0,177.0\" fill=\"none\" stroke=\"currentColor\"/>\n",
       "    <text dy=\"1.25em\" style=\"font-size: 0.8em; letter-spacing: 1px\">\n",
       "        <textPath xlink:href=\"#arrow-7ff77b59447543568a0a070c0701e980-0-0\" class=\"displacy-label\" startOffset=\"50%\" side=\"left\" fill=\"currentColor\" text-anchor=\"middle\">compound</textPath>\n",
       "    </text>\n",
       "    <path class=\"displacy-arrowhead\" d=\"M70,179.0 L62,167.0 78,167.0\" fill=\"currentColor\"/>\n",
       "</g>\n",
       "\n",
       "<g class=\"displacy-arrow\">\n",
       "    <path class=\"displacy-arc\" id=\"arrow-7ff77b59447543568a0a070c0701e980-0-1\" stroke-width=\"2px\" d=\"M420,177.0 C420,89.5 570.0,89.5 570.0,177.0\" fill=\"none\" stroke=\"currentColor\"/>\n",
       "    <text dy=\"1.25em\" style=\"font-size: 0.8em; letter-spacing: 1px\">\n",
       "        <textPath xlink:href=\"#arrow-7ff77b59447543568a0a070c0701e980-0-1\" class=\"displacy-label\" startOffset=\"50%\" side=\"left\" fill=\"currentColor\" text-anchor=\"middle\">aux</textPath>\n",
       "    </text>\n",
       "    <path class=\"displacy-arrowhead\" d=\"M420,179.0 L412,167.0 428,167.0\" fill=\"currentColor\"/>\n",
       "</g>\n",
       "\n",
       "<g class=\"displacy-arrow\">\n",
       "    <path class=\"displacy-arc\" id=\"arrow-7ff77b59447543568a0a070c0701e980-0-2\" stroke-width=\"2px\" d=\"M245,177.0 C245,2.0 575.0,2.0 575.0,177.0\" fill=\"none\" stroke=\"currentColor\"/>\n",
       "    <text dy=\"1.25em\" style=\"font-size: 0.8em; letter-spacing: 1px\">\n",
       "        <textPath xlink:href=\"#arrow-7ff77b59447543568a0a070c0701e980-0-2\" class=\"displacy-label\" startOffset=\"50%\" side=\"left\" fill=\"currentColor\" text-anchor=\"middle\">advcl</textPath>\n",
       "    </text>\n",
       "    <path class=\"displacy-arrowhead\" d=\"M575.0,179.0 L583.0,167.0 567.0,167.0\" fill=\"currentColor\"/>\n",
       "</g>\n",
       "\n",
       "<g class=\"displacy-arrow\">\n",
       "    <path class=\"displacy-arc\" id=\"arrow-7ff77b59447543568a0a070c0701e980-0-3\" stroke-width=\"2px\" d=\"M595,177.0 C595,89.5 745.0,89.5 745.0,177.0\" fill=\"none\" stroke=\"currentColor\"/>\n",
       "    <text dy=\"1.25em\" style=\"font-size: 0.8em; letter-spacing: 1px\">\n",
       "        <textPath xlink:href=\"#arrow-7ff77b59447543568a0a070c0701e980-0-3\" class=\"displacy-label\" startOffset=\"50%\" side=\"left\" fill=\"currentColor\" text-anchor=\"middle\">dobj</textPath>\n",
       "    </text>\n",
       "    <path class=\"displacy-arrowhead\" d=\"M745.0,179.0 L753.0,167.0 737.0,167.0\" fill=\"currentColor\"/>\n",
       "</g>\n",
       "</svg></span>"
      ],
      "text/plain": [
       "<IPython.core.display.HTML object>"
      ]
     },
     "metadata": {},
     "output_type": "display_data"
    },
    {
     "data": {
      "text/html": [
       "<span class=\"tex2jax_ignore\"><svg xmlns=\"http://www.w3.org/2000/svg\" xmlns:xlink=\"http://www.w3.org/1999/xlink\" xml:lang=\"en\" id=\"06e544e473234a159efae92ea7953b0a-0\" class=\"displacy\" width=\"750\" height=\"312.0\" direction=\"ltr\" style=\"max-width: none; height: 312.0px; color: #000000; background: #ffffff; font-family: Arial; direction: ltr\">\n",
       "<text class=\"displacy-token\" fill=\"currentColor\" text-anchor=\"middle\" y=\"222.0\">\n",
       "    <tspan class=\"displacy-word\" fill=\"currentColor\" x=\"50\">Lou</tspan>\n",
       "    <tspan class=\"displacy-tag\" dy=\"2em\" fill=\"currentColor\" x=\"50\">PROPN</tspan>\n",
       "</text>\n",
       "\n",
       "<text class=\"displacy-token\" fill=\"currentColor\" text-anchor=\"middle\" y=\"222.0\">\n",
       "    <tspan class=\"displacy-word\" fill=\"currentColor\" x=\"225\">use</tspan>\n",
       "    <tspan class=\"displacy-tag\" dy=\"2em\" fill=\"currentColor\" x=\"225\">VERB</tspan>\n",
       "</text>\n",
       "\n",
       "<text class=\"displacy-token\" fill=\"currentColor\" text-anchor=\"middle\" y=\"222.0\">\n",
       "    <tspan class=\"displacy-word\" fill=\"currentColor\" x=\"400\">backend</tspan>\n",
       "    <tspan class=\"displacy-tag\" dy=\"2em\" fill=\"currentColor\" x=\"400\">ADJ</tspan>\n",
       "</text>\n",
       "\n",
       "<text class=\"displacy-token\" fill=\"currentColor\" text-anchor=\"middle\" y=\"222.0\">\n",
       "    <tspan class=\"displacy-word\" fill=\"currentColor\" x=\"575\">backend</tspan>\n",
       "    <tspan class=\"displacy-tag\" dy=\"2em\" fill=\"currentColor\" x=\"575\">NOUN</tspan>\n",
       "</text>\n",
       "\n",
       "<g class=\"displacy-arrow\">\n",
       "    <path class=\"displacy-arc\" id=\"arrow-06e544e473234a159efae92ea7953b0a-0-0\" stroke-width=\"2px\" d=\"M70,177.0 C70,89.5 220.0,89.5 220.0,177.0\" fill=\"none\" stroke=\"currentColor\"/>\n",
       "    <text dy=\"1.25em\" style=\"font-size: 0.8em; letter-spacing: 1px\">\n",
       "        <textPath xlink:href=\"#arrow-06e544e473234a159efae92ea7953b0a-0-0\" class=\"displacy-label\" startOffset=\"50%\" side=\"left\" fill=\"currentColor\" text-anchor=\"middle\">nsubj</textPath>\n",
       "    </text>\n",
       "    <path class=\"displacy-arrowhead\" d=\"M70,179.0 L62,167.0 78,167.0\" fill=\"currentColor\"/>\n",
       "</g>\n",
       "\n",
       "<g class=\"displacy-arrow\">\n",
       "    <path class=\"displacy-arc\" id=\"arrow-06e544e473234a159efae92ea7953b0a-0-1\" stroke-width=\"2px\" d=\"M420,177.0 C420,89.5 570.0,89.5 570.0,177.0\" fill=\"none\" stroke=\"currentColor\"/>\n",
       "    <text dy=\"1.25em\" style=\"font-size: 0.8em; letter-spacing: 1px\">\n",
       "        <textPath xlink:href=\"#arrow-06e544e473234a159efae92ea7953b0a-0-1\" class=\"displacy-label\" startOffset=\"50%\" side=\"left\" fill=\"currentColor\" text-anchor=\"middle\">amod</textPath>\n",
       "    </text>\n",
       "    <path class=\"displacy-arrowhead\" d=\"M420,179.0 L412,167.0 428,167.0\" fill=\"currentColor\"/>\n",
       "</g>\n",
       "\n",
       "<g class=\"displacy-arrow\">\n",
       "    <path class=\"displacy-arc\" id=\"arrow-06e544e473234a159efae92ea7953b0a-0-2\" stroke-width=\"2px\" d=\"M245,177.0 C245,2.0 575.0,2.0 575.0,177.0\" fill=\"none\" stroke=\"currentColor\"/>\n",
       "    <text dy=\"1.25em\" style=\"font-size: 0.8em; letter-spacing: 1px\">\n",
       "        <textPath xlink:href=\"#arrow-06e544e473234a159efae92ea7953b0a-0-2\" class=\"displacy-label\" startOffset=\"50%\" side=\"left\" fill=\"currentColor\" text-anchor=\"middle\">dobj</textPath>\n",
       "    </text>\n",
       "    <path class=\"displacy-arrowhead\" d=\"M575.0,179.0 L583.0,167.0 567.0,167.0\" fill=\"currentColor\"/>\n",
       "</g>\n",
       "</svg></span>"
      ],
      "text/plain": [
       "<IPython.core.display.HTML object>"
      ]
     },
     "metadata": {},
     "output_type": "display_data"
    },
    {
     "data": {
      "text/html": [
       "<span class=\"tex2jax_ignore\"><svg xmlns=\"http://www.w3.org/2000/svg\" xmlns:xlink=\"http://www.w3.org/1999/xlink\" xml:lang=\"en\" id=\"1c79305963ea4b398e60713470192fdd-0\" class=\"displacy\" width=\"925\" height=\"312.0\" direction=\"ltr\" style=\"max-width: none; height: 312.0px; color: #000000; background: #ffffff; font-family: Arial; direction: ltr\">\n",
       "<text class=\"displacy-token\" fill=\"currentColor\" text-anchor=\"middle\" y=\"222.0\">\n",
       "    <tspan class=\"displacy-word\" fill=\"currentColor\" x=\"50\">Lou</tspan>\n",
       "    <tspan class=\"displacy-tag\" dy=\"2em\" fill=\"currentColor\" x=\"50\">PROPN</tspan>\n",
       "</text>\n",
       "\n",
       "<text class=\"displacy-token\" fill=\"currentColor\" text-anchor=\"middle\" y=\"222.0\">\n",
       "    <tspan class=\"displacy-word\" fill=\"currentColor\" x=\"225\">switch</tspan>\n",
       "    <tspan class=\"displacy-tag\" dy=\"2em\" fill=\"currentColor\" x=\"225\">NOUN</tspan>\n",
       "</text>\n",
       "\n",
       "<text class=\"displacy-token\" fill=\"currentColor\" text-anchor=\"middle\" y=\"222.0\">\n",
       "    <tspan class=\"displacy-word\" fill=\"currentColor\" x=\"400\">backend</tspan>\n",
       "    <tspan class=\"displacy-tag\" dy=\"2em\" fill=\"currentColor\" x=\"400\">ADJ</tspan>\n",
       "</text>\n",
       "\n",
       "<text class=\"displacy-token\" fill=\"currentColor\" text-anchor=\"middle\" y=\"222.0\">\n",
       "    <tspan class=\"displacy-word\" fill=\"currentColor\" x=\"575\">to</tspan>\n",
       "    <tspan class=\"displacy-tag\" dy=\"2em\" fill=\"currentColor\" x=\"575\">PART</tspan>\n",
       "</text>\n",
       "\n",
       "<text class=\"displacy-token\" fill=\"currentColor\" text-anchor=\"middle\" y=\"222.0\">\n",
       "    <tspan class=\"displacy-word\" fill=\"currentColor\" x=\"750\">backend</tspan>\n",
       "    <tspan class=\"displacy-tag\" dy=\"2em\" fill=\"currentColor\" x=\"750\">VERB</tspan>\n",
       "</text>\n",
       "\n",
       "<g class=\"displacy-arrow\">\n",
       "    <path class=\"displacy-arc\" id=\"arrow-1c79305963ea4b398e60713470192fdd-0-0\" stroke-width=\"2px\" d=\"M70,177.0 C70,89.5 220.0,89.5 220.0,177.0\" fill=\"none\" stroke=\"currentColor\"/>\n",
       "    <text dy=\"1.25em\" style=\"font-size: 0.8em; letter-spacing: 1px\">\n",
       "        <textPath xlink:href=\"#arrow-1c79305963ea4b398e60713470192fdd-0-0\" class=\"displacy-label\" startOffset=\"50%\" side=\"left\" fill=\"currentColor\" text-anchor=\"middle\">nsubj</textPath>\n",
       "    </text>\n",
       "    <path class=\"displacy-arrowhead\" d=\"M70,179.0 L62,167.0 78,167.0\" fill=\"currentColor\"/>\n",
       "</g>\n",
       "\n",
       "<g class=\"displacy-arrow\">\n",
       "    <path class=\"displacy-arc\" id=\"arrow-1c79305963ea4b398e60713470192fdd-0-1\" stroke-width=\"2px\" d=\"M245,177.0 C245,89.5 395.0,89.5 395.0,177.0\" fill=\"none\" stroke=\"currentColor\"/>\n",
       "    <text dy=\"1.25em\" style=\"font-size: 0.8em; letter-spacing: 1px\">\n",
       "        <textPath xlink:href=\"#arrow-1c79305963ea4b398e60713470192fdd-0-1\" class=\"displacy-label\" startOffset=\"50%\" side=\"left\" fill=\"currentColor\" text-anchor=\"middle\">dobj</textPath>\n",
       "    </text>\n",
       "    <path class=\"displacy-arrowhead\" d=\"M395.0,179.0 L403.0,167.0 387.0,167.0\" fill=\"currentColor\"/>\n",
       "</g>\n",
       "\n",
       "<g class=\"displacy-arrow\">\n",
       "    <path class=\"displacy-arc\" id=\"arrow-1c79305963ea4b398e60713470192fdd-0-2\" stroke-width=\"2px\" d=\"M595,177.0 C595,89.5 745.0,89.5 745.0,177.0\" fill=\"none\" stroke=\"currentColor\"/>\n",
       "    <text dy=\"1.25em\" style=\"font-size: 0.8em; letter-spacing: 1px\">\n",
       "        <textPath xlink:href=\"#arrow-1c79305963ea4b398e60713470192fdd-0-2\" class=\"displacy-label\" startOffset=\"50%\" side=\"left\" fill=\"currentColor\" text-anchor=\"middle\">aux</textPath>\n",
       "    </text>\n",
       "    <path class=\"displacy-arrowhead\" d=\"M595,179.0 L587,167.0 603,167.0\" fill=\"currentColor\"/>\n",
       "</g>\n",
       "\n",
       "<g class=\"displacy-arrow\">\n",
       "    <path class=\"displacy-arc\" id=\"arrow-1c79305963ea4b398e60713470192fdd-0-3\" stroke-width=\"2px\" d=\"M245,177.0 C245,2.0 750.0,2.0 750.0,177.0\" fill=\"none\" stroke=\"currentColor\"/>\n",
       "    <text dy=\"1.25em\" style=\"font-size: 0.8em; letter-spacing: 1px\">\n",
       "        <textPath xlink:href=\"#arrow-1c79305963ea4b398e60713470192fdd-0-3\" class=\"displacy-label\" startOffset=\"50%\" side=\"left\" fill=\"currentColor\" text-anchor=\"middle\">advcl</textPath>\n",
       "    </text>\n",
       "    <path class=\"displacy-arrowhead\" d=\"M750.0,179.0 L758.0,167.0 742.0,167.0\" fill=\"currentColor\"/>\n",
       "</g>\n",
       "</svg></span>"
      ],
      "text/plain": [
       "<IPython.core.display.HTML object>"
      ]
     },
     "metadata": {},
     "output_type": "display_data"
    },
    {
     "data": {
      "text/html": [
       "<span class=\"tex2jax_ignore\"><svg xmlns=\"http://www.w3.org/2000/svg\" xmlns:xlink=\"http://www.w3.org/1999/xlink\" xml:lang=\"en\" id=\"64039a6e5d0b4e3ebe626f97b548d213-0\" class=\"displacy\" width=\"925\" height=\"312.0\" direction=\"ltr\" style=\"max-width: none; height: 312.0px; color: #000000; background: #ffffff; font-family: Arial; direction: ltr\">\n",
       "<text class=\"displacy-token\" fill=\"currentColor\" text-anchor=\"middle\" y=\"222.0\">\n",
       "    <tspan class=\"displacy-word\" fill=\"currentColor\" x=\"50\">Lou</tspan>\n",
       "    <tspan class=\"displacy-tag\" dy=\"2em\" fill=\"currentColor\" x=\"50\">PROPN</tspan>\n",
       "</text>\n",
       "\n",
       "<text class=\"displacy-token\" fill=\"currentColor\" text-anchor=\"middle\" y=\"222.0\">\n",
       "    <tspan class=\"displacy-word\" fill=\"currentColor\" x=\"225\">change</tspan>\n",
       "    <tspan class=\"displacy-tag\" dy=\"2em\" fill=\"currentColor\" x=\"225\">NOUN</tspan>\n",
       "</text>\n",
       "\n",
       "<text class=\"displacy-token\" fill=\"currentColor\" text-anchor=\"middle\" y=\"222.0\">\n",
       "    <tspan class=\"displacy-word\" fill=\"currentColor\" x=\"400\">backend</tspan>\n",
       "    <tspan class=\"displacy-tag\" dy=\"2em\" fill=\"currentColor\" x=\"400\">ADJ</tspan>\n",
       "</text>\n",
       "\n",
       "<text class=\"displacy-token\" fill=\"currentColor\" text-anchor=\"middle\" y=\"222.0\">\n",
       "    <tspan class=\"displacy-word\" fill=\"currentColor\" x=\"575\">to</tspan>\n",
       "    <tspan class=\"displacy-tag\" dy=\"2em\" fill=\"currentColor\" x=\"575\">PART</tspan>\n",
       "</text>\n",
       "\n",
       "<text class=\"displacy-token\" fill=\"currentColor\" text-anchor=\"middle\" y=\"222.0\">\n",
       "    <tspan class=\"displacy-word\" fill=\"currentColor\" x=\"750\">backend</tspan>\n",
       "    <tspan class=\"displacy-tag\" dy=\"2em\" fill=\"currentColor\" x=\"750\">VERB</tspan>\n",
       "</text>\n",
       "\n",
       "<g class=\"displacy-arrow\">\n",
       "    <path class=\"displacy-arc\" id=\"arrow-64039a6e5d0b4e3ebe626f97b548d213-0-0\" stroke-width=\"2px\" d=\"M70,177.0 C70,89.5 220.0,89.5 220.0,177.0\" fill=\"none\" stroke=\"currentColor\"/>\n",
       "    <text dy=\"1.25em\" style=\"font-size: 0.8em; letter-spacing: 1px\">\n",
       "        <textPath xlink:href=\"#arrow-64039a6e5d0b4e3ebe626f97b548d213-0-0\" class=\"displacy-label\" startOffset=\"50%\" side=\"left\" fill=\"currentColor\" text-anchor=\"middle\">compound</textPath>\n",
       "    </text>\n",
       "    <path class=\"displacy-arrowhead\" d=\"M70,179.0 L62,167.0 78,167.0\" fill=\"currentColor\"/>\n",
       "</g>\n",
       "\n",
       "<g class=\"displacy-arrow\">\n",
       "    <path class=\"displacy-arc\" id=\"arrow-64039a6e5d0b4e3ebe626f97b548d213-0-1\" stroke-width=\"2px\" d=\"M245,177.0 C245,89.5 395.0,89.5 395.0,177.0\" fill=\"none\" stroke=\"currentColor\"/>\n",
       "    <text dy=\"1.25em\" style=\"font-size: 0.8em; letter-spacing: 1px\">\n",
       "        <textPath xlink:href=\"#arrow-64039a6e5d0b4e3ebe626f97b548d213-0-1\" class=\"displacy-label\" startOffset=\"50%\" side=\"left\" fill=\"currentColor\" text-anchor=\"middle\">amod</textPath>\n",
       "    </text>\n",
       "    <path class=\"displacy-arrowhead\" d=\"M395.0,179.0 L403.0,167.0 387.0,167.0\" fill=\"currentColor\"/>\n",
       "</g>\n",
       "\n",
       "<g class=\"displacy-arrow\">\n",
       "    <path class=\"displacy-arc\" id=\"arrow-64039a6e5d0b4e3ebe626f97b548d213-0-2\" stroke-width=\"2px\" d=\"M595,177.0 C595,89.5 745.0,89.5 745.0,177.0\" fill=\"none\" stroke=\"currentColor\"/>\n",
       "    <text dy=\"1.25em\" style=\"font-size: 0.8em; letter-spacing: 1px\">\n",
       "        <textPath xlink:href=\"#arrow-64039a6e5d0b4e3ebe626f97b548d213-0-2\" class=\"displacy-label\" startOffset=\"50%\" side=\"left\" fill=\"currentColor\" text-anchor=\"middle\">aux</textPath>\n",
       "    </text>\n",
       "    <path class=\"displacy-arrowhead\" d=\"M595,179.0 L587,167.0 603,167.0\" fill=\"currentColor\"/>\n",
       "</g>\n",
       "\n",
       "<g class=\"displacy-arrow\">\n",
       "    <path class=\"displacy-arc\" id=\"arrow-64039a6e5d0b4e3ebe626f97b548d213-0-3\" stroke-width=\"2px\" d=\"M420,177.0 C420,2.0 750.0,2.0 750.0,177.0\" fill=\"none\" stroke=\"currentColor\"/>\n",
       "    <text dy=\"1.25em\" style=\"font-size: 0.8em; letter-spacing: 1px\">\n",
       "        <textPath xlink:href=\"#arrow-64039a6e5d0b4e3ebe626f97b548d213-0-3\" class=\"displacy-label\" startOffset=\"50%\" side=\"left\" fill=\"currentColor\" text-anchor=\"middle\">xcomp</textPath>\n",
       "    </text>\n",
       "    <path class=\"displacy-arrowhead\" d=\"M750.0,179.0 L758.0,167.0 742.0,167.0\" fill=\"currentColor\"/>\n",
       "</g>\n",
       "</svg></span>"
      ],
      "text/plain": [
       "<IPython.core.display.HTML object>"
      ]
     },
     "metadata": {},
     "output_type": "display_data"
    }
   ],
   "source": [
    "for doc in docs:\n",
    "    displacy.render(doc, style='dep', jupyter=True)"
   ]
  }
 ],
 "metadata": {
  "kernelspec": {
   "display_name": "Python 3",
   "language": "python",
   "name": "python3"
  },
  "language_info": {
   "codemirror_mode": {
    "name": "ipython",
    "version": 3
   },
   "file_extension": ".py",
   "mimetype": "text/x-python",
   "name": "python",
   "nbconvert_exporter": "python",
   "pygments_lexer": "ipython3",
   "version": "3.7.3"
  }
 },
 "nbformat": 4,
 "nbformat_minor": 2
}
